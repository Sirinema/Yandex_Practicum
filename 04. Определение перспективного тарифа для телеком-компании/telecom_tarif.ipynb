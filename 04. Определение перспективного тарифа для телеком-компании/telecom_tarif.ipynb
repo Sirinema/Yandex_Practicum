{
 "cells": [
  {
   "cell_type": "markdown",
   "metadata": {},
   "source": [
    "# Определение перспективного тарифа для телеком-компани"
   ]
  },
  {
   "cell_type": "markdown",
   "metadata": {},
   "source": [
    "Компания «Мегалайн» — федеральный оператор сотовой связи. Клиентам предлагает два тарифных плана: «Смарт» и «Ультра». Чтобы скорректировать рекламный бюджет, коммерческий департамент хочет понять, какой тариф приносит больше денег.\n",
    "Нам предстоит сделать предварительный анализ тарифов на небольшой выборке клиентов. В нашем распоряжении данные 500 пользователей «Мегалайна»: кто они, откуда, каким тарифом пользуются, сколько звонков и сообщений каждый отправил за 2018 год. Нужно проанализировать поведение клиентов и сделать вывод — какой тариф лучше."
   ]
  },
  {
   "cell_type": "markdown",
   "metadata": {
    "toc": true
   },
   "source": [
    "<h1>Содержание<span class=\"tocSkip\"></span></h1>\n",
    "<div class=\"toc\"><ul class=\"toc-item\"><li><span><a href=\"#Обзор-данных\" data-toc-modified-id=\"Обзор-данных-1\"><span class=\"toc-item-num\">1&nbsp;&nbsp;</span>Обзор данных</a></span></li><li><span><a href=\"#Предобработка-данных\" data-toc-modified-id=\"Предобработка-данных-2\"><span class=\"toc-item-num\">2&nbsp;&nbsp;</span>Предобработка данных</a></span><ul class=\"toc-item\"><li><span><a href=\"#Таблица-users\" data-toc-modified-id=\"Таблица-users-2.1\"><span class=\"toc-item-num\">2.1&nbsp;&nbsp;</span>Таблица users</a></span><ul class=\"toc-item\"><li><span><a href=\"#Столбец--user_id\" data-toc-modified-id=\"Столбец--user_id-2.1.1\"><span class=\"toc-item-num\">2.1.1&nbsp;&nbsp;</span>Столбец  user_id</a></span></li><li><span><a href=\"#Столбец--first_name-и--last_name\" data-toc-modified-id=\"Столбец--first_name-и--last_name-2.1.2\"><span class=\"toc-item-num\">2.1.2&nbsp;&nbsp;</span>Столбец  first_name и  last_name</a></span></li><li><span><a href=\"#Столбец--age\" data-toc-modified-id=\"Столбец--age-2.1.3\"><span class=\"toc-item-num\">2.1.3&nbsp;&nbsp;</span>Столбец  age</a></span></li><li><span><a href=\"#Столбец--reg_date\" data-toc-modified-id=\"Столбец--reg_date-2.1.4\"><span class=\"toc-item-num\">2.1.4&nbsp;&nbsp;</span>Столбец  reg_date</a></span></li><li><span><a href=\"#Столбец--churn_date\" data-toc-modified-id=\"Столбец--churn_date-2.1.5\"><span class=\"toc-item-num\">2.1.5&nbsp;&nbsp;</span>Столбец  churn_date</a></span></li><li><span><a href=\"#Столбец--city\" data-toc-modified-id=\"Столбец--city-2.1.6\"><span class=\"toc-item-num\">2.1.6&nbsp;&nbsp;</span>Столбец  city</a></span></li><li><span><a href=\"#Столбец--tariff\" data-toc-modified-id=\"Столбец--tariff-2.1.7\"><span class=\"toc-item-num\">2.1.7&nbsp;&nbsp;</span>Столбец  tariff</a></span></li></ul></li><li><span><a href=\"#Таблица-calls\" data-toc-modified-id=\"Таблица-calls-2.2\"><span class=\"toc-item-num\">2.2&nbsp;&nbsp;</span>Таблица calls</a></span><ul class=\"toc-item\"><li><span><a href=\"#Столбец--id\" data-toc-modified-id=\"Столбец--id-2.2.1\"><span class=\"toc-item-num\">2.2.1&nbsp;&nbsp;</span>Столбец  id</a></span></li><li><span><a href=\"#Столбец--call_date\" data-toc-modified-id=\"Столбец--call_date-2.2.2\"><span class=\"toc-item-num\">2.2.2&nbsp;&nbsp;</span>Столбец  call_date</a></span></li><li><span><a href=\"#Столбец--duration\" data-toc-modified-id=\"Столбец--duration-2.2.3\"><span class=\"toc-item-num\">2.2.3&nbsp;&nbsp;</span>Столбец  duration</a></span></li><li><span><a href=\"#Столбец--user_id\" data-toc-modified-id=\"Столбец--user_id-2.2.4\"><span class=\"toc-item-num\">2.2.4&nbsp;&nbsp;</span>Столбец  user_id</a></span></li></ul></li><li><span><a href=\"#Таблица-messages\" data-toc-modified-id=\"Таблица-messages-2.3\"><span class=\"toc-item-num\">2.3&nbsp;&nbsp;</span>Таблица messages</a></span><ul class=\"toc-item\"><li><span><a href=\"#Столбец--id\" data-toc-modified-id=\"Столбец--id-2.3.1\"><span class=\"toc-item-num\">2.3.1&nbsp;&nbsp;</span>Столбец  id</a></span></li><li><span><a href=\"#Столбец--message_date\" data-toc-modified-id=\"Столбец--message_date-2.3.2\"><span class=\"toc-item-num\">2.3.2&nbsp;&nbsp;</span>Столбец  message_date</a></span></li><li><span><a href=\"#Столбец--user_id\" data-toc-modified-id=\"Столбец--user_id-2.3.3\"><span class=\"toc-item-num\">2.3.3&nbsp;&nbsp;</span>Столбец  user_id</a></span></li></ul></li><li><span><a href=\"#Таблица-internet\" data-toc-modified-id=\"Таблица-internet-2.4\"><span class=\"toc-item-num\">2.4&nbsp;&nbsp;</span>Таблица internet</a></span><ul class=\"toc-item\"><li><span><a href=\"#Столбец--id\" data-toc-modified-id=\"Столбец--id-2.4.1\"><span class=\"toc-item-num\">2.4.1&nbsp;&nbsp;</span>Столбец  id</a></span></li><li><span><a href=\"#Столбец--mb_used\" data-toc-modified-id=\"Столбец--mb_used-2.4.2\"><span class=\"toc-item-num\">2.4.2&nbsp;&nbsp;</span>Столбец  mb_used</a></span></li><li><span><a href=\"#Столбец--session_date\" data-toc-modified-id=\"Столбец--session_date-2.4.3\"><span class=\"toc-item-num\">2.4.3&nbsp;&nbsp;</span>Столбец  session_date</a></span></li><li><span><a href=\"#Столбец--user_id\" data-toc-modified-id=\"Столбец--user_id-2.4.4\"><span class=\"toc-item-num\">2.4.4&nbsp;&nbsp;</span>Столбец  user_id</a></span></li></ul></li><li><span><a href=\"#Расчет--показателей-для-каждого-пользователя\" data-toc-modified-id=\"Расчет--показателей-для-каждого-пользователя-2.5\"><span class=\"toc-item-num\">2.5&nbsp;&nbsp;</span>Расчет  показателей для каждого пользователя</a></span><ul class=\"toc-item\"><li><span><a href=\"#Расчет-звонков-по-месяцам\" data-toc-modified-id=\"Расчет-звонков-по-месяцам-2.5.1\"><span class=\"toc-item-num\">2.5.1&nbsp;&nbsp;</span>Расчет звонков по месяцам</a></span></li><li><span><a href=\"#Расчет-сообщений-по-месяцам\" data-toc-modified-id=\"Расчет-сообщений-по-месяцам-2.5.2\"><span class=\"toc-item-num\">2.5.2&nbsp;&nbsp;</span>Расчет сообщений по месяцам</a></span></li><li><span><a href=\"#Расчет-интернет-трафика-по-месяцам\" data-toc-modified-id=\"Расчет-интернет-трафика-по-месяцам-2.5.3\"><span class=\"toc-item-num\">2.5.3&nbsp;&nbsp;</span>Расчет интернет трафика по месяцам</a></span></li><li><span><a href=\"#Объединение-данных\" data-toc-modified-id=\"Объединение-данных-2.5.4\"><span class=\"toc-item-num\">2.5.4&nbsp;&nbsp;</span>Объединение данных</a></span></li><li><span><a href=\"#Расчет-помесячной-выручки--каждого-пользователя.\" data-toc-modified-id=\"Расчет-помесячной-выручки--каждого-пользователя.-2.5.5\"><span class=\"toc-item-num\">2.5.5&nbsp;&nbsp;</span>Расчет помесячной выручки  каждого пользователя.</a></span></li></ul></li></ul></li><li><span><a href=\"#Анализ-данных\" data-toc-modified-id=\"Анализ-данных-3\"><span class=\"toc-item-num\">3&nbsp;&nbsp;</span>Анализ данных</a></span></li><li><span><a href=\"#Проверка-гипотез\" data-toc-modified-id=\"Проверка-гипотез-4\"><span class=\"toc-item-num\">4&nbsp;&nbsp;</span>Проверка гипотез</a></span><ul class=\"toc-item\"><li><span><a href=\"#Cредняя-выручка-пользователей-тарифов-«Ультра»-и-«Смарт»-различается\" data-toc-modified-id=\"Cредняя-выручка-пользователей-тарифов-«Ультра»-и-«Смарт»-различается-4.1\"><span class=\"toc-item-num\">4.1&nbsp;&nbsp;</span>Cредняя выручка пользователей тарифов «Ультра» и «Смарт» различается</a></span></li><li><span><a href=\"#Cредняя-выручка-пользователей-из-Москвы-отличается-от-выручки-пользователей-из-других-регионов\" data-toc-modified-id=\"Cредняя-выручка-пользователей-из-Москвы-отличается-от-выручки-пользователей-из-других-регионов-4.2\"><span class=\"toc-item-num\">4.2&nbsp;&nbsp;</span>Cредняя выручка пользователей из Москвы отличается от выручки пользователей из других регионов</a></span></li></ul></li><li><span><a href=\"#Общий-вывод\" data-toc-modified-id=\"Общий-вывод-5\"><span class=\"toc-item-num\">5&nbsp;&nbsp;</span>Общий вывод</a></span></li></ul></div>"
   ]
  },
  {
   "cell_type": "markdown",
   "metadata": {},
   "source": [
    "## Обзор данных"
   ]
  },
  {
   "cell_type": "code",
   "execution_count": 1,
   "metadata": {},
   "outputs": [],
   "source": [
    "# импорт необходимых библиотек\n",
    "import pandas as pd\n",
    "import numpy as np\n",
    "import matplotlib.pyplot as plt\n",
    "from scipy import stats as st\n",
    "from pymystem3 import Mystem\n",
    "m = Mystem()\n",
    "\n",
    "import warnings\n",
    "warnings.filterwarnings('ignore')"
   ]
  },
  {
   "cell_type": "code",
   "execution_count": 2,
   "metadata": {},
   "outputs": [],
   "source": [
    "# открываем файлы с данными\n",
    "calls = pd.read_csv('calls.csv')\n",
    "internet = pd.read_csv('internet.csv')\n",
    "messages = pd.read_csv('messages.csv')\n",
    "tariffs = pd.read_csv('tariffs.csv')\n",
    "users = pd.read_csv('users.csv')"
   ]
  },
  {
   "cell_type": "code",
   "execution_count": 3,
   "metadata": {
    "scrolled": false
   },
   "outputs": [
    {
     "data": {
      "text/html": [
       "<div>\n",
       "<style scoped>\n",
       "    .dataframe tbody tr th:only-of-type {\n",
       "        vertical-align: middle;\n",
       "    }\n",
       "\n",
       "    .dataframe tbody tr th {\n",
       "        vertical-align: top;\n",
       "    }\n",
       "\n",
       "    .dataframe thead th {\n",
       "        text-align: right;\n",
       "    }\n",
       "</style>\n",
       "<table border=\"1\" class=\"dataframe\">\n",
       "  <thead>\n",
       "    <tr style=\"text-align: right;\">\n",
       "      <th></th>\n",
       "      <th>id</th>\n",
       "      <th>call_date</th>\n",
       "      <th>duration</th>\n",
       "      <th>user_id</th>\n",
       "    </tr>\n",
       "  </thead>\n",
       "  <tbody>\n",
       "    <tr>\n",
       "      <td>0</td>\n",
       "      <td>1000_0</td>\n",
       "      <td>2018-07-25</td>\n",
       "      <td>0.00</td>\n",
       "      <td>1000</td>\n",
       "    </tr>\n",
       "    <tr>\n",
       "      <td>1</td>\n",
       "      <td>1000_1</td>\n",
       "      <td>2018-08-17</td>\n",
       "      <td>0.00</td>\n",
       "      <td>1000</td>\n",
       "    </tr>\n",
       "    <tr>\n",
       "      <td>2</td>\n",
       "      <td>1000_2</td>\n",
       "      <td>2018-06-11</td>\n",
       "      <td>2.85</td>\n",
       "      <td>1000</td>\n",
       "    </tr>\n",
       "    <tr>\n",
       "      <td>3</td>\n",
       "      <td>1000_3</td>\n",
       "      <td>2018-09-21</td>\n",
       "      <td>13.80</td>\n",
       "      <td>1000</td>\n",
       "    </tr>\n",
       "    <tr>\n",
       "      <td>4</td>\n",
       "      <td>1000_4</td>\n",
       "      <td>2018-12-15</td>\n",
       "      <td>5.18</td>\n",
       "      <td>1000</td>\n",
       "    </tr>\n",
       "  </tbody>\n",
       "</table>\n",
       "</div>"
      ],
      "text/plain": [
       "       id   call_date  duration  user_id\n",
       "0  1000_0  2018-07-25      0.00     1000\n",
       "1  1000_1  2018-08-17      0.00     1000\n",
       "2  1000_2  2018-06-11      2.85     1000\n",
       "3  1000_3  2018-09-21     13.80     1000\n",
       "4  1000_4  2018-12-15      5.18     1000"
      ]
     },
     "metadata": {},
     "output_type": "display_data"
    },
    {
     "data": {
      "text/html": [
       "<div>\n",
       "<style scoped>\n",
       "    .dataframe tbody tr th:only-of-type {\n",
       "        vertical-align: middle;\n",
       "    }\n",
       "\n",
       "    .dataframe tbody tr th {\n",
       "        vertical-align: top;\n",
       "    }\n",
       "\n",
       "    .dataframe thead th {\n",
       "        text-align: right;\n",
       "    }\n",
       "</style>\n",
       "<table border=\"1\" class=\"dataframe\">\n",
       "  <thead>\n",
       "    <tr style=\"text-align: right;\">\n",
       "      <th></th>\n",
       "      <th>Unnamed: 0</th>\n",
       "      <th>id</th>\n",
       "      <th>mb_used</th>\n",
       "      <th>session_date</th>\n",
       "      <th>user_id</th>\n",
       "    </tr>\n",
       "  </thead>\n",
       "  <tbody>\n",
       "    <tr>\n",
       "      <td>0</td>\n",
       "      <td>0</td>\n",
       "      <td>1000_0</td>\n",
       "      <td>112.95</td>\n",
       "      <td>2018-11-25</td>\n",
       "      <td>1000</td>\n",
       "    </tr>\n",
       "    <tr>\n",
       "      <td>1</td>\n",
       "      <td>1</td>\n",
       "      <td>1000_1</td>\n",
       "      <td>1052.81</td>\n",
       "      <td>2018-09-07</td>\n",
       "      <td>1000</td>\n",
       "    </tr>\n",
       "    <tr>\n",
       "      <td>2</td>\n",
       "      <td>2</td>\n",
       "      <td>1000_2</td>\n",
       "      <td>1197.26</td>\n",
       "      <td>2018-06-25</td>\n",
       "      <td>1000</td>\n",
       "    </tr>\n",
       "    <tr>\n",
       "      <td>3</td>\n",
       "      <td>3</td>\n",
       "      <td>1000_3</td>\n",
       "      <td>550.27</td>\n",
       "      <td>2018-08-22</td>\n",
       "      <td>1000</td>\n",
       "    </tr>\n",
       "    <tr>\n",
       "      <td>4</td>\n",
       "      <td>4</td>\n",
       "      <td>1000_4</td>\n",
       "      <td>302.56</td>\n",
       "      <td>2018-09-24</td>\n",
       "      <td>1000</td>\n",
       "    </tr>\n",
       "  </tbody>\n",
       "</table>\n",
       "</div>"
      ],
      "text/plain": [
       "   Unnamed: 0      id  mb_used session_date  user_id\n",
       "0           0  1000_0   112.95   2018-11-25     1000\n",
       "1           1  1000_1  1052.81   2018-09-07     1000\n",
       "2           2  1000_2  1197.26   2018-06-25     1000\n",
       "3           3  1000_3   550.27   2018-08-22     1000\n",
       "4           4  1000_4   302.56   2018-09-24     1000"
      ]
     },
     "metadata": {},
     "output_type": "display_data"
    },
    {
     "data": {
      "text/html": [
       "<div>\n",
       "<style scoped>\n",
       "    .dataframe tbody tr th:only-of-type {\n",
       "        vertical-align: middle;\n",
       "    }\n",
       "\n",
       "    .dataframe tbody tr th {\n",
       "        vertical-align: top;\n",
       "    }\n",
       "\n",
       "    .dataframe thead th {\n",
       "        text-align: right;\n",
       "    }\n",
       "</style>\n",
       "<table border=\"1\" class=\"dataframe\">\n",
       "  <thead>\n",
       "    <tr style=\"text-align: right;\">\n",
       "      <th></th>\n",
       "      <th>id</th>\n",
       "      <th>message_date</th>\n",
       "      <th>user_id</th>\n",
       "    </tr>\n",
       "  </thead>\n",
       "  <tbody>\n",
       "    <tr>\n",
       "      <td>0</td>\n",
       "      <td>1000_0</td>\n",
       "      <td>2018-06-27</td>\n",
       "      <td>1000</td>\n",
       "    </tr>\n",
       "    <tr>\n",
       "      <td>1</td>\n",
       "      <td>1000_1</td>\n",
       "      <td>2018-10-08</td>\n",
       "      <td>1000</td>\n",
       "    </tr>\n",
       "    <tr>\n",
       "      <td>2</td>\n",
       "      <td>1000_2</td>\n",
       "      <td>2018-08-04</td>\n",
       "      <td>1000</td>\n",
       "    </tr>\n",
       "    <tr>\n",
       "      <td>3</td>\n",
       "      <td>1000_3</td>\n",
       "      <td>2018-06-16</td>\n",
       "      <td>1000</td>\n",
       "    </tr>\n",
       "    <tr>\n",
       "      <td>4</td>\n",
       "      <td>1000_4</td>\n",
       "      <td>2018-12-05</td>\n",
       "      <td>1000</td>\n",
       "    </tr>\n",
       "  </tbody>\n",
       "</table>\n",
       "</div>"
      ],
      "text/plain": [
       "       id message_date  user_id\n",
       "0  1000_0   2018-06-27     1000\n",
       "1  1000_1   2018-10-08     1000\n",
       "2  1000_2   2018-08-04     1000\n",
       "3  1000_3   2018-06-16     1000\n",
       "4  1000_4   2018-12-05     1000"
      ]
     },
     "metadata": {},
     "output_type": "display_data"
    },
    {
     "data": {
      "text/html": [
       "<div>\n",
       "<style scoped>\n",
       "    .dataframe tbody tr th:only-of-type {\n",
       "        vertical-align: middle;\n",
       "    }\n",
       "\n",
       "    .dataframe tbody tr th {\n",
       "        vertical-align: top;\n",
       "    }\n",
       "\n",
       "    .dataframe thead th {\n",
       "        text-align: right;\n",
       "    }\n",
       "</style>\n",
       "<table border=\"1\" class=\"dataframe\">\n",
       "  <thead>\n",
       "    <tr style=\"text-align: right;\">\n",
       "      <th></th>\n",
       "      <th>messages_included</th>\n",
       "      <th>mb_per_month_included</th>\n",
       "      <th>minutes_included</th>\n",
       "      <th>rub_monthly_fee</th>\n",
       "      <th>rub_per_gb</th>\n",
       "      <th>rub_per_message</th>\n",
       "      <th>rub_per_minute</th>\n",
       "      <th>tariff_name</th>\n",
       "    </tr>\n",
       "  </thead>\n",
       "  <tbody>\n",
       "    <tr>\n",
       "      <td>0</td>\n",
       "      <td>50</td>\n",
       "      <td>15360</td>\n",
       "      <td>500</td>\n",
       "      <td>550</td>\n",
       "      <td>200</td>\n",
       "      <td>3</td>\n",
       "      <td>3</td>\n",
       "      <td>smart</td>\n",
       "    </tr>\n",
       "    <tr>\n",
       "      <td>1</td>\n",
       "      <td>1000</td>\n",
       "      <td>30720</td>\n",
       "      <td>3000</td>\n",
       "      <td>1950</td>\n",
       "      <td>150</td>\n",
       "      <td>1</td>\n",
       "      <td>1</td>\n",
       "      <td>ultra</td>\n",
       "    </tr>\n",
       "  </tbody>\n",
       "</table>\n",
       "</div>"
      ],
      "text/plain": [
       "   messages_included  mb_per_month_included  minutes_included  \\\n",
       "0                 50                  15360               500   \n",
       "1               1000                  30720              3000   \n",
       "\n",
       "   rub_monthly_fee  rub_per_gb  rub_per_message  rub_per_minute tariff_name  \n",
       "0              550         200                3               3       smart  \n",
       "1             1950         150                1               1       ultra  "
      ]
     },
     "metadata": {},
     "output_type": "display_data"
    },
    {
     "data": {
      "text/html": [
       "<div>\n",
       "<style scoped>\n",
       "    .dataframe tbody tr th:only-of-type {\n",
       "        vertical-align: middle;\n",
       "    }\n",
       "\n",
       "    .dataframe tbody tr th {\n",
       "        vertical-align: top;\n",
       "    }\n",
       "\n",
       "    .dataframe thead th {\n",
       "        text-align: right;\n",
       "    }\n",
       "</style>\n",
       "<table border=\"1\" class=\"dataframe\">\n",
       "  <thead>\n",
       "    <tr style=\"text-align: right;\">\n",
       "      <th></th>\n",
       "      <th>user_id</th>\n",
       "      <th>age</th>\n",
       "      <th>churn_date</th>\n",
       "      <th>city</th>\n",
       "      <th>first_name</th>\n",
       "      <th>last_name</th>\n",
       "      <th>reg_date</th>\n",
       "      <th>tariff</th>\n",
       "    </tr>\n",
       "  </thead>\n",
       "  <tbody>\n",
       "    <tr>\n",
       "      <td>0</td>\n",
       "      <td>1000</td>\n",
       "      <td>52</td>\n",
       "      <td>NaN</td>\n",
       "      <td>Краснодар</td>\n",
       "      <td>Рафаил</td>\n",
       "      <td>Верещагин</td>\n",
       "      <td>2018-05-25</td>\n",
       "      <td>ultra</td>\n",
       "    </tr>\n",
       "    <tr>\n",
       "      <td>1</td>\n",
       "      <td>1001</td>\n",
       "      <td>41</td>\n",
       "      <td>NaN</td>\n",
       "      <td>Москва</td>\n",
       "      <td>Иван</td>\n",
       "      <td>Ежов</td>\n",
       "      <td>2018-11-01</td>\n",
       "      <td>smart</td>\n",
       "    </tr>\n",
       "    <tr>\n",
       "      <td>2</td>\n",
       "      <td>1002</td>\n",
       "      <td>59</td>\n",
       "      <td>NaN</td>\n",
       "      <td>Стерлитамак</td>\n",
       "      <td>Евгений</td>\n",
       "      <td>Абрамович</td>\n",
       "      <td>2018-06-17</td>\n",
       "      <td>smart</td>\n",
       "    </tr>\n",
       "    <tr>\n",
       "      <td>3</td>\n",
       "      <td>1003</td>\n",
       "      <td>23</td>\n",
       "      <td>NaN</td>\n",
       "      <td>Москва</td>\n",
       "      <td>Белла</td>\n",
       "      <td>Белякова</td>\n",
       "      <td>2018-08-17</td>\n",
       "      <td>ultra</td>\n",
       "    </tr>\n",
       "    <tr>\n",
       "      <td>4</td>\n",
       "      <td>1004</td>\n",
       "      <td>68</td>\n",
       "      <td>NaN</td>\n",
       "      <td>Новокузнецк</td>\n",
       "      <td>Татьяна</td>\n",
       "      <td>Авдеенко</td>\n",
       "      <td>2018-05-14</td>\n",
       "      <td>ultra</td>\n",
       "    </tr>\n",
       "  </tbody>\n",
       "</table>\n",
       "</div>"
      ],
      "text/plain": [
       "   user_id  age churn_date         city first_name  last_name    reg_date  \\\n",
       "0     1000   52        NaN    Краснодар     Рафаил  Верещагин  2018-05-25   \n",
       "1     1001   41        NaN       Москва       Иван       Ежов  2018-11-01   \n",
       "2     1002   59        NaN  Стерлитамак    Евгений  Абрамович  2018-06-17   \n",
       "3     1003   23        NaN       Москва      Белла   Белякова  2018-08-17   \n",
       "4     1004   68        NaN  Новокузнецк    Татьяна   Авдеенко  2018-05-14   \n",
       "\n",
       "  tariff  \n",
       "0  ultra  \n",
       "1  smart  \n",
       "2  smart  \n",
       "3  ultra  \n",
       "4  ultra  "
      ]
     },
     "execution_count": 3,
     "metadata": {},
     "output_type": "execute_result"
    }
   ],
   "source": [
    "# смотрим первые строки таблиц\n",
    "display(calls.head())\n",
    "display(internet.head())\n",
    "display(messages.head())\n",
    "display(tariffs.head())\n",
    "users.head()"
   ]
  },
  {
   "cell_type": "code",
   "execution_count": 4,
   "metadata": {
    "scrolled": false
   },
   "outputs": [
    {
     "name": "stdout",
     "output_type": "stream",
     "text": [
      "<class 'pandas.core.frame.DataFrame'>\n",
      "RangeIndex: 202607 entries, 0 to 202606\n",
      "Data columns (total 4 columns):\n",
      "id           202607 non-null object\n",
      "call_date    202607 non-null object\n",
      "duration     202607 non-null float64\n",
      "user_id      202607 non-null int64\n",
      "dtypes: float64(1), int64(1), object(2)\n",
      "memory usage: 6.2+ MB\n"
     ]
    },
    {
     "data": {
      "text/plain": [
       "None"
      ]
     },
     "metadata": {},
     "output_type": "display_data"
    },
    {
     "name": "stdout",
     "output_type": "stream",
     "text": [
      "<class 'pandas.core.frame.DataFrame'>\n",
      "RangeIndex: 149396 entries, 0 to 149395\n",
      "Data columns (total 5 columns):\n",
      "Unnamed: 0      149396 non-null int64\n",
      "id              149396 non-null object\n",
      "mb_used         149396 non-null float64\n",
      "session_date    149396 non-null object\n",
      "user_id         149396 non-null int64\n",
      "dtypes: float64(1), int64(2), object(2)\n",
      "memory usage: 5.7+ MB\n"
     ]
    },
    {
     "data": {
      "text/plain": [
       "None"
      ]
     },
     "metadata": {},
     "output_type": "display_data"
    },
    {
     "name": "stdout",
     "output_type": "stream",
     "text": [
      "<class 'pandas.core.frame.DataFrame'>\n",
      "RangeIndex: 123036 entries, 0 to 123035\n",
      "Data columns (total 3 columns):\n",
      "id              123036 non-null object\n",
      "message_date    123036 non-null object\n",
      "user_id         123036 non-null int64\n",
      "dtypes: int64(1), object(2)\n",
      "memory usage: 2.8+ MB\n"
     ]
    },
    {
     "data": {
      "text/plain": [
       "None"
      ]
     },
     "metadata": {},
     "output_type": "display_data"
    },
    {
     "name": "stdout",
     "output_type": "stream",
     "text": [
      "<class 'pandas.core.frame.DataFrame'>\n",
      "RangeIndex: 2 entries, 0 to 1\n",
      "Data columns (total 8 columns):\n",
      "messages_included        2 non-null int64\n",
      "mb_per_month_included    2 non-null int64\n",
      "minutes_included         2 non-null int64\n",
      "rub_monthly_fee          2 non-null int64\n",
      "rub_per_gb               2 non-null int64\n",
      "rub_per_message          2 non-null int64\n",
      "rub_per_minute           2 non-null int64\n",
      "tariff_name              2 non-null object\n",
      "dtypes: int64(7), object(1)\n",
      "memory usage: 256.0+ bytes\n"
     ]
    },
    {
     "data": {
      "text/plain": [
       "None"
      ]
     },
     "metadata": {},
     "output_type": "display_data"
    },
    {
     "name": "stdout",
     "output_type": "stream",
     "text": [
      "<class 'pandas.core.frame.DataFrame'>\n",
      "RangeIndex: 500 entries, 0 to 499\n",
      "Data columns (total 8 columns):\n",
      "user_id       500 non-null int64\n",
      "age           500 non-null int64\n",
      "churn_date    38 non-null object\n",
      "city          500 non-null object\n",
      "first_name    500 non-null object\n",
      "last_name     500 non-null object\n",
      "reg_date      500 non-null object\n",
      "tariff        500 non-null object\n",
      "dtypes: int64(2), object(6)\n",
      "memory usage: 31.4+ KB\n"
     ]
    }
   ],
   "source": [
    "# общая информация о таблицах\n",
    "display(calls.info())\n",
    "display(internet.info())\n",
    "display(messages.info())\n",
    "display(tariffs.info())\n",
    "users.info()"
   ]
  },
  {
   "cell_type": "markdown",
   "metadata": {},
   "source": [
    "**Вывод**\n",
    "\n",
    "У нас 5 таблиц, в таблицах данные о звонках, сообщениях, использованном интернете и пользователях. Также, есть маленькая таблица из 2 строк с описанием тарифов.\n",
    "\n",
    "Таблица `users` (информация о пользователях):\n",
    "* `user_id` — уникальный идентификатор пользователя\n",
    "* `first_name` — имя пользователя\n",
    "* `last_name` — фамилия пользователя\n",
    "* `age` — возраст пользователя (годы)\n",
    "* `reg_date` — дата подключения тарифа (день, месяц, год)\n",
    "* `churn_date` — дата прекращения пользования тарифом (если значение пропущено, то тариф ещё действовал на момент выгрузки данных)\n",
    "* `city` — город проживания пользователя\n",
    "* `tariff` — название тарифного плана\n",
    "\n",
    "\n",
    "Таблица `calls` (информация о звонках):\n",
    "* `id` — уникальный номер звонка\n",
    "* `call_date` — дата звонка\n",
    "* `duration` — длительность звонка в минутах\n",
    "* `user_id` — идентификатор пользователя, сделавшего звонок\n",
    "\n",
    "\n",
    "Таблица `messages` (информация о сообщениях):\n",
    "* `id` — уникальный номер сообщения\n",
    "* `message_date` — дата сообщения\n",
    "* `user_id` — идентификатор пользователя, отправившего сообщение\n",
    "\n",
    "\n",
    "Таблица `internet` (информация об интернет-сессиях):\n",
    "* `id` — уникальный номер сессии\n",
    "* `mb_used` — объём потраченного за сессию интернет-трафика (в мегабайтах)\n",
    "* `session_date` — дата интернет-сессии\n",
    "* `user_id` — идентификатор пользователя\n",
    "\n",
    "\n",
    "Таблица `tariffs` (информация о тарифах):\n",
    "* `tariff_name` — название тарифа\n",
    "* `rub_monthly_fee` — ежемесячная абонентская плата в рублях\n",
    "* `minutes_included` — количество минут разговора в месяц, включённых в абонентскую плату\n",
    "* `messages_included` — количество сообщений в месяц, включённых в абонентскую плату\n",
    "* `mb_per_month_included` — объём интернет-трафика, включённого в абонентскую плату (в мегабайтах)\n",
    "* `rub_per_minute` — стоимость минуты разговора сверх тарифного пакета (например, если в тарифе 100 минут разговора в месяц, то со 101 минуты будет взиматься плата)\n",
    "* `rub_per_message` — стоимость отправки сообщения сверх тарифного пакета\n",
    "* `rub_per_gb` — стоимость дополнительного гигабайта интернет-трафика сверх тарифного пакета (1 гигабайт = 1024 мегабайта)\n",
    "\n",
    "Из общей информации видим, что у нас 500 пользователей и 202607 строк в таблице `calls`. В таблицах `messages` и `internet` строк меньше: 123036 и 149396 соответственно."
   ]
  },
  {
   "cell_type": "markdown",
   "metadata": {},
   "source": [
    "## Предобработка данных\n"
   ]
  },
  {
   "cell_type": "markdown",
   "metadata": {},
   "source": [
    " Рассмотрим все таблицы по порядку на выявление аномальных значений."
   ]
  },
  {
   "cell_type": "markdown",
   "metadata": {},
   "source": [
    " ### Таблица users"
   ]
  },
  {
   "cell_type": "markdown",
   "metadata": {},
   "source": [
    "#### Столбец  user_id"
   ]
  },
  {
   "cell_type": "code",
   "execution_count": 5,
   "metadata": {},
   "outputs": [
    {
     "data": {
      "text/plain": [
       "1023    1\n",
       "1194    1\n",
       "1181    1\n",
       "1182    1\n",
       "1183    1\n",
       "       ..\n",
       "1362    1\n",
       "1363    1\n",
       "1364    1\n",
       "1365    1\n",
       "1024    1\n",
       "Name: user_id, Length: 500, dtype: int64"
      ]
     },
     "execution_count": 5,
     "metadata": {},
     "output_type": "execute_result"
    }
   ],
   "source": [
    "# смотрим уникальные значения\n",
    "users['user_id'].value_counts()"
   ]
  },
  {
   "cell_type": "markdown",
   "metadata": {},
   "source": [
    "У нас 500 пользователей, столько же и уникальных значений в столбце. Аномальных значений и повторов нет."
   ]
  },
  {
   "cell_type": "markdown",
   "metadata": {},
   "source": [
    "#### Столбец  first_name и  last_name"
   ]
  },
  {
   "cell_type": "markdown",
   "metadata": {},
   "source": [
    "Проверим есть ли у нас тёзки или дубликаты, объединим имя и фамилию, посмотрим сколько уникальных значений, для этого создадим  датафрейм со столбцами: оригинальные значения - `original` и лемматизированные - `lemm`"
   ]
  },
  {
   "cell_type": "code",
   "execution_count": 6,
   "metadata": {
    "scrolled": true
   },
   "outputs": [
    {
     "data": {
      "text/plain": [
       "0       Верещагин Рафаил\n",
       "1              Ежов Иван\n",
       "2      Абрамович Евгений\n",
       "3         Белякова Белла\n",
       "4       Авдеенко Татьяна\n",
       "             ...        \n",
       "495      Фокин Авксентий\n",
       "496        Блохин Трифон\n",
       "497      Агеева Каролина\n",
       "498     Акимчин Всеволод\n",
       "499      Корнилов Гектор\n",
       "Name: original, Length: 500, dtype: object"
      ]
     },
     "execution_count": 6,
     "metadata": {},
     "output_type": "execute_result"
    }
   ],
   "source": [
    "# создаём датафрейм с  объединёными именем и фамилией\n",
    "full_name = pd.DataFrame(columns = ['original', 'lemm'])\n",
    "full_name['original'] = users['last_name'] + \" \" + users['first_name']\n",
    "full_name['original']"
   ]
  },
  {
   "cell_type": "code",
   "execution_count": 7,
   "metadata": {},
   "outputs": [],
   "source": [
    "# Функция получает строку лемматизирует её, затем собирает и возвращает результат\n",
    "def lemm_list(st):\n",
    "    w = m.lemmatize(st)\n",
    "    w.pop()\n",
    "    return ''.join(w)\n",
    "\n",
    "full_name['lemm'] = full_name['original'].apply(lemm_list)"
   ]
  },
  {
   "cell_type": "code",
   "execution_count": 8,
   "metadata": {
    "scrolled": true
   },
   "outputs": [
    {
     "data": {
      "text/html": [
       "<div>\n",
       "<style scoped>\n",
       "    .dataframe tbody tr th:only-of-type {\n",
       "        vertical-align: middle;\n",
       "    }\n",
       "\n",
       "    .dataframe tbody tr th {\n",
       "        vertical-align: top;\n",
       "    }\n",
       "\n",
       "    .dataframe thead th {\n",
       "        text-align: right;\n",
       "    }\n",
       "</style>\n",
       "<table border=\"1\" class=\"dataframe\">\n",
       "  <thead>\n",
       "    <tr style=\"text-align: right;\">\n",
       "      <th></th>\n",
       "      <th>original</th>\n",
       "      <th>lemm</th>\n",
       "    </tr>\n",
       "  </thead>\n",
       "  <tbody>\n",
       "    <tr>\n",
       "      <td>0</td>\n",
       "      <td>Верещагин Рафаил</td>\n",
       "      <td>верещагин рафаил</td>\n",
       "    </tr>\n",
       "    <tr>\n",
       "      <td>1</td>\n",
       "      <td>Ежов Иван</td>\n",
       "      <td>ежов иван</td>\n",
       "    </tr>\n",
       "    <tr>\n",
       "      <td>2</td>\n",
       "      <td>Абрамович Евгений</td>\n",
       "      <td>абрамович евгений</td>\n",
       "    </tr>\n",
       "    <tr>\n",
       "      <td>3</td>\n",
       "      <td>Белякова Белла</td>\n",
       "      <td>беляков белла</td>\n",
       "    </tr>\n",
       "    <tr>\n",
       "      <td>4</td>\n",
       "      <td>Авдеенко Татьяна</td>\n",
       "      <td>авдеенко татьяна</td>\n",
       "    </tr>\n",
       "    <tr>\n",
       "      <td>...</td>\n",
       "      <td>...</td>\n",
       "      <td>...</td>\n",
       "    </tr>\n",
       "    <tr>\n",
       "      <td>495</td>\n",
       "      <td>Фокин Авксентий</td>\n",
       "      <td>фокин авксентий</td>\n",
       "    </tr>\n",
       "    <tr>\n",
       "      <td>496</td>\n",
       "      <td>Блохин Трифон</td>\n",
       "      <td>блохин трифон</td>\n",
       "    </tr>\n",
       "    <tr>\n",
       "      <td>497</td>\n",
       "      <td>Агеева Каролина</td>\n",
       "      <td>агеева каролина</td>\n",
       "    </tr>\n",
       "    <tr>\n",
       "      <td>498</td>\n",
       "      <td>Акимчин Всеволод</td>\n",
       "      <td>акимчин всеволод</td>\n",
       "    </tr>\n",
       "    <tr>\n",
       "      <td>499</td>\n",
       "      <td>Корнилов Гектор</td>\n",
       "      <td>корнилов гектор</td>\n",
       "    </tr>\n",
       "  </tbody>\n",
       "</table>\n",
       "<p>500 rows × 2 columns</p>\n",
       "</div>"
      ],
      "text/plain": [
       "              original               lemm\n",
       "0     Верещагин Рафаил   верещагин рафаил\n",
       "1            Ежов Иван          ежов иван\n",
       "2    Абрамович Евгений  абрамович евгений\n",
       "3       Белякова Белла      беляков белла\n",
       "4     Авдеенко Татьяна   авдеенко татьяна\n",
       "..                 ...                ...\n",
       "495    Фокин Авксентий    фокин авксентий\n",
       "496      Блохин Трифон      блохин трифон\n",
       "497    Агеева Каролина    агеева каролина\n",
       "498   Акимчин Всеволод   акимчин всеволод\n",
       "499    Корнилов Гектор    корнилов гектор\n",
       "\n",
       "[500 rows x 2 columns]"
      ]
     },
     "execution_count": 8,
     "metadata": {},
     "output_type": "execute_result"
    }
   ],
   "source": [
    "full_name"
   ]
  },
  {
   "cell_type": "code",
   "execution_count": 9,
   "metadata": {
    "scrolled": true
   },
   "outputs": [
    {
     "data": {
      "text/plain": [
       "тимофеева елена       1\n",
       "кулагин лола          1\n",
       "алексеева роксана     1\n",
       "рудаков яков          1\n",
       "завьялова виктория    1\n",
       "                     ..\n",
       "свиридов глеб         1\n",
       "мальцев степан        1\n",
       "аркадьев леонид       1\n",
       "родионов фаддей       1\n",
       "малышев авксентий     1\n",
       "Name: lemm, Length: 500, dtype: int64"
      ]
     },
     "execution_count": 9,
     "metadata": {},
     "output_type": "execute_result"
    }
   ],
   "source": [
    "# проверяем уникальные значения\n",
    "full_name['lemm'].value_counts()"
   ]
  },
  {
   "cell_type": "markdown",
   "metadata": {},
   "source": [
    "500 уникальных значений - тёзки отсутствуют"
   ]
  },
  {
   "cell_type": "markdown",
   "metadata": {},
   "source": [
    "#### Столбец  age"
   ]
  },
  {
   "cell_type": "code",
   "execution_count": 10,
   "metadata": {
    "scrolled": true
   },
   "outputs": [
    {
     "data": {
      "text/plain": [
       "count    500.00000\n",
       "mean      46.58800\n",
       "std       16.66763\n",
       "min       18.00000\n",
       "25%       32.00000\n",
       "50%       46.00000\n",
       "75%       62.00000\n",
       "max       75.00000\n",
       "Name: age, dtype: float64"
      ]
     },
     "execution_count": 10,
     "metadata": {},
     "output_type": "execute_result"
    }
   ],
   "source": [
    "# числовое описание столбца\n",
    "users['age'].describe()"
   ]
  },
  {
   "cell_type": "markdown",
   "metadata": {},
   "source": [
    "Возраст пользоватетей в выборке от 18 до 75 лет "
   ]
  },
  {
   "cell_type": "markdown",
   "metadata": {},
   "source": [
    "#### Столбец  reg_date"
   ]
  },
  {
   "cell_type": "code",
   "execution_count": 11,
   "metadata": {},
   "outputs": [],
   "source": [
    "# меняем тип данных\n",
    "users['reg_date'] = pd.to_datetime(users['reg_date'], format='%Y-%m-%d')"
   ]
  },
  {
   "cell_type": "code",
   "execution_count": 12,
   "metadata": {
    "scrolled": false
   },
   "outputs": [
    {
     "data": {
      "text/plain": [
       "count                     500\n",
       "unique                    270\n",
       "top       2018-05-28 00:00:00\n",
       "freq                        8\n",
       "first     2018-01-01 00:00:00\n",
       "last      2018-12-31 00:00:00\n",
       "Name: reg_date, dtype: object"
      ]
     },
     "execution_count": 12,
     "metadata": {},
     "output_type": "execute_result"
    }
   ],
   "source": [
    "# числовое описание столбца\n",
    "users['reg_date'].describe()"
   ]
  },
  {
   "cell_type": "markdown",
   "metadata": {},
   "source": [
    "#### Столбец  churn_date"
   ]
  },
  {
   "cell_type": "code",
   "execution_count": 13,
   "metadata": {},
   "outputs": [
    {
     "data": {
      "text/plain": [
       "462"
      ]
     },
     "execution_count": 13,
     "metadata": {},
     "output_type": "execute_result"
    }
   ],
   "source": [
    "# проверяем количество пропусков\n",
    "users['churn_date'].isna().sum()"
   ]
  },
  {
   "cell_type": "markdown",
   "metadata": {},
   "source": [
    "В документации сказано, что в этом столбце  указана дата прекращения пользования тарифом. Соответственноесли значение пропущено, то тариф ещё действовал на момент выгрузки данных.  Оставим пропуски как есть. "
   ]
  },
  {
   "cell_type": "code",
   "execution_count": 14,
   "metadata": {},
   "outputs": [],
   "source": [
    "# меняем тип данных\n",
    "users['churn_date'] = pd.to_datetime(users['churn_date'], format='%Y-%m-%d')"
   ]
  },
  {
   "cell_type": "code",
   "execution_count": 15,
   "metadata": {},
   "outputs": [
    {
     "data": {
      "text/plain": [
       "count                      38\n",
       "unique                     33\n",
       "top       2018-10-03 00:00:00\n",
       "freq                        2\n",
       "first     2018-08-17 00:00:00\n",
       "last      2018-12-30 00:00:00\n",
       "Name: churn_date, dtype: object"
      ]
     },
     "execution_count": 15,
     "metadata": {},
     "output_type": "execute_result"
    }
   ],
   "source": [
    "# числовое описание столбца\n",
    "users['churn_date'].describe()"
   ]
  },
  {
   "cell_type": "markdown",
   "metadata": {},
   "source": [
    "#### Столбец  city"
   ]
  },
  {
   "cell_type": "code",
   "execution_count": 16,
   "metadata": {},
   "outputs": [
    {
     "data": {
      "text/plain": [
       "Москва             99\n",
       "Санкт-Петербург    39\n",
       "Новосибирск        16\n",
       "Казань             14\n",
       "Омск               14\n",
       "                   ..\n",
       "Нижневартовск       1\n",
       "Химки               1\n",
       "Подольск            1\n",
       "Архангельск         1\n",
       "Иваново             1\n",
       "Name: city, Length: 76, dtype: int64"
      ]
     },
     "execution_count": 16,
     "metadata": {},
     "output_type": "execute_result"
    }
   ],
   "source": [
    "# проверяем уникальные значения\n",
    "users['city'].value_counts()"
   ]
  },
  {
   "cell_type": "code",
   "execution_count": 17,
   "metadata": {},
   "outputs": [],
   "source": [
    "cities = pd.DataFrame(columns = ['original', 'lemm'])\n",
    "cities['original'] = users['city'].sort_values().unique()"
   ]
  },
  {
   "cell_type": "code",
   "execution_count": 18,
   "metadata": {},
   "outputs": [],
   "source": [
    "# Функция получает строку лемматизирует её, затем собирает и возвращает результат\n",
    "def lemm_list(st):\n",
    "    w = m.lemmatize(st)\n",
    "    w.pop()\n",
    "    return ''.join(w)\n",
    "\n",
    "cities['lemm'] = cities['original'].apply(lemm_list)"
   ]
  },
  {
   "cell_type": "code",
   "execution_count": 19,
   "metadata": {
    "scrolled": false
   },
   "outputs": [
    {
     "data": {
      "text/html": [
       "<div>\n",
       "<style scoped>\n",
       "    .dataframe tbody tr th:only-of-type {\n",
       "        vertical-align: middle;\n",
       "    }\n",
       "\n",
       "    .dataframe tbody tr th {\n",
       "        vertical-align: top;\n",
       "    }\n",
       "\n",
       "    .dataframe thead th {\n",
       "        text-align: right;\n",
       "    }\n",
       "</style>\n",
       "<table border=\"1\" class=\"dataframe\">\n",
       "  <thead>\n",
       "    <tr style=\"text-align: right;\">\n",
       "      <th></th>\n",
       "      <th>original</th>\n",
       "      <th>lemm</th>\n",
       "    </tr>\n",
       "  </thead>\n",
       "  <tbody>\n",
       "    <tr>\n",
       "      <td>0</td>\n",
       "      <td>Архангельск</td>\n",
       "      <td>архангельск</td>\n",
       "    </tr>\n",
       "    <tr>\n",
       "      <td>1</td>\n",
       "      <td>Астрахань</td>\n",
       "      <td>астрахань</td>\n",
       "    </tr>\n",
       "    <tr>\n",
       "      <td>2</td>\n",
       "      <td>Балашиха</td>\n",
       "      <td>балашиха</td>\n",
       "    </tr>\n",
       "    <tr>\n",
       "      <td>3</td>\n",
       "      <td>Барнаул</td>\n",
       "      <td>барнаул</td>\n",
       "    </tr>\n",
       "    <tr>\n",
       "      <td>4</td>\n",
       "      <td>Белгород</td>\n",
       "      <td>белгород</td>\n",
       "    </tr>\n",
       "    <tr>\n",
       "      <td>...</td>\n",
       "      <td>...</td>\n",
       "      <td>...</td>\n",
       "    </tr>\n",
       "    <tr>\n",
       "      <td>71</td>\n",
       "      <td>Челябинск</td>\n",
       "      <td>челябинск</td>\n",
       "    </tr>\n",
       "    <tr>\n",
       "      <td>72</td>\n",
       "      <td>Череповец</td>\n",
       "      <td>череповец</td>\n",
       "    </tr>\n",
       "    <tr>\n",
       "      <td>73</td>\n",
       "      <td>Чита</td>\n",
       "      <td>чита</td>\n",
       "    </tr>\n",
       "    <tr>\n",
       "      <td>74</td>\n",
       "      <td>Якутск</td>\n",
       "      <td>якутск</td>\n",
       "    </tr>\n",
       "    <tr>\n",
       "      <td>75</td>\n",
       "      <td>Ярославль</td>\n",
       "      <td>ярославль</td>\n",
       "    </tr>\n",
       "  </tbody>\n",
       "</table>\n",
       "<p>76 rows × 2 columns</p>\n",
       "</div>"
      ],
      "text/plain": [
       "       original         lemm\n",
       "0   Архангельск  архангельск\n",
       "1     Астрахань    астрахань\n",
       "2      Балашиха     балашиха\n",
       "3       Барнаул      барнаул\n",
       "4      Белгород     белгород\n",
       "..          ...          ...\n",
       "71    Челябинск    челябинск\n",
       "72    Череповец    череповец\n",
       "73         Чита         чита\n",
       "74       Якутск       якутск\n",
       "75    Ярославль    ярославль\n",
       "\n",
       "[76 rows x 2 columns]"
      ]
     },
     "execution_count": 19,
     "metadata": {},
     "output_type": "execute_result"
    }
   ],
   "source": [
    "cities"
   ]
  },
  {
   "cell_type": "code",
   "execution_count": 20,
   "metadata": {},
   "outputs": [
    {
     "data": {
      "text/plain": [
       "нижневартовск    1\n",
       "орел             1\n",
       "киров            1\n",
       "москва           1\n",
       "ульяновск        1\n",
       "                ..\n",
       "новороссийск     1\n",
       "астрахань        1\n",
       "ярославль        1\n",
       "кострома         1\n",
       "нижний тагил     1\n",
       "Name: lemm, Length: 76, dtype: int64"
      ]
     },
     "execution_count": 20,
     "metadata": {},
     "output_type": "execute_result"
    }
   ],
   "source": [
    "# проверяем уникальные значения\n",
    "cities['lemm'].value_counts()"
   ]
  },
  {
   "cell_type": "markdown",
   "metadata": {},
   "source": [
    "Повторяющихся названий написанных по разному нет"
   ]
  },
  {
   "cell_type": "markdown",
   "metadata": {},
   "source": [
    "#### Столбец  tariff"
   ]
  },
  {
   "cell_type": "code",
   "execution_count": 21,
   "metadata": {
    "scrolled": false
   },
   "outputs": [
    {
     "data": {
      "text/plain": [
       "smart    351\n",
       "ultra    149\n",
       "Name: tariff, dtype: int64"
      ]
     },
     "execution_count": 21,
     "metadata": {},
     "output_type": "execute_result"
    }
   ],
   "source": [
    "# проверяем уникальные значения\n",
    "users['tariff'].value_counts()"
   ]
  },
  {
   "cell_type": "markdown",
   "metadata": {},
   "source": [
    "Итого 500 записей. Столбец корректен."
   ]
  },
  {
   "cell_type": "code",
   "execution_count": 22,
   "metadata": {
    "scrolled": true
   },
   "outputs": [
    {
     "name": "stdout",
     "output_type": "stream",
     "text": [
      "<class 'pandas.core.frame.DataFrame'>\n",
      "RangeIndex: 500 entries, 0 to 499\n",
      "Data columns (total 8 columns):\n",
      "user_id       500 non-null int64\n",
      "age           500 non-null int64\n",
      "churn_date    38 non-null datetime64[ns]\n",
      "city          500 non-null object\n",
      "first_name    500 non-null object\n",
      "last_name     500 non-null object\n",
      "reg_date      500 non-null datetime64[ns]\n",
      "tariff        500 non-null object\n",
      "dtypes: datetime64[ns](2), int64(2), object(4)\n",
      "memory usage: 31.4+ KB\n"
     ]
    }
   ],
   "source": [
    "# общая информация о таблице\n",
    "users.info()"
   ]
  },
  {
   "cell_type": "markdown",
   "metadata": {},
   "source": [
    "**Вывод**\n",
    "\n",
    "Таблица полностью корректна, аномальных значений нет. Изменили тип данных в столбцах с датой."
   ]
  },
  {
   "cell_type": "markdown",
   "metadata": {},
   "source": [
    "### Таблица calls"
   ]
  },
  {
   "cell_type": "markdown",
   "metadata": {},
   "source": [
    "#### Столбец  id"
   ]
  },
  {
   "cell_type": "code",
   "execution_count": 23,
   "metadata": {},
   "outputs": [
    {
     "data": {
      "text/plain": [
       "1330_471    1\n",
       "1359_179    1\n",
       "1377_442    1\n",
       "1440_66     1\n",
       "1325_101    1\n",
       "           ..\n",
       "1329_7      1\n",
       "1355_158    1\n",
       "1067_232    1\n",
       "1425_454    1\n",
       "1191_165    1\n",
       "Name: id, Length: 202607, dtype: int64"
      ]
     },
     "execution_count": 23,
     "metadata": {},
     "output_type": "execute_result"
    }
   ],
   "source": [
    "# проверяем уникальные значения\n",
    "calls['id'].value_counts()"
   ]
  },
  {
   "cell_type": "markdown",
   "metadata": {},
   "source": [
    "Повторяющихся значений нет, id каждого звонка уникально "
   ]
  },
  {
   "cell_type": "markdown",
   "metadata": {},
   "source": [
    "#### Столбец  call_date"
   ]
  },
  {
   "cell_type": "code",
   "execution_count": 24,
   "metadata": {},
   "outputs": [],
   "source": [
    "# меняем тип данных\n",
    "calls['call_date'] = pd.to_datetime(calls['call_date'], format= '%Y-%m-%d')"
   ]
  },
  {
   "cell_type": "code",
   "execution_count": 25,
   "metadata": {
    "scrolled": false
   },
   "outputs": [
    {
     "data": {
      "text/plain": [
       "count                  202607\n",
       "unique                    365\n",
       "top       2018-12-31 00:00:00\n",
       "freq                     1435\n",
       "first     2018-01-01 00:00:00\n",
       "last      2018-12-31 00:00:00\n",
       "Name: call_date, dtype: object"
      ]
     },
     "execution_count": 25,
     "metadata": {},
     "output_type": "execute_result"
    }
   ],
   "source": [
    "calls['call_date'].describe()"
   ]
  },
  {
   "cell_type": "markdown",
   "metadata": {},
   "source": [
    "Нам понадобится месяц совершения звонка, добавим в таблицу столбец с месяцем."
   ]
  },
  {
   "cell_type": "code",
   "execution_count": 26,
   "metadata": {},
   "outputs": [],
   "source": [
    "# добавляем столбец с месяцем звонка\n",
    "calls['month'] = calls['call_date'].astype('datetime64[M]')"
   ]
  },
  {
   "cell_type": "code",
   "execution_count": 27,
   "metadata": {},
   "outputs": [
    {
     "data": {
      "text/html": [
       "<div>\n",
       "<style scoped>\n",
       "    .dataframe tbody tr th:only-of-type {\n",
       "        vertical-align: middle;\n",
       "    }\n",
       "\n",
       "    .dataframe tbody tr th {\n",
       "        vertical-align: top;\n",
       "    }\n",
       "\n",
       "    .dataframe thead th {\n",
       "        text-align: right;\n",
       "    }\n",
       "</style>\n",
       "<table border=\"1\" class=\"dataframe\">\n",
       "  <thead>\n",
       "    <tr style=\"text-align: right;\">\n",
       "      <th></th>\n",
       "      <th>id</th>\n",
       "      <th>call_date</th>\n",
       "      <th>duration</th>\n",
       "      <th>user_id</th>\n",
       "      <th>month</th>\n",
       "    </tr>\n",
       "  </thead>\n",
       "  <tbody>\n",
       "    <tr>\n",
       "      <td>0</td>\n",
       "      <td>1000_0</td>\n",
       "      <td>2018-07-25</td>\n",
       "      <td>0.00</td>\n",
       "      <td>1000</td>\n",
       "      <td>2018-07-01</td>\n",
       "    </tr>\n",
       "    <tr>\n",
       "      <td>1</td>\n",
       "      <td>1000_1</td>\n",
       "      <td>2018-08-17</td>\n",
       "      <td>0.00</td>\n",
       "      <td>1000</td>\n",
       "      <td>2018-08-01</td>\n",
       "    </tr>\n",
       "    <tr>\n",
       "      <td>2</td>\n",
       "      <td>1000_2</td>\n",
       "      <td>2018-06-11</td>\n",
       "      <td>2.85</td>\n",
       "      <td>1000</td>\n",
       "      <td>2018-06-01</td>\n",
       "    </tr>\n",
       "    <tr>\n",
       "      <td>3</td>\n",
       "      <td>1000_3</td>\n",
       "      <td>2018-09-21</td>\n",
       "      <td>13.80</td>\n",
       "      <td>1000</td>\n",
       "      <td>2018-09-01</td>\n",
       "    </tr>\n",
       "    <tr>\n",
       "      <td>4</td>\n",
       "      <td>1000_4</td>\n",
       "      <td>2018-12-15</td>\n",
       "      <td>5.18</td>\n",
       "      <td>1000</td>\n",
       "      <td>2018-12-01</td>\n",
       "    </tr>\n",
       "  </tbody>\n",
       "</table>\n",
       "</div>"
      ],
      "text/plain": [
       "       id  call_date  duration  user_id      month\n",
       "0  1000_0 2018-07-25      0.00     1000 2018-07-01\n",
       "1  1000_1 2018-08-17      0.00     1000 2018-08-01\n",
       "2  1000_2 2018-06-11      2.85     1000 2018-06-01\n",
       "3  1000_3 2018-09-21     13.80     1000 2018-09-01\n",
       "4  1000_4 2018-12-15      5.18     1000 2018-12-01"
      ]
     },
     "execution_count": 27,
     "metadata": {},
     "output_type": "execute_result"
    }
   ],
   "source": [
    "# смотри первые строки\n",
    "calls.head()"
   ]
  },
  {
   "cell_type": "markdown",
   "metadata": {},
   "source": [
    "365 уникальных значений,  звонки совершались каждый день на протяжении года."
   ]
  },
  {
   "cell_type": "markdown",
   "metadata": {},
   "source": [
    "#### Столбец  duration"
   ]
  },
  {
   "cell_type": "markdown",
   "metadata": {},
   "source": [
    "Длительность звонка в минутах"
   ]
  },
  {
   "cell_type": "code",
   "execution_count": 28,
   "metadata": {
    "scrolled": false
   },
   "outputs": [
    {
     "data": {
      "text/plain": [
       "count    202607.000000\n",
       "mean          6.755887\n",
       "std           5.843365\n",
       "min           0.000000\n",
       "25%           1.300000\n",
       "50%           6.000000\n",
       "75%          10.700000\n",
       "max          38.000000\n",
       "Name: duration, dtype: float64"
      ]
     },
     "execution_count": 28,
     "metadata": {},
     "output_type": "execute_result"
    }
   ],
   "source": [
    "# числовое описание столбца\n",
    "calls['duration'].describe()"
   ]
  },
  {
   "cell_type": "code",
   "execution_count": 29,
   "metadata": {},
   "outputs": [
    {
     "data": {
      "image/png": "[encoded data removed]",
      "text/plain": [
       "<Figure size 864x288 with 1 Axes>"
      ]
     },
     "metadata": {
      "needs_background": "light"
     },
     "output_type": "display_data"
    }
   ],
   "source": [
    "# смотрим на гистограмме\n",
    "calls['duration'].hist(figsize=(12,4), bins=30);"
   ]
  },
  {
   "cell_type": "markdown",
   "metadata": {},
   "source": [
    "Видим, что длительность звонков от 0 до 38 минут. Аномальных значений нет. 0 минут - это пропущенный звонок.  В условиях сказано что \"Мегалайн\" всегда округляет значения минут в большую сторону, даже если абонент проговорил всего 1 секунду, считается 1 минута. Округлим в большую сторону все значения столбца и поменяем тип на int."
   ]
  },
  {
   "cell_type": "code",
   "execution_count": 30,
   "metadata": {
    "scrolled": true
   },
   "outputs": [
    {
     "data": {
      "text/plain": [
       "0          0.0\n",
       "1          0.0\n",
       "2          3.0\n",
       "3         14.0\n",
       "4          6.0\n",
       "          ... \n",
       "202602     1.0\n",
       "202603    19.0\n",
       "202604    11.0\n",
       "202605     5.0\n",
       "202606    20.0\n",
       "Name: duration, Length: 202607, dtype: float64"
      ]
     },
     "execution_count": 30,
     "metadata": {},
     "output_type": "execute_result"
    }
   ],
   "source": [
    "# округляем значения в большую сторону\n",
    "calls['duration'] = np.ceil(calls['duration'])\n",
    "calls['duration']"
   ]
  },
  {
   "cell_type": "code",
   "execution_count": 31,
   "metadata": {},
   "outputs": [],
   "source": [
    "# меняем тип данных \n",
    "calls['duration'] = calls['duration'].astype(int)"
   ]
  },
  {
   "cell_type": "markdown",
   "metadata": {},
   "source": [
    "#### Столбец  user_id"
   ]
  },
  {
   "cell_type": "code",
   "execution_count": 32,
   "metadata": {},
   "outputs": [
    {
     "data": {
      "text/plain": [
       "count    202607.000000\n",
       "mean       1253.940619\n",
       "std         144.722751\n",
       "min        1000.000000\n",
       "25%        1126.000000\n",
       "50%        1260.000000\n",
       "75%        1379.000000\n",
       "max        1499.000000\n",
       "Name: user_id, dtype: float64"
      ]
     },
     "execution_count": 32,
     "metadata": {},
     "output_type": "execute_result"
    }
   ],
   "source": [
    "# числовое описание столбца\n",
    "calls['user_id'].describe()"
   ]
  },
  {
   "cell_type": "code",
   "execution_count": 33,
   "metadata": {
    "scrolled": true
   },
   "outputs": [
    {
     "data": {
      "text/plain": [
       "1377    1760\n",
       "1168    1692\n",
       "1375    1560\n",
       "1453    1440\n",
       "1196    1240\n",
       "        ... \n",
       "1397      33\n",
       "1442      28\n",
       "1373      24\n",
       "1016      20\n",
       "1257      14\n",
       "Name: user_id, Length: 492, dtype: int64"
      ]
     },
     "execution_count": 33,
     "metadata": {},
     "output_type": "execute_result"
    }
   ],
   "source": [
    "# проверяем уникальные значения\n",
    "calls['user_id'].value_counts()"
   ]
  },
  {
   "cell_type": "markdown",
   "metadata": {},
   "source": [
    "492 уникальных значения. 8 пользователей не совершали звонков в 2018 году, вероятно они вообще не используют звонки в своих тарифах, например используют сим-карту только для интернета. Найдём Id этих абонентов."
   ]
  },
  {
   "cell_type": "code",
   "execution_count": 34,
   "metadata": {},
   "outputs": [
    {
     "data": {
      "text/plain": [
       "[1091, 1106, 1128, 1231, 1328, 1371, 1473, 1489]"
      ]
     },
     "execution_count": 34,
     "metadata": {},
     "output_type": "execute_result"
    }
   ],
   "source": [
    "# получаем id абонентов, которые не совершали звонки.\n",
    "no_call = []\n",
    "for call in users['user_id']:\n",
    "    if call not in calls['user_id'].unique(): \n",
    "        no_call.append(call) \n",
    "no_call"
   ]
  },
  {
   "cell_type": "markdown",
   "metadata": {},
   "source": [
    "**Вывод**\n",
    "\n",
    "В таблице не было аномальных значений. Изменили тип данных в столбце с датой, добавили в таблицу столбец с месяцем совершения звонка он пригодится нам для дальнейших расчетов. Округлили длительность звонка в минутах в большую сторону, согласно условиям компании \"Мегалайн\" и изменили тип данных на int. Также выявили что 8 абонентов не совершали звонки."
   ]
  },
  {
   "cell_type": "markdown",
   "metadata": {},
   "source": [
    "### Таблица messages"
   ]
  },
  {
   "cell_type": "markdown",
   "metadata": {},
   "source": [
    "#### Столбец  id"
   ]
  },
  {
   "cell_type": "code",
   "execution_count": 35,
   "metadata": {
    "scrolled": false
   },
   "outputs": [
    {
     "data": {
      "text/plain": [
       "1295_120    1\n",
       "1005_380    1\n",
       "1390_18     1\n",
       "1076_165    1\n",
       "1393_331    1\n",
       "           ..\n",
       "1226_35     1\n",
       "1379_462    1\n",
       "1145_352    1\n",
       "1083_194    1\n",
       "1396_834    1\n",
       "Name: id, Length: 123036, dtype: int64"
      ]
     },
     "execution_count": 35,
     "metadata": {},
     "output_type": "execute_result"
    }
   ],
   "source": [
    "# проверяем уникальные значения\n",
    "messages['id'].value_counts()"
   ]
  },
  {
   "cell_type": "markdown",
   "metadata": {},
   "source": [
    "Повторяющихся значений нет, id каждого сообщения уникально"
   ]
  },
  {
   "cell_type": "markdown",
   "metadata": {},
   "source": [
    "#### Столбец  message_date"
   ]
  },
  {
   "cell_type": "code",
   "execution_count": 36,
   "metadata": {},
   "outputs": [],
   "source": [
    "# меняем тип данных\n",
    "messages['message_date'] = pd.to_datetime(messages['message_date'], format='%Y-%m-%d')"
   ]
  },
  {
   "cell_type": "code",
   "execution_count": 37,
   "metadata": {
    "scrolled": false
   },
   "outputs": [
    {
     "data": {
      "text/plain": [
       "count                  123036\n",
       "unique                    364\n",
       "top       2018-12-31 00:00:00\n",
       "freq                      859\n",
       "first     2018-01-02 00:00:00\n",
       "last      2018-12-31 00:00:00\n",
       "Name: message_date, dtype: object"
      ]
     },
     "execution_count": 37,
     "metadata": {},
     "output_type": "execute_result"
    }
   ],
   "source": [
    "messages['message_date'].describe()"
   ]
  },
  {
   "cell_type": "markdown",
   "metadata": {},
   "source": [
    "Нам понадобится месяц отправки сообщения, добавим столбец с месяцем в таблицу."
   ]
  },
  {
   "cell_type": "code",
   "execution_count": 38,
   "metadata": {},
   "outputs": [],
   "source": [
    "# добавляем столбец с месяцем отправки сообщения\n",
    "messages['month'] = messages['message_date'].astype('datetime64[M]')"
   ]
  },
  {
   "cell_type": "code",
   "execution_count": 39,
   "metadata": {},
   "outputs": [
    {
     "data": {
      "text/html": [
       "<div>\n",
       "<style scoped>\n",
       "    .dataframe tbody tr th:only-of-type {\n",
       "        vertical-align: middle;\n",
       "    }\n",
       "\n",
       "    .dataframe tbody tr th {\n",
       "        vertical-align: top;\n",
       "    }\n",
       "\n",
       "    .dataframe thead th {\n",
       "        text-align: right;\n",
       "    }\n",
       "</style>\n",
       "<table border=\"1\" class=\"dataframe\">\n",
       "  <thead>\n",
       "    <tr style=\"text-align: right;\">\n",
       "      <th></th>\n",
       "      <th>id</th>\n",
       "      <th>message_date</th>\n",
       "      <th>user_id</th>\n",
       "      <th>month</th>\n",
       "    </tr>\n",
       "  </thead>\n",
       "  <tbody>\n",
       "    <tr>\n",
       "      <td>0</td>\n",
       "      <td>1000_0</td>\n",
       "      <td>2018-06-27</td>\n",
       "      <td>1000</td>\n",
       "      <td>2018-06-01</td>\n",
       "    </tr>\n",
       "    <tr>\n",
       "      <td>1</td>\n",
       "      <td>1000_1</td>\n",
       "      <td>2018-10-08</td>\n",
       "      <td>1000</td>\n",
       "      <td>2018-10-01</td>\n",
       "    </tr>\n",
       "    <tr>\n",
       "      <td>2</td>\n",
       "      <td>1000_2</td>\n",
       "      <td>2018-08-04</td>\n",
       "      <td>1000</td>\n",
       "      <td>2018-08-01</td>\n",
       "    </tr>\n",
       "    <tr>\n",
       "      <td>3</td>\n",
       "      <td>1000_3</td>\n",
       "      <td>2018-06-16</td>\n",
       "      <td>1000</td>\n",
       "      <td>2018-06-01</td>\n",
       "    </tr>\n",
       "    <tr>\n",
       "      <td>4</td>\n",
       "      <td>1000_4</td>\n",
       "      <td>2018-12-05</td>\n",
       "      <td>1000</td>\n",
       "      <td>2018-12-01</td>\n",
       "    </tr>\n",
       "  </tbody>\n",
       "</table>\n",
       "</div>"
      ],
      "text/plain": [
       "       id message_date  user_id      month\n",
       "0  1000_0   2018-06-27     1000 2018-06-01\n",
       "1  1000_1   2018-10-08     1000 2018-10-01\n",
       "2  1000_2   2018-08-04     1000 2018-08-01\n",
       "3  1000_3   2018-06-16     1000 2018-06-01\n",
       "4  1000_4   2018-12-05     1000 2018-12-01"
      ]
     },
     "execution_count": 39,
     "metadata": {},
     "output_type": "execute_result"
    }
   ],
   "source": [
    "# смотрим таблицу\n",
    "messages.head()"
   ]
  },
  {
   "cell_type": "markdown",
   "metadata": {},
   "source": [
    "01.01.2018  никто не  отправил ни одной смски."
   ]
  },
  {
   "cell_type": "markdown",
   "metadata": {},
   "source": [
    "#### Столбец  user_id"
   ]
  },
  {
   "cell_type": "code",
   "execution_count": 40,
   "metadata": {},
   "outputs": [
    {
     "data": {
      "text/plain": [
       "count    123036.000000\n",
       "mean       1256.989410\n",
       "std         143.523967\n",
       "min        1000.000000\n",
       "25%        1134.000000\n",
       "50%        1271.000000\n",
       "75%        1381.000000\n",
       "max        1499.000000\n",
       "Name: user_id, dtype: float64"
      ]
     },
     "execution_count": 40,
     "metadata": {},
     "output_type": "execute_result"
    }
   ],
   "source": [
    "# числовое описание столбца\n",
    "messages['user_id'].describe()"
   ]
  },
  {
   "cell_type": "code",
   "execution_count": 41,
   "metadata": {
    "scrolled": true
   },
   "outputs": [
    {
     "data": {
      "text/plain": [
       "1277    1463\n",
       "1089    1408\n",
       "1231    1384\n",
       "1385    1380\n",
       "1356    1224\n",
       "        ... \n",
       "1389       6\n",
       "1279       5\n",
       "1074       3\n",
       "1159       2\n",
       "1141       1\n",
       "Name: user_id, Length: 426, dtype: int64"
      ]
     },
     "execution_count": 41,
     "metadata": {},
     "output_type": "execute_result"
    }
   ],
   "source": [
    "# смотрим уникальные значения\n",
    "messages['user_id'].value_counts()"
   ]
  },
  {
   "cell_type": "markdown",
   "metadata": {},
   "source": [
    "Видим, что сообщениями, пользуются не все пользователи. 74 пользователя не отправляют СМС, аналогично звонкам, найдем id этих абонентов"
   ]
  },
  {
   "cell_type": "code",
   "execution_count": 42,
   "metadata": {},
   "outputs": [
    {
     "name": "stdout",
     "output_type": "stream",
     "text": [
      "[1001, 1006, 1010, 1017, 1024, 1040, 1049, 1053, 1063, 1078, 1085, 1095, 1101, 1107, 1114, 1116, 1117, 1118, 1120, 1128, 1129, 1132, 1143, 1152, 1153, 1157, 1162, 1175, 1177, 1179, 1185, 1195, 1201, 1204, 1208, 1210, 1220, 1224, 1225, 1228, 1240, 1242, 1248, 1254, 1255, 1260, 1290, 1291, 1292, 1297, 1301, 1305, 1306, 1322, 1334, 1339, 1360, 1363, 1367, 1370, 1371, 1376, 1388, 1397, 1428, 1429, 1435, 1442, 1456, 1462, 1466, 1469, 1479, 1494]\n"
     ]
    }
   ],
   "source": [
    "# получаем id абонентов которые не отправляли смс.\n",
    "no_messag = []\n",
    "for messag in users['user_id']:\n",
    "    if messag not in messages['user_id'].unique(): \n",
    "        no_messag.append(messag) \n",
    "print(no_messag)"
   ]
  },
  {
   "cell_type": "markdown",
   "metadata": {},
   "source": [
    "**Вывод**\n",
    "\n",
    "В таблице не было аномальных значений. Изменили тип данных в столбце с датой, добавили в таблицу столбец с месяцем отправки сообщения, он пригодится нам для дальнейших расчетов. Также выявили, что 74 абонента не отправляли СМС."
   ]
  },
  {
   "cell_type": "markdown",
   "metadata": {},
   "source": [
    "### Таблица internet"
   ]
  },
  {
   "cell_type": "markdown",
   "metadata": {},
   "source": [
    "#### Столбец  id"
   ]
  },
  {
   "cell_type": "code",
   "execution_count": 43,
   "metadata": {
    "scrolled": true
   },
   "outputs": [
    {
     "data": {
      "text/plain": [
       "1301_182    1\n",
       "1014_3      1\n",
       "1323_248    1\n",
       "1014_269    1\n",
       "1087_123    1\n",
       "           ..\n",
       "1478_58     1\n",
       "1151_9      1\n",
       "1183_34     1\n",
       "1174_302    1\n",
       "1191_165    1\n",
       "Name: id, Length: 149396, dtype: int64"
      ]
     },
     "execution_count": 43,
     "metadata": {},
     "output_type": "execute_result"
    }
   ],
   "source": [
    "# смотрим уникальные значения\n",
    "internet['id'].value_counts()"
   ]
  },
  {
   "cell_type": "markdown",
   "metadata": {},
   "source": [
    "Повторяющихся значений нет, id каждой сессии уникально"
   ]
  },
  {
   "cell_type": "markdown",
   "metadata": {},
   "source": [
    "#### Столбец  mb_used"
   ]
  },
  {
   "cell_type": "code",
   "execution_count": 44,
   "metadata": {
    "scrolled": true
   },
   "outputs": [
    {
     "data": {
      "text/plain": [
       "count    149396.000000\n",
       "mean        370.192426\n",
       "std         278.300951\n",
       "min           0.000000\n",
       "25%         138.187500\n",
       "50%         348.015000\n",
       "75%         559.552500\n",
       "max        1724.830000\n",
       "Name: mb_used, dtype: float64"
      ]
     },
     "execution_count": 44,
     "metadata": {},
     "output_type": "execute_result"
    }
   ],
   "source": [
    "internet['mb_used'].describe()"
   ]
  },
  {
   "cell_type": "code",
   "execution_count": 45,
   "metadata": {
    "scrolled": true
   },
   "outputs": [
    {
     "data": {
      "image/png": "[encoded data removed]",
      "text/plain": [
       "<Figure size 864x288 with 1 Axes>"
      ]
     },
     "metadata": {
      "needs_background": "light"
     },
     "output_type": "display_data"
    }
   ],
   "source": [
    "# смотрим на гистограмме\n",
    "internet['mb_used'].hist(figsize=(12,4), bins=30);"
   ]
  },
  {
   "cell_type": "markdown",
   "metadata": {},
   "source": [
    "Видим, что длительность ссесий от 0 до 1724.83 мегабайт. Аномальных значений нет. 0 мегабайт - вероятно это ссесия которая началась и сразу прервалась. В условиях сказано что для веб-трафика отдельные сессии не считаются. Вместо этого общая сумма за месяц округляется в бо́льшую сторону. Если абонент использует 1025 мегабайт в этом месяце, с него возьмут плату за 2 гигабайта."
   ]
  },
  {
   "cell_type": "markdown",
   "metadata": {},
   "source": [
    "#### Столбец  session_date"
   ]
  },
  {
   "cell_type": "code",
   "execution_count": 46,
   "metadata": {},
   "outputs": [],
   "source": [
    "# меняем тип данных\n",
    "internet['session_date'] = pd.to_datetime(internet['session_date'], format='%Y-%m-%d')"
   ]
  },
  {
   "cell_type": "code",
   "execution_count": 47,
   "metadata": {
    "scrolled": true
   },
   "outputs": [
    {
     "data": {
      "text/plain": [
       "count                  149396\n",
       "unique                    365\n",
       "top       2018-12-31 00:00:00\n",
       "freq                     1057\n",
       "first     2018-01-01 00:00:00\n",
       "last      2018-12-31 00:00:00\n",
       "Name: session_date, dtype: object"
      ]
     },
     "execution_count": 47,
     "metadata": {},
     "output_type": "execute_result"
    }
   ],
   "source": [
    "internet['session_date'].describe()"
   ]
  },
  {
   "cell_type": "markdown",
   "metadata": {},
   "source": [
    "Добавим столбец с месяцем использования интернета."
   ]
  },
  {
   "cell_type": "code",
   "execution_count": 48,
   "metadata": {},
   "outputs": [],
   "source": [
    "# добавляем столбец с месяцем интернет сессий\n",
    "internet['month'] = internet['session_date'].astype('datetime64[M]')"
   ]
  },
  {
   "cell_type": "code",
   "execution_count": 49,
   "metadata": {},
   "outputs": [
    {
     "data": {
      "text/html": [
       "<div>\n",
       "<style scoped>\n",
       "    .dataframe tbody tr th:only-of-type {\n",
       "        vertical-align: middle;\n",
       "    }\n",
       "\n",
       "    .dataframe tbody tr th {\n",
       "        vertical-align: top;\n",
       "    }\n",
       "\n",
       "    .dataframe thead th {\n",
       "        text-align: right;\n",
       "    }\n",
       "</style>\n",
       "<table border=\"1\" class=\"dataframe\">\n",
       "  <thead>\n",
       "    <tr style=\"text-align: right;\">\n",
       "      <th></th>\n",
       "      <th>Unnamed: 0</th>\n",
       "      <th>id</th>\n",
       "      <th>mb_used</th>\n",
       "      <th>session_date</th>\n",
       "      <th>user_id</th>\n",
       "      <th>month</th>\n",
       "    </tr>\n",
       "  </thead>\n",
       "  <tbody>\n",
       "    <tr>\n",
       "      <td>0</td>\n",
       "      <td>0</td>\n",
       "      <td>1000_0</td>\n",
       "      <td>112.95</td>\n",
       "      <td>2018-11-25</td>\n",
       "      <td>1000</td>\n",
       "      <td>2018-11-01</td>\n",
       "    </tr>\n",
       "    <tr>\n",
       "      <td>1</td>\n",
       "      <td>1</td>\n",
       "      <td>1000_1</td>\n",
       "      <td>1052.81</td>\n",
       "      <td>2018-09-07</td>\n",
       "      <td>1000</td>\n",
       "      <td>2018-09-01</td>\n",
       "    </tr>\n",
       "    <tr>\n",
       "      <td>2</td>\n",
       "      <td>2</td>\n",
       "      <td>1000_2</td>\n",
       "      <td>1197.26</td>\n",
       "      <td>2018-06-25</td>\n",
       "      <td>1000</td>\n",
       "      <td>2018-06-01</td>\n",
       "    </tr>\n",
       "    <tr>\n",
       "      <td>3</td>\n",
       "      <td>3</td>\n",
       "      <td>1000_3</td>\n",
       "      <td>550.27</td>\n",
       "      <td>2018-08-22</td>\n",
       "      <td>1000</td>\n",
       "      <td>2018-08-01</td>\n",
       "    </tr>\n",
       "    <tr>\n",
       "      <td>4</td>\n",
       "      <td>4</td>\n",
       "      <td>1000_4</td>\n",
       "      <td>302.56</td>\n",
       "      <td>2018-09-24</td>\n",
       "      <td>1000</td>\n",
       "      <td>2018-09-01</td>\n",
       "    </tr>\n",
       "  </tbody>\n",
       "</table>\n",
       "</div>"
      ],
      "text/plain": [
       "   Unnamed: 0      id  mb_used session_date  user_id      month\n",
       "0           0  1000_0   112.95   2018-11-25     1000 2018-11-01\n",
       "1           1  1000_1  1052.81   2018-09-07     1000 2018-09-01\n",
       "2           2  1000_2  1197.26   2018-06-25     1000 2018-06-01\n",
       "3           3  1000_3   550.27   2018-08-22     1000 2018-08-01\n",
       "4           4  1000_4   302.56   2018-09-24     1000 2018-09-01"
      ]
     },
     "execution_count": 49,
     "metadata": {},
     "output_type": "execute_result"
    }
   ],
   "source": [
    "# смотрим таблицу\n",
    "internet.head()"
   ]
  },
  {
   "cell_type": "markdown",
   "metadata": {},
   "source": [
    "#### Столбец  user_id"
   ]
  },
  {
   "cell_type": "code",
   "execution_count": 50,
   "metadata": {},
   "outputs": [
    {
     "data": {
      "text/plain": [
       "1496    834\n",
       "1227    812\n",
       "1204    789\n",
       "1240    764\n",
       "1251    759\n",
       "       ... \n",
       "1151     35\n",
       "1467     27\n",
       "1343     26\n",
       "1192     22\n",
       "1399      8\n",
       "Name: user_id, Length: 497, dtype: int64"
      ]
     },
     "execution_count": 50,
     "metadata": {},
     "output_type": "execute_result"
    }
   ],
   "source": [
    "# смотрим уникальные значения\n",
    "internet['user_id'].value_counts()"
   ]
  },
  {
   "cell_type": "markdown",
   "metadata": {},
   "source": [
    "Всего три пользователя не пользуются интернетом. Аналогично предыдущим таблицам найдем id тех кто не использовал интернет"
   ]
  },
  {
   "cell_type": "code",
   "execution_count": 51,
   "metadata": {},
   "outputs": [
    {
     "name": "stdout",
     "output_type": "stream",
     "text": [
      "[1128, 1273, 1371]\n"
     ]
    }
   ],
   "source": [
    "# получаем id абонентов которые не отправляли смс.\n",
    "no_internet = []\n",
    "for ssesion in users['user_id']:\n",
    "    if ssesion not in internet['user_id'].unique(): \n",
    "        no_internet.append(ssesion) \n",
    "print(no_internet)"
   ]
  },
  {
   "cell_type": "code",
   "execution_count": 52,
   "metadata": {
    "scrolled": true
   },
   "outputs": [
    {
     "data": {
      "text/plain": [
       "count    149396.000000\n",
       "mean       1252.099842\n",
       "std         144.050823\n",
       "min        1000.000000\n",
       "25%        1130.000000\n",
       "50%        1251.000000\n",
       "75%        1380.000000\n",
       "max        1499.000000\n",
       "Name: user_id, dtype: float64"
      ]
     },
     "execution_count": 52,
     "metadata": {},
     "output_type": "execute_result"
    }
   ],
   "source": [
    "internet['user_id'].describe()"
   ]
  },
  {
   "cell_type": "markdown",
   "metadata": {},
   "source": [
    "**Вывод**\n",
    "\n",
    "В таблице не было аномальных значений. Изменили тип данных в столбце с датой, добавили в таблицу столбец с месяцем использования интернета, он пригодится нам для дальнейших расчетов. Также выявили что 3 абонента не использовали интернет."
   ]
  },
  {
   "cell_type": "markdown",
   "metadata": {},
   "source": [
    "### Расчет  показателей для каждого пользователя"
   ]
  },
  {
   "cell_type": "markdown",
   "metadata": {},
   "source": [
    " Нам необходимо посчитать для каждого пользователя: \n",
    " \n",
    "* количество сделанных звонков и израсходованных минут разговора по месяцам;\n",
    "* количество отправленных сообщений по месяцам;\n",
    "* объем израсходованного интернет-трафика по месяцам;\n",
    "* помесячную выручку с каждого пользователя.\n"
   ]
  },
  {
   "cell_type": "markdown",
   "metadata": {},
   "source": [
    "#### Расчет звонков по месяцам"
   ]
  },
  {
   "cell_type": "code",
   "execution_count": 53,
   "metadata": {
    "scrolled": true
   },
   "outputs": [
    {
     "data": {
      "text/html": [
       "<div>\n",
       "<style scoped>\n",
       "    .dataframe tbody tr th:only-of-type {\n",
       "        vertical-align: middle;\n",
       "    }\n",
       "\n",
       "    .dataframe tbody tr th {\n",
       "        vertical-align: top;\n",
       "    }\n",
       "\n",
       "    .dataframe thead th {\n",
       "        text-align: right;\n",
       "    }\n",
       "</style>\n",
       "<table border=\"1\" class=\"dataframe\">\n",
       "  <thead>\n",
       "    <tr style=\"text-align: right;\">\n",
       "      <th></th>\n",
       "      <th>user_id</th>\n",
       "      <th>month</th>\n",
       "      <th>call</th>\n",
       "      <th>minutes</th>\n",
       "    </tr>\n",
       "  </thead>\n",
       "  <tbody>\n",
       "    <tr>\n",
       "      <td>0</td>\n",
       "      <td>1000</td>\n",
       "      <td>2018-05-01</td>\n",
       "      <td>22</td>\n",
       "      <td>159</td>\n",
       "    </tr>\n",
       "    <tr>\n",
       "      <td>1</td>\n",
       "      <td>1000</td>\n",
       "      <td>2018-06-01</td>\n",
       "      <td>43</td>\n",
       "      <td>172</td>\n",
       "    </tr>\n",
       "    <tr>\n",
       "      <td>2</td>\n",
       "      <td>1000</td>\n",
       "      <td>2018-07-01</td>\n",
       "      <td>47</td>\n",
       "      <td>340</td>\n",
       "    </tr>\n",
       "    <tr>\n",
       "      <td>3</td>\n",
       "      <td>1000</td>\n",
       "      <td>2018-08-01</td>\n",
       "      <td>52</td>\n",
       "      <td>408</td>\n",
       "    </tr>\n",
       "    <tr>\n",
       "      <td>4</td>\n",
       "      <td>1000</td>\n",
       "      <td>2018-09-01</td>\n",
       "      <td>58</td>\n",
       "      <td>466</td>\n",
       "    </tr>\n",
       "  </tbody>\n",
       "</table>\n",
       "</div>"
      ],
      "text/plain": [
       "   user_id      month  call  minutes\n",
       "0     1000 2018-05-01    22      159\n",
       "1     1000 2018-06-01    43      172\n",
       "2     1000 2018-07-01    47      340\n",
       "3     1000 2018-08-01    52      408\n",
       "4     1000 2018-09-01    58      466"
      ]
     },
     "execution_count": 53,
     "metadata": {},
     "output_type": "execute_result"
    }
   ],
   "source": [
    "# считаем звонки за месяц по каждому пользователю \n",
    "calls_month = calls.pivot_table(index = ['user_id', 'month'], values = 'duration', aggfunc = ['count','sum']).reset_index()\n",
    "calls_month.columns = ['user_id', 'month', 'call', 'minutes']\n",
    "calls_month.head()"
   ]
  },
  {
   "cell_type": "markdown",
   "metadata": {},
   "source": [
    "#### Расчет сообщений по месяцам"
   ]
  },
  {
   "cell_type": "code",
   "execution_count": 54,
   "metadata": {
    "scrolled": true
   },
   "outputs": [
    {
     "data": {
      "text/html": [
       "<div>\n",
       "<style scoped>\n",
       "    .dataframe tbody tr th:only-of-type {\n",
       "        vertical-align: middle;\n",
       "    }\n",
       "\n",
       "    .dataframe tbody tr th {\n",
       "        vertical-align: top;\n",
       "    }\n",
       "\n",
       "    .dataframe thead th {\n",
       "        text-align: right;\n",
       "    }\n",
       "</style>\n",
       "<table border=\"1\" class=\"dataframe\">\n",
       "  <thead>\n",
       "    <tr style=\"text-align: right;\">\n",
       "      <th></th>\n",
       "      <th>user_id</th>\n",
       "      <th>month</th>\n",
       "      <th>message</th>\n",
       "    </tr>\n",
       "  </thead>\n",
       "  <tbody>\n",
       "    <tr>\n",
       "      <td>0</td>\n",
       "      <td>1000</td>\n",
       "      <td>2018-05-01</td>\n",
       "      <td>22</td>\n",
       "    </tr>\n",
       "    <tr>\n",
       "      <td>1</td>\n",
       "      <td>1000</td>\n",
       "      <td>2018-06-01</td>\n",
       "      <td>60</td>\n",
       "    </tr>\n",
       "    <tr>\n",
       "      <td>2</td>\n",
       "      <td>1000</td>\n",
       "      <td>2018-07-01</td>\n",
       "      <td>75</td>\n",
       "    </tr>\n",
       "    <tr>\n",
       "      <td>3</td>\n",
       "      <td>1000</td>\n",
       "      <td>2018-08-01</td>\n",
       "      <td>81</td>\n",
       "    </tr>\n",
       "    <tr>\n",
       "      <td>4</td>\n",
       "      <td>1000</td>\n",
       "      <td>2018-09-01</td>\n",
       "      <td>57</td>\n",
       "    </tr>\n",
       "  </tbody>\n",
       "</table>\n",
       "</div>"
      ],
      "text/plain": [
       "   user_id      month  message\n",
       "0     1000 2018-05-01       22\n",
       "1     1000 2018-06-01       60\n",
       "2     1000 2018-07-01       75\n",
       "3     1000 2018-08-01       81\n",
       "4     1000 2018-09-01       57"
      ]
     },
     "execution_count": 54,
     "metadata": {},
     "output_type": "execute_result"
    }
   ],
   "source": [
    "# считаем сообщения за месяц по каждому пользователю \n",
    "messages_month = messages.pivot_table(index = ['user_id', 'month'], values = 'id', aggfunc = 'count').reset_index()\n",
    "messages_month.columns = ['user_id', 'month', 'message']\n",
    "messages_month.head()"
   ]
  },
  {
   "cell_type": "markdown",
   "metadata": {},
   "source": [
    "#### Расчет интернет трафика по месяцам"
   ]
  },
  {
   "cell_type": "code",
   "execution_count": 55,
   "metadata": {
    "scrolled": false
   },
   "outputs": [
    {
     "data": {
      "text/html": [
       "<div>\n",
       "<style scoped>\n",
       "    .dataframe tbody tr th:only-of-type {\n",
       "        vertical-align: middle;\n",
       "    }\n",
       "\n",
       "    .dataframe tbody tr th {\n",
       "        vertical-align: top;\n",
       "    }\n",
       "\n",
       "    .dataframe thead th {\n",
       "        text-align: right;\n",
       "    }\n",
       "</style>\n",
       "<table border=\"1\" class=\"dataframe\">\n",
       "  <thead>\n",
       "    <tr style=\"text-align: right;\">\n",
       "      <th></th>\n",
       "      <th>user_id</th>\n",
       "      <th>month</th>\n",
       "      <th>mb_used</th>\n",
       "    </tr>\n",
       "  </thead>\n",
       "  <tbody>\n",
       "    <tr>\n",
       "      <td>0</td>\n",
       "      <td>1000</td>\n",
       "      <td>2018-05-01</td>\n",
       "      <td>2253</td>\n",
       "    </tr>\n",
       "    <tr>\n",
       "      <td>1</td>\n",
       "      <td>1000</td>\n",
       "      <td>2018-06-01</td>\n",
       "      <td>23233</td>\n",
       "    </tr>\n",
       "    <tr>\n",
       "      <td>2</td>\n",
       "      <td>1000</td>\n",
       "      <td>2018-07-01</td>\n",
       "      <td>14003</td>\n",
       "    </tr>\n",
       "    <tr>\n",
       "      <td>3</td>\n",
       "      <td>1000</td>\n",
       "      <td>2018-08-01</td>\n",
       "      <td>14055</td>\n",
       "    </tr>\n",
       "    <tr>\n",
       "      <td>4</td>\n",
       "      <td>1000</td>\n",
       "      <td>2018-09-01</td>\n",
       "      <td>14568</td>\n",
       "    </tr>\n",
       "  </tbody>\n",
       "</table>\n",
       "</div>"
      ],
      "text/plain": [
       "   user_id      month  mb_used\n",
       "0     1000 2018-05-01     2253\n",
       "1     1000 2018-06-01    23233\n",
       "2     1000 2018-07-01    14003\n",
       "3     1000 2018-08-01    14055\n",
       "4     1000 2018-09-01    14568"
      ]
     },
     "execution_count": 55,
     "metadata": {},
     "output_type": "execute_result"
    }
   ],
   "source": [
    "# считаем интернет трафик за месяц по каждому пользователю \n",
    "internet_month = internet.pivot_table(index = ['user_id', 'month'], values = 'mb_used', aggfunc = 'sum').reset_index()\n",
    "internet_month['mb_used'] = internet_month['mb_used'].astype(int)\n",
    "internet_month.head()"
   ]
  },
  {
   "cell_type": "markdown",
   "metadata": {},
   "source": [
    "#### Объединение данных"
   ]
  },
  {
   "cell_type": "code",
   "execution_count": 56,
   "metadata": {
    "scrolled": false
   },
   "outputs": [
    {
     "data": {
      "text/html": [
       "<div>\n",
       "<style scoped>\n",
       "    .dataframe tbody tr th:only-of-type {\n",
       "        vertical-align: middle;\n",
       "    }\n",
       "\n",
       "    .dataframe tbody tr th {\n",
       "        vertical-align: top;\n",
       "    }\n",
       "\n",
       "    .dataframe thead th {\n",
       "        text-align: right;\n",
       "    }\n",
       "</style>\n",
       "<table border=\"1\" class=\"dataframe\">\n",
       "  <thead>\n",
       "    <tr style=\"text-align: right;\">\n",
       "      <th></th>\n",
       "      <th>user_id</th>\n",
       "      <th>month</th>\n",
       "      <th>call</th>\n",
       "      <th>minutes</th>\n",
       "      <th>message</th>\n",
       "      <th>mb_used</th>\n",
       "      <th>tariff_name</th>\n",
       "      <th>city</th>\n",
       "      <th>messages_included</th>\n",
       "      <th>mb_per_month_included</th>\n",
       "      <th>minutes_included</th>\n",
       "      <th>rub_monthly_fee</th>\n",
       "      <th>rub_per_gb</th>\n",
       "      <th>rub_per_message</th>\n",
       "      <th>rub_per_minute</th>\n",
       "    </tr>\n",
       "  </thead>\n",
       "  <tbody>\n",
       "    <tr>\n",
       "      <td>0</td>\n",
       "      <td>1000</td>\n",
       "      <td>2018-05-01</td>\n",
       "      <td>22.0</td>\n",
       "      <td>159.0</td>\n",
       "      <td>22.0</td>\n",
       "      <td>2253.0</td>\n",
       "      <td>ultra</td>\n",
       "      <td>Краснодар</td>\n",
       "      <td>1000</td>\n",
       "      <td>30720</td>\n",
       "      <td>3000</td>\n",
       "      <td>1950</td>\n",
       "      <td>150</td>\n",
       "      <td>1</td>\n",
       "      <td>1</td>\n",
       "    </tr>\n",
       "    <tr>\n",
       "      <td>1</td>\n",
       "      <td>1000</td>\n",
       "      <td>2018-06-01</td>\n",
       "      <td>43.0</td>\n",
       "      <td>172.0</td>\n",
       "      <td>60.0</td>\n",
       "      <td>23233.0</td>\n",
       "      <td>ultra</td>\n",
       "      <td>Краснодар</td>\n",
       "      <td>1000</td>\n",
       "      <td>30720</td>\n",
       "      <td>3000</td>\n",
       "      <td>1950</td>\n",
       "      <td>150</td>\n",
       "      <td>1</td>\n",
       "      <td>1</td>\n",
       "    </tr>\n",
       "    <tr>\n",
       "      <td>2</td>\n",
       "      <td>1000</td>\n",
       "      <td>2018-07-01</td>\n",
       "      <td>47.0</td>\n",
       "      <td>340.0</td>\n",
       "      <td>75.0</td>\n",
       "      <td>14003.0</td>\n",
       "      <td>ultra</td>\n",
       "      <td>Краснодар</td>\n",
       "      <td>1000</td>\n",
       "      <td>30720</td>\n",
       "      <td>3000</td>\n",
       "      <td>1950</td>\n",
       "      <td>150</td>\n",
       "      <td>1</td>\n",
       "      <td>1</td>\n",
       "    </tr>\n",
       "    <tr>\n",
       "      <td>3</td>\n",
       "      <td>1000</td>\n",
       "      <td>2018-08-01</td>\n",
       "      <td>52.0</td>\n",
       "      <td>408.0</td>\n",
       "      <td>81.0</td>\n",
       "      <td>14055.0</td>\n",
       "      <td>ultra</td>\n",
       "      <td>Краснодар</td>\n",
       "      <td>1000</td>\n",
       "      <td>30720</td>\n",
       "      <td>3000</td>\n",
       "      <td>1950</td>\n",
       "      <td>150</td>\n",
       "      <td>1</td>\n",
       "      <td>1</td>\n",
       "    </tr>\n",
       "    <tr>\n",
       "      <td>4</td>\n",
       "      <td>1000</td>\n",
       "      <td>2018-09-01</td>\n",
       "      <td>58.0</td>\n",
       "      <td>466.0</td>\n",
       "      <td>57.0</td>\n",
       "      <td>14568.0</td>\n",
       "      <td>ultra</td>\n",
       "      <td>Краснодар</td>\n",
       "      <td>1000</td>\n",
       "      <td>30720</td>\n",
       "      <td>3000</td>\n",
       "      <td>1950</td>\n",
       "      <td>150</td>\n",
       "      <td>1</td>\n",
       "      <td>1</td>\n",
       "    </tr>\n",
       "  </tbody>\n",
       "</table>\n",
       "</div>"
      ],
      "text/plain": [
       "   user_id      month  call  minutes  message  mb_used tariff_name       city  \\\n",
       "0     1000 2018-05-01  22.0    159.0     22.0   2253.0       ultra  Краснодар   \n",
       "1     1000 2018-06-01  43.0    172.0     60.0  23233.0       ultra  Краснодар   \n",
       "2     1000 2018-07-01  47.0    340.0     75.0  14003.0       ultra  Краснодар   \n",
       "3     1000 2018-08-01  52.0    408.0     81.0  14055.0       ultra  Краснодар   \n",
       "4     1000 2018-09-01  58.0    466.0     57.0  14568.0       ultra  Краснодар   \n",
       "\n",
       "   messages_included  mb_per_month_included  minutes_included  \\\n",
       "0               1000                  30720              3000   \n",
       "1               1000                  30720              3000   \n",
       "2               1000                  30720              3000   \n",
       "3               1000                  30720              3000   \n",
       "4               1000                  30720              3000   \n",
       "\n",
       "   rub_monthly_fee  rub_per_gb  rub_per_message  rub_per_minute  \n",
       "0             1950         150                1               1  \n",
       "1             1950         150                1               1  \n",
       "2             1950         150                1               1  \n",
       "3             1950         150                1               1  \n",
       "4             1950         150                1               1  "
      ]
     },
     "execution_count": 56,
     "metadata": {},
     "output_type": "execute_result"
    }
   ],
   "source": [
    "# данные с тарифом по пользователю\n",
    "tariff = users[['user_id','tariff', 'city']]\n",
    "\n",
    "# объединяем все таблицы\n",
    "all_communic = calls_month.merge(messages_month, how='outer', on=['user_id', 'month'])\n",
    "all_communic = all_communic.merge(internet_month, how='outer', on=['user_id', 'month'])\n",
    "all_communic = all_communic.merge(tariff, how='outer', on=['user_id'])\n",
    "all_communic.columns = ['user_id', 'month','call', 'minutes','message','mb_used','tariff_name', 'city']\n",
    "all_communic = all_communic.merge(tariffs, how='left', on=['tariff_name'])\n",
    "all_communic.head()"
   ]
  },
  {
   "cell_type": "code",
   "execution_count": 57,
   "metadata": {},
   "outputs": [
    {
     "data": {
      "text/plain": [
       "500"
      ]
     },
     "execution_count": 57,
     "metadata": {},
     "output_type": "execute_result"
    }
   ],
   "source": [
    "# проверяем все ли пользователи на месте\n",
    "len(all_communic['user_id'].unique())"
   ]
  },
  {
   "cell_type": "markdown",
   "metadata": {},
   "source": [
    "Ранее мы определили, что не все пользователи совршали звоники, отправляли смс и пользовались интернетом, в таблице должны быть пропуски, проверим их."
   ]
  },
  {
   "cell_type": "code",
   "execution_count": 58,
   "metadata": {
    "scrolled": true
   },
   "outputs": [
    {
     "data": {
      "text/plain": [
       "user_id                    0\n",
       "month                      2\n",
       "call                      42\n",
       "minutes                   42\n",
       "message                  499\n",
       "mb_used                   13\n",
       "tariff_name                0\n",
       "city                       0\n",
       "messages_included          0\n",
       "mb_per_month_included      0\n",
       "minutes_included           0\n",
       "rub_monthly_fee            0\n",
       "rub_per_gb                 0\n",
       "rub_per_message            0\n",
       "rub_per_minute             0\n",
       "dtype: int64"
      ]
     },
     "execution_count": 58,
     "metadata": {},
     "output_type": "execute_result"
    }
   ],
   "source": [
    "# проверяем пропуски\n",
    "all_communic.isna().sum()"
   ]
  },
  {
   "cell_type": "markdown",
   "metadata": {},
   "source": [
    "У нас есть пропуски в столбце с месяцем, ранее мы обнаружили пользователей которые не пользовались услугами, посмотрим есть ли среди них те кто не пользовался услугами совсем"
   ]
  },
  {
   "cell_type": "code",
   "execution_count": 59,
   "metadata": {},
   "outputs": [
    {
     "data": {
      "text/plain": [
       "[1128, 1371]"
      ]
     },
     "execution_count": 59,
     "metadata": {},
     "output_type": "execute_result"
    }
   ],
   "source": [
    "no_used = [] \n",
    "for call in no_call:\n",
    "    if call in no_messag and no_internet:\n",
    "        no_used.append(call)\n",
    "no_used"
   ]
  },
  {
   "cell_type": "code",
   "execution_count": 60,
   "metadata": {
    "scrolled": false
   },
   "outputs": [
    {
     "data": {
      "text/html": [
       "<div>\n",
       "<style scoped>\n",
       "    .dataframe tbody tr th:only-of-type {\n",
       "        vertical-align: middle;\n",
       "    }\n",
       "\n",
       "    .dataframe tbody tr th {\n",
       "        vertical-align: top;\n",
       "    }\n",
       "\n",
       "    .dataframe thead th {\n",
       "        text-align: right;\n",
       "    }\n",
       "</style>\n",
       "<table border=\"1\" class=\"dataframe\">\n",
       "  <thead>\n",
       "    <tr style=\"text-align: right;\">\n",
       "      <th></th>\n",
       "      <th>user_id</th>\n",
       "      <th>age</th>\n",
       "      <th>churn_date</th>\n",
       "      <th>city</th>\n",
       "      <th>first_name</th>\n",
       "      <th>last_name</th>\n",
       "      <th>reg_date</th>\n",
       "      <th>tariff</th>\n",
       "    </tr>\n",
       "  </thead>\n",
       "  <tbody>\n",
       "    <tr>\n",
       "      <td>128</td>\n",
       "      <td>1128</td>\n",
       "      <td>51</td>\n",
       "      <td>2018-12-23</td>\n",
       "      <td>Волжский</td>\n",
       "      <td>Ксения</td>\n",
       "      <td>Агаева</td>\n",
       "      <td>2018-12-15</td>\n",
       "      <td>ultra</td>\n",
       "    </tr>\n",
       "  </tbody>\n",
       "</table>\n",
       "</div>"
      ],
      "text/plain": [
       "     user_id  age churn_date      city first_name last_name   reg_date tariff\n",
       "128     1128   51 2018-12-23  Волжский     Ксения    Агаева 2018-12-15  ultra"
      ]
     },
     "metadata": {},
     "output_type": "display_data"
    },
    {
     "data": {
      "text/html": [
       "<div>\n",
       "<style scoped>\n",
       "    .dataframe tbody tr th:only-of-type {\n",
       "        vertical-align: middle;\n",
       "    }\n",
       "\n",
       "    .dataframe tbody tr th {\n",
       "        vertical-align: top;\n",
       "    }\n",
       "\n",
       "    .dataframe thead th {\n",
       "        text-align: right;\n",
       "    }\n",
       "</style>\n",
       "<table border=\"1\" class=\"dataframe\">\n",
       "  <thead>\n",
       "    <tr style=\"text-align: right;\">\n",
       "      <th></th>\n",
       "      <th>user_id</th>\n",
       "      <th>age</th>\n",
       "      <th>churn_date</th>\n",
       "      <th>city</th>\n",
       "      <th>first_name</th>\n",
       "      <th>last_name</th>\n",
       "      <th>reg_date</th>\n",
       "      <th>tariff</th>\n",
       "    </tr>\n",
       "  </thead>\n",
       "  <tbody>\n",
       "    <tr>\n",
       "      <td>371</td>\n",
       "      <td>1371</td>\n",
       "      <td>50</td>\n",
       "      <td>2018-12-30</td>\n",
       "      <td>Омск</td>\n",
       "      <td>Ириней</td>\n",
       "      <td>Трофимов</td>\n",
       "      <td>2018-12-25</td>\n",
       "      <td>smart</td>\n",
       "    </tr>\n",
       "  </tbody>\n",
       "</table>\n",
       "</div>"
      ],
      "text/plain": [
       "     user_id  age churn_date  city first_name last_name   reg_date tariff\n",
       "371     1371   50 2018-12-30  Омск     Ириней  Трофимов 2018-12-25  smart"
      ]
     },
     "execution_count": 60,
     "metadata": {},
     "output_type": "execute_result"
    }
   ],
   "source": [
    "display(users.query('user_id==1128'))\n",
    "users.query('user_id==1371')"
   ]
  },
  {
   "cell_type": "markdown",
   "metadata": {},
   "source": [
    "Через несколько дней после подключения, пользователи отключили тариф, так им и невоспользовавшись. Вероятнее всего за столько дней пользования они не платили за тариф. Удалим  этих пользователей из таблицы. "
   ]
  },
  {
   "cell_type": "code",
   "execution_count": 61,
   "metadata": {},
   "outputs": [],
   "source": [
    "# удаляем строки с полдьзователями которые не пользовались услугами совсем\n",
    "all_communic = all_communic.drop(np.where(all_communic['month'].isna())[0])"
   ]
  },
  {
   "cell_type": "code",
   "execution_count": 62,
   "metadata": {
    "scrolled": false
   },
   "outputs": [
    {
     "data": {
      "text/plain": [
       "user_id                    0\n",
       "month                      0\n",
       "call                      40\n",
       "minutes                   40\n",
       "message                  497\n",
       "mb_used                   11\n",
       "tariff_name                0\n",
       "city                       0\n",
       "messages_included          0\n",
       "mb_per_month_included      0\n",
       "minutes_included           0\n",
       "rub_monthly_fee            0\n",
       "rub_per_gb                 0\n",
       "rub_per_message            0\n",
       "rub_per_minute             0\n",
       "dtype: int64"
      ]
     },
     "execution_count": 62,
     "metadata": {},
     "output_type": "execute_result"
    }
   ],
   "source": [
    "# проверяем пропуски\n",
    "all_communic.isna().sum()"
   ]
  },
  {
   "cell_type": "markdown",
   "metadata": {},
   "source": [
    "Логично будет заменить пропуски на \"0\", так как не было коммуникаций"
   ]
  },
  {
   "cell_type": "code",
   "execution_count": 63,
   "metadata": {},
   "outputs": [],
   "source": [
    "# меняем все остальные пропуски на 0 \n",
    "all_communic = all_communic.fillna(0)"
   ]
  },
  {
   "cell_type": "code",
   "execution_count": 64,
   "metadata": {},
   "outputs": [
    {
     "name": "stdout",
     "output_type": "stream",
     "text": [
      "<class 'pandas.core.frame.DataFrame'>\n",
      "Int64Index: 3214 entries, 0 to 3213\n",
      "Data columns (total 15 columns):\n",
      "user_id                  3214 non-null int64\n",
      "month                    3214 non-null datetime64[ns]\n",
      "call                     3214 non-null float64\n",
      "minutes                  3214 non-null float64\n",
      "message                  3214 non-null float64\n",
      "mb_used                  3214 non-null float64\n",
      "tariff_name              3214 non-null object\n",
      "city                     3214 non-null object\n",
      "messages_included        3214 non-null int64\n",
      "mb_per_month_included    3214 non-null int64\n",
      "minutes_included         3214 non-null int64\n",
      "rub_monthly_fee          3214 non-null int64\n",
      "rub_per_gb               3214 non-null int64\n",
      "rub_per_message          3214 non-null int64\n",
      "rub_per_minute           3214 non-null int64\n",
      "dtypes: datetime64[ns](1), float64(4), int64(8), object(2)\n",
      "memory usage: 401.8+ KB\n"
     ]
    }
   ],
   "source": [
    "# общая информация о таблице\n",
    "all_communic.info()"
   ]
  },
  {
   "cell_type": "markdown",
   "metadata": {},
   "source": [
    " #### Расчет помесячной выручки  каждого пользователя."
   ]
  },
  {
   "cell_type": "markdown",
   "metadata": {},
   "source": [
    "Создадим в таблице дополнительные столбцы, в которых вычтем бесплатный лимит из суммарного количества звонков, сообщений и интернет трафика."
   ]
  },
  {
   "cell_type": "code",
   "execution_count": 65,
   "metadata": {},
   "outputs": [],
   "source": [
    "# добавляем необходимые столбцы\n",
    "all_communic['minutes_overrun']  = all_communic['minutes'] - all_communic['minutes_included']\n",
    "all_communic['messages_overrun'] = all_communic['message'] - all_communic['messages_included']\n",
    "all_communic['gb_overrun']  = all_communic['mb_used'] - all_communic['mb_per_month_included'] "
   ]
  },
  {
   "cell_type": "code",
   "execution_count": 66,
   "metadata": {},
   "outputs": [],
   "source": [
    "# переводим мб в гб и округляем в большую сторону согласно условию компании\n",
    "all_communic['gb_overrun'] =  np.ceil(all_communic['gb_overrun']/1024)"
   ]
  },
  {
   "cell_type": "code",
   "execution_count": 67,
   "metadata": {},
   "outputs": [
    {
     "data": {
      "text/html": [
       "<div>\n",
       "<style scoped>\n",
       "    .dataframe tbody tr th:only-of-type {\n",
       "        vertical-align: middle;\n",
       "    }\n",
       "\n",
       "    .dataframe tbody tr th {\n",
       "        vertical-align: top;\n",
       "    }\n",
       "\n",
       "    .dataframe thead th {\n",
       "        text-align: right;\n",
       "    }\n",
       "</style>\n",
       "<table border=\"1\" class=\"dataframe\">\n",
       "  <thead>\n",
       "    <tr style=\"text-align: right;\">\n",
       "      <th></th>\n",
       "      <th>user_id</th>\n",
       "      <th>month</th>\n",
       "      <th>call</th>\n",
       "      <th>minutes</th>\n",
       "      <th>message</th>\n",
       "      <th>mb_used</th>\n",
       "      <th>tariff_name</th>\n",
       "      <th>city</th>\n",
       "      <th>messages_included</th>\n",
       "      <th>mb_per_month_included</th>\n",
       "      <th>minutes_included</th>\n",
       "      <th>rub_monthly_fee</th>\n",
       "      <th>rub_per_gb</th>\n",
       "      <th>rub_per_message</th>\n",
       "      <th>rub_per_minute</th>\n",
       "      <th>minutes_overrun</th>\n",
       "      <th>messages_overrun</th>\n",
       "      <th>gb_overrun</th>\n",
       "    </tr>\n",
       "  </thead>\n",
       "  <tbody>\n",
       "    <tr>\n",
       "      <td>0</td>\n",
       "      <td>1000</td>\n",
       "      <td>2018-05-01</td>\n",
       "      <td>22.0</td>\n",
       "      <td>159.0</td>\n",
       "      <td>22.0</td>\n",
       "      <td>2253.0</td>\n",
       "      <td>ultra</td>\n",
       "      <td>Краснодар</td>\n",
       "      <td>1000</td>\n",
       "      <td>30720</td>\n",
       "      <td>3000</td>\n",
       "      <td>1950</td>\n",
       "      <td>150</td>\n",
       "      <td>1</td>\n",
       "      <td>1</td>\n",
       "      <td>-2841.0</td>\n",
       "      <td>-978.0</td>\n",
       "      <td>-27.0</td>\n",
       "    </tr>\n",
       "    <tr>\n",
       "      <td>1</td>\n",
       "      <td>1000</td>\n",
       "      <td>2018-06-01</td>\n",
       "      <td>43.0</td>\n",
       "      <td>172.0</td>\n",
       "      <td>60.0</td>\n",
       "      <td>23233.0</td>\n",
       "      <td>ultra</td>\n",
       "      <td>Краснодар</td>\n",
       "      <td>1000</td>\n",
       "      <td>30720</td>\n",
       "      <td>3000</td>\n",
       "      <td>1950</td>\n",
       "      <td>150</td>\n",
       "      <td>1</td>\n",
       "      <td>1</td>\n",
       "      <td>-2828.0</td>\n",
       "      <td>-940.0</td>\n",
       "      <td>-7.0</td>\n",
       "    </tr>\n",
       "    <tr>\n",
       "      <td>2</td>\n",
       "      <td>1000</td>\n",
       "      <td>2018-07-01</td>\n",
       "      <td>47.0</td>\n",
       "      <td>340.0</td>\n",
       "      <td>75.0</td>\n",
       "      <td>14003.0</td>\n",
       "      <td>ultra</td>\n",
       "      <td>Краснодар</td>\n",
       "      <td>1000</td>\n",
       "      <td>30720</td>\n",
       "      <td>3000</td>\n",
       "      <td>1950</td>\n",
       "      <td>150</td>\n",
       "      <td>1</td>\n",
       "      <td>1</td>\n",
       "      <td>-2660.0</td>\n",
       "      <td>-925.0</td>\n",
       "      <td>-16.0</td>\n",
       "    </tr>\n",
       "    <tr>\n",
       "      <td>3</td>\n",
       "      <td>1000</td>\n",
       "      <td>2018-08-01</td>\n",
       "      <td>52.0</td>\n",
       "      <td>408.0</td>\n",
       "      <td>81.0</td>\n",
       "      <td>14055.0</td>\n",
       "      <td>ultra</td>\n",
       "      <td>Краснодар</td>\n",
       "      <td>1000</td>\n",
       "      <td>30720</td>\n",
       "      <td>3000</td>\n",
       "      <td>1950</td>\n",
       "      <td>150</td>\n",
       "      <td>1</td>\n",
       "      <td>1</td>\n",
       "      <td>-2592.0</td>\n",
       "      <td>-919.0</td>\n",
       "      <td>-16.0</td>\n",
       "    </tr>\n",
       "    <tr>\n",
       "      <td>4</td>\n",
       "      <td>1000</td>\n",
       "      <td>2018-09-01</td>\n",
       "      <td>58.0</td>\n",
       "      <td>466.0</td>\n",
       "      <td>57.0</td>\n",
       "      <td>14568.0</td>\n",
       "      <td>ultra</td>\n",
       "      <td>Краснодар</td>\n",
       "      <td>1000</td>\n",
       "      <td>30720</td>\n",
       "      <td>3000</td>\n",
       "      <td>1950</td>\n",
       "      <td>150</td>\n",
       "      <td>1</td>\n",
       "      <td>1</td>\n",
       "      <td>-2534.0</td>\n",
       "      <td>-943.0</td>\n",
       "      <td>-15.0</td>\n",
       "    </tr>\n",
       "  </tbody>\n",
       "</table>\n",
       "</div>"
      ],
      "text/plain": [
       "   user_id      month  call  minutes  message  mb_used tariff_name       city  \\\n",
       "0     1000 2018-05-01  22.0    159.0     22.0   2253.0       ultra  Краснодар   \n",
       "1     1000 2018-06-01  43.0    172.0     60.0  23233.0       ultra  Краснодар   \n",
       "2     1000 2018-07-01  47.0    340.0     75.0  14003.0       ultra  Краснодар   \n",
       "3     1000 2018-08-01  52.0    408.0     81.0  14055.0       ultra  Краснодар   \n",
       "4     1000 2018-09-01  58.0    466.0     57.0  14568.0       ultra  Краснодар   \n",
       "\n",
       "   messages_included  mb_per_month_included  minutes_included  \\\n",
       "0               1000                  30720              3000   \n",
       "1               1000                  30720              3000   \n",
       "2               1000                  30720              3000   \n",
       "3               1000                  30720              3000   \n",
       "4               1000                  30720              3000   \n",
       "\n",
       "   rub_monthly_fee  rub_per_gb  rub_per_message  rub_per_minute  \\\n",
       "0             1950         150                1               1   \n",
       "1             1950         150                1               1   \n",
       "2             1950         150                1               1   \n",
       "3             1950         150                1               1   \n",
       "4             1950         150                1               1   \n",
       "\n",
       "   minutes_overrun  messages_overrun  gb_overrun  \n",
       "0          -2841.0            -978.0       -27.0  \n",
       "1          -2828.0            -940.0        -7.0  \n",
       "2          -2660.0            -925.0       -16.0  \n",
       "3          -2592.0            -919.0       -16.0  \n",
       "4          -2534.0            -943.0       -15.0  "
      ]
     },
     "execution_count": 67,
     "metadata": {},
     "output_type": "execute_result"
    }
   ],
   "source": [
    "# Смотрим таблицу\n",
    "all_communic.head()"
   ]
  },
  {
   "cell_type": "code",
   "execution_count": 68,
   "metadata": {},
   "outputs": [],
   "source": [
    "# функция возвращает  стоимость услуг потраченных сверх лимита по тарифу\n",
    "def get_revenue(row):\n",
    "    revenue_by_min = 0\n",
    "    revenue_by_messages = 0\n",
    "    revenue_gb = 0\n",
    "    if row['minutes_overrun'] > 0:\n",
    "        revenue_by_min = row['minutes_overrun'] * row['rub_per_minute']\n",
    " \n",
    "    if row['messages_overrun'] > 0:\n",
    "        revenue_by_messages = row['messages_overrun'] * row['rub_per_message']\n",
    " \n",
    "    if row['gb_overrun'] > 0:\n",
    "        revenue_gb = row['gb_overrun'] * row['rub_per_gb']\n",
    " \n",
    "    return (revenue_by_min + revenue_by_messages + revenue_gb)\n",
    " \n",
    "all_communic['total_income'] = all_communic.apply(get_revenue, axis=1) + all_communic['rub_monthly_fee']"
   ]
  },
  {
   "cell_type": "code",
   "execution_count": 69,
   "metadata": {},
   "outputs": [
    {
     "data": {
      "text/html": [
       "<div>\n",
       "<style scoped>\n",
       "    .dataframe tbody tr th:only-of-type {\n",
       "        vertical-align: middle;\n",
       "    }\n",
       "\n",
       "    .dataframe tbody tr th {\n",
       "        vertical-align: top;\n",
       "    }\n",
       "\n",
       "    .dataframe thead th {\n",
       "        text-align: right;\n",
       "    }\n",
       "</style>\n",
       "<table border=\"1\" class=\"dataframe\">\n",
       "  <thead>\n",
       "    <tr style=\"text-align: right;\">\n",
       "      <th></th>\n",
       "      <th>user_id</th>\n",
       "      <th>month</th>\n",
       "      <th>call</th>\n",
       "      <th>minutes</th>\n",
       "      <th>message</th>\n",
       "      <th>mb_used</th>\n",
       "      <th>tariff_name</th>\n",
       "      <th>city</th>\n",
       "      <th>messages_included</th>\n",
       "      <th>mb_per_month_included</th>\n",
       "      <th>minutes_included</th>\n",
       "      <th>rub_monthly_fee</th>\n",
       "      <th>rub_per_gb</th>\n",
       "      <th>rub_per_message</th>\n",
       "      <th>rub_per_minute</th>\n",
       "      <th>minutes_overrun</th>\n",
       "      <th>messages_overrun</th>\n",
       "      <th>gb_overrun</th>\n",
       "      <th>total_income</th>\n",
       "    </tr>\n",
       "  </thead>\n",
       "  <tbody>\n",
       "    <tr>\n",
       "      <td>0</td>\n",
       "      <td>1000</td>\n",
       "      <td>2018-05-01</td>\n",
       "      <td>22.0</td>\n",
       "      <td>159.0</td>\n",
       "      <td>22.0</td>\n",
       "      <td>2253.0</td>\n",
       "      <td>ultra</td>\n",
       "      <td>Краснодар</td>\n",
       "      <td>1000</td>\n",
       "      <td>30720</td>\n",
       "      <td>3000</td>\n",
       "      <td>1950</td>\n",
       "      <td>150</td>\n",
       "      <td>1</td>\n",
       "      <td>1</td>\n",
       "      <td>-2841.0</td>\n",
       "      <td>-978.0</td>\n",
       "      <td>-27.0</td>\n",
       "      <td>1950.0</td>\n",
       "    </tr>\n",
       "    <tr>\n",
       "      <td>1</td>\n",
       "      <td>1000</td>\n",
       "      <td>2018-06-01</td>\n",
       "      <td>43.0</td>\n",
       "      <td>172.0</td>\n",
       "      <td>60.0</td>\n",
       "      <td>23233.0</td>\n",
       "      <td>ultra</td>\n",
       "      <td>Краснодар</td>\n",
       "      <td>1000</td>\n",
       "      <td>30720</td>\n",
       "      <td>3000</td>\n",
       "      <td>1950</td>\n",
       "      <td>150</td>\n",
       "      <td>1</td>\n",
       "      <td>1</td>\n",
       "      <td>-2828.0</td>\n",
       "      <td>-940.0</td>\n",
       "      <td>-7.0</td>\n",
       "      <td>1950.0</td>\n",
       "    </tr>\n",
       "    <tr>\n",
       "      <td>2</td>\n",
       "      <td>1000</td>\n",
       "      <td>2018-07-01</td>\n",
       "      <td>47.0</td>\n",
       "      <td>340.0</td>\n",
       "      <td>75.0</td>\n",
       "      <td>14003.0</td>\n",
       "      <td>ultra</td>\n",
       "      <td>Краснодар</td>\n",
       "      <td>1000</td>\n",
       "      <td>30720</td>\n",
       "      <td>3000</td>\n",
       "      <td>1950</td>\n",
       "      <td>150</td>\n",
       "      <td>1</td>\n",
       "      <td>1</td>\n",
       "      <td>-2660.0</td>\n",
       "      <td>-925.0</td>\n",
       "      <td>-16.0</td>\n",
       "      <td>1950.0</td>\n",
       "    </tr>\n",
       "    <tr>\n",
       "      <td>3</td>\n",
       "      <td>1000</td>\n",
       "      <td>2018-08-01</td>\n",
       "      <td>52.0</td>\n",
       "      <td>408.0</td>\n",
       "      <td>81.0</td>\n",
       "      <td>14055.0</td>\n",
       "      <td>ultra</td>\n",
       "      <td>Краснодар</td>\n",
       "      <td>1000</td>\n",
       "      <td>30720</td>\n",
       "      <td>3000</td>\n",
       "      <td>1950</td>\n",
       "      <td>150</td>\n",
       "      <td>1</td>\n",
       "      <td>1</td>\n",
       "      <td>-2592.0</td>\n",
       "      <td>-919.0</td>\n",
       "      <td>-16.0</td>\n",
       "      <td>1950.0</td>\n",
       "    </tr>\n",
       "    <tr>\n",
       "      <td>4</td>\n",
       "      <td>1000</td>\n",
       "      <td>2018-09-01</td>\n",
       "      <td>58.0</td>\n",
       "      <td>466.0</td>\n",
       "      <td>57.0</td>\n",
       "      <td>14568.0</td>\n",
       "      <td>ultra</td>\n",
       "      <td>Краснодар</td>\n",
       "      <td>1000</td>\n",
       "      <td>30720</td>\n",
       "      <td>3000</td>\n",
       "      <td>1950</td>\n",
       "      <td>150</td>\n",
       "      <td>1</td>\n",
       "      <td>1</td>\n",
       "      <td>-2534.0</td>\n",
       "      <td>-943.0</td>\n",
       "      <td>-15.0</td>\n",
       "      <td>1950.0</td>\n",
       "    </tr>\n",
       "  </tbody>\n",
       "</table>\n",
       "</div>"
      ],
      "text/plain": [
       "   user_id      month  call  minutes  message  mb_used tariff_name       city  \\\n",
       "0     1000 2018-05-01  22.0    159.0     22.0   2253.0       ultra  Краснодар   \n",
       "1     1000 2018-06-01  43.0    172.0     60.0  23233.0       ultra  Краснодар   \n",
       "2     1000 2018-07-01  47.0    340.0     75.0  14003.0       ultra  Краснодар   \n",
       "3     1000 2018-08-01  52.0    408.0     81.0  14055.0       ultra  Краснодар   \n",
       "4     1000 2018-09-01  58.0    466.0     57.0  14568.0       ultra  Краснодар   \n",
       "\n",
       "   messages_included  mb_per_month_included  minutes_included  \\\n",
       "0               1000                  30720              3000   \n",
       "1               1000                  30720              3000   \n",
       "2               1000                  30720              3000   \n",
       "3               1000                  30720              3000   \n",
       "4               1000                  30720              3000   \n",
       "\n",
       "   rub_monthly_fee  rub_per_gb  rub_per_message  rub_per_minute  \\\n",
       "0             1950         150                1               1   \n",
       "1             1950         150                1               1   \n",
       "2             1950         150                1               1   \n",
       "3             1950         150                1               1   \n",
       "4             1950         150                1               1   \n",
       "\n",
       "   minutes_overrun  messages_overrun  gb_overrun  total_income  \n",
       "0          -2841.0            -978.0       -27.0        1950.0  \n",
       "1          -2828.0            -940.0        -7.0        1950.0  \n",
       "2          -2660.0            -925.0       -16.0        1950.0  \n",
       "3          -2592.0            -919.0       -16.0        1950.0  \n",
       "4          -2534.0            -943.0       -15.0        1950.0  "
      ]
     },
     "execution_count": 69,
     "metadata": {},
     "output_type": "execute_result"
    }
   ],
   "source": [
    "# смотрим таблицу\n",
    "all_communic.head()"
   ]
  },
  {
   "cell_type": "code",
   "execution_count": 70,
   "metadata": {
    "scrolled": true
   },
   "outputs": [
    {
     "data": {
      "text/plain": [
       "count    3214.000000\n",
       "mean     1529.076229\n",
       "std       798.251091\n",
       "min       550.000000\n",
       "25%       750.000000\n",
       "50%      1653.500000\n",
       "75%      1950.000000\n",
       "max      6770.000000\n",
       "Name: total_income, dtype: float64"
      ]
     },
     "execution_count": 70,
     "metadata": {},
     "output_type": "execute_result"
    }
   ],
   "source": [
    "# числовое описание данных\n",
    "all_communic['total_income'].describe()"
   ]
  },
  {
   "cell_type": "markdown",
   "metadata": {},
   "source": [
    "**Вывод**\n",
    "\n",
    "Предобработка не выявила проблем в данных, пропущенных и аномальных значений не было. Изменили тип данных в столбцах с датами. Добавили в таблицы столбец `month` для дальнейших расчетов, объединили  данные в одну таблицу, произвели необходимые расчеты."
   ]
  },
  {
   "cell_type": "markdown",
   "metadata": {},
   "source": [
    "## Анализ данных"
   ]
  },
  {
   "cell_type": "markdown",
   "metadata": {},
   "source": [
    "Необходимо описать поведение клиентов оператора, исходя из выборки. Сколько минут разговора, сколько сообщений и какой объём интернет-трафика требуется пользователям каждого тарифа в месяц. Посчитать среднее количество, дисперсию и стандартное отклонение. Построить гистограммы. Описать распределения."
   ]
  },
  {
   "cell_type": "code",
   "execution_count": 71,
   "metadata": {
    "scrolled": false
   },
   "outputs": [
    {
     "data": {
      "image/png": "[encoded data removed]",
      "text/plain": [
       "<Figure size 1152x576 with 3 Axes>"
      ]
     },
     "metadata": {
      "needs_background": "light"
     },
     "output_type": "display_data"
    }
   ],
   "source": [
    "# цикл рисует boxplot \n",
    "fig, (ax1, ax2, ax3) = plt.subplots(nrows=1, ncols=3, figsize=(16, 8))\n",
    "p = {ax1:'minutes', ax2:'message', ax3:'mb_used'}\n",
    "for ax in [ax1, ax2, ax3]:\n",
    "    ax.boxplot(all_communic[p[ax]])\n",
    "    ax.grid()\n",
    "    ax.set_title(p[ax])\n",
    "    \n",
    "\n",
    "fig.autofmt_xdate()"
   ]
  },
  {
   "cell_type": "markdown",
   "metadata": {},
   "source": [
    "Сильных выбросов нет"
   ]
  },
  {
   "cell_type": "code",
   "execution_count": 72,
   "metadata": {},
   "outputs": [
    {
     "data": {
      "image/png": "[encoded data removed]",
      "text/plain": [
       "<Figure size 864x360 with 1 Axes>"
      ]
     },
     "metadata": {
      "needs_background": "light"
     },
     "output_type": "display_data"
    },
    {
     "data": {
      "image/png": "[encoded data removed]",
      "text/plain": [
       "<Figure size 864x360 with 1 Axes>"
      ]
     },
     "metadata": {
      "needs_background": "light"
     },
     "output_type": "display_data"
    },
    {
     "data": {
      "image/png": "[encoded data removed]",
      "text/plain": [
       "<Figure size 864x360 with 1 Axes>"
      ]
     },
     "metadata": {
      "needs_background": "light"
     },
     "output_type": "display_data"
    }
   ],
   "source": [
    "# смотрим частоту использования услуг\n",
    "for commun in ['minutes','message', 'mb_used']:\n",
    "    plt.figure(figsize=(12, 5))\n",
    "    ax = all_communic.query('tariff_name == \"smart\"')[commun].plot.hist(bins=30,color='c',alpha=0.8,label='smart',)\n",
    "    all_communic.query('tariff_name == \"ultra\"')[commun].plot.hist(bins=30,color='b',alpha=0.4,label='ultra',ax=ax,)\n",
    "    plt.xlabel(commun)\n",
    "    plt.ylabel('Частота')\n",
    "    plt.title(f'Распределение {commun} в месяцам для обоих тарифов')\n",
    "    plt.grid()\n",
    "    plt.legend()\n",
    "    plt.show();"
   ]
  },
  {
   "cell_type": "code",
   "execution_count": 73,
   "metadata": {
    "scrolled": true
   },
   "outputs": [
    {
     "data": {
      "text/html": [
       "<div>\n",
       "<style scoped>\n",
       "    .dataframe tbody tr th:only-of-type {\n",
       "        vertical-align: middle;\n",
       "    }\n",
       "\n",
       "    .dataframe tbody tr th {\n",
       "        vertical-align: top;\n",
       "    }\n",
       "\n",
       "    .dataframe thead th {\n",
       "        text-align: right;\n",
       "    }\n",
       "</style>\n",
       "<table border=\"1\" class=\"dataframe\">\n",
       "  <thead>\n",
       "    <tr style=\"text-align: right;\">\n",
       "      <th></th>\n",
       "      <th>tariff</th>\n",
       "      <th>mean_mb</th>\n",
       "      <th>mean_mes</th>\n",
       "      <th>mean_min</th>\n",
       "      <th>var_mb</th>\n",
       "      <th>var_mes</th>\n",
       "      <th>var_min</th>\n",
       "      <th>std_mb</th>\n",
       "      <th>std_mes</th>\n",
       "      <th>std_min</th>\n",
       "    </tr>\n",
       "  </thead>\n",
       "  <tbody>\n",
       "    <tr>\n",
       "      <td>0</td>\n",
       "      <td>smart</td>\n",
       "      <td>16207.879318</td>\n",
       "      <td>33.384029</td>\n",
       "      <td>417.934948</td>\n",
       "      <td>3.446254e+07</td>\n",
       "      <td>796.812958</td>\n",
       "      <td>36219.315784</td>\n",
       "      <td>5870.480175</td>\n",
       "      <td>28.227876</td>\n",
       "      <td>190.313730</td>\n",
       "    </tr>\n",
       "    <tr>\n",
       "      <td>1</td>\n",
       "      <td>ultra</td>\n",
       "      <td>19468.322843</td>\n",
       "      <td>49.363452</td>\n",
       "      <td>526.623350</td>\n",
       "      <td>1.017511e+08</td>\n",
       "      <td>2285.266143</td>\n",
       "      <td>100873.633397</td>\n",
       "      <td>10087.173788</td>\n",
       "      <td>47.804457</td>\n",
       "      <td>317.606098</td>\n",
       "    </tr>\n",
       "  </tbody>\n",
       "</table>\n",
       "</div>"
      ],
      "text/plain": [
       "  tariff       mean_mb   mean_mes    mean_min        var_mb      var_mes  \\\n",
       "0  smart  16207.879318  33.384029  417.934948  3.446254e+07   796.812958   \n",
       "1  ultra  19468.322843  49.363452  526.623350  1.017511e+08  2285.266143   \n",
       "\n",
       "         var_min        std_mb    std_mes     std_min  \n",
       "0   36219.315784   5870.480175  28.227876  190.313730  \n",
       "1  100873.633397  10087.173788  47.804457  317.606098  "
      ]
     },
     "execution_count": 73,
     "metadata": {},
     "output_type": "execute_result"
    }
   ],
   "source": [
    "# считаем среднее, дисперсию и стандартное отклонение\n",
    "data_std_var_mean = all_communic.pivot_table(index = ['tariff_name' ], values = ['minutes','message', 'mb_used'],\\\n",
    "                                             aggfunc = ['mean', 'var','std']).reset_index()\n",
    "data_std_var_mean.columns = ['tariff','mean_mb','mean_mes','mean_min','var_mb','var_mes',\\\n",
    "                             'var_min','std_mb','std_mes','std_min']\n",
    "data_std_var_mean"
   ]
  },
  {
   "cell_type": "markdown",
   "metadata": {},
   "source": [
    "По стандарному отклонению можно сказать что разброс у СМС довольно большой, и это видно на гистограме - большое количество пользователей не отправляет СМС, по интернет трафику и звонкам, разброс нормальный."
   ]
  },
  {
   "cell_type": "code",
   "execution_count": 74,
   "metadata": {},
   "outputs": [],
   "source": [
    "# создаем таблицу с суммами звонков, смс и интернета в месяц по всем пользователям\n",
    "data = all_communic.pivot_table(index = ['month', 'tariff_name'], values = ['minutes','message', 'mb_used'], aggfunc = 'sum').reset_index()"
   ]
  },
  {
   "cell_type": "code",
   "execution_count": 75,
   "metadata": {
    "scrolled": false
   },
   "outputs": [
    {
     "data": {
      "image/png": "[encoded data removed]",
      "text/plain": [
       "<Figure size 864x360 with 1 Axes>"
      ]
     },
     "metadata": {
      "needs_background": "light"
     },
     "output_type": "display_data"
    },
    {
     "data": {
      "image/png": "[encoded data removed]",
      "text/plain": [
       "<Figure size 864x360 with 1 Axes>"
      ]
     },
     "metadata": {
      "needs_background": "light"
     },
     "output_type": "display_data"
    },
    {
     "data": {
      "image/png": "[encoded data removed]",
      "text/plain": [
       "<Figure size 864x360 with 1 Axes>"
      ]
     },
     "metadata": {
      "needs_background": "light"
     },
     "output_type": "display_data"
    }
   ],
   "source": [
    "# цикл рисует графики по всем  параметрам\n",
    "for commun in ['minutes','message', 'mb_used']:\n",
    "    \n",
    "    plt.figure(figsize=(12, 5))\n",
    "    plt.bar(data.query('tariff_name == \"smart\"')['month'], data.query('tariff_name == \"smart\"')[commun],\\\n",
    "            label='smart', color='c', alpha=0.8, width=18)\n",
    "    plt.bar(data.query('tariff_name == \"ultra\"')['month'], data.query('tariff_name == \"ultra\"')[commun], \\\n",
    "            label='ultra', color='b', alpha=0.4, width=27)\n",
    "\n",
    "    plt.xlabel('Месяц')\n",
    "    plt.ylabel(commun)\n",
    "    plt.grid()\n",
    "    plt.title(f'Общее количество {commun} по месяцам')\n",
    "    plt.legend()\n",
    "plt.show();"
   ]
  },
  {
   "cell_type": "markdown",
   "metadata": {},
   "source": [
    "По полученным данным видим, что расход минут, смс и интернета с каждым месяцем становится больше на обоих тарифах, соответственно,  с каждым месяцем становилось больше клиентов. Пользователи тарифа \"smart\" тратят больше минут, СМС и интернета, чем пользователи тарифа \"ultra\", скорее всего это связано с тем, что пользователей на тарифе \"smart\" в два раза больше, по ранее полученным данным на \"smart\"-351,  на \"ultra\"-149 пользователей."
   ]
  },
  {
   "cell_type": "markdown",
   "metadata": {},
   "source": [
    "Посмотрим медианные показатели пользователей по месяцам по обоим тарифам."
   ]
  },
  {
   "cell_type": "code",
   "execution_count": 76,
   "metadata": {},
   "outputs": [],
   "source": [
    "# создаем таблицу с медианными значениями звонков, смс и интернета в месяц\n",
    "data_median = all_communic.pivot_table(index = ['month', 'tariff_name'], values = ['minutes','message', 'mb_used'], aggfunc = 'median').reset_index()"
   ]
  },
  {
   "cell_type": "code",
   "execution_count": 77,
   "metadata": {
    "scrolled": false
   },
   "outputs": [
    {
     "data": {
      "image/png": "[encoded data removed]",
      "text/plain": [
       "<Figure size 864x360 with 1 Axes>"
      ]
     },
     "metadata": {
      "needs_background": "light"
     },
     "output_type": "display_data"
    },
    {
     "data": {
      "image/png": "[encoded data removed]",
      "text/plain": [
       "<Figure size 864x360 with 1 Axes>"
      ]
     },
     "metadata": {
      "needs_background": "light"
     },
     "output_type": "display_data"
    },
    {
     "data": {
      "image/png": "[encoded data removed]",
      "text/plain": [
       "<Figure size 864x360 with 1 Axes>"
      ]
     },
     "metadata": {
      "needs_background": "light"
     },
     "output_type": "display_data"
    }
   ],
   "source": [
    "# цикл рисует графики по всем  параметрам\n",
    "for commun in ['minutes','message', 'mb_used']:\n",
    "    \n",
    "    plt.figure(figsize=(12,5))\n",
    "    plt.bar(data_median.query('tariff_name == \"smart\"')['month'], data_median.query('tariff_name == \"smart\"')[commun],\\\n",
    "            label='smart', color='c', alpha=1, width=18)\n",
    "    plt.bar(data_median.query('tariff_name == \"ultra\"')['month'], data_median.query('tariff_name == \"ultra\"')[commun],\\\n",
    "            label='ultra', color='b', alpha=0.3, width=27)\n",
    "\n",
    "    plt.xlabel('Месяц')\n",
    "    plt.ylabel(commun)\n",
    "    plt.grid()\n",
    "    plt.title(f'Медианное количество {commun} по месяцам')\n",
    "    plt.legend()\n",
    "plt.show();\n",
    "\n"
   ]
  },
  {
   "cell_type": "markdown",
   "metadata": {},
   "source": [
    "По тарифу \"ultra\" в феврале месяце  сильный спад, посмотрим детальнее"
   ]
  },
  {
   "cell_type": "code",
   "execution_count": 78,
   "metadata": {},
   "outputs": [
    {
     "data": {
      "text/html": [
       "<div>\n",
       "<style scoped>\n",
       "    .dataframe tbody tr th:only-of-type {\n",
       "        vertical-align: middle;\n",
       "    }\n",
       "\n",
       "    .dataframe tbody tr th {\n",
       "        vertical-align: top;\n",
       "    }\n",
       "\n",
       "    .dataframe thead th {\n",
       "        text-align: right;\n",
       "    }\n",
       "</style>\n",
       "<table border=\"1\" class=\"dataframe\">\n",
       "  <thead>\n",
       "    <tr style=\"text-align: right;\">\n",
       "      <th></th>\n",
       "      <th>index</th>\n",
       "      <th>user_id</th>\n",
       "      <th>age</th>\n",
       "      <th>churn_date</th>\n",
       "      <th>city</th>\n",
       "      <th>first_name</th>\n",
       "      <th>last_name</th>\n",
       "      <th>reg_date</th>\n",
       "      <th>tariff</th>\n",
       "      <th>month</th>\n",
       "    </tr>\n",
       "  </thead>\n",
       "  <tbody>\n",
       "    <tr>\n",
       "      <td>0</td>\n",
       "      <td>89</td>\n",
       "      <td>1089</td>\n",
       "      <td>19</td>\n",
       "      <td>NaT</td>\n",
       "      <td>Иркутск</td>\n",
       "      <td>Ксения</td>\n",
       "      <td>Нечаева</td>\n",
       "      <td>2018-02-24</td>\n",
       "      <td>ultra</td>\n",
       "      <td>2018-02-01</td>\n",
       "    </tr>\n",
       "    <tr>\n",
       "      <td>1</td>\n",
       "      <td>104</td>\n",
       "      <td>1104</td>\n",
       "      <td>60</td>\n",
       "      <td>NaT</td>\n",
       "      <td>Нижний Тагил</td>\n",
       "      <td>Габриэль</td>\n",
       "      <td>Поляков</td>\n",
       "      <td>2018-02-21</td>\n",
       "      <td>ultra</td>\n",
       "      <td>2018-02-01</td>\n",
       "    </tr>\n",
       "    <tr>\n",
       "      <td>2</td>\n",
       "      <td>120</td>\n",
       "      <td>1120</td>\n",
       "      <td>25</td>\n",
       "      <td>NaT</td>\n",
       "      <td>Краснодар</td>\n",
       "      <td>Агнесса</td>\n",
       "      <td>Абдулина</td>\n",
       "      <td>2018-01-24</td>\n",
       "      <td>ultra</td>\n",
       "      <td>2018-01-01</td>\n",
       "    </tr>\n",
       "    <tr>\n",
       "      <td>3</td>\n",
       "      <td>126</td>\n",
       "      <td>1126</td>\n",
       "      <td>71</td>\n",
       "      <td>NaT</td>\n",
       "      <td>Санкт-Петербург</td>\n",
       "      <td>Яна</td>\n",
       "      <td>Арсенкова</td>\n",
       "      <td>2018-01-19</td>\n",
       "      <td>ultra</td>\n",
       "      <td>2018-01-01</td>\n",
       "    </tr>\n",
       "    <tr>\n",
       "      <td>4</td>\n",
       "      <td>152</td>\n",
       "      <td>1152</td>\n",
       "      <td>44</td>\n",
       "      <td>NaT</td>\n",
       "      <td>Мурманск</td>\n",
       "      <td>Марина</td>\n",
       "      <td>Щербакова</td>\n",
       "      <td>2018-02-05</td>\n",
       "      <td>ultra</td>\n",
       "      <td>2018-02-01</td>\n",
       "    </tr>\n",
       "    <tr>\n",
       "      <td>5</td>\n",
       "      <td>168</td>\n",
       "      <td>1168</td>\n",
       "      <td>28</td>\n",
       "      <td>NaT</td>\n",
       "      <td>Кострома</td>\n",
       "      <td>Лилия</td>\n",
       "      <td>Ананьева</td>\n",
       "      <td>2018-01-24</td>\n",
       "      <td>ultra</td>\n",
       "      <td>2018-01-01</td>\n",
       "    </tr>\n",
       "    <tr>\n",
       "      <td>6</td>\n",
       "      <td>180</td>\n",
       "      <td>1180</td>\n",
       "      <td>27</td>\n",
       "      <td>NaT</td>\n",
       "      <td>Москва</td>\n",
       "      <td>Лев</td>\n",
       "      <td>Мишин</td>\n",
       "      <td>2018-02-02</td>\n",
       "      <td>ultra</td>\n",
       "      <td>2018-02-01</td>\n",
       "    </tr>\n",
       "    <tr>\n",
       "      <td>7</td>\n",
       "      <td>240</td>\n",
       "      <td>1240</td>\n",
       "      <td>30</td>\n",
       "      <td>NaT</td>\n",
       "      <td>Воронеж</td>\n",
       "      <td>Зинаида</td>\n",
       "      <td>Шарова</td>\n",
       "      <td>2018-02-27</td>\n",
       "      <td>ultra</td>\n",
       "      <td>2018-02-01</td>\n",
       "    </tr>\n",
       "    <tr>\n",
       "      <td>8</td>\n",
       "      <td>254</td>\n",
       "      <td>1254</td>\n",
       "      <td>75</td>\n",
       "      <td>2018-08-17</td>\n",
       "      <td>Москва</td>\n",
       "      <td>Александра</td>\n",
       "      <td>Сухарева</td>\n",
       "      <td>2018-01-04</td>\n",
       "      <td>ultra</td>\n",
       "      <td>2018-01-01</td>\n",
       "    </tr>\n",
       "    <tr>\n",
       "      <td>9</td>\n",
       "      <td>255</td>\n",
       "      <td>1255</td>\n",
       "      <td>40</td>\n",
       "      <td>2018-09-02</td>\n",
       "      <td>Саранск</td>\n",
       "      <td>Серафима</td>\n",
       "      <td>Пономарева</td>\n",
       "      <td>2018-02-19</td>\n",
       "      <td>ultra</td>\n",
       "      <td>2018-02-01</td>\n",
       "    </tr>\n",
       "    <tr>\n",
       "      <td>10</td>\n",
       "      <td>277</td>\n",
       "      <td>1277</td>\n",
       "      <td>30</td>\n",
       "      <td>NaT</td>\n",
       "      <td>Новосибирск</td>\n",
       "      <td>Валерия</td>\n",
       "      <td>Андреенко</td>\n",
       "      <td>2018-02-19</td>\n",
       "      <td>ultra</td>\n",
       "      <td>2018-02-01</td>\n",
       "    </tr>\n",
       "    <tr>\n",
       "      <td>11</td>\n",
       "      <td>292</td>\n",
       "      <td>1292</td>\n",
       "      <td>63</td>\n",
       "      <td>NaT</td>\n",
       "      <td>Красноярск</td>\n",
       "      <td>Веселина</td>\n",
       "      <td>Алексеенко</td>\n",
       "      <td>2018-02-21</td>\n",
       "      <td>ultra</td>\n",
       "      <td>2018-02-01</td>\n",
       "    </tr>\n",
       "    <tr>\n",
       "      <td>12</td>\n",
       "      <td>294</td>\n",
       "      <td>1294</td>\n",
       "      <td>66</td>\n",
       "      <td>NaT</td>\n",
       "      <td>Владивосток</td>\n",
       "      <td>Дебора</td>\n",
       "      <td>Асафьева</td>\n",
       "      <td>2018-02-20</td>\n",
       "      <td>ultra</td>\n",
       "      <td>2018-02-01</td>\n",
       "    </tr>\n",
       "    <tr>\n",
       "      <td>13</td>\n",
       "      <td>330</td>\n",
       "      <td>1330</td>\n",
       "      <td>65</td>\n",
       "      <td>NaT</td>\n",
       "      <td>Нижний Новгород</td>\n",
       "      <td>Изольда</td>\n",
       "      <td>Алфимова</td>\n",
       "      <td>2018-02-02</td>\n",
       "      <td>ultra</td>\n",
       "      <td>2018-02-01</td>\n",
       "    </tr>\n",
       "    <tr>\n",
       "      <td>14</td>\n",
       "      <td>375</td>\n",
       "      <td>1375</td>\n",
       "      <td>53</td>\n",
       "      <td>NaT</td>\n",
       "      <td>Пенза</td>\n",
       "      <td>Мария</td>\n",
       "      <td>Акимычева</td>\n",
       "      <td>2018-01-04</td>\n",
       "      <td>ultra</td>\n",
       "      <td>2018-01-01</td>\n",
       "    </tr>\n",
       "    <tr>\n",
       "      <td>15</td>\n",
       "      <td>377</td>\n",
       "      <td>1377</td>\n",
       "      <td>59</td>\n",
       "      <td>NaT</td>\n",
       "      <td>Брянск</td>\n",
       "      <td>Альфред</td>\n",
       "      <td>Семин</td>\n",
       "      <td>2018-02-25</td>\n",
       "      <td>ultra</td>\n",
       "      <td>2018-02-01</td>\n",
       "    </tr>\n",
       "    <tr>\n",
       "      <td>16</td>\n",
       "      <td>381</td>\n",
       "      <td>1381</td>\n",
       "      <td>64</td>\n",
       "      <td>NaT</td>\n",
       "      <td>Москва</td>\n",
       "      <td>Тамара</td>\n",
       "      <td>Серебрякова</td>\n",
       "      <td>2018-01-13</td>\n",
       "      <td>ultra</td>\n",
       "      <td>2018-01-01</td>\n",
       "    </tr>\n",
       "    <tr>\n",
       "      <td>17</td>\n",
       "      <td>385</td>\n",
       "      <td>1385</td>\n",
       "      <td>26</td>\n",
       "      <td>NaT</td>\n",
       "      <td>Москва</td>\n",
       "      <td>Алиса</td>\n",
       "      <td>Дубинина</td>\n",
       "      <td>2018-01-13</td>\n",
       "      <td>ultra</td>\n",
       "      <td>2018-01-01</td>\n",
       "    </tr>\n",
       "    <tr>\n",
       "      <td>18</td>\n",
       "      <td>392</td>\n",
       "      <td>1392</td>\n",
       "      <td>54</td>\n",
       "      <td>2018-09-27</td>\n",
       "      <td>Челябинск</td>\n",
       "      <td>Алла</td>\n",
       "      <td>Беликова</td>\n",
       "      <td>2018-02-27</td>\n",
       "      <td>ultra</td>\n",
       "      <td>2018-02-01</td>\n",
       "    </tr>\n",
       "    <tr>\n",
       "      <td>19</td>\n",
       "      <td>396</td>\n",
       "      <td>1396</td>\n",
       "      <td>23</td>\n",
       "      <td>NaT</td>\n",
       "      <td>Пенза</td>\n",
       "      <td>Эльга</td>\n",
       "      <td>Савельева</td>\n",
       "      <td>2018-01-12</td>\n",
       "      <td>ultra</td>\n",
       "      <td>2018-01-01</td>\n",
       "    </tr>\n",
       "    <tr>\n",
       "      <td>20</td>\n",
       "      <td>453</td>\n",
       "      <td>1453</td>\n",
       "      <td>50</td>\n",
       "      <td>NaT</td>\n",
       "      <td>Москва</td>\n",
       "      <td>Кузьма</td>\n",
       "      <td>Акуленко</td>\n",
       "      <td>2018-01-01</td>\n",
       "      <td>ultra</td>\n",
       "      <td>2018-01-01</td>\n",
       "    </tr>\n",
       "    <tr>\n",
       "      <td>21</td>\n",
       "      <td>458</td>\n",
       "      <td>1458</td>\n",
       "      <td>36</td>\n",
       "      <td>NaT</td>\n",
       "      <td>Барнаул</td>\n",
       "      <td>Роберт</td>\n",
       "      <td>Азаров</td>\n",
       "      <td>2018-02-13</td>\n",
       "      <td>ultra</td>\n",
       "      <td>2018-02-01</td>\n",
       "    </tr>\n",
       "    <tr>\n",
       "      <td>22</td>\n",
       "      <td>466</td>\n",
       "      <td>1466</td>\n",
       "      <td>37</td>\n",
       "      <td>NaT</td>\n",
       "      <td>Новосибирск</td>\n",
       "      <td>Рубен</td>\n",
       "      <td>Шевцов</td>\n",
       "      <td>2018-02-28</td>\n",
       "      <td>ultra</td>\n",
       "      <td>2018-02-01</td>\n",
       "    </tr>\n",
       "    <tr>\n",
       "      <td>23</td>\n",
       "      <td>471</td>\n",
       "      <td>1471</td>\n",
       "      <td>35</td>\n",
       "      <td>NaT</td>\n",
       "      <td>Вологда</td>\n",
       "      <td>Элеонора</td>\n",
       "      <td>Гаврилова</td>\n",
       "      <td>2018-02-26</td>\n",
       "      <td>ultra</td>\n",
       "      <td>2018-02-01</td>\n",
       "    </tr>\n",
       "  </tbody>\n",
       "</table>\n",
       "</div>"
      ],
      "text/plain": [
       "    index  user_id  age churn_date             city  first_name    last_name  \\\n",
       "0      89     1089   19        NaT          Иркутск      Ксения      Нечаева   \n",
       "1     104     1104   60        NaT     Нижний Тагил    Габриэль      Поляков   \n",
       "2     120     1120   25        NaT        Краснодар     Агнесса     Абдулина   \n",
       "3     126     1126   71        NaT  Санкт-Петербург         Яна    Арсенкова   \n",
       "4     152     1152   44        NaT         Мурманск      Марина    Щербакова   \n",
       "5     168     1168   28        NaT         Кострома       Лилия     Ананьева   \n",
       "6     180     1180   27        NaT           Москва         Лев        Мишин   \n",
       "7     240     1240   30        NaT          Воронеж     Зинаида       Шарова   \n",
       "8     254     1254   75 2018-08-17           Москва  Александра     Сухарева   \n",
       "9     255     1255   40 2018-09-02          Саранск    Серафима   Пономарева   \n",
       "10    277     1277   30        NaT      Новосибирск     Валерия    Андреенко   \n",
       "11    292     1292   63        NaT       Красноярск    Веселина   Алексеенко   \n",
       "12    294     1294   66        NaT      Владивосток      Дебора     Асафьева   \n",
       "13    330     1330   65        NaT  Нижний Новгород     Изольда     Алфимова   \n",
       "14    375     1375   53        NaT            Пенза       Мария    Акимычева   \n",
       "15    377     1377   59        NaT           Брянск     Альфред        Семин   \n",
       "16    381     1381   64        NaT           Москва      Тамара  Серебрякова   \n",
       "17    385     1385   26        NaT           Москва       Алиса     Дубинина   \n",
       "18    392     1392   54 2018-09-27        Челябинск        Алла     Беликова   \n",
       "19    396     1396   23        NaT            Пенза       Эльга    Савельева   \n",
       "20    453     1453   50        NaT           Москва      Кузьма     Акуленко   \n",
       "21    458     1458   36        NaT          Барнаул      Роберт       Азаров   \n",
       "22    466     1466   37        NaT      Новосибирск       Рубен       Шевцов   \n",
       "23    471     1471   35        NaT          Вологда    Элеонора    Гаврилова   \n",
       "\n",
       "     reg_date tariff      month  \n",
       "0  2018-02-24  ultra 2018-02-01  \n",
       "1  2018-02-21  ultra 2018-02-01  \n",
       "2  2018-01-24  ultra 2018-01-01  \n",
       "3  2018-01-19  ultra 2018-01-01  \n",
       "4  2018-02-05  ultra 2018-02-01  \n",
       "5  2018-01-24  ultra 2018-01-01  \n",
       "6  2018-02-02  ultra 2018-02-01  \n",
       "7  2018-02-27  ultra 2018-02-01  \n",
       "8  2018-01-04  ultra 2018-01-01  \n",
       "9  2018-02-19  ultra 2018-02-01  \n",
       "10 2018-02-19  ultra 2018-02-01  \n",
       "11 2018-02-21  ultra 2018-02-01  \n",
       "12 2018-02-20  ultra 2018-02-01  \n",
       "13 2018-02-02  ultra 2018-02-01  \n",
       "14 2018-01-04  ultra 2018-01-01  \n",
       "15 2018-02-25  ultra 2018-02-01  \n",
       "16 2018-01-13  ultra 2018-01-01  \n",
       "17 2018-01-13  ultra 2018-01-01  \n",
       "18 2018-02-27  ultra 2018-02-01  \n",
       "19 2018-01-12  ultra 2018-01-01  \n",
       "20 2018-01-01  ultra 2018-01-01  \n",
       "21 2018-02-13  ultra 2018-02-01  \n",
       "22 2018-02-28  ultra 2018-02-01  \n",
       "23 2018-02-26  ultra 2018-02-01  "
      ]
     },
     "execution_count": 78,
     "metadata": {},
     "output_type": "execute_result"
    }
   ],
   "source": [
    "# смотрим пользователей \"ultra\" на февраль месяц\n",
    "users['month'] = users['reg_date'].astype('datetime64[M]')\n",
    "users.query('month <= \"2018-02-01\" and tariff == \"ultra\"').reset_index()"
   ]
  },
  {
   "cell_type": "markdown",
   "metadata": {},
   "source": [
    "**Вывод**\n",
    "\n",
    "По полученным данным видим, что пользователям тарифа \"smart\" в среднем хватает лимита в 500 минут. У пользователей тарифа \"ultra\"  лимит 3000 минут, но в среднем они использут 520 минут в месяц. Также видим, что в феврале у тарифа \"ultra\" значительно меньше звонков чем в другие месяцы, почти в 2 раза, вероятно это связано с тем, что на февраль месяц у этого тарифа было всего 24 пользователя, из них 11 подключились в конце месяца, праздники закончились, всех поздравили и плюс месяц короткий.\n",
    "\n",
    "\n",
    "СМС сообщения под конец года больше отправяют на тарифе \"ultra\"  примерно по 40 сообщений, а в начале года сообщений больше отправляли на тарифе \"smart\". Лимит бесплатных сообщений не превышается на обоих тарифах, большинство пользователей не отправляют сообщения, смски нынче не популярный способ связи.\n",
    "\n",
    "\n",
    "По интернет трафику также пользователи \"ultra\" используют больше  трафика чем пользователи \"smart\", на \"smart\" лимит трафика в основном используют польностью, даже привышают лимит в 15ГБ, а вот у \"ultra\" лимит большой - 30ГБ, они до порога не доходят."
   ]
  },
  {
   "cell_type": "markdown",
   "metadata": {},
   "source": [
    "## Проверка гипотез"
   ]
  },
  {
   "cell_type": "markdown",
   "metadata": {},
   "source": [
    "* средняя выручка пользователей тарифов «Ультра» и «Смарт» различается\n",
    "* средняя выручка пользователей из Москвы отличается от выручки пользователей из других регионов"
   ]
  },
  {
   "cell_type": "markdown",
   "metadata": {},
   "source": [
    "### Cредняя выручка пользователей тарифов «Ультра» и «Смарт» различается"
   ]
  },
  {
   "cell_type": "markdown",
   "metadata": {},
   "source": [
    "**Нулевая гипотеза H₀** - Cредняя выручка пользователей тарифов «Ультра» и «Смарт» равны.\n",
    "\n",
    "**Алтернативная гипотеза H₁** - Cредняя выручка пользователей тарифов «Ультра» и «Смарт» не равны."
   ]
  },
  {
   "cell_type": "code",
   "execution_count": 79,
   "metadata": {},
   "outputs": [],
   "source": [
    "ultra_income = all_communic.query('tariff_name ==\"ultra\"')['total_income'].values \n",
    "smart_income= all_communic.query('tariff_name ==\"smart\"')['total_income'].values "
   ]
  },
  {
   "cell_type": "code",
   "execution_count": 80,
   "metadata": {},
   "outputs": [
    {
     "name": "stdout",
     "output_type": "stream",
     "text": [
      "Дисперсия ultra_income = 141373.07325620347\n",
      "Дисперсия smart_income = 669485.2209234245\n"
     ]
    }
   ],
   "source": [
    "print('Дисперсия ultra_income =', np.var(ultra_income)) \n",
    "print('Дисперсия smart_income =', np.var(smart_income))"
   ]
  },
  {
   "cell_type": "markdown",
   "metadata": {},
   "source": [
    "Видно, что дисперсия сильно отличается 141373 против 669485. Поэтому для проведения теста возьмем equal_var = False"
   ]
  },
  {
   "cell_type": "code",
   "execution_count": 81,
   "metadata": {},
   "outputs": [
    {
     "name": "stdout",
     "output_type": "stream",
     "text": [
      "p-значение: 4.2606313931076085e-250\n",
      "Отвергаем нулевую гипотезу\n"
     ]
    }
   ],
   "source": [
    "alpha = .05\n",
    "\n",
    "results = st.ttest_ind(smart_income, ultra_income, equal_var = False)\n",
    "\n",
    "print('p-значение:', results.pvalue)\n",
    "\n",
    "if (results.pvalue < alpha):\n",
    "    print(\"Отвергаем нулевую гипотезу\")\n",
    "else:\n",
    "    print(\"Не получилось отвергнуть нулевую гипотезу\")"
   ]
  },
  {
   "cell_type": "markdown",
   "metadata": {},
   "source": [
    "Нулевую гипотезу \"Cредняя выручка пользователей тарифов «Ультра» и «Смарт» равны.\" - отвергаем \n",
    "\n",
    "**Подтверждается альтернативная Гипотеза**"
   ]
  },
  {
   "cell_type": "code",
   "execution_count": 82,
   "metadata": {
    "scrolled": true
   },
   "outputs": [
    {
     "name": "stdout",
     "output_type": "stream",
     "text": [
      "Общая выручка тарифа \"ultra\" 2039100.0\n",
      "Общая выручка тарифа \"smart\" 2875351.0\n"
     ]
    }
   ],
   "source": [
    "print('Общая выручка тарифа \"ultra\"',all_communic.query('tariff_name ==\"ultra\"')['total_income'].sum())\n",
    "print('Общая выручка тарифа \"smart\"',all_communic.query('tariff_name ==\"smart\"')['total_income'].sum())"
   ]
  },
  {
   "cell_type": "code",
   "execution_count": 83,
   "metadata": {},
   "outputs": [
    {
     "name": "stdout",
     "output_type": "stream",
     "text": [
      "Средняя выручка тарифа \"ultra\" 2070.1522842639592\n",
      "Средняя выручка тарифа \"smart\" 1289.9735307312696\n"
     ]
    }
   ],
   "source": [
    "print('Средняя выручка тарифа \"ultra\"',all_communic.query('tariff_name ==\"ultra\"')\\\n",
    "      ['total_income'].sum()/ len(all_communic.query('tariff_name ==\"ultra\"')))\n",
    "print('Средняя выручка тарифа \"smart\"',all_communic.query('tariff_name ==\"smart\"')\\\n",
    "      ['total_income'].sum()/ len(all_communic.query('tariff_name ==\"smart\"')))"
   ]
  },
  {
   "cell_type": "markdown",
   "metadata": {},
   "source": [
    "### Cредняя выручка пользователей из Москвы отличается от выручки пользователей из других регионов"
   ]
  },
  {
   "cell_type": "markdown",
   "metadata": {},
   "source": [
    "**Нулевая гипотеза H₀** - Cредняя выручка пользователей Москвы равна средней выручке прользователей других регионов\n",
    "\n",
    "**Алтернативная гипотеза H₁** - Cредняя выручка пользователей Москвы не равна средней выручке пользователей других регионов"
   ]
  },
  {
   "cell_type": "code",
   "execution_count": 84,
   "metadata": {},
   "outputs": [],
   "source": [
    "moscow_income = all_communic.query('city == \"Москва\"')['total_income'].values\n",
    "other_income = all_communic.query('city != \"Москва\"')['total_income'].values"
   ]
  },
  {
   "cell_type": "code",
   "execution_count": 85,
   "metadata": {},
   "outputs": [
    {
     "name": "stdout",
     "output_type": "stream",
     "text": [
      "Дисперсия moscow_income = 564710.7117467273\n",
      "Дисперсия other_income = 653886.3270894174\n"
     ]
    }
   ],
   "source": [
    "print('Дисперсия moscow_income =', np.var(moscow_income)) \n",
    "print('Дисперсия other_income =', np.var(other_income))"
   ]
  },
  {
   "cell_type": "code",
   "execution_count": 86,
   "metadata": {},
   "outputs": [
    {
     "name": "stdout",
     "output_type": "stream",
     "text": [
      "p-значение: 0.5440152911670223\n",
      "Не получилось отвергнуть нулевую гипотезу\n"
     ]
    }
   ],
   "source": [
    "from scipy import stats as st\n",
    "\n",
    "alpha = .05\n",
    "\n",
    "results = st.ttest_ind(moscow_income, other_income)\n",
    "\n",
    "print('p-значение:', results.pvalue)\n",
    "\n",
    "if (results.pvalue < alpha):\n",
    "    print(\"Отвергаем нулевую гипотезу\")\n",
    "else:\n",
    "    print(\"Не получилось отвергнуть нулевую гипотезу\")"
   ]
  },
  {
   "cell_type": "code",
   "execution_count": 87,
   "metadata": {},
   "outputs": [
    {
     "name": "stdout",
     "output_type": "stream",
     "text": [
      "Средняя выручка пользователей из Москвы 1546.7135842880523\n",
      "Средняя выручка пользователей из регионов 1524.9362274298885\n"
     ]
    }
   ],
   "source": [
    "print('Средняя выручка пользователей из Москвы',all_communic.query('city == \"Москва\"')\\\n",
    "      ['total_income'].sum()/ len(all_communic.query('city == \"Москва\"')))\n",
    "print('Средняя выручка пользователей из регионов',all_communic.query('city != \"Москва\"')\\\n",
    "      ['total_income'].sum()/ len(all_communic.query('city != \"Москва\"')))"
   ]
  },
  {
   "cell_type": "markdown",
   "metadata": {},
   "source": [
    "**Нулевая гипотеза подтверждается** -  Cредняя выручка пользователей Москвы равна средней выручке прользователей других регионов"
   ]
  },
  {
   "cell_type": "markdown",
   "metadata": {},
   "source": [
    "## Общий вывод"
   ]
  },
  {
   "cell_type": "markdown",
   "metadata": {},
   "source": [
    "Мы объединили все данные в одну таблицу. Привели данные к нужным типам, удалили двух пользователей, которые не пользовались тарифом. Расчитали средние значения по всем коммуникациям по обоим тарифам.\n",
    "\n",
    "Узнали, что пользователи тарифа \"smart\" в среднем  используют меньше минут, СМС и интернета, чем пользователи тарифа \"ultra\". Бесплатные лимиты по тарифу на минуты и СМС в среднем не превышаются, а вот бесплатный лимит на интеренет трафик по тарифу \"smart\" в основном всегда превышается.\n",
    "\n",
    "\n",
    "Также мы проверили 2 гипотезы:\n",
    "\n",
    "* Cредняя выручка пользователей тарифов «Ультра» и «Смарт» различается\n",
    "* Cредняя выручка пользователей из Москвы отличается от выручки пользователей из других регионов\n",
    "\n",
    "Первая гипотеза подтвердилась: выручка действительно отличается, по тарифу \"ultra\" выручка выше. А вот вторая гипотеза не подтвердилась,  выручка пользователей Москвы и  других регионов не отличается.\n",
    "\n",
    "В заключение можно сделать вывод, что тариф \"ultra\" в среднем на пользователя приносит больше денег, при этом, тариф \"smart\", за счет своей стоимости привлекает больше пользователей и суммарная выручка по этому тарифу почти в полтора раза выше, чем у тарифа \"ultra\". На основании этого, компании \"Мегалайн\" стоить активнее продвигать тариф \"smart\" для широкой аудитории."
   ]
  }
 ],
 "metadata": {
  "ExecuteTimeLog": [
   {
    "duration": 894,
    "start_time": "2022-01-15T06:18:41.825Z"
   },
   {
    "duration": 575,
    "start_time": "2022-01-15T06:22:02.963Z"
   },
   {
    "duration": 579,
    "start_time": "2022-01-15T06:22:31.162Z"
   },
   {
    "duration": 12,
    "start_time": "2022-01-15T06:22:50.321Z"
   },
   {
    "duration": 11,
    "start_time": "2022-01-15T06:22:57.717Z"
   },
   {
    "duration": 437,
    "start_time": "2022-01-15T06:23:23.193Z"
   },
   {
    "duration": 12,
    "start_time": "2022-01-15T06:23:36.184Z"
   },
   {
    "duration": 20,
    "start_time": "2022-01-15T06:23:47.700Z"
   },
   {
    "duration": 28,
    "start_time": "2022-01-15T06:24:01.579Z"
   },
   {
    "duration": 47,
    "start_time": "2022-01-15T06:24:35.496Z"
   },
   {
    "duration": 78,
    "start_time": "2022-01-15T06:27:11.625Z"
   },
   {
    "duration": 76,
    "start_time": "2022-01-15T06:42:15.329Z"
   },
   {
    "duration": 108,
    "start_time": "2022-01-15T06:43:03.482Z"
   },
   {
    "duration": 119,
    "start_time": "2022-01-15T06:43:18.516Z"
   },
   {
    "duration": 85,
    "start_time": "2022-01-15T06:43:27.267Z"
   },
   {
    "duration": 301,
    "start_time": "2022-01-17T10:02:28.802Z"
   },
   {
    "duration": 994,
    "start_time": "2022-01-17T10:02:50.247Z"
   },
   {
    "duration": 543,
    "start_time": "2022-01-17T10:02:51.244Z"
   },
   {
    "duration": 52,
    "start_time": "2022-01-17T10:02:51.790Z"
   },
   {
    "duration": 125,
    "start_time": "2022-01-17T10:02:51.846Z"
   },
   {
    "duration": 315,
    "start_time": "2022-01-17T10:02:54.451Z"
   },
   {
    "duration": 12,
    "start_time": "2022-01-17T10:03:20.869Z"
   },
   {
    "duration": 3,
    "start_time": "2022-01-17T10:03:39.394Z"
   },
   {
    "duration": 13,
    "start_time": "2022-01-17T10:03:45.432Z"
   },
   {
    "duration": 84,
    "start_time": "2022-01-17T10:04:34.184Z"
   },
   {
    "duration": 10,
    "start_time": "2022-01-17T10:04:37.912Z"
   },
   {
    "duration": 10,
    "start_time": "2022-01-17T10:10:35.865Z"
   },
   {
    "duration": 11,
    "start_time": "2022-01-17T10:12:09.000Z"
   },
   {
    "duration": 10,
    "start_time": "2022-01-17T10:14:13.820Z"
   },
   {
    "duration": 249,
    "start_time": "2022-01-17T10:14:56.835Z"
   },
   {
    "duration": 6,
    "start_time": "2022-01-17T10:14:59.986Z"
   },
   {
    "duration": 7,
    "start_time": "2022-01-17T10:15:32.335Z"
   },
   {
    "duration": 10,
    "start_time": "2022-01-17T10:16:34.339Z"
   },
   {
    "duration": 9,
    "start_time": "2022-01-17T10:16:34.823Z"
   },
   {
    "duration": 11,
    "start_time": "2022-01-17T10:17:53.187Z"
   },
   {
    "duration": 6,
    "start_time": "2022-01-17T10:20:17.167Z"
   },
   {
    "duration": 6,
    "start_time": "2022-01-17T10:24:47.419Z"
   },
   {
    "duration": 9,
    "start_time": "2022-01-17T10:25:10.771Z"
   },
   {
    "duration": 9,
    "start_time": "2022-01-17T10:27:07.836Z"
   },
   {
    "duration": 6608,
    "start_time": "2022-01-17T10:31:50.739Z"
   },
   {
    "duration": 6,
    "start_time": "2022-01-17T10:32:01.061Z"
   },
   {
    "duration": 6,
    "start_time": "2022-01-17T10:34:27.523Z"
   },
   {
    "duration": 10,
    "start_time": "2022-01-17T10:34:48.103Z"
   },
   {
    "duration": 14,
    "start_time": "2022-01-17T10:35:14.736Z"
   },
   {
    "duration": 6693,
    "start_time": "2022-01-17T10:35:45.352Z"
   },
   {
    "duration": 8095,
    "start_time": "2022-01-17T10:36:22.844Z"
   },
   {
    "duration": 7711,
    "start_time": "2022-01-17T10:36:35.485Z"
   },
   {
    "duration": 8,
    "start_time": "2022-01-17T10:37:20.608Z"
   },
   {
    "duration": 4,
    "start_time": "2022-01-17T10:46:00.077Z"
   },
   {
    "duration": 10,
    "start_time": "2022-01-17T10:46:00.084Z"
   },
   {
    "duration": 792,
    "start_time": "2022-01-17T10:46:00.098Z"
   },
   {
    "duration": 47,
    "start_time": "2022-01-17T10:46:00.893Z"
   },
   {
    "duration": 91,
    "start_time": "2022-01-17T10:46:00.942Z"
   },
   {
    "duration": 11,
    "start_time": "2022-01-17T10:46:01.063Z"
   },
   {
    "duration": 30,
    "start_time": "2022-01-17T10:46:01.078Z"
   },
   {
    "duration": 27,
    "start_time": "2022-01-17T10:46:01.112Z"
   },
   {
    "duration": 49,
    "start_time": "2022-01-17T10:46:01.142Z"
   },
   {
    "duration": 25,
    "start_time": "2022-01-17T10:46:01.193Z"
   },
   {
    "duration": 17,
    "start_time": "2022-01-17T10:46:01.221Z"
   },
   {
    "duration": 21,
    "start_time": "2022-01-17T10:46:01.240Z"
   },
   {
    "duration": 12,
    "start_time": "2022-01-17T10:46:01.264Z"
   },
   {
    "duration": 29,
    "start_time": "2022-01-17T10:46:01.279Z"
   },
   {
    "duration": 30,
    "start_time": "2022-01-17T10:46:01.311Z"
   },
   {
    "duration": 26,
    "start_time": "2022-01-17T10:46:01.344Z"
   },
   {
    "duration": 32,
    "start_time": "2022-01-17T10:46:01.372Z"
   },
   {
    "duration": 5,
    "start_time": "2022-01-17T10:53:26.289Z"
   },
   {
    "duration": 272,
    "start_time": "2022-01-17T10:53:26.884Z"
   },
   {
    "duration": 241,
    "start_time": "2022-01-17T10:53:28.155Z"
   },
   {
    "duration": 22,
    "start_time": "2022-01-17T10:53:53.392Z"
   },
   {
    "duration": 4,
    "start_time": "2022-01-17T10:53:54.314Z"
   },
   {
    "duration": 964,
    "start_time": "2022-01-17T10:53:55.043Z"
   },
   {
    "duration": 16,
    "start_time": "2022-01-17T10:53:57.283Z"
   },
   {
    "duration": 23,
    "start_time": "2022-01-17T10:54:19.169Z"
   },
   {
    "duration": 4,
    "start_time": "2022-01-17T10:54:19.750Z"
   },
   {
    "duration": 40,
    "start_time": "2022-01-17T10:54:20.482Z"
   },
   {
    "duration": 13,
    "start_time": "2022-01-17T10:54:21.160Z"
   },
   {
    "duration": 302,
    "start_time": "2022-01-17T10:55:33.679Z"
   },
   {
    "duration": 19,
    "start_time": "2022-01-17T10:55:43.643Z"
   },
   {
    "duration": 19,
    "start_time": "2022-01-17T11:36:32.951Z"
   },
   {
    "duration": 4,
    "start_time": "2022-01-17T11:36:55.215Z"
   },
   {
    "duration": 39,
    "start_time": "2022-01-17T11:36:55.786Z"
   },
   {
    "duration": 57,
    "start_time": "2022-01-17T11:37:09.067Z"
   },
   {
    "duration": 13,
    "start_time": "2022-01-17T11:37:20.428Z"
   },
   {
    "duration": 83,
    "start_time": "2022-01-17T11:38:16.630Z"
   },
   {
    "duration": 9,
    "start_time": "2022-01-17T11:38:20.260Z"
   },
   {
    "duration": 81,
    "start_time": "2022-01-17T11:40:01.774Z"
   },
   {
    "duration": 256,
    "start_time": "2022-01-17T11:40:11.285Z"
   },
   {
    "duration": 337,
    "start_time": "2022-01-17T11:40:15.895Z"
   },
   {
    "duration": 124,
    "start_time": "2022-01-17T11:40:35.820Z"
   },
   {
    "duration": 9,
    "start_time": "2022-01-17T11:41:36.135Z"
   },
   {
    "duration": 14,
    "start_time": "2022-01-17T11:41:44.344Z"
   },
   {
    "duration": 108,
    "start_time": "2022-01-17T11:43:43.119Z"
   },
   {
    "duration": 106,
    "start_time": "2022-01-17T11:44:00.012Z"
   },
   {
    "duration": 28,
    "start_time": "2022-01-17T11:44:09.434Z"
   },
   {
    "duration": 185,
    "start_time": "2022-01-17T11:44:14.118Z"
   },
   {
    "duration": 31,
    "start_time": "2022-01-17T11:44:23.739Z"
   },
   {
    "duration": 29,
    "start_time": "2022-01-17T11:47:15.844Z"
   },
   {
    "duration": 15,
    "start_time": "2022-01-17T11:48:45.165Z"
   },
   {
    "duration": 14,
    "start_time": "2022-01-17T11:48:53.930Z"
   },
   {
    "duration": 154,
    "start_time": "2022-01-17T11:49:11.209Z"
   },
   {
    "duration": 17,
    "start_time": "2022-01-17T11:53:49.556Z"
   },
   {
    "duration": 13,
    "start_time": "2022-01-17T11:54:07.783Z"
   },
   {
    "duration": 13,
    "start_time": "2022-01-17T11:54:11.413Z"
   },
   {
    "duration": 8,
    "start_time": "2022-01-17T11:54:17.966Z"
   },
   {
    "duration": 28,
    "start_time": "2022-01-17T11:54:55.521Z"
   },
   {
    "duration": 3,
    "start_time": "2022-01-17T11:54:55.552Z"
   },
   {
    "duration": 548,
    "start_time": "2022-01-17T11:54:55.558Z"
   },
   {
    "duration": 52,
    "start_time": "2022-01-17T11:54:56.109Z"
   },
   {
    "duration": 104,
    "start_time": "2022-01-17T11:54:56.164Z"
   },
   {
    "duration": 11,
    "start_time": "2022-01-17T11:54:56.271Z"
   },
   {
    "duration": 13,
    "start_time": "2022-01-17T11:54:56.284Z"
   },
   {
    "duration": 14,
    "start_time": "2022-01-17T11:54:56.300Z"
   },
   {
    "duration": 55,
    "start_time": "2022-01-17T11:54:56.316Z"
   },
   {
    "duration": 10,
    "start_time": "2022-01-17T11:54:56.374Z"
   },
   {
    "duration": 13,
    "start_time": "2022-01-17T11:55:08.748Z"
   },
   {
    "duration": 10,
    "start_time": "2022-01-17T11:55:41.735Z"
   },
   {
    "duration": 10,
    "start_time": "2022-01-17T11:55:42.750Z"
   },
   {
    "duration": 13,
    "start_time": "2022-01-17T11:55:46.952Z"
   },
   {
    "duration": 13,
    "start_time": "2022-01-17T11:55:48.936Z"
   },
   {
    "duration": 9,
    "start_time": "2022-01-17T11:56:10.418Z"
   },
   {
    "duration": 5,
    "start_time": "2022-01-17T11:57:55.691Z"
   },
   {
    "duration": 4,
    "start_time": "2022-01-17T11:57:56.359Z"
   },
   {
    "duration": 524,
    "start_time": "2022-01-17T11:57:56.888Z"
   },
   {
    "duration": 49,
    "start_time": "2022-01-17T11:57:58.363Z"
   },
   {
    "duration": 84,
    "start_time": "2022-01-17T11:57:59.382Z"
   },
   {
    "duration": 13,
    "start_time": "2022-01-17T11:58:03.010Z"
   },
   {
    "duration": 13,
    "start_time": "2022-01-17T11:58:04.175Z"
   },
   {
    "duration": 14,
    "start_time": "2022-01-17T11:58:08.583Z"
   },
   {
    "duration": 14,
    "start_time": "2022-01-17T11:58:09.740Z"
   },
   {
    "duration": 8,
    "start_time": "2022-01-17T11:58:30.868Z"
   },
   {
    "duration": 12,
    "start_time": "2022-01-17T11:59:42.033Z"
   },
   {
    "duration": 12,
    "start_time": "2022-01-17T12:03:42.420Z"
   },
   {
    "duration": 7,
    "start_time": "2022-01-17T12:03:45.336Z"
   },
   {
    "duration": 6,
    "start_time": "2022-01-17T12:03:46.263Z"
   },
   {
    "duration": 6,
    "start_time": "2022-01-17T12:03:47.574Z"
   },
   {
    "duration": 11,
    "start_time": "2022-01-17T12:03:50.057Z"
   },
   {
    "duration": 21,
    "start_time": "2022-01-17T12:03:52.476Z"
   },
   {
    "duration": 962,
    "start_time": "2022-01-17T12:03:54.806Z"
   },
   {
    "duration": 16,
    "start_time": "2022-01-17T12:03:56.800Z"
   },
   {
    "duration": 9,
    "start_time": "2022-01-17T12:04:32.098Z"
   },
   {
    "duration": 87,
    "start_time": "2022-01-17T12:05:35.215Z"
   },
   {
    "duration": 12,
    "start_time": "2022-01-17T12:05:37.877Z"
   },
   {
    "duration": 13,
    "start_time": "2022-01-17T12:06:25.508Z"
   },
   {
    "duration": 6,
    "start_time": "2022-01-17T12:07:03.097Z"
   },
   {
    "duration": 6,
    "start_time": "2022-01-17T12:07:20.270Z"
   },
   {
    "duration": 7,
    "start_time": "2022-01-17T12:07:21.130Z"
   },
   {
    "duration": 36,
    "start_time": "2022-01-17T12:07:26.586Z"
   },
   {
    "duration": 4,
    "start_time": "2022-01-17T12:07:26.626Z"
   },
   {
    "duration": 594,
    "start_time": "2022-01-17T12:07:26.634Z"
   },
   {
    "duration": 46,
    "start_time": "2022-01-17T12:07:27.230Z"
   },
   {
    "duration": 131,
    "start_time": "2022-01-17T12:07:27.280Z"
   },
   {
    "duration": 32,
    "start_time": "2022-01-17T12:07:27.419Z"
   },
   {
    "duration": 15,
    "start_time": "2022-01-17T12:07:27.454Z"
   },
   {
    "duration": 14,
    "start_time": "2022-01-17T12:07:27.472Z"
   },
   {
    "duration": 17,
    "start_time": "2022-01-17T12:07:27.490Z"
   },
   {
    "duration": 12,
    "start_time": "2022-01-17T12:07:27.509Z"
   },
   {
    "duration": 107,
    "start_time": "2022-01-17T12:07:27.564Z"
   },
   {
    "duration": -190,
    "start_time": "2022-01-17T12:07:27.863Z"
   },
   {
    "duration": -197,
    "start_time": "2022-01-17T12:07:27.873Z"
   },
   {
    "duration": -198,
    "start_time": "2022-01-17T12:07:27.876Z"
   },
   {
    "duration": -200,
    "start_time": "2022-01-17T12:07:27.880Z"
   },
   {
    "duration": -201,
    "start_time": "2022-01-17T12:07:27.883Z"
   },
   {
    "duration": 11,
    "start_time": "2022-01-17T12:07:50.851Z"
   },
   {
    "duration": 6,
    "start_time": "2022-01-17T12:07:53.421Z"
   },
   {
    "duration": 7,
    "start_time": "2022-01-17T12:07:54.408Z"
   },
   {
    "duration": 7,
    "start_time": "2022-01-17T12:07:55.393Z"
   },
   {
    "duration": 5,
    "start_time": "2022-01-17T12:07:56.284Z"
   },
   {
    "duration": 7,
    "start_time": "2022-01-17T12:08:05.133Z"
   },
   {
    "duration": 10,
    "start_time": "2022-01-17T12:08:06.070Z"
   },
   {
    "duration": 20,
    "start_time": "2022-01-17T12:08:06.545Z"
   },
   {
    "duration": 989,
    "start_time": "2022-01-17T12:08:07.028Z"
   },
   {
    "duration": 14,
    "start_time": "2022-01-17T12:08:08.020Z"
   },
   {
    "duration": 8,
    "start_time": "2022-01-17T12:08:09.198Z"
   },
   {
    "duration": 10,
    "start_time": "2022-01-17T12:08:11.399Z"
   },
   {
    "duration": 653,
    "start_time": "2022-01-17T12:09:53.793Z"
   },
   {
    "duration": 306,
    "start_time": "2022-01-17T12:10:26.644Z"
   },
   {
    "duration": 42,
    "start_time": "2022-01-17T12:13:10.511Z"
   },
   {
    "duration": 20,
    "start_time": "2022-01-17T12:13:37.373Z"
   },
   {
    "duration": 23,
    "start_time": "2022-01-17T12:14:50.860Z"
   },
   {
    "duration": 31,
    "start_time": "2022-01-17T12:23:08.032Z"
   },
   {
    "duration": 3,
    "start_time": "2022-01-17T12:23:08.066Z"
   },
   {
    "duration": 565,
    "start_time": "2022-01-17T12:23:08.072Z"
   },
   {
    "duration": 46,
    "start_time": "2022-01-17T12:23:08.639Z"
   },
   {
    "duration": 105,
    "start_time": "2022-01-17T12:23:08.688Z"
   },
   {
    "duration": 11,
    "start_time": "2022-01-17T12:23:08.796Z"
   },
   {
    "duration": 19,
    "start_time": "2022-01-17T12:23:08.811Z"
   },
   {
    "duration": 14,
    "start_time": "2022-01-17T12:23:08.863Z"
   },
   {
    "duration": 24,
    "start_time": "2022-01-17T12:23:08.879Z"
   },
   {
    "duration": 22,
    "start_time": "2022-01-17T12:23:08.905Z"
   },
   {
    "duration": 11,
    "start_time": "2022-01-17T12:23:08.929Z"
   },
   {
    "duration": 21,
    "start_time": "2022-01-17T12:23:08.942Z"
   },
   {
    "duration": 36,
    "start_time": "2022-01-17T12:23:08.966Z"
   },
   {
    "duration": 9,
    "start_time": "2022-01-17T12:23:09.004Z"
   },
   {
    "duration": 12,
    "start_time": "2022-01-17T12:23:09.015Z"
   },
   {
    "duration": 32,
    "start_time": "2022-01-17T12:23:09.030Z"
   },
   {
    "duration": 1090,
    "start_time": "2022-01-17T12:23:09.065Z"
   },
   {
    "duration": 13,
    "start_time": "2022-01-17T12:23:10.163Z"
   },
   {
    "duration": 10,
    "start_time": "2022-01-17T12:23:10.179Z"
   },
   {
    "duration": 14,
    "start_time": "2022-01-17T12:23:10.192Z"
   },
   {
    "duration": 364,
    "start_time": "2022-01-17T12:23:10.209Z"
   },
   {
    "duration": 41,
    "start_time": "2022-01-17T12:23:12.495Z"
   },
   {
    "duration": 19,
    "start_time": "2022-01-17T12:23:12.539Z"
   },
   {
    "duration": 321,
    "start_time": "2022-01-17T12:28:17.958Z"
   },
   {
    "duration": 249,
    "start_time": "2022-01-17T12:28:37.752Z"
   },
   {
    "duration": 340,
    "start_time": "2022-01-17T12:32:17.100Z"
   },
   {
    "duration": 254,
    "start_time": "2022-01-17T12:32:28.115Z"
   },
   {
    "duration": 292,
    "start_time": "2022-01-17T12:37:28.528Z"
   },
   {
    "duration": 6,
    "start_time": "2022-01-17T12:37:47.241Z"
   },
   {
    "duration": 9,
    "start_time": "2022-01-17T12:37:53.534Z"
   },
   {
    "duration": 18,
    "start_time": "2022-01-17T12:38:07.950Z"
   },
   {
    "duration": 8,
    "start_time": "2022-01-17T12:38:44.280Z"
   },
   {
    "duration": 12,
    "start_time": "2022-01-17T12:39:50.704Z"
   },
   {
    "duration": 17,
    "start_time": "2022-01-17T12:40:05.158Z"
   },
   {
    "duration": 253,
    "start_time": "2022-01-17T12:40:16.558Z"
   },
   {
    "duration": 32,
    "start_time": "2022-01-17T12:40:25.059Z"
   },
   {
    "duration": 4,
    "start_time": "2022-01-17T12:40:25.094Z"
   },
   {
    "duration": 581,
    "start_time": "2022-01-17T12:40:25.101Z"
   },
   {
    "duration": 46,
    "start_time": "2022-01-17T12:40:25.685Z"
   },
   {
    "duration": 95,
    "start_time": "2022-01-17T12:40:25.734Z"
   },
   {
    "duration": 41,
    "start_time": "2022-01-17T12:40:25.831Z"
   },
   {
    "duration": 12,
    "start_time": "2022-01-17T12:40:25.874Z"
   },
   {
    "duration": 16,
    "start_time": "2022-01-17T12:40:25.889Z"
   },
   {
    "duration": 55,
    "start_time": "2022-01-17T12:40:25.909Z"
   },
   {
    "duration": 8,
    "start_time": "2022-01-17T12:40:25.967Z"
   },
   {
    "duration": 10,
    "start_time": "2022-01-17T12:40:25.977Z"
   },
   {
    "duration": 6,
    "start_time": "2022-01-17T12:40:25.989Z"
   },
   {
    "duration": 7,
    "start_time": "2022-01-17T12:40:25.997Z"
   },
   {
    "duration": 56,
    "start_time": "2022-01-17T12:40:26.007Z"
   },
   {
    "duration": 12,
    "start_time": "2022-01-17T12:40:26.065Z"
   },
   {
    "duration": 21,
    "start_time": "2022-01-17T12:40:26.080Z"
   },
   {
    "duration": 999,
    "start_time": "2022-01-17T12:40:26.104Z"
   },
   {
    "duration": 15,
    "start_time": "2022-01-17T12:40:27.106Z"
   },
   {
    "duration": 31,
    "start_time": "2022-01-17T12:40:27.123Z"
   },
   {
    "duration": 16,
    "start_time": "2022-01-17T12:40:27.157Z"
   },
   {
    "duration": 341,
    "start_time": "2022-01-17T12:40:27.175Z"
   },
   {
    "duration": 52,
    "start_time": "2022-01-17T12:40:27.518Z"
   },
   {
    "duration": 19,
    "start_time": "2022-01-17T12:40:27.575Z"
   },
   {
    "duration": 19,
    "start_time": "2022-01-17T12:40:27.597Z"
   },
   {
    "duration": 8,
    "start_time": "2022-01-17T12:40:27.618Z"
   },
   {
    "duration": 9,
    "start_time": "2022-01-17T12:40:30.777Z"
   },
   {
    "duration": 9,
    "start_time": "2022-01-17T12:42:06.645Z"
   },
   {
    "duration": 35,
    "start_time": "2022-01-17T12:42:11.530Z"
   },
   {
    "duration": 4,
    "start_time": "2022-01-17T12:42:11.567Z"
   },
   {
    "duration": 562,
    "start_time": "2022-01-17T12:42:11.574Z"
   },
   {
    "duration": 49,
    "start_time": "2022-01-17T12:42:12.140Z"
   },
   {
    "duration": 115,
    "start_time": "2022-01-17T12:42:12.192Z"
   },
   {
    "duration": 10,
    "start_time": "2022-01-17T12:42:12.310Z"
   },
   {
    "duration": 9,
    "start_time": "2022-01-17T12:42:12.363Z"
   },
   {
    "duration": 14,
    "start_time": "2022-01-17T12:42:12.377Z"
   },
   {
    "duration": 17,
    "start_time": "2022-01-17T12:42:12.393Z"
   },
   {
    "duration": 10,
    "start_time": "2022-01-17T12:42:12.412Z"
   },
   {
    "duration": 47,
    "start_time": "2022-01-17T12:42:12.424Z"
   },
   {
    "duration": 9,
    "start_time": "2022-01-17T12:42:12.473Z"
   },
   {
    "duration": 11,
    "start_time": "2022-01-17T12:42:12.485Z"
   },
   {
    "duration": 8,
    "start_time": "2022-01-17T12:42:12.499Z"
   },
   {
    "duration": 12,
    "start_time": "2022-01-17T12:42:12.510Z"
   },
   {
    "duration": 53,
    "start_time": "2022-01-17T12:42:12.524Z"
   },
   {
    "duration": 975,
    "start_time": "2022-01-17T12:42:12.579Z"
   },
   {
    "duration": 18,
    "start_time": "2022-01-17T12:42:13.557Z"
   },
   {
    "duration": 10,
    "start_time": "2022-01-17T12:42:13.577Z"
   },
   {
    "duration": 14,
    "start_time": "2022-01-17T12:42:13.589Z"
   },
   {
    "duration": 352,
    "start_time": "2022-01-17T12:42:13.605Z"
   },
   {
    "duration": 41,
    "start_time": "2022-01-17T12:42:13.963Z"
   },
   {
    "duration": 20,
    "start_time": "2022-01-17T12:42:14.009Z"
   },
   {
    "duration": 45,
    "start_time": "2022-01-17T12:42:14.032Z"
   },
   {
    "duration": 8,
    "start_time": "2022-01-17T12:42:16.465Z"
   },
   {
    "duration": 259,
    "start_time": "2022-01-17T12:42:29.459Z"
   },
   {
    "duration": 10,
    "start_time": "2022-01-17T12:42:38.616Z"
   },
   {
    "duration": 21,
    "start_time": "2022-01-17T12:44:15.427Z"
   },
   {
    "duration": 35,
    "start_time": "2022-01-17T12:44:19.549Z"
   },
   {
    "duration": 3,
    "start_time": "2022-01-17T12:44:19.587Z"
   },
   {
    "duration": 612,
    "start_time": "2022-01-17T12:44:19.594Z"
   },
   {
    "duration": 43,
    "start_time": "2022-01-17T12:44:20.209Z"
   },
   {
    "duration": 82,
    "start_time": "2022-01-17T12:44:20.255Z"
   },
   {
    "duration": 10,
    "start_time": "2022-01-17T12:44:20.364Z"
   },
   {
    "duration": 11,
    "start_time": "2022-01-17T12:44:20.376Z"
   },
   {
    "duration": 14,
    "start_time": "2022-01-17T12:44:20.390Z"
   },
   {
    "duration": 35,
    "start_time": "2022-01-17T12:44:20.406Z"
   },
   {
    "duration": 8,
    "start_time": "2022-01-17T12:44:20.463Z"
   },
   {
    "duration": 18,
    "start_time": "2022-01-17T12:44:20.473Z"
   },
   {
    "duration": 23,
    "start_time": "2022-01-17T12:44:20.494Z"
   },
   {
    "duration": 8,
    "start_time": "2022-01-17T12:44:20.519Z"
   },
   {
    "duration": 8,
    "start_time": "2022-01-17T12:44:20.530Z"
   },
   {
    "duration": 28,
    "start_time": "2022-01-17T12:44:20.540Z"
   },
   {
    "duration": 20,
    "start_time": "2022-01-17T12:44:20.570Z"
   },
   {
    "duration": 1008,
    "start_time": "2022-01-17T12:44:20.592Z"
   },
   {
    "duration": 14,
    "start_time": "2022-01-17T12:44:21.603Z"
   },
   {
    "duration": 11,
    "start_time": "2022-01-17T12:44:21.620Z"
   },
   {
    "duration": 35,
    "start_time": "2022-01-17T12:44:21.633Z"
   },
   {
    "duration": 355,
    "start_time": "2022-01-17T12:44:21.671Z"
   },
   {
    "duration": 51,
    "start_time": "2022-01-17T12:44:22.031Z"
   },
   {
    "duration": 21,
    "start_time": "2022-01-17T12:44:22.085Z"
   },
   {
    "duration": 20,
    "start_time": "2022-01-17T12:44:22.108Z"
   },
   {
    "duration": 11,
    "start_time": "2022-01-17T12:44:25.332Z"
   },
   {
    "duration": 8,
    "start_time": "2022-01-17T12:44:53.766Z"
   },
   {
    "duration": 20,
    "start_time": "2022-01-17T12:45:35.349Z"
   },
   {
    "duration": 6,
    "start_time": "2022-01-17T12:46:12.071Z"
   },
   {
    "duration": 26,
    "start_time": "2022-01-17T12:46:12.908Z"
   },
   {
    "duration": 20,
    "start_time": "2022-01-17T12:46:58.721Z"
   },
   {
    "duration": 10,
    "start_time": "2022-01-17T12:46:59.865Z"
   },
   {
    "duration": 5,
    "start_time": "2022-01-17T12:47:00.563Z"
   },
   {
    "duration": 11,
    "start_time": "2022-01-17T12:48:38.454Z"
   },
   {
    "duration": 15,
    "start_time": "2022-01-17T12:48:49.973Z"
   },
   {
    "duration": 13,
    "start_time": "2022-01-17T12:49:17.421Z"
   },
   {
    "duration": 23,
    "start_time": "2022-01-17T12:51:40.052Z"
   },
   {
    "duration": 351,
    "start_time": "2022-01-17T12:54:31.575Z"
   },
   {
    "duration": 30,
    "start_time": "2022-01-17T12:58:05.836Z"
   },
   {
    "duration": 17,
    "start_time": "2022-01-17T12:59:11.655Z"
   },
   {
    "duration": 16,
    "start_time": "2022-01-17T12:59:28.709Z"
   },
   {
    "duration": 14,
    "start_time": "2022-01-17T13:00:36.859Z"
   },
   {
    "duration": 12,
    "start_time": "2022-01-17T13:00:57.340Z"
   },
   {
    "duration": 637,
    "start_time": "2022-01-17T13:02:35.880Z"
   },
   {
    "duration": 10,
    "start_time": "2022-01-17T13:03:10.736Z"
   },
   {
    "duration": 477,
    "start_time": "2022-01-17T13:03:24.395Z"
   },
   {
    "duration": 312,
    "start_time": "2022-01-17T13:05:27.460Z"
   },
   {
    "duration": 133,
    "start_time": "2022-01-17T13:05:46.981Z"
   },
   {
    "duration": 130,
    "start_time": "2022-01-17T13:05:56.650Z"
   },
   {
    "duration": 9,
    "start_time": "2022-01-17T13:05:57.718Z"
   },
   {
    "duration": 14,
    "start_time": "2022-01-17T13:05:58.459Z"
   },
   {
    "duration": 13,
    "start_time": "2022-01-17T13:06:00.095Z"
   },
   {
    "duration": 12,
    "start_time": "2022-01-17T13:06:00.626Z"
   },
   {
    "duration": 144,
    "start_time": "2022-01-17T13:06:38.386Z"
   },
   {
    "duration": 10,
    "start_time": "2022-01-17T13:08:10.232Z"
   },
   {
    "duration": 12,
    "start_time": "2022-01-17T13:10:18.783Z"
   },
   {
    "duration": 18,
    "start_time": "2022-01-17T13:12:08.998Z"
   },
   {
    "duration": 28,
    "start_time": "2022-01-17T13:12:37.006Z"
   },
   {
    "duration": 9,
    "start_time": "2022-01-17T13:15:17.117Z"
   },
   {
    "duration": 22,
    "start_time": "2022-01-17T13:15:41.078Z"
   },
   {
    "duration": 5,
    "start_time": "2022-01-17T13:16:11.711Z"
   },
   {
    "duration": 30,
    "start_time": "2022-01-17T13:16:26.158Z"
   },
   {
    "duration": 32,
    "start_time": "2022-01-17T13:17:55.830Z"
   },
   {
    "duration": 6924,
    "start_time": "2022-01-17T13:18:53.732Z"
   },
   {
    "duration": -222,
    "start_time": "2022-01-17T13:19:00.881Z"
   },
   {
    "duration": 30,
    "start_time": "2022-01-17T13:19:07.201Z"
   },
   {
    "duration": 16,
    "start_time": "2022-01-17T13:19:07.783Z"
   },
   {
    "duration": 13,
    "start_time": "2022-01-17T13:19:40.853Z"
   },
   {
    "duration": 11,
    "start_time": "2022-01-17T13:19:56.775Z"
   },
   {
    "duration": 10,
    "start_time": "2022-01-17T13:20:06.082Z"
   },
   {
    "duration": 33,
    "start_time": "2022-01-17T14:00:43.390Z"
   },
   {
    "duration": 4,
    "start_time": "2022-01-17T14:00:48.316Z"
   },
   {
    "duration": 526,
    "start_time": "2022-01-17T14:00:51.653Z"
   },
   {
    "duration": 54,
    "start_time": "2022-01-17T14:00:57.010Z"
   },
   {
    "duration": 81,
    "start_time": "2022-01-17T14:01:43.841Z"
   },
   {
    "duration": 10,
    "start_time": "2022-01-17T14:03:22.311Z"
   },
   {
    "duration": 11,
    "start_time": "2022-01-17T14:03:33.494Z"
   },
   {
    "duration": 20,
    "start_time": "2022-01-17T14:04:44.062Z"
   },
   {
    "duration": 12,
    "start_time": "2022-01-17T14:04:53.470Z"
   },
   {
    "duration": 9,
    "start_time": "2022-01-17T14:05:03.103Z"
   },
   {
    "duration": 14,
    "start_time": "2022-01-17T14:06:31.499Z"
   },
   {
    "duration": 12,
    "start_time": "2022-01-17T14:06:41.412Z"
   },
   {
    "duration": 13,
    "start_time": "2022-01-17T14:07:05.786Z"
   },
   {
    "duration": 8,
    "start_time": "2022-01-17T14:07:06.865Z"
   },
   {
    "duration": 12,
    "start_time": "2022-01-17T14:08:42.212Z"
   },
   {
    "duration": 7,
    "start_time": "2022-01-17T14:08:46.912Z"
   },
   {
    "duration": 12,
    "start_time": "2022-01-17T14:08:47.555Z"
   },
   {
    "duration": 10,
    "start_time": "2022-01-17T14:10:18.750Z"
   },
   {
    "duration": 7,
    "start_time": "2022-01-17T14:10:21.962Z"
   },
   {
    "duration": 6,
    "start_time": "2022-01-17T14:10:23.124Z"
   },
   {
    "duration": 12,
    "start_time": "2022-01-17T14:10:31.419Z"
   },
   {
    "duration": 12,
    "start_time": "2022-01-17T14:10:40.462Z"
   },
   {
    "duration": 12,
    "start_time": "2022-01-17T14:11:19.820Z"
   },
   {
    "duration": 10,
    "start_time": "2022-01-17T14:11:47.977Z"
   },
   {
    "duration": 10,
    "start_time": "2022-01-17T14:12:00.922Z"
   },
   {
    "duration": 9,
    "start_time": "2022-01-17T14:12:04.595Z"
   },
   {
    "duration": 19,
    "start_time": "2022-01-17T14:12:25.834Z"
   },
   {
    "duration": 11,
    "start_time": "2022-01-17T14:13:14.306Z"
   },
   {
    "duration": 9,
    "start_time": "2022-01-17T14:14:10.626Z"
   },
   {
    "duration": 20,
    "start_time": "2022-01-17T14:14:11.323Z"
   },
   {
    "duration": 1303,
    "start_time": "2022-01-17T14:14:12.207Z"
   },
   {
    "duration": 13,
    "start_time": "2022-01-17T14:14:13.513Z"
   },
   {
    "duration": 11,
    "start_time": "2022-01-17T14:14:14.474Z"
   },
   {
    "duration": 9,
    "start_time": "2022-01-17T14:15:36.011Z"
   },
   {
    "duration": 12,
    "start_time": "2022-01-17T14:15:56.610Z"
   },
   {
    "duration": 49,
    "start_time": "2022-01-17T14:19:38.131Z"
   },
   {
    "duration": 16,
    "start_time": "2022-01-17T14:19:38.651Z"
   },
   {
    "duration": 81,
    "start_time": "2022-01-17T14:20:09.564Z"
   },
   {
    "duration": 31,
    "start_time": "2022-01-17T14:24:01.650Z"
   },
   {
    "duration": 14,
    "start_time": "2022-01-17T14:24:24.374Z"
   },
   {
    "duration": 21,
    "start_time": "2022-01-17T14:30:21.539Z"
   },
   {
    "duration": 81,
    "start_time": "2022-01-17T14:36:07.510Z"
   },
   {
    "duration": 624,
    "start_time": "2022-01-17T14:36:11.660Z"
   },
   {
    "duration": 517,
    "start_time": "2022-01-17T14:36:30.142Z"
   },
   {
    "duration": 357,
    "start_time": "2022-01-17T14:37:16.159Z"
   },
   {
    "duration": 457,
    "start_time": "2022-01-17T14:37:59.793Z"
   },
   {
    "duration": 393,
    "start_time": "2022-01-17T14:38:07.822Z"
   },
   {
    "duration": 388,
    "start_time": "2022-01-17T14:40:21.303Z"
   },
   {
    "duration": 14,
    "start_time": "2022-01-17T14:40:46.528Z"
   },
   {
    "duration": 14,
    "start_time": "2022-01-17T14:42:24.999Z"
   },
   {
    "duration": 11,
    "start_time": "2022-01-17T14:42:54.115Z"
   },
   {
    "duration": 728,
    "start_time": "2022-01-17T14:45:37.923Z"
   },
   {
    "duration": 742,
    "start_time": "2022-01-17T14:46:55.532Z"
   },
   {
    "duration": 673,
    "start_time": "2022-01-17T14:51:21.241Z"
   },
   {
    "duration": 623,
    "start_time": "2022-01-17T14:51:37.707Z"
   },
   {
    "duration": 631,
    "start_time": "2022-01-17T14:52:05.454Z"
   },
   {
    "duration": 638,
    "start_time": "2022-01-17T14:52:32.834Z"
   },
   {
    "duration": 617,
    "start_time": "2022-01-17T14:53:02.218Z"
   },
   {
    "duration": 173,
    "start_time": "2022-01-17T15:02:52.569Z"
   },
   {
    "duration": 28,
    "start_time": "2022-01-17T15:06:56.180Z"
   },
   {
    "duration": 27,
    "start_time": "2022-01-17T15:07:02.298Z"
   },
   {
    "duration": 16,
    "start_time": "2022-01-17T15:07:02.896Z"
   },
   {
    "duration": 5880,
    "start_time": "2022-01-17T15:08:21.750Z"
   },
   {
    "duration": 21,
    "start_time": "2022-01-17T15:08:32.198Z"
   },
   {
    "duration": 13,
    "start_time": "2022-01-17T15:08:54.220Z"
   },
   {
    "duration": 11,
    "start_time": "2022-01-17T15:09:20.287Z"
   },
   {
    "duration": 21,
    "start_time": "2022-01-17T15:09:39.905Z"
   },
   {
    "duration": 13,
    "start_time": "2022-01-17T15:09:40.589Z"
   },
   {
    "duration": 303,
    "start_time": "2022-01-17T15:18:08.515Z"
   },
   {
    "duration": 1043,
    "start_time": "2022-01-17T15:18:19.150Z"
   },
   {
    "duration": 4,
    "start_time": "2022-01-17T15:18:20.196Z"
   },
   {
    "duration": 541,
    "start_time": "2022-01-17T15:18:20.203Z"
   },
   {
    "duration": 49,
    "start_time": "2022-01-17T15:18:20.748Z"
   },
   {
    "duration": 104,
    "start_time": "2022-01-17T15:18:20.799Z"
   },
   {
    "duration": 10,
    "start_time": "2022-01-17T15:18:20.906Z"
   },
   {
    "duration": 53,
    "start_time": "2022-01-17T15:18:20.918Z"
   },
   {
    "duration": 288,
    "start_time": "2022-01-17T15:18:20.975Z"
   },
   {
    "duration": -264,
    "start_time": "2022-01-17T15:18:21.531Z"
   },
   {
    "duration": -277,
    "start_time": "2022-01-17T15:18:21.545Z"
   },
   {
    "duration": -281,
    "start_time": "2022-01-17T15:18:21.550Z"
   },
   {
    "duration": -284,
    "start_time": "2022-01-17T15:18:21.555Z"
   },
   {
    "duration": -289,
    "start_time": "2022-01-17T15:18:21.561Z"
   },
   {
    "duration": -296,
    "start_time": "2022-01-17T15:18:21.569Z"
   },
   {
    "duration": -304,
    "start_time": "2022-01-17T15:18:21.578Z"
   },
   {
    "duration": -309,
    "start_time": "2022-01-17T15:18:21.584Z"
   },
   {
    "duration": -313,
    "start_time": "2022-01-17T15:18:21.590Z"
   },
   {
    "duration": -318,
    "start_time": "2022-01-17T15:18:21.596Z"
   },
   {
    "duration": -323,
    "start_time": "2022-01-17T15:18:21.602Z"
   },
   {
    "duration": -328,
    "start_time": "2022-01-17T15:18:21.609Z"
   },
   {
    "duration": -331,
    "start_time": "2022-01-17T15:18:21.614Z"
   },
   {
    "duration": -336,
    "start_time": "2022-01-17T15:18:21.620Z"
   },
   {
    "duration": -342,
    "start_time": "2022-01-17T15:18:21.627Z"
   },
   {
    "duration": -348,
    "start_time": "2022-01-17T15:18:21.634Z"
   },
   {
    "duration": -353,
    "start_time": "2022-01-17T15:18:21.641Z"
   },
   {
    "duration": -364,
    "start_time": "2022-01-17T15:18:21.654Z"
   },
   {
    "duration": -368,
    "start_time": "2022-01-17T15:18:21.659Z"
   },
   {
    "duration": -371,
    "start_time": "2022-01-17T15:18:21.664Z"
   },
   {
    "duration": -376,
    "start_time": "2022-01-17T15:18:21.670Z"
   },
   {
    "duration": -379,
    "start_time": "2022-01-17T15:18:21.675Z"
   },
   {
    "duration": -383,
    "start_time": "2022-01-17T15:18:21.680Z"
   },
   {
    "duration": -386,
    "start_time": "2022-01-17T15:18:21.685Z"
   },
   {
    "duration": -391,
    "start_time": "2022-01-17T15:18:21.691Z"
   },
   {
    "duration": -393,
    "start_time": "2022-01-17T15:18:21.695Z"
   },
   {
    "duration": -397,
    "start_time": "2022-01-17T15:18:21.701Z"
   },
   {
    "duration": -401,
    "start_time": "2022-01-17T15:18:21.706Z"
   },
   {
    "duration": -348,
    "start_time": "2022-01-17T15:18:21.711Z"
   },
   {
    "duration": -351,
    "start_time": "2022-01-17T15:18:21.716Z"
   },
   {
    "duration": -356,
    "start_time": "2022-01-17T15:18:21.722Z"
   },
   {
    "duration": 15,
    "start_time": "2022-01-17T15:18:56.809Z"
   },
   {
    "duration": 316,
    "start_time": "2022-01-17T15:18:57.326Z"
   },
   {
    "duration": 10,
    "start_time": "2022-01-17T15:19:11.758Z"
   },
   {
    "duration": 12,
    "start_time": "2022-01-17T15:19:13.978Z"
   },
   {
    "duration": 8,
    "start_time": "2022-01-17T15:19:17.246Z"
   },
   {
    "duration": 1086,
    "start_time": "2022-01-17T15:19:57.009Z"
   },
   {
    "duration": 20,
    "start_time": "2022-01-17T15:19:58.099Z"
   },
   {
    "duration": 11,
    "start_time": "2022-01-17T15:20:01.668Z"
   },
   {
    "duration": 32,
    "start_time": "2022-01-17T15:20:18.860Z"
   },
   {
    "duration": 3,
    "start_time": "2022-01-17T15:20:18.895Z"
   },
   {
    "duration": 640,
    "start_time": "2022-01-17T15:20:18.902Z"
   },
   {
    "duration": 47,
    "start_time": "2022-01-17T15:20:19.545Z"
   },
   {
    "duration": 105,
    "start_time": "2022-01-17T15:20:19.594Z"
   },
   {
    "duration": 9,
    "start_time": "2022-01-17T15:20:19.702Z"
   },
   {
    "duration": 13,
    "start_time": "2022-01-17T15:20:19.713Z"
   },
   {
    "duration": 1198,
    "start_time": "2022-01-17T15:20:19.765Z"
   },
   {
    "duration": 14,
    "start_time": "2022-01-17T15:20:20.966Z"
   },
   {
    "duration": 15,
    "start_time": "2022-01-17T15:20:20.985Z"
   },
   {
    "duration": 17,
    "start_time": "2022-01-17T15:20:21.002Z"
   },
   {
    "duration": 9,
    "start_time": "2022-01-17T15:20:21.022Z"
   },
   {
    "duration": 36,
    "start_time": "2022-01-17T15:20:21.033Z"
   },
   {
    "duration": 9,
    "start_time": "2022-01-17T15:20:21.071Z"
   },
   {
    "duration": 11,
    "start_time": "2022-01-17T15:20:21.083Z"
   },
   {
    "duration": 20,
    "start_time": "2022-01-17T15:20:21.096Z"
   },
   {
    "duration": 15,
    "start_time": "2022-01-17T15:20:21.118Z"
   },
   {
    "duration": 46,
    "start_time": "2022-01-17T15:20:21.136Z"
   },
   {
    "duration": 17,
    "start_time": "2022-01-17T15:20:21.184Z"
   },
   {
    "duration": 13,
    "start_time": "2022-01-17T15:20:21.203Z"
   },
   {
    "duration": 45,
    "start_time": "2022-01-17T15:20:21.218Z"
   },
   {
    "duration": 14,
    "start_time": "2022-01-17T15:20:21.265Z"
   },
   {
    "duration": 20,
    "start_time": "2022-01-17T15:20:21.283Z"
   },
   {
    "duration": 364,
    "start_time": "2022-01-17T15:20:21.306Z"
   },
   {
    "duration": 44,
    "start_time": "2022-01-17T15:20:21.673Z"
   },
   {
    "duration": 45,
    "start_time": "2022-01-17T15:20:21.719Z"
   },
   {
    "duration": 32,
    "start_time": "2022-01-17T15:20:21.767Z"
   },
   {
    "duration": 12,
    "start_time": "2022-01-17T15:20:21.802Z"
   },
   {
    "duration": 52,
    "start_time": "2022-01-17T15:20:21.817Z"
   },
   {
    "duration": 417,
    "start_time": "2022-01-17T15:20:21.872Z"
   },
   {
    "duration": 9,
    "start_time": "2022-01-17T15:20:22.292Z"
   },
   {
    "duration": 4,
    "start_time": "2022-01-17T15:20:22.304Z"
   },
   {
    "duration": 14,
    "start_time": "2022-01-17T15:20:22.311Z"
   },
   {
    "duration": 44,
    "start_time": "2022-01-17T15:20:22.328Z"
   },
   {
    "duration": 641,
    "start_time": "2022-01-17T15:20:22.374Z"
   },
   {
    "duration": 179,
    "start_time": "2022-01-17T15:20:23.017Z"
   },
   {
    "duration": 29,
    "start_time": "2022-01-17T15:20:23.198Z"
   },
   {
    "duration": 34,
    "start_time": "2022-01-17T15:20:23.230Z"
   },
   {
    "duration": 23,
    "start_time": "2022-01-17T15:20:23.267Z"
   },
   {
    "duration": 13,
    "start_time": "2022-01-17T15:20:23.292Z"
   },
   {
    "duration": 16,
    "start_time": "2022-01-17T15:20:28.322Z"
   },
   {
    "duration": 11,
    "start_time": "2022-01-17T15:20:29.226Z"
   },
   {
    "duration": 247,
    "start_time": "2022-01-17T15:40:56.816Z"
   },
   {
    "duration": 243,
    "start_time": "2022-01-17T15:41:01.332Z"
   },
   {
    "duration": 421,
    "start_time": "2022-01-17T15:41:16.354Z"
   },
   {
    "duration": 102517,
    "start_time": "2022-01-17T15:41:23.924Z"
   },
   {
    "duration": 406,
    "start_time": "2022-01-17T15:49:36.894Z"
   },
   {
    "duration": 408,
    "start_time": "2022-01-17T15:50:02.292Z"
   },
   {
    "duration": 202,
    "start_time": "2022-01-17T15:51:31.221Z"
   },
   {
    "duration": 23,
    "start_time": "2022-01-17T15:53:21.796Z"
   },
   {
    "duration": 412,
    "start_time": "2022-01-17T15:54:08.714Z"
   },
   {
    "duration": 33,
    "start_time": "2022-01-17T16:00:31.978Z"
   },
   {
    "duration": 17,
    "start_time": "2022-01-17T16:00:33.794Z"
   },
   {
    "duration": 24,
    "start_time": "2022-01-17T16:01:45.213Z"
   },
   {
    "duration": 13,
    "start_time": "2022-01-17T16:02:15.636Z"
   },
   {
    "duration": 11,
    "start_time": "2022-01-17T16:03:21.486Z"
   },
   {
    "duration": 485,
    "start_time": "2022-01-17T16:05:16.815Z"
   },
   {
    "duration": 51,
    "start_time": "2022-01-17T16:11:14.198Z"
   },
   {
    "duration": 13,
    "start_time": "2022-01-17T16:11:41.115Z"
   },
   {
    "duration": 11,
    "start_time": "2022-01-17T16:12:26.195Z"
   },
   {
    "duration": 9,
    "start_time": "2022-01-17T16:12:44.246Z"
   },
   {
    "duration": 631,
    "start_time": "2022-01-17T16:14:18.541Z"
   },
   {
    "duration": 38,
    "start_time": "2022-01-17T16:14:26.325Z"
   },
   {
    "duration": 4,
    "start_time": "2022-01-17T16:14:26.366Z"
   },
   {
    "duration": 619,
    "start_time": "2022-01-17T16:14:26.373Z"
   },
   {
    "duration": 42,
    "start_time": "2022-01-17T16:14:26.995Z"
   },
   {
    "duration": 91,
    "start_time": "2022-01-17T16:14:27.040Z"
   },
   {
    "duration": 35,
    "start_time": "2022-01-17T16:14:27.134Z"
   },
   {
    "duration": 26,
    "start_time": "2022-01-17T16:14:27.172Z"
   },
   {
    "duration": 1442,
    "start_time": "2022-01-17T16:14:27.203Z"
   },
   {
    "duration": 27,
    "start_time": "2022-01-17T16:14:28.649Z"
   },
   {
    "duration": 11,
    "start_time": "2022-01-17T16:14:28.679Z"
   },
   {
    "duration": 15,
    "start_time": "2022-01-17T16:14:28.693Z"
   },
   {
    "duration": 12,
    "start_time": "2022-01-17T16:14:28.710Z"
   },
   {
    "duration": 41,
    "start_time": "2022-01-17T16:14:28.725Z"
   },
   {
    "duration": 12,
    "start_time": "2022-01-17T16:14:28.769Z"
   },
   {
    "duration": 9,
    "start_time": "2022-01-17T16:14:28.783Z"
   },
   {
    "duration": 18,
    "start_time": "2022-01-17T16:14:28.794Z"
   },
   {
    "duration": 14,
    "start_time": "2022-01-17T16:14:28.815Z"
   },
   {
    "duration": 45,
    "start_time": "2022-01-17T16:14:28.831Z"
   },
   {
    "duration": 18,
    "start_time": "2022-01-17T16:14:28.879Z"
   },
   {
    "duration": 11,
    "start_time": "2022-01-17T16:14:28.899Z"
   },
   {
    "duration": 10,
    "start_time": "2022-01-17T16:14:28.913Z"
   },
   {
    "duration": 43,
    "start_time": "2022-01-17T16:14:28.925Z"
   },
   {
    "duration": 9,
    "start_time": "2022-01-17T16:14:28.974Z"
   },
   {
    "duration": 331,
    "start_time": "2022-01-17T16:14:28.986Z"
   },
   {
    "duration": 63,
    "start_time": "2022-01-17T16:14:29.320Z"
   },
   {
    "duration": 17,
    "start_time": "2022-01-17T16:14:29.386Z"
   },
   {
    "duration": 30,
    "start_time": "2022-01-17T16:14:29.406Z"
   },
   {
    "duration": 33,
    "start_time": "2022-01-17T16:14:29.438Z"
   },
   {
    "duration": 20,
    "start_time": "2022-01-17T16:14:29.474Z"
   },
   {
    "duration": 418,
    "start_time": "2022-01-17T16:14:29.496Z"
   },
   {
    "duration": 10,
    "start_time": "2022-01-17T16:14:29.917Z"
   },
   {
    "duration": 5,
    "start_time": "2022-01-17T16:14:29.930Z"
   },
   {
    "duration": 37,
    "start_time": "2022-01-17T16:14:29.937Z"
   },
   {
    "duration": 11,
    "start_time": "2022-01-17T16:14:29.977Z"
   },
   {
    "duration": 636,
    "start_time": "2022-01-17T16:14:29.990Z"
   },
   {
    "duration": 159,
    "start_time": "2022-01-17T16:14:30.629Z"
   },
   {
    "duration": 28,
    "start_time": "2022-01-17T16:14:30.791Z"
   },
   {
    "duration": 44,
    "start_time": "2022-01-17T16:14:30.822Z"
   },
   {
    "duration": 22,
    "start_time": "2022-01-17T16:14:30.869Z"
   },
   {
    "duration": 17,
    "start_time": "2022-01-17T16:14:30.893Z"
   },
   {
    "duration": 18,
    "start_time": "2022-01-17T16:14:30.912Z"
   },
   {
    "duration": 136,
    "start_time": "2022-01-17T16:14:30.932Z"
   },
   {
    "duration": 410,
    "start_time": "2022-01-17T16:14:31.071Z"
   },
   {
    "duration": 163,
    "start_time": "2022-01-17T16:14:31.484Z"
   },
   {
    "duration": 28,
    "start_time": "2022-01-17T16:14:31.650Z"
   },
   {
    "duration": 404,
    "start_time": "2022-01-17T16:14:31.681Z"
   },
   {
    "duration": 32,
    "start_time": "2022-01-17T16:14:32.087Z"
   },
   {
    "duration": 16,
    "start_time": "2022-01-17T16:14:32.122Z"
   },
   {
    "duration": 43,
    "start_time": "2022-01-17T16:14:32.141Z"
   },
   {
    "duration": 12,
    "start_time": "2022-01-17T16:14:32.187Z"
   },
   {
    "duration": 25,
    "start_time": "2022-01-17T16:14:32.202Z"
   },
   {
    "duration": 489,
    "start_time": "2022-01-17T16:14:32.229Z"
   },
   {
    "duration": 12,
    "start_time": "2022-01-17T16:14:32.721Z"
   },
   {
    "duration": 297,
    "start_time": "2022-01-17T18:00:54.329Z"
   },
   {
    "duration": 983,
    "start_time": "2022-01-17T18:01:05.678Z"
   },
   {
    "duration": 5,
    "start_time": "2022-01-17T18:01:08.520Z"
   },
   {
    "duration": 644,
    "start_time": "2022-01-17T18:01:12.410Z"
   },
   {
    "duration": 50,
    "start_time": "2022-01-17T18:01:17.276Z"
   },
   {
    "duration": 92,
    "start_time": "2022-01-17T18:01:24.472Z"
   },
   {
    "duration": 24,
    "start_time": "2022-01-17T18:04:01.216Z"
   },
   {
    "duration": 9,
    "start_time": "2022-01-17T18:04:12.236Z"
   },
   {
    "duration": 9,
    "start_time": "2022-01-17T18:04:15.533Z"
   },
   {
    "duration": 26,
    "start_time": "2022-01-17T18:05:57.248Z"
   },
   {
    "duration": 1087,
    "start_time": "2022-01-17T18:06:05.591Z"
   },
   {
    "duration": 17,
    "start_time": "2022-01-17T18:06:14.068Z"
   },
   {
    "duration": 11,
    "start_time": "2022-01-17T18:06:16.552Z"
   },
   {
    "duration": 13,
    "start_time": "2022-01-17T18:06:48.142Z"
   },
   {
    "duration": 8,
    "start_time": "2022-01-17T18:07:48.159Z"
   },
   {
    "duration": 13,
    "start_time": "2022-01-17T18:07:51.097Z"
   },
   {
    "duration": 11,
    "start_time": "2022-01-17T18:09:09.231Z"
   },
   {
    "duration": 7,
    "start_time": "2022-01-17T18:09:46.306Z"
   },
   {
    "duration": 7,
    "start_time": "2022-01-17T18:09:58.251Z"
   },
   {
    "duration": 13,
    "start_time": "2022-01-17T18:10:00.124Z"
   },
   {
    "duration": 9,
    "start_time": "2022-01-17T18:11:02.546Z"
   },
   {
    "duration": 20,
    "start_time": "2022-01-17T18:11:16.617Z"
   },
   {
    "duration": 12,
    "start_time": "2022-01-17T18:11:38.401Z"
   },
   {
    "duration": 19,
    "start_time": "2022-01-17T18:11:43.199Z"
   },
   {
    "duration": 18,
    "start_time": "2022-01-17T18:11:44.028Z"
   },
   {
    "duration": 10,
    "start_time": "2022-01-17T18:11:59.747Z"
   },
   {
    "duration": 8,
    "start_time": "2022-01-17T18:12:15.805Z"
   },
   {
    "duration": 8,
    "start_time": "2022-01-17T18:12:40.781Z"
   },
   {
    "duration": 12,
    "start_time": "2022-01-17T18:12:48.075Z"
   },
   {
    "duration": 325,
    "start_time": "2022-01-17T18:12:56.959Z"
   },
   {
    "duration": 48,
    "start_time": "2022-01-17T18:13:12.036Z"
   },
   {
    "duration": 19,
    "start_time": "2022-01-17T18:13:15.056Z"
   },
   {
    "duration": 31,
    "start_time": "2022-01-17T18:14:47.300Z"
   },
   {
    "duration": 14,
    "start_time": "2022-01-17T18:14:49.161Z"
   },
   {
    "duration": 20,
    "start_time": "2022-01-17T18:15:37.791Z"
   },
   {
    "duration": 471,
    "start_time": "2022-01-17T18:18:20.455Z"
   },
   {
    "duration": 11,
    "start_time": "2022-01-17T18:19:17.248Z"
   },
   {
    "duration": 6,
    "start_time": "2022-01-17T18:19:18.250Z"
   },
   {
    "duration": 16,
    "start_time": "2022-01-17T18:19:19.934Z"
   },
   {
    "duration": 12,
    "start_time": "2022-01-17T18:19:22.778Z"
   },
   {
    "duration": 11,
    "start_time": "2022-01-17T18:19:50.436Z"
   },
   {
    "duration": 13,
    "start_time": "2022-01-17T18:20:59.288Z"
   },
   {
    "duration": 15,
    "start_time": "2022-01-17T18:21:33.363Z"
   },
   {
    "duration": 12,
    "start_time": "2022-01-17T18:21:38.005Z"
   },
   {
    "duration": 609,
    "start_time": "2022-01-17T18:21:50.895Z"
   },
   {
    "duration": 132,
    "start_time": "2022-01-17T18:23:13.743Z"
   },
   {
    "duration": 25,
    "start_time": "2022-01-17T18:24:06.252Z"
   },
   {
    "duration": 24,
    "start_time": "2022-01-17T18:24:07.711Z"
   },
   {
    "duration": 20,
    "start_time": "2022-01-17T18:24:13.818Z"
   },
   {
    "duration": 12,
    "start_time": "2022-01-17T18:24:16.207Z"
   },
   {
    "duration": 13,
    "start_time": "2022-01-17T18:24:23.956Z"
   },
   {
    "duration": 12,
    "start_time": "2022-01-17T18:24:24.713Z"
   },
   {
    "duration": 413,
    "start_time": "2022-01-17T18:24:31.862Z"
   },
   {
    "duration": 143,
    "start_time": "2022-01-17T18:24:56.978Z"
   },
   {
    "duration": 18,
    "start_time": "2022-01-17T18:24:59.927Z"
   },
   {
    "duration": 376,
    "start_time": "2022-01-17T18:25:06.806Z"
   },
   {
    "duration": 31,
    "start_time": "2022-01-17T18:25:42.758Z"
   },
   {
    "duration": 16,
    "start_time": "2022-01-17T18:25:43.292Z"
   },
   {
    "duration": 25,
    "start_time": "2022-01-17T18:25:45.126Z"
   },
   {
    "duration": 13,
    "start_time": "2022-01-17T18:25:45.775Z"
   },
   {
    "duration": 11,
    "start_time": "2022-01-17T18:25:49.268Z"
   },
   {
    "duration": 608,
    "start_time": "2022-01-17T18:25:54.734Z"
   },
   {
    "duration": 13,
    "start_time": "2022-01-17T18:26:07.295Z"
   },
   {
    "duration": 933,
    "start_time": "2022-01-18T11:09:04.444Z"
   },
   {
    "duration": 3,
    "start_time": "2022-01-18T11:09:05.380Z"
   },
   {
    "duration": 526,
    "start_time": "2022-01-18T11:09:05.386Z"
   },
   {
    "duration": 53,
    "start_time": "2022-01-18T11:09:05.915Z"
   },
   {
    "duration": 100,
    "start_time": "2022-01-18T11:09:05.971Z"
   },
   {
    "duration": 8,
    "start_time": "2022-01-18T11:09:06.074Z"
   },
   {
    "duration": 21,
    "start_time": "2022-01-18T11:09:06.085Z"
   },
   {
    "duration": 1128,
    "start_time": "2022-01-18T11:09:06.110Z"
   },
   {
    "duration": 14,
    "start_time": "2022-01-18T11:09:07.241Z"
   },
   {
    "duration": 9,
    "start_time": "2022-01-18T11:09:07.270Z"
   },
   {
    "duration": 10,
    "start_time": "2022-01-18T11:09:07.281Z"
   },
   {
    "duration": 7,
    "start_time": "2022-01-18T11:09:07.294Z"
   },
   {
    "duration": 17,
    "start_time": "2022-01-18T11:09:07.303Z"
   },
   {
    "duration": 8,
    "start_time": "2022-01-18T11:09:07.323Z"
   },
   {
    "duration": 7,
    "start_time": "2022-01-18T11:09:07.370Z"
   },
   {
    "duration": 20,
    "start_time": "2022-01-18T11:09:07.379Z"
   },
   {
    "duration": 15,
    "start_time": "2022-01-18T11:09:07.401Z"
   },
   {
    "duration": 18,
    "start_time": "2022-01-18T11:09:07.418Z"
   },
   {
    "duration": 41,
    "start_time": "2022-01-18T11:09:07.438Z"
   },
   {
    "duration": 11,
    "start_time": "2022-01-18T11:09:07.482Z"
   },
   {
    "duration": 10,
    "start_time": "2022-01-18T11:09:07.496Z"
   },
   {
    "duration": 10,
    "start_time": "2022-01-18T11:09:07.509Z"
   },
   {
    "duration": 46,
    "start_time": "2022-01-18T11:09:07.525Z"
   },
   {
    "duration": 340,
    "start_time": "2022-01-18T11:09:07.575Z"
   },
   {
    "duration": 552,
    "start_time": "2022-01-18T11:09:37.743Z"
   },
   {
    "duration": 42,
    "start_time": "2022-01-18T11:09:55.892Z"
   },
   {
    "duration": 17,
    "start_time": "2022-01-18T11:10:34.961Z"
   },
   {
    "duration": 314,
    "start_time": "2022-01-18T11:10:36.536Z"
   },
   {
    "duration": 13,
    "start_time": "2022-01-18T11:10:42.971Z"
   },
   {
    "duration": 34,
    "start_time": "2022-01-18T11:14:56.326Z"
   },
   {
    "duration": 28,
    "start_time": "2022-01-18T11:14:59.388Z"
   },
   {
    "duration": 4,
    "start_time": "2022-01-18T11:14:59.419Z"
   },
   {
    "duration": 646,
    "start_time": "2022-01-18T11:14:59.427Z"
   },
   {
    "duration": 47,
    "start_time": "2022-01-18T11:15:00.077Z"
   },
   {
    "duration": 152,
    "start_time": "2022-01-18T11:15:00.126Z"
   },
   {
    "duration": 11,
    "start_time": "2022-01-18T11:15:00.281Z"
   },
   {
    "duration": 29,
    "start_time": "2022-01-18T11:15:00.296Z"
   },
   {
    "duration": 1202,
    "start_time": "2022-01-18T11:15:00.328Z"
   },
   {
    "duration": 14,
    "start_time": "2022-01-18T11:15:01.533Z"
   },
   {
    "duration": 27,
    "start_time": "2022-01-18T11:15:01.549Z"
   },
   {
    "duration": 22,
    "start_time": "2022-01-18T11:15:01.579Z"
   },
   {
    "duration": 11,
    "start_time": "2022-01-18T11:15:01.604Z"
   },
   {
    "duration": 19,
    "start_time": "2022-01-18T11:15:01.617Z"
   },
   {
    "duration": 36,
    "start_time": "2022-01-18T11:15:01.639Z"
   },
   {
    "duration": 25,
    "start_time": "2022-01-18T11:15:01.680Z"
   },
   {
    "duration": 18,
    "start_time": "2022-01-18T11:15:01.707Z"
   },
   {
    "duration": 24,
    "start_time": "2022-01-18T11:15:01.728Z"
   },
   {
    "duration": 18,
    "start_time": "2022-01-18T11:15:01.757Z"
   },
   {
    "duration": 28,
    "start_time": "2022-01-18T11:15:01.779Z"
   },
   {
    "duration": 13,
    "start_time": "2022-01-18T11:15:01.810Z"
   },
   {
    "duration": 11,
    "start_time": "2022-01-18T11:15:01.825Z"
   },
   {
    "duration": 36,
    "start_time": "2022-01-18T11:15:01.839Z"
   },
   {
    "duration": 22,
    "start_time": "2022-01-18T11:15:01.878Z"
   },
   {
    "duration": 358,
    "start_time": "2022-01-18T11:15:01.903Z"
   },
   {
    "duration": 48,
    "start_time": "2022-01-18T11:15:02.269Z"
   },
   {
    "duration": 16,
    "start_time": "2022-01-18T11:15:02.319Z"
   },
   {
    "duration": 65,
    "start_time": "2022-01-18T11:15:02.337Z"
   },
   {
    "duration": 12,
    "start_time": "2022-01-18T11:15:02.405Z"
   },
   {
    "duration": 26,
    "start_time": "2022-01-18T11:15:02.419Z"
   },
   {
    "duration": 469,
    "start_time": "2022-01-18T11:15:02.448Z"
   },
   {
    "duration": 10,
    "start_time": "2022-01-18T11:15:02.919Z"
   },
   {
    "duration": 7,
    "start_time": "2022-01-18T11:15:02.932Z"
   },
   {
    "duration": 39,
    "start_time": "2022-01-18T11:15:02.942Z"
   },
   {
    "duration": 11,
    "start_time": "2022-01-18T11:15:02.983Z"
   },
   {
    "duration": 713,
    "start_time": "2022-01-18T11:15:03.001Z"
   },
   {
    "duration": 169,
    "start_time": "2022-01-18T11:15:03.717Z"
   },
   {
    "duration": 31,
    "start_time": "2022-01-18T11:15:03.890Z"
   },
   {
    "duration": 13,
    "start_time": "2022-01-18T11:15:03.924Z"
   },
   {
    "duration": 50,
    "start_time": "2022-01-18T11:15:03.940Z"
   },
   {
    "duration": 11,
    "start_time": "2022-01-18T11:15:03.993Z"
   },
   {
    "duration": 19,
    "start_time": "2022-01-18T11:15:04.006Z"
   },
   {
    "duration": 44,
    "start_time": "2022-01-18T11:15:04.027Z"
   },
   {
    "duration": 480,
    "start_time": "2022-01-18T11:15:04.074Z"
   },
   {
    "duration": 194,
    "start_time": "2022-01-18T11:15:04.556Z"
   },
   {
    "duration": 30,
    "start_time": "2022-01-18T11:15:04.753Z"
   },
   {
    "duration": 422,
    "start_time": "2022-01-18T11:15:04.786Z"
   },
   {
    "duration": 31,
    "start_time": "2022-01-18T11:15:05.210Z"
   },
   {
    "duration": 46,
    "start_time": "2022-01-18T11:15:05.243Z"
   },
   {
    "duration": 31,
    "start_time": "2022-01-18T11:15:05.292Z"
   },
   {
    "duration": 20,
    "start_time": "2022-01-18T11:15:05.326Z"
   },
   {
    "duration": 16,
    "start_time": "2022-01-18T11:15:05.377Z"
   },
   {
    "duration": 535,
    "start_time": "2022-01-18T11:15:05.396Z"
   },
   {
    "duration": 14,
    "start_time": "2022-01-18T11:15:05.933Z"
   },
   {
    "duration": 26,
    "start_time": "2022-01-18T11:23:02.198Z"
   },
   {
    "duration": 5,
    "start_time": "2022-01-18T11:23:02.227Z"
   },
   {
    "duration": 561,
    "start_time": "2022-01-18T11:23:02.236Z"
   },
   {
    "duration": 43,
    "start_time": "2022-01-18T11:23:02.800Z"
   },
   {
    "duration": 77,
    "start_time": "2022-01-18T11:23:02.846Z"
   },
   {
    "duration": 43,
    "start_time": "2022-01-18T11:23:02.926Z"
   },
   {
    "duration": 13,
    "start_time": "2022-01-18T11:23:02.972Z"
   },
   {
    "duration": 1242,
    "start_time": "2022-01-18T11:23:02.987Z"
   },
   {
    "duration": 14,
    "start_time": "2022-01-18T11:23:04.232Z"
   },
   {
    "duration": 28,
    "start_time": "2022-01-18T11:23:04.249Z"
   },
   {
    "duration": 18,
    "start_time": "2022-01-18T11:23:04.279Z"
   },
   {
    "duration": 15,
    "start_time": "2022-01-18T11:23:04.299Z"
   },
   {
    "duration": 16,
    "start_time": "2022-01-18T11:23:04.317Z"
   },
   {
    "duration": 9,
    "start_time": "2022-01-18T11:23:04.337Z"
   },
   {
    "duration": 7,
    "start_time": "2022-01-18T11:23:04.369Z"
   },
   {
    "duration": 15,
    "start_time": "2022-01-18T11:23:04.378Z"
   },
   {
    "duration": 10,
    "start_time": "2022-01-18T11:23:04.395Z"
   },
   {
    "duration": 15,
    "start_time": "2022-01-18T11:23:04.407Z"
   },
   {
    "duration": 51,
    "start_time": "2022-01-18T11:23:04.425Z"
   },
   {
    "duration": 11,
    "start_time": "2022-01-18T11:23:04.479Z"
   },
   {
    "duration": 12,
    "start_time": "2022-01-18T11:23:04.493Z"
   },
   {
    "duration": 14,
    "start_time": "2022-01-18T11:23:04.507Z"
   },
   {
    "duration": 15,
    "start_time": "2022-01-18T11:23:04.523Z"
   },
   {
    "duration": 381,
    "start_time": "2022-01-18T11:23:04.541Z"
   },
   {
    "duration": 51,
    "start_time": "2022-01-18T11:23:04.924Z"
   },
   {
    "duration": 16,
    "start_time": "2022-01-18T11:23:04.978Z"
   },
   {
    "duration": 2,
    "start_time": "2022-01-18T11:23:04.997Z"
   },
   {
    "duration": 18,
    "start_time": "2022-01-18T11:23:05.002Z"
   },
   {
    "duration": 62,
    "start_time": "2022-01-18T11:23:05.023Z"
   },
   {
    "duration": 440,
    "start_time": "2022-01-18T11:23:05.088Z"
   },
   {
    "duration": 10,
    "start_time": "2022-01-18T11:23:05.531Z"
   },
   {
    "duration": 28,
    "start_time": "2022-01-18T11:23:05.543Z"
   },
   {
    "duration": 15,
    "start_time": "2022-01-18T11:23:05.574Z"
   },
   {
    "duration": 11,
    "start_time": "2022-01-18T11:23:05.591Z"
   },
   {
    "duration": 665,
    "start_time": "2022-01-18T11:23:05.604Z"
   },
   {
    "duration": 154,
    "start_time": "2022-01-18T11:23:06.272Z"
   },
   {
    "duration": 44,
    "start_time": "2022-01-18T11:23:06.429Z"
   },
   {
    "duration": 13,
    "start_time": "2022-01-18T11:23:06.479Z"
   },
   {
    "duration": 21,
    "start_time": "2022-01-18T11:23:06.495Z"
   },
   {
    "duration": 12,
    "start_time": "2022-01-18T11:23:06.518Z"
   },
   {
    "duration": 47,
    "start_time": "2022-01-18T11:23:06.533Z"
   },
   {
    "duration": 10,
    "start_time": "2022-01-18T11:23:06.583Z"
   },
   {
    "duration": 441,
    "start_time": "2022-01-18T11:23:06.595Z"
   },
   {
    "duration": 167,
    "start_time": "2022-01-18T11:23:07.038Z"
   },
   {
    "duration": 19,
    "start_time": "2022-01-18T11:23:07.208Z"
   },
   {
    "duration": 485,
    "start_time": "2022-01-18T11:23:07.229Z"
   },
   {
    "duration": 31,
    "start_time": "2022-01-18T11:23:07.716Z"
   },
   {
    "duration": 34,
    "start_time": "2022-01-18T11:23:07.750Z"
   },
   {
    "duration": 24,
    "start_time": "2022-01-18T11:23:07.787Z"
   },
   {
    "duration": 12,
    "start_time": "2022-01-18T11:23:07.813Z"
   },
   {
    "duration": 44,
    "start_time": "2022-01-18T11:23:07.828Z"
   },
   {
    "duration": 502,
    "start_time": "2022-01-18T11:23:07.874Z"
   },
   {
    "duration": 12,
    "start_time": "2022-01-18T11:23:08.378Z"
   },
   {
    "duration": 397,
    "start_time": "2022-01-18T11:23:08.392Z"
   },
   {
    "duration": 139,
    "start_time": "2022-01-18T11:23:40.944Z"
   },
   {
    "duration": 153,
    "start_time": "2022-01-18T11:26:08.649Z"
   },
   {
    "duration": 4,
    "start_time": "2022-01-18T11:27:52.303Z"
   },
   {
    "duration": 24,
    "start_time": "2022-01-18T11:27:55.905Z"
   },
   {
    "duration": 3,
    "start_time": "2022-01-18T11:27:55.932Z"
   },
   {
    "duration": 594,
    "start_time": "2022-01-18T11:27:55.938Z"
   },
   {
    "duration": 42,
    "start_time": "2022-01-18T11:27:56.534Z"
   },
   {
    "duration": 106,
    "start_time": "2022-01-18T11:27:56.579Z"
   },
   {
    "duration": 10,
    "start_time": "2022-01-18T11:27:56.689Z"
   },
   {
    "duration": 23,
    "start_time": "2022-01-18T11:27:56.702Z"
   },
   {
    "duration": 1132,
    "start_time": "2022-01-18T11:27:56.728Z"
   },
   {
    "duration": 15,
    "start_time": "2022-01-18T11:27:57.869Z"
   },
   {
    "duration": 11,
    "start_time": "2022-01-18T11:27:57.886Z"
   },
   {
    "duration": 14,
    "start_time": "2022-01-18T11:27:57.899Z"
   },
   {
    "duration": 10,
    "start_time": "2022-01-18T11:27:57.915Z"
   },
   {
    "duration": 50,
    "start_time": "2022-01-18T11:27:57.927Z"
   },
   {
    "duration": 6,
    "start_time": "2022-01-18T11:27:57.982Z"
   },
   {
    "duration": 8,
    "start_time": "2022-01-18T11:27:57.991Z"
   },
   {
    "duration": 16,
    "start_time": "2022-01-18T11:27:58.002Z"
   },
   {
    "duration": 11,
    "start_time": "2022-01-18T11:27:58.021Z"
   },
   {
    "duration": 12,
    "start_time": "2022-01-18T11:27:58.069Z"
   },
   {
    "duration": 20,
    "start_time": "2022-01-18T11:27:58.083Z"
   },
   {
    "duration": 12,
    "start_time": "2022-01-18T11:27:58.106Z"
   },
   {
    "duration": 18,
    "start_time": "2022-01-18T11:27:58.121Z"
   },
   {
    "duration": 9,
    "start_time": "2022-01-18T11:27:58.169Z"
   },
   {
    "duration": 12,
    "start_time": "2022-01-18T11:27:58.180Z"
   },
   {
    "duration": 378,
    "start_time": "2022-01-18T11:27:58.195Z"
   },
   {
    "duration": 43,
    "start_time": "2022-01-18T11:27:58.576Z"
   },
   {
    "duration": 16,
    "start_time": "2022-01-18T11:27:58.622Z"
   },
   {
    "duration": 4,
    "start_time": "2022-01-18T11:27:58.640Z"
   },
   {
    "duration": 8,
    "start_time": "2022-01-18T11:27:58.670Z"
   },
   {
    "duration": 5,
    "start_time": "2022-01-18T11:27:58.681Z"
   },
   {
    "duration": 35,
    "start_time": "2022-01-18T11:27:58.688Z"
   },
   {
    "duration": 407,
    "start_time": "2022-01-18T11:27:58.726Z"
   },
   {
    "duration": 9,
    "start_time": "2022-01-18T11:27:59.136Z"
   },
   {
    "duration": 22,
    "start_time": "2022-01-18T11:27:59.147Z"
   },
   {
    "duration": 26,
    "start_time": "2022-01-18T11:27:59.172Z"
   },
   {
    "duration": 14,
    "start_time": "2022-01-18T11:27:59.200Z"
   },
   {
    "duration": 655,
    "start_time": "2022-01-18T11:27:59.216Z"
   },
   {
    "duration": 165,
    "start_time": "2022-01-18T11:27:59.873Z"
   },
   {
    "duration": 41,
    "start_time": "2022-01-18T11:28:00.045Z"
   },
   {
    "duration": 13,
    "start_time": "2022-01-18T11:28:00.089Z"
   },
   {
    "duration": 3,
    "start_time": "2022-01-18T11:28:00.104Z"
   },
   {
    "duration": 21,
    "start_time": "2022-01-18T11:28:00.109Z"
   },
   {
    "duration": 12,
    "start_time": "2022-01-18T11:28:00.133Z"
   },
   {
    "duration": 32,
    "start_time": "2022-01-18T11:28:00.147Z"
   },
   {
    "duration": 12,
    "start_time": "2022-01-18T11:28:00.182Z"
   },
   {
    "duration": 436,
    "start_time": "2022-01-18T11:28:00.197Z"
   },
   {
    "duration": 204,
    "start_time": "2022-01-18T11:28:00.636Z"
   },
   {
    "duration": 29,
    "start_time": "2022-01-18T11:28:00.843Z"
   },
   {
    "duration": 467,
    "start_time": "2022-01-18T11:28:00.874Z"
   },
   {
    "duration": 38,
    "start_time": "2022-01-18T11:28:01.344Z"
   },
   {
    "duration": 15,
    "start_time": "2022-01-18T11:28:01.385Z"
   },
   {
    "duration": 49,
    "start_time": "2022-01-18T11:28:01.402Z"
   },
   {
    "duration": 27,
    "start_time": "2022-01-18T11:28:01.453Z"
   },
   {
    "duration": 14,
    "start_time": "2022-01-18T11:28:01.483Z"
   },
   {
    "duration": 23,
    "start_time": "2022-01-18T11:28:01.499Z"
   },
   {
    "duration": 489,
    "start_time": "2022-01-18T11:28:01.525Z"
   },
   {
    "duration": 12,
    "start_time": "2022-01-18T11:28:02.016Z"
   },
   {
    "duration": 169,
    "start_time": "2022-01-18T11:28:02.031Z"
   },
   {
    "duration": 151,
    "start_time": "2022-01-18T11:28:55.966Z"
   },
   {
    "duration": 120,
    "start_time": "2022-01-18T11:30:40.928Z"
   },
   {
    "duration": 852,
    "start_time": "2022-01-18T11:30:52.690Z"
   },
   {
    "duration": 107,
    "start_time": "2022-01-18T11:31:07.501Z"
   },
   {
    "duration": 949,
    "start_time": "2022-01-18T11:31:53.506Z"
   },
   {
    "duration": 3,
    "start_time": "2022-01-18T11:31:54.458Z"
   },
   {
    "duration": 746,
    "start_time": "2022-01-18T11:31:54.471Z"
   },
   {
    "duration": 77,
    "start_time": "2022-01-18T11:31:55.221Z"
   },
   {
    "duration": 104,
    "start_time": "2022-01-18T11:31:55.300Z"
   },
   {
    "duration": 9,
    "start_time": "2022-01-18T11:31:55.407Z"
   },
   {
    "duration": 51,
    "start_time": "2022-01-18T11:31:55.418Z"
   },
   {
    "duration": 1082,
    "start_time": "2022-01-18T11:31:55.473Z"
   },
   {
    "duration": 23,
    "start_time": "2022-01-18T11:31:56.559Z"
   },
   {
    "duration": 12,
    "start_time": "2022-01-18T11:31:56.585Z"
   },
   {
    "duration": 12,
    "start_time": "2022-01-18T11:31:56.599Z"
   },
   {
    "duration": 8,
    "start_time": "2022-01-18T11:31:56.613Z"
   },
   {
    "duration": 54,
    "start_time": "2022-01-18T11:31:56.623Z"
   },
   {
    "duration": 6,
    "start_time": "2022-01-18T11:31:56.680Z"
   },
   {
    "duration": 13,
    "start_time": "2022-01-18T11:31:56.688Z"
   },
   {
    "duration": 16,
    "start_time": "2022-01-18T11:31:56.703Z"
   },
   {
    "duration": 51,
    "start_time": "2022-01-18T11:31:56.721Z"
   },
   {
    "duration": 15,
    "start_time": "2022-01-18T11:31:56.774Z"
   },
   {
    "duration": 16,
    "start_time": "2022-01-18T11:31:56.791Z"
   },
   {
    "duration": 13,
    "start_time": "2022-01-18T11:31:56.809Z"
   },
   {
    "duration": 56,
    "start_time": "2022-01-18T11:31:56.825Z"
   },
   {
    "duration": 19,
    "start_time": "2022-01-18T11:31:56.885Z"
   },
   {
    "duration": 19,
    "start_time": "2022-01-18T11:31:56.907Z"
   },
   {
    "duration": 648,
    "start_time": "2022-01-18T11:31:56.929Z"
   },
   {
    "duration": 101,
    "start_time": "2022-01-18T11:31:57.581Z"
   },
   {
    "duration": 26,
    "start_time": "2022-01-18T11:31:57.686Z"
   },
   {
    "duration": 4,
    "start_time": "2022-01-18T11:31:57.724Z"
   },
   {
    "duration": 5,
    "start_time": "2022-01-18T11:31:57.732Z"
   },
   {
    "duration": 4,
    "start_time": "2022-01-18T11:31:57.769Z"
   },
   {
    "duration": 25,
    "start_time": "2022-01-18T11:31:57.776Z"
   },
   {
    "duration": 430,
    "start_time": "2022-01-18T11:31:57.804Z"
   },
   {
    "duration": 9,
    "start_time": "2022-01-18T11:31:58.237Z"
   },
   {
    "duration": 21,
    "start_time": "2022-01-18T11:31:58.249Z"
   },
   {
    "duration": 21,
    "start_time": "2022-01-18T11:31:58.273Z"
   },
   {
    "duration": 12,
    "start_time": "2022-01-18T11:31:58.296Z"
   },
   {
    "duration": 824,
    "start_time": "2022-01-18T11:31:58.310Z"
   },
   {
    "duration": 184,
    "start_time": "2022-01-18T11:31:59.136Z"
   },
   {
    "duration": 26,
    "start_time": "2022-01-18T11:31:59.322Z"
   },
   {
    "duration": 31,
    "start_time": "2022-01-18T11:31:59.350Z"
   },
   {
    "duration": 7,
    "start_time": "2022-01-18T11:31:59.385Z"
   },
   {
    "duration": 10,
    "start_time": "2022-01-18T11:31:59.394Z"
   },
   {
    "duration": 8,
    "start_time": "2022-01-18T11:31:59.406Z"
   },
   {
    "duration": 19,
    "start_time": "2022-01-18T11:31:59.416Z"
   },
   {
    "duration": 35,
    "start_time": "2022-01-18T11:31:59.437Z"
   },
   {
    "duration": 467,
    "start_time": "2022-01-18T11:31:59.475Z"
   },
   {
    "duration": 204,
    "start_time": "2022-01-18T11:31:59.945Z"
   },
   {
    "duration": 33,
    "start_time": "2022-01-18T11:32:00.152Z"
   },
   {
    "duration": 435,
    "start_time": "2022-01-18T11:32:00.189Z"
   },
   {
    "duration": 49,
    "start_time": "2022-01-18T11:32:00.627Z"
   },
   {
    "duration": 16,
    "start_time": "2022-01-18T11:32:00.679Z"
   },
   {
    "duration": 13,
    "start_time": "2022-01-18T11:32:00.698Z"
   },
   {
    "duration": 18,
    "start_time": "2022-01-18T11:32:00.714Z"
   },
   {
    "duration": 19,
    "start_time": "2022-01-18T11:32:00.734Z"
   },
   {
    "duration": 43,
    "start_time": "2022-01-18T11:32:00.755Z"
   },
   {
    "duration": 585,
    "start_time": "2022-01-18T11:32:00.801Z"
   },
   {
    "duration": 15,
    "start_time": "2022-01-18T11:32:01.388Z"
   },
   {
    "duration": 191,
    "start_time": "2022-01-18T11:32:01.406Z"
   },
   {
    "duration": 255,
    "start_time": "2022-01-18T11:32:45.517Z"
   },
   {
    "duration": 653,
    "start_time": "2022-01-18T11:37:53.000Z"
   },
   {
    "duration": 247,
    "start_time": "2022-01-18T11:38:00.038Z"
   },
   {
    "duration": 240,
    "start_time": "2022-01-18T11:38:09.131Z"
   },
   {
    "duration": 366,
    "start_time": "2022-01-18T11:43:30.457Z"
   },
   {
    "duration": 271,
    "start_time": "2022-01-18T11:43:38.005Z"
   },
   {
    "duration": 343,
    "start_time": "2022-01-18T11:46:33.946Z"
   },
   {
    "duration": 117,
    "start_time": "2022-01-18T11:46:50.705Z"
   },
   {
    "duration": 121,
    "start_time": "2022-01-18T11:47:52.239Z"
   },
   {
    "duration": 348,
    "start_time": "2022-01-18T11:52:05.390Z"
   },
   {
    "duration": 119,
    "start_time": "2022-01-18T11:52:18.666Z"
   },
   {
    "duration": 123,
    "start_time": "2022-01-18T11:53:28.995Z"
   },
   {
    "duration": 127,
    "start_time": "2022-01-18T11:53:46.386Z"
   },
   {
    "duration": 21,
    "start_time": "2022-01-18T12:00:44.981Z"
   },
   {
    "duration": 317,
    "start_time": "2022-01-18T12:01:26.337Z"
   },
   {
    "duration": 22,
    "start_time": "2022-01-18T12:01:35.520Z"
   },
   {
    "duration": 1476,
    "start_time": "2022-01-18T12:03:21.281Z"
   },
   {
    "duration": 121,
    "start_time": "2022-01-18T12:03:34.930Z"
   },
   {
    "duration": 1570,
    "start_time": "2022-01-18T12:03:44.670Z"
   },
   {
    "duration": 239,
    "start_time": "2022-01-18T12:04:14.041Z"
   },
   {
    "duration": 22,
    "start_time": "2022-01-18T12:06:32.479Z"
   },
   {
    "duration": 33,
    "start_time": "2022-01-18T12:10:52.750Z"
   },
   {
    "duration": 354,
    "start_time": "2022-01-18T12:12:24.170Z"
   },
   {
    "duration": 31,
    "start_time": "2022-01-18T12:12:38.400Z"
   },
   {
    "duration": 31,
    "start_time": "2022-01-18T12:13:13.377Z"
   },
   {
    "duration": 191,
    "start_time": "2022-01-18T12:23:41.829Z"
   },
   {
    "duration": 93,
    "start_time": "2022-01-18T12:25:45.322Z"
   },
   {
    "duration": 108,
    "start_time": "2022-01-18T12:27:31.111Z"
   },
   {
    "duration": 117,
    "start_time": "2022-01-18T12:27:40.722Z"
   },
   {
    "duration": 127,
    "start_time": "2022-01-18T12:28:34.837Z"
   },
   {
    "duration": 163,
    "start_time": "2022-01-18T12:28:36.025Z"
   },
   {
    "duration": 9,
    "start_time": "2022-01-18T12:28:55.682Z"
   },
   {
    "duration": 95,
    "start_time": "2022-01-18T12:29:36.499Z"
   },
   {
    "duration": 8567,
    "start_time": "2022-01-18T12:31:25.996Z"
   },
   {
    "duration": 9300,
    "start_time": "2022-01-18T12:31:36.345Z"
   },
   {
    "duration": 9165,
    "start_time": "2022-01-18T12:32:49.662Z"
   },
   {
    "duration": 336,
    "start_time": "2022-01-18T12:33:34.590Z"
   },
   {
    "duration": 7,
    "start_time": "2022-01-18T12:34:13.926Z"
   },
   {
    "duration": 23,
    "start_time": "2022-01-18T12:35:57.576Z"
   },
   {
    "duration": 7,
    "start_time": "2022-01-18T12:36:08.170Z"
   },
   {
    "duration": 5,
    "start_time": "2022-01-18T12:36:42.083Z"
   },
   {
    "duration": 8,
    "start_time": "2022-01-18T12:36:44.499Z"
   },
   {
    "duration": 9,
    "start_time": "2022-01-18T12:37:00.277Z"
   },
   {
    "duration": 12,
    "start_time": "2022-01-18T12:45:01.232Z"
   },
   {
    "duration": 10,
    "start_time": "2022-01-18T12:49:30.698Z"
   },
   {
    "duration": 24,
    "start_time": "2022-01-18T12:52:06.948Z"
   },
   {
    "duration": 4,
    "start_time": "2022-01-18T12:52:31.611Z"
   },
   {
    "duration": 7,
    "start_time": "2022-01-18T12:52:33.329Z"
   },
   {
    "duration": 10,
    "start_time": "2022-01-18T12:52:34.780Z"
   },
   {
    "duration": 1381,
    "start_time": "2022-01-18T12:54:22.664Z"
   },
   {
    "duration": 1314,
    "start_time": "2022-01-18T12:54:47.838Z"
   },
   {
    "duration": 90,
    "start_time": "2022-01-18T12:55:38.389Z"
   },
   {
    "duration": 1387,
    "start_time": "2022-01-18T12:55:46.686Z"
   },
   {
    "duration": 378,
    "start_time": "2022-01-18T12:57:08.580Z"
   },
   {
    "duration": 28,
    "start_time": "2022-01-18T12:57:29.987Z"
   },
   {
    "duration": 1352,
    "start_time": "2022-01-18T12:57:55.776Z"
   },
   {
    "duration": 1391,
    "start_time": "2022-01-18T12:59:34.634Z"
   },
   {
    "duration": 96,
    "start_time": "2022-01-18T13:00:22.428Z"
   },
   {
    "duration": 140,
    "start_time": "2022-01-18T13:00:59.058Z"
   },
   {
    "duration": 94,
    "start_time": "2022-01-18T13:01:08.838Z"
   },
   {
    "duration": 107,
    "start_time": "2022-01-18T13:01:57.334Z"
   },
   {
    "duration": 398,
    "start_time": "2022-01-18T13:02:04.953Z"
   },
   {
    "duration": 149,
    "start_time": "2022-01-18T13:02:11.050Z"
   },
   {
    "duration": 4,
    "start_time": "2022-01-18T13:03:13.558Z"
   },
   {
    "duration": 244,
    "start_time": "2022-01-18T13:03:28.782Z"
   },
   {
    "duration": 26,
    "start_time": "2022-01-18T13:03:40.229Z"
   },
   {
    "duration": 3,
    "start_time": "2022-01-18T13:03:40.257Z"
   },
   {
    "duration": 568,
    "start_time": "2022-01-18T13:03:40.263Z"
   },
   {
    "duration": 44,
    "start_time": "2022-01-18T13:03:40.834Z"
   },
   {
    "duration": 108,
    "start_time": "2022-01-18T13:03:40.881Z"
   },
   {
    "duration": 12,
    "start_time": "2022-01-18T13:03:40.991Z"
   },
   {
    "duration": 22,
    "start_time": "2022-01-18T13:03:41.009Z"
   },
   {
    "duration": 1127,
    "start_time": "2022-01-18T13:03:41.071Z"
   },
   {
    "duration": 17,
    "start_time": "2022-01-18T13:03:42.202Z"
   },
   {
    "duration": 10,
    "start_time": "2022-01-18T13:03:42.221Z"
   },
   {
    "duration": 38,
    "start_time": "2022-01-18T13:03:42.233Z"
   },
   {
    "duration": 7,
    "start_time": "2022-01-18T13:03:42.273Z"
   },
   {
    "duration": 15,
    "start_time": "2022-01-18T13:03:42.283Z"
   },
   {
    "duration": 11,
    "start_time": "2022-01-18T13:03:42.300Z"
   },
   {
    "duration": 14,
    "start_time": "2022-01-18T13:03:42.314Z"
   },
   {
    "duration": 43,
    "start_time": "2022-01-18T13:03:42.331Z"
   },
   {
    "duration": 15,
    "start_time": "2022-01-18T13:03:42.377Z"
   },
   {
    "duration": 12,
    "start_time": "2022-01-18T13:03:42.398Z"
   },
   {
    "duration": 15,
    "start_time": "2022-01-18T13:03:42.414Z"
   },
   {
    "duration": 42,
    "start_time": "2022-01-18T13:03:42.431Z"
   },
   {
    "duration": 9,
    "start_time": "2022-01-18T13:03:42.475Z"
   },
   {
    "duration": 9,
    "start_time": "2022-01-18T13:03:42.487Z"
   },
   {
    "duration": 14,
    "start_time": "2022-01-18T13:03:42.499Z"
   },
   {
    "duration": 362,
    "start_time": "2022-01-18T13:03:42.516Z"
   },
   {
    "duration": 42,
    "start_time": "2022-01-18T13:03:42.881Z"
   },
   {
    "duration": 17,
    "start_time": "2022-01-18T13:03:42.926Z"
   },
   {
    "duration": 25,
    "start_time": "2022-01-18T13:03:42.945Z"
   },
   {
    "duration": 9,
    "start_time": "2022-01-18T13:03:42.973Z"
   },
   {
    "duration": 16,
    "start_time": "2022-01-18T13:03:42.984Z"
   },
   {
    "duration": 44,
    "start_time": "2022-01-18T13:03:43.003Z"
   },
   {
    "duration": 498,
    "start_time": "2022-01-18T13:03:43.050Z"
   },
   {
    "duration": 21,
    "start_time": "2022-01-18T13:03:43.551Z"
   },
   {
    "duration": 6,
    "start_time": "2022-01-18T13:03:43.574Z"
   },
   {
    "duration": 17,
    "start_time": "2022-01-18T13:03:43.582Z"
   },
   {
    "duration": 11,
    "start_time": "2022-01-18T13:03:43.602Z"
   },
   {
    "duration": 674,
    "start_time": "2022-01-18T13:03:43.615Z"
   },
   {
    "duration": 146,
    "start_time": "2022-01-18T13:03:44.292Z"
   },
   {
    "duration": 37,
    "start_time": "2022-01-18T13:03:44.441Z"
   },
   {
    "duration": 12,
    "start_time": "2022-01-18T13:03:44.481Z"
   },
   {
    "duration": 3,
    "start_time": "2022-01-18T13:03:44.496Z"
   },
   {
    "duration": 8,
    "start_time": "2022-01-18T13:03:44.501Z"
   },
   {
    "duration": 7,
    "start_time": "2022-01-18T13:03:44.511Z"
   },
   {
    "duration": 14,
    "start_time": "2022-01-18T13:03:44.520Z"
   },
   {
    "duration": 38,
    "start_time": "2022-01-18T13:03:44.536Z"
   },
   {
    "duration": 437,
    "start_time": "2022-01-18T13:03:44.576Z"
   },
   {
    "duration": 174,
    "start_time": "2022-01-18T13:03:45.015Z"
   },
   {
    "duration": 16,
    "start_time": "2022-01-18T13:03:45.192Z"
   },
   {
    "duration": 405,
    "start_time": "2022-01-18T13:03:45.210Z"
   },
   {
    "duration": 30,
    "start_time": "2022-01-18T13:03:45.617Z"
   },
   {
    "duration": 29,
    "start_time": "2022-01-18T13:03:45.650Z"
   },
   {
    "duration": 3,
    "start_time": "2022-01-18T13:03:45.685Z"
   },
   {
    "duration": 7,
    "start_time": "2022-01-18T13:03:45.690Z"
   },
   {
    "duration": 7,
    "start_time": "2022-01-18T13:03:45.699Z"
   },
   {
    "duration": 15,
    "start_time": "2022-01-18T13:03:45.709Z"
   },
   {
    "duration": 552,
    "start_time": "2022-01-18T13:03:45.727Z"
   },
   {
    "duration": 13,
    "start_time": "2022-01-18T13:03:46.281Z"
   },
   {
    "duration": 4,
    "start_time": "2022-01-18T13:03:49.187Z"
   },
   {
    "duration": 266,
    "start_time": "2022-01-18T13:03:50.071Z"
   },
   {
    "duration": 238,
    "start_time": "2022-01-18T13:04:15.454Z"
   },
   {
    "duration": 28,
    "start_time": "2022-01-18T13:04:22.303Z"
   },
   {
    "duration": 4,
    "start_time": "2022-01-18T13:04:22.333Z"
   },
   {
    "duration": 545,
    "start_time": "2022-01-18T13:04:22.339Z"
   },
   {
    "duration": 41,
    "start_time": "2022-01-18T13:04:22.887Z"
   },
   {
    "duration": 94,
    "start_time": "2022-01-18T13:04:22.931Z"
   },
   {
    "duration": 8,
    "start_time": "2022-01-18T13:04:23.028Z"
   },
   {
    "duration": 42,
    "start_time": "2022-01-18T13:04:23.039Z"
   },
   {
    "duration": 1106,
    "start_time": "2022-01-18T13:04:23.084Z"
   },
   {
    "duration": 13,
    "start_time": "2022-01-18T13:04:24.193Z"
   },
   {
    "duration": 10,
    "start_time": "2022-01-18T13:04:24.209Z"
   },
   {
    "duration": 13,
    "start_time": "2022-01-18T13:04:24.221Z"
   },
   {
    "duration": 37,
    "start_time": "2022-01-18T13:04:24.237Z"
   },
   {
    "duration": 14,
    "start_time": "2022-01-18T13:04:24.277Z"
   },
   {
    "duration": 6,
    "start_time": "2022-01-18T13:04:24.298Z"
   },
   {
    "duration": 7,
    "start_time": "2022-01-18T13:04:24.307Z"
   },
   {
    "duration": 57,
    "start_time": "2022-01-18T13:04:24.316Z"
   },
   {
    "duration": 9,
    "start_time": "2022-01-18T13:04:24.376Z"
   },
   {
    "duration": 11,
    "start_time": "2022-01-18T13:04:24.388Z"
   },
   {
    "duration": 15,
    "start_time": "2022-01-18T13:04:24.401Z"
   },
   {
    "duration": 59,
    "start_time": "2022-01-18T13:04:24.419Z"
   },
   {
    "duration": 11,
    "start_time": "2022-01-18T13:04:24.480Z"
   },
   {
    "duration": 11,
    "start_time": "2022-01-18T13:04:24.493Z"
   },
   {
    "duration": 13,
    "start_time": "2022-01-18T13:04:24.506Z"
   },
   {
    "duration": 355,
    "start_time": "2022-01-18T13:04:24.521Z"
   },
   {
    "duration": 44,
    "start_time": "2022-01-18T13:04:24.879Z"
   },
   {
    "duration": 20,
    "start_time": "2022-01-18T13:04:24.926Z"
   },
   {
    "duration": 3,
    "start_time": "2022-01-18T13:04:24.948Z"
   },
   {
    "duration": 18,
    "start_time": "2022-01-18T13:04:24.953Z"
   },
   {
    "duration": 12,
    "start_time": "2022-01-18T13:04:24.973Z"
   },
   {
    "duration": 27,
    "start_time": "2022-01-18T13:04:24.988Z"
   },
   {
    "duration": 408,
    "start_time": "2022-01-18T13:04:25.017Z"
   },
   {
    "duration": 9,
    "start_time": "2022-01-18T13:04:25.428Z"
   },
   {
    "duration": 6,
    "start_time": "2022-01-18T13:04:25.439Z"
   },
   {
    "duration": 24,
    "start_time": "2022-01-18T13:04:25.447Z"
   },
   {
    "duration": 11,
    "start_time": "2022-01-18T13:04:25.473Z"
   },
   {
    "duration": 1194,
    "start_time": "2022-01-18T13:04:25.487Z"
   },
   {
    "duration": 188,
    "start_time": "2022-01-18T13:04:26.684Z"
   },
   {
    "duration": 25,
    "start_time": "2022-01-18T13:04:26.878Z"
   },
   {
    "duration": 14,
    "start_time": "2022-01-18T13:04:26.906Z"
   },
   {
    "duration": 4,
    "start_time": "2022-01-18T13:04:26.922Z"
   },
   {
    "duration": 41,
    "start_time": "2022-01-18T13:04:26.928Z"
   },
   {
    "duration": 4,
    "start_time": "2022-01-18T13:04:26.972Z"
   },
   {
    "duration": 18,
    "start_time": "2022-01-18T13:04:26.978Z"
   },
   {
    "duration": 9,
    "start_time": "2022-01-18T13:04:26.998Z"
   },
   {
    "duration": 443,
    "start_time": "2022-01-18T13:04:27.010Z"
   },
   {
    "duration": 182,
    "start_time": "2022-01-18T13:04:27.455Z"
   },
   {
    "duration": 31,
    "start_time": "2022-01-18T13:04:27.639Z"
   },
   {
    "duration": 401,
    "start_time": "2022-01-18T13:04:27.673Z"
   },
   {
    "duration": 30,
    "start_time": "2022-01-18T13:04:28.077Z"
   },
   {
    "duration": 17,
    "start_time": "2022-01-18T13:04:28.109Z"
   },
   {
    "duration": 4,
    "start_time": "2022-01-18T13:04:28.128Z"
   },
   {
    "duration": 44,
    "start_time": "2022-01-18T13:04:28.135Z"
   },
   {
    "duration": 8,
    "start_time": "2022-01-18T13:04:28.182Z"
   },
   {
    "duration": 20,
    "start_time": "2022-01-18T13:04:28.192Z"
   },
   {
    "duration": 525,
    "start_time": "2022-01-18T13:04:28.214Z"
   },
   {
    "duration": 27,
    "start_time": "2022-01-18T13:04:28.742Z"
   },
   {
    "duration": 4,
    "start_time": "2022-01-18T13:04:28.771Z"
   },
   {
    "duration": 289,
    "start_time": "2022-01-18T13:04:28.777Z"
   },
   {
    "duration": 1618,
    "start_time": "2022-01-18T13:04:57.837Z"
   },
   {
    "duration": 1650,
    "start_time": "2022-01-18T13:06:03.567Z"
   },
   {
    "duration": 246,
    "start_time": "2022-01-18T13:06:26.284Z"
   },
   {
    "duration": 146,
    "start_time": "2022-01-18T13:07:40.516Z"
   },
   {
    "duration": 325,
    "start_time": "2022-01-18T13:08:54.816Z"
   },
   {
    "duration": 104,
    "start_time": "2022-01-18T13:09:27.274Z"
   },
   {
    "duration": 156,
    "start_time": "2022-01-18T13:10:42.043Z"
   },
   {
    "duration": 152,
    "start_time": "2022-01-18T13:11:19.268Z"
   },
   {
    "duration": 5,
    "start_time": "2022-01-18T13:12:30.977Z"
   },
   {
    "duration": 344,
    "start_time": "2022-01-18T13:12:36.782Z"
   },
   {
    "duration": 5,
    "start_time": "2022-01-18T13:12:59.914Z"
   },
   {
    "duration": 104,
    "start_time": "2022-01-18T13:13:00.526Z"
   },
   {
    "duration": 7,
    "start_time": "2022-01-18T13:13:50.447Z"
   },
   {
    "duration": 58,
    "start_time": "2022-01-18T13:14:10.396Z"
   },
   {
    "duration": 4,
    "start_time": "2022-01-18T13:15:04.122Z"
   },
   {
    "duration": 318,
    "start_time": "2022-01-18T13:15:16.210Z"
   },
   {
    "duration": 26,
    "start_time": "2022-01-18T13:15:29.456Z"
   },
   {
    "duration": 4,
    "start_time": "2022-01-18T13:15:29.485Z"
   },
   {
    "duration": 561,
    "start_time": "2022-01-18T13:15:29.491Z"
   },
   {
    "duration": 54,
    "start_time": "2022-01-18T13:15:30.055Z"
   },
   {
    "duration": 110,
    "start_time": "2022-01-18T13:15:30.112Z"
   },
   {
    "duration": 44,
    "start_time": "2022-01-18T13:15:30.226Z"
   },
   {
    "duration": 14,
    "start_time": "2022-01-18T13:15:30.273Z"
   },
   {
    "duration": 1598,
    "start_time": "2022-01-18T13:15:30.289Z"
   },
   {
    "duration": 14,
    "start_time": "2022-01-18T13:15:31.890Z"
   },
   {
    "duration": 15,
    "start_time": "2022-01-18T13:15:31.906Z"
   },
   {
    "duration": 16,
    "start_time": "2022-01-18T13:15:31.923Z"
   },
   {
    "duration": 28,
    "start_time": "2022-01-18T13:15:31.942Z"
   },
   {
    "duration": 14,
    "start_time": "2022-01-18T13:15:31.973Z"
   },
   {
    "duration": 8,
    "start_time": "2022-01-18T13:15:31.992Z"
   },
   {
    "duration": 7,
    "start_time": "2022-01-18T13:15:32.003Z"
   },
   {
    "duration": 13,
    "start_time": "2022-01-18T13:15:32.013Z"
   },
   {
    "duration": 48,
    "start_time": "2022-01-18T13:15:32.028Z"
   },
   {
    "duration": 10,
    "start_time": "2022-01-18T13:15:32.079Z"
   },
   {
    "duration": 17,
    "start_time": "2022-01-18T13:15:32.091Z"
   },
   {
    "duration": 12,
    "start_time": "2022-01-18T13:15:32.110Z"
   },
   {
    "duration": 53,
    "start_time": "2022-01-18T13:15:32.125Z"
   },
   {
    "duration": 8,
    "start_time": "2022-01-18T13:15:32.181Z"
   },
   {
    "duration": 16,
    "start_time": "2022-01-18T13:15:32.192Z"
   },
   {
    "duration": 349,
    "start_time": "2022-01-18T13:15:32.211Z"
   },
   {
    "duration": 39,
    "start_time": "2022-01-18T13:15:32.570Z"
   },
   {
    "duration": 16,
    "start_time": "2022-01-18T13:15:32.611Z"
   },
   {
    "duration": 4,
    "start_time": "2022-01-18T13:15:32.629Z"
   },
   {
    "duration": 34,
    "start_time": "2022-01-18T13:15:32.635Z"
   },
   {
    "duration": 5,
    "start_time": "2022-01-18T13:15:32.672Z"
   },
   {
    "duration": 22,
    "start_time": "2022-01-18T13:15:32.679Z"
   },
   {
    "duration": 418,
    "start_time": "2022-01-18T13:15:32.704Z"
   },
   {
    "duration": 10,
    "start_time": "2022-01-18T13:15:33.124Z"
   },
   {
    "duration": 6,
    "start_time": "2022-01-18T13:15:33.137Z"
   },
   {
    "duration": 36,
    "start_time": "2022-01-18T13:15:33.145Z"
   },
   {
    "duration": 10,
    "start_time": "2022-01-18T13:15:33.183Z"
   },
   {
    "duration": 656,
    "start_time": "2022-01-18T13:15:33.195Z"
   },
   {
    "duration": 150,
    "start_time": "2022-01-18T13:15:33.853Z"
   },
   {
    "duration": 25,
    "start_time": "2022-01-18T13:15:34.009Z"
   },
   {
    "duration": 33,
    "start_time": "2022-01-18T13:15:34.037Z"
   },
   {
    "duration": 3,
    "start_time": "2022-01-18T13:15:34.073Z"
   },
   {
    "duration": 6,
    "start_time": "2022-01-18T13:15:34.078Z"
   },
   {
    "duration": 21,
    "start_time": "2022-01-18T13:15:34.086Z"
   },
   {
    "duration": 15,
    "start_time": "2022-01-18T13:15:34.109Z"
   },
   {
    "duration": 11,
    "start_time": "2022-01-18T13:15:34.126Z"
   },
   {
    "duration": 445,
    "start_time": "2022-01-18T13:15:34.139Z"
   },
   {
    "duration": 184,
    "start_time": "2022-01-18T13:15:34.586Z"
   },
   {
    "duration": 17,
    "start_time": "2022-01-18T13:15:34.773Z"
   },
   {
    "duration": 638,
    "start_time": "2022-01-18T13:15:34.792Z"
   },
   {
    "duration": 56,
    "start_time": "2022-01-18T13:15:35.433Z"
   },
   {
    "duration": 20,
    "start_time": "2022-01-18T13:15:35.493Z"
   },
   {
    "duration": 9,
    "start_time": "2022-01-18T13:15:35.516Z"
   },
   {
    "duration": 17,
    "start_time": "2022-01-18T13:15:35.527Z"
   },
   {
    "duration": 15,
    "start_time": "2022-01-18T13:15:35.569Z"
   },
   {
    "duration": 62,
    "start_time": "2022-01-18T13:15:35.587Z"
   },
   {
    "duration": 728,
    "start_time": "2022-01-18T13:15:35.653Z"
   },
   {
    "duration": 11,
    "start_time": "2022-01-18T13:15:36.384Z"
   },
   {
    "duration": 3,
    "start_time": "2022-01-18T13:15:36.398Z"
   },
   {
    "duration": 4,
    "start_time": "2022-01-18T13:15:44.801Z"
   },
   {
    "duration": 163,
    "start_time": "2022-01-18T13:15:45.601Z"
   },
   {
    "duration": 6,
    "start_time": "2022-01-18T13:16:39.891Z"
   },
   {
    "duration": 3,
    "start_time": "2022-01-18T13:16:43.795Z"
   },
   {
    "duration": 13,
    "start_time": "2022-01-18T13:16:47.106Z"
   },
   {
    "duration": 328,
    "start_time": "2022-01-18T13:18:12.221Z"
   },
   {
    "duration": 14,
    "start_time": "2022-01-18T13:18:12.982Z"
   },
   {
    "duration": 120,
    "start_time": "2022-01-18T13:18:26.591Z"
   },
   {
    "duration": 32,
    "start_time": "2022-01-18T13:18:27.405Z"
   },
   {
    "duration": 31,
    "start_time": "2022-01-18T13:18:36.962Z"
   },
   {
    "duration": 12,
    "start_time": "2022-01-18T13:18:37.901Z"
   },
   {
    "duration": 330,
    "start_time": "2022-01-18T13:19:08.323Z"
   },
   {
    "duration": 343,
    "start_time": "2022-01-18T13:19:18.870Z"
   },
   {
    "duration": 313,
    "start_time": "2022-01-18T13:19:31.106Z"
   },
   {
    "duration": 351,
    "start_time": "2022-01-18T13:19:40.698Z"
   },
   {
    "duration": 32,
    "start_time": "2022-01-18T13:19:52.400Z"
   },
   {
    "duration": 11,
    "start_time": "2022-01-18T13:19:53.446Z"
   },
   {
    "duration": 438,
    "start_time": "2022-01-18T13:20:11.081Z"
   },
   {
    "duration": 31,
    "start_time": "2022-01-18T13:20:16.341Z"
   },
   {
    "duration": 5,
    "start_time": "2022-01-18T13:28:55.590Z"
   },
   {
    "duration": 13,
    "start_time": "2022-01-18T13:28:56.392Z"
   },
   {
    "duration": 7,
    "start_time": "2022-01-18T13:29:57.038Z"
   },
   {
    "duration": 14,
    "start_time": "2022-01-18T13:29:57.775Z"
   },
   {
    "duration": 7,
    "start_time": "2022-01-18T13:30:10.121Z"
   },
   {
    "duration": 13,
    "start_time": "2022-01-18T13:30:11.081Z"
   },
   {
    "duration": 33,
    "start_time": "2022-01-18T13:30:25.217Z"
   },
   {
    "duration": 12,
    "start_time": "2022-01-18T13:30:25.749Z"
   },
   {
    "duration": 79,
    "start_time": "2022-01-18T13:31:34.480Z"
   },
   {
    "duration": 96,
    "start_time": "2022-01-18T13:32:09.039Z"
   },
   {
    "duration": 346,
    "start_time": "2022-01-18T13:32:16.916Z"
   },
   {
    "duration": 26,
    "start_time": "2022-01-18T13:32:45.132Z"
   },
   {
    "duration": 4,
    "start_time": "2022-01-18T13:32:45.160Z"
   },
   {
    "duration": 582,
    "start_time": "2022-01-18T13:32:45.168Z"
   },
   {
    "duration": 49,
    "start_time": "2022-01-18T13:32:45.754Z"
   },
   {
    "duration": 112,
    "start_time": "2022-01-18T13:32:45.807Z"
   },
   {
    "duration": 11,
    "start_time": "2022-01-18T13:32:45.922Z"
   },
   {
    "duration": 55,
    "start_time": "2022-01-18T13:32:45.936Z"
   },
   {
    "duration": 1184,
    "start_time": "2022-01-18T13:32:45.994Z"
   },
   {
    "duration": 14,
    "start_time": "2022-01-18T13:32:47.181Z"
   },
   {
    "duration": 12,
    "start_time": "2022-01-18T13:32:47.200Z"
   },
   {
    "duration": 11,
    "start_time": "2022-01-18T13:32:47.215Z"
   },
   {
    "duration": 42,
    "start_time": "2022-01-18T13:32:47.229Z"
   },
   {
    "duration": 17,
    "start_time": "2022-01-18T13:32:47.273Z"
   },
   {
    "duration": 12,
    "start_time": "2022-01-18T13:32:47.293Z"
   },
   {
    "duration": 14,
    "start_time": "2022-01-18T13:32:47.307Z"
   },
   {
    "duration": 20,
    "start_time": "2022-01-18T13:32:47.324Z"
   },
   {
    "duration": 32,
    "start_time": "2022-01-18T13:32:47.347Z"
   },
   {
    "duration": 18,
    "start_time": "2022-01-18T13:32:47.381Z"
   },
   {
    "duration": 26,
    "start_time": "2022-01-18T13:32:47.402Z"
   },
   {
    "duration": 14,
    "start_time": "2022-01-18T13:32:47.430Z"
   },
   {
    "duration": 12,
    "start_time": "2022-01-18T13:32:47.470Z"
   },
   {
    "duration": 14,
    "start_time": "2022-01-18T13:32:47.485Z"
   },
   {
    "duration": 14,
    "start_time": "2022-01-18T13:32:47.503Z"
   },
   {
    "duration": 392,
    "start_time": "2022-01-18T13:32:47.520Z"
   },
   {
    "duration": 60,
    "start_time": "2022-01-18T13:32:47.917Z"
   },
   {
    "duration": 17,
    "start_time": "2022-01-18T13:32:47.981Z"
   },
   {
    "duration": 38,
    "start_time": "2022-01-18T13:32:48.002Z"
   },
   {
    "duration": 35,
    "start_time": "2022-01-18T13:32:48.044Z"
   },
   {
    "duration": 22,
    "start_time": "2022-01-18T13:32:48.081Z"
   },
   {
    "duration": 424,
    "start_time": "2022-01-18T13:32:48.106Z"
   },
   {
    "duration": 10,
    "start_time": "2022-01-18T13:32:48.533Z"
   },
   {
    "duration": 25,
    "start_time": "2022-01-18T13:32:48.545Z"
   },
   {
    "duration": 19,
    "start_time": "2022-01-18T13:32:48.573Z"
   },
   {
    "duration": 12,
    "start_time": "2022-01-18T13:32:48.594Z"
   },
   {
    "duration": 672,
    "start_time": "2022-01-18T13:32:48.608Z"
   },
   {
    "duration": 146,
    "start_time": "2022-01-18T13:32:49.282Z"
   },
   {
    "duration": 42,
    "start_time": "2022-01-18T13:32:49.431Z"
   },
   {
    "duration": 13,
    "start_time": "2022-01-18T13:32:49.476Z"
   },
   {
    "duration": 116,
    "start_time": "2022-01-18T13:32:49.491Z"
   },
   {
    "duration": -2649,
    "start_time": "2022-01-18T13:32:52.258Z"
   },
   {
    "duration": -2662,
    "start_time": "2022-01-18T13:32:52.272Z"
   },
   {
    "duration": -2673,
    "start_time": "2022-01-18T13:32:52.284Z"
   },
   {
    "duration": -2685,
    "start_time": "2022-01-18T13:32:52.298Z"
   },
   {
    "duration": -2698,
    "start_time": "2022-01-18T13:32:52.312Z"
   },
   {
    "duration": -2772,
    "start_time": "2022-01-18T13:32:52.387Z"
   },
   {
    "duration": -2794,
    "start_time": "2022-01-18T13:32:52.411Z"
   },
   {
    "duration": -2819,
    "start_time": "2022-01-18T13:32:52.437Z"
   },
   {
    "duration": -2827,
    "start_time": "2022-01-18T13:32:52.446Z"
   },
   {
    "duration": -2835,
    "start_time": "2022-01-18T13:32:52.456Z"
   },
   {
    "duration": -2847,
    "start_time": "2022-01-18T13:32:52.470Z"
   },
   {
    "duration": -2861,
    "start_time": "2022-01-18T13:32:52.485Z"
   },
   {
    "duration": -2873,
    "start_time": "2022-01-18T13:32:52.499Z"
   },
   {
    "duration": -2888,
    "start_time": "2022-01-18T13:32:52.515Z"
   },
   {
    "duration": -2904,
    "start_time": "2022-01-18T13:32:52.532Z"
   },
   {
    "duration": -2931,
    "start_time": "2022-01-18T13:32:52.561Z"
   },
   {
    "duration": -2944,
    "start_time": "2022-01-18T13:32:52.575Z"
   },
   {
    "duration": 27,
    "start_time": "2022-01-18T13:33:18.327Z"
   },
   {
    "duration": 4,
    "start_time": "2022-01-18T13:33:18.357Z"
   },
   {
    "duration": 624,
    "start_time": "2022-01-18T13:33:18.365Z"
   },
   {
    "duration": 48,
    "start_time": "2022-01-18T13:33:18.992Z"
   },
   {
    "duration": 95,
    "start_time": "2022-01-18T13:33:19.043Z"
   },
   {
    "duration": 36,
    "start_time": "2022-01-18T13:33:19.140Z"
   },
   {
    "duration": 135,
    "start_time": "2022-01-18T13:33:19.180Z"
   },
   {
    "duration": 1136,
    "start_time": "2022-01-18T13:33:19.318Z"
   },
   {
    "duration": 23,
    "start_time": "2022-01-18T13:33:20.457Z"
   },
   {
    "duration": 16,
    "start_time": "2022-01-18T13:33:20.482Z"
   },
   {
    "duration": 19,
    "start_time": "2022-01-18T13:33:20.500Z"
   },
   {
    "duration": 13,
    "start_time": "2022-01-18T13:33:20.521Z"
   },
   {
    "duration": 39,
    "start_time": "2022-01-18T13:33:20.536Z"
   },
   {
    "duration": 7,
    "start_time": "2022-01-18T13:33:20.577Z"
   },
   {
    "duration": 8,
    "start_time": "2022-01-18T13:33:20.587Z"
   },
   {
    "duration": 18,
    "start_time": "2022-01-18T13:33:20.598Z"
   },
   {
    "duration": 20,
    "start_time": "2022-01-18T13:33:20.619Z"
   },
   {
    "duration": 11,
    "start_time": "2022-01-18T13:33:20.669Z"
   },
   {
    "duration": 17,
    "start_time": "2022-01-18T13:33:20.684Z"
   },
   {
    "duration": 17,
    "start_time": "2022-01-18T13:33:20.703Z"
   },
   {
    "duration": 46,
    "start_time": "2022-01-18T13:33:20.723Z"
   },
   {
    "duration": 10,
    "start_time": "2022-01-18T13:33:20.772Z"
   },
   {
    "duration": 12,
    "start_time": "2022-01-18T13:33:20.785Z"
   },
   {
    "duration": 392,
    "start_time": "2022-01-18T13:33:20.799Z"
   },
   {
    "duration": 40,
    "start_time": "2022-01-18T13:33:21.194Z"
   },
   {
    "duration": 36,
    "start_time": "2022-01-18T13:33:21.237Z"
   },
   {
    "duration": 31,
    "start_time": "2022-01-18T13:33:21.276Z"
   },
   {
    "duration": 13,
    "start_time": "2022-01-18T13:33:21.310Z"
   },
   {
    "duration": 50,
    "start_time": "2022-01-18T13:33:21.326Z"
   },
   {
    "duration": 539,
    "start_time": "2022-01-18T13:33:21.378Z"
   },
   {
    "duration": 9,
    "start_time": "2022-01-18T13:33:21.919Z"
   },
   {
    "duration": 5,
    "start_time": "2022-01-18T13:33:21.930Z"
   },
   {
    "duration": 42,
    "start_time": "2022-01-18T13:33:21.938Z"
   },
   {
    "duration": 11,
    "start_time": "2022-01-18T13:33:21.982Z"
   },
   {
    "duration": 750,
    "start_time": "2022-01-18T13:33:21.996Z"
   },
   {
    "duration": 141,
    "start_time": "2022-01-18T13:33:22.748Z"
   },
   {
    "duration": 25,
    "start_time": "2022-01-18T13:33:22.892Z"
   },
   {
    "duration": 14,
    "start_time": "2022-01-18T13:33:22.919Z"
   },
   {
    "duration": 45,
    "start_time": "2022-01-18T13:33:22.936Z"
   },
   {
    "duration": 12,
    "start_time": "2022-01-18T13:33:22.984Z"
   },
   {
    "duration": 13,
    "start_time": "2022-01-18T13:33:22.998Z"
   },
   {
    "duration": 10,
    "start_time": "2022-01-18T13:33:23.014Z"
   },
   {
    "duration": 447,
    "start_time": "2022-01-18T13:33:23.027Z"
   },
   {
    "duration": 281,
    "start_time": "2022-01-18T13:33:23.478Z"
   },
   {
    "duration": 29,
    "start_time": "2022-01-18T13:33:23.762Z"
   },
   {
    "duration": 654,
    "start_time": "2022-01-18T13:33:23.794Z"
   },
   {
    "duration": 45,
    "start_time": "2022-01-18T13:33:24.450Z"
   },
   {
    "duration": 16,
    "start_time": "2022-01-18T13:33:24.498Z"
   },
   {
    "duration": 24,
    "start_time": "2022-01-18T13:33:24.516Z"
   },
   {
    "duration": 39,
    "start_time": "2022-01-18T13:33:24.543Z"
   },
   {
    "duration": 13,
    "start_time": "2022-01-18T13:33:24.588Z"
   },
   {
    "duration": 539,
    "start_time": "2022-01-18T13:33:24.604Z"
   },
   {
    "duration": 25,
    "start_time": "2022-01-18T13:33:25.146Z"
   },
   {
    "duration": 4,
    "start_time": "2022-01-18T13:33:25.174Z"
   },
   {
    "duration": 107,
    "start_time": "2022-01-18T13:33:25.182Z"
   },
   {
    "duration": 4,
    "start_time": "2022-01-18T13:33:25.293Z"
   },
   {
    "duration": 3,
    "start_time": "2022-01-18T13:33:31.520Z"
   },
   {
    "duration": 47,
    "start_time": "2022-01-18T13:33:32.306Z"
   },
   {
    "duration": 62,
    "start_time": "2022-01-18T13:33:55.054Z"
   },
   {
    "duration": 367,
    "start_time": "2022-01-18T13:43:38.520Z"
   },
   {
    "duration": 25,
    "start_time": "2022-01-18T13:43:51.378Z"
   },
   {
    "duration": 4,
    "start_time": "2022-01-18T13:43:51.406Z"
   },
   {
    "duration": 569,
    "start_time": "2022-01-18T13:43:51.412Z"
   },
   {
    "duration": 44,
    "start_time": "2022-01-18T13:43:51.983Z"
   },
   {
    "duration": 104,
    "start_time": "2022-01-18T13:43:52.029Z"
   },
   {
    "duration": 41,
    "start_time": "2022-01-18T13:43:52.135Z"
   },
   {
    "duration": 18,
    "start_time": "2022-01-18T13:43:52.178Z"
   },
   {
    "duration": 1112,
    "start_time": "2022-01-18T13:43:52.198Z"
   },
   {
    "duration": 14,
    "start_time": "2022-01-18T13:43:53.313Z"
   },
   {
    "duration": 12,
    "start_time": "2022-01-18T13:43:53.331Z"
   },
   {
    "duration": 11,
    "start_time": "2022-01-18T13:43:53.370Z"
   },
   {
    "duration": 9,
    "start_time": "2022-01-18T13:43:53.384Z"
   },
   {
    "duration": 17,
    "start_time": "2022-01-18T13:43:53.396Z"
   },
   {
    "duration": 54,
    "start_time": "2022-01-18T13:43:53.416Z"
   },
   {
    "duration": 7,
    "start_time": "2022-01-18T13:43:53.473Z"
   },
   {
    "duration": 17,
    "start_time": "2022-01-18T13:43:53.482Z"
   },
   {
    "duration": 8,
    "start_time": "2022-01-18T13:43:53.502Z"
   },
   {
    "duration": 61,
    "start_time": "2022-01-18T13:43:53.512Z"
   },
   {
    "duration": 19,
    "start_time": "2022-01-18T13:43:53.576Z"
   },
   {
    "duration": 14,
    "start_time": "2022-01-18T13:43:53.597Z"
   },
   {
    "duration": 11,
    "start_time": "2022-01-18T13:43:53.613Z"
   },
   {
    "duration": 51,
    "start_time": "2022-01-18T13:43:53.627Z"
   },
   {
    "duration": 15,
    "start_time": "2022-01-18T13:43:53.682Z"
   },
   {
    "duration": 389,
    "start_time": "2022-01-18T13:43:53.700Z"
   },
   {
    "duration": 44,
    "start_time": "2022-01-18T13:43:54.095Z"
   },
   {
    "duration": 43,
    "start_time": "2022-01-18T13:43:54.142Z"
   },
   {
    "duration": 331,
    "start_time": "2022-01-18T13:43:56.252Z"
   },
   {
    "duration": 749,
    "start_time": "2022-01-18T13:44:39.186Z"
   },
   {
    "duration": 682,
    "start_time": "2022-01-18T13:44:53.898Z"
   },
   {
    "duration": 9,
    "start_time": "2022-01-18T13:46:25.197Z"
   },
   {
    "duration": 17,
    "start_time": "2022-01-18T13:46:26.196Z"
   },
   {
    "duration": 311,
    "start_time": "2022-01-18T13:46:33.712Z"
   },
   {
    "duration": 11,
    "start_time": "2022-01-18T13:47:17.507Z"
   },
   {
    "duration": 16,
    "start_time": "2022-01-18T13:47:18.485Z"
   },
   {
    "duration": 346,
    "start_time": "2022-01-18T13:47:26.003Z"
   },
   {
    "duration": 29,
    "start_time": "2022-01-18T13:48:27.058Z"
   },
   {
    "duration": 13,
    "start_time": "2022-01-18T13:48:31.274Z"
   },
   {
    "duration": 57,
    "start_time": "2022-01-18T13:50:09.079Z"
   },
   {
    "duration": 28,
    "start_time": "2022-01-18T13:50:13.635Z"
   },
   {
    "duration": 3,
    "start_time": "2022-01-18T13:50:13.666Z"
   },
   {
    "duration": 599,
    "start_time": "2022-01-18T13:50:13.673Z"
   },
   {
    "duration": 44,
    "start_time": "2022-01-18T13:50:14.275Z"
   },
   {
    "duration": 116,
    "start_time": "2022-01-18T13:50:14.321Z"
   },
   {
    "duration": 8,
    "start_time": "2022-01-18T13:50:14.469Z"
   },
   {
    "duration": 16,
    "start_time": "2022-01-18T13:50:14.481Z"
   },
   {
    "duration": 1207,
    "start_time": "2022-01-18T13:50:14.500Z"
   },
   {
    "duration": 15,
    "start_time": "2022-01-18T13:50:15.710Z"
   },
   {
    "duration": 23,
    "start_time": "2022-01-18T13:50:15.728Z"
   },
   {
    "duration": 11,
    "start_time": "2022-01-18T13:50:15.769Z"
   },
   {
    "duration": 15,
    "start_time": "2022-01-18T13:50:15.782Z"
   },
   {
    "duration": 22,
    "start_time": "2022-01-18T13:50:15.800Z"
   },
   {
    "duration": 45,
    "start_time": "2022-01-18T13:50:15.827Z"
   },
   {
    "duration": 9,
    "start_time": "2022-01-18T13:50:15.875Z"
   },
   {
    "duration": 16,
    "start_time": "2022-01-18T13:50:15.886Z"
   },
   {
    "duration": 14,
    "start_time": "2022-01-18T13:50:15.906Z"
   },
   {
    "duration": 55,
    "start_time": "2022-01-18T13:50:15.923Z"
   },
   {
    "duration": 21,
    "start_time": "2022-01-18T13:50:15.981Z"
   },
   {
    "duration": 13,
    "start_time": "2022-01-18T13:50:16.005Z"
   },
   {
    "duration": 50,
    "start_time": "2022-01-18T13:50:16.021Z"
   },
   {
    "duration": 18,
    "start_time": "2022-01-18T13:50:16.074Z"
   },
   {
    "duration": 13,
    "start_time": "2022-01-18T13:50:16.094Z"
   },
   {
    "duration": 367,
    "start_time": "2022-01-18T13:50:16.110Z"
   },
   {
    "duration": 43,
    "start_time": "2022-01-18T13:50:16.479Z"
   },
   {
    "duration": 15,
    "start_time": "2022-01-18T13:50:16.525Z"
   },
   {
    "duration": 29,
    "start_time": "2022-01-18T13:50:16.570Z"
   },
   {
    "duration": 11,
    "start_time": "2022-01-18T13:50:16.602Z"
   },
   {
    "duration": 55,
    "start_time": "2022-01-18T13:50:16.615Z"
   },
   {
    "duration": 412,
    "start_time": "2022-01-18T13:50:16.673Z"
   },
   {
    "duration": 15,
    "start_time": "2022-01-18T13:50:17.088Z"
   },
   {
    "duration": 14,
    "start_time": "2022-01-18T13:50:17.105Z"
   },
   {
    "duration": 47,
    "start_time": "2022-01-18T13:50:17.122Z"
   },
   {
    "duration": 10,
    "start_time": "2022-01-18T13:50:17.172Z"
   },
   {
    "duration": 690,
    "start_time": "2022-01-18T13:50:17.184Z"
   },
   {
    "duration": 153,
    "start_time": "2022-01-18T13:50:17.877Z"
   },
   {
    "duration": 46,
    "start_time": "2022-01-18T13:50:18.033Z"
   },
   {
    "duration": 17,
    "start_time": "2022-01-18T13:50:18.085Z"
   },
   {
    "duration": 22,
    "start_time": "2022-01-18T13:50:18.106Z"
   },
   {
    "duration": 50,
    "start_time": "2022-01-18T13:50:18.131Z"
   },
   {
    "duration": 18,
    "start_time": "2022-01-18T13:50:18.184Z"
   },
   {
    "duration": 10,
    "start_time": "2022-01-18T13:50:18.205Z"
   },
   {
    "duration": 473,
    "start_time": "2022-01-18T13:50:18.217Z"
   },
   {
    "duration": 178,
    "start_time": "2022-01-18T13:50:18.693Z"
   },
   {
    "duration": 17,
    "start_time": "2022-01-18T13:50:18.873Z"
   },
   {
    "duration": 436,
    "start_time": "2022-01-18T13:50:18.893Z"
   },
   {
    "duration": 47,
    "start_time": "2022-01-18T13:50:19.331Z"
   },
   {
    "duration": 17,
    "start_time": "2022-01-18T13:50:19.381Z"
   },
   {
    "duration": 22,
    "start_time": "2022-01-18T13:50:19.401Z"
   },
   {
    "duration": 44,
    "start_time": "2022-01-18T13:50:19.425Z"
   },
   {
    "duration": 11,
    "start_time": "2022-01-18T13:50:19.472Z"
   },
   {
    "duration": 515,
    "start_time": "2022-01-18T13:50:19.485Z"
   },
   {
    "duration": 13,
    "start_time": "2022-01-18T13:50:20.002Z"
   },
   {
    "duration": 111,
    "start_time": "2022-01-18T13:50:49.209Z"
   },
   {
    "duration": 48,
    "start_time": "2022-01-18T13:51:01.016Z"
   },
   {
    "duration": 49,
    "start_time": "2022-01-18T13:51:25.422Z"
   },
   {
    "duration": 130,
    "start_time": "2022-01-18T13:51:36.889Z"
   },
   {
    "duration": 184,
    "start_time": "2022-01-18T13:51:52.705Z"
   },
   {
    "duration": 1805,
    "start_time": "2022-01-18T13:52:02.649Z"
   },
   {
    "duration": 94,
    "start_time": "2022-01-18T13:52:12.632Z"
   },
   {
    "duration": 108,
    "start_time": "2022-01-18T13:52:51.856Z"
   },
   {
    "duration": 317,
    "start_time": "2022-01-18T13:52:58.487Z"
   },
   {
    "duration": 13,
    "start_time": "2022-01-18T13:54:09.827Z"
   },
   {
    "duration": 12,
    "start_time": "2022-01-18T13:54:22.533Z"
   },
   {
    "duration": 390,
    "start_time": "2022-01-18T13:55:46.840Z"
   },
   {
    "duration": 14,
    "start_time": "2022-01-18T13:55:47.438Z"
   },
   {
    "duration": 370,
    "start_time": "2022-01-18T13:56:08.962Z"
   },
   {
    "duration": 400,
    "start_time": "2022-01-18T13:56:20.332Z"
   },
   {
    "duration": 41,
    "start_time": "2022-01-18T13:57:27.311Z"
   },
   {
    "duration": 13,
    "start_time": "2022-01-18T13:57:29.468Z"
   },
   {
    "duration": 30,
    "start_time": "2022-01-18T13:57:49.617Z"
   },
   {
    "duration": 12,
    "start_time": "2022-01-18T13:57:50.592Z"
   },
   {
    "duration": 19,
    "start_time": "2022-01-18T13:58:11.684Z"
   },
   {
    "duration": 12,
    "start_time": "2022-01-18T13:58:12.291Z"
   },
   {
    "duration": 15,
    "start_time": "2022-01-18T13:58:21.949Z"
   },
   {
    "duration": 13,
    "start_time": "2022-01-18T13:58:22.940Z"
   },
   {
    "duration": 21,
    "start_time": "2022-01-18T13:58:40.099Z"
   },
   {
    "duration": 4,
    "start_time": "2022-01-18T13:59:24.357Z"
   },
   {
    "duration": 139,
    "start_time": "2022-01-18T13:59:40.123Z"
   },
   {
    "duration": 90,
    "start_time": "2022-01-18T13:59:58.991Z"
   },
   {
    "duration": 5,
    "start_time": "2022-01-18T14:02:06.900Z"
   },
   {
    "duration": 33,
    "start_time": "2022-01-18T14:02:42.603Z"
   },
   {
    "duration": 19,
    "start_time": "2022-01-18T14:02:43.213Z"
   },
   {
    "duration": 13,
    "start_time": "2022-01-18T14:03:06.517Z"
   },
   {
    "duration": 3,
    "start_time": "2022-01-18T14:03:09.850Z"
   },
   {
    "duration": 120,
    "start_time": "2022-01-18T14:03:23.522Z"
   },
   {
    "duration": 87,
    "start_time": "2022-01-18T14:03:52.261Z"
   },
   {
    "duration": 41,
    "start_time": "2022-01-18T14:04:21.496Z"
   },
   {
    "duration": 35,
    "start_time": "2022-01-18T14:04:54.932Z"
   },
   {
    "duration": 47,
    "start_time": "2022-01-18T14:05:15.746Z"
   },
   {
    "duration": 447,
    "start_time": "2022-01-18T14:05:20.635Z"
   },
   {
    "duration": 380,
    "start_time": "2022-01-18T14:05:45.696Z"
   },
   {
    "duration": 36,
    "start_time": "2022-01-18T14:07:33.925Z"
   },
   {
    "duration": 344,
    "start_time": "2022-01-18T14:07:38.065Z"
   },
   {
    "duration": 347,
    "start_time": "2022-01-18T14:07:48.882Z"
   },
   {
    "duration": 82,
    "start_time": "2022-01-18T14:08:39.800Z"
   },
   {
    "duration": 45,
    "start_time": "2022-01-18T14:08:40.590Z"
   },
   {
    "duration": 50,
    "start_time": "2022-01-18T14:08:41.266Z"
   },
   {
    "duration": 202,
    "start_time": "2022-01-18T14:08:42.183Z"
   },
   {
    "duration": 8988,
    "start_time": "2022-01-18T14:09:32.742Z"
   },
   {
    "duration": 79,
    "start_time": "2022-01-18T14:10:08.332Z"
   },
   {
    "duration": 156,
    "start_time": "2022-01-18T14:10:18.299Z"
   },
   {
    "duration": 18406,
    "start_time": "2022-01-18T14:10:33.082Z"
   },
   {
    "duration": 17,
    "start_time": "2022-01-18T14:12:52.602Z"
   },
   {
    "duration": 30,
    "start_time": "2022-01-18T14:13:01.274Z"
   },
   {
    "duration": 164,
    "start_time": "2022-01-18T14:13:19.034Z"
   },
   {
    "duration": 141,
    "start_time": "2022-01-18T14:13:36.188Z"
   },
   {
    "duration": -1211,
    "start_time": "2022-01-18T14:14:09.888Z"
   },
   {
    "duration": -1226,
    "start_time": "2022-01-18T14:14:09.905Z"
   },
   {
    "duration": 93,
    "start_time": "2022-01-18T14:15:04.965Z"
   },
   {
    "duration": 392,
    "start_time": "2022-01-18T14:15:42.513Z"
   },
   {
    "duration": 103,
    "start_time": "2022-01-18T14:16:01.026Z"
   },
   {
    "duration": 135,
    "start_time": "2022-01-18T14:16:08.619Z"
   },
   {
    "duration": 194,
    "start_time": "2022-01-18T14:16:22.844Z"
   },
   {
    "duration": 91,
    "start_time": "2022-01-18T14:19:06.493Z"
   },
   {
    "duration": 30,
    "start_time": "2022-01-18T14:24:12.763Z"
   },
   {
    "duration": 14,
    "start_time": "2022-01-18T14:24:14.776Z"
   },
   {
    "duration": 14,
    "start_time": "2022-01-18T14:24:23.541Z"
   },
   {
    "duration": 28,
    "start_time": "2022-01-18T14:24:27.905Z"
   },
   {
    "duration": 3,
    "start_time": "2022-01-18T14:24:27.936Z"
   },
   {
    "duration": 575,
    "start_time": "2022-01-18T14:24:27.942Z"
   },
   {
    "duration": 45,
    "start_time": "2022-01-18T14:24:28.520Z"
   },
   {
    "duration": 109,
    "start_time": "2022-01-18T14:24:28.567Z"
   },
   {
    "duration": 8,
    "start_time": "2022-01-18T14:24:28.679Z"
   },
   {
    "duration": 21,
    "start_time": "2022-01-18T14:24:28.689Z"
   },
   {
    "duration": 1170,
    "start_time": "2022-01-18T14:24:28.713Z"
   },
   {
    "duration": 16,
    "start_time": "2022-01-18T14:24:29.886Z"
   },
   {
    "duration": 12,
    "start_time": "2022-01-18T14:24:29.908Z"
   },
   {
    "duration": 50,
    "start_time": "2022-01-18T14:24:29.924Z"
   },
   {
    "duration": 9,
    "start_time": "2022-01-18T14:24:29.977Z"
   },
   {
    "duration": 18,
    "start_time": "2022-01-18T14:24:29.989Z"
   },
   {
    "duration": 61,
    "start_time": "2022-01-18T14:24:30.010Z"
   },
   {
    "duration": 25,
    "start_time": "2022-01-18T14:24:30.074Z"
   },
   {
    "duration": 17,
    "start_time": "2022-01-18T14:24:30.102Z"
   },
   {
    "duration": 12,
    "start_time": "2022-01-18T14:24:30.122Z"
   },
   {
    "duration": 42,
    "start_time": "2022-01-18T14:24:30.136Z"
   },
   {
    "duration": 24,
    "start_time": "2022-01-18T14:24:30.180Z"
   },
   {
    "duration": 13,
    "start_time": "2022-01-18T14:24:30.207Z"
   },
   {
    "duration": 18,
    "start_time": "2022-01-18T14:24:30.223Z"
   },
   {
    "duration": 33,
    "start_time": "2022-01-18T14:24:30.243Z"
   },
   {
    "duration": 28,
    "start_time": "2022-01-18T14:24:30.278Z"
   },
   {
    "duration": 375,
    "start_time": "2022-01-18T14:24:30.308Z"
   },
   {
    "duration": 42,
    "start_time": "2022-01-18T14:24:30.687Z"
   },
   {
    "duration": 40,
    "start_time": "2022-01-18T14:24:30.731Z"
   },
   {
    "duration": 33,
    "start_time": "2022-01-18T14:24:30.773Z"
   },
   {
    "duration": 29,
    "start_time": "2022-01-18T14:24:32.570Z"
   },
   {
    "duration": 13,
    "start_time": "2022-01-18T14:24:33.570Z"
   },
   {
    "duration": 28,
    "start_time": "2022-01-18T14:25:28.990Z"
   },
   {
    "duration": 4,
    "start_time": "2022-01-18T14:25:29.021Z"
   },
   {
    "duration": 734,
    "start_time": "2022-01-18T14:25:29.027Z"
   },
   {
    "duration": 47,
    "start_time": "2022-01-18T14:25:29.764Z"
   },
   {
    "duration": 111,
    "start_time": "2022-01-18T14:25:29.813Z"
   },
   {
    "duration": 45,
    "start_time": "2022-01-18T14:25:29.928Z"
   },
   {
    "duration": 15,
    "start_time": "2022-01-18T14:25:29.976Z"
   },
   {
    "duration": 1208,
    "start_time": "2022-01-18T14:25:29.993Z"
   },
   {
    "duration": 14,
    "start_time": "2022-01-18T14:25:31.205Z"
   },
   {
    "duration": 17,
    "start_time": "2022-01-18T14:25:31.222Z"
   },
   {
    "duration": 33,
    "start_time": "2022-01-18T14:25:31.242Z"
   },
   {
    "duration": 13,
    "start_time": "2022-01-18T14:25:31.278Z"
   },
   {
    "duration": 17,
    "start_time": "2022-01-18T14:25:31.293Z"
   },
   {
    "duration": 11,
    "start_time": "2022-01-18T14:25:31.315Z"
   },
   {
    "duration": 40,
    "start_time": "2022-01-18T14:25:31.330Z"
   },
   {
    "duration": 24,
    "start_time": "2022-01-18T14:25:31.373Z"
   },
   {
    "duration": 14,
    "start_time": "2022-01-18T14:25:31.400Z"
   },
   {
    "duration": 52,
    "start_time": "2022-01-18T14:25:31.417Z"
   },
   {
    "duration": 30,
    "start_time": "2022-01-18T14:25:31.472Z"
   },
   {
    "duration": 13,
    "start_time": "2022-01-18T14:25:31.505Z"
   },
   {
    "duration": 15,
    "start_time": "2022-01-18T14:25:31.520Z"
   },
   {
    "duration": 36,
    "start_time": "2022-01-18T14:25:31.537Z"
   },
   {
    "duration": 16,
    "start_time": "2022-01-18T14:25:31.575Z"
   },
   {
    "duration": 354,
    "start_time": "2022-01-18T14:25:31.593Z"
   },
   {
    "duration": 51,
    "start_time": "2022-01-18T14:25:31.949Z"
   },
   {
    "duration": 21,
    "start_time": "2022-01-18T14:25:32.003Z"
   },
   {
    "duration": 57,
    "start_time": "2022-01-18T14:25:32.027Z"
   },
   {
    "duration": 13,
    "start_time": "2022-01-18T14:25:32.086Z"
   },
   {
    "duration": 24,
    "start_time": "2022-01-18T14:25:32.102Z"
   },
   {
    "duration": 436,
    "start_time": "2022-01-18T14:25:32.128Z"
   },
   {
    "duration": 9,
    "start_time": "2022-01-18T14:25:32.570Z"
   },
   {
    "duration": 11,
    "start_time": "2022-01-18T14:25:32.582Z"
   },
   {
    "duration": 21,
    "start_time": "2022-01-18T14:25:32.595Z"
   },
   {
    "duration": 11,
    "start_time": "2022-01-18T14:25:32.619Z"
   },
   {
    "duration": 658,
    "start_time": "2022-01-18T14:25:32.670Z"
   },
   {
    "duration": 162,
    "start_time": "2022-01-18T14:25:33.331Z"
   },
   {
    "duration": 26,
    "start_time": "2022-01-18T14:25:33.496Z"
   },
   {
    "duration": 42,
    "start_time": "2022-01-18T14:25:33.527Z"
   },
   {
    "duration": 20,
    "start_time": "2022-01-18T14:25:33.572Z"
   },
   {
    "duration": 12,
    "start_time": "2022-01-18T14:25:33.595Z"
   },
   {
    "duration": 12,
    "start_time": "2022-01-18T14:25:33.610Z"
   },
   {
    "duration": 50,
    "start_time": "2022-01-18T14:25:33.625Z"
   },
   {
    "duration": 592,
    "start_time": "2022-01-18T14:25:33.677Z"
   },
   {
    "duration": 164,
    "start_time": "2022-01-18T14:25:34.272Z"
   },
   {
    "duration": 31,
    "start_time": "2022-01-18T14:25:34.439Z"
   },
   {
    "duration": 419,
    "start_time": "2022-01-18T14:25:34.473Z"
   },
   {
    "duration": 31,
    "start_time": "2022-01-18T14:25:34.894Z"
   },
   {
    "duration": 41,
    "start_time": "2022-01-18T14:25:34.928Z"
   },
   {
    "duration": 43,
    "start_time": "2022-01-18T14:25:37.810Z"
   },
   {
    "duration": 14,
    "start_time": "2022-01-18T14:25:38.869Z"
   },
   {
    "duration": 12,
    "start_time": "2022-01-18T14:25:44.408Z"
   },
   {
    "duration": 493,
    "start_time": "2022-01-18T14:25:45.408Z"
   },
   {
    "duration": 12,
    "start_time": "2022-01-18T14:25:46.323Z"
   },
   {
    "duration": 52,
    "start_time": "2022-01-18T14:26:04.777Z"
   },
   {
    "duration": 1309,
    "start_time": "2022-01-18T14:26:35.357Z"
   },
   {
    "duration": 41,
    "start_time": "2022-01-18T14:26:43.320Z"
   },
   {
    "duration": 40,
    "start_time": "2022-01-18T14:27:07.316Z"
   },
   {
    "duration": 38,
    "start_time": "2022-01-18T14:27:35.196Z"
   },
   {
    "duration": 37,
    "start_time": "2022-01-18T14:27:48.028Z"
   },
   {
    "duration": 333,
    "start_time": "2022-01-18T14:27:52.690Z"
   },
   {
    "duration": 28,
    "start_time": "2022-01-18T14:30:03.796Z"
   },
   {
    "duration": 38,
    "start_time": "2022-01-18T14:31:10.125Z"
   },
   {
    "duration": 13,
    "start_time": "2022-01-18T14:31:12.130Z"
   },
   {
    "duration": 49,
    "start_time": "2022-01-18T14:32:31.955Z"
   },
   {
    "duration": 50,
    "start_time": "2022-01-18T14:32:49.076Z"
   },
   {
    "duration": 45,
    "start_time": "2022-01-18T14:32:57.662Z"
   },
   {
    "duration": 171,
    "start_time": "2022-01-18T14:36:10.512Z"
   },
   {
    "duration": 334,
    "start_time": "2022-01-18T14:36:15.563Z"
   },
   {
    "duration": 97,
    "start_time": "2022-01-18T14:36:34.365Z"
   },
   {
    "duration": 55,
    "start_time": "2022-01-18T14:36:43.975Z"
   },
   {
    "duration": 56,
    "start_time": "2022-01-18T14:36:59.269Z"
   },
   {
    "duration": 2079,
    "start_time": "2022-01-18T14:37:01.519Z"
   },
   {
    "duration": 98,
    "start_time": "2022-01-18T14:37:10.282Z"
   },
   {
    "duration": 8925,
    "start_time": "2022-01-18T14:37:55.488Z"
   },
   {
    "duration": 8231,
    "start_time": "2022-01-18T14:38:50.621Z"
   },
   {
    "duration": 45,
    "start_time": "2022-01-18T14:39:32.322Z"
   },
   {
    "duration": 41,
    "start_time": "2022-01-18T14:39:42.918Z"
   },
   {
    "duration": 1784,
    "start_time": "2022-01-18T14:40:29.390Z"
   },
   {
    "duration": 41,
    "start_time": "2022-01-18T14:40:35.411Z"
   },
   {
    "duration": 41,
    "start_time": "2022-01-18T14:40:46.925Z"
   },
   {
    "duration": 37,
    "start_time": "2022-01-18T14:40:51.859Z"
   },
   {
    "duration": 36,
    "start_time": "2022-01-18T14:40:55.374Z"
   },
   {
    "duration": 8,
    "start_time": "2022-01-18T14:44:29.420Z"
   },
   {
    "duration": 5,
    "start_time": "2022-01-18T14:44:38.188Z"
   },
   {
    "duration": 10,
    "start_time": "2022-01-18T14:44:51.883Z"
   },
   {
    "duration": 22,
    "start_time": "2022-01-18T14:44:54.457Z"
   },
   {
    "duration": 8,
    "start_time": "2022-01-18T14:44:55.279Z"
   },
   {
    "duration": 10,
    "start_time": "2022-01-18T14:44:59.593Z"
   },
   {
    "duration": 42,
    "start_time": "2022-01-18T14:49:01.694Z"
   },
   {
    "duration": 35,
    "start_time": "2022-01-18T14:50:18.095Z"
   },
   {
    "duration": 34,
    "start_time": "2022-01-18T14:50:28.555Z"
   },
   {
    "duration": 39,
    "start_time": "2022-01-18T14:50:32.229Z"
   },
   {
    "duration": 6,
    "start_time": "2022-01-18T14:50:34.380Z"
   },
   {
    "duration": 10,
    "start_time": "2022-01-18T14:56:10.617Z"
   },
   {
    "duration": 13,
    "start_time": "2022-01-18T14:57:45.411Z"
   },
   {
    "duration": 5,
    "start_time": "2022-01-18T14:59:21.392Z"
   },
   {
    "duration": 329,
    "start_time": "2022-01-18T15:07:05.034Z"
   },
   {
    "duration": 321,
    "start_time": "2022-01-18T15:07:24.877Z"
   },
   {
    "duration": 347,
    "start_time": "2022-01-18T15:07:36.614Z"
   },
   {
    "duration": 5,
    "start_time": "2022-01-18T15:07:42.509Z"
   },
   {
    "duration": 7,
    "start_time": "2022-01-18T15:07:54.266Z"
   },
   {
    "duration": 5,
    "start_time": "2022-01-18T15:08:20.049Z"
   },
   {
    "duration": 333,
    "start_time": "2022-01-18T15:10:16.081Z"
   },
   {
    "duration": 11,
    "start_time": "2022-01-18T15:10:39.037Z"
   },
   {
    "duration": 6,
    "start_time": "2022-01-18T15:11:31.825Z"
   },
   {
    "duration": 6,
    "start_time": "2022-01-18T15:17:09.832Z"
   },
   {
    "duration": 6,
    "start_time": "2022-01-18T15:17:29.237Z"
   },
   {
    "duration": 7,
    "start_time": "2022-01-18T15:19:53.818Z"
   },
   {
    "duration": 103,
    "start_time": "2022-01-18T15:21:24.626Z"
   },
   {
    "duration": 26,
    "start_time": "2022-01-18T15:21:34.879Z"
   },
   {
    "duration": 29,
    "start_time": "2022-01-18T15:21:51.677Z"
   },
   {
    "duration": 2176,
    "start_time": "2022-01-18T15:22:14.884Z"
   },
   {
    "duration": 105,
    "start_time": "2022-01-18T15:22:53.193Z"
   },
   {
    "duration": 325,
    "start_time": "2022-01-18T15:23:05.387Z"
   },
   {
    "duration": 17,
    "start_time": "2022-01-18T15:24:11.310Z"
   },
   {
    "duration": 18,
    "start_time": "2022-01-18T15:24:21.037Z"
   },
   {
    "duration": 339,
    "start_time": "2022-01-18T15:24:30.905Z"
   },
   {
    "duration": 16,
    "start_time": "2022-01-18T15:27:50.340Z"
   },
   {
    "duration": 14,
    "start_time": "2022-01-18T15:28:01.640Z"
   },
   {
    "duration": 113,
    "start_time": "2022-01-18T15:29:44.134Z"
   },
   {
    "duration": 14,
    "start_time": "2022-01-18T15:29:53.782Z"
   },
   {
    "duration": 16,
    "start_time": "2022-01-18T15:30:03.283Z"
   },
   {
    "duration": 14,
    "start_time": "2022-01-18T15:30:16.380Z"
   },
   {
    "duration": 14,
    "start_time": "2022-01-18T15:31:19.105Z"
   },
   {
    "duration": 14,
    "start_time": "2022-01-18T15:32:55.543Z"
   },
   {
    "duration": 12,
    "start_time": "2022-01-18T15:33:05.895Z"
   },
   {
    "duration": 19,
    "start_time": "2022-01-18T15:34:26.399Z"
   },
   {
    "duration": 14,
    "start_time": "2022-01-18T15:34:47.202Z"
   },
   {
    "duration": 17,
    "start_time": "2022-01-18T15:35:21.404Z"
   },
   {
    "duration": 21,
    "start_time": "2022-01-18T15:35:36.047Z"
   },
   {
    "duration": 33,
    "start_time": "2022-01-18T15:35:50.229Z"
   },
   {
    "duration": 21,
    "start_time": "2022-01-18T15:39:06.737Z"
   },
   {
    "duration": 9,
    "start_time": "2022-01-18T15:39:08.152Z"
   },
   {
    "duration": 9,
    "start_time": "2022-01-18T15:39:08.816Z"
   },
   {
    "duration": 9,
    "start_time": "2022-01-18T15:40:02.752Z"
   },
   {
    "duration": 10,
    "start_time": "2022-01-18T15:40:03.226Z"
   },
   {
    "duration": 10,
    "start_time": "2022-01-18T15:40:05.724Z"
   },
   {
    "duration": 7,
    "start_time": "2022-01-18T15:40:34.536Z"
   },
   {
    "duration": 6,
    "start_time": "2022-01-18T15:40:57.946Z"
   },
   {
    "duration": 9,
    "start_time": "2022-01-18T15:41:31.667Z"
   },
   {
    "duration": 37,
    "start_time": "2022-01-18T15:41:33.184Z"
   },
   {
    "duration": 8,
    "start_time": "2022-01-18T15:42:31.919Z"
   },
   {
    "duration": 9,
    "start_time": "2022-01-18T15:42:32.434Z"
   },
   {
    "duration": 8,
    "start_time": "2022-01-18T15:42:34.222Z"
   },
   {
    "duration": 354,
    "start_time": "2022-01-18T15:52:23.886Z"
   },
   {
    "duration": 390,
    "start_time": "2022-01-18T15:53:16.253Z"
   },
   {
    "duration": 370,
    "start_time": "2022-01-18T15:53:30.461Z"
   },
   {
    "duration": 41,
    "start_time": "2022-01-18T15:53:52.776Z"
   },
   {
    "duration": 37,
    "start_time": "2022-01-18T15:53:58.425Z"
   },
   {
    "duration": 25,
    "start_time": "2022-01-18T15:54:02.773Z"
   },
   {
    "duration": 4,
    "start_time": "2022-01-18T15:54:02.801Z"
   },
   {
    "duration": 621,
    "start_time": "2022-01-18T15:54:02.808Z"
   },
   {
    "duration": 46,
    "start_time": "2022-01-18T15:54:03.432Z"
   },
   {
    "duration": 110,
    "start_time": "2022-01-18T15:54:03.481Z"
   },
   {
    "duration": 9,
    "start_time": "2022-01-18T15:54:03.593Z"
   },
   {
    "duration": 25,
    "start_time": "2022-01-18T15:54:03.606Z"
   },
   {
    "duration": 1211,
    "start_time": "2022-01-18T15:54:03.634Z"
   },
   {
    "duration": 24,
    "start_time": "2022-01-18T15:54:04.848Z"
   },
   {
    "duration": 15,
    "start_time": "2022-01-18T15:54:04.876Z"
   },
   {
    "duration": 13,
    "start_time": "2022-01-18T15:54:04.894Z"
   },
   {
    "duration": 8,
    "start_time": "2022-01-18T15:54:04.909Z"
   },
   {
    "duration": 61,
    "start_time": "2022-01-18T15:54:04.920Z"
   },
   {
    "duration": 6,
    "start_time": "2022-01-18T15:54:04.985Z"
   },
   {
    "duration": 9,
    "start_time": "2022-01-18T15:54:04.994Z"
   },
   {
    "duration": 16,
    "start_time": "2022-01-18T15:54:05.006Z"
   },
   {
    "duration": 17,
    "start_time": "2022-01-18T15:54:05.025Z"
   },
   {
    "duration": 15,
    "start_time": "2022-01-18T15:54:05.074Z"
   },
   {
    "duration": 14,
    "start_time": "2022-01-18T15:54:05.093Z"
   },
   {
    "duration": 15,
    "start_time": "2022-01-18T15:54:05.109Z"
   },
   {
    "duration": 44,
    "start_time": "2022-01-18T15:54:05.127Z"
   },
   {
    "duration": 10,
    "start_time": "2022-01-18T15:54:05.177Z"
   },
   {
    "duration": 16,
    "start_time": "2022-01-18T15:54:05.189Z"
   },
   {
    "duration": 401,
    "start_time": "2022-01-18T15:54:05.208Z"
   },
   {
    "duration": 57,
    "start_time": "2022-01-18T15:54:05.612Z"
   },
   {
    "duration": 21,
    "start_time": "2022-01-18T15:54:05.672Z"
   },
   {
    "duration": 32,
    "start_time": "2022-01-18T15:54:05.696Z"
   },
   {
    "duration": 45,
    "start_time": "2022-01-18T15:54:05.730Z"
   },
   {
    "duration": 30,
    "start_time": "2022-01-18T15:54:05.779Z"
   },
   {
    "duration": 444,
    "start_time": "2022-01-18T15:54:05.811Z"
   },
   {
    "duration": 15,
    "start_time": "2022-01-18T15:54:06.257Z"
   },
   {
    "duration": 6,
    "start_time": "2022-01-18T15:54:06.275Z"
   },
   {
    "duration": 17,
    "start_time": "2022-01-18T15:54:06.284Z"
   },
   {
    "duration": 10,
    "start_time": "2022-01-18T15:54:06.304Z"
   },
   {
    "duration": 812,
    "start_time": "2022-01-18T15:54:06.317Z"
   },
   {
    "duration": 168,
    "start_time": "2022-01-18T15:54:07.132Z"
   },
   {
    "duration": 25,
    "start_time": "2022-01-18T15:54:07.303Z"
   },
   {
    "duration": 13,
    "start_time": "2022-01-18T15:54:07.331Z"
   },
   {
    "duration": 26,
    "start_time": "2022-01-18T15:54:07.369Z"
   },
   {
    "duration": 12,
    "start_time": "2022-01-18T15:54:07.397Z"
   },
   {
    "duration": 14,
    "start_time": "2022-01-18T15:54:07.412Z"
   },
   {
    "duration": 45,
    "start_time": "2022-01-18T15:54:07.428Z"
   },
   {
    "duration": 463,
    "start_time": "2022-01-18T15:54:07.477Z"
   },
   {
    "duration": 192,
    "start_time": "2022-01-18T15:54:07.943Z"
   },
   {
    "duration": 32,
    "start_time": "2022-01-18T15:54:08.137Z"
   },
   {
    "duration": 424,
    "start_time": "2022-01-18T15:54:08.172Z"
   },
   {
    "duration": 31,
    "start_time": "2022-01-18T15:54:08.599Z"
   },
   {
    "duration": 38,
    "start_time": "2022-01-18T15:54:08.633Z"
   },
   {
    "duration": 28,
    "start_time": "2022-01-18T15:54:08.674Z"
   },
   {
    "duration": 14,
    "start_time": "2022-01-18T15:54:08.704Z"
   },
   {
    "duration": 10,
    "start_time": "2022-01-18T15:54:08.724Z"
   },
   {
    "duration": 534,
    "start_time": "2022-01-18T15:54:08.770Z"
   },
   {
    "duration": 12,
    "start_time": "2022-01-18T15:54:09.307Z"
   },
   {
    "duration": 77,
    "start_time": "2022-01-18T15:54:09.322Z"
   },
   {
    "duration": 37,
    "start_time": "2022-01-18T15:54:09.401Z"
   },
   {
    "duration": 66,
    "start_time": "2022-01-18T15:54:09.441Z"
   },
   {
    "duration": 39,
    "start_time": "2022-01-18T15:54:11.876Z"
   },
   {
    "duration": 40,
    "start_time": "2022-01-18T15:54:14.880Z"
   },
   {
    "duration": 38,
    "start_time": "2022-01-18T15:55:03.180Z"
   },
   {
    "duration": 410,
    "start_time": "2022-01-18T15:55:22.012Z"
   },
   {
    "duration": 940,
    "start_time": "2022-01-18T15:55:27.001Z"
   },
   {
    "duration": 4,
    "start_time": "2022-01-18T15:55:27.943Z"
   },
   {
    "duration": 574,
    "start_time": "2022-01-18T15:55:27.950Z"
   },
   {
    "duration": 58,
    "start_time": "2022-01-18T15:55:28.527Z"
   },
   {
    "duration": 105,
    "start_time": "2022-01-18T15:55:28.588Z"
   },
   {
    "duration": 9,
    "start_time": "2022-01-18T15:55:28.697Z"
   },
   {
    "duration": 22,
    "start_time": "2022-01-18T15:55:28.709Z"
   },
   {
    "duration": 1145,
    "start_time": "2022-01-18T15:55:28.773Z"
   },
   {
    "duration": 15,
    "start_time": "2022-01-18T15:55:29.921Z"
   },
   {
    "duration": 32,
    "start_time": "2022-01-18T15:55:29.939Z"
   },
   {
    "duration": 15,
    "start_time": "2022-01-18T15:55:29.975Z"
   },
   {
    "duration": 7,
    "start_time": "2022-01-18T15:55:29.993Z"
   },
   {
    "duration": 22,
    "start_time": "2022-01-18T15:55:30.003Z"
   },
   {
    "duration": 45,
    "start_time": "2022-01-18T15:55:30.028Z"
   },
   {
    "duration": 23,
    "start_time": "2022-01-18T15:55:30.076Z"
   },
   {
    "duration": 29,
    "start_time": "2022-01-18T15:55:30.102Z"
   },
   {
    "duration": 22,
    "start_time": "2022-01-18T15:55:30.134Z"
   },
   {
    "duration": 44,
    "start_time": "2022-01-18T15:55:30.158Z"
   },
   {
    "duration": 20,
    "start_time": "2022-01-18T15:55:30.205Z"
   },
   {
    "duration": 16,
    "start_time": "2022-01-18T15:55:30.227Z"
   },
   {
    "duration": 14,
    "start_time": "2022-01-18T15:55:30.246Z"
   },
   {
    "duration": 25,
    "start_time": "2022-01-18T15:55:30.263Z"
   },
   {
    "duration": 17,
    "start_time": "2022-01-18T15:55:30.294Z"
   },
   {
    "duration": 379,
    "start_time": "2022-01-18T15:55:30.314Z"
   },
   {
    "duration": 44,
    "start_time": "2022-01-18T15:55:30.695Z"
   },
   {
    "duration": 40,
    "start_time": "2022-01-18T15:55:30.741Z"
   },
   {
    "duration": 31,
    "start_time": "2022-01-18T15:55:30.785Z"
   },
   {
    "duration": 13,
    "start_time": "2022-01-18T15:55:30.819Z"
   },
   {
    "duration": 53,
    "start_time": "2022-01-18T15:55:30.834Z"
   },
   {
    "duration": 444,
    "start_time": "2022-01-18T15:55:30.890Z"
   },
   {
    "duration": 9,
    "start_time": "2022-01-18T15:55:31.337Z"
   },
   {
    "duration": 24,
    "start_time": "2022-01-18T15:55:31.348Z"
   },
   {
    "duration": 19,
    "start_time": "2022-01-18T15:55:31.376Z"
   },
   {
    "duration": 11,
    "start_time": "2022-01-18T15:55:31.397Z"
   },
   {
    "duration": 704,
    "start_time": "2022-01-18T15:55:31.411Z"
   },
   {
    "duration": 165,
    "start_time": "2022-01-18T15:55:32.117Z"
   },
   {
    "duration": 25,
    "start_time": "2022-01-18T15:55:32.286Z"
   },
   {
    "duration": 12,
    "start_time": "2022-01-18T15:55:32.314Z"
   },
   {
    "duration": 51,
    "start_time": "2022-01-18T15:55:32.328Z"
   },
   {
    "duration": 13,
    "start_time": "2022-01-18T15:55:32.382Z"
   },
   {
    "duration": 32,
    "start_time": "2022-01-18T15:55:32.398Z"
   },
   {
    "duration": 9,
    "start_time": "2022-01-18T15:55:32.433Z"
   },
   {
    "duration": 560,
    "start_time": "2022-01-18T15:55:32.445Z"
   },
   {
    "duration": 188,
    "start_time": "2022-01-18T15:55:33.008Z"
   },
   {
    "duration": 16,
    "start_time": "2022-01-18T15:55:33.198Z"
   },
   {
    "duration": 430,
    "start_time": "2022-01-18T15:55:33.216Z"
   },
   {
    "duration": 40,
    "start_time": "2022-01-18T15:55:33.649Z"
   },
   {
    "duration": 15,
    "start_time": "2022-01-18T15:55:33.692Z"
   },
   {
    "duration": 23,
    "start_time": "2022-01-18T15:55:33.709Z"
   },
   {
    "duration": 47,
    "start_time": "2022-01-18T15:55:33.735Z"
   },
   {
    "duration": 21,
    "start_time": "2022-01-18T15:55:33.784Z"
   },
   {
    "duration": 550,
    "start_time": "2022-01-18T15:55:33.807Z"
   },
   {
    "duration": 24,
    "start_time": "2022-01-18T15:55:34.359Z"
   },
   {
    "duration": 53,
    "start_time": "2022-01-18T15:55:34.387Z"
   },
   {
    "duration": 43,
    "start_time": "2022-01-18T15:55:34.469Z"
   },
   {
    "duration": 56,
    "start_time": "2022-01-18T15:55:34.515Z"
   },
   {
    "duration": 41,
    "start_time": "2022-01-18T15:55:38.249Z"
   },
   {
    "duration": 12,
    "start_time": "2022-01-18T15:56:35.285Z"
   },
   {
    "duration": 52,
    "start_time": "2022-01-18T15:59:12.247Z"
   },
   {
    "duration": 52,
    "start_time": "2022-01-18T16:05:05.071Z"
   },
   {
    "duration": 30,
    "start_time": "2022-01-18T16:05:34.584Z"
   },
   {
    "duration": 42,
    "start_time": "2022-01-18T16:05:43.886Z"
   },
   {
    "duration": 44,
    "start_time": "2022-01-18T16:06:00.563Z"
   },
   {
    "duration": 66,
    "start_time": "2022-01-18T16:06:03.961Z"
   },
   {
    "duration": 38,
    "start_time": "2022-01-18T16:07:47.561Z"
   },
   {
    "duration": 44,
    "start_time": "2022-01-18T16:07:58.321Z"
   },
   {
    "duration": 44,
    "start_time": "2022-01-18T16:08:15.381Z"
   },
   {
    "duration": 45,
    "start_time": "2022-01-18T16:08:22.088Z"
   },
   {
    "duration": 435,
    "start_time": "2022-01-18T16:09:17.181Z"
   },
   {
    "duration": 39,
    "start_time": "2022-01-18T16:09:35.589Z"
   },
   {
    "duration": 38,
    "start_time": "2022-01-18T16:10:44.485Z"
   },
   {
    "duration": 44,
    "start_time": "2022-01-18T16:11:53.357Z"
   },
   {
    "duration": 35,
    "start_time": "2022-01-18T16:13:32.304Z"
   },
   {
    "duration": 40,
    "start_time": "2022-01-18T16:13:38.472Z"
   },
   {
    "duration": 42,
    "start_time": "2022-01-18T16:13:45.144Z"
   },
   {
    "duration": 45,
    "start_time": "2022-01-18T16:15:09.713Z"
   },
   {
    "duration": 42,
    "start_time": "2022-01-18T16:15:15.147Z"
   },
   {
    "duration": 55,
    "start_time": "2022-01-18T16:15:20.305Z"
   },
   {
    "duration": 940,
    "start_time": "2022-01-18T16:15:34.433Z"
   },
   {
    "duration": 4,
    "start_time": "2022-01-18T16:15:35.376Z"
   },
   {
    "duration": 599,
    "start_time": "2022-01-18T16:15:35.383Z"
   },
   {
    "duration": 53,
    "start_time": "2022-01-18T16:15:35.986Z"
   },
   {
    "duration": 134,
    "start_time": "2022-01-18T16:15:36.042Z"
   },
   {
    "duration": 11,
    "start_time": "2022-01-18T16:15:36.179Z"
   },
   {
    "duration": 33,
    "start_time": "2022-01-18T16:15:36.193Z"
   },
   {
    "duration": 1125,
    "start_time": "2022-01-18T16:15:36.230Z"
   },
   {
    "duration": 31,
    "start_time": "2022-01-18T16:15:37.358Z"
   },
   {
    "duration": 9,
    "start_time": "2022-01-18T16:15:37.392Z"
   },
   {
    "duration": 20,
    "start_time": "2022-01-18T16:15:37.403Z"
   },
   {
    "duration": 11,
    "start_time": "2022-01-18T16:15:37.425Z"
   },
   {
    "duration": 45,
    "start_time": "2022-01-18T16:15:37.438Z"
   },
   {
    "duration": 6,
    "start_time": "2022-01-18T16:15:37.487Z"
   },
   {
    "duration": 11,
    "start_time": "2022-01-18T16:15:37.495Z"
   },
   {
    "duration": 17,
    "start_time": "2022-01-18T16:15:37.508Z"
   },
   {
    "duration": 11,
    "start_time": "2022-01-18T16:15:37.528Z"
   },
   {
    "duration": 14,
    "start_time": "2022-01-18T16:15:37.570Z"
   },
   {
    "duration": 23,
    "start_time": "2022-01-18T16:15:37.587Z"
   },
   {
    "duration": 13,
    "start_time": "2022-01-18T16:15:37.612Z"
   },
   {
    "duration": 42,
    "start_time": "2022-01-18T16:15:37.627Z"
   },
   {
    "duration": 15,
    "start_time": "2022-01-18T16:15:37.673Z"
   },
   {
    "duration": 16,
    "start_time": "2022-01-18T16:15:37.696Z"
   },
   {
    "duration": 369,
    "start_time": "2022-01-18T16:15:37.715Z"
   },
   {
    "duration": 44,
    "start_time": "2022-01-18T16:15:38.087Z"
   },
   {
    "duration": 38,
    "start_time": "2022-01-18T16:15:38.133Z"
   },
   {
    "duration": 33,
    "start_time": "2022-01-18T16:15:38.174Z"
   },
   {
    "duration": 13,
    "start_time": "2022-01-18T16:15:38.210Z"
   },
   {
    "duration": 47,
    "start_time": "2022-01-18T16:15:38.225Z"
   },
   {
    "duration": 437,
    "start_time": "2022-01-18T16:15:38.275Z"
   },
   {
    "duration": 9,
    "start_time": "2022-01-18T16:15:38.715Z"
   },
   {
    "duration": 7,
    "start_time": "2022-01-18T16:15:38.726Z"
   },
   {
    "duration": 51,
    "start_time": "2022-01-18T16:15:38.735Z"
   },
   {
    "duration": 12,
    "start_time": "2022-01-18T16:15:38.789Z"
   },
   {
    "duration": 683,
    "start_time": "2022-01-18T16:15:38.804Z"
   },
   {
    "duration": 161,
    "start_time": "2022-01-18T16:15:39.490Z"
   },
   {
    "duration": 44,
    "start_time": "2022-01-18T16:15:39.654Z"
   },
   {
    "duration": 12,
    "start_time": "2022-01-18T16:15:39.701Z"
   },
   {
    "duration": 20,
    "start_time": "2022-01-18T16:15:39.715Z"
   },
   {
    "duration": 45,
    "start_time": "2022-01-18T16:15:39.737Z"
   },
   {
    "duration": 15,
    "start_time": "2022-01-18T16:15:39.785Z"
   },
   {
    "duration": 9,
    "start_time": "2022-01-18T16:15:39.802Z"
   },
   {
    "duration": 473,
    "start_time": "2022-01-18T16:15:39.814Z"
   },
   {
    "duration": 183,
    "start_time": "2022-01-18T16:15:40.289Z"
   },
   {
    "duration": 19,
    "start_time": "2022-01-18T16:15:40.475Z"
   },
   {
    "duration": 440,
    "start_time": "2022-01-18T16:15:40.497Z"
   },
   {
    "duration": 45,
    "start_time": "2022-01-18T16:15:40.940Z"
   },
   {
    "duration": 17,
    "start_time": "2022-01-18T16:15:40.989Z"
   },
   {
    "duration": 24,
    "start_time": "2022-01-18T16:15:41.009Z"
   },
   {
    "duration": 47,
    "start_time": "2022-01-18T16:15:41.036Z"
   },
   {
    "duration": 20,
    "start_time": "2022-01-18T16:15:41.086Z"
   },
   {
    "duration": 538,
    "start_time": "2022-01-18T16:15:41.110Z"
   },
   {
    "duration": 23,
    "start_time": "2022-01-18T16:15:41.651Z"
   },
   {
    "duration": 16,
    "start_time": "2022-01-18T16:15:41.677Z"
   },
   {
    "duration": 75,
    "start_time": "2022-01-18T16:15:41.695Z"
   },
   {
    "duration": 45,
    "start_time": "2022-01-18T16:15:41.774Z"
   },
   {
    "duration": 75,
    "start_time": "2022-01-18T16:15:41.822Z"
   },
   {
    "duration": 44,
    "start_time": "2022-01-18T16:15:44.766Z"
   },
   {
    "duration": 42,
    "start_time": "2022-01-18T16:15:45.580Z"
   },
   {
    "duration": 42,
    "start_time": "2022-01-18T16:15:55.142Z"
   },
   {
    "duration": 38,
    "start_time": "2022-01-18T16:16:04.688Z"
   },
   {
    "duration": 38,
    "start_time": "2022-01-18T16:16:22.306Z"
   },
   {
    "duration": 42,
    "start_time": "2022-01-18T16:17:15.342Z"
   },
   {
    "duration": 5,
    "start_time": "2022-01-18T16:22:41.701Z"
   },
   {
    "duration": 111,
    "start_time": "2022-01-18T16:23:21.828Z"
   },
   {
    "duration": 51,
    "start_time": "2022-01-18T16:23:27.931Z"
   },
   {
    "duration": 64,
    "start_time": "2022-01-18T16:23:33.352Z"
   },
   {
    "duration": 530,
    "start_time": "2022-01-18T16:24:49.562Z"
   },
   {
    "duration": 386,
    "start_time": "2022-01-18T16:25:03.432Z"
   },
   {
    "duration": 56,
    "start_time": "2022-01-18T16:25:19.238Z"
   },
   {
    "duration": 9354,
    "start_time": "2022-01-18T16:25:34.401Z"
   },
   {
    "duration": 52,
    "start_time": "2022-01-18T16:25:51.880Z"
   },
   {
    "duration": 385,
    "start_time": "2022-01-18T16:31:42.872Z"
   },
   {
    "duration": 46,
    "start_time": "2022-01-18T16:32:15.451Z"
   },
   {
    "duration": 380,
    "start_time": "2022-01-18T16:32:31.966Z"
   },
   {
    "duration": 45,
    "start_time": "2022-01-18T16:32:40.170Z"
   },
   {
    "duration": 48,
    "start_time": "2022-01-18T16:32:56.204Z"
   },
   {
    "duration": 521,
    "start_time": "2022-01-18T16:33:37.523Z"
   },
   {
    "duration": 54,
    "start_time": "2022-01-18T16:33:50.746Z"
   },
   {
    "duration": 29,
    "start_time": "2022-01-18T16:38:31.022Z"
   },
   {
    "duration": 5,
    "start_time": "2022-01-18T16:38:31.054Z"
   },
   {
    "duration": 666,
    "start_time": "2022-01-18T16:38:31.063Z"
   },
   {
    "duration": 52,
    "start_time": "2022-01-18T16:38:31.732Z"
   },
   {
    "duration": 118,
    "start_time": "2022-01-18T16:38:31.788Z"
   },
   {
    "duration": 8,
    "start_time": "2022-01-18T16:38:31.909Z"
   },
   {
    "duration": 51,
    "start_time": "2022-01-18T16:38:31.919Z"
   },
   {
    "duration": 1241,
    "start_time": "2022-01-18T16:38:31.973Z"
   },
   {
    "duration": 15,
    "start_time": "2022-01-18T16:38:33.216Z"
   },
   {
    "duration": 10,
    "start_time": "2022-01-18T16:38:33.235Z"
   },
   {
    "duration": 17,
    "start_time": "2022-01-18T16:38:33.270Z"
   },
   {
    "duration": 8,
    "start_time": "2022-01-18T16:38:33.291Z"
   },
   {
    "duration": 17,
    "start_time": "2022-01-18T16:38:33.302Z"
   },
   {
    "duration": 8,
    "start_time": "2022-01-18T16:38:33.322Z"
   },
   {
    "duration": 11,
    "start_time": "2022-01-18T16:38:33.370Z"
   },
   {
    "duration": 19,
    "start_time": "2022-01-18T16:38:33.384Z"
   },
   {
    "duration": 12,
    "start_time": "2022-01-18T16:38:33.406Z"
   },
   {
    "duration": 13,
    "start_time": "2022-01-18T16:38:33.421Z"
   },
   {
    "duration": 52,
    "start_time": "2022-01-18T16:38:33.436Z"
   },
   {
    "duration": 15,
    "start_time": "2022-01-18T16:38:33.491Z"
   },
   {
    "duration": 11,
    "start_time": "2022-01-18T16:38:33.509Z"
   },
   {
    "duration": 11,
    "start_time": "2022-01-18T16:38:33.522Z"
   },
   {
    "duration": 16,
    "start_time": "2022-01-18T16:38:33.570Z"
   },
   {
    "duration": 525,
    "start_time": "2022-01-18T16:38:33.589Z"
   },
   {
    "duration": 57,
    "start_time": "2022-01-18T16:38:34.122Z"
   },
   {
    "duration": 20,
    "start_time": "2022-01-18T16:38:34.184Z"
   },
   {
    "duration": 63,
    "start_time": "2022-01-18T16:38:34.206Z"
   },
   {
    "duration": 17,
    "start_time": "2022-01-18T16:38:34.273Z"
   },
   {
    "duration": 21,
    "start_time": "2022-01-18T16:38:34.293Z"
   },
   {
    "duration": 634,
    "start_time": "2022-01-18T16:38:34.316Z"
   },
   {
    "duration": 18,
    "start_time": "2022-01-18T16:38:34.953Z"
   },
   {
    "duration": 9,
    "start_time": "2022-01-18T16:38:34.974Z"
   },
   {
    "duration": 25,
    "start_time": "2022-01-18T16:38:34.986Z"
   },
   {
    "duration": 14,
    "start_time": "2022-01-18T16:38:35.014Z"
   },
   {
    "duration": 758,
    "start_time": "2022-01-18T16:38:35.070Z"
   },
   {
    "duration": 251,
    "start_time": "2022-01-18T16:38:35.831Z"
   },
   {
    "duration": 33,
    "start_time": "2022-01-18T16:38:36.087Z"
   },
   {
    "duration": 24,
    "start_time": "2022-01-18T16:38:36.123Z"
   },
   {
    "duration": 25,
    "start_time": "2022-01-18T16:38:36.171Z"
   },
   {
    "duration": 22,
    "start_time": "2022-01-18T16:38:36.200Z"
   },
   {
    "duration": 50,
    "start_time": "2022-01-18T16:38:36.226Z"
   },
   {
    "duration": 13,
    "start_time": "2022-01-18T16:38:36.280Z"
   },
   {
    "duration": 479,
    "start_time": "2022-01-18T16:38:36.295Z"
   },
   {
    "duration": 236,
    "start_time": "2022-01-18T16:38:36.778Z"
   },
   {
    "duration": 20,
    "start_time": "2022-01-18T16:38:37.016Z"
   },
   {
    "duration": 449,
    "start_time": "2022-01-18T16:38:37.038Z"
   },
   {
    "duration": 33,
    "start_time": "2022-01-18T16:38:37.491Z"
   },
   {
    "duration": 47,
    "start_time": "2022-01-18T16:38:37.527Z"
   },
   {
    "duration": 28,
    "start_time": "2022-01-18T16:38:37.578Z"
   },
   {
    "duration": 17,
    "start_time": "2022-01-18T16:38:37.609Z"
   },
   {
    "duration": 21,
    "start_time": "2022-01-18T16:38:37.628Z"
   },
   {
    "duration": 563,
    "start_time": "2022-01-18T16:38:37.670Z"
   },
   {
    "duration": 12,
    "start_time": "2022-01-18T16:38:38.236Z"
   },
   {
    "duration": 37,
    "start_time": "2022-01-18T16:38:38.251Z"
   },
   {
    "duration": 98,
    "start_time": "2022-01-18T16:38:38.291Z"
   },
   {
    "duration": 37,
    "start_time": "2022-01-18T16:38:38.392Z"
   },
   {
    "duration": 68,
    "start_time": "2022-01-18T16:38:38.432Z"
   },
   {
    "duration": 43,
    "start_time": "2022-01-18T16:38:38.502Z"
   },
   {
    "duration": 27,
    "start_time": "2022-01-18T16:38:38.548Z"
   },
   {
    "duration": 26,
    "start_time": "2022-01-18T16:38:38.579Z"
   },
   {
    "duration": 7,
    "start_time": "2022-01-18T16:38:38.607Z"
   },
   {
    "duration": 69,
    "start_time": "2022-01-18T16:38:38.616Z"
   },
   {
    "duration": 23,
    "start_time": "2022-01-18T16:38:38.689Z"
   },
   {
    "duration": 17,
    "start_time": "2022-01-18T16:38:38.715Z"
   },
   {
    "duration": 37,
    "start_time": "2022-01-18T16:38:38.735Z"
   },
   {
    "duration": 14,
    "start_time": "2022-01-18T16:38:38.777Z"
   },
   {
    "duration": 51,
    "start_time": "2022-01-18T16:40:06.600Z"
   },
   {
    "duration": 1263,
    "start_time": "2022-01-18T16:40:09.263Z"
   },
   {
    "duration": 76,
    "start_time": "2022-01-18T16:40:20.513Z"
   },
   {
    "duration": 43,
    "start_time": "2022-01-18T16:40:45.830Z"
   },
   {
    "duration": 41,
    "start_time": "2022-01-18T16:40:50.804Z"
   },
   {
    "duration": 347,
    "start_time": "2022-01-18T16:41:15.382Z"
   },
   {
    "duration": 65,
    "start_time": "2022-01-18T16:41:50.464Z"
   },
   {
    "duration": 65,
    "start_time": "2022-01-18T16:42:26.990Z"
   },
   {
    "duration": 96,
    "start_time": "2022-01-18T16:43:03.129Z"
   },
   {
    "duration": 66,
    "start_time": "2022-01-18T16:43:30.970Z"
   },
   {
    "duration": 100,
    "start_time": "2022-01-18T16:47:25.894Z"
   },
   {
    "duration": 61,
    "start_time": "2022-01-18T16:47:33.079Z"
   },
   {
    "duration": 47,
    "start_time": "2022-01-18T16:48:31.667Z"
   },
   {
    "duration": 5,
    "start_time": "2022-01-18T16:49:52.791Z"
   },
   {
    "duration": 9,
    "start_time": "2022-01-18T16:49:53.621Z"
   },
   {
    "duration": 5,
    "start_time": "2022-01-18T16:49:57.680Z"
   },
   {
    "duration": 29,
    "start_time": "2022-01-18T16:49:59.938Z"
   },
   {
    "duration": 22,
    "start_time": "2022-01-18T16:50:01.763Z"
   },
   {
    "duration": 8,
    "start_time": "2022-01-18T16:50:04.388Z"
   },
   {
    "duration": 9,
    "start_time": "2022-01-18T16:50:05.015Z"
   },
   {
    "duration": 11,
    "start_time": "2022-01-18T16:50:08.008Z"
   },
   {
    "duration": 8372,
    "start_time": "2022-01-18T16:52:24.554Z"
   },
   {
    "duration": 9,
    "start_time": "2022-01-18T16:52:53.806Z"
   },
   {
    "duration": 25,
    "start_time": "2022-01-18T16:53:06.155Z"
   },
   {
    "duration": 39,
    "start_time": "2022-01-18T16:53:33.726Z"
   },
   {
    "duration": 18,
    "start_time": "2022-01-18T16:54:04.413Z"
   },
   {
    "duration": 150,
    "start_time": "2022-01-18T16:59:13.747Z"
   },
   {
    "duration": 215,
    "start_time": "2022-01-18T16:59:18.111Z"
   },
   {
    "duration": 20,
    "start_time": "2022-01-18T16:59:31.095Z"
   },
   {
    "duration": 197,
    "start_time": "2022-01-18T17:00:46.356Z"
   },
   {
    "duration": 19,
    "start_time": "2022-01-18T17:00:47.516Z"
   },
   {
    "duration": 36,
    "start_time": "2022-01-18T18:13:14.246Z"
   },
   {
    "duration": 32,
    "start_time": "2022-01-18T18:13:45.648Z"
   },
   {
    "duration": 30,
    "start_time": "2022-01-18T18:14:26.006Z"
   },
   {
    "duration": 50,
    "start_time": "2022-01-18T18:15:07.019Z"
   },
   {
    "duration": 54,
    "start_time": "2022-01-18T18:15:24.430Z"
   },
   {
    "duration": 49,
    "start_time": "2022-01-18T18:15:48.069Z"
   },
   {
    "duration": 49,
    "start_time": "2022-01-18T18:16:23.012Z"
   },
   {
    "duration": 53,
    "start_time": "2022-01-18T18:17:58.121Z"
   },
   {
    "duration": 52,
    "start_time": "2022-01-18T18:18:28.265Z"
   },
   {
    "duration": 5,
    "start_time": "2022-01-18T18:19:35.572Z"
   },
   {
    "duration": 64,
    "start_time": "2022-01-18T18:19:42.606Z"
   },
   {
    "duration": 45,
    "start_time": "2022-01-18T18:19:55.687Z"
   },
   {
    "duration": 36,
    "start_time": "2022-01-18T18:25:42.609Z"
   },
   {
    "duration": 9233,
    "start_time": "2022-01-18T18:26:22.445Z"
   },
   {
    "duration": -145,
    "start_time": "2022-01-18T18:26:31.826Z"
   },
   {
    "duration": 949,
    "start_time": "2022-01-18T18:26:56.299Z"
   },
   {
    "duration": 4,
    "start_time": "2022-01-18T18:26:57.251Z"
   },
   {
    "duration": 531,
    "start_time": "2022-01-18T18:26:57.259Z"
   },
   {
    "duration": 47,
    "start_time": "2022-01-18T18:26:57.793Z"
   },
   {
    "duration": 89,
    "start_time": "2022-01-18T18:26:57.842Z"
   },
   {
    "duration": 36,
    "start_time": "2022-01-18T18:26:57.933Z"
   },
   {
    "duration": 20,
    "start_time": "2022-01-18T18:26:57.971Z"
   },
   {
    "duration": 1113,
    "start_time": "2022-01-18T18:26:57.994Z"
   },
   {
    "duration": 14,
    "start_time": "2022-01-18T18:26:59.111Z"
   },
   {
    "duration": 16,
    "start_time": "2022-01-18T18:26:59.128Z"
   },
   {
    "duration": 28,
    "start_time": "2022-01-18T18:26:59.146Z"
   },
   {
    "duration": 6,
    "start_time": "2022-01-18T18:26:59.177Z"
   },
   {
    "duration": 15,
    "start_time": "2022-01-18T18:26:59.186Z"
   },
   {
    "duration": 10,
    "start_time": "2022-01-18T18:26:59.204Z"
   },
   {
    "duration": 9,
    "start_time": "2022-01-18T18:26:59.216Z"
   },
   {
    "duration": 52,
    "start_time": "2022-01-18T18:26:59.228Z"
   },
   {
    "duration": 14,
    "start_time": "2022-01-18T18:26:59.283Z"
   },
   {
    "duration": 12,
    "start_time": "2022-01-18T18:26:59.300Z"
   },
   {
    "duration": 21,
    "start_time": "2022-01-18T18:26:59.314Z"
   },
   {
    "duration": 37,
    "start_time": "2022-01-18T18:26:59.337Z"
   },
   {
    "duration": 10,
    "start_time": "2022-01-18T18:26:59.377Z"
   },
   {
    "duration": 16,
    "start_time": "2022-01-18T18:26:59.389Z"
   },
   {
    "duration": 14,
    "start_time": "2022-01-18T18:26:59.408Z"
   },
   {
    "duration": 389,
    "start_time": "2022-01-18T18:26:59.424Z"
   },
   {
    "duration": 60,
    "start_time": "2022-01-18T18:26:59.816Z"
   },
   {
    "duration": 16,
    "start_time": "2022-01-18T18:26:59.878Z"
   },
   {
    "duration": 28,
    "start_time": "2022-01-18T18:26:59.900Z"
   },
   {
    "duration": 38,
    "start_time": "2022-01-18T18:26:59.931Z"
   },
   {
    "duration": 20,
    "start_time": "2022-01-18T18:26:59.971Z"
   },
   {
    "duration": 422,
    "start_time": "2022-01-18T18:26:59.994Z"
   },
   {
    "duration": 9,
    "start_time": "2022-01-18T18:27:00.418Z"
   },
   {
    "duration": 11,
    "start_time": "2022-01-18T18:27:00.429Z"
   },
   {
    "duration": 38,
    "start_time": "2022-01-18T18:27:00.443Z"
   },
   {
    "duration": 11,
    "start_time": "2022-01-18T18:27:00.483Z"
   },
   {
    "duration": 693,
    "start_time": "2022-01-18T18:27:00.496Z"
   },
   {
    "duration": 181,
    "start_time": "2022-01-18T18:27:01.192Z"
   },
   {
    "duration": 30,
    "start_time": "2022-01-18T18:27:01.377Z"
   },
   {
    "duration": 16,
    "start_time": "2022-01-18T18:27:01.410Z"
   },
   {
    "duration": 54,
    "start_time": "2022-01-18T18:27:01.429Z"
   },
   {
    "duration": 15,
    "start_time": "2022-01-18T18:27:01.485Z"
   },
   {
    "duration": 24,
    "start_time": "2022-01-18T18:27:01.502Z"
   },
   {
    "duration": 8,
    "start_time": "2022-01-18T18:27:01.529Z"
   },
   {
    "duration": 495,
    "start_time": "2022-01-18T18:27:01.540Z"
   },
   {
    "duration": 168,
    "start_time": "2022-01-18T18:27:02.037Z"
   },
   {
    "duration": 18,
    "start_time": "2022-01-18T18:27:02.208Z"
   },
   {
    "duration": 427,
    "start_time": "2022-01-18T18:27:02.228Z"
   },
   {
    "duration": 38,
    "start_time": "2022-01-18T18:27:02.657Z"
   },
   {
    "duration": 15,
    "start_time": "2022-01-18T18:27:02.698Z"
   },
   {
    "duration": 22,
    "start_time": "2022-01-18T18:27:02.716Z"
   },
   {
    "duration": 13,
    "start_time": "2022-01-18T18:27:02.740Z"
   },
   {
    "duration": 11,
    "start_time": "2022-01-18T18:27:02.770Z"
   },
   {
    "duration": 488,
    "start_time": "2022-01-18T18:27:02.783Z"
   },
   {
    "duration": 11,
    "start_time": "2022-01-18T18:27:03.274Z"
   },
   {
    "duration": 82,
    "start_time": "2022-01-18T18:27:03.288Z"
   },
   {
    "duration": 33,
    "start_time": "2022-01-18T18:27:03.373Z"
   },
   {
    "duration": 85,
    "start_time": "2022-01-18T18:27:03.408Z"
   },
   {
    "duration": 174,
    "start_time": "2022-01-18T18:27:03.495Z"
   },
   {
    "duration": 5,
    "start_time": "2022-01-18T18:27:03.672Z"
   },
   {
    "duration": 14,
    "start_time": "2022-01-18T18:27:03.680Z"
   },
   {
    "duration": 5,
    "start_time": "2022-01-18T18:27:03.697Z"
   },
   {
    "duration": 37,
    "start_time": "2022-01-18T18:27:03.704Z"
   },
   {
    "duration": 20,
    "start_time": "2022-01-18T18:27:03.744Z"
   },
   {
    "duration": 11,
    "start_time": "2022-01-18T18:27:03.766Z"
   },
   {
    "duration": 8,
    "start_time": "2022-01-18T18:27:03.779Z"
   },
   {
    "duration": 13,
    "start_time": "2022-01-18T18:27:03.789Z"
   },
   {
    "duration": 14,
    "start_time": "2022-01-18T18:27:03.805Z"
   },
   {
    "duration": 28,
    "start_time": "2022-01-18T18:27:03.821Z"
   },
   {
    "duration": 322,
    "start_time": "2022-01-18T18:27:03.851Z"
   },
   {
    "duration": 117,
    "start_time": "2022-01-18T18:27:04.176Z"
   },
   {
    "duration": 188,
    "start_time": "2022-01-18T18:27:18.633Z"
   },
   {
    "duration": 43,
    "start_time": "2022-01-18T18:27:20.069Z"
   },
   {
    "duration": 31,
    "start_time": "2022-01-18T18:29:12.635Z"
   },
   {
    "duration": 40,
    "start_time": "2022-01-18T18:29:18.137Z"
   },
   {
    "duration": 4,
    "start_time": "2022-01-18T18:29:18.181Z"
   },
   {
    "duration": 568,
    "start_time": "2022-01-18T18:29:18.189Z"
   },
   {
    "duration": 48,
    "start_time": "2022-01-18T18:29:18.760Z"
   },
   {
    "duration": 114,
    "start_time": "2022-01-18T18:29:18.810Z"
   },
   {
    "duration": 8,
    "start_time": "2022-01-18T18:29:18.926Z"
   },
   {
    "duration": 41,
    "start_time": "2022-01-18T18:29:18.937Z"
   },
   {
    "duration": 1164,
    "start_time": "2022-01-18T18:29:18.981Z"
   },
   {
    "duration": 31,
    "start_time": "2022-01-18T18:29:20.147Z"
   },
   {
    "duration": 16,
    "start_time": "2022-01-18T18:29:20.181Z"
   },
   {
    "duration": 10,
    "start_time": "2022-01-18T18:29:20.199Z"
   },
   {
    "duration": 5,
    "start_time": "2022-01-18T18:29:20.212Z"
   },
   {
    "duration": 13,
    "start_time": "2022-01-18T18:29:20.220Z"
   },
   {
    "duration": 41,
    "start_time": "2022-01-18T18:29:20.235Z"
   },
   {
    "duration": 8,
    "start_time": "2022-01-18T18:29:20.282Z"
   },
   {
    "duration": 41,
    "start_time": "2022-01-18T18:29:20.293Z"
   },
   {
    "duration": 13,
    "start_time": "2022-01-18T18:29:20.337Z"
   },
   {
    "duration": 25,
    "start_time": "2022-01-18T18:29:20.357Z"
   },
   {
    "duration": 36,
    "start_time": "2022-01-18T18:29:20.386Z"
   },
   {
    "duration": 13,
    "start_time": "2022-01-18T18:29:20.425Z"
   },
   {
    "duration": 14,
    "start_time": "2022-01-18T18:29:20.440Z"
   },
   {
    "duration": 24,
    "start_time": "2022-01-18T18:29:20.457Z"
   },
   {
    "duration": 15,
    "start_time": "2022-01-18T18:29:20.483Z"
   },
   {
    "duration": 391,
    "start_time": "2022-01-18T18:29:20.500Z"
   },
   {
    "duration": 43,
    "start_time": "2022-01-18T18:29:20.893Z"
   },
   {
    "duration": 41,
    "start_time": "2022-01-18T18:29:20.938Z"
   },
   {
    "duration": 32,
    "start_time": "2022-01-18T18:29:20.981Z"
   },
   {
    "duration": 13,
    "start_time": "2022-01-18T18:29:21.015Z"
   },
   {
    "duration": 55,
    "start_time": "2022-01-18T18:29:21.031Z"
   },
   {
    "duration": 475,
    "start_time": "2022-01-18T18:29:21.089Z"
   },
   {
    "duration": 10,
    "start_time": "2022-01-18T18:29:21.566Z"
   },
   {
    "duration": 10,
    "start_time": "2022-01-18T18:29:21.579Z"
   },
   {
    "duration": 14,
    "start_time": "2022-01-18T18:29:21.591Z"
   },
   {
    "duration": 13,
    "start_time": "2022-01-18T18:29:21.608Z"
   },
   {
    "duration": 799,
    "start_time": "2022-01-18T18:29:21.623Z"
   },
   {
    "duration": 154,
    "start_time": "2022-01-18T18:29:22.425Z"
   },
   {
    "duration": 26,
    "start_time": "2022-01-18T18:29:22.582Z"
   },
   {
    "duration": 13,
    "start_time": "2022-01-18T18:29:22.610Z"
   },
   {
    "duration": 57,
    "start_time": "2022-01-18T18:29:22.626Z"
   },
   {
    "duration": 12,
    "start_time": "2022-01-18T18:29:22.686Z"
   },
   {
    "duration": 14,
    "start_time": "2022-01-18T18:29:22.701Z"
   },
   {
    "duration": 10,
    "start_time": "2022-01-18T18:29:22.717Z"
   },
   {
    "duration": 471,
    "start_time": "2022-01-18T18:29:22.729Z"
   },
   {
    "duration": 169,
    "start_time": "2022-01-18T18:29:23.203Z"
   },
   {
    "duration": 21,
    "start_time": "2022-01-18T18:29:23.374Z"
   },
   {
    "duration": 424,
    "start_time": "2022-01-18T18:29:23.397Z"
   },
   {
    "duration": 32,
    "start_time": "2022-01-18T18:29:23.824Z"
   },
   {
    "duration": 21,
    "start_time": "2022-01-18T18:29:23.869Z"
   },
   {
    "duration": 21,
    "start_time": "2022-01-18T18:29:23.893Z"
   },
   {
    "duration": 12,
    "start_time": "2022-01-18T18:29:23.917Z"
   },
   {
    "duration": 42,
    "start_time": "2022-01-18T18:29:23.936Z"
   },
   {
    "duration": 537,
    "start_time": "2022-01-18T18:29:23.982Z"
   },
   {
    "duration": 12,
    "start_time": "2022-01-18T18:29:24.522Z"
   },
   {
    "duration": 70,
    "start_time": "2022-01-18T18:29:24.537Z"
   },
   {
    "duration": 32,
    "start_time": "2022-01-18T18:29:24.610Z"
   },
   {
    "duration": 52,
    "start_time": "2022-01-18T18:29:24.644Z"
   },
   {
    "duration": 50,
    "start_time": "2022-01-18T18:29:24.698Z"
   },
   {
    "duration": 22,
    "start_time": "2022-01-18T18:29:24.750Z"
   },
   {
    "duration": 12,
    "start_time": "2022-01-18T18:29:24.775Z"
   },
   {
    "duration": 10,
    "start_time": "2022-01-18T18:29:24.790Z"
   },
   {
    "duration": 69,
    "start_time": "2022-01-18T18:29:24.802Z"
   },
   {
    "duration": 23,
    "start_time": "2022-01-18T18:29:24.873Z"
   },
   {
    "duration": 8,
    "start_time": "2022-01-18T18:29:24.899Z"
   },
   {
    "duration": 9,
    "start_time": "2022-01-18T18:29:24.909Z"
   },
   {
    "duration": 10,
    "start_time": "2022-01-18T18:29:24.920Z"
   },
   {
    "duration": 44,
    "start_time": "2022-01-18T18:29:24.932Z"
   },
   {
    "duration": 27,
    "start_time": "2022-01-18T18:29:24.981Z"
   },
   {
    "duration": 182,
    "start_time": "2022-01-18T18:29:25.010Z"
   },
   {
    "duration": 41,
    "start_time": "2022-01-18T18:29:25.194Z"
   },
   {
    "duration": 25,
    "start_time": "2022-01-18T18:29:51.358Z"
   },
   {
    "duration": 438,
    "start_time": "2022-01-18T18:30:22.078Z"
   },
   {
    "duration": 11,
    "start_time": "2022-01-18T18:30:27.558Z"
   },
   {
    "duration": 344,
    "start_time": "2022-01-18T18:37:00.109Z"
   },
   {
    "duration": 339,
    "start_time": "2022-01-18T18:37:22.521Z"
   },
   {
    "duration": 312,
    "start_time": "2022-01-18T18:37:58.317Z"
   },
   {
    "duration": 32,
    "start_time": "2022-01-18T18:38:11.220Z"
   },
   {
    "duration": 3,
    "start_time": "2022-01-18T18:38:11.255Z"
   },
   {
    "duration": 580,
    "start_time": "2022-01-18T18:38:11.261Z"
   },
   {
    "duration": 49,
    "start_time": "2022-01-18T18:38:11.844Z"
   },
   {
    "duration": 106,
    "start_time": "2022-01-18T18:38:11.895Z"
   },
   {
    "duration": 8,
    "start_time": "2022-01-18T18:38:12.004Z"
   },
   {
    "duration": 16,
    "start_time": "2022-01-18T18:38:12.014Z"
   },
   {
    "duration": 1142,
    "start_time": "2022-01-18T18:38:12.072Z"
   },
   {
    "duration": 15,
    "start_time": "2022-01-18T18:38:13.217Z"
   },
   {
    "duration": 12,
    "start_time": "2022-01-18T18:38:13.234Z"
   },
   {
    "duration": 42,
    "start_time": "2022-01-18T18:38:13.248Z"
   },
   {
    "duration": 6,
    "start_time": "2022-01-18T18:38:13.293Z"
   },
   {
    "duration": 14,
    "start_time": "2022-01-18T18:38:13.301Z"
   },
   {
    "duration": 8,
    "start_time": "2022-01-18T18:38:13.318Z"
   },
   {
    "duration": 41,
    "start_time": "2022-01-18T18:38:13.329Z"
   },
   {
    "duration": 21,
    "start_time": "2022-01-18T18:38:13.372Z"
   },
   {
    "duration": 9,
    "start_time": "2022-01-18T18:38:13.396Z"
   },
   {
    "duration": 12,
    "start_time": "2022-01-18T18:38:13.407Z"
   },
   {
    "duration": 15,
    "start_time": "2022-01-18T18:38:13.421Z"
   },
   {
    "duration": 44,
    "start_time": "2022-01-18T18:38:13.438Z"
   },
   {
    "duration": 9,
    "start_time": "2022-01-18T18:38:13.485Z"
   },
   {
    "duration": 8,
    "start_time": "2022-01-18T18:38:13.496Z"
   },
   {
    "duration": 8,
    "start_time": "2022-01-18T18:38:13.510Z"
   },
   {
    "duration": 357,
    "start_time": "2022-01-18T18:38:13.521Z"
   },
   {
    "duration": 43,
    "start_time": "2022-01-18T18:38:13.881Z"
   },
   {
    "duration": 17,
    "start_time": "2022-01-18T18:38:13.926Z"
   },
   {
    "duration": 53,
    "start_time": "2022-01-18T18:38:13.946Z"
   },
   {
    "duration": 13,
    "start_time": "2022-01-18T18:38:14.001Z"
   },
   {
    "duration": 27,
    "start_time": "2022-01-18T18:38:14.016Z"
   },
   {
    "duration": 439,
    "start_time": "2022-01-18T18:38:14.045Z"
   },
   {
    "duration": 11,
    "start_time": "2022-01-18T18:38:14.486Z"
   },
   {
    "duration": 6,
    "start_time": "2022-01-18T18:38:14.499Z"
   },
   {
    "duration": 16,
    "start_time": "2022-01-18T18:38:14.508Z"
   },
   {
    "duration": 16,
    "start_time": "2022-01-18T18:38:14.526Z"
   },
   {
    "duration": 777,
    "start_time": "2022-01-18T18:38:14.569Z"
   },
   {
    "duration": 176,
    "start_time": "2022-01-18T18:38:15.349Z"
   },
   {
    "duration": 27,
    "start_time": "2022-01-18T18:38:15.527Z"
   },
   {
    "duration": 15,
    "start_time": "2022-01-18T18:38:15.569Z"
   },
   {
    "duration": 20,
    "start_time": "2022-01-18T18:38:15.587Z"
   },
   {
    "duration": 12,
    "start_time": "2022-01-18T18:38:15.610Z"
   },
   {
    "duration": 53,
    "start_time": "2022-01-18T18:38:15.625Z"
   },
   {
    "duration": 11,
    "start_time": "2022-01-18T18:38:15.681Z"
   },
   {
    "duration": 458,
    "start_time": "2022-01-18T18:38:15.694Z"
   },
   {
    "duration": 178,
    "start_time": "2022-01-18T18:38:16.155Z"
   },
   {
    "duration": 17,
    "start_time": "2022-01-18T18:38:16.336Z"
   },
   {
    "duration": 413,
    "start_time": "2022-01-18T18:38:16.370Z"
   },
   {
    "duration": 32,
    "start_time": "2022-01-18T18:38:16.785Z"
   },
   {
    "duration": 15,
    "start_time": "2022-01-18T18:38:16.819Z"
   },
   {
    "duration": 53,
    "start_time": "2022-01-18T18:38:16.836Z"
   },
   {
    "duration": 13,
    "start_time": "2022-01-18T18:38:16.891Z"
   },
   {
    "duration": 14,
    "start_time": "2022-01-18T18:38:16.907Z"
   },
   {
    "duration": 538,
    "start_time": "2022-01-18T18:38:16.924Z"
   },
   {
    "duration": 22,
    "start_time": "2022-01-18T18:38:17.464Z"
   },
   {
    "duration": 50,
    "start_time": "2022-01-18T18:38:17.489Z"
   },
   {
    "duration": 62,
    "start_time": "2022-01-18T18:38:17.541Z"
   },
   {
    "duration": 33,
    "start_time": "2022-01-18T18:38:17.605Z"
   },
   {
    "duration": 376,
    "start_time": "2022-01-18T18:38:20.552Z"
   },
   {
    "duration": 30,
    "start_time": "2022-01-18T18:38:23.794Z"
   },
   {
    "duration": 384,
    "start_time": "2022-01-18T18:38:24.666Z"
   },
   {
    "duration": 318,
    "start_time": "2022-01-18T18:39:07.792Z"
   },
   {
    "duration": 55,
    "start_time": "2022-01-18T18:39:22.135Z"
   },
   {
    "duration": 104,
    "start_time": "2022-01-18T18:47:14.167Z"
   },
   {
    "duration": 346,
    "start_time": "2022-01-18T18:47:20.960Z"
   },
   {
    "duration": 36,
    "start_time": "2022-01-18T18:47:35.545Z"
   },
   {
    "duration": 4,
    "start_time": "2022-01-18T18:47:35.584Z"
   },
   {
    "duration": 631,
    "start_time": "2022-01-18T18:47:35.592Z"
   },
   {
    "duration": 50,
    "start_time": "2022-01-18T18:47:36.225Z"
   },
   {
    "duration": 105,
    "start_time": "2022-01-18T18:47:36.279Z"
   },
   {
    "duration": 9,
    "start_time": "2022-01-18T18:47:36.387Z"
   },
   {
    "duration": 14,
    "start_time": "2022-01-18T18:47:36.399Z"
   },
   {
    "duration": 1219,
    "start_time": "2022-01-18T18:47:36.416Z"
   },
   {
    "duration": 15,
    "start_time": "2022-01-18T18:47:37.638Z"
   },
   {
    "duration": 13,
    "start_time": "2022-01-18T18:47:37.670Z"
   },
   {
    "duration": 16,
    "start_time": "2022-01-18T18:47:37.686Z"
   },
   {
    "duration": 8,
    "start_time": "2022-01-18T18:47:37.705Z"
   },
   {
    "duration": 15,
    "start_time": "2022-01-18T18:47:37.715Z"
   },
   {
    "duration": 40,
    "start_time": "2022-01-18T18:47:37.732Z"
   },
   {
    "duration": 17,
    "start_time": "2022-01-18T18:47:37.774Z"
   },
   {
    "duration": 18,
    "start_time": "2022-01-18T18:47:37.795Z"
   },
   {
    "duration": 10,
    "start_time": "2022-01-18T18:47:37.817Z"
   },
   {
    "duration": 40,
    "start_time": "2022-01-18T18:47:37.833Z"
   },
   {
    "duration": 29,
    "start_time": "2022-01-18T18:47:37.877Z"
   },
   {
    "duration": 12,
    "start_time": "2022-01-18T18:47:37.909Z"
   },
   {
    "duration": 16,
    "start_time": "2022-01-18T18:47:37.923Z"
   },
   {
    "duration": 31,
    "start_time": "2022-01-18T18:47:37.941Z"
   },
   {
    "duration": 16,
    "start_time": "2022-01-18T18:47:37.976Z"
   },
   {
    "duration": 363,
    "start_time": "2022-01-18T18:47:37.995Z"
   },
   {
    "duration": 53,
    "start_time": "2022-01-18T18:47:38.360Z"
   },
   {
    "duration": 16,
    "start_time": "2022-01-18T18:47:38.416Z"
   },
   {
    "duration": 55,
    "start_time": "2022-01-18T18:47:38.434Z"
   },
   {
    "duration": 14,
    "start_time": "2022-01-18T18:47:38.492Z"
   },
   {
    "duration": 20,
    "start_time": "2022-01-18T18:47:38.508Z"
   },
   {
    "duration": 440,
    "start_time": "2022-01-18T18:47:38.531Z"
   },
   {
    "duration": 13,
    "start_time": "2022-01-18T18:47:38.974Z"
   },
   {
    "duration": 7,
    "start_time": "2022-01-18T18:47:38.990Z"
   },
   {
    "duration": 17,
    "start_time": "2022-01-18T18:47:39.000Z"
   },
   {
    "duration": 54,
    "start_time": "2022-01-18T18:47:39.019Z"
   },
   {
    "duration": 674,
    "start_time": "2022-01-18T18:47:39.076Z"
   },
   {
    "duration": 190,
    "start_time": "2022-01-18T18:47:39.753Z"
   },
   {
    "duration": 38,
    "start_time": "2022-01-18T18:47:39.945Z"
   },
   {
    "duration": 15,
    "start_time": "2022-01-18T18:47:39.986Z"
   },
   {
    "duration": 21,
    "start_time": "2022-01-18T18:47:40.004Z"
   },
   {
    "duration": 50,
    "start_time": "2022-01-18T18:47:40.027Z"
   },
   {
    "duration": 14,
    "start_time": "2022-01-18T18:47:40.081Z"
   },
   {
    "duration": 9,
    "start_time": "2022-01-18T18:47:40.097Z"
   },
   {
    "duration": 574,
    "start_time": "2022-01-18T18:47:40.109Z"
   },
   {
    "duration": 169,
    "start_time": "2022-01-18T18:47:40.686Z"
   },
   {
    "duration": 25,
    "start_time": "2022-01-18T18:47:40.857Z"
   },
   {
    "duration": 533,
    "start_time": "2022-01-18T18:47:40.885Z"
   },
   {
    "duration": 29,
    "start_time": "2022-01-18T18:47:41.421Z"
   },
   {
    "duration": 30,
    "start_time": "2022-01-18T18:47:41.452Z"
   },
   {
    "duration": 23,
    "start_time": "2022-01-18T18:47:41.485Z"
   },
   {
    "duration": 14,
    "start_time": "2022-01-18T18:47:41.510Z"
   },
   {
    "duration": 50,
    "start_time": "2022-01-18T18:47:41.530Z"
   },
   {
    "duration": 541,
    "start_time": "2022-01-18T18:47:41.583Z"
   },
   {
    "duration": 12,
    "start_time": "2022-01-18T18:47:42.127Z"
   },
   {
    "duration": 335,
    "start_time": "2022-01-18T18:47:45.297Z"
   },
   {
    "duration": 313,
    "start_time": "2022-01-18T18:48:08.556Z"
   },
   {
    "duration": 338,
    "start_time": "2022-01-18T18:48:18.267Z"
   },
   {
    "duration": 104,
    "start_time": "2022-01-18T18:48:47.535Z"
   },
   {
    "duration": 118,
    "start_time": "2022-01-18T18:48:53.074Z"
   },
   {
    "duration": 48,
    "start_time": "2022-01-18T18:49:42.800Z"
   },
   {
    "duration": 356,
    "start_time": "2022-01-18T18:50:31.786Z"
   },
   {
    "duration": 342,
    "start_time": "2022-01-18T18:51:24.029Z"
   },
   {
    "duration": 368,
    "start_time": "2022-01-18T18:52:01.000Z"
   },
   {
    "duration": 43,
    "start_time": "2022-01-18T18:52:21.586Z"
   },
   {
    "duration": 50,
    "start_time": "2022-01-18T18:52:27.797Z"
   },
   {
    "duration": 68,
    "start_time": "2022-01-18T18:52:35.453Z"
   },
   {
    "duration": 46,
    "start_time": "2022-01-18T18:52:40.592Z"
   },
   {
    "duration": 55,
    "start_time": "2022-01-18T18:52:45.865Z"
   },
   {
    "duration": 380,
    "start_time": "2022-01-18T18:53:38.196Z"
   },
   {
    "duration": 299,
    "start_time": "2022-01-18T18:54:12.150Z"
   },
   {
    "duration": 49,
    "start_time": "2022-01-18T18:54:24.824Z"
   },
   {
    "duration": 346,
    "start_time": "2022-01-18T18:55:26.536Z"
   },
   {
    "duration": 364,
    "start_time": "2022-01-18T18:55:50.277Z"
   },
   {
    "duration": 33,
    "start_time": "2022-01-18T18:56:00.674Z"
   },
   {
    "duration": 3,
    "start_time": "2022-01-18T18:56:00.711Z"
   },
   {
    "duration": 686,
    "start_time": "2022-01-18T18:56:00.717Z"
   },
   {
    "duration": 46,
    "start_time": "2022-01-18T18:56:01.406Z"
   },
   {
    "duration": 117,
    "start_time": "2022-01-18T18:56:01.455Z"
   },
   {
    "duration": 11,
    "start_time": "2022-01-18T18:56:01.576Z"
   },
   {
    "duration": 14,
    "start_time": "2022-01-18T18:56:01.591Z"
   },
   {
    "duration": 1225,
    "start_time": "2022-01-18T18:56:01.608Z"
   },
   {
    "duration": 13,
    "start_time": "2022-01-18T18:56:02.836Z"
   },
   {
    "duration": 29,
    "start_time": "2022-01-18T18:56:02.852Z"
   },
   {
    "duration": 20,
    "start_time": "2022-01-18T18:56:02.884Z"
   },
   {
    "duration": 7,
    "start_time": "2022-01-18T18:56:02.907Z"
   },
   {
    "duration": 16,
    "start_time": "2022-01-18T18:56:02.917Z"
   },
   {
    "duration": 43,
    "start_time": "2022-01-18T18:56:02.935Z"
   },
   {
    "duration": 11,
    "start_time": "2022-01-18T18:56:02.981Z"
   },
   {
    "duration": 20,
    "start_time": "2022-01-18T18:56:02.995Z"
   },
   {
    "duration": 16,
    "start_time": "2022-01-18T18:56:03.017Z"
   },
   {
    "duration": 35,
    "start_time": "2022-01-18T18:56:03.038Z"
   },
   {
    "duration": 19,
    "start_time": "2022-01-18T18:56:03.078Z"
   },
   {
    "duration": 11,
    "start_time": "2022-01-18T18:56:03.100Z"
   },
   {
    "duration": 11,
    "start_time": "2022-01-18T18:56:03.114Z"
   },
   {
    "duration": 50,
    "start_time": "2022-01-18T18:56:03.128Z"
   },
   {
    "duration": 14,
    "start_time": "2022-01-18T18:56:03.180Z"
   },
   {
    "duration": 397,
    "start_time": "2022-01-18T18:56:03.196Z"
   },
   {
    "duration": 41,
    "start_time": "2022-01-18T18:56:03.595Z"
   },
   {
    "duration": 35,
    "start_time": "2022-01-18T18:56:03.638Z"
   },
   {
    "duration": 36,
    "start_time": "2022-01-18T18:56:03.676Z"
   },
   {
    "duration": 14,
    "start_time": "2022-01-18T18:56:03.715Z"
   },
   {
    "duration": 57,
    "start_time": "2022-01-18T18:56:03.732Z"
   },
   {
    "duration": 431,
    "start_time": "2022-01-18T18:56:03.791Z"
   },
   {
    "duration": 9,
    "start_time": "2022-01-18T18:56:04.224Z"
   },
   {
    "duration": 5,
    "start_time": "2022-01-18T18:56:04.236Z"
   },
   {
    "duration": 44,
    "start_time": "2022-01-18T18:56:04.243Z"
   },
   {
    "duration": 12,
    "start_time": "2022-01-18T18:56:04.289Z"
   },
   {
    "duration": 697,
    "start_time": "2022-01-18T18:56:04.303Z"
   },
   {
    "duration": 188,
    "start_time": "2022-01-18T18:56:05.002Z"
   },
   {
    "duration": 25,
    "start_time": "2022-01-18T18:56:05.193Z"
   },
   {
    "duration": 15,
    "start_time": "2022-01-18T18:56:05.220Z"
   },
   {
    "duration": 54,
    "start_time": "2022-01-18T18:56:05.237Z"
   },
   {
    "duration": 25,
    "start_time": "2022-01-18T18:56:05.294Z"
   },
   {
    "duration": 20,
    "start_time": "2022-01-18T18:56:05.322Z"
   },
   {
    "duration": 35,
    "start_time": "2022-01-18T18:56:05.345Z"
   },
   {
    "duration": 466,
    "start_time": "2022-01-18T18:56:05.384Z"
   },
   {
    "duration": 227,
    "start_time": "2022-01-18T18:56:05.852Z"
   },
   {
    "duration": 21,
    "start_time": "2022-01-18T18:56:06.081Z"
   },
   {
    "duration": 434,
    "start_time": "2022-01-18T18:56:06.105Z"
   },
   {
    "duration": 45,
    "start_time": "2022-01-18T18:56:06.541Z"
   },
   {
    "duration": 17,
    "start_time": "2022-01-18T18:56:06.589Z"
   },
   {
    "duration": 23,
    "start_time": "2022-01-18T18:56:06.608Z"
   },
   {
    "duration": 47,
    "start_time": "2022-01-18T18:56:06.633Z"
   },
   {
    "duration": 12,
    "start_time": "2022-01-18T18:56:06.690Z"
   },
   {
    "duration": 545,
    "start_time": "2022-01-18T18:56:06.705Z"
   },
   {
    "duration": 27,
    "start_time": "2022-01-18T18:56:07.252Z"
   },
   {
    "duration": 113,
    "start_time": "2022-01-18T18:56:07.282Z"
   },
   {
    "duration": 48,
    "start_time": "2022-01-18T18:56:07.397Z"
   },
   {
    "duration": 68,
    "start_time": "2022-01-18T18:56:07.447Z"
   },
   {
    "duration": 52,
    "start_time": "2022-01-18T18:56:09.373Z"
   },
   {
    "duration": 414,
    "start_time": "2022-01-18T18:56:10.192Z"
   },
   {
    "duration": 104,
    "start_time": "2022-01-18T18:56:20.979Z"
   },
   {
    "duration": 358,
    "start_time": "2022-01-19T10:35:08.792Z"
   },
   {
    "duration": 941,
    "start_time": "2022-01-19T10:35:13.916Z"
   },
   {
    "duration": 10,
    "start_time": "2022-01-19T10:35:14.860Z"
   },
   {
    "duration": 574,
    "start_time": "2022-01-19T10:35:14.874Z"
   },
   {
    "duration": 51,
    "start_time": "2022-01-19T10:35:15.451Z"
   },
   {
    "duration": 103,
    "start_time": "2022-01-19T10:35:15.504Z"
   },
   {
    "duration": 9,
    "start_time": "2022-01-19T10:35:15.609Z"
   },
   {
    "duration": 50,
    "start_time": "2022-01-19T10:35:15.620Z"
   },
   {
    "duration": 1276,
    "start_time": "2022-01-19T10:35:15.673Z"
   },
   {
    "duration": 23,
    "start_time": "2022-01-19T10:35:16.953Z"
   },
   {
    "duration": 10,
    "start_time": "2022-01-19T10:35:16.980Z"
   },
   {
    "duration": 14,
    "start_time": "2022-01-19T10:35:16.992Z"
   },
   {
    "duration": 15,
    "start_time": "2022-01-19T10:35:17.009Z"
   },
   {
    "duration": 49,
    "start_time": "2022-01-19T10:35:17.027Z"
   },
   {
    "duration": 7,
    "start_time": "2022-01-19T10:35:17.078Z"
   },
   {
    "duration": 13,
    "start_time": "2022-01-19T10:35:17.087Z"
   },
   {
    "duration": 17,
    "start_time": "2022-01-19T10:35:17.102Z"
   },
   {
    "duration": 11,
    "start_time": "2022-01-19T10:35:17.121Z"
   },
   {
    "duration": 40,
    "start_time": "2022-01-19T10:35:17.134Z"
   },
   {
    "duration": 20,
    "start_time": "2022-01-19T10:35:17.176Z"
   },
   {
    "duration": 11,
    "start_time": "2022-01-19T10:35:17.199Z"
   },
   {
    "duration": 15,
    "start_time": "2022-01-19T10:35:17.212Z"
   },
   {
    "duration": 10,
    "start_time": "2022-01-19T10:35:17.229Z"
   },
   {
    "duration": 10,
    "start_time": "2022-01-19T10:35:17.271Z"
   },
   {
    "duration": 353,
    "start_time": "2022-01-19T10:35:17.283Z"
   },
   {
    "duration": 56,
    "start_time": "2022-01-19T10:35:17.639Z"
   },
   {
    "duration": 16,
    "start_time": "2022-01-19T10:35:17.698Z"
   },
   {
    "duration": 49,
    "start_time": "2022-01-19T10:35:17.720Z"
   },
   {
    "duration": 14,
    "start_time": "2022-01-19T10:35:17.773Z"
   },
   {
    "duration": 22,
    "start_time": "2022-01-19T10:35:17.790Z"
   },
   {
    "duration": 419,
    "start_time": "2022-01-19T10:35:17.815Z"
   },
   {
    "duration": 9,
    "start_time": "2022-01-19T10:35:18.237Z"
   },
   {
    "duration": 22,
    "start_time": "2022-01-19T10:35:18.248Z"
   },
   {
    "duration": 16,
    "start_time": "2022-01-19T10:35:18.273Z"
   },
   {
    "duration": 11,
    "start_time": "2022-01-19T10:35:18.291Z"
   },
   {
    "duration": 652,
    "start_time": "2022-01-19T10:35:18.305Z"
   },
   {
    "duration": 156,
    "start_time": "2022-01-19T10:35:18.960Z"
   },
   {
    "duration": 25,
    "start_time": "2022-01-19T10:35:19.118Z"
   },
   {
    "duration": 31,
    "start_time": "2022-01-19T10:35:19.146Z"
   },
   {
    "duration": 19,
    "start_time": "2022-01-19T10:35:19.180Z"
   },
   {
    "duration": 12,
    "start_time": "2022-01-19T10:35:19.201Z"
   },
   {
    "duration": 13,
    "start_time": "2022-01-19T10:35:19.216Z"
   },
   {
    "duration": 44,
    "start_time": "2022-01-19T10:35:19.232Z"
   },
   {
    "duration": 418,
    "start_time": "2022-01-19T10:35:19.279Z"
   },
   {
    "duration": 195,
    "start_time": "2022-01-19T10:35:19.700Z"
   },
   {
    "duration": 17,
    "start_time": "2022-01-19T10:35:19.897Z"
   },
   {
    "duration": 416,
    "start_time": "2022-01-19T10:35:19.917Z"
   },
   {
    "duration": 46,
    "start_time": "2022-01-19T10:35:20.335Z"
   },
   {
    "duration": 19,
    "start_time": "2022-01-19T10:35:20.384Z"
   },
   {
    "duration": 22,
    "start_time": "2022-01-19T10:35:20.406Z"
   },
   {
    "duration": 41,
    "start_time": "2022-01-19T10:35:20.431Z"
   },
   {
    "duration": 12,
    "start_time": "2022-01-19T10:35:20.475Z"
   },
   {
    "duration": 528,
    "start_time": "2022-01-19T10:35:20.490Z"
   },
   {
    "duration": 13,
    "start_time": "2022-01-19T10:35:21.021Z"
   },
   {
    "duration": 96,
    "start_time": "2022-01-19T10:35:24.521Z"
   },
   {
    "duration": 52,
    "start_time": "2022-01-19T10:36:02.746Z"
   },
   {
    "duration": 51,
    "start_time": "2022-01-19T10:37:11.676Z"
   },
   {
    "duration": 93,
    "start_time": "2022-01-19T10:43:17.546Z"
   },
   {
    "duration": 93,
    "start_time": "2022-01-19T10:43:25.523Z"
   },
   {
    "duration": 48,
    "start_time": "2022-01-19T10:43:44.608Z"
   },
   {
    "duration": 48,
    "start_time": "2022-01-19T10:49:25.318Z"
   },
   {
    "duration": 6,
    "start_time": "2022-01-19T10:49:26.179Z"
   },
   {
    "duration": 8,
    "start_time": "2022-01-19T10:49:27.578Z"
   },
   {
    "duration": 9,
    "start_time": "2022-01-19T10:49:30.994Z"
   },
   {
    "duration": 30,
    "start_time": "2022-01-19T10:49:33.114Z"
   },
   {
    "duration": 8,
    "start_time": "2022-01-19T10:49:47.298Z"
   },
   {
    "duration": 18,
    "start_time": "2022-01-19T10:50:05.193Z"
   },
   {
    "duration": 364,
    "start_time": "2022-01-19T10:53:41.921Z"
   },
   {
    "duration": 7,
    "start_time": "2022-01-19T10:55:51.644Z"
   },
   {
    "duration": 12,
    "start_time": "2022-01-19T10:56:02.207Z"
   },
   {
    "duration": 12,
    "start_time": "2022-01-19T10:56:17.891Z"
   },
   {
    "duration": 11,
    "start_time": "2022-01-19T10:56:26.087Z"
   },
   {
    "duration": 2191,
    "start_time": "2022-01-19T10:56:36.338Z"
   },
   {
    "duration": 5,
    "start_time": "2022-01-19T10:56:44.349Z"
   },
   {
    "duration": 10,
    "start_time": "2022-01-19T10:57:00.217Z"
   },
   {
    "duration": 29,
    "start_time": "2022-01-19T10:57:20.303Z"
   },
   {
    "duration": 13,
    "start_time": "2022-01-19T10:57:31.800Z"
   },
   {
    "duration": 47,
    "start_time": "2022-01-19T10:58:15.712Z"
   },
   {
    "duration": 49,
    "start_time": "2022-01-19T10:58:33.922Z"
   },
   {
    "duration": 10,
    "start_time": "2022-01-19T10:58:52.374Z"
   },
   {
    "duration": 7,
    "start_time": "2022-01-19T10:59:02.419Z"
   },
   {
    "duration": 31,
    "start_time": "2022-01-19T10:59:02.984Z"
   },
   {
    "duration": 6,
    "start_time": "2022-01-19T11:00:07.184Z"
   },
   {
    "duration": 8,
    "start_time": "2022-01-19T11:00:09.071Z"
   },
   {
    "duration": 6,
    "start_time": "2022-01-19T11:01:52.082Z"
   },
   {
    "duration": 10,
    "start_time": "2022-01-19T11:01:55.991Z"
   },
   {
    "duration": 107,
    "start_time": "2022-01-19T11:02:24.018Z"
   },
   {
    "duration": 11,
    "start_time": "2022-01-19T11:02:36.447Z"
   },
   {
    "duration": 10,
    "start_time": "2022-01-19T11:09:10.211Z"
   },
   {
    "duration": 10,
    "start_time": "2022-01-19T11:10:47.330Z"
   },
   {
    "duration": 344,
    "start_time": "2022-01-19T11:10:48.199Z"
   },
   {
    "duration": 29,
    "start_time": "2022-01-19T11:10:55.667Z"
   },
   {
    "duration": 300,
    "start_time": "2022-01-19T11:20:23.658Z"
   },
   {
    "duration": 625,
    "start_time": "2022-01-19T11:20:36.909Z"
   },
   {
    "duration": 234,
    "start_time": "2022-01-19T11:20:46.981Z"
   },
   {
    "duration": 302,
    "start_time": "2022-01-19T11:20:49.801Z"
   },
   {
    "duration": 20,
    "start_time": "2022-01-19T11:20:54.717Z"
   },
   {
    "duration": 20,
    "start_time": "2022-01-19T11:21:31.176Z"
   },
   {
    "duration": 10,
    "start_time": "2022-01-19T11:21:32.005Z"
   },
   {
    "duration": 1545,
    "start_time": "2022-01-19T11:28:11.872Z"
   },
   {
    "duration": 50,
    "start_time": "2022-01-19T11:28:43.228Z"
   },
   {
    "duration": 48,
    "start_time": "2022-01-19T11:29:06.294Z"
   },
   {
    "duration": 6,
    "start_time": "2022-01-19T11:29:11.950Z"
   },
   {
    "duration": 17,
    "start_time": "2022-01-19T11:29:13.136Z"
   },
   {
    "duration": 6,
    "start_time": "2022-01-19T11:29:16.174Z"
   },
   {
    "duration": 32,
    "start_time": "2022-01-19T11:29:18.001Z"
   },
   {
    "duration": 6,
    "start_time": "2022-01-19T11:29:21.013Z"
   },
   {
    "duration": 8,
    "start_time": "2022-01-19T11:29:21.567Z"
   },
   {
    "duration": 7,
    "start_time": "2022-01-19T11:29:24.094Z"
   },
   {
    "duration": 11,
    "start_time": "2022-01-19T11:29:24.645Z"
   },
   {
    "duration": 8,
    "start_time": "2022-01-19T11:29:27.941Z"
   },
   {
    "duration": 21,
    "start_time": "2022-01-19T11:29:29.962Z"
   },
   {
    "duration": 294,
    "start_time": "2022-01-19T11:29:56.313Z"
   },
   {
    "duration": 24,
    "start_time": "2022-01-19T11:29:57.252Z"
   },
   {
    "duration": 10,
    "start_time": "2022-01-19T11:30:04.390Z"
   },
   {
    "duration": 324,
    "start_time": "2022-01-19T11:30:05.065Z"
   },
   {
    "duration": 375,
    "start_time": "2022-01-19T11:31:50.695Z"
   },
   {
    "duration": 30,
    "start_time": "2022-01-19T11:32:04.397Z"
   },
   {
    "duration": 5,
    "start_time": "2022-01-19T11:32:18.114Z"
   },
   {
    "duration": 308,
    "start_time": "2022-01-19T11:32:28.472Z"
   },
   {
    "duration": 317,
    "start_time": "2022-01-19T11:32:53.175Z"
   },
   {
    "duration": 312,
    "start_time": "2022-01-19T11:33:10.678Z"
   },
   {
    "duration": 382,
    "start_time": "2022-01-19T11:33:17.783Z"
   },
   {
    "duration": 312,
    "start_time": "2022-01-19T11:34:07.219Z"
   },
   {
    "duration": 27,
    "start_time": "2022-01-19T11:34:14.692Z"
   },
   {
    "duration": 3,
    "start_time": "2022-01-19T11:34:14.722Z"
   },
   {
    "duration": 601,
    "start_time": "2022-01-19T11:34:14.730Z"
   },
   {
    "duration": 44,
    "start_time": "2022-01-19T11:34:15.334Z"
   },
   {
    "duration": 103,
    "start_time": "2022-01-19T11:34:15.381Z"
   },
   {
    "duration": 11,
    "start_time": "2022-01-19T11:34:15.487Z"
   },
   {
    "duration": 26,
    "start_time": "2022-01-19T11:34:15.501Z"
   },
   {
    "duration": 1162,
    "start_time": "2022-01-19T11:34:15.532Z"
   },
   {
    "duration": 14,
    "start_time": "2022-01-19T11:34:16.698Z"
   },
   {
    "duration": 12,
    "start_time": "2022-01-19T11:34:16.714Z"
   },
   {
    "duration": 42,
    "start_time": "2022-01-19T11:34:16.729Z"
   },
   {
    "duration": 8,
    "start_time": "2022-01-19T11:34:16.774Z"
   },
   {
    "duration": 17,
    "start_time": "2022-01-19T11:34:16.785Z"
   },
   {
    "duration": 9,
    "start_time": "2022-01-19T11:34:16.804Z"
   },
   {
    "duration": 9,
    "start_time": "2022-01-19T11:34:16.816Z"
   },
   {
    "duration": 51,
    "start_time": "2022-01-19T11:34:16.827Z"
   },
   {
    "duration": 13,
    "start_time": "2022-01-19T11:34:16.880Z"
   },
   {
    "duration": 13,
    "start_time": "2022-01-19T11:34:16.895Z"
   },
   {
    "duration": 16,
    "start_time": "2022-01-19T11:34:16.910Z"
   },
   {
    "duration": 40,
    "start_time": "2022-01-19T11:34:16.929Z"
   },
   {
    "duration": 12,
    "start_time": "2022-01-19T11:34:16.972Z"
   },
   {
    "duration": 8,
    "start_time": "2022-01-19T11:34:16.992Z"
   },
   {
    "duration": 9,
    "start_time": "2022-01-19T11:34:17.004Z"
   },
   {
    "duration": 389,
    "start_time": "2022-01-19T11:34:17.016Z"
   },
   {
    "duration": 40,
    "start_time": "2022-01-19T11:34:17.408Z"
   },
   {
    "duration": 32,
    "start_time": "2022-01-19T11:34:17.451Z"
   },
   {
    "duration": 30,
    "start_time": "2022-01-19T11:34:17.486Z"
   },
   {
    "duration": 13,
    "start_time": "2022-01-19T11:34:17.519Z"
   },
   {
    "duration": 20,
    "start_time": "2022-01-19T11:34:17.569Z"
   },
   {
    "duration": 411,
    "start_time": "2022-01-19T11:34:17.591Z"
   },
   {
    "duration": 10,
    "start_time": "2022-01-19T11:34:18.005Z"
   },
   {
    "duration": 6,
    "start_time": "2022-01-19T11:34:18.018Z"
   },
   {
    "duration": 49,
    "start_time": "2022-01-19T11:34:18.026Z"
   },
   {
    "duration": 11,
    "start_time": "2022-01-19T11:34:18.078Z"
   },
   {
    "duration": 654,
    "start_time": "2022-01-19T11:34:18.092Z"
   },
   {
    "duration": 156,
    "start_time": "2022-01-19T11:34:18.748Z"
   },
   {
    "duration": 24,
    "start_time": "2022-01-19T11:34:18.907Z"
   },
   {
    "duration": 12,
    "start_time": "2022-01-19T11:34:18.934Z"
   },
   {
    "duration": 20,
    "start_time": "2022-01-19T11:34:18.970Z"
   },
   {
    "duration": 14,
    "start_time": "2022-01-19T11:34:18.992Z"
   },
   {
    "duration": 13,
    "start_time": "2022-01-19T11:34:19.009Z"
   },
   {
    "duration": 9,
    "start_time": "2022-01-19T11:34:19.024Z"
   },
   {
    "duration": 421,
    "start_time": "2022-01-19T11:34:19.070Z"
   },
   {
    "duration": 179,
    "start_time": "2022-01-19T11:34:19.494Z"
   },
   {
    "duration": 20,
    "start_time": "2022-01-19T11:34:19.676Z"
   },
   {
    "duration": 416,
    "start_time": "2022-01-19T11:34:19.699Z"
   },
   {
    "duration": 32,
    "start_time": "2022-01-19T11:34:20.117Z"
   },
   {
    "duration": 28,
    "start_time": "2022-01-19T11:34:20.151Z"
   },
   {
    "duration": 27,
    "start_time": "2022-01-19T11:34:20.181Z"
   },
   {
    "duration": 13,
    "start_time": "2022-01-19T11:34:20.210Z"
   },
   {
    "duration": 13,
    "start_time": "2022-01-19T11:34:20.226Z"
   },
   {
    "duration": 627,
    "start_time": "2022-01-19T11:34:20.271Z"
   },
   {
    "duration": 14,
    "start_time": "2022-01-19T11:34:20.901Z"
   },
   {
    "duration": 131,
    "start_time": "2022-01-19T11:34:20.917Z"
   },
   {
    "duration": 75,
    "start_time": "2022-01-19T11:34:21.051Z"
   },
   {
    "duration": 82,
    "start_time": "2022-01-19T11:34:21.129Z"
   },
   {
    "duration": 62,
    "start_time": "2022-01-19T11:34:21.213Z"
   },
   {
    "duration": 6,
    "start_time": "2022-01-19T11:34:21.277Z"
   },
   {
    "duration": 12,
    "start_time": "2022-01-19T11:34:21.285Z"
   },
   {
    "duration": 6,
    "start_time": "2022-01-19T11:34:21.299Z"
   },
   {
    "duration": 68,
    "start_time": "2022-01-19T11:34:21.308Z"
   },
   {
    "duration": 6,
    "start_time": "2022-01-19T11:34:21.378Z"
   },
   {
    "duration": 11,
    "start_time": "2022-01-19T11:34:21.388Z"
   },
   {
    "duration": 6,
    "start_time": "2022-01-19T11:34:21.406Z"
   },
   {
    "duration": 13,
    "start_time": "2022-01-19T11:34:21.415Z"
   },
   {
    "duration": 9,
    "start_time": "2022-01-19T11:34:21.470Z"
   },
   {
    "duration": 30,
    "start_time": "2022-01-19T11:34:21.482Z"
   },
   {
    "duration": 190,
    "start_time": "2022-01-19T11:34:21.515Z"
   },
   {
    "duration": 26,
    "start_time": "2022-01-19T11:34:21.707Z"
   },
   {
    "duration": 35,
    "start_time": "2022-01-19T11:34:21.736Z"
   },
   {
    "duration": 11,
    "start_time": "2022-01-19T11:34:25.043Z"
   },
   {
    "duration": 20,
    "start_time": "2022-01-19T11:34:25.679Z"
   },
   {
    "duration": 297,
    "start_time": "2022-01-19T11:35:56.021Z"
   },
   {
    "duration": 30,
    "start_time": "2022-01-19T11:36:07.150Z"
   },
   {
    "duration": 3,
    "start_time": "2022-01-19T11:36:07.183Z"
   },
   {
    "duration": 639,
    "start_time": "2022-01-19T11:36:07.190Z"
   },
   {
    "duration": 47,
    "start_time": "2022-01-19T11:36:07.832Z"
   },
   {
    "duration": 103,
    "start_time": "2022-01-19T11:36:07.881Z"
   },
   {
    "duration": 9,
    "start_time": "2022-01-19T11:36:07.987Z"
   },
   {
    "duration": 18,
    "start_time": "2022-01-19T11:36:07.999Z"
   },
   {
    "duration": 1169,
    "start_time": "2022-01-19T11:36:08.020Z"
   },
   {
    "duration": 14,
    "start_time": "2022-01-19T11:36:09.193Z"
   },
   {
    "duration": 12,
    "start_time": "2022-01-19T11:36:09.209Z"
   },
   {
    "duration": 14,
    "start_time": "2022-01-19T11:36:09.224Z"
   },
   {
    "duration": 34,
    "start_time": "2022-01-19T11:36:09.241Z"
   },
   {
    "duration": 20,
    "start_time": "2022-01-19T11:36:09.278Z"
   },
   {
    "duration": 11,
    "start_time": "2022-01-19T11:36:09.302Z"
   },
   {
    "duration": 12,
    "start_time": "2022-01-19T11:36:09.316Z"
   },
   {
    "duration": 41,
    "start_time": "2022-01-19T11:36:09.331Z"
   },
   {
    "duration": 12,
    "start_time": "2022-01-19T11:36:09.375Z"
   },
   {
    "duration": 14,
    "start_time": "2022-01-19T11:36:09.391Z"
   },
   {
    "duration": 17,
    "start_time": "2022-01-19T11:36:09.408Z"
   },
   {
    "duration": 51,
    "start_time": "2022-01-19T11:36:09.427Z"
   },
   {
    "duration": 11,
    "start_time": "2022-01-19T11:36:09.480Z"
   },
   {
    "duration": 8,
    "start_time": "2022-01-19T11:36:09.497Z"
   },
   {
    "duration": 13,
    "start_time": "2022-01-19T11:36:09.509Z"
   },
   {
    "duration": 419,
    "start_time": "2022-01-19T11:36:09.524Z"
   },
   {
    "duration": 53,
    "start_time": "2022-01-19T11:36:09.945Z"
   },
   {
    "duration": 16,
    "start_time": "2022-01-19T11:36:10.000Z"
   },
   {
    "duration": 53,
    "start_time": "2022-01-19T11:36:10.019Z"
   },
   {
    "duration": 13,
    "start_time": "2022-01-19T11:36:10.075Z"
   },
   {
    "duration": 25,
    "start_time": "2022-01-19T11:36:10.091Z"
   },
   {
    "duration": 440,
    "start_time": "2022-01-19T11:36:10.119Z"
   },
   {
    "duration": 15,
    "start_time": "2022-01-19T11:36:10.561Z"
   },
   {
    "duration": 5,
    "start_time": "2022-01-19T11:36:10.579Z"
   },
   {
    "duration": 14,
    "start_time": "2022-01-19T11:36:10.587Z"
   },
   {
    "duration": 11,
    "start_time": "2022-01-19T11:36:10.604Z"
   },
   {
    "duration": 769,
    "start_time": "2022-01-19T11:36:10.618Z"
   },
   {
    "duration": 171,
    "start_time": "2022-01-19T11:36:11.389Z"
   },
   {
    "duration": 30,
    "start_time": "2022-01-19T11:36:11.563Z"
   },
   {
    "duration": 13,
    "start_time": "2022-01-19T11:36:11.595Z"
   },
   {
    "duration": 20,
    "start_time": "2022-01-19T11:36:11.611Z"
   },
   {
    "duration": 42,
    "start_time": "2022-01-19T11:36:11.633Z"
   },
   {
    "duration": 15,
    "start_time": "2022-01-19T11:36:11.678Z"
   },
   {
    "duration": 12,
    "start_time": "2022-01-19T11:36:11.696Z"
   },
   {
    "duration": 743,
    "start_time": "2022-01-19T11:36:11.711Z"
   },
   {
    "duration": 255,
    "start_time": "2022-01-19T11:36:12.457Z"
   },
   {
    "duration": 19,
    "start_time": "2022-01-19T11:36:12.715Z"
   },
   {
    "duration": 423,
    "start_time": "2022-01-19T11:36:12.737Z"
   },
   {
    "duration": 42,
    "start_time": "2022-01-19T11:36:13.170Z"
   },
   {
    "duration": 18,
    "start_time": "2022-01-19T11:36:13.215Z"
   },
   {
    "duration": 53,
    "start_time": "2022-01-19T11:36:13.236Z"
   },
   {
    "duration": 15,
    "start_time": "2022-01-19T11:36:13.292Z"
   },
   {
    "duration": 12,
    "start_time": "2022-01-19T11:36:13.309Z"
   },
   {
    "duration": 554,
    "start_time": "2022-01-19T11:36:13.323Z"
   },
   {
    "duration": 12,
    "start_time": "2022-01-19T11:36:13.879Z"
   },
   {
    "duration": 125,
    "start_time": "2022-01-19T11:36:13.893Z"
   },
   {
    "duration": 64,
    "start_time": "2022-01-19T11:36:14.020Z"
   },
   {
    "duration": 53,
    "start_time": "2022-01-19T11:36:14.087Z"
   },
   {
    "duration": 81,
    "start_time": "2022-01-19T11:36:14.142Z"
   },
   {
    "duration": 6,
    "start_time": "2022-01-19T11:36:14.225Z"
   },
   {
    "duration": 37,
    "start_time": "2022-01-19T11:36:14.234Z"
   },
   {
    "duration": 6,
    "start_time": "2022-01-19T11:36:14.274Z"
   },
   {
    "duration": 34,
    "start_time": "2022-01-19T11:36:14.282Z"
   },
   {
    "duration": 7,
    "start_time": "2022-01-19T11:36:14.318Z"
   },
   {
    "duration": 50,
    "start_time": "2022-01-19T11:36:14.327Z"
   },
   {
    "duration": 7,
    "start_time": "2022-01-19T11:36:14.383Z"
   },
   {
    "duration": 16,
    "start_time": "2022-01-19T11:36:14.392Z"
   },
   {
    "duration": 8,
    "start_time": "2022-01-19T11:36:14.411Z"
   },
   {
    "duration": 63,
    "start_time": "2022-01-19T11:36:14.422Z"
   },
   {
    "duration": 202,
    "start_time": "2022-01-19T11:36:14.488Z"
   },
   {
    "duration": 20,
    "start_time": "2022-01-19T11:36:14.693Z"
   },
   {
    "duration": 15,
    "start_time": "2022-01-19T11:36:14.716Z"
   },
   {
    "duration": 11,
    "start_time": "2022-01-19T11:36:17.782Z"
   },
   {
    "duration": 19,
    "start_time": "2022-01-19T11:36:18.445Z"
   },
   {
    "duration": 27,
    "start_time": "2022-01-19T12:57:32.142Z"
   },
   {
    "duration": 347,
    "start_time": "2022-01-19T13:03:55.949Z"
   },
   {
    "duration": 502,
    "start_time": "2022-01-19T13:04:08.798Z"
   },
   {
    "duration": 341,
    "start_time": "2022-01-19T13:05:32.072Z"
   },
   {
    "duration": 417,
    "start_time": "2022-01-19T13:05:38.735Z"
   },
   {
    "duration": 360,
    "start_time": "2022-01-19T13:05:55.133Z"
   },
   {
    "duration": 99,
    "start_time": "2022-01-19T13:06:38.672Z"
   },
   {
    "duration": 843,
    "start_time": "2022-01-19T13:07:05.443Z"
   },
   {
    "duration": 107,
    "start_time": "2022-01-19T13:10:13.402Z"
   },
   {
    "duration": 573,
    "start_time": "2022-01-19T13:26:31.472Z"
   },
   {
    "duration": 735,
    "start_time": "2022-01-19T13:26:53.155Z"
   },
   {
    "duration": 9,
    "start_time": "2022-01-19T13:27:37.227Z"
   },
   {
    "duration": 412,
    "start_time": "2022-01-19T13:28:39.520Z"
   },
   {
    "duration": 556,
    "start_time": "2022-01-19T13:29:19.591Z"
   },
   {
    "duration": 519,
    "start_time": "2022-01-19T13:29:27.719Z"
   },
   {
    "duration": 422,
    "start_time": "2022-01-19T13:29:36.426Z"
   },
   {
    "duration": 413,
    "start_time": "2022-01-19T13:30:03.956Z"
   },
   {
    "duration": 573,
    "start_time": "2022-01-19T13:30:30.028Z"
   },
   {
    "duration": 395,
    "start_time": "2022-01-19T13:30:37.247Z"
   },
   {
    "duration": 387,
    "start_time": "2022-01-19T13:30:54.701Z"
   },
   {
    "duration": 4,
    "start_time": "2022-01-19T13:31:02.163Z"
   },
   {
    "duration": 4,
    "start_time": "2022-01-19T13:31:02.174Z"
   },
   {
    "duration": 577,
    "start_time": "2022-01-19T13:31:02.182Z"
   },
   {
    "duration": 46,
    "start_time": "2022-01-19T13:31:02.762Z"
   },
   {
    "duration": 113,
    "start_time": "2022-01-19T13:31:02.811Z"
   },
   {
    "duration": 47,
    "start_time": "2022-01-19T13:31:02.927Z"
   },
   {
    "duration": 14,
    "start_time": "2022-01-19T13:31:02.977Z"
   },
   {
    "duration": 1126,
    "start_time": "2022-01-19T13:31:02.994Z"
   },
   {
    "duration": 15,
    "start_time": "2022-01-19T13:31:04.123Z"
   },
   {
    "duration": 29,
    "start_time": "2022-01-19T13:31:04.142Z"
   },
   {
    "duration": 16,
    "start_time": "2022-01-19T13:31:04.174Z"
   },
   {
    "duration": 12,
    "start_time": "2022-01-19T13:31:04.192Z"
   },
   {
    "duration": 17,
    "start_time": "2022-01-19T13:31:04.206Z"
   },
   {
    "duration": 8,
    "start_time": "2022-01-19T13:31:04.226Z"
   },
   {
    "duration": 33,
    "start_time": "2022-01-19T13:31:04.236Z"
   },
   {
    "duration": 14,
    "start_time": "2022-01-19T13:31:04.272Z"
   },
   {
    "duration": 8,
    "start_time": "2022-01-19T13:31:04.289Z"
   },
   {
    "duration": 10,
    "start_time": "2022-01-19T13:31:04.300Z"
   },
   {
    "duration": 13,
    "start_time": "2022-01-19T13:31:04.313Z"
   },
   {
    "duration": 50,
    "start_time": "2022-01-19T13:31:04.328Z"
   },
   {
    "duration": 11,
    "start_time": "2022-01-19T13:31:04.380Z"
   },
   {
    "duration": 9,
    "start_time": "2022-01-19T13:31:04.393Z"
   },
   {
    "duration": 17,
    "start_time": "2022-01-19T13:31:04.404Z"
   },
   {
    "duration": 355,
    "start_time": "2022-01-19T13:31:04.423Z"
   },
   {
    "duration": 41,
    "start_time": "2022-01-19T13:31:04.785Z"
   },
   {
    "duration": 15,
    "start_time": "2022-01-19T13:31:04.830Z"
   },
   {
    "duration": 28,
    "start_time": "2022-01-19T13:31:04.870Z"
   },
   {
    "duration": 12,
    "start_time": "2022-01-19T13:31:04.901Z"
   },
   {
    "duration": 25,
    "start_time": "2022-01-19T13:31:04.916Z"
   },
   {
    "duration": 404,
    "start_time": "2022-01-19T13:31:04.970Z"
   },
   {
    "duration": 9,
    "start_time": "2022-01-19T13:31:05.376Z"
   },
   {
    "duration": 4,
    "start_time": "2022-01-19T13:31:05.388Z"
   },
   {
    "duration": 21,
    "start_time": "2022-01-19T13:31:05.394Z"
   },
   {
    "duration": 10,
    "start_time": "2022-01-19T13:31:05.417Z"
   },
   {
    "duration": 723,
    "start_time": "2022-01-19T13:31:05.430Z"
   },
   {
    "duration": 153,
    "start_time": "2022-01-19T13:31:06.156Z"
   },
   {
    "duration": 27,
    "start_time": "2022-01-19T13:31:06.311Z"
   },
   {
    "duration": 29,
    "start_time": "2022-01-19T13:31:06.341Z"
   },
   {
    "duration": 19,
    "start_time": "2022-01-19T13:31:06.373Z"
   },
   {
    "duration": 146,
    "start_time": "2022-01-19T13:31:06.394Z"
   },
   {
    "duration": 29,
    "start_time": "2022-01-19T13:31:06.542Z"
   },
   {
    "duration": 10,
    "start_time": "2022-01-19T13:31:06.573Z"
   },
   {
    "duration": 428,
    "start_time": "2022-01-19T13:31:06.585Z"
   },
   {
    "duration": 178,
    "start_time": "2022-01-19T13:31:07.016Z"
   },
   {
    "duration": 17,
    "start_time": "2022-01-19T13:31:07.196Z"
   },
   {
    "duration": 417,
    "start_time": "2022-01-19T13:31:07.215Z"
   },
   {
    "duration": 48,
    "start_time": "2022-01-19T13:31:07.634Z"
   },
   {
    "duration": 14,
    "start_time": "2022-01-19T13:31:07.685Z"
   },
   {
    "duration": 22,
    "start_time": "2022-01-19T13:31:07.702Z"
   },
   {
    "duration": 13,
    "start_time": "2022-01-19T13:31:07.726Z"
   },
   {
    "duration": 10,
    "start_time": "2022-01-19T13:31:07.769Z"
   },
   {
    "duration": 498,
    "start_time": "2022-01-19T13:31:07.781Z"
   },
   {
    "duration": 12,
    "start_time": "2022-01-19T13:31:08.282Z"
   },
   {
    "duration": 120,
    "start_time": "2022-01-19T13:31:08.296Z"
   },
   {
    "duration": 61,
    "start_time": "2022-01-19T13:31:08.418Z"
   },
   {
    "duration": 44,
    "start_time": "2022-01-19T13:31:08.481Z"
   },
   {
    "duration": 77,
    "start_time": "2022-01-19T13:31:08.527Z"
   },
   {
    "duration": 5,
    "start_time": "2022-01-19T13:31:08.606Z"
   },
   {
    "duration": 10,
    "start_time": "2022-01-19T13:31:08.614Z"
   },
   {
    "duration": 5,
    "start_time": "2022-01-19T13:31:08.627Z"
   },
   {
    "duration": 60,
    "start_time": "2022-01-19T13:31:08.634Z"
   },
   {
    "duration": 6,
    "start_time": "2022-01-19T13:31:08.696Z"
   },
   {
    "duration": 11,
    "start_time": "2022-01-19T13:31:08.706Z"
   },
   {
    "duration": 6,
    "start_time": "2022-01-19T13:31:08.719Z"
   },
   {
    "duration": 49,
    "start_time": "2022-01-19T13:31:08.727Z"
   },
   {
    "duration": 9,
    "start_time": "2022-01-19T13:31:08.778Z"
   },
   {
    "duration": 27,
    "start_time": "2022-01-19T13:31:08.789Z"
   },
   {
    "duration": 197,
    "start_time": "2022-01-19T13:31:08.819Z"
   },
   {
    "duration": 27,
    "start_time": "2022-01-19T13:31:09.018Z"
   },
   {
    "duration": 10,
    "start_time": "2022-01-19T13:31:09.069Z"
   },
   {
    "duration": 23,
    "start_time": "2022-01-19T13:31:09.082Z"
   },
   {
    "duration": 34,
    "start_time": "2022-01-19T13:31:09.107Z"
   },
   {
    "duration": 26,
    "start_time": "2022-01-19T13:31:09.143Z"
   },
   {
    "duration": 407,
    "start_time": "2022-01-19T13:31:09.172Z"
   },
   {
    "duration": 395,
    "start_time": "2022-01-19T13:31:42.288Z"
   },
   {
    "duration": 402,
    "start_time": "2022-01-19T13:32:07.945Z"
   },
   {
    "duration": 314,
    "start_time": "2022-01-19T13:32:40.253Z"
   },
   {
    "duration": 305,
    "start_time": "2022-01-19T13:32:55.558Z"
   },
   {
    "duration": 398,
    "start_time": "2022-01-19T13:33:03.220Z"
   },
   {
    "duration": 658,
    "start_time": "2022-01-19T13:33:55.479Z"
   },
   {
    "duration": 410,
    "start_time": "2022-01-19T13:34:32.904Z"
   },
   {
    "duration": 721,
    "start_time": "2022-01-19T13:34:46.676Z"
   },
   {
    "duration": 6,
    "start_time": "2022-01-19T13:36:16.220Z"
   },
   {
    "duration": 123,
    "start_time": "2022-01-19T13:38:09.864Z"
   },
   {
    "duration": 7,
    "start_time": "2022-01-19T13:38:26.773Z"
   },
   {
    "duration": 7,
    "start_time": "2022-01-19T13:38:27.382Z"
   },
   {
    "duration": 397,
    "start_time": "2022-01-19T13:38:27.922Z"
   },
   {
    "duration": 408,
    "start_time": "2022-01-19T13:38:38.398Z"
   },
   {
    "duration": 732,
    "start_time": "2022-01-19T13:38:44.334Z"
   },
   {
    "duration": 398,
    "start_time": "2022-01-19T13:39:07.031Z"
   },
   {
    "duration": 432,
    "start_time": "2022-01-19T13:40:15.509Z"
   },
   {
    "duration": 416,
    "start_time": "2022-01-19T13:40:23.441Z"
   },
   {
    "duration": 197,
    "start_time": "2022-01-19T13:42:22.036Z"
   },
   {
    "duration": 565,
    "start_time": "2022-01-19T13:45:34.073Z"
   },
   {
    "duration": 400,
    "start_time": "2022-01-19T13:45:59.738Z"
   },
   {
    "duration": 414,
    "start_time": "2022-01-19T13:49:13.186Z"
   },
   {
    "duration": 405,
    "start_time": "2022-01-19T13:49:19.328Z"
   },
   {
    "duration": 404,
    "start_time": "2022-01-19T13:49:25.555Z"
   },
   {
    "duration": 496,
    "start_time": "2022-01-19T13:49:32.550Z"
   },
   {
    "duration": 316,
    "start_time": "2022-01-19T13:51:07.161Z"
   },
   {
    "duration": 419,
    "start_time": "2022-01-19T13:51:17.110Z"
   },
   {
    "duration": 527,
    "start_time": "2022-01-19T13:51:26.181Z"
   },
   {
    "duration": 473,
    "start_time": "2022-01-19T13:52:12.198Z"
   },
   {
    "duration": 352,
    "start_time": "2022-01-19T13:52:22.369Z"
   },
   {
    "duration": 443,
    "start_time": "2022-01-19T13:52:30.553Z"
   },
   {
    "duration": 485,
    "start_time": "2022-01-19T13:54:11.565Z"
   },
   {
    "duration": 467,
    "start_time": "2022-01-19T13:54:22.416Z"
   },
   {
    "duration": 467,
    "start_time": "2022-01-19T13:54:40.152Z"
   },
   {
    "duration": 472,
    "start_time": "2022-01-19T13:54:45.550Z"
   },
   {
    "duration": 563,
    "start_time": "2022-01-19T13:54:51.516Z"
   },
   {
    "duration": 475,
    "start_time": "2022-01-19T13:55:03.939Z"
   },
   {
    "duration": 487,
    "start_time": "2022-01-19T13:55:09.682Z"
   },
   {
    "duration": 578,
    "start_time": "2022-01-19T13:55:18.648Z"
   },
   {
    "duration": 483,
    "start_time": "2022-01-19T13:55:25.819Z"
   },
   {
    "duration": 1069,
    "start_time": "2022-01-19T13:57:28.948Z"
   },
   {
    "duration": 825,
    "start_time": "2022-01-19T14:01:16.229Z"
   },
   {
    "duration": 435,
    "start_time": "2022-01-19T14:01:38.368Z"
   },
   {
    "duration": 808,
    "start_time": "2022-01-19T14:10:57.845Z"
   },
   {
    "duration": 800,
    "start_time": "2022-01-19T14:11:22.833Z"
   },
   {
    "duration": 733,
    "start_time": "2022-01-19T14:12:10.883Z"
   },
   {
    "duration": 502,
    "start_time": "2022-01-19T14:12:35.646Z"
   },
   {
    "duration": 99,
    "start_time": "2022-01-19T14:16:29.869Z"
   },
   {
    "duration": 32,
    "start_time": "2022-01-19T14:16:41.440Z"
   },
   {
    "duration": 33,
    "start_time": "2022-01-19T14:18:27.745Z"
   },
   {
    "duration": 7,
    "start_time": "2022-01-19T14:18:30.500Z"
   },
   {
    "duration": 7,
    "start_time": "2022-01-19T14:18:31.403Z"
   },
   {
    "duration": 8318,
    "start_time": "2022-01-19T14:18:32.201Z"
   },
   {
    "duration": 17,
    "start_time": "2022-01-19T14:19:08.773Z"
   },
   {
    "duration": 27,
    "start_time": "2022-01-19T14:19:42.453Z"
   },
   {
    "duration": 58,
    "start_time": "2022-01-19T14:20:29.199Z"
   },
   {
    "duration": 47,
    "start_time": "2022-01-19T14:20:41.169Z"
   },
   {
    "duration": 7,
    "start_time": "2022-01-19T14:20:45.112Z"
   },
   {
    "duration": 7722,
    "start_time": "2022-01-19T14:20:46.237Z"
   },
   {
    "duration": 46,
    "start_time": "2022-01-19T14:21:13.916Z"
   },
   {
    "duration": 330,
    "start_time": "2022-01-19T14:21:22.794Z"
   },
   {
    "duration": 28,
    "start_time": "2022-01-19T14:22:10.598Z"
   },
   {
    "duration": 228,
    "start_time": "2022-01-19T14:22:26.624Z"
   },
   {
    "duration": 33,
    "start_time": "2022-01-19T14:22:33.099Z"
   },
   {
    "duration": 35,
    "start_time": "2022-01-19T14:23:06.326Z"
   },
   {
    "duration": 17,
    "start_time": "2022-01-19T14:24:03.708Z"
   },
   {
    "duration": 7,
    "start_time": "2022-01-19T14:24:08.934Z"
   },
   {
    "duration": 558,
    "start_time": "2022-01-19T14:24:11.096Z"
   },
   {
    "duration": 36,
    "start_time": "2022-01-19T14:25:36.066Z"
   },
   {
    "duration": 20,
    "start_time": "2022-01-19T14:25:39.084Z"
   },
   {
    "duration": 8,
    "start_time": "2022-01-19T14:25:41.367Z"
   },
   {
    "duration": 7839,
    "start_time": "2022-01-19T14:25:43.363Z"
   },
   {
    "duration": 35,
    "start_time": "2022-01-19T14:26:17.164Z"
   },
   {
    "duration": 37,
    "start_time": "2022-01-19T14:26:21.888Z"
   },
   {
    "duration": 27,
    "start_time": "2022-01-19T14:26:24.488Z"
   },
   {
    "duration": 10,
    "start_time": "2022-01-19T14:26:25.445Z"
   },
   {
    "duration": 579,
    "start_time": "2022-01-19T14:26:26.408Z"
   },
   {
    "duration": 505,
    "start_time": "2022-01-19T14:27:05.434Z"
   },
   {
    "duration": 107,
    "start_time": "2022-01-19T14:35:45.901Z"
   },
   {
    "duration": 425,
    "start_time": "2022-01-19T14:36:10.835Z"
   },
   {
    "duration": 107,
    "start_time": "2022-01-19T14:36:31.437Z"
   },
   {
    "duration": 107,
    "start_time": "2022-01-19T14:36:40.890Z"
   },
   {
    "duration": 176,
    "start_time": "2022-01-19T14:36:48.280Z"
   },
   {
    "duration": 412,
    "start_time": "2022-01-19T14:36:56.762Z"
   },
   {
    "duration": 8406,
    "start_time": "2022-01-19T14:38:40.613Z"
   },
   {
    "duration": 536,
    "start_time": "2022-01-19T14:39:24.969Z"
   },
   {
    "duration": 333,
    "start_time": "2022-01-19T14:42:12.785Z"
   },
   {
    "duration": 394,
    "start_time": "2022-01-19T14:42:23.584Z"
   },
   {
    "duration": 751,
    "start_time": "2022-01-19T14:42:34.988Z"
   },
   {
    "duration": 118,
    "start_time": "2022-01-19T14:43:18.805Z"
   },
   {
    "duration": 592,
    "start_time": "2022-01-19T14:43:29.189Z"
   },
   {
    "duration": 631,
    "start_time": "2022-01-19T14:43:41.355Z"
   },
   {
    "duration": 589,
    "start_time": "2022-01-19T14:43:56.683Z"
   },
   {
    "duration": 108,
    "start_time": "2022-01-19T14:44:14.064Z"
   },
   {
    "duration": 114,
    "start_time": "2022-01-19T14:44:21.834Z"
   },
   {
    "duration": 596,
    "start_time": "2022-01-19T14:45:13.906Z"
   },
   {
    "duration": 1063,
    "start_time": "2022-01-19T14:45:59.594Z"
   },
   {
    "duration": 586,
    "start_time": "2022-01-19T14:46:08.364Z"
   },
   {
    "duration": 677,
    "start_time": "2022-01-19T14:46:17.736Z"
   },
   {
    "duration": 304,
    "start_time": "2022-01-19T14:47:29.340Z"
   },
   {
    "duration": 600,
    "start_time": "2022-01-19T14:47:44.601Z"
   },
   {
    "duration": 723,
    "start_time": "2022-01-19T14:48:05.102Z"
   },
   {
    "duration": 36,
    "start_time": "2022-01-19T14:48:15.729Z"
   },
   {
    "duration": 808,
    "start_time": "2022-01-19T14:48:35.814Z"
   },
   {
    "duration": 661,
    "start_time": "2022-01-19T14:50:28.850Z"
   },
   {
    "duration": 584,
    "start_time": "2022-01-19T14:50:54.394Z"
   },
   {
    "duration": 688,
    "start_time": "2022-01-19T14:51:04.243Z"
   },
   {
    "duration": 565,
    "start_time": "2022-01-19T14:51:10.118Z"
   },
   {
    "duration": 664,
    "start_time": "2022-01-19T14:51:20.287Z"
   },
   {
    "duration": 650,
    "start_time": "2022-01-19T14:51:29.809Z"
   },
   {
    "duration": 582,
    "start_time": "2022-01-19T14:51:36.077Z"
   },
   {
    "duration": 706,
    "start_time": "2022-01-19T14:51:42.095Z"
   },
   {
    "duration": 599,
    "start_time": "2022-01-19T14:51:47.786Z"
   },
   {
    "duration": 581,
    "start_time": "2022-01-19T14:51:57.161Z"
   },
   {
    "duration": 34,
    "start_time": "2022-01-19T14:52:01.548Z"
   },
   {
    "duration": 583,
    "start_time": "2022-01-19T14:54:46.722Z"
   },
   {
    "duration": 567,
    "start_time": "2022-01-19T14:55:39.605Z"
   },
   {
    "duration": 638,
    "start_time": "2022-01-19T14:55:54.950Z"
   },
   {
    "duration": 581,
    "start_time": "2022-01-19T14:56:02.356Z"
   },
   {
    "duration": 841,
    "start_time": "2022-01-19T14:56:12.174Z"
   },
   {
    "duration": 589,
    "start_time": "2022-01-19T14:56:18.529Z"
   },
   {
    "duration": 581,
    "start_time": "2022-01-19T14:56:26.320Z"
   },
   {
    "duration": 111,
    "start_time": "2022-01-19T14:57:44.078Z"
   },
   {
    "duration": 575,
    "start_time": "2022-01-19T14:58:02.140Z"
   },
   {
    "duration": 97,
    "start_time": "2022-01-19T14:58:23.873Z"
   },
   {
    "duration": 796,
    "start_time": "2022-01-19T14:58:30.112Z"
   },
   {
    "duration": 719,
    "start_time": "2022-01-19T14:58:39.270Z"
   },
   {
    "duration": 587,
    "start_time": "2022-01-19T15:00:00.572Z"
   },
   {
    "duration": 112,
    "start_time": "2022-01-19T15:00:31.045Z"
   },
   {
    "duration": 107,
    "start_time": "2022-01-19T15:01:01.375Z"
   },
   {
    "duration": 692,
    "start_time": "2022-01-19T15:01:07.801Z"
   },
   {
    "duration": 565,
    "start_time": "2022-01-19T15:01:13.826Z"
   },
   {
    "duration": 584,
    "start_time": "2022-01-19T15:04:02.985Z"
   },
   {
    "duration": 351,
    "start_time": "2022-01-19T15:04:31.849Z"
   },
   {
    "duration": 562,
    "start_time": "2022-01-19T15:04:41.455Z"
   },
   {
    "duration": 329,
    "start_time": "2022-01-19T15:05:12.717Z"
   },
   {
    "duration": 381,
    "start_time": "2022-01-19T15:05:22.011Z"
   },
   {
    "duration": 576,
    "start_time": "2022-01-19T15:05:27.126Z"
   },
   {
    "duration": 682,
    "start_time": "2022-01-19T15:06:31.724Z"
   },
   {
    "duration": 638,
    "start_time": "2022-01-19T15:07:07.121Z"
   },
   {
    "duration": 689,
    "start_time": "2022-01-19T15:07:27.155Z"
   },
   {
    "duration": 627,
    "start_time": "2022-01-19T15:09:30.635Z"
   },
   {
    "duration": 645,
    "start_time": "2022-01-19T15:09:46.004Z"
   },
   {
    "duration": 569,
    "start_time": "2022-01-19T15:10:10.744Z"
   },
   {
    "duration": 52,
    "start_time": "2022-01-19T15:10:31.054Z"
   },
   {
    "duration": 852,
    "start_time": "2022-01-19T15:10:44.262Z"
   },
   {
    "duration": 579,
    "start_time": "2022-01-19T15:10:52.516Z"
   },
   {
    "duration": 563,
    "start_time": "2022-01-19T15:11:25.199Z"
   },
   {
    "duration": 577,
    "start_time": "2022-01-19T15:11:41.517Z"
   },
   {
    "duration": 672,
    "start_time": "2022-01-19T15:17:23.142Z"
   },
   {
    "duration": 572,
    "start_time": "2022-01-19T15:18:11.697Z"
   },
   {
    "duration": 566,
    "start_time": "2022-01-19T15:18:31.788Z"
   },
   {
    "duration": 585,
    "start_time": "2022-01-19T15:20:04.287Z"
   },
   {
    "duration": 559,
    "start_time": "2022-01-19T15:20:31.922Z"
   },
   {
    "duration": 913,
    "start_time": "2022-01-19T15:21:48.290Z"
   },
   {
    "duration": 886,
    "start_time": "2022-01-19T15:21:56.122Z"
   },
   {
    "duration": 578,
    "start_time": "2022-01-19T15:22:14.472Z"
   },
   {
    "duration": 8046,
    "start_time": "2022-01-19T15:29:38.498Z"
   },
   {
    "duration": 553,
    "start_time": "2022-01-19T15:29:57.551Z"
   },
   {
    "duration": 708,
    "start_time": "2022-01-19T15:32:00.553Z"
   },
   {
    "duration": 8319,
    "start_time": "2022-01-19T15:33:11.243Z"
   },
   {
    "duration": 779,
    "start_time": "2022-01-19T15:33:54.321Z"
   },
   {
    "duration": 577,
    "start_time": "2022-01-19T15:34:13.556Z"
   },
   {
    "duration": 605,
    "start_time": "2022-01-19T15:34:43.164Z"
   },
   {
    "duration": 345,
    "start_time": "2022-01-19T15:35:13.837Z"
   },
   {
    "duration": 590,
    "start_time": "2022-01-19T15:35:39.738Z"
   },
   {
    "duration": 559,
    "start_time": "2022-01-19T15:35:55.564Z"
   },
   {
    "duration": 587,
    "start_time": "2022-01-19T15:39:23.864Z"
   },
   {
    "duration": 575,
    "start_time": "2022-01-19T15:39:36.734Z"
   },
   {
    "duration": 330,
    "start_time": "2022-01-19T15:40:02.712Z"
   },
   {
    "duration": 526,
    "start_time": "2022-01-19T15:40:19.086Z"
   },
   {
    "duration": 158,
    "start_time": "2022-01-19T15:40:32.142Z"
   },
   {
    "duration": 526,
    "start_time": "2022-01-19T15:40:39.936Z"
   },
   {
    "duration": 309,
    "start_time": "2022-01-19T15:41:14.327Z"
   },
   {
    "duration": 585,
    "start_time": "2022-01-19T15:41:57.474Z"
   },
   {
    "duration": 571,
    "start_time": "2022-01-19T15:43:07.686Z"
   },
   {
    "duration": 584,
    "start_time": "2022-01-19T15:43:43.833Z"
   },
   {
    "duration": 203,
    "start_time": "2022-01-19T15:45:31.701Z"
   },
   {
    "duration": 569,
    "start_time": "2022-01-19T15:45:38.200Z"
   },
   {
    "duration": 817,
    "start_time": "2022-01-19T15:45:50.796Z"
   },
   {
    "duration": 590,
    "start_time": "2022-01-19T15:46:07.264Z"
   },
   {
    "duration": 581,
    "start_time": "2022-01-19T15:47:01.309Z"
   },
   {
    "duration": 585,
    "start_time": "2022-01-19T15:47:29.933Z"
   },
   {
    "duration": 3861,
    "start_time": "2022-01-19T15:47:41.036Z"
   },
   {
    "duration": 26,
    "start_time": "2022-01-19T15:47:57.036Z"
   },
   {
    "duration": 3,
    "start_time": "2022-01-19T15:47:57.065Z"
   },
   {
    "duration": 537,
    "start_time": "2022-01-19T15:47:57.071Z"
   },
   {
    "duration": 45,
    "start_time": "2022-01-19T15:47:57.611Z"
   },
   {
    "duration": 115,
    "start_time": "2022-01-19T15:47:57.659Z"
   },
   {
    "duration": 10,
    "start_time": "2022-01-19T15:47:57.776Z"
   },
   {
    "duration": 15,
    "start_time": "2022-01-19T15:47:57.790Z"
   },
   {
    "duration": 1137,
    "start_time": "2022-01-19T15:47:57.809Z"
   },
   {
    "duration": 23,
    "start_time": "2022-01-19T15:47:58.949Z"
   },
   {
    "duration": 17,
    "start_time": "2022-01-19T15:47:58.974Z"
   },
   {
    "duration": 15,
    "start_time": "2022-01-19T15:47:58.993Z"
   },
   {
    "duration": 13,
    "start_time": "2022-01-19T15:47:59.011Z"
   },
   {
    "duration": 20,
    "start_time": "2022-01-19T15:47:59.026Z"
   },
   {
    "duration": 6,
    "start_time": "2022-01-19T15:47:59.069Z"
   },
   {
    "duration": 10,
    "start_time": "2022-01-19T15:47:59.077Z"
   },
   {
    "duration": 16,
    "start_time": "2022-01-19T15:47:59.089Z"
   },
   {
    "duration": 13,
    "start_time": "2022-01-19T15:47:59.107Z"
   },
   {
    "duration": 43,
    "start_time": "2022-01-19T15:47:59.126Z"
   },
   {
    "duration": 20,
    "start_time": "2022-01-19T15:47:59.173Z"
   },
   {
    "duration": 13,
    "start_time": "2022-01-19T15:47:59.195Z"
   },
   {
    "duration": 9,
    "start_time": "2022-01-19T15:47:59.211Z"
   },
   {
    "duration": 10,
    "start_time": "2022-01-19T15:47:59.223Z"
   },
   {
    "duration": 13,
    "start_time": "2022-01-19T15:47:59.269Z"
   },
   {
    "duration": 368,
    "start_time": "2022-01-19T15:47:59.286Z"
   },
   {
    "duration": 49,
    "start_time": "2022-01-19T15:47:59.656Z"
   },
   {
    "duration": 19,
    "start_time": "2022-01-19T15:47:59.708Z"
   },
   {
    "duration": 51,
    "start_time": "2022-01-19T15:47:59.730Z"
   },
   {
    "duration": 13,
    "start_time": "2022-01-19T15:47:59.783Z"
   },
   {
    "duration": 22,
    "start_time": "2022-01-19T15:47:59.798Z"
   },
   {
    "duration": 429,
    "start_time": "2022-01-19T15:47:59.822Z"
   },
   {
    "duration": 18,
    "start_time": "2022-01-19T15:48:00.254Z"
   },
   {
    "duration": 12,
    "start_time": "2022-01-19T15:48:00.275Z"
   },
   {
    "duration": 21,
    "start_time": "2022-01-19T15:48:00.290Z"
   },
   {
    "duration": 13,
    "start_time": "2022-01-19T15:48:00.313Z"
   },
   {
    "duration": 657,
    "start_time": "2022-01-19T15:48:00.328Z"
   },
   {
    "duration": 188,
    "start_time": "2022-01-19T15:48:00.987Z"
   },
   {
    "duration": 28,
    "start_time": "2022-01-19T15:48:01.177Z"
   },
   {
    "duration": 13,
    "start_time": "2022-01-19T15:48:01.208Z"
   },
   {
    "duration": 53,
    "start_time": "2022-01-19T15:48:01.223Z"
   },
   {
    "duration": 12,
    "start_time": "2022-01-19T15:48:01.279Z"
   },
   {
    "duration": 41,
    "start_time": "2022-01-19T15:48:01.293Z"
   },
   {
    "duration": 23,
    "start_time": "2022-01-19T15:48:01.337Z"
   },
   {
    "duration": 422,
    "start_time": "2022-01-19T15:48:01.363Z"
   },
   {
    "duration": 182,
    "start_time": "2022-01-19T15:48:01.788Z"
   },
   {
    "duration": 17,
    "start_time": "2022-01-19T15:48:01.972Z"
   },
   {
    "duration": 415,
    "start_time": "2022-01-19T15:48:01.992Z"
   },
   {
    "duration": 33,
    "start_time": "2022-01-19T15:48:02.410Z"
   },
   {
    "duration": 32,
    "start_time": "2022-01-19T15:48:02.445Z"
   },
   {
    "duration": 23,
    "start_time": "2022-01-19T15:48:02.480Z"
   },
   {
    "duration": 14,
    "start_time": "2022-01-19T15:48:02.506Z"
   },
   {
    "duration": 44,
    "start_time": "2022-01-19T15:48:02.527Z"
   },
   {
    "duration": 510,
    "start_time": "2022-01-19T15:48:02.574Z"
   },
   {
    "duration": 14,
    "start_time": "2022-01-19T15:48:03.086Z"
   },
   {
    "duration": 120,
    "start_time": "2022-01-19T15:48:03.102Z"
   },
   {
    "duration": 64,
    "start_time": "2022-01-19T15:48:03.225Z"
   },
   {
    "duration": 57,
    "start_time": "2022-01-19T15:48:03.291Z"
   },
   {
    "duration": 71,
    "start_time": "2022-01-19T15:48:03.350Z"
   },
   {
    "duration": 6,
    "start_time": "2022-01-19T15:48:03.424Z"
   },
   {
    "duration": 38,
    "start_time": "2022-01-19T15:48:03.433Z"
   },
   {
    "duration": 7,
    "start_time": "2022-01-19T15:48:03.473Z"
   },
   {
    "duration": 35,
    "start_time": "2022-01-19T15:48:03.483Z"
   },
   {
    "duration": 6,
    "start_time": "2022-01-19T15:48:03.521Z"
   },
   {
    "duration": 46,
    "start_time": "2022-01-19T15:48:03.530Z"
   },
   {
    "duration": 11,
    "start_time": "2022-01-19T15:48:03.578Z"
   },
   {
    "duration": 11,
    "start_time": "2022-01-19T15:48:03.592Z"
   },
   {
    "duration": 8,
    "start_time": "2022-01-19T15:48:03.606Z"
   },
   {
    "duration": 52,
    "start_time": "2022-01-19T15:48:03.617Z"
   },
   {
    "duration": 182,
    "start_time": "2022-01-19T15:48:03.672Z"
   },
   {
    "duration": 23,
    "start_time": "2022-01-19T15:48:03.857Z"
   },
   {
    "duration": 11,
    "start_time": "2022-01-19T15:48:03.882Z"
   },
   {
    "duration": 12,
    "start_time": "2022-01-19T15:48:08.003Z"
   },
   {
    "duration": 36,
    "start_time": "2022-01-19T15:48:08.574Z"
   },
   {
    "duration": 391,
    "start_time": "2022-01-19T15:48:27.870Z"
   },
   {
    "duration": 26,
    "start_time": "2022-01-19T15:48:37.378Z"
   },
   {
    "duration": 3,
    "start_time": "2022-01-19T15:48:37.407Z"
   },
   {
    "duration": 553,
    "start_time": "2022-01-19T15:48:37.413Z"
   },
   {
    "duration": 45,
    "start_time": "2022-01-19T15:48:37.969Z"
   },
   {
    "duration": 107,
    "start_time": "2022-01-19T15:48:38.017Z"
   },
   {
    "duration": 44,
    "start_time": "2022-01-19T15:48:38.127Z"
   },
   {
    "duration": 15,
    "start_time": "2022-01-19T15:48:38.174Z"
   },
   {
    "duration": 1148,
    "start_time": "2022-01-19T15:48:38.191Z"
   },
   {
    "duration": 27,
    "start_time": "2022-01-19T15:48:39.342Z"
   },
   {
    "duration": 10,
    "start_time": "2022-01-19T15:48:39.371Z"
   },
   {
    "duration": 12,
    "start_time": "2022-01-19T15:48:39.383Z"
   },
   {
    "duration": 9,
    "start_time": "2022-01-19T15:48:39.397Z"
   },
   {
    "duration": 11,
    "start_time": "2022-01-19T15:48:39.409Z"
   },
   {
    "duration": 46,
    "start_time": "2022-01-19T15:48:39.425Z"
   },
   {
    "duration": 7,
    "start_time": "2022-01-19T15:48:39.476Z"
   },
   {
    "duration": 18,
    "start_time": "2022-01-19T15:48:39.486Z"
   },
   {
    "duration": 14,
    "start_time": "2022-01-19T15:48:39.506Z"
   },
   {
    "duration": 11,
    "start_time": "2022-01-19T15:48:39.522Z"
   },
   {
    "duration": 16,
    "start_time": "2022-01-19T15:48:39.570Z"
   },
   {
    "duration": 13,
    "start_time": "2022-01-19T15:48:39.589Z"
   },
   {
    "duration": 16,
    "start_time": "2022-01-19T15:48:39.604Z"
   },
   {
    "duration": 10,
    "start_time": "2022-01-19T15:48:39.623Z"
   },
   {
    "duration": 10,
    "start_time": "2022-01-19T15:48:39.669Z"
   },
   {
    "duration": 357,
    "start_time": "2022-01-19T15:48:39.682Z"
   },
   {
    "duration": 54,
    "start_time": "2022-01-19T15:48:40.041Z"
   },
   {
    "duration": 15,
    "start_time": "2022-01-19T15:48:40.098Z"
   },
   {
    "duration": 53,
    "start_time": "2022-01-19T15:48:40.116Z"
   },
   {
    "duration": 13,
    "start_time": "2022-01-19T15:48:40.172Z"
   },
   {
    "duration": 22,
    "start_time": "2022-01-19T15:48:40.187Z"
   },
   {
    "duration": 431,
    "start_time": "2022-01-19T15:48:40.211Z"
   },
   {
    "duration": 10,
    "start_time": "2022-01-19T15:48:40.644Z"
   },
   {
    "duration": 7,
    "start_time": "2022-01-19T15:48:40.668Z"
   },
   {
    "duration": 14,
    "start_time": "2022-01-19T15:48:40.678Z"
   },
   {
    "duration": 11,
    "start_time": "2022-01-19T15:48:40.695Z"
   },
   {
    "duration": 681,
    "start_time": "2022-01-19T15:48:40.708Z"
   },
   {
    "duration": 144,
    "start_time": "2022-01-19T15:48:41.392Z"
   },
   {
    "duration": 43,
    "start_time": "2022-01-19T15:48:41.538Z"
   },
   {
    "duration": 13,
    "start_time": "2022-01-19T15:48:41.587Z"
   },
   {
    "duration": 19,
    "start_time": "2022-01-19T15:48:41.603Z"
   },
   {
    "duration": 12,
    "start_time": "2022-01-19T15:48:41.625Z"
   },
   {
    "duration": 14,
    "start_time": "2022-01-19T15:48:41.670Z"
   },
   {
    "duration": 10,
    "start_time": "2022-01-19T15:48:41.686Z"
   },
   {
    "duration": 438,
    "start_time": "2022-01-19T15:48:41.699Z"
   },
   {
    "duration": 168,
    "start_time": "2022-01-19T15:48:42.140Z"
   },
   {
    "duration": 20,
    "start_time": "2022-01-19T15:48:42.310Z"
   },
   {
    "duration": 421,
    "start_time": "2022-01-19T15:48:42.333Z"
   },
   {
    "duration": 42,
    "start_time": "2022-01-19T15:48:42.757Z"
   },
   {
    "duration": 18,
    "start_time": "2022-01-19T15:48:42.802Z"
   },
   {
    "duration": 57,
    "start_time": "2022-01-19T15:48:42.823Z"
   },
   {
    "duration": 15,
    "start_time": "2022-01-19T15:48:42.883Z"
   },
   {
    "duration": 12,
    "start_time": "2022-01-19T15:48:42.902Z"
   },
   {
    "duration": 527,
    "start_time": "2022-01-19T15:48:42.917Z"
   },
   {
    "duration": 22,
    "start_time": "2022-01-19T15:48:43.448Z"
   },
   {
    "duration": 116,
    "start_time": "2022-01-19T15:48:43.473Z"
   },
   {
    "duration": 51,
    "start_time": "2022-01-19T15:48:43.592Z"
   },
   {
    "duration": 68,
    "start_time": "2022-01-19T15:48:43.646Z"
   },
   {
    "duration": 78,
    "start_time": "2022-01-19T15:48:43.717Z"
   },
   {
    "duration": 6,
    "start_time": "2022-01-19T15:48:43.798Z"
   },
   {
    "duration": 9,
    "start_time": "2022-01-19T15:48:43.806Z"
   },
   {
    "duration": 6,
    "start_time": "2022-01-19T15:48:43.817Z"
   },
   {
    "duration": 69,
    "start_time": "2022-01-19T15:48:43.825Z"
   },
   {
    "duration": 6,
    "start_time": "2022-01-19T15:48:43.897Z"
   },
   {
    "duration": 8,
    "start_time": "2022-01-19T15:48:43.906Z"
   },
   {
    "duration": 6,
    "start_time": "2022-01-19T15:48:43.917Z"
   },
   {
    "duration": 50,
    "start_time": "2022-01-19T15:48:43.925Z"
   },
   {
    "duration": 8,
    "start_time": "2022-01-19T15:48:43.978Z"
   },
   {
    "duration": 22,
    "start_time": "2022-01-19T15:48:43.989Z"
   },
   {
    "duration": 301,
    "start_time": "2022-01-19T15:48:44.013Z"
   },
   {
    "duration": 21,
    "start_time": "2022-01-19T15:48:44.317Z"
   },
   {
    "duration": 30,
    "start_time": "2022-01-19T15:48:44.341Z"
   },
   {
    "duration": 12,
    "start_time": "2022-01-19T15:48:47.038Z"
   },
   {
    "duration": 22,
    "start_time": "2022-01-19T15:48:47.568Z"
   },
   {
    "duration": 7630,
    "start_time": "2022-01-19T15:49:17.454Z"
   },
   {
    "duration": 582,
    "start_time": "2022-01-19T15:49:31.155Z"
   },
   {
    "duration": 575,
    "start_time": "2022-01-19T15:49:51.297Z"
   },
   {
    "duration": 482,
    "start_time": "2022-01-19T15:50:42.540Z"
   },
   {
    "duration": 340,
    "start_time": "2022-01-19T15:51:35.920Z"
   },
   {
    "duration": 568,
    "start_time": "2022-01-19T15:51:39.184Z"
   },
   {
    "duration": 801,
    "start_time": "2022-01-19T15:51:48.490Z"
   },
   {
    "duration": 805,
    "start_time": "2022-01-19T15:55:20.034Z"
   },
   {
    "duration": 551,
    "start_time": "2022-01-19T15:55:29.960Z"
   },
   {
    "duration": 1294,
    "start_time": "2022-01-19T15:55:45.132Z"
   },
   {
    "duration": 624,
    "start_time": "2022-01-19T15:55:52.545Z"
   },
   {
    "duration": 699,
    "start_time": "2022-01-19T15:56:05.759Z"
   },
   {
    "duration": 701,
    "start_time": "2022-01-19T15:56:21.646Z"
   },
   {
    "duration": 586,
    "start_time": "2022-01-19T15:57:42.888Z"
   },
   {
    "duration": 33,
    "start_time": "2022-01-19T15:58:40.620Z"
   },
   {
    "duration": 35,
    "start_time": "2022-01-19T15:58:58.703Z"
   },
   {
    "duration": 821,
    "start_time": "2022-01-19T16:00:51.217Z"
   },
   {
    "duration": 410,
    "start_time": "2022-01-19T16:05:02.237Z"
   },
   {
    "duration": 632,
    "start_time": "2022-01-19T16:05:08.260Z"
   },
   {
    "duration": 592,
    "start_time": "2022-01-19T16:05:28.430Z"
   },
   {
    "duration": 404,
    "start_time": "2022-01-19T16:05:39.448Z"
   },
   {
    "duration": 577,
    "start_time": "2022-01-19T16:06:07.373Z"
   },
   {
    "duration": 566,
    "start_time": "2022-01-19T16:07:33.332Z"
   },
   {
    "duration": 562,
    "start_time": "2022-01-19T16:08:06.037Z"
   },
   {
    "duration": 576,
    "start_time": "2022-01-19T16:08:45.365Z"
   },
   {
    "duration": 941,
    "start_time": "2022-01-19T16:09:18.920Z"
   },
   {
    "duration": 613,
    "start_time": "2022-01-20T10:47:42.648Z"
   },
   {
    "duration": 2,
    "start_time": "2022-01-20T10:47:43.263Z"
   },
   {
    "duration": 422,
    "start_time": "2022-01-20T10:47:43.268Z"
   },
   {
    "duration": 27,
    "start_time": "2022-01-20T10:47:43.692Z"
   },
   {
    "duration": 77,
    "start_time": "2022-01-20T10:47:43.721Z"
   },
   {
    "duration": 6,
    "start_time": "2022-01-20T10:47:43.800Z"
   },
   {
    "duration": 39,
    "start_time": "2022-01-20T10:47:43.808Z"
   },
   {
    "duration": 737,
    "start_time": "2022-01-20T10:47:43.850Z"
   },
   {
    "duration": 16,
    "start_time": "2022-01-20T10:47:44.590Z"
   },
   {
    "duration": 29,
    "start_time": "2022-01-20T10:47:44.608Z"
   },
   {
    "duration": 36,
    "start_time": "2022-01-20T10:47:44.639Z"
   },
   {
    "duration": 40,
    "start_time": "2022-01-20T10:47:44.676Z"
   },
   {
    "duration": 41,
    "start_time": "2022-01-20T10:47:44.717Z"
   },
   {
    "duration": 37,
    "start_time": "2022-01-20T10:47:44.759Z"
   },
   {
    "duration": 47,
    "start_time": "2022-01-20T10:47:44.798Z"
   },
   {
    "duration": 46,
    "start_time": "2022-01-20T10:47:44.847Z"
   },
   {
    "duration": 38,
    "start_time": "2022-01-20T10:47:44.895Z"
   },
   {
    "duration": 33,
    "start_time": "2022-01-20T10:47:44.935Z"
   },
   {
    "duration": 53,
    "start_time": "2022-01-20T10:47:44.969Z"
   },
   {
    "duration": 29,
    "start_time": "2022-01-20T10:47:45.025Z"
   },
   {
    "duration": 35,
    "start_time": "2022-01-20T10:47:45.056Z"
   },
   {
    "duration": 30,
    "start_time": "2022-01-20T10:47:45.093Z"
   },
   {
    "duration": 32,
    "start_time": "2022-01-20T10:47:45.127Z"
   },
   {
    "duration": 314,
    "start_time": "2022-01-20T10:47:45.162Z"
   },
   {
    "duration": 37,
    "start_time": "2022-01-20T10:47:45.477Z"
   },
   {
    "duration": 15,
    "start_time": "2022-01-20T10:47:45.516Z"
   },
   {
    "duration": 45,
    "start_time": "2022-01-20T10:47:45.533Z"
   },
   {
    "duration": 30,
    "start_time": "2022-01-20T10:47:45.580Z"
   },
   {
    "duration": 55,
    "start_time": "2022-01-20T10:47:45.611Z"
   },
   {
    "duration": 266,
    "start_time": "2022-01-20T10:47:45.668Z"
   },
   {
    "duration": 6,
    "start_time": "2022-01-20T10:47:45.936Z"
   },
   {
    "duration": 29,
    "start_time": "2022-01-20T10:47:45.944Z"
   },
   {
    "duration": 49,
    "start_time": "2022-01-20T10:47:45.975Z"
   },
   {
    "duration": 36,
    "start_time": "2022-01-20T10:47:46.025Z"
   },
   {
    "duration": 490,
    "start_time": "2022-01-20T10:47:46.063Z"
   },
   {
    "duration": 116,
    "start_time": "2022-01-20T10:47:46.554Z"
   },
   {
    "duration": 34,
    "start_time": "2022-01-20T10:47:46.672Z"
   },
   {
    "duration": 14,
    "start_time": "2022-01-20T10:47:46.708Z"
   },
   {
    "duration": 35,
    "start_time": "2022-01-20T10:47:46.724Z"
   },
   {
    "duration": 29,
    "start_time": "2022-01-20T10:47:46.760Z"
   },
   {
    "duration": 47,
    "start_time": "2022-01-20T10:47:46.790Z"
   },
   {
    "duration": 29,
    "start_time": "2022-01-20T10:47:46.838Z"
   },
   {
    "duration": 340,
    "start_time": "2022-01-20T10:47:46.869Z"
   },
   {
    "duration": 146,
    "start_time": "2022-01-20T10:47:47.211Z"
   },
   {
    "duration": 12,
    "start_time": "2022-01-20T10:47:47.359Z"
   },
   {
    "duration": 255,
    "start_time": "2022-01-20T10:47:47.373Z"
   },
   {
    "duration": 21,
    "start_time": "2022-01-20T10:47:47.630Z"
   },
   {
    "duration": 28,
    "start_time": "2022-01-20T10:47:47.653Z"
   },
   {
    "duration": 33,
    "start_time": "2022-01-20T10:47:47.683Z"
   },
   {
    "duration": 25,
    "start_time": "2022-01-20T10:47:47.717Z"
   },
   {
    "duration": 42,
    "start_time": "2022-01-20T10:47:47.744Z"
   },
   {
    "duration": 388,
    "start_time": "2022-01-20T10:47:47.787Z"
   },
   {
    "duration": 20,
    "start_time": "2022-01-20T10:47:48.177Z"
   },
   {
    "duration": 68,
    "start_time": "2022-01-20T10:47:48.199Z"
   },
   {
    "duration": 52,
    "start_time": "2022-01-20T10:47:48.269Z"
   },
   {
    "duration": 30,
    "start_time": "2022-01-20T10:47:48.323Z"
   },
   {
    "duration": 43,
    "start_time": "2022-01-20T10:47:48.355Z"
   },
   {
    "duration": 4,
    "start_time": "2022-01-20T10:47:48.400Z"
   },
   {
    "duration": 32,
    "start_time": "2022-01-20T10:47:48.405Z"
   },
   {
    "duration": 18,
    "start_time": "2022-01-20T10:47:48.439Z"
   },
   {
    "duration": 43,
    "start_time": "2022-01-20T10:47:48.459Z"
   },
   {
    "duration": 11,
    "start_time": "2022-01-20T10:47:48.504Z"
   },
   {
    "duration": 35,
    "start_time": "2022-01-20T10:47:48.517Z"
   },
   {
    "duration": 21,
    "start_time": "2022-01-20T10:47:48.554Z"
   },
   {
    "duration": 30,
    "start_time": "2022-01-20T10:47:48.578Z"
   },
   {
    "duration": 35,
    "start_time": "2022-01-20T10:47:48.610Z"
   },
   {
    "duration": 44,
    "start_time": "2022-01-20T10:47:48.647Z"
   },
   {
    "duration": 121,
    "start_time": "2022-01-20T10:47:48.695Z"
   },
   {
    "duration": 12,
    "start_time": "2022-01-20T10:47:48.818Z"
   },
   {
    "duration": 32,
    "start_time": "2022-01-20T10:47:48.832Z"
   },
   {
    "duration": 374,
    "start_time": "2022-01-20T10:47:51.589Z"
   },
   {
    "duration": 20,
    "start_time": "2022-01-20T10:49:20.511Z"
   },
   {
    "duration": 155,
    "start_time": "2022-01-20T10:51:12.543Z"
   },
   {
    "duration": 45,
    "start_time": "2022-01-20T10:51:39.384Z"
   },
   {
    "duration": 56,
    "start_time": "2022-01-20T10:51:47.861Z"
   },
   {
    "duration": 56,
    "start_time": "2022-01-20T10:51:56.115Z"
   },
   {
    "duration": 20,
    "start_time": "2022-01-20T10:52:28.556Z"
   },
   {
    "duration": 48,
    "start_time": "2022-01-20T10:52:29.203Z"
   },
   {
    "duration": 1176,
    "start_time": "2022-01-20T10:52:51.450Z"
   },
   {
    "duration": 1198,
    "start_time": "2022-01-20T10:53:04.185Z"
   },
   {
    "duration": 434,
    "start_time": "2022-01-20T10:53:23.497Z"
   },
   {
    "duration": 1278,
    "start_time": "2022-01-20T10:53:30.439Z"
   },
   {
    "duration": 384,
    "start_time": "2022-01-20T10:53:35.619Z"
   },
   {
    "duration": 359,
    "start_time": "2022-01-20T10:53:43.565Z"
   },
   {
    "duration": 1166,
    "start_time": "2022-01-20T10:53:49.045Z"
   },
   {
    "duration": 1228,
    "start_time": "2022-01-20T10:54:55.971Z"
   },
   {
    "duration": 1156,
    "start_time": "2022-01-20T10:55:16.434Z"
   },
   {
    "duration": 1243,
    "start_time": "2022-01-20T10:55:39.619Z"
   },
   {
    "duration": 50,
    "start_time": "2022-01-20T10:56:16.090Z"
   },
   {
    "duration": 53,
    "start_time": "2022-01-20T10:56:21.371Z"
   },
   {
    "duration": 1190,
    "start_time": "2022-01-20T10:56:28.610Z"
   },
   {
    "duration": 1141,
    "start_time": "2022-01-20T10:56:46.915Z"
   },
   {
    "duration": 1145,
    "start_time": "2022-01-20T10:57:06.777Z"
   },
   {
    "duration": 1225,
    "start_time": "2022-01-20T10:57:22.539Z"
   },
   {
    "duration": 1156,
    "start_time": "2022-01-20T10:57:51.849Z"
   },
   {
    "duration": 1277,
    "start_time": "2022-01-20T10:57:59.274Z"
   },
   {
    "duration": 138,
    "start_time": "2022-01-20T11:00:12.963Z"
   },
   {
    "duration": 1120,
    "start_time": "2022-01-20T11:00:26.024Z"
   },
   {
    "duration": 1162,
    "start_time": "2022-01-20T11:00:33.611Z"
   },
   {
    "duration": 23,
    "start_time": "2022-01-20T11:02:32.495Z"
   },
   {
    "duration": 1251,
    "start_time": "2022-01-20T11:02:33.665Z"
   },
   {
    "duration": 1140,
    "start_time": "2022-01-20T11:03:14.117Z"
   },
   {
    "duration": 1142,
    "start_time": "2022-01-20T11:03:32.305Z"
   },
   {
    "duration": 1228,
    "start_time": "2022-01-20T11:03:51.957Z"
   },
   {
    "duration": 807,
    "start_time": "2022-01-20T11:07:20.030Z"
   },
   {
    "duration": 145,
    "start_time": "2022-01-20T11:08:15.638Z"
   },
   {
    "duration": 355,
    "start_time": "2022-01-20T11:08:43.065Z"
   },
   {
    "duration": 344,
    "start_time": "2022-01-20T11:08:46.799Z"
   },
   {
    "duration": 18,
    "start_time": "2022-01-20T11:08:56.452Z"
   },
   {
    "duration": 26,
    "start_time": "2022-01-20T11:08:56.472Z"
   },
   {
    "duration": 447,
    "start_time": "2022-01-20T11:08:56.500Z"
   },
   {
    "duration": 27,
    "start_time": "2022-01-20T11:08:56.949Z"
   },
   {
    "duration": 60,
    "start_time": "2022-01-20T11:08:56.978Z"
   },
   {
    "duration": 6,
    "start_time": "2022-01-20T11:08:57.039Z"
   },
   {
    "duration": 38,
    "start_time": "2022-01-20T11:08:57.047Z"
   },
   {
    "duration": 764,
    "start_time": "2022-01-20T11:08:57.096Z"
   },
   {
    "duration": 11,
    "start_time": "2022-01-20T11:08:57.863Z"
   },
   {
    "duration": 43,
    "start_time": "2022-01-20T11:08:57.876Z"
   },
   {
    "duration": 31,
    "start_time": "2022-01-20T11:08:57.921Z"
   },
   {
    "duration": 22,
    "start_time": "2022-01-20T11:08:57.954Z"
   },
   {
    "duration": 37,
    "start_time": "2022-01-20T11:08:57.979Z"
   },
   {
    "duration": 21,
    "start_time": "2022-01-20T11:08:58.018Z"
   },
   {
    "duration": 38,
    "start_time": "2022-01-20T11:08:58.042Z"
   },
   {
    "duration": 34,
    "start_time": "2022-01-20T11:08:58.082Z"
   },
   {
    "duration": 35,
    "start_time": "2022-01-20T11:08:58.119Z"
   },
   {
    "duration": 35,
    "start_time": "2022-01-20T11:08:58.157Z"
   },
   {
    "duration": 53,
    "start_time": "2022-01-20T11:08:58.195Z"
   },
   {
    "duration": 35,
    "start_time": "2022-01-20T11:08:58.250Z"
   },
   {
    "duration": 46,
    "start_time": "2022-01-20T11:08:58.287Z"
   },
   {
    "duration": 50,
    "start_time": "2022-01-20T11:08:58.335Z"
   },
   {
    "duration": 62,
    "start_time": "2022-01-20T11:08:58.391Z"
   },
   {
    "duration": 328,
    "start_time": "2022-01-20T11:08:58.457Z"
   },
   {
    "duration": 30,
    "start_time": "2022-01-20T11:08:58.787Z"
   },
   {
    "duration": 10,
    "start_time": "2022-01-20T11:08:58.819Z"
   },
   {
    "duration": 29,
    "start_time": "2022-01-20T11:08:58.830Z"
   },
   {
    "duration": 23,
    "start_time": "2022-01-20T11:08:58.861Z"
   },
   {
    "duration": 29,
    "start_time": "2022-01-20T11:08:58.886Z"
   },
   {
    "duration": 253,
    "start_time": "2022-01-20T11:08:58.917Z"
   },
   {
    "duration": 7,
    "start_time": "2022-01-20T11:08:59.172Z"
   },
   {
    "duration": 22,
    "start_time": "2022-01-20T11:08:59.181Z"
   },
   {
    "duration": 19,
    "start_time": "2022-01-20T11:08:59.205Z"
   },
   {
    "duration": 16,
    "start_time": "2022-01-20T11:08:59.227Z"
   },
   {
    "duration": 512,
    "start_time": "2022-01-20T11:08:59.245Z"
   },
   {
    "duration": 119,
    "start_time": "2022-01-20T11:08:59.759Z"
   },
   {
    "duration": 37,
    "start_time": "2022-01-20T11:08:59.880Z"
   },
   {
    "duration": 10,
    "start_time": "2022-01-20T11:08:59.919Z"
   },
   {
    "duration": 24,
    "start_time": "2022-01-20T11:08:59.930Z"
   },
   {
    "duration": 9,
    "start_time": "2022-01-20T11:08:59.955Z"
   },
   {
    "duration": 16,
    "start_time": "2022-01-20T11:08:59.966Z"
   },
   {
    "duration": 37,
    "start_time": "2022-01-20T11:08:59.984Z"
   },
   {
    "duration": 554,
    "start_time": "2022-01-20T11:09:00.023Z"
   },
   {
    "duration": 155,
    "start_time": "2022-01-20T11:09:00.580Z"
   },
   {
    "duration": 15,
    "start_time": "2022-01-20T11:09:00.736Z"
   },
   {
    "duration": 271,
    "start_time": "2022-01-20T11:09:00.752Z"
   },
   {
    "duration": 23,
    "start_time": "2022-01-20T11:09:01.025Z"
   },
   {
    "duration": 10,
    "start_time": "2022-01-20T11:09:01.050Z"
   },
   {
    "duration": 41,
    "start_time": "2022-01-20T11:09:01.063Z"
   },
   {
    "duration": 11,
    "start_time": "2022-01-20T11:09:01.106Z"
   },
   {
    "duration": 33,
    "start_time": "2022-01-20T11:09:01.119Z"
   },
   {
    "duration": 407,
    "start_time": "2022-01-20T11:09:01.154Z"
   },
   {
    "duration": 11,
    "start_time": "2022-01-20T11:09:01.563Z"
   },
   {
    "duration": 121,
    "start_time": "2022-01-20T11:09:01.576Z"
   },
   {
    "duration": 34,
    "start_time": "2022-01-20T11:09:01.699Z"
   },
   {
    "duration": 34,
    "start_time": "2022-01-20T11:09:01.736Z"
   },
   {
    "duration": 55,
    "start_time": "2022-01-20T11:09:01.772Z"
   },
   {
    "duration": 5,
    "start_time": "2022-01-20T11:09:01.829Z"
   },
   {
    "duration": 12,
    "start_time": "2022-01-20T11:09:01.836Z"
   },
   {
    "duration": 6,
    "start_time": "2022-01-20T11:09:01.850Z"
   },
   {
    "duration": 58,
    "start_time": "2022-01-20T11:09:01.858Z"
   },
   {
    "duration": 16,
    "start_time": "2022-01-20T11:09:01.918Z"
   },
   {
    "duration": 67,
    "start_time": "2022-01-20T11:09:01.936Z"
   },
   {
    "duration": 23,
    "start_time": "2022-01-20T11:09:02.004Z"
   },
   {
    "duration": 16,
    "start_time": "2022-01-20T11:09:02.029Z"
   },
   {
    "duration": 28,
    "start_time": "2022-01-20T11:09:02.048Z"
   },
   {
    "duration": 38,
    "start_time": "2022-01-20T11:09:02.078Z"
   },
   {
    "duration": 122,
    "start_time": "2022-01-20T11:09:02.122Z"
   },
   {
    "duration": 15,
    "start_time": "2022-01-20T11:09:02.246Z"
   },
   {
    "duration": 9,
    "start_time": "2022-01-20T11:09:02.263Z"
   },
   {
    "duration": 42,
    "start_time": "2022-01-20T11:09:02.274Z"
   },
   {
    "duration": 476,
    "start_time": "2022-01-20T11:09:02.318Z"
   },
   {
    "duration": -1792,
    "start_time": "2022-01-20T11:09:04.589Z"
   },
   {
    "duration": -1800,
    "start_time": "2022-01-20T11:09:04.598Z"
   },
   {
    "duration": -1805,
    "start_time": "2022-01-20T11:09:04.604Z"
   },
   {
    "duration": -1812,
    "start_time": "2022-01-20T11:09:04.613Z"
   },
   {
    "duration": -1817,
    "start_time": "2022-01-20T11:09:04.619Z"
   },
   {
    "duration": -1827,
    "start_time": "2022-01-20T11:09:04.631Z"
   },
   {
    "duration": -1834,
    "start_time": "2022-01-20T11:09:04.639Z"
   },
   {
    "duration": -1841,
    "start_time": "2022-01-20T11:09:04.648Z"
   },
   {
    "duration": 1133,
    "start_time": "2022-01-20T11:09:16.499Z"
   },
   {
    "duration": 20,
    "start_time": "2022-01-20T11:09:31.918Z"
   },
   {
    "duration": 36,
    "start_time": "2022-01-20T11:09:56.213Z"
   },
   {
    "duration": 262,
    "start_time": "2022-01-20T11:10:02.597Z"
   },
   {
    "duration": 22,
    "start_time": "2022-01-20T11:10:12.334Z"
   },
   {
    "duration": 1171,
    "start_time": "2022-01-20T11:10:14.057Z"
   },
   {
    "duration": 446,
    "start_time": "2022-01-20T11:16:16.896Z"
   },
   {
    "duration": 10,
    "start_time": "2022-01-20T11:16:22.438Z"
   },
   {
    "duration": 15,
    "start_time": "2022-01-20T11:16:27.268Z"
   },
   {
    "duration": 4,
    "start_time": "2022-01-20T11:17:50.357Z"
   },
   {
    "duration": 14,
    "start_time": "2022-01-20T11:17:55.418Z"
   },
   {
    "duration": 5,
    "start_time": "2022-01-20T11:18:35.741Z"
   },
   {
    "duration": 4,
    "start_time": "2022-01-20T11:18:55.233Z"
   },
   {
    "duration": 14,
    "start_time": "2022-01-20T11:18:56.356Z"
   },
   {
    "duration": 13,
    "start_time": "2022-01-20T11:18:57.231Z"
   },
   {
    "duration": 1203,
    "start_time": "2022-01-20T11:59:14.936Z"
   },
   {
    "duration": 1235,
    "start_time": "2022-01-20T11:59:40.998Z"
   },
   {
    "duration": 17,
    "start_time": "2022-01-20T12:01:10.844Z"
   },
   {
    "duration": 1184,
    "start_time": "2022-01-20T12:01:11.439Z"
   },
   {
    "duration": 1164,
    "start_time": "2022-01-20T12:01:33.205Z"
   },
   {
    "duration": 1160,
    "start_time": "2022-01-20T12:03:26.965Z"
   },
   {
    "duration": 151,
    "start_time": "2022-01-20T12:03:40.525Z"
   },
   {
    "duration": 156,
    "start_time": "2022-01-20T12:05:21.868Z"
   },
   {
    "duration": 1093,
    "start_time": "2022-01-20T12:05:47.327Z"
   },
   {
    "duration": 154,
    "start_time": "2022-01-20T12:07:20.091Z"
   },
   {
    "duration": 1187,
    "start_time": "2022-01-20T12:07:47.042Z"
   },
   {
    "duration": 531,
    "start_time": "2022-01-20T12:09:20.197Z"
   },
   {
    "duration": 137,
    "start_time": "2022-01-20T12:10:50.415Z"
   },
   {
    "duration": 17,
    "start_time": "2022-01-20T12:11:01.117Z"
   },
   {
    "duration": 209,
    "start_time": "2022-01-20T12:11:01.618Z"
   },
   {
    "duration": 1755,
    "start_time": "2022-01-20T12:11:38.383Z"
   },
   {
    "duration": 1735,
    "start_time": "2022-01-20T12:12:41.900Z"
   },
   {
    "duration": 1005,
    "start_time": "2022-01-20T12:22:32.268Z"
   },
   {
    "duration": 45,
    "start_time": "2022-01-20T12:22:45.810Z"
   },
   {
    "duration": 582,
    "start_time": "2022-01-20T12:22:49.795Z"
   },
   {
    "duration": 1819,
    "start_time": "2022-01-20T12:30:05.258Z"
   },
   {
    "duration": 17,
    "start_time": "2022-01-20T12:32:21.170Z"
   },
   {
    "duration": 16,
    "start_time": "2022-01-20T12:32:27.741Z"
   },
   {
    "duration": 156,
    "start_time": "2022-01-20T12:34:25.766Z"
   },
   {
    "duration": 1293,
    "start_time": "2022-01-20T12:36:06.377Z"
   },
   {
    "duration": 1158,
    "start_time": "2022-01-20T12:36:28.391Z"
   },
   {
    "duration": 1175,
    "start_time": "2022-01-20T12:36:44.979Z"
   },
   {
    "duration": 1255,
    "start_time": "2022-01-20T12:37:09.799Z"
   },
   {
    "duration": 153,
    "start_time": "2022-01-20T12:41:09.600Z"
   },
   {
    "duration": 351,
    "start_time": "2022-01-20T12:41:30.817Z"
   },
   {
    "duration": 348,
    "start_time": "2022-01-20T12:41:58.322Z"
   },
   {
    "duration": 345,
    "start_time": "2022-01-20T12:42:13.842Z"
   },
   {
    "duration": 17,
    "start_time": "2022-01-20T12:43:03.256Z"
   },
   {
    "duration": 1143,
    "start_time": "2022-01-20T12:43:03.903Z"
   },
   {
    "duration": 346,
    "start_time": "2022-01-20T12:43:46.812Z"
   },
   {
    "duration": 220,
    "start_time": "2022-01-20T12:45:35.018Z"
   },
   {
    "duration": 188,
    "start_time": "2022-01-20T12:49:47.196Z"
   },
   {
    "duration": 21,
    "start_time": "2022-01-20T12:50:03.542Z"
   },
   {
    "duration": 149,
    "start_time": "2022-01-20T12:52:01.826Z"
   },
   {
    "duration": 14,
    "start_time": "2022-01-20T12:53:24.867Z"
   },
   {
    "duration": 396,
    "start_time": "2022-01-20T12:53:25.800Z"
   },
   {
    "duration": 1071,
    "start_time": "2022-01-20T12:53:43.795Z"
   },
   {
    "duration": 1162,
    "start_time": "2022-01-20T12:54:25.158Z"
   },
   {
    "duration": 1271,
    "start_time": "2022-01-20T12:54:49.695Z"
   },
   {
    "duration": 1154,
    "start_time": "2022-01-20T12:55:13.952Z"
   },
   {
    "duration": 316,
    "start_time": "2022-01-20T12:55:27.713Z"
   },
   {
    "duration": 1292,
    "start_time": "2022-01-20T12:55:52.717Z"
   },
   {
    "duration": 1168,
    "start_time": "2022-01-20T12:56:04.987Z"
   },
   {
    "duration": 1168,
    "start_time": "2022-01-20T12:56:17.961Z"
   },
   {
    "duration": 1551,
    "start_time": "2022-01-20T12:56:34.568Z"
   },
   {
    "duration": 1151,
    "start_time": "2022-01-20T12:56:45.237Z"
   },
   {
    "duration": 1171,
    "start_time": "2022-01-20T12:56:59.338Z"
   },
   {
    "duration": 1310,
    "start_time": "2022-01-20T12:57:06.218Z"
   },
   {
    "duration": 150,
    "start_time": "2022-01-20T12:57:45.316Z"
   },
   {
    "duration": 11,
    "start_time": "2022-01-20T12:58:02.397Z"
   },
   {
    "duration": 1192,
    "start_time": "2022-01-20T12:58:02.961Z"
   },
   {
    "duration": 1281,
    "start_time": "2022-01-20T12:59:18.639Z"
   },
   {
    "duration": 17,
    "start_time": "2022-01-20T13:01:43.928Z"
   },
   {
    "duration": 1198,
    "start_time": "2022-01-20T13:01:44.944Z"
   },
   {
    "duration": 24,
    "start_time": "2022-01-20T13:04:20.466Z"
   },
   {
    "duration": 23,
    "start_time": "2022-01-20T13:04:45.779Z"
   },
   {
    "duration": 24,
    "start_time": "2022-01-20T13:08:43.954Z"
   },
   {
    "duration": 1165,
    "start_time": "2022-01-20T13:08:45.679Z"
   },
   {
    "duration": 16,
    "start_time": "2022-01-20T13:10:24.539Z"
   },
   {
    "duration": 15,
    "start_time": "2022-01-20T13:12:33.029Z"
   },
   {
    "duration": 4013,
    "start_time": "2022-01-20T13:13:26.555Z"
   },
   {
    "duration": 556,
    "start_time": "2022-01-20T13:14:23.039Z"
   },
   {
    "duration": 510,
    "start_time": "2022-01-20T13:16:22.814Z"
   },
   {
    "duration": 223,
    "start_time": "2022-01-20T13:19:46.277Z"
   },
   {
    "duration": 162,
    "start_time": "2022-01-20T13:21:32.773Z"
   },
   {
    "duration": 22,
    "start_time": "2022-01-20T13:21:39.571Z"
   },
   {
    "duration": 107,
    "start_time": "2022-01-20T13:22:16.061Z"
   },
   {
    "duration": 105,
    "start_time": "2022-01-20T13:22:25.092Z"
   },
   {
    "duration": 104,
    "start_time": "2022-01-20T13:22:51.568Z"
   },
   {
    "duration": 97,
    "start_time": "2022-01-20T13:23:56.641Z"
   },
   {
    "duration": 12,
    "start_time": "2022-01-20T13:23:57.754Z"
   },
   {
    "duration": 8,
    "start_time": "2022-01-20T13:24:10.416Z"
   },
   {
    "duration": 80,
    "start_time": "2022-01-20T13:25:22.119Z"
   },
   {
    "duration": 13,
    "start_time": "2022-01-20T13:25:24.276Z"
   },
   {
    "duration": 7,
    "start_time": "2022-01-20T13:25:30.253Z"
   },
   {
    "duration": 87,
    "start_time": "2022-01-20T13:25:41.517Z"
   },
   {
    "duration": 15,
    "start_time": "2022-01-20T13:25:42.488Z"
   },
   {
    "duration": 8,
    "start_time": "2022-01-20T13:25:45.086Z"
   },
   {
    "duration": 18,
    "start_time": "2022-01-20T13:25:50.880Z"
   },
   {
    "duration": 3,
    "start_time": "2022-01-20T13:25:50.899Z"
   },
   {
    "duration": 440,
    "start_time": "2022-01-20T13:25:50.903Z"
   },
   {
    "duration": 27,
    "start_time": "2022-01-20T13:25:51.345Z"
   },
   {
    "duration": 59,
    "start_time": "2022-01-20T13:25:51.374Z"
   },
   {
    "duration": 7,
    "start_time": "2022-01-20T13:25:51.435Z"
   },
   {
    "duration": 10,
    "start_time": "2022-01-20T13:25:51.444Z"
   },
   {
    "duration": 801,
    "start_time": "2022-01-20T13:25:51.457Z"
   },
   {
    "duration": 10,
    "start_time": "2022-01-20T13:25:52.260Z"
   },
   {
    "duration": 27,
    "start_time": "2022-01-20T13:25:52.272Z"
   },
   {
    "duration": 22,
    "start_time": "2022-01-20T13:25:52.301Z"
   },
   {
    "duration": 22,
    "start_time": "2022-01-20T13:25:52.325Z"
   },
   {
    "duration": 34,
    "start_time": "2022-01-20T13:25:52.348Z"
   },
   {
    "duration": 15,
    "start_time": "2022-01-20T13:25:52.383Z"
   },
   {
    "duration": 19,
    "start_time": "2022-01-20T13:25:52.399Z"
   },
   {
    "duration": 21,
    "start_time": "2022-01-20T13:25:52.420Z"
   },
   {
    "duration": 22,
    "start_time": "2022-01-20T13:25:52.442Z"
   },
   {
    "duration": 43,
    "start_time": "2022-01-20T13:25:52.467Z"
   },
   {
    "duration": 31,
    "start_time": "2022-01-20T13:25:52.513Z"
   },
   {
    "duration": 9,
    "start_time": "2022-01-20T13:25:52.546Z"
   },
   {
    "duration": 14,
    "start_time": "2022-01-20T13:25:52.557Z"
   },
   {
    "duration": 10,
    "start_time": "2022-01-20T13:25:52.572Z"
   },
   {
    "duration": 9,
    "start_time": "2022-01-20T13:25:52.584Z"
   },
   {
    "duration": 276,
    "start_time": "2022-01-20T13:25:52.595Z"
   },
   {
    "duration": 35,
    "start_time": "2022-01-20T13:25:52.873Z"
   },
   {
    "duration": 10,
    "start_time": "2022-01-20T13:25:52.910Z"
   },
   {
    "duration": 21,
    "start_time": "2022-01-20T13:25:52.922Z"
   },
   {
    "duration": 9,
    "start_time": "2022-01-20T13:25:52.945Z"
   },
   {
    "duration": 20,
    "start_time": "2022-01-20T13:25:52.955Z"
   },
   {
    "duration": 256,
    "start_time": "2022-01-20T13:25:52.998Z"
   },
   {
    "duration": 7,
    "start_time": "2022-01-20T13:25:53.256Z"
   },
   {
    "duration": 10,
    "start_time": "2022-01-20T13:25:53.264Z"
   },
   {
    "duration": 25,
    "start_time": "2022-01-20T13:25:53.275Z"
   },
   {
    "duration": 7,
    "start_time": "2022-01-20T13:25:53.302Z"
   },
   {
    "duration": 466,
    "start_time": "2022-01-20T13:25:53.310Z"
   },
   {
    "duration": 120,
    "start_time": "2022-01-20T13:25:53.778Z"
   },
   {
    "duration": 17,
    "start_time": "2022-01-20T13:25:53.899Z"
   },
   {
    "duration": 9,
    "start_time": "2022-01-20T13:25:53.918Z"
   },
   {
    "duration": 14,
    "start_time": "2022-01-20T13:25:53.929Z"
   },
   {
    "duration": 8,
    "start_time": "2022-01-20T13:25:53.945Z"
   },
   {
    "duration": 48,
    "start_time": "2022-01-20T13:25:53.954Z"
   },
   {
    "duration": 7,
    "start_time": "2022-01-20T13:25:54.003Z"
   },
   {
    "duration": 316,
    "start_time": "2022-01-20T13:25:54.012Z"
   },
   {
    "duration": 139,
    "start_time": "2022-01-20T13:25:54.329Z"
   },
   {
    "duration": 27,
    "start_time": "2022-01-20T13:25:54.470Z"
   },
   {
    "duration": 246,
    "start_time": "2022-01-20T13:25:54.499Z"
   },
   {
    "duration": 21,
    "start_time": "2022-01-20T13:25:54.747Z"
   },
   {
    "duration": 11,
    "start_time": "2022-01-20T13:25:54.770Z"
   },
   {
    "duration": 27,
    "start_time": "2022-01-20T13:25:54.782Z"
   },
   {
    "duration": 8,
    "start_time": "2022-01-20T13:25:54.811Z"
   },
   {
    "duration": 10,
    "start_time": "2022-01-20T13:25:54.823Z"
   },
   {
    "duration": 379,
    "start_time": "2022-01-20T13:25:54.835Z"
   },
   {
    "duration": 9,
    "start_time": "2022-01-20T13:25:55.216Z"
   },
   {
    "duration": 92,
    "start_time": "2022-01-20T13:25:55.227Z"
   },
   {
    "duration": 34,
    "start_time": "2022-01-20T13:25:55.320Z"
   },
   {
    "duration": 174,
    "start_time": "2022-01-20T13:25:55.355Z"
   },
   {
    "duration": 31,
    "start_time": "2022-01-20T13:25:55.531Z"
   },
   {
    "duration": 4,
    "start_time": "2022-01-20T13:25:55.563Z"
   },
   {
    "duration": 30,
    "start_time": "2022-01-20T13:25:55.569Z"
   },
   {
    "duration": 4,
    "start_time": "2022-01-20T13:25:55.601Z"
   },
   {
    "duration": 28,
    "start_time": "2022-01-20T13:25:55.606Z"
   },
   {
    "duration": 5,
    "start_time": "2022-01-20T13:25:55.636Z"
   },
   {
    "duration": 9,
    "start_time": "2022-01-20T13:25:55.642Z"
   },
   {
    "duration": 7,
    "start_time": "2022-01-20T13:25:55.653Z"
   },
   {
    "duration": 38,
    "start_time": "2022-01-20T13:25:55.661Z"
   },
   {
    "duration": 6,
    "start_time": "2022-01-20T13:25:55.700Z"
   },
   {
    "duration": 14,
    "start_time": "2022-01-20T13:25:55.707Z"
   },
   {
    "duration": 98,
    "start_time": "2022-01-20T13:25:55.723Z"
   },
   {
    "duration": 13,
    "start_time": "2022-01-20T13:25:55.823Z"
   },
   {
    "duration": 13,
    "start_time": "2022-01-20T13:25:57.770Z"
   },
   {
    "duration": 8,
    "start_time": "2022-01-20T13:25:58.379Z"
   },
   {
    "duration": 22,
    "start_time": "2022-01-20T13:28:30.762Z"
   },
   {
    "duration": 22,
    "start_time": "2022-01-20T13:28:57.779Z"
   },
   {
    "duration": 11,
    "start_time": "2022-01-20T13:29:12.031Z"
   },
   {
    "duration": 86,
    "start_time": "2022-01-20T13:30:27.344Z"
   },
   {
    "duration": 13,
    "start_time": "2022-01-20T13:30:27.998Z"
   },
   {
    "duration": 90,
    "start_time": "2022-01-20T13:31:52.233Z"
   },
   {
    "duration": 13,
    "start_time": "2022-01-20T13:31:53.108Z"
   },
   {
    "duration": 3,
    "start_time": "2022-01-20T13:32:38.725Z"
   },
   {
    "duration": 99,
    "start_time": "2022-01-20T13:32:46.076Z"
   },
   {
    "duration": 13,
    "start_time": "2022-01-20T13:32:47.094Z"
   },
   {
    "duration": 8,
    "start_time": "2022-01-20T13:32:52.964Z"
   },
   {
    "duration": 29,
    "start_time": "2022-01-20T13:33:02.982Z"
   },
   {
    "duration": 100,
    "start_time": "2022-01-20T13:33:25.652Z"
   },
   {
    "duration": 13,
    "start_time": "2022-01-20T13:33:26.882Z"
   },
   {
    "duration": 9,
    "start_time": "2022-01-20T13:33:28.027Z"
   },
   {
    "duration": 18,
    "start_time": "2022-01-20T13:33:46.337Z"
   },
   {
    "duration": 2,
    "start_time": "2022-01-20T13:33:46.357Z"
   },
   {
    "duration": 425,
    "start_time": "2022-01-20T13:33:46.361Z"
   },
   {
    "duration": 27,
    "start_time": "2022-01-20T13:33:46.788Z"
   },
   {
    "duration": 86,
    "start_time": "2022-01-20T13:33:46.817Z"
   },
   {
    "duration": 5,
    "start_time": "2022-01-20T13:33:46.904Z"
   },
   {
    "duration": 13,
    "start_time": "2022-01-20T13:33:46.911Z"
   },
   {
    "duration": 794,
    "start_time": "2022-01-20T13:33:46.926Z"
   },
   {
    "duration": 11,
    "start_time": "2022-01-20T13:33:47.723Z"
   },
   {
    "duration": 34,
    "start_time": "2022-01-20T13:33:47.736Z"
   },
   {
    "duration": 26,
    "start_time": "2022-01-20T13:33:47.772Z"
   },
   {
    "duration": 29,
    "start_time": "2022-01-20T13:33:47.799Z"
   },
   {
    "duration": 27,
    "start_time": "2022-01-20T13:33:47.829Z"
   },
   {
    "duration": 32,
    "start_time": "2022-01-20T13:33:47.857Z"
   },
   {
    "duration": 29,
    "start_time": "2022-01-20T13:33:47.891Z"
   },
   {
    "duration": 32,
    "start_time": "2022-01-20T13:33:47.922Z"
   },
   {
    "duration": 14,
    "start_time": "2022-01-20T13:33:47.956Z"
   },
   {
    "duration": 24,
    "start_time": "2022-01-20T13:33:47.974Z"
   },
   {
    "duration": 35,
    "start_time": "2022-01-20T13:33:48.000Z"
   },
   {
    "duration": 16,
    "start_time": "2022-01-20T13:33:48.037Z"
   },
   {
    "duration": 41,
    "start_time": "2022-01-20T13:33:48.054Z"
   },
   {
    "duration": 20,
    "start_time": "2022-01-20T13:33:48.097Z"
   },
   {
    "duration": 28,
    "start_time": "2022-01-20T13:33:48.119Z"
   },
   {
    "duration": 277,
    "start_time": "2022-01-20T13:33:48.149Z"
   },
   {
    "duration": 28,
    "start_time": "2022-01-20T13:33:48.428Z"
   },
   {
    "duration": 14,
    "start_time": "2022-01-20T13:33:48.458Z"
   },
   {
    "duration": 61,
    "start_time": "2022-01-20T13:33:48.474Z"
   },
   {
    "duration": 31,
    "start_time": "2022-01-20T13:33:48.537Z"
   },
   {
    "duration": 29,
    "start_time": "2022-01-20T13:33:48.569Z"
   },
   {
    "duration": 263,
    "start_time": "2022-01-20T13:33:48.600Z"
   },
   {
    "duration": 8,
    "start_time": "2022-01-20T13:33:48.865Z"
   },
   {
    "duration": 28,
    "start_time": "2022-01-20T13:33:48.874Z"
   },
   {
    "duration": 27,
    "start_time": "2022-01-20T13:33:48.904Z"
   },
   {
    "duration": 19,
    "start_time": "2022-01-20T13:33:48.932Z"
   },
   {
    "duration": 503,
    "start_time": "2022-01-20T13:33:48.953Z"
   },
   {
    "duration": 118,
    "start_time": "2022-01-20T13:33:49.458Z"
   },
   {
    "duration": 30,
    "start_time": "2022-01-20T13:33:49.578Z"
   },
   {
    "duration": 30,
    "start_time": "2022-01-20T13:33:49.609Z"
   },
   {
    "duration": 26,
    "start_time": "2022-01-20T13:33:49.641Z"
   },
   {
    "duration": 33,
    "start_time": "2022-01-20T13:33:49.668Z"
   },
   {
    "duration": 34,
    "start_time": "2022-01-20T13:33:49.703Z"
   },
   {
    "duration": 10,
    "start_time": "2022-01-20T13:33:49.738Z"
   },
   {
    "duration": 314,
    "start_time": "2022-01-20T13:33:49.749Z"
   },
   {
    "duration": 161,
    "start_time": "2022-01-20T13:33:50.065Z"
   },
   {
    "duration": 13,
    "start_time": "2022-01-20T13:33:50.228Z"
   },
   {
    "duration": 269,
    "start_time": "2022-01-20T13:33:50.243Z"
   },
   {
    "duration": 22,
    "start_time": "2022-01-20T13:33:50.514Z"
   },
   {
    "duration": 20,
    "start_time": "2022-01-20T13:33:50.538Z"
   },
   {
    "duration": 38,
    "start_time": "2022-01-20T13:33:50.559Z"
   },
   {
    "duration": 12,
    "start_time": "2022-01-20T13:33:50.599Z"
   },
   {
    "duration": 38,
    "start_time": "2022-01-20T13:33:50.616Z"
   },
   {
    "duration": 367,
    "start_time": "2022-01-20T13:33:50.657Z"
   },
   {
    "duration": 10,
    "start_time": "2022-01-20T13:33:51.026Z"
   },
   {
    "duration": 84,
    "start_time": "2022-01-20T13:33:51.037Z"
   },
   {
    "duration": 34,
    "start_time": "2022-01-20T13:33:51.123Z"
   },
   {
    "duration": 51,
    "start_time": "2022-01-20T13:33:51.159Z"
   },
   {
    "duration": 33,
    "start_time": "2022-01-20T13:33:51.212Z"
   },
   {
    "duration": 4,
    "start_time": "2022-01-20T13:33:51.247Z"
   },
   {
    "duration": 17,
    "start_time": "2022-01-20T13:33:51.253Z"
   },
   {
    "duration": 20,
    "start_time": "2022-01-20T13:33:51.271Z"
   },
   {
    "duration": 22,
    "start_time": "2022-01-20T13:33:51.297Z"
   },
   {
    "duration": 6,
    "start_time": "2022-01-20T13:33:51.320Z"
   },
   {
    "duration": 10,
    "start_time": "2022-01-20T13:33:51.327Z"
   },
   {
    "duration": 14,
    "start_time": "2022-01-20T13:33:51.338Z"
   },
   {
    "duration": 11,
    "start_time": "2022-01-20T13:33:51.353Z"
   },
   {
    "duration": 15,
    "start_time": "2022-01-20T13:33:51.366Z"
   },
   {
    "duration": 25,
    "start_time": "2022-01-20T13:33:51.383Z"
   },
   {
    "duration": 13,
    "start_time": "2022-01-20T13:33:53.125Z"
   },
   {
    "duration": 103,
    "start_time": "2022-01-20T13:33:53.978Z"
   },
   {
    "duration": 14,
    "start_time": "2022-01-20T13:33:57.213Z"
   },
   {
    "duration": 8,
    "start_time": "2022-01-20T13:33:58.747Z"
   },
   {
    "duration": 22,
    "start_time": "2022-01-20T13:34:06.679Z"
   },
   {
    "duration": 87,
    "start_time": "2022-01-20T13:35:36.407Z"
   },
   {
    "duration": 13,
    "start_time": "2022-01-20T13:35:37.180Z"
   },
   {
    "duration": 8,
    "start_time": "2022-01-20T13:35:41.247Z"
   },
   {
    "duration": 291,
    "start_time": "2022-01-20T13:36:45.913Z"
   },
   {
    "duration": 12,
    "start_time": "2022-01-20T13:36:46.605Z"
   },
   {
    "duration": 96,
    "start_time": "2022-01-20T13:36:56.076Z"
   },
   {
    "duration": 13,
    "start_time": "2022-01-20T13:37:08.695Z"
   },
   {
    "duration": 7,
    "start_time": "2022-01-20T13:37:15.072Z"
   },
   {
    "duration": 22,
    "start_time": "2022-01-20T13:37:16.517Z"
   },
   {
    "duration": 25,
    "start_time": "2022-01-20T13:37:25.373Z"
   },
   {
    "duration": 3,
    "start_time": "2022-01-20T13:37:25.399Z"
   },
   {
    "duration": 453,
    "start_time": "2022-01-20T13:37:25.405Z"
   },
   {
    "duration": 29,
    "start_time": "2022-01-20T13:37:25.860Z"
   },
   {
    "duration": 57,
    "start_time": "2022-01-20T13:37:25.891Z"
   },
   {
    "duration": 6,
    "start_time": "2022-01-20T13:37:25.950Z"
   },
   {
    "duration": 42,
    "start_time": "2022-01-20T13:37:25.958Z"
   },
   {
    "duration": 766,
    "start_time": "2022-01-20T13:37:26.002Z"
   },
   {
    "duration": 10,
    "start_time": "2022-01-20T13:37:26.770Z"
   },
   {
    "duration": 21,
    "start_time": "2022-01-20T13:37:26.782Z"
   },
   {
    "duration": 14,
    "start_time": "2022-01-20T13:37:26.805Z"
   },
   {
    "duration": 12,
    "start_time": "2022-01-20T13:37:26.821Z"
   },
   {
    "duration": 19,
    "start_time": "2022-01-20T13:37:26.835Z"
   },
   {
    "duration": 5,
    "start_time": "2022-01-20T13:37:26.855Z"
   },
   {
    "duration": 10,
    "start_time": "2022-01-20T13:37:26.861Z"
   },
   {
    "duration": 11,
    "start_time": "2022-01-20T13:37:26.872Z"
   },
   {
    "duration": 16,
    "start_time": "2022-01-20T13:37:26.885Z"
   },
   {
    "duration": 7,
    "start_time": "2022-01-20T13:37:26.902Z"
   },
   {
    "duration": 13,
    "start_time": "2022-01-20T13:37:26.910Z"
   },
   {
    "duration": 8,
    "start_time": "2022-01-20T13:37:26.925Z"
   },
   {
    "duration": 7,
    "start_time": "2022-01-20T13:37:26.935Z"
   },
   {
    "duration": 7,
    "start_time": "2022-01-20T13:37:26.944Z"
   },
   {
    "duration": 11,
    "start_time": "2022-01-20T13:37:26.952Z"
   },
   {
    "duration": 325,
    "start_time": "2022-01-20T13:37:26.965Z"
   },
   {
    "duration": 27,
    "start_time": "2022-01-20T13:37:27.293Z"
   },
   {
    "duration": 10,
    "start_time": "2022-01-20T13:37:27.323Z"
   },
   {
    "duration": 20,
    "start_time": "2022-01-20T13:37:27.335Z"
   },
   {
    "duration": 9,
    "start_time": "2022-01-20T13:37:27.357Z"
   },
   {
    "duration": 47,
    "start_time": "2022-01-20T13:37:27.367Z"
   },
   {
    "duration": 250,
    "start_time": "2022-01-20T13:37:27.416Z"
   },
   {
    "duration": 8,
    "start_time": "2022-01-20T13:37:27.667Z"
   },
   {
    "duration": 6,
    "start_time": "2022-01-20T13:37:27.676Z"
   },
   {
    "duration": 11,
    "start_time": "2022-01-20T13:37:27.697Z"
   },
   {
    "duration": 7,
    "start_time": "2022-01-20T13:37:27.709Z"
   },
   {
    "duration": 514,
    "start_time": "2022-01-20T13:37:27.718Z"
   },
   {
    "duration": 110,
    "start_time": "2022-01-20T13:37:28.234Z"
   },
   {
    "duration": 17,
    "start_time": "2022-01-20T13:37:28.346Z"
   },
   {
    "duration": 9,
    "start_time": "2022-01-20T13:37:28.364Z"
   },
   {
    "duration": 29,
    "start_time": "2022-01-20T13:37:28.375Z"
   },
   {
    "duration": 8,
    "start_time": "2022-01-20T13:37:28.406Z"
   },
   {
    "duration": 11,
    "start_time": "2022-01-20T13:37:28.415Z"
   },
   {
    "duration": 6,
    "start_time": "2022-01-20T13:37:28.428Z"
   },
   {
    "duration": 334,
    "start_time": "2022-01-20T13:37:28.435Z"
   },
   {
    "duration": 143,
    "start_time": "2022-01-20T13:37:28.771Z"
   },
   {
    "duration": 13,
    "start_time": "2022-01-20T13:37:28.916Z"
   },
   {
    "duration": 254,
    "start_time": "2022-01-20T13:37:28.931Z"
   },
   {
    "duration": 24,
    "start_time": "2022-01-20T13:37:29.187Z"
   },
   {
    "duration": 11,
    "start_time": "2022-01-20T13:37:29.213Z"
   },
   {
    "duration": 16,
    "start_time": "2022-01-20T13:37:29.226Z"
   },
   {
    "duration": 9,
    "start_time": "2022-01-20T13:37:29.244Z"
   },
   {
    "duration": 12,
    "start_time": "2022-01-20T13:37:29.254Z"
   },
   {
    "duration": 383,
    "start_time": "2022-01-20T13:37:29.267Z"
   },
   {
    "duration": 9,
    "start_time": "2022-01-20T13:37:29.652Z"
   },
   {
    "duration": 83,
    "start_time": "2022-01-20T13:37:29.663Z"
   },
   {
    "duration": 33,
    "start_time": "2022-01-20T13:37:29.747Z"
   },
   {
    "duration": 43,
    "start_time": "2022-01-20T13:37:29.782Z"
   },
   {
    "duration": 33,
    "start_time": "2022-01-20T13:37:29.826Z"
   },
   {
    "duration": 3,
    "start_time": "2022-01-20T13:37:29.861Z"
   },
   {
    "duration": 8,
    "start_time": "2022-01-20T13:37:29.866Z"
   },
   {
    "duration": 4,
    "start_time": "2022-01-20T13:37:29.897Z"
   },
   {
    "duration": 22,
    "start_time": "2022-01-20T13:37:29.903Z"
   },
   {
    "duration": 5,
    "start_time": "2022-01-20T13:37:29.926Z"
   },
   {
    "duration": 13,
    "start_time": "2022-01-20T13:37:29.932Z"
   },
   {
    "duration": 5,
    "start_time": "2022-01-20T13:37:29.947Z"
   },
   {
    "duration": 17,
    "start_time": "2022-01-20T13:37:29.953Z"
   },
   {
    "duration": 26,
    "start_time": "2022-01-20T13:37:29.971Z"
   },
   {
    "duration": 15,
    "start_time": "2022-01-20T13:37:30.000Z"
   },
   {
    "duration": 121,
    "start_time": "2022-01-20T13:37:30.017Z"
   },
   {
    "duration": 14,
    "start_time": "2022-01-20T13:37:30.140Z"
   },
   {
    "duration": 101,
    "start_time": "2022-01-20T13:41:27.026Z"
   },
   {
    "duration": 13,
    "start_time": "2022-01-20T13:41:28.134Z"
   },
   {
    "duration": 8,
    "start_time": "2022-01-20T13:41:31.981Z"
   },
   {
    "duration": 21,
    "start_time": "2022-01-20T13:41:35.847Z"
   },
   {
    "duration": 99,
    "start_time": "2022-01-20T13:41:48.210Z"
   },
   {
    "duration": 14,
    "start_time": "2022-01-20T13:41:48.904Z"
   },
   {
    "duration": 9,
    "start_time": "2022-01-20T13:41:50.656Z"
   },
   {
    "duration": 15,
    "start_time": "2022-01-20T13:41:58.894Z"
   },
   {
    "duration": 22,
    "start_time": "2022-01-20T13:43:33.578Z"
   },
   {
    "duration": 13,
    "start_time": "2022-01-20T13:45:52.153Z"
   },
   {
    "duration": 20,
    "start_time": "2022-01-20T13:46:08.045Z"
   },
   {
    "duration": 11,
    "start_time": "2022-01-20T13:46:33.014Z"
   },
   {
    "duration": 21,
    "start_time": "2022-01-20T13:46:42.771Z"
   },
   {
    "duration": 27,
    "start_time": "2022-01-20T13:47:12.079Z"
   },
   {
    "duration": 22,
    "start_time": "2022-01-20T13:48:18.377Z"
   },
   {
    "duration": 11,
    "start_time": "2022-01-20T13:48:26.296Z"
   },
   {
    "duration": 21,
    "start_time": "2022-01-20T13:49:10.866Z"
   },
   {
    "duration": 5,
    "start_time": "2022-01-20T13:50:33.503Z"
   },
   {
    "duration": 13,
    "start_time": "2022-01-20T13:50:50.088Z"
   },
   {
    "duration": 20,
    "start_time": "2022-01-20T13:51:01.958Z"
   },
   {
    "duration": 3,
    "start_time": "2022-01-20T13:51:01.980Z"
   },
   {
    "duration": 449,
    "start_time": "2022-01-20T13:51:01.986Z"
   },
   {
    "duration": 28,
    "start_time": "2022-01-20T13:51:02.436Z"
   },
   {
    "duration": 57,
    "start_time": "2022-01-20T13:51:02.466Z"
   },
   {
    "duration": 5,
    "start_time": "2022-01-20T13:51:02.525Z"
   },
   {
    "duration": 27,
    "start_time": "2022-01-20T13:51:02.532Z"
   },
   {
    "duration": 810,
    "start_time": "2022-01-20T13:51:02.561Z"
   },
   {
    "duration": 9,
    "start_time": "2022-01-20T13:51:03.373Z"
   },
   {
    "duration": 15,
    "start_time": "2022-01-20T13:51:03.385Z"
   },
   {
    "duration": 34,
    "start_time": "2022-01-20T13:51:03.402Z"
   },
   {
    "duration": 23,
    "start_time": "2022-01-20T13:51:03.438Z"
   },
   {
    "duration": 45,
    "start_time": "2022-01-20T13:51:03.463Z"
   },
   {
    "duration": 26,
    "start_time": "2022-01-20T13:51:03.510Z"
   },
   {
    "duration": 37,
    "start_time": "2022-01-20T13:51:03.538Z"
   },
   {
    "duration": 33,
    "start_time": "2022-01-20T13:51:03.577Z"
   },
   {
    "duration": 20,
    "start_time": "2022-01-20T13:51:03.612Z"
   },
   {
    "duration": 37,
    "start_time": "2022-01-20T13:51:03.634Z"
   },
   {
    "duration": 17,
    "start_time": "2022-01-20T13:51:03.673Z"
   },
   {
    "duration": 9,
    "start_time": "2022-01-20T13:51:03.691Z"
   },
   {
    "duration": 12,
    "start_time": "2022-01-20T13:51:03.701Z"
   },
   {
    "duration": 10,
    "start_time": "2022-01-20T13:51:03.714Z"
   },
   {
    "duration": 11,
    "start_time": "2022-01-20T13:51:03.725Z"
   },
   {
    "duration": 311,
    "start_time": "2022-01-20T13:51:03.738Z"
   },
   {
    "duration": 29,
    "start_time": "2022-01-20T13:51:04.052Z"
   },
   {
    "duration": 23,
    "start_time": "2022-01-20T13:51:04.083Z"
   },
   {
    "duration": 20,
    "start_time": "2022-01-20T13:51:04.108Z"
   },
   {
    "duration": 8,
    "start_time": "2022-01-20T13:51:04.130Z"
   },
   {
    "duration": 19,
    "start_time": "2022-01-20T13:51:04.140Z"
   },
   {
    "duration": 277,
    "start_time": "2022-01-20T13:51:04.161Z"
   },
   {
    "duration": 6,
    "start_time": "2022-01-20T13:51:04.440Z"
   },
   {
    "duration": 4,
    "start_time": "2022-01-20T13:51:04.448Z"
   },
   {
    "duration": 13,
    "start_time": "2022-01-20T13:51:04.453Z"
   },
   {
    "duration": 6,
    "start_time": "2022-01-20T13:51:04.468Z"
   },
   {
    "duration": 469,
    "start_time": "2022-01-20T13:51:04.497Z"
   },
   {
    "duration": 133,
    "start_time": "2022-01-20T13:51:04.968Z"
   },
   {
    "duration": 18,
    "start_time": "2022-01-20T13:51:05.102Z"
   },
   {
    "duration": 10,
    "start_time": "2022-01-20T13:51:05.122Z"
   },
   {
    "duration": 14,
    "start_time": "2022-01-20T13:51:05.133Z"
   },
   {
    "duration": 8,
    "start_time": "2022-01-20T13:51:05.148Z"
   },
   {
    "duration": 40,
    "start_time": "2022-01-20T13:51:05.158Z"
   },
   {
    "duration": 6,
    "start_time": "2022-01-20T13:51:05.200Z"
   },
   {
    "duration": 329,
    "start_time": "2022-01-20T13:51:05.208Z"
   },
   {
    "duration": 162,
    "start_time": "2022-01-20T13:51:05.539Z"
   },
   {
    "duration": 17,
    "start_time": "2022-01-20T13:51:05.703Z"
   },
   {
    "duration": 264,
    "start_time": "2022-01-20T13:51:05.722Z"
   },
   {
    "duration": 29,
    "start_time": "2022-01-20T13:51:05.987Z"
   },
   {
    "duration": 13,
    "start_time": "2022-01-20T13:51:06.017Z"
   },
   {
    "duration": 17,
    "start_time": "2022-01-20T13:51:06.032Z"
   },
   {
    "duration": 14,
    "start_time": "2022-01-20T13:51:06.051Z"
   },
   {
    "duration": 10,
    "start_time": "2022-01-20T13:51:06.097Z"
   },
   {
    "duration": 381,
    "start_time": "2022-01-20T13:51:06.109Z"
   },
   {
    "duration": 10,
    "start_time": "2022-01-20T13:51:06.496Z"
   },
   {
    "duration": 69,
    "start_time": "2022-01-20T13:51:06.508Z"
   },
   {
    "duration": 54,
    "start_time": "2022-01-20T13:51:06.579Z"
   },
   {
    "duration": 33,
    "start_time": "2022-01-20T13:51:06.636Z"
   },
   {
    "duration": 54,
    "start_time": "2022-01-20T13:51:06.671Z"
   },
   {
    "duration": 5,
    "start_time": "2022-01-20T13:51:06.727Z"
   },
   {
    "duration": 9,
    "start_time": "2022-01-20T13:51:06.734Z"
   },
   {
    "duration": 5,
    "start_time": "2022-01-20T13:51:06.745Z"
   },
   {
    "duration": 51,
    "start_time": "2022-01-20T13:51:06.752Z"
   },
   {
    "duration": 5,
    "start_time": "2022-01-20T13:51:06.805Z"
   },
   {
    "duration": 9,
    "start_time": "2022-01-20T13:51:06.811Z"
   },
   {
    "duration": 5,
    "start_time": "2022-01-20T13:51:06.821Z"
   },
   {
    "duration": 9,
    "start_time": "2022-01-20T13:51:06.827Z"
   },
   {
    "duration": 5,
    "start_time": "2022-01-20T13:51:06.838Z"
   },
   {
    "duration": 6,
    "start_time": "2022-01-20T13:51:09.871Z"
   },
   {
    "duration": 14,
    "start_time": "2022-01-20T13:51:10.445Z"
   },
   {
    "duration": 101,
    "start_time": "2022-01-20T13:53:29.696Z"
   },
   {
    "duration": 14,
    "start_time": "2022-01-20T13:53:30.679Z"
   },
   {
    "duration": 8,
    "start_time": "2022-01-20T13:53:36.273Z"
   },
   {
    "duration": 24,
    "start_time": "2022-01-20T13:53:55.352Z"
   },
   {
    "duration": 49,
    "start_time": "2022-01-20T13:55:45.333Z"
   },
   {
    "duration": 58,
    "start_time": "2022-01-20T13:55:59.668Z"
   },
   {
    "duration": 17,
    "start_time": "2022-01-20T13:56:00.695Z"
   },
   {
    "duration": 8,
    "start_time": "2022-01-20T13:56:03.430Z"
   },
   {
    "duration": 11,
    "start_time": "2022-01-20T13:56:06.965Z"
   },
   {
    "duration": 23,
    "start_time": "2022-01-20T13:56:23.401Z"
   },
   {
    "duration": 5,
    "start_time": "2022-01-20T13:58:00.670Z"
   },
   {
    "duration": 19,
    "start_time": "2022-01-20T13:58:01.581Z"
   },
   {
    "duration": 22,
    "start_time": "2022-01-20T13:58:11.275Z"
   },
   {
    "duration": 2,
    "start_time": "2022-01-20T13:58:11.299Z"
   },
   {
    "duration": 411,
    "start_time": "2022-01-20T13:58:11.303Z"
   },
   {
    "duration": 29,
    "start_time": "2022-01-20T13:58:11.715Z"
   },
   {
    "duration": 71,
    "start_time": "2022-01-20T13:58:11.746Z"
   },
   {
    "duration": 5,
    "start_time": "2022-01-20T13:58:11.819Z"
   },
   {
    "duration": 11,
    "start_time": "2022-01-20T13:58:11.825Z"
   },
   {
    "duration": 825,
    "start_time": "2022-01-20T13:58:11.837Z"
   },
   {
    "duration": 10,
    "start_time": "2022-01-20T13:58:12.664Z"
   },
   {
    "duration": 24,
    "start_time": "2022-01-20T13:58:12.676Z"
   },
   {
    "duration": 7,
    "start_time": "2022-01-20T13:58:12.702Z"
   },
   {
    "duration": 7,
    "start_time": "2022-01-20T13:58:12.711Z"
   },
   {
    "duration": 15,
    "start_time": "2022-01-20T13:58:12.719Z"
   },
   {
    "duration": 4,
    "start_time": "2022-01-20T13:58:12.736Z"
   },
   {
    "duration": 10,
    "start_time": "2022-01-20T13:58:12.742Z"
   },
   {
    "duration": 148,
    "start_time": "2022-01-20T13:58:12.754Z"
   },
   {
    "duration": 9,
    "start_time": "2022-01-20T13:58:12.904Z"
   },
   {
    "duration": 12,
    "start_time": "2022-01-20T13:58:12.914Z"
   },
   {
    "duration": 16,
    "start_time": "2022-01-20T13:58:12.928Z"
   },
   {
    "duration": 8,
    "start_time": "2022-01-20T13:58:12.946Z"
   },
   {
    "duration": 8,
    "start_time": "2022-01-20T13:58:12.955Z"
   },
   {
    "duration": 8,
    "start_time": "2022-01-20T13:58:12.964Z"
   },
   {
    "duration": 27,
    "start_time": "2022-01-20T13:58:12.973Z"
   },
   {
    "duration": 327,
    "start_time": "2022-01-20T13:58:13.002Z"
   },
   {
    "duration": 29,
    "start_time": "2022-01-20T13:58:13.334Z"
   },
   {
    "duration": 11,
    "start_time": "2022-01-20T13:58:13.365Z"
   },
   {
    "duration": 21,
    "start_time": "2022-01-20T13:58:13.397Z"
   },
   {
    "duration": 8,
    "start_time": "2022-01-20T13:58:13.420Z"
   },
   {
    "duration": 16,
    "start_time": "2022-01-20T13:58:13.430Z"
   },
   {
    "duration": 270,
    "start_time": "2022-01-20T13:58:13.447Z"
   },
   {
    "duration": 8,
    "start_time": "2022-01-20T13:58:13.719Z"
   },
   {
    "duration": 4,
    "start_time": "2022-01-20T13:58:13.729Z"
   },
   {
    "duration": 18,
    "start_time": "2022-01-20T13:58:13.735Z"
   },
   {
    "duration": 12,
    "start_time": "2022-01-20T13:58:13.755Z"
   },
   {
    "duration": 500,
    "start_time": "2022-01-20T13:58:13.769Z"
   },
   {
    "duration": 143,
    "start_time": "2022-01-20T13:58:14.270Z"
   },
   {
    "duration": 19,
    "start_time": "2022-01-20T13:58:14.414Z"
   },
   {
    "duration": 10,
    "start_time": "2022-01-20T13:58:14.434Z"
   },
   {
    "duration": 14,
    "start_time": "2022-01-20T13:58:14.446Z"
   },
   {
    "duration": 37,
    "start_time": "2022-01-20T13:58:14.461Z"
   },
   {
    "duration": 10,
    "start_time": "2022-01-20T13:58:14.500Z"
   },
   {
    "duration": 8,
    "start_time": "2022-01-20T13:58:14.511Z"
   },
   {
    "duration": 328,
    "start_time": "2022-01-20T13:58:14.520Z"
   },
   {
    "duration": 163,
    "start_time": "2022-01-20T13:58:14.850Z"
   },
   {
    "duration": 14,
    "start_time": "2022-01-20T13:58:15.015Z"
   },
   {
    "duration": 268,
    "start_time": "2022-01-20T13:58:15.031Z"
   },
   {
    "duration": 22,
    "start_time": "2022-01-20T13:58:15.301Z"
   },
   {
    "duration": 11,
    "start_time": "2022-01-20T13:58:15.325Z"
   },
   {
    "duration": 16,
    "start_time": "2022-01-20T13:58:15.337Z"
   },
   {
    "duration": 9,
    "start_time": "2022-01-20T13:58:15.355Z"
   },
   {
    "duration": 36,
    "start_time": "2022-01-20T13:58:15.366Z"
   },
   {
    "duration": 373,
    "start_time": "2022-01-20T13:58:15.404Z"
   },
   {
    "duration": 19,
    "start_time": "2022-01-20T13:58:15.779Z"
   },
   {
    "duration": 81,
    "start_time": "2022-01-20T13:58:15.799Z"
   },
   {
    "duration": 38,
    "start_time": "2022-01-20T13:58:15.882Z"
   },
   {
    "duration": 32,
    "start_time": "2022-01-20T13:58:15.922Z"
   },
   {
    "duration": 51,
    "start_time": "2022-01-20T13:58:15.956Z"
   },
   {
    "duration": 4,
    "start_time": "2022-01-20T13:58:16.009Z"
   },
   {
    "duration": 14,
    "start_time": "2022-01-20T13:58:16.015Z"
   },
   {
    "duration": 8,
    "start_time": "2022-01-20T13:58:16.031Z"
   },
   {
    "duration": 35,
    "start_time": "2022-01-20T13:58:16.040Z"
   },
   {
    "duration": 4,
    "start_time": "2022-01-20T13:58:16.077Z"
   },
   {
    "duration": 16,
    "start_time": "2022-01-20T13:58:16.082Z"
   },
   {
    "duration": 4,
    "start_time": "2022-01-20T13:58:16.100Z"
   },
   {
    "duration": 9,
    "start_time": "2022-01-20T13:58:16.106Z"
   },
   {
    "duration": 6,
    "start_time": "2022-01-20T13:58:16.117Z"
   },
   {
    "duration": 5,
    "start_time": "2022-01-20T13:58:21.067Z"
   },
   {
    "duration": 14,
    "start_time": "2022-01-20T13:58:21.706Z"
   },
   {
    "duration": 283,
    "start_time": "2022-01-20T13:58:29.015Z"
   },
   {
    "duration": 99,
    "start_time": "2022-01-20T14:00:09.414Z"
   },
   {
    "duration": 13,
    "start_time": "2022-01-20T14:00:11.816Z"
   },
   {
    "duration": 3771,
    "start_time": "2022-01-20T14:00:17.022Z"
   },
   {
    "duration": 8,
    "start_time": "2022-01-20T14:00:26.545Z"
   },
   {
    "duration": 156,
    "start_time": "2022-01-20T14:00:36.111Z"
   },
   {
    "duration": 32,
    "start_time": "2022-01-20T14:00:49.007Z"
   },
   {
    "duration": 111,
    "start_time": "2022-01-20T14:01:52.110Z"
   },
   {
    "duration": 15,
    "start_time": "2022-01-20T14:01:53.162Z"
   },
   {
    "duration": 9,
    "start_time": "2022-01-20T14:02:04.577Z"
   },
   {
    "duration": 3,
    "start_time": "2022-01-20T14:02:09.498Z"
   },
   {
    "duration": 24,
    "start_time": "2022-01-20T14:02:09.507Z"
   },
   {
    "duration": 462,
    "start_time": "2022-01-20T14:02:09.532Z"
   },
   {
    "duration": 41,
    "start_time": "2022-01-20T14:02:09.996Z"
   },
   {
    "duration": 90,
    "start_time": "2022-01-20T14:02:10.039Z"
   },
   {
    "duration": 6,
    "start_time": "2022-01-20T14:02:10.130Z"
   },
   {
    "duration": 48,
    "start_time": "2022-01-20T14:02:10.138Z"
   },
   {
    "duration": 792,
    "start_time": "2022-01-20T14:02:10.188Z"
   },
   {
    "duration": 20,
    "start_time": "2022-01-20T14:02:10.982Z"
   },
   {
    "duration": 15,
    "start_time": "2022-01-20T14:02:11.004Z"
   },
   {
    "duration": 29,
    "start_time": "2022-01-20T14:02:11.021Z"
   },
   {
    "duration": 15,
    "start_time": "2022-01-20T14:02:11.052Z"
   },
   {
    "duration": 15,
    "start_time": "2022-01-20T14:02:11.069Z"
   },
   {
    "duration": 8,
    "start_time": "2022-01-20T14:02:11.086Z"
   },
   {
    "duration": 7,
    "start_time": "2022-01-20T14:02:11.096Z"
   },
   {
    "duration": 13,
    "start_time": "2022-01-20T14:02:11.105Z"
   },
   {
    "duration": 11,
    "start_time": "2022-01-20T14:02:11.119Z"
   },
   {
    "duration": 10,
    "start_time": "2022-01-20T14:02:11.131Z"
   },
   {
    "duration": 14,
    "start_time": "2022-01-20T14:02:11.142Z"
   },
   {
    "duration": 10,
    "start_time": "2022-01-20T14:02:11.159Z"
   },
   {
    "duration": 28,
    "start_time": "2022-01-20T14:02:11.172Z"
   },
   {
    "duration": 5,
    "start_time": "2022-01-20T14:02:11.202Z"
   },
   {
    "duration": 11,
    "start_time": "2022-01-20T14:02:11.208Z"
   },
   {
    "duration": 324,
    "start_time": "2022-01-20T14:02:11.221Z"
   },
   {
    "duration": 28,
    "start_time": "2022-01-20T14:02:11.546Z"
   },
   {
    "duration": 28,
    "start_time": "2022-01-20T14:02:11.575Z"
   },
   {
    "duration": 21,
    "start_time": "2022-01-20T14:02:11.605Z"
   },
   {
    "duration": 9,
    "start_time": "2022-01-20T14:02:11.628Z"
   },
   {
    "duration": 25,
    "start_time": "2022-01-20T14:02:11.639Z"
   },
   {
    "duration": 259,
    "start_time": "2022-01-20T14:02:11.666Z"
   },
   {
    "duration": 8,
    "start_time": "2022-01-20T14:02:11.927Z"
   },
   {
    "duration": 5,
    "start_time": "2022-01-20T14:02:11.937Z"
   },
   {
    "duration": 13,
    "start_time": "2022-01-20T14:02:11.944Z"
   },
   {
    "duration": 42,
    "start_time": "2022-01-20T14:02:11.959Z"
   },
   {
    "duration": 466,
    "start_time": "2022-01-20T14:02:12.003Z"
   },
   {
    "duration": 127,
    "start_time": "2022-01-20T14:02:12.471Z"
   },
   {
    "duration": 18,
    "start_time": "2022-01-20T14:02:12.600Z"
   },
   {
    "duration": 8,
    "start_time": "2022-01-20T14:02:12.620Z"
   },
   {
    "duration": 13,
    "start_time": "2022-01-20T14:02:12.630Z"
   },
   {
    "duration": 7,
    "start_time": "2022-01-20T14:02:12.645Z"
   },
   {
    "duration": 12,
    "start_time": "2022-01-20T14:02:12.654Z"
   },
   {
    "duration": 9,
    "start_time": "2022-01-20T14:02:12.697Z"
   },
   {
    "duration": 329,
    "start_time": "2022-01-20T14:02:12.708Z"
   },
   {
    "duration": 141,
    "start_time": "2022-01-20T14:02:13.039Z"
   },
   {
    "duration": 23,
    "start_time": "2022-01-20T14:02:13.181Z"
   },
   {
    "duration": 254,
    "start_time": "2022-01-20T14:02:13.205Z"
   },
   {
    "duration": 23,
    "start_time": "2022-01-20T14:02:13.461Z"
   },
   {
    "duration": 12,
    "start_time": "2022-01-20T14:02:13.497Z"
   },
   {
    "duration": 17,
    "start_time": "2022-01-20T14:02:13.510Z"
   },
   {
    "duration": 9,
    "start_time": "2022-01-20T14:02:13.529Z"
   },
   {
    "duration": 32,
    "start_time": "2022-01-20T14:02:13.539Z"
   },
   {
    "duration": 384,
    "start_time": "2022-01-20T14:02:13.572Z"
   },
   {
    "duration": 10,
    "start_time": "2022-01-20T14:02:13.957Z"
   },
   {
    "duration": 82,
    "start_time": "2022-01-20T14:02:13.968Z"
   },
   {
    "duration": 46,
    "start_time": "2022-01-20T14:02:14.052Z"
   },
   {
    "duration": 34,
    "start_time": "2022-01-20T14:02:14.102Z"
   },
   {
    "duration": 31,
    "start_time": "2022-01-20T14:02:14.138Z"
   },
   {
    "duration": 26,
    "start_time": "2022-01-20T14:02:14.171Z"
   },
   {
    "duration": 7,
    "start_time": "2022-01-20T14:02:14.198Z"
   },
   {
    "duration": 5,
    "start_time": "2022-01-20T14:02:14.207Z"
   },
   {
    "duration": 27,
    "start_time": "2022-01-20T14:02:14.213Z"
   },
   {
    "duration": 4,
    "start_time": "2022-01-20T14:02:14.242Z"
   },
   {
    "duration": 34,
    "start_time": "2022-01-20T14:02:14.248Z"
   },
   {
    "duration": 28,
    "start_time": "2022-01-20T14:02:14.284Z"
   },
   {
    "duration": 33,
    "start_time": "2022-01-20T14:02:14.314Z"
   },
   {
    "duration": 27,
    "start_time": "2022-01-20T14:02:14.349Z"
   },
   {
    "duration": 35,
    "start_time": "2022-01-20T14:02:14.377Z"
   },
   {
    "duration": 134,
    "start_time": "2022-01-20T14:02:14.414Z"
   },
   {
    "duration": 13,
    "start_time": "2022-01-20T14:02:14.549Z"
   },
   {
    "duration": 22,
    "start_time": "2022-01-20T14:02:24.283Z"
   },
   {
    "duration": 8,
    "start_time": "2022-01-20T14:02:30.249Z"
   },
   {
    "duration": 22,
    "start_time": "2022-01-20T14:02:40.110Z"
   },
   {
    "duration": 15,
    "start_time": "2022-01-20T14:03:02.992Z"
   },
   {
    "duration": 1174,
    "start_time": "2022-01-20T14:03:04.162Z"
   },
   {
    "duration": 246,
    "start_time": "2022-01-20T14:03:58.439Z"
   },
   {
    "duration": 20,
    "start_time": "2022-01-20T14:03:59.227Z"
   },
   {
    "duration": 8,
    "start_time": "2022-01-20T14:04:05.157Z"
   },
   {
    "duration": 15,
    "start_time": "2022-01-20T14:04:13.714Z"
   },
   {
    "duration": 1171,
    "start_time": "2022-01-20T14:04:14.766Z"
   },
   {
    "duration": 526,
    "start_time": "2022-01-20T14:04:30.248Z"
   },
   {
    "duration": 15,
    "start_time": "2022-01-20T14:04:36.505Z"
   },
   {
    "duration": 1160,
    "start_time": "2022-01-20T14:04:37.302Z"
   },
   {
    "duration": 17,
    "start_time": "2022-01-20T14:06:22.093Z"
   },
   {
    "duration": 835,
    "start_time": "2022-01-20T14:08:11.499Z"
   },
   {
    "duration": 569,
    "start_time": "2022-01-20T14:08:29.618Z"
   },
   {
    "duration": 15,
    "start_time": "2022-01-20T14:09:12.072Z"
   },
   {
    "duration": 1178,
    "start_time": "2022-01-20T14:09:12.963Z"
   },
   {
    "duration": 526,
    "start_time": "2022-01-20T14:09:41.728Z"
   },
   {
    "duration": 16,
    "start_time": "2022-01-20T14:09:47.554Z"
   },
   {
    "duration": 1509,
    "start_time": "2022-01-20T14:09:48.423Z"
   },
   {
    "duration": 1844,
    "start_time": "2022-01-20T14:09:57.060Z"
   },
   {
    "duration": 1552,
    "start_time": "2022-01-20T14:11:17.607Z"
   },
   {
    "duration": 18,
    "start_time": "2022-01-20T14:11:42.590Z"
   },
   {
    "duration": 22,
    "start_time": "2022-01-20T14:11:42.610Z"
   },
   {
    "duration": 432,
    "start_time": "2022-01-20T14:11:42.634Z"
   },
   {
    "duration": 27,
    "start_time": "2022-01-20T14:11:43.067Z"
   },
   {
    "duration": 57,
    "start_time": "2022-01-20T14:11:43.096Z"
   },
   {
    "duration": 6,
    "start_time": "2022-01-20T14:11:43.155Z"
   },
   {
    "duration": 51,
    "start_time": "2022-01-20T14:11:43.163Z"
   },
   {
    "duration": 808,
    "start_time": "2022-01-20T14:11:43.216Z"
   },
   {
    "duration": 9,
    "start_time": "2022-01-20T14:11:44.026Z"
   },
   {
    "duration": 8,
    "start_time": "2022-01-20T14:11:44.037Z"
   },
   {
    "duration": 13,
    "start_time": "2022-01-20T14:11:44.047Z"
   },
   {
    "duration": 6,
    "start_time": "2022-01-20T14:11:44.061Z"
   },
   {
    "duration": 11,
    "start_time": "2022-01-20T14:11:44.068Z"
   },
   {
    "duration": 20,
    "start_time": "2022-01-20T14:11:44.081Z"
   },
   {
    "duration": 7,
    "start_time": "2022-01-20T14:11:44.102Z"
   },
   {
    "duration": 13,
    "start_time": "2022-01-20T14:11:44.110Z"
   },
   {
    "duration": 8,
    "start_time": "2022-01-20T14:11:44.125Z"
   },
   {
    "duration": 7,
    "start_time": "2022-01-20T14:11:44.137Z"
   },
   {
    "duration": 11,
    "start_time": "2022-01-20T14:11:44.147Z"
   },
   {
    "duration": 8,
    "start_time": "2022-01-20T14:11:44.159Z"
   },
   {
    "duration": 32,
    "start_time": "2022-01-20T14:11:44.168Z"
   },
   {
    "duration": 6,
    "start_time": "2022-01-20T14:11:44.201Z"
   },
   {
    "duration": 21,
    "start_time": "2022-01-20T14:11:44.208Z"
   },
   {
    "duration": 267,
    "start_time": "2022-01-20T14:11:44.231Z"
   },
   {
    "duration": 28,
    "start_time": "2022-01-20T14:11:44.499Z"
   },
   {
    "duration": 11,
    "start_time": "2022-01-20T14:11:44.529Z"
   },
   {
    "duration": 20,
    "start_time": "2022-01-20T14:11:44.541Z"
   },
   {
    "duration": 8,
    "start_time": "2022-01-20T14:11:44.562Z"
   },
   {
    "duration": 15,
    "start_time": "2022-01-20T14:11:44.597Z"
   },
   {
    "duration": 248,
    "start_time": "2022-01-20T14:11:44.614Z"
   },
   {
    "duration": 7,
    "start_time": "2022-01-20T14:11:44.863Z"
   },
   {
    "duration": 4,
    "start_time": "2022-01-20T14:11:44.871Z"
   },
   {
    "duration": 28,
    "start_time": "2022-01-20T14:11:44.877Z"
   },
   {
    "duration": 9,
    "start_time": "2022-01-20T14:11:44.907Z"
   },
   {
    "duration": 471,
    "start_time": "2022-01-20T14:11:44.917Z"
   },
   {
    "duration": 135,
    "start_time": "2022-01-20T14:11:45.390Z"
   },
   {
    "duration": 19,
    "start_time": "2022-01-20T14:11:45.527Z"
   },
   {
    "duration": 10,
    "start_time": "2022-01-20T14:11:45.547Z"
   },
   {
    "duration": 38,
    "start_time": "2022-01-20T14:11:45.559Z"
   },
   {
    "duration": 9,
    "start_time": "2022-01-20T14:11:45.599Z"
   },
   {
    "duration": 16,
    "start_time": "2022-01-20T14:11:45.610Z"
   },
   {
    "duration": 7,
    "start_time": "2022-01-20T14:11:45.628Z"
   },
   {
    "duration": 313,
    "start_time": "2022-01-20T14:11:45.637Z"
   },
   {
    "duration": 125,
    "start_time": "2022-01-20T14:11:45.952Z"
   },
   {
    "duration": 26,
    "start_time": "2022-01-20T14:11:46.078Z"
   },
   {
    "duration": 249,
    "start_time": "2022-01-20T14:11:46.106Z"
   },
   {
    "duration": 22,
    "start_time": "2022-01-20T14:11:46.357Z"
   },
   {
    "duration": 24,
    "start_time": "2022-01-20T14:11:46.381Z"
   },
   {
    "duration": 16,
    "start_time": "2022-01-20T14:11:46.407Z"
   },
   {
    "duration": 10,
    "start_time": "2022-01-20T14:11:46.424Z"
   },
   {
    "duration": 7,
    "start_time": "2022-01-20T14:11:46.439Z"
   },
   {
    "duration": 382,
    "start_time": "2022-01-20T14:11:46.448Z"
   },
   {
    "duration": 9,
    "start_time": "2022-01-20T14:11:46.833Z"
   },
   {
    "duration": 83,
    "start_time": "2022-01-20T14:11:46.843Z"
   },
   {
    "duration": 32,
    "start_time": "2022-01-20T14:11:46.928Z"
   },
   {
    "duration": 46,
    "start_time": "2022-01-20T14:11:46.961Z"
   },
   {
    "duration": 33,
    "start_time": "2022-01-20T14:11:47.009Z"
   },
   {
    "duration": 4,
    "start_time": "2022-01-20T14:11:47.044Z"
   },
   {
    "duration": 13,
    "start_time": "2022-01-20T14:11:47.049Z"
   },
   {
    "duration": 4,
    "start_time": "2022-01-20T14:11:47.064Z"
   },
   {
    "duration": 46,
    "start_time": "2022-01-20T14:11:47.070Z"
   },
   {
    "duration": 5,
    "start_time": "2022-01-20T14:11:47.118Z"
   },
   {
    "duration": 11,
    "start_time": "2022-01-20T14:11:47.124Z"
   },
   {
    "duration": 7,
    "start_time": "2022-01-20T14:11:47.137Z"
   },
   {
    "duration": 13,
    "start_time": "2022-01-20T14:11:47.146Z"
   },
   {
    "duration": 5,
    "start_time": "2022-01-20T14:11:47.161Z"
   },
   {
    "duration": 34,
    "start_time": "2022-01-20T14:11:47.168Z"
   },
   {
    "duration": 113,
    "start_time": "2022-01-20T14:11:47.204Z"
   },
   {
    "duration": 14,
    "start_time": "2022-01-20T14:11:47.319Z"
   },
   {
    "duration": 12,
    "start_time": "2022-01-20T14:11:47.335Z"
   },
   {
    "duration": 22,
    "start_time": "2022-01-20T14:11:47.348Z"
   },
   {
    "duration": 1207,
    "start_time": "2022-01-20T14:11:47.372Z"
   },
   {
    "duration": 676,
    "start_time": "2022-01-20T14:11:48.580Z"
   },
   {
    "duration": 16,
    "start_time": "2022-01-20T14:11:49.257Z"
   },
   {
    "duration": 1229,
    "start_time": "2022-01-20T14:11:49.275Z"
   },
   {
    "duration": 1854,
    "start_time": "2022-01-20T14:11:50.506Z"
   },
   {
    "duration": 2646,
    "start_time": "2022-01-20T14:12:50.692Z"
   },
   {
    "duration": 1752,
    "start_time": "2022-01-20T14:13:04.101Z"
   },
   {
    "duration": 15,
    "start_time": "2022-01-20T14:15:46.567Z"
   },
   {
    "duration": 1172,
    "start_time": "2022-01-20T14:15:47.235Z"
   },
   {
    "duration": 50,
    "start_time": "2022-01-20T14:17:43.239Z"
   },
   {
    "duration": 77,
    "start_time": "2022-01-20T14:18:02.142Z"
   },
   {
    "duration": 2014,
    "start_time": "2022-01-20T14:18:11.430Z"
   },
   {
    "duration": 3531,
    "start_time": "2022-01-20T14:18:33.751Z"
   },
   {
    "duration": 1681,
    "start_time": "2022-01-20T14:19:16.570Z"
   },
   {
    "duration": 48,
    "start_time": "2022-01-20T14:19:45.837Z"
   },
   {
    "duration": 3360,
    "start_time": "2022-01-20T14:20:20.343Z"
   },
   {
    "duration": 3273,
    "start_time": "2022-01-20T14:20:26.665Z"
   },
   {
    "duration": 3450,
    "start_time": "2022-01-20T14:20:38.229Z"
   },
   {
    "duration": 24,
    "start_time": "2022-01-20T14:20:45.014Z"
   },
   {
    "duration": 3,
    "start_time": "2022-01-20T14:20:45.040Z"
   },
   {
    "duration": 421,
    "start_time": "2022-01-20T14:20:45.045Z"
   },
   {
    "duration": 31,
    "start_time": "2022-01-20T14:20:45.468Z"
   },
   {
    "duration": 62,
    "start_time": "2022-01-20T14:20:45.501Z"
   },
   {
    "duration": 38,
    "start_time": "2022-01-20T14:20:45.564Z"
   },
   {
    "duration": 11,
    "start_time": "2022-01-20T14:20:45.606Z"
   },
   {
    "duration": 829,
    "start_time": "2022-01-20T14:20:45.619Z"
   },
   {
    "duration": 11,
    "start_time": "2022-01-20T14:20:46.450Z"
   },
   {
    "duration": 8,
    "start_time": "2022-01-20T14:20:46.463Z"
   },
   {
    "duration": 25,
    "start_time": "2022-01-20T14:20:46.473Z"
   },
   {
    "duration": 5,
    "start_time": "2022-01-20T14:20:46.499Z"
   },
   {
    "duration": 13,
    "start_time": "2022-01-20T14:20:46.505Z"
   },
   {
    "duration": 5,
    "start_time": "2022-01-20T14:20:46.519Z"
   },
   {
    "duration": 10,
    "start_time": "2022-01-20T14:20:46.525Z"
   },
   {
    "duration": 13,
    "start_time": "2022-01-20T14:20:46.537Z"
   },
   {
    "duration": 7,
    "start_time": "2022-01-20T14:20:46.551Z"
   },
   {
    "duration": 6,
    "start_time": "2022-01-20T14:20:46.561Z"
   },
   {
    "duration": 34,
    "start_time": "2022-01-20T14:20:46.569Z"
   },
   {
    "duration": 8,
    "start_time": "2022-01-20T14:20:46.604Z"
   },
   {
    "duration": 20,
    "start_time": "2022-01-20T14:20:46.613Z"
   },
   {
    "duration": 11,
    "start_time": "2022-01-20T14:20:46.635Z"
   },
   {
    "duration": 16,
    "start_time": "2022-01-20T14:20:46.647Z"
   },
   {
    "duration": 278,
    "start_time": "2022-01-20T14:20:46.665Z"
   },
   {
    "duration": 27,
    "start_time": "2022-01-20T14:20:46.944Z"
   },
   {
    "duration": 25,
    "start_time": "2022-01-20T14:20:46.973Z"
   },
   {
    "duration": 22,
    "start_time": "2022-01-20T14:20:47.000Z"
   },
   {
    "duration": 9,
    "start_time": "2022-01-20T14:20:47.023Z"
   },
   {
    "duration": 29,
    "start_time": "2022-01-20T14:20:47.034Z"
   },
   {
    "duration": 252,
    "start_time": "2022-01-20T14:20:47.065Z"
   },
   {
    "duration": 7,
    "start_time": "2022-01-20T14:20:47.319Z"
   },
   {
    "duration": 22,
    "start_time": "2022-01-20T14:20:47.328Z"
   },
   {
    "duration": 36,
    "start_time": "2022-01-20T14:20:47.351Z"
   },
   {
    "duration": 23,
    "start_time": "2022-01-20T14:20:47.389Z"
   },
   {
    "duration": 458,
    "start_time": "2022-01-20T14:20:47.414Z"
   },
   {
    "duration": 102,
    "start_time": "2022-01-20T14:20:47.873Z"
   },
   {
    "duration": 29,
    "start_time": "2022-01-20T14:20:47.977Z"
   },
   {
    "duration": 20,
    "start_time": "2022-01-20T14:20:48.008Z"
   },
   {
    "duration": 37,
    "start_time": "2022-01-20T14:20:48.029Z"
   },
   {
    "duration": 162,
    "start_time": "2022-01-20T14:20:48.068Z"
   },
   {
    "duration": 24,
    "start_time": "2022-01-20T14:20:48.232Z"
   },
   {
    "duration": 23,
    "start_time": "2022-01-20T14:20:48.258Z"
   },
   {
    "duration": 328,
    "start_time": "2022-01-20T14:20:48.283Z"
   },
   {
    "duration": 145,
    "start_time": "2022-01-20T14:20:48.613Z"
   },
   {
    "duration": 14,
    "start_time": "2022-01-20T14:20:48.759Z"
   },
   {
    "duration": 256,
    "start_time": "2022-01-20T14:20:48.774Z"
   },
   {
    "duration": 21,
    "start_time": "2022-01-20T14:20:49.032Z"
   },
   {
    "duration": 11,
    "start_time": "2022-01-20T14:20:49.055Z"
   },
   {
    "duration": 36,
    "start_time": "2022-01-20T14:20:49.067Z"
   },
   {
    "duration": 10,
    "start_time": "2022-01-20T14:20:49.104Z"
   },
   {
    "duration": 21,
    "start_time": "2022-01-20T14:20:49.118Z"
   },
   {
    "duration": 379,
    "start_time": "2022-01-20T14:20:49.141Z"
   },
   {
    "duration": 11,
    "start_time": "2022-01-20T14:20:49.522Z"
   },
   {
    "duration": 85,
    "start_time": "2022-01-20T14:20:49.535Z"
   },
   {
    "duration": 33,
    "start_time": "2022-01-20T14:20:49.622Z"
   },
   {
    "duration": 49,
    "start_time": "2022-01-20T14:20:49.656Z"
   },
   {
    "duration": 30,
    "start_time": "2022-01-20T14:20:49.707Z"
   },
   {
    "duration": 4,
    "start_time": "2022-01-20T14:20:49.739Z"
   },
   {
    "duration": 55,
    "start_time": "2022-01-20T14:20:49.744Z"
   },
   {
    "duration": 29,
    "start_time": "2022-01-20T14:20:49.801Z"
   },
   {
    "duration": 53,
    "start_time": "2022-01-20T14:20:49.832Z"
   },
   {
    "duration": 14,
    "start_time": "2022-01-20T14:20:49.886Z"
   },
   {
    "duration": 13,
    "start_time": "2022-01-20T14:20:49.902Z"
   },
   {
    "duration": 11,
    "start_time": "2022-01-20T14:20:49.917Z"
   },
   {
    "duration": 31,
    "start_time": "2022-01-20T14:20:49.930Z"
   },
   {
    "duration": 24,
    "start_time": "2022-01-20T14:20:49.963Z"
   },
   {
    "duration": 26,
    "start_time": "2022-01-20T14:20:49.989Z"
   },
   {
    "duration": 108,
    "start_time": "2022-01-20T14:20:50.017Z"
   },
   {
    "duration": 14,
    "start_time": "2022-01-20T14:20:50.127Z"
   },
   {
    "duration": 11,
    "start_time": "2022-01-20T14:20:50.143Z"
   },
   {
    "duration": 20,
    "start_time": "2022-01-20T14:20:50.156Z"
   },
   {
    "duration": 1208,
    "start_time": "2022-01-20T14:20:50.178Z"
   },
   {
    "duration": 497,
    "start_time": "2022-01-20T14:20:51.388Z"
   },
   {
    "duration": 21,
    "start_time": "2022-01-20T14:20:51.886Z"
   },
   {
    "duration": 3336,
    "start_time": "2022-01-20T14:20:51.908Z"
   },
   {
    "duration": 1691,
    "start_time": "2022-01-20T14:20:55.246Z"
   },
   {
    "duration": 44,
    "start_time": "2022-01-20T14:21:12.375Z"
   },
   {
    "duration": 3305,
    "start_time": "2022-01-20T14:21:17.536Z"
   },
   {
    "duration": 1175,
    "start_time": "2022-01-20T14:21:30.764Z"
   },
   {
    "duration": 1302,
    "start_time": "2022-01-20T14:21:45.999Z"
   },
   {
    "duration": 504,
    "start_time": "2022-01-20T14:22:03.231Z"
   },
   {
    "duration": 14,
    "start_time": "2022-01-20T14:22:09.315Z"
   },
   {
    "duration": 1171,
    "start_time": "2022-01-20T14:22:10.404Z"
   },
   {
    "duration": 15,
    "start_time": "2022-01-20T14:23:11.805Z"
   },
   {
    "duration": 1130,
    "start_time": "2022-01-20T14:23:12.653Z"
   },
   {
    "duration": 1785,
    "start_time": "2022-01-20T14:23:29.363Z"
   },
   {
    "duration": 181,
    "start_time": "2022-01-20T14:24:55.849Z"
   },
   {
    "duration": 130,
    "start_time": "2022-01-20T14:25:28.297Z"
   },
   {
    "duration": 474,
    "start_time": "2022-01-20T14:25:48.725Z"
   },
   {
    "duration": 173,
    "start_time": "2022-01-20T14:26:21.959Z"
   },
   {
    "duration": 44,
    "start_time": "2022-01-20T14:27:38.560Z"
   },
   {
    "duration": 42,
    "start_time": "2022-01-20T14:27:58.505Z"
   },
   {
    "duration": 3376,
    "start_time": "2022-01-20T14:28:29.780Z"
   },
   {
    "duration": 1823,
    "start_time": "2022-01-20T14:28:45.228Z"
   },
   {
    "duration": 1835,
    "start_time": "2022-01-20T14:29:28.525Z"
   },
   {
    "duration": 146,
    "start_time": "2022-01-20T14:31:10.880Z"
   },
   {
    "duration": 51,
    "start_time": "2022-01-20T14:31:20.634Z"
   },
   {
    "duration": 147,
    "start_time": "2022-01-20T14:31:27.158Z"
   },
   {
    "duration": 162,
    "start_time": "2022-01-20T14:31:45.012Z"
   },
   {
    "duration": 606,
    "start_time": "2022-01-20T14:48:22.527Z"
   },
   {
    "duration": 571,
    "start_time": "2022-01-20T14:48:43.174Z"
   },
   {
    "duration": 521,
    "start_time": "2022-01-20T14:49:00.647Z"
   },
   {
    "duration": 507,
    "start_time": "2022-01-20T14:49:09.465Z"
   },
   {
    "duration": 647,
    "start_time": "2022-01-20T14:49:15.956Z"
   },
   {
    "duration": 14,
    "start_time": "2022-01-20T14:50:27.974Z"
   },
   {
    "duration": 1146,
    "start_time": "2022-01-20T14:50:28.819Z"
   },
   {
    "duration": 1744,
    "start_time": "2022-01-20T14:51:03.468Z"
   },
   {
    "duration": 15,
    "start_time": "2022-01-20T14:53:14.487Z"
   },
   {
    "duration": 1166,
    "start_time": "2022-01-20T14:53:15.254Z"
   },
   {
    "duration": 203,
    "start_time": "2022-01-20T14:56:18.022Z"
   },
   {
    "duration": 199,
    "start_time": "2022-01-20T14:56:46.388Z"
   },
   {
    "duration": 201,
    "start_time": "2022-01-20T14:57:13.609Z"
   },
   {
    "duration": 367,
    "start_time": "2022-01-20T14:59:06.511Z"
   },
   {
    "duration": 663,
    "start_time": "2022-01-20T14:59:33.552Z"
   },
   {
    "duration": 310,
    "start_time": "2022-01-20T15:00:10.115Z"
   },
   {
    "duration": 387,
    "start_time": "2022-01-20T15:00:24.622Z"
   },
   {
    "duration": 52,
    "start_time": "2022-01-20T15:00:59.160Z"
   },
   {
    "duration": 45,
    "start_time": "2022-01-20T15:01:04.330Z"
   },
   {
    "duration": 46,
    "start_time": "2022-01-20T15:01:13.038Z"
   },
   {
    "duration": 52,
    "start_time": "2022-01-20T15:01:22.187Z"
   },
   {
    "duration": 395,
    "start_time": "2022-01-20T15:01:28.292Z"
   },
   {
    "duration": 4567,
    "start_time": "2022-01-20T15:02:36.606Z"
   },
   {
    "duration": 948,
    "start_time": "2022-01-20T15:03:07.692Z"
   },
   {
    "duration": 565,
    "start_time": "2022-01-20T15:05:43.833Z"
   },
   {
    "duration": 404,
    "start_time": "2022-01-20T15:06:00.775Z"
   },
   {
    "duration": 402,
    "start_time": "2022-01-20T15:06:12.081Z"
   },
   {
    "duration": 403,
    "start_time": "2022-01-20T15:06:53.853Z"
   },
   {
    "duration": 148,
    "start_time": "2022-01-20T15:07:15.143Z"
   },
   {
    "duration": 399,
    "start_time": "2022-01-20T15:07:25.666Z"
   },
   {
    "duration": 413,
    "start_time": "2022-01-20T15:07:37.148Z"
   },
   {
    "duration": 43,
    "start_time": "2022-01-20T15:08:15.629Z"
   },
   {
    "duration": 541,
    "start_time": "2022-01-20T15:08:24.336Z"
   },
   {
    "duration": 402,
    "start_time": "2022-01-20T15:09:31.412Z"
   },
   {
    "duration": 400,
    "start_time": "2022-01-20T15:09:40.541Z"
   },
   {
    "duration": 400,
    "start_time": "2022-01-20T15:09:51.967Z"
   },
   {
    "duration": 408,
    "start_time": "2022-01-20T15:10:17.872Z"
   },
   {
    "duration": 1134,
    "start_time": "2022-01-20T15:11:02.563Z"
   },
   {
    "duration": 1574,
    "start_time": "2022-01-20T15:11:37.500Z"
   },
   {
    "duration": 1938,
    "start_time": "2022-01-20T15:12:19.619Z"
   },
   {
    "duration": 138,
    "start_time": "2022-01-20T15:12:39.327Z"
   },
   {
    "duration": 1771,
    "start_time": "2022-01-20T15:12:46.679Z"
   },
   {
    "duration": 1768,
    "start_time": "2022-01-20T15:13:37.280Z"
   },
   {
    "duration": 1596,
    "start_time": "2022-01-20T15:14:08.516Z"
   },
   {
    "duration": 1785,
    "start_time": "2022-01-20T15:14:36.737Z"
   },
   {
    "duration": 1830,
    "start_time": "2022-01-20T15:14:50.499Z"
   },
   {
    "duration": 1820,
    "start_time": "2022-01-20T15:15:16.997Z"
   },
   {
    "duration": 1989,
    "start_time": "2022-01-20T15:15:48.496Z"
   },
   {
    "duration": 1947,
    "start_time": "2022-01-20T15:16:15.129Z"
   },
   {
    "duration": 1733,
    "start_time": "2022-01-20T15:16:40.503Z"
   },
   {
    "duration": 1964,
    "start_time": "2022-01-20T15:16:52.644Z"
   },
   {
    "duration": 1815,
    "start_time": "2022-01-20T15:18:04.101Z"
   },
   {
    "duration": 2285,
    "start_time": "2022-01-20T15:19:15.023Z"
   },
   {
    "duration": 1707,
    "start_time": "2022-01-20T15:33:52.602Z"
   },
   {
    "duration": 53,
    "start_time": "2022-01-20T15:38:42.525Z"
   },
   {
    "duration": 50,
    "start_time": "2022-01-20T15:38:59.091Z"
   },
   {
    "duration": 23,
    "start_time": "2022-01-20T15:39:05.757Z"
   },
   {
    "duration": 2,
    "start_time": "2022-01-20T15:39:05.782Z"
   },
   {
    "duration": 473,
    "start_time": "2022-01-20T15:39:05.787Z"
   },
   {
    "duration": 30,
    "start_time": "2022-01-20T15:39:06.262Z"
   },
   {
    "duration": 64,
    "start_time": "2022-01-20T15:39:06.294Z"
   },
   {
    "duration": 38,
    "start_time": "2022-01-20T15:39:06.360Z"
   },
   {
    "duration": 11,
    "start_time": "2022-01-20T15:39:06.400Z"
   },
   {
    "duration": 830,
    "start_time": "2022-01-20T15:39:06.414Z"
   },
   {
    "duration": 14,
    "start_time": "2022-01-20T15:39:07.248Z"
   },
   {
    "duration": 10,
    "start_time": "2022-01-20T15:39:07.264Z"
   },
   {
    "duration": 26,
    "start_time": "2022-01-20T15:39:07.276Z"
   },
   {
    "duration": 5,
    "start_time": "2022-01-20T15:39:07.303Z"
   },
   {
    "duration": 11,
    "start_time": "2022-01-20T15:39:07.310Z"
   },
   {
    "duration": 5,
    "start_time": "2022-01-20T15:39:07.323Z"
   },
   {
    "duration": 11,
    "start_time": "2022-01-20T15:39:07.329Z"
   },
   {
    "duration": 19,
    "start_time": "2022-01-20T15:39:07.342Z"
   },
   {
    "duration": 9,
    "start_time": "2022-01-20T15:39:07.362Z"
   },
   {
    "duration": 26,
    "start_time": "2022-01-20T15:39:07.373Z"
   },
   {
    "duration": 10,
    "start_time": "2022-01-20T15:39:07.401Z"
   },
   {
    "duration": 8,
    "start_time": "2022-01-20T15:39:07.412Z"
   },
   {
    "duration": 8,
    "start_time": "2022-01-20T15:39:07.422Z"
   },
   {
    "duration": 6,
    "start_time": "2022-01-20T15:39:07.433Z"
   },
   {
    "duration": 13,
    "start_time": "2022-01-20T15:39:07.441Z"
   },
   {
    "duration": 335,
    "start_time": "2022-01-20T15:39:07.456Z"
   },
   {
    "duration": 32,
    "start_time": "2022-01-20T15:39:07.792Z"
   },
   {
    "duration": 12,
    "start_time": "2022-01-20T15:39:07.825Z"
   },
   {
    "duration": 19,
    "start_time": "2022-01-20T15:39:07.838Z"
   },
   {
    "duration": 8,
    "start_time": "2022-01-20T15:39:07.859Z"
   },
   {
    "duration": 39,
    "start_time": "2022-01-20T15:39:07.868Z"
   },
   {
    "duration": 266,
    "start_time": "2022-01-20T15:39:07.908Z"
   },
   {
    "duration": 8,
    "start_time": "2022-01-20T15:39:08.175Z"
   },
   {
    "duration": 4,
    "start_time": "2022-01-20T15:39:08.196Z"
   },
   {
    "duration": 12,
    "start_time": "2022-01-20T15:39:08.202Z"
   },
   {
    "duration": 7,
    "start_time": "2022-01-20T15:39:08.216Z"
   },
   {
    "duration": 481,
    "start_time": "2022-01-20T15:39:08.224Z"
   },
   {
    "duration": 133,
    "start_time": "2022-01-20T15:39:08.707Z"
   },
   {
    "duration": 18,
    "start_time": "2022-01-20T15:39:08.842Z"
   },
   {
    "duration": 39,
    "start_time": "2022-01-20T15:39:08.861Z"
   },
   {
    "duration": 29,
    "start_time": "2022-01-20T15:39:08.901Z"
   },
   {
    "duration": 34,
    "start_time": "2022-01-20T15:39:08.932Z"
   },
   {
    "duration": 40,
    "start_time": "2022-01-20T15:39:08.967Z"
   },
   {
    "duration": 25,
    "start_time": "2022-01-20T15:39:09.009Z"
   },
   {
    "duration": 327,
    "start_time": "2022-01-20T15:39:09.036Z"
   },
   {
    "duration": 142,
    "start_time": "2022-01-20T15:39:09.365Z"
   },
   {
    "duration": 14,
    "start_time": "2022-01-20T15:39:09.509Z"
   },
   {
    "duration": 265,
    "start_time": "2022-01-20T15:39:09.524Z"
   },
   {
    "duration": 25,
    "start_time": "2022-01-20T15:39:09.791Z"
   },
   {
    "duration": 11,
    "start_time": "2022-01-20T15:39:09.818Z"
   },
   {
    "duration": 16,
    "start_time": "2022-01-20T15:39:09.830Z"
   },
   {
    "duration": 9,
    "start_time": "2022-01-20T15:39:09.847Z"
   },
   {
    "duration": 10,
    "start_time": "2022-01-20T15:39:09.857Z"
   },
   {
    "duration": 397,
    "start_time": "2022-01-20T15:39:09.868Z"
   },
   {
    "duration": 9,
    "start_time": "2022-01-20T15:39:10.267Z"
   },
   {
    "duration": 240,
    "start_time": "2022-01-20T15:39:10.277Z"
   },
   {
    "duration": 33,
    "start_time": "2022-01-20T15:39:10.518Z"
   },
   {
    "duration": 45,
    "start_time": "2022-01-20T15:39:10.553Z"
   },
   {
    "duration": 30,
    "start_time": "2022-01-20T15:39:10.600Z"
   },
   {
    "duration": 4,
    "start_time": "2022-01-20T15:39:10.632Z"
   },
   {
    "duration": 30,
    "start_time": "2022-01-20T15:39:10.637Z"
   },
   {
    "duration": 20,
    "start_time": "2022-01-20T15:39:10.669Z"
   },
   {
    "duration": 28,
    "start_time": "2022-01-20T15:39:10.691Z"
   },
   {
    "duration": 13,
    "start_time": "2022-01-20T15:39:10.721Z"
   },
   {
    "duration": 35,
    "start_time": "2022-01-20T15:39:10.736Z"
   },
   {
    "duration": 30,
    "start_time": "2022-01-20T15:39:10.777Z"
   },
   {
    "duration": 32,
    "start_time": "2022-01-20T15:39:10.809Z"
   },
   {
    "duration": 7,
    "start_time": "2022-01-20T15:39:10.843Z"
   },
   {
    "duration": 14,
    "start_time": "2022-01-20T15:39:10.851Z"
   },
   {
    "duration": 99,
    "start_time": "2022-01-20T15:39:10.867Z"
   },
   {
    "duration": 13,
    "start_time": "2022-01-20T15:39:10.968Z"
   },
   {
    "duration": 16,
    "start_time": "2022-01-20T15:39:10.983Z"
   },
   {
    "duration": 16,
    "start_time": "2022-01-20T15:39:11.001Z"
   },
   {
    "duration": 1173,
    "start_time": "2022-01-20T15:39:11.019Z"
   },
   {
    "duration": 15,
    "start_time": "2022-01-20T15:39:12.196Z"
   },
   {
    "duration": 1148,
    "start_time": "2022-01-20T15:39:12.212Z"
   },
   {
    "duration": 1802,
    "start_time": "2022-01-20T15:39:13.361Z"
   },
   {
    "duration": 55,
    "start_time": "2022-01-20T15:39:15.165Z"
   },
   {
    "duration": 45,
    "start_time": "2022-01-20T15:39:18.667Z"
   },
   {
    "duration": 49,
    "start_time": "2022-01-20T15:39:27.256Z"
   },
   {
    "duration": 3,
    "start_time": "2022-01-20T15:50:32.543Z"
   },
   {
    "duration": 5,
    "start_time": "2022-01-20T15:50:42.716Z"
   },
   {
    "duration": 24,
    "start_time": "2022-01-20T15:54:49.225Z"
   },
   {
    "duration": 217,
    "start_time": "2022-01-20T15:54:50.206Z"
   },
   {
    "duration": 3,
    "start_time": "2022-01-20T15:55:04.942Z"
   },
   {
    "duration": 21,
    "start_time": "2022-01-20T15:55:04.950Z"
   },
   {
    "duration": 462,
    "start_time": "2022-01-20T15:55:04.974Z"
   },
   {
    "duration": 31,
    "start_time": "2022-01-20T15:55:05.438Z"
   },
   {
    "duration": 63,
    "start_time": "2022-01-20T15:55:05.471Z"
   },
   {
    "duration": 8,
    "start_time": "2022-01-20T15:55:05.537Z"
   },
   {
    "duration": 13,
    "start_time": "2022-01-20T15:55:05.548Z"
   },
   {
    "duration": 859,
    "start_time": "2022-01-20T15:55:05.563Z"
   },
   {
    "duration": 11,
    "start_time": "2022-01-20T15:55:06.426Z"
   },
   {
    "duration": 12,
    "start_time": "2022-01-20T15:55:06.440Z"
   },
   {
    "duration": 15,
    "start_time": "2022-01-20T15:55:06.454Z"
   },
   {
    "duration": 31,
    "start_time": "2022-01-20T15:55:06.471Z"
   },
   {
    "duration": 19,
    "start_time": "2022-01-20T15:55:06.505Z"
   },
   {
    "duration": 6,
    "start_time": "2022-01-20T15:55:06.527Z"
   },
   {
    "duration": 25,
    "start_time": "2022-01-20T15:55:06.535Z"
   },
   {
    "duration": 16,
    "start_time": "2022-01-20T15:55:06.562Z"
   },
   {
    "duration": 17,
    "start_time": "2022-01-20T15:55:06.581Z"
   },
   {
    "duration": 12,
    "start_time": "2022-01-20T15:55:06.600Z"
   },
   {
    "duration": 15,
    "start_time": "2022-01-20T15:55:06.614Z"
   },
   {
    "duration": 8,
    "start_time": "2022-01-20T15:55:06.630Z"
   },
   {
    "duration": 11,
    "start_time": "2022-01-20T15:55:06.640Z"
   },
   {
    "duration": 8,
    "start_time": "2022-01-20T15:55:06.653Z"
   },
   {
    "duration": 11,
    "start_time": "2022-01-20T15:55:06.662Z"
   },
   {
    "duration": 292,
    "start_time": "2022-01-20T15:55:06.697Z"
   },
   {
    "duration": 30,
    "start_time": "2022-01-20T15:55:06.992Z"
   },
   {
    "duration": 12,
    "start_time": "2022-01-20T15:55:07.024Z"
   },
   {
    "duration": 22,
    "start_time": "2022-01-20T15:55:07.037Z"
   },
   {
    "duration": 8,
    "start_time": "2022-01-20T15:55:07.061Z"
   },
   {
    "duration": 18,
    "start_time": "2022-01-20T15:55:07.097Z"
   },
   {
    "duration": 305,
    "start_time": "2022-01-20T15:55:07.118Z"
   },
   {
    "duration": 8,
    "start_time": "2022-01-20T15:55:07.424Z"
   },
   {
    "duration": 5,
    "start_time": "2022-01-20T15:55:07.434Z"
   },
   {
    "duration": 16,
    "start_time": "2022-01-20T15:55:07.441Z"
   },
   {
    "duration": 7,
    "start_time": "2022-01-20T15:55:07.459Z"
   },
   {
    "duration": 495,
    "start_time": "2022-01-20T15:55:07.468Z"
   },
   {
    "duration": 121,
    "start_time": "2022-01-20T15:55:07.965Z"
   },
   {
    "duration": 27,
    "start_time": "2022-01-20T15:55:08.087Z"
   },
   {
    "duration": 9,
    "start_time": "2022-01-20T15:55:08.115Z"
   },
   {
    "duration": 13,
    "start_time": "2022-01-20T15:55:08.126Z"
   },
   {
    "duration": 9,
    "start_time": "2022-01-20T15:55:08.141Z"
   },
   {
    "duration": 10,
    "start_time": "2022-01-20T15:55:08.151Z"
   },
   {
    "duration": 35,
    "start_time": "2022-01-20T15:55:08.163Z"
   },
   {
    "duration": 329,
    "start_time": "2022-01-20T15:55:08.200Z"
   },
   {
    "duration": 127,
    "start_time": "2022-01-20T15:55:08.531Z"
   },
   {
    "duration": 13,
    "start_time": "2022-01-20T15:55:08.659Z"
   },
   {
    "duration": 289,
    "start_time": "2022-01-20T15:55:08.674Z"
   },
   {
    "duration": 32,
    "start_time": "2022-01-20T15:55:08.965Z"
   },
   {
    "duration": 17,
    "start_time": "2022-01-20T15:55:09.000Z"
   },
   {
    "duration": 21,
    "start_time": "2022-01-20T15:55:09.018Z"
   },
   {
    "duration": 9,
    "start_time": "2022-01-20T15:55:09.041Z"
   },
   {
    "duration": 12,
    "start_time": "2022-01-20T15:55:09.051Z"
   },
   {
    "duration": 423,
    "start_time": "2022-01-20T15:55:09.065Z"
   },
   {
    "duration": 13,
    "start_time": "2022-01-20T15:55:09.490Z"
   },
   {
    "duration": 70,
    "start_time": "2022-01-20T15:55:09.505Z"
   },
   {
    "duration": 52,
    "start_time": "2022-01-20T15:55:09.577Z"
   },
   {
    "duration": 34,
    "start_time": "2022-01-20T15:55:09.630Z"
   },
   {
    "duration": 57,
    "start_time": "2022-01-20T15:55:09.665Z"
   },
   {
    "duration": 4,
    "start_time": "2022-01-20T15:55:09.724Z"
   },
   {
    "duration": 8,
    "start_time": "2022-01-20T15:55:09.730Z"
   },
   {
    "duration": 4,
    "start_time": "2022-01-20T15:55:09.740Z"
   },
   {
    "duration": 24,
    "start_time": "2022-01-20T15:55:09.746Z"
   },
   {
    "duration": 29,
    "start_time": "2022-01-20T15:55:09.771Z"
   },
   {
    "duration": 7,
    "start_time": "2022-01-20T15:55:09.802Z"
   },
   {
    "duration": 20,
    "start_time": "2022-01-20T15:55:09.811Z"
   },
   {
    "duration": 11,
    "start_time": "2022-01-20T15:55:09.833Z"
   },
   {
    "duration": 7,
    "start_time": "2022-01-20T15:55:09.846Z"
   },
   {
    "duration": 16,
    "start_time": "2022-01-20T15:55:09.855Z"
   },
   {
    "duration": 112,
    "start_time": "2022-01-20T15:55:09.873Z"
   },
   {
    "duration": 20,
    "start_time": "2022-01-20T15:55:09.990Z"
   },
   {
    "duration": 11,
    "start_time": "2022-01-20T15:55:10.012Z"
   },
   {
    "duration": 18,
    "start_time": "2022-01-20T15:55:10.024Z"
   },
   {
    "duration": 1343,
    "start_time": "2022-01-20T15:55:10.044Z"
   },
   {
    "duration": 34,
    "start_time": "2022-01-20T15:55:11.388Z"
   },
   {
    "duration": 24,
    "start_time": "2022-01-20T15:55:12.779Z"
   },
   {
    "duration": 181,
    "start_time": "2022-01-20T15:55:14.117Z"
   },
   {
    "duration": 14,
    "start_time": "2022-01-20T15:55:23.746Z"
   },
   {
    "duration": 1380,
    "start_time": "2022-01-20T15:55:24.312Z"
   },
   {
    "duration": 187,
    "start_time": "2022-01-20T16:00:09.955Z"
   },
   {
    "duration": 143,
    "start_time": "2022-01-20T16:00:46.511Z"
   },
   {
    "duration": 146,
    "start_time": "2022-01-20T16:01:14.071Z"
   },
   {
    "duration": 181,
    "start_time": "2022-01-20T16:01:41.544Z"
   },
   {
    "duration": 165,
    "start_time": "2022-01-20T16:02:08.371Z"
   },
   {
    "duration": 172,
    "start_time": "2022-01-20T16:02:15.371Z"
   },
   {
    "duration": 198,
    "start_time": "2022-01-20T16:02:22.023Z"
   },
   {
    "duration": 191,
    "start_time": "2022-01-20T16:02:25.995Z"
   },
   {
    "duration": 177,
    "start_time": "2022-01-20T16:02:31.849Z"
   },
   {
    "duration": 181,
    "start_time": "2022-01-20T16:03:08.338Z"
   },
   {
    "duration": 133,
    "start_time": "2022-01-20T16:03:16.567Z"
   },
   {
    "duration": 4247,
    "start_time": "2022-01-20T16:03:29.195Z"
   },
   {
    "duration": 58,
    "start_time": "2022-01-20T16:04:02.247Z"
   },
   {
    "duration": 55,
    "start_time": "2022-01-20T16:04:11.748Z"
   },
   {
    "duration": 686,
    "start_time": "2022-01-20T16:04:36.787Z"
   },
   {
    "duration": 23,
    "start_time": "2022-01-20T16:06:46.903Z"
   },
   {
    "duration": 39,
    "start_time": "2022-01-20T16:07:14.458Z"
   },
   {
    "duration": 27,
    "start_time": "2022-01-20T16:09:00.761Z"
   },
   {
    "duration": 32,
    "start_time": "2022-01-20T16:11:21.684Z"
   },
   {
    "duration": 44,
    "start_time": "2022-01-20T16:13:20.840Z"
   },
   {
    "duration": 45,
    "start_time": "2022-01-20T16:13:42.848Z"
   },
   {
    "duration": 43,
    "start_time": "2022-01-20T16:14:05.393Z"
   },
   {
    "duration": 41,
    "start_time": "2022-01-20T16:14:45.110Z"
   },
   {
    "duration": 1690,
    "start_time": "2022-01-20T16:24:35.688Z"
   },
   {
    "duration": 16,
    "start_time": "2022-01-20T16:25:01.060Z"
   },
   {
    "duration": 4323,
    "start_time": "2022-01-20T16:25:04.065Z"
   },
   {
    "duration": 16,
    "start_time": "2022-01-20T16:25:24.875Z"
   },
   {
    "duration": 1209,
    "start_time": "2022-01-20T16:25:25.504Z"
   },
   {
    "duration": 540,
    "start_time": "2022-01-20T16:26:43.596Z"
   },
   {
    "duration": 625,
    "start_time": "2022-01-20T16:27:02.667Z"
   },
   {
    "duration": 546,
    "start_time": "2022-01-20T16:27:29.339Z"
   },
   {
    "duration": 598,
    "start_time": "2022-01-20T16:27:53.051Z"
   },
   {
    "duration": 46,
    "start_time": "2022-01-20T16:28:00.212Z"
   },
   {
    "duration": 718,
    "start_time": "2022-01-20T17:29:40.052Z"
   },
   {
    "duration": 699,
    "start_time": "2022-01-20T17:29:48.462Z"
   },
   {
    "duration": 698,
    "start_time": "2022-01-20T17:29:56.843Z"
   },
   {
    "duration": 20,
    "start_time": "2022-01-20T17:30:09.374Z"
   },
   {
    "duration": 3,
    "start_time": "2022-01-20T17:30:09.396Z"
   },
   {
    "duration": 459,
    "start_time": "2022-01-20T17:30:09.401Z"
   },
   {
    "duration": 31,
    "start_time": "2022-01-20T17:30:09.862Z"
   },
   {
    "duration": 59,
    "start_time": "2022-01-20T17:30:09.895Z"
   },
   {
    "duration": 7,
    "start_time": "2022-01-20T17:30:09.956Z"
   },
   {
    "duration": 36,
    "start_time": "2022-01-20T17:30:09.965Z"
   },
   {
    "duration": 937,
    "start_time": "2022-01-20T17:30:10.003Z"
   },
   {
    "duration": 11,
    "start_time": "2022-01-20T17:30:10.943Z"
   },
   {
    "duration": 29,
    "start_time": "2022-01-20T17:30:10.956Z"
   },
   {
    "duration": 27,
    "start_time": "2022-01-20T17:30:10.987Z"
   },
   {
    "duration": 45,
    "start_time": "2022-01-20T17:30:11.016Z"
   },
   {
    "duration": 35,
    "start_time": "2022-01-20T17:30:11.063Z"
   },
   {
    "duration": 19,
    "start_time": "2022-01-20T17:30:11.101Z"
   },
   {
    "duration": 30,
    "start_time": "2022-01-20T17:30:11.122Z"
   },
   {
    "duration": 44,
    "start_time": "2022-01-20T17:30:11.154Z"
   },
   {
    "duration": 48,
    "start_time": "2022-01-20T17:30:11.199Z"
   },
   {
    "duration": 44,
    "start_time": "2022-01-20T17:30:11.249Z"
   },
   {
    "duration": 75,
    "start_time": "2022-01-20T17:30:11.295Z"
   },
   {
    "duration": 35,
    "start_time": "2022-01-20T17:30:11.372Z"
   },
   {
    "duration": 19,
    "start_time": "2022-01-20T17:30:11.409Z"
   },
   {
    "duration": 37,
    "start_time": "2022-01-20T17:30:11.430Z"
   },
   {
    "duration": 27,
    "start_time": "2022-01-20T17:30:11.468Z"
   },
   {
    "duration": 382,
    "start_time": "2022-01-20T17:30:11.497Z"
   },
   {
    "duration": 35,
    "start_time": "2022-01-20T17:30:11.881Z"
   },
   {
    "duration": 17,
    "start_time": "2022-01-20T17:30:11.918Z"
   },
   {
    "duration": 29,
    "start_time": "2022-01-20T17:30:11.937Z"
   },
   {
    "duration": 10,
    "start_time": "2022-01-20T17:30:11.968Z"
   },
   {
    "duration": 47,
    "start_time": "2022-01-20T17:30:11.980Z"
   },
   {
    "duration": 260,
    "start_time": "2022-01-20T17:30:12.029Z"
   },
   {
    "duration": 12,
    "start_time": "2022-01-20T17:30:12.291Z"
   },
   {
    "duration": 33,
    "start_time": "2022-01-20T17:30:12.305Z"
   },
   {
    "duration": 32,
    "start_time": "2022-01-20T17:30:12.340Z"
   },
   {
    "duration": 34,
    "start_time": "2022-01-20T17:30:12.374Z"
   },
   {
    "duration": 496,
    "start_time": "2022-01-20T17:30:12.410Z"
   },
   {
    "duration": 143,
    "start_time": "2022-01-20T17:30:12.908Z"
   },
   {
    "duration": 18,
    "start_time": "2022-01-20T17:30:13.053Z"
   },
   {
    "duration": 27,
    "start_time": "2022-01-20T17:30:13.076Z"
   },
   {
    "duration": 41,
    "start_time": "2022-01-20T17:30:13.106Z"
   },
   {
    "duration": 10,
    "start_time": "2022-01-20T17:30:13.149Z"
   },
   {
    "duration": 22,
    "start_time": "2022-01-20T17:30:13.161Z"
   },
   {
    "duration": 16,
    "start_time": "2022-01-20T17:30:13.185Z"
   },
   {
    "duration": 360,
    "start_time": "2022-01-20T17:30:13.203Z"
   },
   {
    "duration": 153,
    "start_time": "2022-01-20T17:30:13.565Z"
   },
   {
    "duration": 16,
    "start_time": "2022-01-20T17:30:13.720Z"
   },
   {
    "duration": 482,
    "start_time": "2022-01-20T17:30:13.737Z"
   },
   {
    "duration": 22,
    "start_time": "2022-01-20T17:30:14.221Z"
   },
   {
    "duration": 11,
    "start_time": "2022-01-20T17:30:14.245Z"
   },
   {
    "duration": 39,
    "start_time": "2022-01-20T17:30:14.258Z"
   },
   {
    "duration": 9,
    "start_time": "2022-01-20T17:30:14.299Z"
   },
   {
    "duration": 23,
    "start_time": "2022-01-20T17:30:14.310Z"
   },
   {
    "duration": 398,
    "start_time": "2022-01-20T17:30:14.334Z"
   },
   {
    "duration": 9,
    "start_time": "2022-01-20T17:30:14.734Z"
   },
   {
    "duration": 81,
    "start_time": "2022-01-20T17:30:14.744Z"
   },
   {
    "duration": 33,
    "start_time": "2022-01-20T17:30:14.827Z"
   },
   {
    "duration": 40,
    "start_time": "2022-01-20T17:30:14.862Z"
   },
   {
    "duration": 32,
    "start_time": "2022-01-20T17:30:14.903Z"
   },
   {
    "duration": 4,
    "start_time": "2022-01-20T17:30:14.937Z"
   },
   {
    "duration": 24,
    "start_time": "2022-01-20T17:30:14.942Z"
   },
   {
    "duration": 16,
    "start_time": "2022-01-20T17:30:14.968Z"
   },
   {
    "duration": 44,
    "start_time": "2022-01-20T17:30:14.985Z"
   },
   {
    "duration": 10,
    "start_time": "2022-01-20T17:30:15.031Z"
   },
   {
    "duration": 49,
    "start_time": "2022-01-20T17:30:15.043Z"
   },
   {
    "duration": 24,
    "start_time": "2022-01-20T17:30:15.094Z"
   },
   {
    "duration": 29,
    "start_time": "2022-01-20T17:30:15.120Z"
   },
   {
    "duration": 11,
    "start_time": "2022-01-20T17:30:15.151Z"
   },
   {
    "duration": 43,
    "start_time": "2022-01-20T17:30:15.163Z"
   },
   {
    "duration": 138,
    "start_time": "2022-01-20T17:30:15.208Z"
   },
   {
    "duration": 15,
    "start_time": "2022-01-20T17:30:15.348Z"
   },
   {
    "duration": 36,
    "start_time": "2022-01-20T17:30:15.365Z"
   },
   {
    "duration": 955,
    "start_time": "2022-01-20T17:30:19.818Z"
   },
   {
    "duration": 414,
    "start_time": "2022-01-20T17:30:34.671Z"
   },
   {
    "duration": 1851,
    "start_time": "2022-01-20T17:31:17.775Z"
   },
   {
    "duration": 22,
    "start_time": "2022-01-20T17:32:23.846Z"
   },
   {
    "duration": 25,
    "start_time": "2022-01-20T17:33:13.306Z"
   },
   {
    "duration": 185,
    "start_time": "2022-01-20T17:35:44.667Z"
   },
   {
    "duration": 45,
    "start_time": "2022-01-20T17:36:15.441Z"
   },
   {
    "duration": 287,
    "start_time": "2022-01-20T17:36:22.146Z"
   },
   {
    "duration": 249,
    "start_time": "2022-01-20T17:36:28.111Z"
   },
   {
    "duration": 274,
    "start_time": "2022-01-20T17:36:46.018Z"
   },
   {
    "duration": 211,
    "start_time": "2022-01-20T17:36:54.809Z"
   },
   {
    "duration": 254,
    "start_time": "2022-01-20T17:37:01.343Z"
   },
   {
    "duration": 1674,
    "start_time": "2022-01-20T17:37:13.013Z"
   },
   {
    "duration": 347,
    "start_time": "2022-01-20T17:37:39.802Z"
   },
   {
    "duration": 227,
    "start_time": "2022-01-20T17:37:48.057Z"
   },
   {
    "duration": 189,
    "start_time": "2022-01-20T17:37:53.518Z"
   },
   {
    "duration": 261,
    "start_time": "2022-01-20T17:38:01.581Z"
   },
   {
    "duration": 1707,
    "start_time": "2022-01-20T17:38:50.530Z"
   },
   {
    "duration": 1119,
    "start_time": "2022-01-20T17:39:13.526Z"
   },
   {
    "duration": 72,
    "start_time": "2022-01-20T17:39:56.655Z"
   },
   {
    "duration": 1088,
    "start_time": "2022-01-20T17:40:15.998Z"
   },
   {
    "duration": 1300,
    "start_time": "2022-01-20T17:40:25.931Z"
   },
   {
    "duration": 1423,
    "start_time": "2022-01-20T17:41:05.647Z"
   },
   {
    "duration": 1366,
    "start_time": "2022-01-20T17:41:17.512Z"
   },
   {
    "duration": 43,
    "start_time": "2022-01-20T17:41:27.169Z"
   },
   {
    "duration": 527,
    "start_time": "2022-01-20T17:43:44.148Z"
   },
   {
    "duration": 44,
    "start_time": "2022-01-20T17:44:01.133Z"
   },
   {
    "duration": 47,
    "start_time": "2022-01-20T17:44:31.858Z"
   },
   {
    "duration": 45,
    "start_time": "2022-01-20T17:47:17.521Z"
   },
   {
    "duration": 15,
    "start_time": "2022-01-20T17:47:45.233Z"
   },
   {
    "duration": 909,
    "start_time": "2022-01-20T17:47:54.025Z"
   },
   {
    "duration": 16,
    "start_time": "2022-01-20T17:48:06.305Z"
   },
   {
    "duration": 16,
    "start_time": "2022-01-20T17:48:17.665Z"
   },
   {
    "duration": 4891,
    "start_time": "2022-01-20T17:48:18.755Z"
   },
   {
    "duration": 878,
    "start_time": "2022-01-20T17:48:26.484Z"
   },
   {
    "duration": 1122,
    "start_time": "2022-01-20T18:03:16.277Z"
   },
   {
    "duration": 1376,
    "start_time": "2022-01-20T18:03:36.928Z"
   },
   {
    "duration": 1128,
    "start_time": "2022-01-20T18:03:52.673Z"
   },
   {
    "duration": 1154,
    "start_time": "2022-01-20T18:04:03.685Z"
   },
   {
    "duration": 1142,
    "start_time": "2022-01-20T18:04:31.216Z"
   },
   {
    "duration": 899,
    "start_time": "2022-01-20T18:04:44.572Z"
   },
   {
    "duration": 924,
    "start_time": "2022-01-20T18:05:02.041Z"
   },
   {
    "duration": 302,
    "start_time": "2022-01-21T10:09:00.967Z"
   },
   {
    "duration": 764,
    "start_time": "2022-01-21T10:09:05.040Z"
   },
   {
    "duration": 3,
    "start_time": "2022-01-21T10:09:05.806Z"
   },
   {
    "duration": 446,
    "start_time": "2022-01-21T10:09:05.811Z"
   },
   {
    "duration": 35,
    "start_time": "2022-01-21T10:09:06.259Z"
   },
   {
    "duration": 66,
    "start_time": "2022-01-21T10:09:06.296Z"
   },
   {
    "duration": 6,
    "start_time": "2022-01-21T10:09:06.363Z"
   },
   {
    "duration": 34,
    "start_time": "2022-01-21T10:09:06.371Z"
   },
   {
    "duration": 830,
    "start_time": "2022-01-21T10:09:06.408Z"
   },
   {
    "duration": 9,
    "start_time": "2022-01-21T10:09:07.241Z"
   },
   {
    "duration": 11,
    "start_time": "2022-01-21T10:09:07.252Z"
   },
   {
    "duration": 13,
    "start_time": "2022-01-21T10:09:07.265Z"
   },
   {
    "duration": 6,
    "start_time": "2022-01-21T10:09:07.299Z"
   },
   {
    "duration": 10,
    "start_time": "2022-01-21T10:09:07.307Z"
   },
   {
    "duration": 10,
    "start_time": "2022-01-21T10:09:07.319Z"
   },
   {
    "duration": 9,
    "start_time": "2022-01-21T10:09:07.331Z"
   },
   {
    "duration": 11,
    "start_time": "2022-01-21T10:09:07.342Z"
   },
   {
    "duration": 7,
    "start_time": "2022-01-21T10:09:07.355Z"
   },
   {
    "duration": 37,
    "start_time": "2022-01-21T10:09:07.363Z"
   },
   {
    "duration": 10,
    "start_time": "2022-01-21T10:09:07.402Z"
   },
   {
    "duration": 9,
    "start_time": "2022-01-21T10:09:07.414Z"
   },
   {
    "duration": 8,
    "start_time": "2022-01-21T10:09:07.425Z"
   },
   {
    "duration": 10,
    "start_time": "2022-01-21T10:09:07.434Z"
   },
   {
    "duration": 11,
    "start_time": "2022-01-21T10:09:07.445Z"
   },
   {
    "duration": 326,
    "start_time": "2022-01-21T10:09:07.458Z"
   },
   {
    "duration": 48,
    "start_time": "2022-01-21T10:09:07.786Z"
   },
   {
    "duration": 15,
    "start_time": "2022-01-21T10:09:07.836Z"
   },
   {
    "duration": 42,
    "start_time": "2022-01-21T10:09:07.856Z"
   },
   {
    "duration": 12,
    "start_time": "2022-01-21T10:09:07.902Z"
   },
   {
    "duration": 25,
    "start_time": "2022-01-21T10:09:07.916Z"
   },
   {
    "duration": 289,
    "start_time": "2022-01-21T10:09:07.943Z"
   },
   {
    "duration": 8,
    "start_time": "2022-01-21T10:09:08.234Z"
   },
   {
    "duration": 4,
    "start_time": "2022-01-21T10:09:08.244Z"
   },
   {
    "duration": 20,
    "start_time": "2022-01-21T10:09:08.250Z"
   },
   {
    "duration": 29,
    "start_time": "2022-01-21T10:09:08.271Z"
   },
   {
    "duration": 532,
    "start_time": "2022-01-21T10:09:08.302Z"
   },
   {
    "duration": 106,
    "start_time": "2022-01-21T10:09:08.835Z"
   },
   {
    "duration": 19,
    "start_time": "2022-01-21T10:09:08.943Z"
   },
   {
    "duration": 9,
    "start_time": "2022-01-21T10:09:08.964Z"
   },
   {
    "duration": 32,
    "start_time": "2022-01-21T10:09:08.975Z"
   },
   {
    "duration": 9,
    "start_time": "2022-01-21T10:09:09.009Z"
   },
   {
    "duration": 10,
    "start_time": "2022-01-21T10:09:09.020Z"
   },
   {
    "duration": 7,
    "start_time": "2022-01-21T10:09:09.032Z"
   },
   {
    "duration": 397,
    "start_time": "2022-01-21T10:09:09.041Z"
   },
   {
    "duration": 134,
    "start_time": "2022-01-21T10:09:09.440Z"
   },
   {
    "duration": 23,
    "start_time": "2022-01-21T10:09:09.576Z"
   },
   {
    "duration": 277,
    "start_time": "2022-01-21T10:09:09.601Z"
   },
   {
    "duration": 34,
    "start_time": "2022-01-21T10:09:09.879Z"
   },
   {
    "duration": 12,
    "start_time": "2022-01-21T10:09:09.915Z"
   },
   {
    "duration": 23,
    "start_time": "2022-01-21T10:09:09.929Z"
   },
   {
    "duration": 9,
    "start_time": "2022-01-21T10:09:09.954Z"
   },
   {
    "duration": 39,
    "start_time": "2022-01-21T10:09:09.965Z"
   },
   {
    "duration": 392,
    "start_time": "2022-01-21T10:09:10.006Z"
   },
   {
    "duration": 10,
    "start_time": "2022-01-21T10:09:10.400Z"
   },
   {
    "duration": 86,
    "start_time": "2022-01-21T10:09:10.412Z"
   },
   {
    "duration": 34,
    "start_time": "2022-01-21T10:09:10.500Z"
   },
   {
    "duration": 32,
    "start_time": "2022-01-21T10:09:10.536Z"
   },
   {
    "duration": 68,
    "start_time": "2022-01-21T10:09:10.570Z"
   },
   {
    "duration": 4,
    "start_time": "2022-01-21T10:09:10.640Z"
   },
   {
    "duration": 9,
    "start_time": "2022-01-21T10:09:10.646Z"
   },
   {
    "duration": 6,
    "start_time": "2022-01-21T10:09:10.656Z"
   },
   {
    "duration": 42,
    "start_time": "2022-01-21T10:09:10.664Z"
   },
   {
    "duration": 4,
    "start_time": "2022-01-21T10:09:10.708Z"
   },
   {
    "duration": 12,
    "start_time": "2022-01-21T10:09:10.714Z"
   },
   {
    "duration": 9,
    "start_time": "2022-01-21T10:09:10.728Z"
   },
   {
    "duration": 9,
    "start_time": "2022-01-21T10:09:10.739Z"
   },
   {
    "duration": 9,
    "start_time": "2022-01-21T10:09:10.749Z"
   },
   {
    "duration": 44,
    "start_time": "2022-01-21T10:09:10.760Z"
   },
   {
    "duration": 138,
    "start_time": "2022-01-21T10:09:10.806Z"
   },
   {
    "duration": 13,
    "start_time": "2022-01-21T10:09:10.945Z"
   },
   {
    "duration": 9,
    "start_time": "2022-01-21T10:09:10.959Z"
   },
   {
    "duration": 525,
    "start_time": "2022-01-21T10:09:10.969Z"
   },
   {
    "duration": 1262,
    "start_time": "2022-01-21T10:09:11.496Z"
   },
   {
    "duration": 995,
    "start_time": "2022-01-21T10:09:12.760Z"
   },
   {
    "duration": -1550,
    "start_time": "2022-01-21T10:09:15.307Z"
   },
   {
    "duration": -1559,
    "start_time": "2022-01-21T10:09:15.317Z"
   },
   {
    "duration": -1565,
    "start_time": "2022-01-21T10:09:15.325Z"
   },
   {
    "duration": -1573,
    "start_time": "2022-01-21T10:09:15.334Z"
   },
   {
    "duration": 929,
    "start_time": "2022-01-21T10:09:16.858Z"
   },
   {
    "duration": 36,
    "start_time": "2022-01-21T10:09:30.249Z"
   },
   {
    "duration": 46,
    "start_time": "2022-01-21T10:11:32.063Z"
   },
   {
    "duration": 20,
    "start_time": "2022-01-21T10:11:58.113Z"
   },
   {
    "duration": 1013,
    "start_time": "2022-01-21T10:11:58.594Z"
   },
   {
    "duration": 27,
    "start_time": "2022-01-21T10:14:37.655Z"
   },
   {
    "duration": 1105,
    "start_time": "2022-01-21T10:14:43.039Z"
   },
   {
    "duration": 765,
    "start_time": "2022-01-21T10:49:30.135Z"
   },
   {
    "duration": 454,
    "start_time": "2022-01-21T10:49:39.778Z"
   },
   {
    "duration": 791,
    "start_time": "2022-01-21T10:49:46.076Z"
   },
   {
    "duration": 808,
    "start_time": "2022-01-21T10:50:00.748Z"
   },
   {
    "duration": 443,
    "start_time": "2022-01-21T10:50:08.978Z"
   },
   {
    "duration": 5883,
    "start_time": "2022-01-21T10:50:59.459Z"
   },
   {
    "duration": 8,
    "start_time": "2022-01-21T10:51:34.031Z"
   },
   {
    "duration": 29,
    "start_time": "2022-01-21T11:03:26.564Z"
   },
   {
    "duration": 5,
    "start_time": "2022-01-21T11:18:59.773Z"
   },
   {
    "duration": 232,
    "start_time": "2022-01-21T11:20:20.953Z"
   },
   {
    "duration": 12,
    "start_time": "2022-01-21T11:20:33.641Z"
   },
   {
    "duration": 101,
    "start_time": "2022-01-21T11:20:42.042Z"
   },
   {
    "duration": 20,
    "start_time": "2022-01-21T11:21:02.989Z"
   },
   {
    "duration": 25,
    "start_time": "2022-01-21T11:22:22.031Z"
   },
   {
    "duration": 20,
    "start_time": "2022-01-21T11:22:35.840Z"
   },
   {
    "duration": 21,
    "start_time": "2022-01-21T11:22:56.758Z"
   },
   {
    "duration": 4,
    "start_time": "2022-01-21T11:23:44.705Z"
   },
   {
    "duration": 20,
    "start_time": "2022-01-21T11:23:45.206Z"
   },
   {
    "duration": 19,
    "start_time": "2022-01-21T11:24:05.235Z"
   },
   {
    "duration": 28,
    "start_time": "2022-01-21T11:32:22.493Z"
   },
   {
    "duration": 18,
    "start_time": "2022-01-21T11:32:59.337Z"
   },
   {
    "duration": 246,
    "start_time": "2022-01-21T11:34:09.961Z"
   },
   {
    "duration": 248,
    "start_time": "2022-01-21T11:34:14.476Z"
   },
   {
    "duration": 93,
    "start_time": "2022-01-21T11:34:20.028Z"
   },
   {
    "duration": 26,
    "start_time": "2022-01-21T11:34:37.330Z"
   },
   {
    "duration": 29,
    "start_time": "2022-01-21T11:34:50.719Z"
   },
   {
    "duration": 25,
    "start_time": "2022-01-21T11:35:28.484Z"
   },
   {
    "duration": 29,
    "start_time": "2022-01-21T11:35:40.794Z"
   },
   {
    "duration": 20,
    "start_time": "2022-01-21T11:36:04.782Z"
   },
   {
    "duration": 226,
    "start_time": "2022-01-21T11:37:18.107Z"
   },
   {
    "duration": 19,
    "start_time": "2022-01-21T11:37:26.012Z"
   },
   {
    "duration": 19,
    "start_time": "2022-01-21T11:38:21.350Z"
   },
   {
    "duration": 1037,
    "start_time": "2022-01-21T12:31:32.029Z"
   },
   {
    "duration": 1146,
    "start_time": "2022-01-21T12:32:11.477Z"
   },
   {
    "duration": 485,
    "start_time": "2022-01-21T12:34:19.908Z"
   },
   {
    "duration": 9,
    "start_time": "2022-01-21T13:20:52.593Z"
   },
   {
    "duration": 4,
    "start_time": "2022-01-21T13:22:16.488Z"
   },
   {
    "duration": 10,
    "start_time": "2022-01-21T13:24:03.820Z"
   },
   {
    "duration": 10,
    "start_time": "2022-01-21T13:24:17.793Z"
   },
   {
    "duration": 21,
    "start_time": "2022-01-21T13:26:32.825Z"
   },
   {
    "duration": 4,
    "start_time": "2022-01-21T13:28:33.803Z"
   },
   {
    "duration": 3,
    "start_time": "2022-01-21T13:28:33.812Z"
   },
   {
    "duration": 440,
    "start_time": "2022-01-21T13:28:33.821Z"
   },
   {
    "duration": 28,
    "start_time": "2022-01-21T13:28:34.262Z"
   },
   {
    "duration": 56,
    "start_time": "2022-01-21T13:28:34.292Z"
   },
   {
    "duration": 5,
    "start_time": "2022-01-21T13:28:34.350Z"
   },
   {
    "duration": 12,
    "start_time": "2022-01-21T13:28:34.357Z"
   },
   {
    "duration": 807,
    "start_time": "2022-01-21T13:28:34.399Z"
   },
   {
    "duration": 11,
    "start_time": "2022-01-21T13:28:35.208Z"
   },
   {
    "duration": 11,
    "start_time": "2022-01-21T13:28:35.221Z"
   },
   {
    "duration": 8,
    "start_time": "2022-01-21T13:28:35.234Z"
   },
   {
    "duration": 6,
    "start_time": "2022-01-21T13:28:35.243Z"
   },
   {
    "duration": 9,
    "start_time": "2022-01-21T13:28:35.251Z"
   },
   {
    "duration": 4,
    "start_time": "2022-01-21T13:28:35.262Z"
   },
   {
    "duration": 32,
    "start_time": "2022-01-21T13:28:35.268Z"
   },
   {
    "duration": 10,
    "start_time": "2022-01-21T13:28:35.302Z"
   },
   {
    "duration": 8,
    "start_time": "2022-01-21T13:28:35.314Z"
   },
   {
    "duration": 14,
    "start_time": "2022-01-21T13:28:35.324Z"
   },
   {
    "duration": 12,
    "start_time": "2022-01-21T13:28:35.339Z"
   },
   {
    "duration": 9,
    "start_time": "2022-01-21T13:28:35.352Z"
   },
   {
    "duration": 14,
    "start_time": "2022-01-21T13:28:35.362Z"
   },
   {
    "duration": 22,
    "start_time": "2022-01-21T13:28:35.377Z"
   },
   {
    "duration": 9,
    "start_time": "2022-01-21T13:28:35.401Z"
   },
   {
    "duration": 249,
    "start_time": "2022-01-21T13:28:35.412Z"
   },
   {
    "duration": 39,
    "start_time": "2022-01-21T13:28:35.664Z"
   },
   {
    "duration": 12,
    "start_time": "2022-01-21T13:28:35.705Z"
   },
   {
    "duration": 21,
    "start_time": "2022-01-21T13:28:35.719Z"
   },
   {
    "duration": 8,
    "start_time": "2022-01-21T13:28:35.742Z"
   },
   {
    "duration": 16,
    "start_time": "2022-01-21T13:28:35.752Z"
   },
   {
    "duration": 286,
    "start_time": "2022-01-21T13:28:35.770Z"
   },
   {
    "duration": 7,
    "start_time": "2022-01-21T13:28:36.057Z"
   },
   {
    "duration": 4,
    "start_time": "2022-01-21T13:28:36.065Z"
   },
   {
    "duration": 29,
    "start_time": "2022-01-21T13:28:36.070Z"
   },
   {
    "duration": 7,
    "start_time": "2022-01-21T13:28:36.101Z"
   },
   {
    "duration": 502,
    "start_time": "2022-01-21T13:28:36.109Z"
   },
   {
    "duration": 105,
    "start_time": "2022-01-21T13:28:36.612Z"
   },
   {
    "duration": 19,
    "start_time": "2022-01-21T13:28:36.718Z"
   },
   {
    "duration": 8,
    "start_time": "2022-01-21T13:28:36.739Z"
   },
   {
    "duration": 14,
    "start_time": "2022-01-21T13:28:36.749Z"
   },
   {
    "duration": 7,
    "start_time": "2022-01-21T13:28:36.765Z"
   },
   {
    "duration": 9,
    "start_time": "2022-01-21T13:28:36.799Z"
   },
   {
    "duration": 7,
    "start_time": "2022-01-21T13:28:36.809Z"
   },
   {
    "duration": 339,
    "start_time": "2022-01-21T13:28:36.817Z"
   },
   {
    "duration": 112,
    "start_time": "2022-01-21T13:28:37.158Z"
   },
   {
    "duration": 32,
    "start_time": "2022-01-21T13:28:37.273Z"
   },
   {
    "duration": 266,
    "start_time": "2022-01-21T13:28:37.307Z"
   },
   {
    "duration": 33,
    "start_time": "2022-01-21T13:28:37.575Z"
   },
   {
    "duration": 13,
    "start_time": "2022-01-21T13:28:37.609Z"
   },
   {
    "duration": 18,
    "start_time": "2022-01-21T13:28:37.623Z"
   },
   {
    "duration": 10,
    "start_time": "2022-01-21T13:28:37.643Z"
   },
   {
    "duration": 9,
    "start_time": "2022-01-21T13:28:37.655Z"
   },
   {
    "duration": 434,
    "start_time": "2022-01-21T13:28:37.665Z"
   },
   {
    "duration": 8,
    "start_time": "2022-01-21T13:28:38.101Z"
   },
   {
    "duration": 68,
    "start_time": "2022-01-21T13:28:38.110Z"
   },
   {
    "duration": 48,
    "start_time": "2022-01-21T13:28:38.180Z"
   },
   {
    "duration": 29,
    "start_time": "2022-01-21T13:28:38.230Z"
   },
   {
    "duration": 47,
    "start_time": "2022-01-21T13:28:38.261Z"
   },
   {
    "duration": 4,
    "start_time": "2022-01-21T13:28:38.309Z"
   },
   {
    "duration": 9,
    "start_time": "2022-01-21T13:28:38.314Z"
   },
   {
    "duration": 4,
    "start_time": "2022-01-21T13:28:38.325Z"
   },
   {
    "duration": 19,
    "start_time": "2022-01-21T13:28:38.330Z"
   },
   {
    "duration": 4,
    "start_time": "2022-01-21T13:28:38.351Z"
   },
   {
    "duration": 13,
    "start_time": "2022-01-21T13:28:38.357Z"
   },
   {
    "duration": 30,
    "start_time": "2022-01-21T13:28:38.371Z"
   },
   {
    "duration": 4,
    "start_time": "2022-01-21T13:28:40.899Z"
   },
   {
    "duration": 8,
    "start_time": "2022-01-21T13:28:41.463Z"
   },
   {
    "duration": 6,
    "start_time": "2022-01-21T13:28:43.500Z"
   },
   {
    "duration": 14,
    "start_time": "2022-01-21T13:28:45.295Z"
   },
   {
    "duration": 117,
    "start_time": "2022-01-21T13:28:50.323Z"
   },
   {
    "duration": 13,
    "start_time": "2022-01-21T13:28:52.895Z"
   },
   {
    "duration": 8,
    "start_time": "2022-01-21T13:28:54.650Z"
   },
   {
    "duration": 21,
    "start_time": "2022-01-21T13:28:57.061Z"
   },
   {
    "duration": 23,
    "start_time": "2022-01-21T13:29:10.423Z"
   },
   {
    "duration": 5,
    "start_time": "2022-01-21T13:30:08.608Z"
   },
   {
    "duration": 3,
    "start_time": "2022-01-21T13:30:09.237Z"
   },
   {
    "duration": 13,
    "start_time": "2022-01-21T13:30:09.925Z"
   },
   {
    "duration": 121,
    "start_time": "2022-01-21T13:30:11.512Z"
   },
   {
    "duration": 13,
    "start_time": "2022-01-21T13:30:13.252Z"
   },
   {
    "duration": 8,
    "start_time": "2022-01-21T13:30:14.349Z"
   },
   {
    "duration": 21,
    "start_time": "2022-01-21T13:30:19.469Z"
   },
   {
    "duration": 22,
    "start_time": "2022-01-21T13:30:28.298Z"
   },
   {
    "duration": 27,
    "start_time": "2022-01-21T13:30:49.171Z"
   },
   {
    "duration": 2,
    "start_time": "2022-01-21T13:30:49.200Z"
   },
   {
    "duration": 472,
    "start_time": "2022-01-21T13:30:49.204Z"
   },
   {
    "duration": 27,
    "start_time": "2022-01-21T13:30:49.678Z"
   },
   {
    "duration": 59,
    "start_time": "2022-01-21T13:30:49.707Z"
   },
   {
    "duration": 6,
    "start_time": "2022-01-21T13:30:49.767Z"
   },
   {
    "duration": 9,
    "start_time": "2022-01-21T13:30:49.800Z"
   },
   {
    "duration": 836,
    "start_time": "2022-01-21T13:30:49.811Z"
   },
   {
    "duration": 10,
    "start_time": "2022-01-21T13:30:50.649Z"
   },
   {
    "duration": 12,
    "start_time": "2022-01-21T13:30:50.660Z"
   },
   {
    "duration": 26,
    "start_time": "2022-01-21T13:30:50.674Z"
   },
   {
    "duration": 5,
    "start_time": "2022-01-21T13:30:50.702Z"
   },
   {
    "duration": 12,
    "start_time": "2022-01-21T13:30:50.709Z"
   },
   {
    "duration": 5,
    "start_time": "2022-01-21T13:30:50.723Z"
   },
   {
    "duration": 7,
    "start_time": "2022-01-21T13:30:50.730Z"
   },
   {
    "duration": 10,
    "start_time": "2022-01-21T13:30:50.739Z"
   },
   {
    "duration": 7,
    "start_time": "2022-01-21T13:30:50.751Z"
   },
   {
    "duration": 38,
    "start_time": "2022-01-21T13:30:50.763Z"
   },
   {
    "duration": 15,
    "start_time": "2022-01-21T13:30:50.803Z"
   },
   {
    "duration": 9,
    "start_time": "2022-01-21T13:30:50.819Z"
   },
   {
    "duration": 13,
    "start_time": "2022-01-21T13:30:50.830Z"
   },
   {
    "duration": 7,
    "start_time": "2022-01-21T13:30:50.845Z"
   },
   {
    "duration": 16,
    "start_time": "2022-01-21T13:30:50.854Z"
   },
   {
    "duration": 289,
    "start_time": "2022-01-21T13:30:50.872Z"
   },
   {
    "duration": 35,
    "start_time": "2022-01-21T13:30:51.163Z"
   },
   {
    "duration": 11,
    "start_time": "2022-01-21T13:30:51.200Z"
   },
   {
    "duration": 23,
    "start_time": "2022-01-21T13:30:51.213Z"
   },
   {
    "duration": 8,
    "start_time": "2022-01-21T13:30:51.238Z"
   },
   {
    "duration": 23,
    "start_time": "2022-01-21T13:30:51.248Z"
   },
   {
    "duration": 299,
    "start_time": "2022-01-21T13:30:51.273Z"
   },
   {
    "duration": 7,
    "start_time": "2022-01-21T13:30:51.574Z"
   },
   {
    "duration": 22,
    "start_time": "2022-01-21T13:30:51.583Z"
   },
   {
    "duration": 34,
    "start_time": "2022-01-21T13:30:51.607Z"
   },
   {
    "duration": 19,
    "start_time": "2022-01-21T13:30:51.643Z"
   },
   {
    "duration": 513,
    "start_time": "2022-01-21T13:30:51.664Z"
   },
   {
    "duration": 113,
    "start_time": "2022-01-21T13:30:52.179Z"
   },
   {
    "duration": 20,
    "start_time": "2022-01-21T13:30:52.299Z"
   },
   {
    "duration": 10,
    "start_time": "2022-01-21T13:30:52.321Z"
   },
   {
    "duration": 15,
    "start_time": "2022-01-21T13:30:52.332Z"
   },
   {
    "duration": 8,
    "start_time": "2022-01-21T13:30:52.349Z"
   },
   {
    "duration": 43,
    "start_time": "2022-01-21T13:30:52.359Z"
   },
   {
    "duration": 6,
    "start_time": "2022-01-21T13:30:52.404Z"
   },
   {
    "duration": 374,
    "start_time": "2022-01-21T13:30:52.412Z"
   },
   {
    "duration": 132,
    "start_time": "2022-01-21T13:30:52.788Z"
   },
   {
    "duration": 14,
    "start_time": "2022-01-21T13:30:52.922Z"
   },
   {
    "duration": 278,
    "start_time": "2022-01-21T13:30:52.938Z"
   },
   {
    "duration": 23,
    "start_time": "2022-01-21T13:30:53.218Z"
   },
   {
    "duration": 10,
    "start_time": "2022-01-21T13:30:53.243Z"
   },
   {
    "duration": 19,
    "start_time": "2022-01-21T13:30:53.254Z"
   },
   {
    "duration": 26,
    "start_time": "2022-01-21T13:30:53.274Z"
   },
   {
    "duration": 11,
    "start_time": "2022-01-21T13:30:53.305Z"
   },
   {
    "duration": 390,
    "start_time": "2022-01-21T13:30:53.318Z"
   },
   {
    "duration": 10,
    "start_time": "2022-01-21T13:30:53.710Z"
   },
   {
    "duration": 81,
    "start_time": "2022-01-21T13:30:53.721Z"
   },
   {
    "duration": 33,
    "start_time": "2022-01-21T13:30:53.803Z"
   },
   {
    "duration": 32,
    "start_time": "2022-01-21T13:30:53.837Z"
   },
   {
    "duration": 49,
    "start_time": "2022-01-21T13:30:53.870Z"
   },
   {
    "duration": 4,
    "start_time": "2022-01-21T13:30:53.921Z"
   },
   {
    "duration": 10,
    "start_time": "2022-01-21T13:30:53.927Z"
   },
   {
    "duration": 6,
    "start_time": "2022-01-21T13:30:53.939Z"
   },
   {
    "duration": 22,
    "start_time": "2022-01-21T13:30:53.946Z"
   },
   {
    "duration": 4,
    "start_time": "2022-01-21T13:30:53.999Z"
   },
   {
    "duration": 8,
    "start_time": "2022-01-21T13:30:54.005Z"
   },
   {
    "duration": 19,
    "start_time": "2022-01-21T13:30:54.014Z"
   },
   {
    "duration": 12,
    "start_time": "2022-01-21T13:30:54.035Z"
   },
   {
    "duration": 6,
    "start_time": "2022-01-21T13:30:54.048Z"
   },
   {
    "duration": 11,
    "start_time": "2022-01-21T13:30:54.055Z"
   },
   {
    "duration": 15,
    "start_time": "2022-01-21T13:30:54.067Z"
   },
   {
    "duration": 126,
    "start_time": "2022-01-21T13:30:54.083Z"
   },
   {
    "duration": 14,
    "start_time": "2022-01-21T13:30:54.210Z"
   },
   {
    "duration": 11,
    "start_time": "2022-01-21T13:30:54.225Z"
   },
   {
    "duration": 23,
    "start_time": "2022-01-21T13:30:54.238Z"
   },
   {
    "duration": 471,
    "start_time": "2022-01-21T13:30:54.262Z"
   },
   {
    "duration": 1245,
    "start_time": "2022-01-21T13:30:54.734Z"
   },
   {
    "duration": 39,
    "start_time": "2022-01-21T13:30:55.981Z"
   },
   {
    "duration": 13,
    "start_time": "2022-01-21T13:30:56.022Z"
   },
   {
    "duration": 949,
    "start_time": "2022-01-21T13:30:56.036Z"
   },
   {
    "duration": 21,
    "start_time": "2022-01-21T13:30:56.986Z"
   },
   {
    "duration": 938,
    "start_time": "2022-01-21T13:30:57.009Z"
   },
   {
    "duration": 20,
    "start_time": "2022-01-21T13:30:57.949Z"
   },
   {
    "duration": 9,
    "start_time": "2022-01-21T13:30:57.971Z"
   },
   {
    "duration": 18,
    "start_time": "2022-01-21T13:30:57.982Z"
   },
   {
    "duration": 8,
    "start_time": "2022-01-21T13:32:06.536Z"
   },
   {
    "duration": 4,
    "start_time": "2022-01-21T13:32:07.154Z"
   },
   {
    "duration": 457,
    "start_time": "2022-01-21T13:34:08.078Z"
   },
   {
    "duration": 5,
    "start_time": "2022-01-21T13:35:54.856Z"
   },
   {
    "duration": 8,
    "start_time": "2022-01-21T13:39:30.967Z"
   },
   {
    "duration": 5,
    "start_time": "2022-01-21T13:39:49.842Z"
   },
   {
    "duration": 5,
    "start_time": "2022-01-21T13:40:42.511Z"
   },
   {
    "duration": 15,
    "start_time": "2022-01-21T13:48:20.611Z"
   },
   {
    "duration": 7,
    "start_time": "2022-01-21T13:48:21.689Z"
   },
   {
    "duration": 245,
    "start_time": "2022-01-21T13:48:41.088Z"
   },
   {
    "duration": 10,
    "start_time": "2022-01-21T13:48:51.549Z"
   },
   {
    "duration": 8,
    "start_time": "2022-01-21T13:48:52.370Z"
   },
   {
    "duration": 271,
    "start_time": "2022-01-21T13:48:53.964Z"
   },
   {
    "duration": 9,
    "start_time": "2022-01-21T13:49:00.132Z"
   },
   {
    "duration": 4,
    "start_time": "2022-01-21T13:49:00.891Z"
   },
   {
    "duration": 5,
    "start_time": "2022-01-21T13:49:04.593Z"
   },
   {
    "duration": 12,
    "start_time": "2022-01-21T13:49:39.504Z"
   },
   {
    "duration": 34,
    "start_time": "2022-01-21T13:49:40.229Z"
   },
   {
    "duration": 2167,
    "start_time": "2022-01-21T13:49:47.592Z"
   },
   {
    "duration": 14,
    "start_time": "2022-01-21T13:50:00.808Z"
   },
   {
    "duration": 4,
    "start_time": "2022-01-21T13:50:01.352Z"
   },
   {
    "duration": 16,
    "start_time": "2022-01-21T13:50:03.007Z"
   },
   {
    "duration": 11,
    "start_time": "2022-01-21T13:50:09.523Z"
   },
   {
    "duration": 4,
    "start_time": "2022-01-21T13:50:09.766Z"
   },
   {
    "duration": 6,
    "start_time": "2022-01-21T13:50:29.730Z"
   },
   {
    "duration": 6,
    "start_time": "2022-01-21T13:50:45.793Z"
   },
   {
    "duration": 79,
    "start_time": "2022-01-21T14:05:07.972Z"
   },
   {
    "duration": 80,
    "start_time": "2022-01-21T14:05:37.044Z"
   },
   {
    "duration": 95,
    "start_time": "2022-01-21T14:06:19.423Z"
   },
   {
    "duration": 77,
    "start_time": "2022-01-21T14:07:08.042Z"
   },
   {
    "duration": 8,
    "start_time": "2022-01-21T14:07:55.932Z"
   },
   {
    "duration": 15,
    "start_time": "2022-01-21T14:08:05.108Z"
   },
   {
    "duration": 17,
    "start_time": "2022-01-21T14:09:28.021Z"
   },
   {
    "duration": 870,
    "start_time": "2022-01-21T14:10:47.748Z"
   },
   {
    "duration": 13,
    "start_time": "2022-01-21T14:10:54.139Z"
   },
   {
    "duration": 87,
    "start_time": "2022-01-21T14:11:14.479Z"
   },
   {
    "duration": 14,
    "start_time": "2022-01-21T14:11:18.767Z"
   },
   {
    "duration": 991,
    "start_time": "2022-01-21T14:12:02.951Z"
   },
   {
    "duration": 34,
    "start_time": "2022-01-21T14:12:12.734Z"
   },
   {
    "duration": 33,
    "start_time": "2022-01-21T14:12:35.095Z"
   },
   {
    "duration": 13,
    "start_time": "2022-01-21T14:13:45.082Z"
   },
   {
    "duration": 10,
    "start_time": "2022-01-21T14:14:09.387Z"
   },
   {
    "duration": 14,
    "start_time": "2022-01-21T14:15:00.164Z"
   },
   {
    "duration": 26,
    "start_time": "2022-01-21T14:37:10.851Z"
   },
   {
    "duration": 3,
    "start_time": "2022-01-21T14:37:10.878Z"
   },
   {
    "duration": 415,
    "start_time": "2022-01-21T14:37:10.882Z"
   },
   {
    "duration": 25,
    "start_time": "2022-01-21T14:37:11.299Z"
   },
   {
    "duration": 82,
    "start_time": "2022-01-21T14:37:11.326Z"
   },
   {
    "duration": 5,
    "start_time": "2022-01-21T14:37:11.409Z"
   },
   {
    "duration": 9,
    "start_time": "2022-01-21T14:37:11.417Z"
   },
   {
    "duration": 814,
    "start_time": "2022-01-21T14:37:11.427Z"
   },
   {
    "duration": 10,
    "start_time": "2022-01-21T14:37:12.243Z"
   },
   {
    "duration": 12,
    "start_time": "2022-01-21T14:37:12.255Z"
   },
   {
    "duration": 9,
    "start_time": "2022-01-21T14:37:12.269Z"
   },
   {
    "duration": 6,
    "start_time": "2022-01-21T14:37:12.299Z"
   },
   {
    "duration": 9,
    "start_time": "2022-01-21T14:37:12.307Z"
   },
   {
    "duration": 5,
    "start_time": "2022-01-21T14:37:12.318Z"
   },
   {
    "duration": 6,
    "start_time": "2022-01-21T14:37:12.325Z"
   },
   {
    "duration": 9,
    "start_time": "2022-01-21T14:37:12.333Z"
   },
   {
    "duration": 7,
    "start_time": "2022-01-21T14:37:12.344Z"
   },
   {
    "duration": 46,
    "start_time": "2022-01-21T14:37:12.356Z"
   },
   {
    "duration": 10,
    "start_time": "2022-01-21T14:37:12.405Z"
   },
   {
    "duration": 10,
    "start_time": "2022-01-21T14:37:12.417Z"
   },
   {
    "duration": 8,
    "start_time": "2022-01-21T14:37:12.428Z"
   },
   {
    "duration": 7,
    "start_time": "2022-01-21T14:37:12.437Z"
   },
   {
    "duration": 7,
    "start_time": "2022-01-21T14:37:12.445Z"
   },
   {
    "duration": 303,
    "start_time": "2022-01-21T14:37:12.454Z"
   },
   {
    "duration": 29,
    "start_time": "2022-01-21T14:37:12.758Z"
   },
   {
    "duration": 17,
    "start_time": "2022-01-21T14:37:12.789Z"
   },
   {
    "duration": 32,
    "start_time": "2022-01-21T14:37:12.808Z"
   },
   {
    "duration": 10,
    "start_time": "2022-01-21T14:37:12.841Z"
   },
   {
    "duration": 23,
    "start_time": "2022-01-21T14:37:12.853Z"
   },
   {
    "duration": 279,
    "start_time": "2022-01-21T14:37:12.878Z"
   },
   {
    "duration": 8,
    "start_time": "2022-01-21T14:37:13.159Z"
   },
   {
    "duration": 4,
    "start_time": "2022-01-21T14:37:13.169Z"
   },
   {
    "duration": 33,
    "start_time": "2022-01-21T14:37:13.175Z"
   },
   {
    "duration": 9,
    "start_time": "2022-01-21T14:37:13.210Z"
   },
   {
    "duration": 520,
    "start_time": "2022-01-21T14:37:13.221Z"
   },
   {
    "duration": 117,
    "start_time": "2022-01-21T14:37:13.743Z"
   },
   {
    "duration": 20,
    "start_time": "2022-01-21T14:37:13.862Z"
   },
   {
    "duration": 24,
    "start_time": "2022-01-21T14:37:13.883Z"
   },
   {
    "duration": 15,
    "start_time": "2022-01-21T14:37:13.909Z"
   },
   {
    "duration": 9,
    "start_time": "2022-01-21T14:37:13.925Z"
   },
   {
    "duration": 9,
    "start_time": "2022-01-21T14:37:13.936Z"
   },
   {
    "duration": 8,
    "start_time": "2022-01-21T14:37:13.946Z"
   },
   {
    "duration": 360,
    "start_time": "2022-01-21T14:37:13.955Z"
   },
   {
    "duration": 129,
    "start_time": "2022-01-21T14:37:14.317Z"
   },
   {
    "duration": 13,
    "start_time": "2022-01-21T14:37:14.448Z"
   },
   {
    "duration": 273,
    "start_time": "2022-01-21T14:37:14.463Z"
   },
   {
    "duration": 23,
    "start_time": "2022-01-21T14:37:14.737Z"
   },
   {
    "duration": 12,
    "start_time": "2022-01-21T14:37:14.762Z"
   },
   {
    "duration": 35,
    "start_time": "2022-01-21T14:37:14.775Z"
   },
   {
    "duration": 10,
    "start_time": "2022-01-21T14:37:14.811Z"
   },
   {
    "duration": 10,
    "start_time": "2022-01-21T14:37:14.826Z"
   },
   {
    "duration": 397,
    "start_time": "2022-01-21T14:37:14.839Z"
   },
   {
    "duration": 10,
    "start_time": "2022-01-21T14:37:15.238Z"
   },
   {
    "duration": 80,
    "start_time": "2022-01-21T14:37:15.250Z"
   },
   {
    "duration": 35,
    "start_time": "2022-01-21T14:37:15.331Z"
   },
   {
    "duration": 47,
    "start_time": "2022-01-21T14:37:15.367Z"
   },
   {
    "duration": 31,
    "start_time": "2022-01-21T14:37:15.416Z"
   },
   {
    "duration": 3,
    "start_time": "2022-01-21T14:37:15.449Z"
   },
   {
    "duration": 9,
    "start_time": "2022-01-21T14:37:15.454Z"
   },
   {
    "duration": 3,
    "start_time": "2022-01-21T14:37:15.465Z"
   },
   {
    "duration": 21,
    "start_time": "2022-01-21T14:37:15.499Z"
   },
   {
    "duration": 5,
    "start_time": "2022-01-21T14:37:15.521Z"
   },
   {
    "duration": 9,
    "start_time": "2022-01-21T14:37:15.527Z"
   },
   {
    "duration": 6,
    "start_time": "2022-01-21T14:37:15.538Z"
   },
   {
    "duration": 8,
    "start_time": "2022-01-21T14:37:15.545Z"
   },
   {
    "duration": 6,
    "start_time": "2022-01-21T14:37:15.555Z"
   },
   {
    "duration": 36,
    "start_time": "2022-01-21T14:37:15.562Z"
   },
   {
    "duration": 17,
    "start_time": "2022-01-21T14:37:15.600Z"
   },
   {
    "duration": 141,
    "start_time": "2022-01-21T14:37:15.618Z"
   },
   {
    "duration": 13,
    "start_time": "2022-01-21T14:37:15.761Z"
   },
   {
    "duration": 23,
    "start_time": "2022-01-21T14:37:15.776Z"
   },
   {
    "duration": 23,
    "start_time": "2022-01-21T14:37:15.800Z"
   },
   {
    "duration": 469,
    "start_time": "2022-01-21T14:37:15.824Z"
   },
   {
    "duration": 1284,
    "start_time": "2022-01-21T14:37:16.298Z"
   },
   {
    "duration": 34,
    "start_time": "2022-01-21T14:37:17.584Z"
   },
   {
    "duration": 14,
    "start_time": "2022-01-21T14:37:17.620Z"
   },
   {
    "duration": 988,
    "start_time": "2022-01-21T14:37:17.635Z"
   },
   {
    "duration": 15,
    "start_time": "2022-01-21T14:37:18.625Z"
   },
   {
    "duration": 1000,
    "start_time": "2022-01-21T14:37:18.642Z"
   },
   {
    "duration": 21,
    "start_time": "2022-01-21T14:37:19.644Z"
   },
   {
    "duration": 7,
    "start_time": "2022-01-21T14:37:19.667Z"
   },
   {
    "duration": 22,
    "start_time": "2022-01-21T14:37:19.676Z"
   },
   {
    "duration": 5,
    "start_time": "2022-01-21T14:37:19.700Z"
   },
   {
    "duration": 12,
    "start_time": "2022-01-21T14:37:19.707Z"
   },
   {
    "duration": 13,
    "start_time": "2022-01-21T14:37:19.720Z"
   },
   {
    "duration": 13,
    "start_time": "2022-01-21T14:37:19.735Z"
   },
   {
    "duration": 6,
    "start_time": "2022-01-21T14:37:19.749Z"
   },
   {
    "duration": 7,
    "start_time": "2022-01-21T14:37:19.757Z"
   },
   {
    "duration": 23,
    "start_time": "2022-01-21T14:39:19.403Z"
   },
   {
    "duration": 386,
    "start_time": "2022-01-21T14:39:20.223Z"
   },
   {
    "duration": 30,
    "start_time": "2022-01-21T14:39:20.912Z"
   },
   {
    "duration": 61,
    "start_time": "2022-01-21T14:39:26.176Z"
   },
   {
    "duration": 6,
    "start_time": "2022-01-21T14:40:08.492Z"
   },
   {
    "duration": 9,
    "start_time": "2022-01-21T14:40:41.777Z"
   },
   {
    "duration": 768,
    "start_time": "2022-01-21T14:40:42.417Z"
   },
   {
    "duration": 10,
    "start_time": "2022-01-21T14:40:43.291Z"
   },
   {
    "duration": 103,
    "start_time": "2022-01-21T14:40:46.311Z"
   },
   {
    "duration": 8,
    "start_time": "2022-01-21T14:40:53.425Z"
   },
   {
    "duration": 5,
    "start_time": "2022-01-21T14:41:01.621Z"
   },
   {
    "duration": 9,
    "start_time": "2022-01-21T14:41:03.330Z"
   },
   {
    "duration": 5,
    "start_time": "2022-01-21T14:41:16.826Z"
   },
   {
    "duration": 5,
    "start_time": "2022-01-21T14:41:31.392Z"
   },
   {
    "duration": 9,
    "start_time": "2022-01-21T14:41:34.291Z"
   },
   {
    "duration": 6,
    "start_time": "2022-01-21T14:41:40.898Z"
   },
   {
    "duration": 8,
    "start_time": "2022-01-21T14:41:42.157Z"
   },
   {
    "duration": 10,
    "start_time": "2022-01-21T14:41:42.752Z"
   },
   {
    "duration": 9,
    "start_time": "2022-01-21T14:41:43.428Z"
   },
   {
    "duration": 6,
    "start_time": "2022-01-21T14:41:46.114Z"
   },
   {
    "duration": 6,
    "start_time": "2022-01-21T14:42:07.878Z"
   },
   {
    "duration": 7,
    "start_time": "2022-01-21T14:42:16.474Z"
   },
   {
    "duration": 277,
    "start_time": "2022-01-21T14:42:21.741Z"
   },
   {
    "duration": 30,
    "start_time": "2022-01-21T14:42:31.322Z"
   },
   {
    "duration": 12,
    "start_time": "2022-01-21T14:42:31.857Z"
   },
   {
    "duration": 20,
    "start_time": "2022-01-21T14:42:40.121Z"
   },
   {
    "duration": 9,
    "start_time": "2022-01-21T14:42:40.692Z"
   },
   {
    "duration": 15,
    "start_time": "2022-01-21T14:42:56.207Z"
   },
   {
    "duration": 262,
    "start_time": "2022-01-21T14:42:59.181Z"
   },
   {
    "duration": 8,
    "start_time": "2022-01-21T14:43:19.765Z"
   },
   {
    "duration": 4,
    "start_time": "2022-01-21T14:43:22.393Z"
   },
   {
    "duration": 13,
    "start_time": "2022-01-21T14:43:34.416Z"
   },
   {
    "duration": 9,
    "start_time": "2022-01-21T14:43:35.368Z"
   },
   {
    "duration": 499,
    "start_time": "2022-01-21T14:43:50.352Z"
   },
   {
    "duration": 108,
    "start_time": "2022-01-21T14:44:10.599Z"
   },
   {
    "duration": 20,
    "start_time": "2022-01-21T14:44:18.170Z"
   },
   {
    "duration": 11,
    "start_time": "2022-01-21T14:44:19.162Z"
   },
   {
    "duration": 15,
    "start_time": "2022-01-21T14:44:23.342Z"
   },
   {
    "duration": 9,
    "start_time": "2022-01-21T14:44:25.110Z"
   },
   {
    "duration": 9,
    "start_time": "2022-01-21T14:44:37.542Z"
   },
   {
    "duration": 6,
    "start_time": "2022-01-21T14:44:40.753Z"
   },
   {
    "duration": 317,
    "start_time": "2022-01-21T14:44:49.989Z"
   },
   {
    "duration": 131,
    "start_time": "2022-01-21T14:45:14.684Z"
   },
   {
    "duration": 14,
    "start_time": "2022-01-21T14:45:18.846Z"
   },
   {
    "duration": 259,
    "start_time": "2022-01-21T14:45:20.518Z"
   },
   {
    "duration": 6,
    "start_time": "2022-01-21T14:46:05.153Z"
   },
   {
    "duration": 9,
    "start_time": "2022-01-21T14:46:05.770Z"
   },
   {
    "duration": 14,
    "start_time": "2022-01-21T14:46:07.173Z"
   },
   {
    "duration": 9,
    "start_time": "2022-01-21T14:46:07.757Z"
   },
   {
    "duration": 9,
    "start_time": "2022-01-21T14:46:10.952Z"
   },
   {
    "duration": 7,
    "start_time": "2022-01-21T14:46:11.552Z"
   },
   {
    "duration": 325,
    "start_time": "2022-01-21T14:46:14.362Z"
   },
   {
    "duration": 112,
    "start_time": "2022-01-21T14:46:18.085Z"
   },
   {
    "duration": 14,
    "start_time": "2022-01-21T14:46:19.854Z"
   },
   {
    "duration": 264,
    "start_time": "2022-01-21T14:46:21.513Z"
   },
   {
    "duration": 24,
    "start_time": "2022-01-21T14:46:54.155Z"
   },
   {
    "duration": 12,
    "start_time": "2022-01-21T14:46:54.751Z"
   },
   {
    "duration": 18,
    "start_time": "2022-01-21T14:47:01.517Z"
   },
   {
    "duration": 10,
    "start_time": "2022-01-21T14:47:03.946Z"
   },
   {
    "duration": 17,
    "start_time": "2022-01-21T14:47:19.412Z"
   },
   {
    "duration": 9,
    "start_time": "2022-01-21T14:47:20.243Z"
   },
   {
    "duration": 7,
    "start_time": "2022-01-21T14:47:26.356Z"
   },
   {
    "duration": 427,
    "start_time": "2022-01-21T14:47:33.722Z"
   },
   {
    "duration": 11,
    "start_time": "2022-01-21T14:48:02.971Z"
   },
   {
    "duration": 10,
    "start_time": "2022-01-21T14:48:09.457Z"
   },
   {
    "duration": 80,
    "start_time": "2022-01-21T14:48:39.256Z"
   },
   {
    "duration": 31,
    "start_time": "2022-01-21T14:52:37.164Z"
   },
   {
    "duration": 31,
    "start_time": "2022-01-21T14:53:11.803Z"
   },
   {
    "duration": 5,
    "start_time": "2022-01-21T14:53:12.593Z"
   },
   {
    "duration": 7,
    "start_time": "2022-01-21T14:53:22.380Z"
   },
   {
    "duration": 4,
    "start_time": "2022-01-21T14:53:31.781Z"
   },
   {
    "duration": 19,
    "start_time": "2022-01-21T14:53:35.609Z"
   },
   {
    "duration": 5,
    "start_time": "2022-01-21T14:53:53.805Z"
   },
   {
    "duration": 7,
    "start_time": "2022-01-21T14:53:54.463Z"
   },
   {
    "duration": 5,
    "start_time": "2022-01-21T14:54:23.983Z"
   },
   {
    "duration": 7,
    "start_time": "2022-01-21T14:54:25.142Z"
   },
   {
    "duration": 6,
    "start_time": "2022-01-21T14:54:49.990Z"
   },
   {
    "duration": 14,
    "start_time": "2022-01-21T14:56:30.551Z"
   },
   {
    "duration": 116,
    "start_time": "2022-01-21T14:56:36.096Z"
   },
   {
    "duration": 12,
    "start_time": "2022-01-21T14:56:37.196Z"
   },
   {
    "duration": 7,
    "start_time": "2022-01-21T14:56:40.052Z"
   },
   {
    "duration": 4,
    "start_time": "2022-01-21T14:56:51.803Z"
   },
   {
    "duration": 4,
    "start_time": "2022-01-21T14:56:52.621Z"
   },
   {
    "duration": 13,
    "start_time": "2022-01-21T14:56:53.657Z"
   },
   {
    "duration": 118,
    "start_time": "2022-01-21T14:56:55.203Z"
   },
   {
    "duration": 12,
    "start_time": "2022-01-21T14:56:59.691Z"
   },
   {
    "duration": 8,
    "start_time": "2022-01-21T14:57:00.873Z"
   },
   {
    "duration": 8,
    "start_time": "2022-01-21T14:57:13.076Z"
   },
   {
    "duration": 24,
    "start_time": "2022-01-21T14:57:15.196Z"
   },
   {
    "duration": 451,
    "start_time": "2022-01-21T15:03:14.123Z"
   },
   {
    "duration": 1274,
    "start_time": "2022-01-21T15:03:23.786Z"
   },
   {
    "duration": 28,
    "start_time": "2022-01-21T15:03:35.159Z"
   },
   {
    "duration": 31,
    "start_time": "2022-01-21T15:04:06.049Z"
   },
   {
    "duration": 16,
    "start_time": "2022-01-21T15:06:00.717Z"
   },
   {
    "duration": 942,
    "start_time": "2022-01-21T15:06:33.928Z"
   },
   {
    "duration": 953,
    "start_time": "2022-01-21T15:06:59.127Z"
   },
   {
    "duration": 15,
    "start_time": "2022-01-21T15:07:24.120Z"
   },
   {
    "duration": 954,
    "start_time": "2022-01-21T15:07:24.892Z"
   },
   {
    "duration": 16,
    "start_time": "2022-01-21T15:08:26.070Z"
   },
   {
    "duration": 14,
    "start_time": "2022-01-21T15:09:13.823Z"
   },
   {
    "duration": 14,
    "start_time": "2022-01-21T15:09:34.249Z"
   },
   {
    "duration": 979,
    "start_time": "2022-01-21T15:09:34.825Z"
   },
   {
    "duration": 20,
    "start_time": "2022-01-21T15:09:51.616Z"
   },
   {
    "duration": 8,
    "start_time": "2022-01-21T15:12:24.672Z"
   },
   {
    "duration": 4,
    "start_time": "2022-01-21T15:12:25.707Z"
   },
   {
    "duration": 4,
    "start_time": "2022-01-21T15:12:43.241Z"
   },
   {
    "duration": 9,
    "start_time": "2022-01-21T15:13:30.866Z"
   },
   {
    "duration": 13,
    "start_time": "2022-01-21T15:13:35.939Z"
   },
   {
    "duration": 9,
    "start_time": "2022-01-21T15:14:21.665Z"
   },
   {
    "duration": 4,
    "start_time": "2022-01-21T15:14:22.681Z"
   },
   {
    "duration": 5,
    "start_time": "2022-01-21T15:14:23.420Z"
   },
   {
    "duration": 6,
    "start_time": "2022-01-21T16:34:03.058Z"
   },
   {
    "duration": 4,
    "start_time": "2022-01-21T16:43:32.890Z"
   },
   {
    "duration": 4,
    "start_time": "2022-01-21T16:43:37.890Z"
   },
   {
    "duration": 20,
    "start_time": "2022-01-21T16:44:16.744Z"
   },
   {
    "duration": 6,
    "start_time": "2022-01-21T16:44:22.842Z"
   },
   {
    "duration": 11,
    "start_time": "2022-01-21T16:45:24.281Z"
   },
   {
    "duration": 11,
    "start_time": "2022-01-21T16:46:05.371Z"
   },
   {
    "duration": 19,
    "start_time": "2022-01-21T16:47:02.086Z"
   },
   {
    "duration": 3,
    "start_time": "2022-01-21T16:48:33.542Z"
   },
   {
    "duration": 5,
    "start_time": "2022-01-21T16:48:43.992Z"
   },
   {
    "duration": 17,
    "start_time": "2022-01-21T17:48:41.843Z"
   },
   {
    "duration": 6,
    "start_time": "2022-01-21T17:53:01.665Z"
   },
   {
    "duration": 428,
    "start_time": "2022-01-21T17:57:05.242Z"
   },
   {
    "duration": 910,
    "start_time": "2022-01-21T18:14:07.909Z"
   },
   {
    "duration": 21,
    "start_time": "2022-01-21T18:14:39.781Z"
   },
   {
    "duration": 7,
    "start_time": "2022-01-21T18:21:58.042Z"
   },
   {
    "duration": 15,
    "start_time": "2022-01-21T18:26:49.545Z"
   },
   {
    "duration": 14,
    "start_time": "2022-01-21T18:27:23.175Z"
   },
   {
    "duration": 14,
    "start_time": "2022-01-21T18:27:38.068Z"
   },
   {
    "duration": 3,
    "start_time": "2022-01-21T18:51:55.422Z"
   },
   {
    "duration": 405,
    "start_time": "2022-01-21T18:51:55.428Z"
   },
   {
    "duration": 28,
    "start_time": "2022-01-21T18:51:55.834Z"
   },
   {
    "duration": 58,
    "start_time": "2022-01-21T18:51:55.864Z"
   },
   {
    "duration": 5,
    "start_time": "2022-01-21T18:51:55.924Z"
   },
   {
    "duration": 17,
    "start_time": "2022-01-21T18:51:55.931Z"
   },
   {
    "duration": 826,
    "start_time": "2022-01-21T18:51:55.950Z"
   },
   {
    "duration": 9,
    "start_time": "2022-01-21T18:51:56.778Z"
   },
   {
    "duration": 6,
    "start_time": "2022-01-21T18:51:56.800Z"
   },
   {
    "duration": 8,
    "start_time": "2022-01-21T18:51:56.808Z"
   },
   {
    "duration": 9,
    "start_time": "2022-01-21T18:51:56.818Z"
   },
   {
    "duration": 13,
    "start_time": "2022-01-21T18:51:56.829Z"
   },
   {
    "duration": 4,
    "start_time": "2022-01-21T18:51:56.843Z"
   },
   {
    "duration": 8,
    "start_time": "2022-01-21T18:51:56.848Z"
   },
   {
    "duration": 12,
    "start_time": "2022-01-21T18:51:56.858Z"
   },
   {
    "duration": 9,
    "start_time": "2022-01-21T18:51:56.872Z"
   },
   {
    "duration": 8,
    "start_time": "2022-01-21T18:51:56.899Z"
   },
   {
    "duration": 12,
    "start_time": "2022-01-21T18:51:56.909Z"
   },
   {
    "duration": 8,
    "start_time": "2022-01-21T18:51:56.922Z"
   },
   {
    "duration": 12,
    "start_time": "2022-01-21T18:51:56.931Z"
   },
   {
    "duration": 7,
    "start_time": "2022-01-21T18:51:56.945Z"
   },
   {
    "duration": 13,
    "start_time": "2022-01-21T18:51:56.953Z"
   },
   {
    "duration": 258,
    "start_time": "2022-01-21T18:51:56.967Z"
   },
   {
    "duration": 27,
    "start_time": "2022-01-21T18:51:57.229Z"
   },
   {
    "duration": 10,
    "start_time": "2022-01-21T18:51:57.259Z"
   },
   {
    "duration": 38,
    "start_time": "2022-01-21T18:51:57.271Z"
   },
   {
    "duration": 9,
    "start_time": "2022-01-21T18:51:57.310Z"
   },
   {
    "duration": 18,
    "start_time": "2022-01-21T18:51:57.320Z"
   },
   {
    "duration": 277,
    "start_time": "2022-01-21T18:51:57.340Z"
   },
   {
    "duration": 7,
    "start_time": "2022-01-21T18:51:57.618Z"
   },
   {
    "duration": 5,
    "start_time": "2022-01-21T18:51:57.626Z"
   },
   {
    "duration": 10,
    "start_time": "2022-01-21T18:51:57.633Z"
   },
   {
    "duration": 6,
    "start_time": "2022-01-21T18:51:57.645Z"
   },
   {
    "duration": 515,
    "start_time": "2022-01-21T18:51:57.653Z"
   },
   {
    "duration": 101,
    "start_time": "2022-01-21T18:51:58.170Z"
   },
   {
    "duration": 31,
    "start_time": "2022-01-21T18:51:58.273Z"
   },
   {
    "duration": 9,
    "start_time": "2022-01-21T18:51:58.306Z"
   },
   {
    "duration": 14,
    "start_time": "2022-01-21T18:51:58.316Z"
   },
   {
    "duration": 9,
    "start_time": "2022-01-21T18:51:58.331Z"
   },
   {
    "duration": 11,
    "start_time": "2022-01-21T18:51:58.341Z"
   },
   {
    "duration": 6,
    "start_time": "2022-01-21T18:51:58.354Z"
   },
   {
    "duration": 340,
    "start_time": "2022-01-21T18:51:58.362Z"
   },
   {
    "duration": 117,
    "start_time": "2022-01-21T18:51:58.704Z"
   },
   {
    "duration": 13,
    "start_time": "2022-01-21T18:51:58.823Z"
   },
   {
    "duration": 274,
    "start_time": "2022-01-21T18:51:58.838Z"
   },
   {
    "duration": 22,
    "start_time": "2022-01-21T18:51:59.114Z"
   },
   {
    "duration": 11,
    "start_time": "2022-01-21T18:51:59.138Z"
   },
   {
    "duration": 16,
    "start_time": "2022-01-21T18:51:59.151Z"
   },
   {
    "duration": 34,
    "start_time": "2022-01-21T18:51:59.169Z"
   },
   {
    "duration": 9,
    "start_time": "2022-01-21T18:51:59.205Z"
   },
   {
    "duration": 377,
    "start_time": "2022-01-21T18:51:59.216Z"
   },
   {
    "duration": 12,
    "start_time": "2022-01-21T18:51:59.594Z"
   },
   {
    "duration": 63,
    "start_time": "2022-01-21T18:51:59.608Z"
   },
   {
    "duration": 49,
    "start_time": "2022-01-21T18:51:59.673Z"
   },
   {
    "duration": 33,
    "start_time": "2022-01-21T18:51:59.724Z"
   },
   {
    "duration": 51,
    "start_time": "2022-01-21T18:51:59.758Z"
   },
   {
    "duration": 4,
    "start_time": "2022-01-21T18:51:59.811Z"
   },
   {
    "duration": 10,
    "start_time": "2022-01-21T18:51:59.817Z"
   },
   {
    "duration": 4,
    "start_time": "2022-01-21T18:51:59.830Z"
   },
   {
    "duration": 23,
    "start_time": "2022-01-21T18:51:59.835Z"
   },
   {
    "duration": 3,
    "start_time": "2022-01-21T18:51:59.860Z"
   },
   {
    "duration": 36,
    "start_time": "2022-01-21T18:51:59.865Z"
   },
   {
    "duration": 4,
    "start_time": "2022-01-21T18:51:59.903Z"
   },
   {
    "duration": 11,
    "start_time": "2022-01-21T18:51:59.908Z"
   },
   {
    "duration": 6,
    "start_time": "2022-01-21T18:51:59.920Z"
   },
   {
    "duration": 6,
    "start_time": "2022-01-21T18:51:59.928Z"
   },
   {
    "duration": 15,
    "start_time": "2022-01-21T18:51:59.935Z"
   },
   {
    "duration": 147,
    "start_time": "2022-01-21T18:51:59.951Z"
   },
   {
    "duration": 15,
    "start_time": "2022-01-21T18:52:00.104Z"
   },
   {
    "duration": 23,
    "start_time": "2022-01-21T18:52:00.122Z"
   },
   {
    "duration": 444,
    "start_time": "2022-01-21T18:52:00.147Z"
   },
   {
    "duration": 1333,
    "start_time": "2022-01-21T18:52:00.593Z"
   },
   {
    "duration": 31,
    "start_time": "2022-01-21T18:52:01.928Z"
   },
   {
    "duration": 15,
    "start_time": "2022-01-21T18:52:01.961Z"
   },
   {
    "duration": 1032,
    "start_time": "2022-01-21T18:52:01.999Z"
   },
   {
    "duration": 14,
    "start_time": "2022-01-21T18:52:03.033Z"
   },
   {
    "duration": 1150,
    "start_time": "2022-01-21T18:52:03.048Z"
   },
   {
    "duration": 21,
    "start_time": "2022-01-21T18:52:04.200Z"
   },
   {
    "duration": 9,
    "start_time": "2022-01-21T18:52:04.223Z"
   },
   {
    "duration": 5,
    "start_time": "2022-01-21T18:52:04.233Z"
   },
   {
    "duration": 7,
    "start_time": "2022-01-21T18:52:04.239Z"
   },
   {
    "duration": 10,
    "start_time": "2022-01-21T18:52:04.248Z"
   },
   {
    "duration": 52,
    "start_time": "2022-01-21T18:52:04.260Z"
   },
   {
    "duration": 8,
    "start_time": "2022-01-21T18:52:04.314Z"
   },
   {
    "duration": 6,
    "start_time": "2022-01-21T18:52:04.323Z"
   },
   {
    "duration": 7,
    "start_time": "2022-01-21T18:52:04.330Z"
   },
   {
    "duration": 128,
    "start_time": "2022-01-21T18:52:04.339Z"
   },
   {
    "duration": 1087,
    "start_time": "2022-01-26T16:02:02.603Z"
   },
   {
    "duration": 384,
    "start_time": "2022-01-26T16:02:03.692Z"
   },
   {
    "duration": 29,
    "start_time": "2022-01-26T16:02:04.078Z"
   },
   {
    "duration": 53,
    "start_time": "2022-01-26T16:02:04.108Z"
   },
   {
    "duration": 6,
    "start_time": "2022-01-26T16:02:04.162Z"
   },
   {
    "duration": 10,
    "start_time": "2022-01-26T16:02:04.170Z"
   },
   {
    "duration": 770,
    "start_time": "2022-01-26T16:02:04.182Z"
   },
   {
    "duration": 9,
    "start_time": "2022-01-26T16:02:04.956Z"
   },
   {
    "duration": 7,
    "start_time": "2022-01-26T16:02:04.968Z"
   },
   {
    "duration": 9,
    "start_time": "2022-01-26T16:02:04.976Z"
   },
   {
    "duration": 30,
    "start_time": "2022-01-26T16:02:04.986Z"
   },
   {
    "duration": 11,
    "start_time": "2022-01-26T16:02:05.018Z"
   },
   {
    "duration": 5,
    "start_time": "2022-01-26T16:02:05.031Z"
   },
   {
    "duration": 6,
    "start_time": "2022-01-26T16:02:05.038Z"
   },
   {
    "duration": 13,
    "start_time": "2022-01-26T16:02:05.046Z"
   },
   {
    "duration": 14,
    "start_time": "2022-01-26T16:02:05.060Z"
   },
   {
    "duration": 15,
    "start_time": "2022-01-26T16:02:05.076Z"
   },
   {
    "duration": 10,
    "start_time": "2022-01-26T16:02:05.112Z"
   },
   {
    "duration": 8,
    "start_time": "2022-01-26T16:02:05.124Z"
   },
   {
    "duration": 10,
    "start_time": "2022-01-26T16:02:05.133Z"
   },
   {
    "duration": 17,
    "start_time": "2022-01-26T16:02:05.144Z"
   },
   {
    "duration": 8,
    "start_time": "2022-01-26T16:02:05.163Z"
   },
   {
    "duration": 248,
    "start_time": "2022-01-26T16:02:05.174Z"
   },
   {
    "duration": 29,
    "start_time": "2022-01-26T16:02:05.424Z"
   },
   {
    "duration": 11,
    "start_time": "2022-01-26T16:02:05.455Z"
   },
   {
    "duration": 21,
    "start_time": "2022-01-26T16:02:05.467Z"
   },
   {
    "duration": 30,
    "start_time": "2022-01-26T16:02:05.490Z"
   },
   {
    "duration": 16,
    "start_time": "2022-01-26T16:02:05.521Z"
   },
   {
    "duration": 261,
    "start_time": "2022-01-26T16:02:05.539Z"
   },
   {
    "duration": 12,
    "start_time": "2022-01-26T16:02:05.801Z"
   },
   {
    "duration": 3,
    "start_time": "2022-01-26T16:02:05.814Z"
   },
   {
    "duration": 13,
    "start_time": "2022-01-26T16:02:05.819Z"
   },
   {
    "duration": 6,
    "start_time": "2022-01-26T16:02:05.833Z"
   },
   {
    "duration": 492,
    "start_time": "2022-01-26T16:02:05.841Z"
   },
   {
    "duration": 101,
    "start_time": "2022-01-26T16:02:06.334Z"
   },
   {
    "duration": 17,
    "start_time": "2022-01-26T16:02:06.436Z"
   },
   {
    "duration": 9,
    "start_time": "2022-01-26T16:02:06.455Z"
   },
   {
    "duration": 14,
    "start_time": "2022-01-26T16:02:06.466Z"
   },
   {
    "duration": 7,
    "start_time": "2022-01-26T16:02:06.482Z"
   },
   {
    "duration": 9,
    "start_time": "2022-01-26T16:02:06.512Z"
   },
   {
    "duration": 5,
    "start_time": "2022-01-26T16:02:06.523Z"
   },
   {
    "duration": 327,
    "start_time": "2022-01-26T16:02:06.530Z"
   },
   {
    "duration": 109,
    "start_time": "2022-01-26T16:02:06.858Z"
   },
   {
    "duration": 13,
    "start_time": "2022-01-26T16:02:06.969Z"
   },
   {
    "duration": 253,
    "start_time": "2022-01-26T16:02:06.983Z"
   },
   {
    "duration": 21,
    "start_time": "2022-01-26T16:02:07.237Z"
   },
   {
    "duration": 10,
    "start_time": "2022-01-26T16:02:07.260Z"
   },
   {
    "duration": 16,
    "start_time": "2022-01-26T16:02:07.271Z"
   },
   {
    "duration": 30,
    "start_time": "2022-01-26T16:02:07.288Z"
   },
   {
    "duration": 9,
    "start_time": "2022-01-26T16:02:07.319Z"
   },
   {
    "duration": 389,
    "start_time": "2022-01-26T16:02:07.330Z"
   },
   {
    "duration": 9,
    "start_time": "2022-01-26T16:02:07.721Z"
   },
   {
    "duration": 64,
    "start_time": "2022-01-26T16:02:07.731Z"
   },
   {
    "duration": 32,
    "start_time": "2022-01-26T16:02:07.812Z"
   },
   {
    "duration": 30,
    "start_time": "2022-01-26T16:02:07.846Z"
   },
   {
    "duration": 52,
    "start_time": "2022-01-26T16:02:07.878Z"
   },
   {
    "duration": 4,
    "start_time": "2022-01-26T16:02:07.931Z"
   },
   {
    "duration": 9,
    "start_time": "2022-01-26T16:02:07.936Z"
   },
   {
    "duration": 4,
    "start_time": "2022-01-26T16:02:07.947Z"
   },
   {
    "duration": 29,
    "start_time": "2022-01-26T16:02:07.952Z"
   },
   {
    "duration": 4,
    "start_time": "2022-01-26T16:02:07.983Z"
   },
   {
    "duration": 25,
    "start_time": "2022-01-26T16:02:07.988Z"
   },
   {
    "duration": 4,
    "start_time": "2022-01-26T16:02:08.014Z"
   },
   {
    "duration": 7,
    "start_time": "2022-01-26T16:02:08.019Z"
   },
   {
    "duration": 6,
    "start_time": "2022-01-26T16:02:08.028Z"
   },
   {
    "duration": 6,
    "start_time": "2022-01-26T16:02:08.035Z"
   },
   {
    "duration": 17,
    "start_time": "2022-01-26T16:02:08.042Z"
   },
   {
    "duration": 140,
    "start_time": "2022-01-26T16:02:08.063Z"
   },
   {
    "duration": 15,
    "start_time": "2022-01-26T16:02:08.205Z"
   },
   {
    "duration": 12,
    "start_time": "2022-01-26T16:02:08.221Z"
   },
   {
    "duration": 434,
    "start_time": "2022-01-26T16:02:08.234Z"
   },
   {
    "duration": 1125,
    "start_time": "2022-01-26T16:02:08.670Z"
   },
   {
    "duration": 39,
    "start_time": "2022-01-26T16:02:09.797Z"
   },
   {
    "duration": 16,
    "start_time": "2022-01-26T16:02:09.838Z"
   },
   {
    "duration": 957,
    "start_time": "2022-01-26T16:02:09.855Z"
   },
   {
    "duration": 15,
    "start_time": "2022-01-26T16:02:10.814Z"
   },
   {
    "duration": 892,
    "start_time": "2022-01-26T16:02:10.830Z"
   },
   {
    "duration": 21,
    "start_time": "2022-01-26T16:02:11.724Z"
   },
   {
    "duration": 9,
    "start_time": "2022-01-26T16:02:11.746Z"
   },
   {
    "duration": 7,
    "start_time": "2022-01-26T16:02:11.756Z"
   },
   {
    "duration": 6,
    "start_time": "2022-01-26T16:02:11.764Z"
   },
   {
    "duration": 9,
    "start_time": "2022-01-26T16:02:11.771Z"
   },
   {
    "duration": 39,
    "start_time": "2022-01-26T16:02:11.782Z"
   },
   {
    "duration": 9,
    "start_time": "2022-01-26T16:02:11.823Z"
   },
   {
    "duration": 4,
    "start_time": "2022-01-26T16:02:11.834Z"
   },
   {
    "duration": 7,
    "start_time": "2022-01-26T16:02:11.840Z"
   },
   {
    "duration": 19,
    "start_time": "2022-01-26T16:02:11.849Z"
   },
   {
    "duration": 17,
    "start_time": "2022-01-26T16:05:28.702Z"
   },
   {
    "duration": 1278,
    "start_time": "2022-07-25T10:06:54.541Z"
   },
   {
    "duration": 1111,
    "start_time": "2022-07-25T10:06:55.821Z"
   },
   {
    "duration": 30,
    "start_time": "2022-07-25T10:06:56.933Z"
   },
   {
    "duration": 62,
    "start_time": "2022-07-25T10:06:56.965Z"
   },
   {
    "duration": 5,
    "start_time": "2022-07-25T10:06:57.029Z"
   },
   {
    "duration": 19,
    "start_time": "2022-07-25T10:06:57.036Z"
   },
   {
    "duration": 769,
    "start_time": "2022-07-25T10:06:57.056Z"
   },
   {
    "duration": 11,
    "start_time": "2022-07-25T10:06:57.827Z"
   },
   {
    "duration": 21,
    "start_time": "2022-07-25T10:06:57.839Z"
   },
   {
    "duration": 14,
    "start_time": "2022-07-25T10:06:57.862Z"
   },
   {
    "duration": 19,
    "start_time": "2022-07-25T10:06:57.877Z"
   },
   {
    "duration": 20,
    "start_time": "2022-07-25T10:06:57.897Z"
   },
   {
    "duration": 10,
    "start_time": "2022-07-25T10:06:57.918Z"
   },
   {
    "duration": 19,
    "start_time": "2022-07-25T10:06:57.932Z"
   },
   {
    "duration": 23,
    "start_time": "2022-07-25T10:06:57.953Z"
   },
   {
    "duration": 14,
    "start_time": "2022-07-25T10:06:57.978Z"
   },
   {
    "duration": 22,
    "start_time": "2022-07-25T10:06:57.994Z"
   },
   {
    "duration": 26,
    "start_time": "2022-07-25T10:06:58.017Z"
   },
   {
    "duration": 16,
    "start_time": "2022-07-25T10:06:58.045Z"
   },
   {
    "duration": 11,
    "start_time": "2022-07-25T10:06:58.063Z"
   },
   {
    "duration": 23,
    "start_time": "2022-07-25T10:06:58.076Z"
   },
   {
    "duration": 11,
    "start_time": "2022-07-25T10:06:58.101Z"
   },
   {
    "duration": 285,
    "start_time": "2022-07-25T10:06:58.114Z"
   },
   {
    "duration": 30,
    "start_time": "2022-07-25T10:06:58.401Z"
   },
   {
    "duration": 13,
    "start_time": "2022-07-25T10:06:58.432Z"
   },
   {
    "duration": 20,
    "start_time": "2022-07-25T10:06:58.446Z"
   },
   {
    "duration": 35,
    "start_time": "2022-07-25T10:06:58.468Z"
   },
   {
    "duration": 15,
    "start_time": "2022-07-25T10:06:58.505Z"
   },
   {
    "duration": 175,
    "start_time": "2022-07-25T10:06:58.522Z"
   },
   {
    "duration": 7,
    "start_time": "2022-07-25T10:06:58.701Z"
   },
   {
    "duration": 3,
    "start_time": "2022-07-25T10:06:58.709Z"
   },
   {
    "duration": 11,
    "start_time": "2022-07-25T10:06:58.714Z"
   },
   {
    "duration": 6,
    "start_time": "2022-07-25T10:06:58.727Z"
   },
   {
    "duration": 491,
    "start_time": "2022-07-25T10:06:58.734Z"
   },
   {
    "duration": 98,
    "start_time": "2022-07-25T10:06:59.227Z"
   },
   {
    "duration": 17,
    "start_time": "2022-07-25T10:06:59.326Z"
   },
   {
    "duration": 9,
    "start_time": "2022-07-25T10:06:59.344Z"
   },
   {
    "duration": 12,
    "start_time": "2022-07-25T10:06:59.354Z"
   },
   {
    "duration": 35,
    "start_time": "2022-07-25T10:06:59.367Z"
   },
   {
    "duration": 8,
    "start_time": "2022-07-25T10:06:59.404Z"
   },
   {
    "duration": 5,
    "start_time": "2022-07-25T10:06:59.416Z"
   },
   {
    "duration": 318,
    "start_time": "2022-07-25T10:06:59.422Z"
   },
   {
    "duration": 124,
    "start_time": "2022-07-25T10:06:59.741Z"
   },
   {
    "duration": 16,
    "start_time": "2022-07-25T10:06:59.867Z"
   },
   {
    "duration": 164,
    "start_time": "2022-07-25T10:06:59.885Z"
   },
   {
    "duration": 23,
    "start_time": "2022-07-25T10:07:00.051Z"
   },
   {
    "duration": 28,
    "start_time": "2022-07-25T10:07:00.075Z"
   },
   {
    "duration": 14,
    "start_time": "2022-07-25T10:07:00.104Z"
   },
   {
    "duration": 8,
    "start_time": "2022-07-25T10:07:00.120Z"
   },
   {
    "duration": 15,
    "start_time": "2022-07-25T10:07:00.130Z"
   },
   {
    "duration": 372,
    "start_time": "2022-07-25T10:07:00.146Z"
   },
   {
    "duration": 9,
    "start_time": "2022-07-25T10:07:00.519Z"
   },
   {
    "duration": 72,
    "start_time": "2022-07-25T10:07:00.530Z"
   },
   {
    "duration": 29,
    "start_time": "2022-07-25T10:07:00.604Z"
   },
   {
    "duration": 28,
    "start_time": "2022-07-25T10:07:00.634Z"
   },
   {
    "duration": 53,
    "start_time": "2022-07-25T10:07:00.664Z"
   },
   {
    "duration": 4,
    "start_time": "2022-07-25T10:07:00.718Z"
   },
   {
    "duration": 13,
    "start_time": "2022-07-25T10:07:00.724Z"
   },
   {
    "duration": 8,
    "start_time": "2022-07-25T10:07:00.739Z"
   },
   {
    "duration": 27,
    "start_time": "2022-07-25T10:07:00.749Z"
   },
   {
    "duration": 5,
    "start_time": "2022-07-25T10:07:00.778Z"
   },
   {
    "duration": 21,
    "start_time": "2022-07-25T10:07:00.784Z"
   },
   {
    "duration": 10,
    "start_time": "2022-07-25T10:07:00.806Z"
   },
   {
    "duration": 14,
    "start_time": "2022-07-25T10:07:00.818Z"
   },
   {
    "duration": 6,
    "start_time": "2022-07-25T10:07:00.834Z"
   },
   {
    "duration": 6,
    "start_time": "2022-07-25T10:07:00.842Z"
   },
   {
    "duration": 18,
    "start_time": "2022-07-25T10:07:00.849Z"
   },
   {
    "duration": 76,
    "start_time": "2022-07-25T10:07:00.870Z"
   },
   {
    "duration": 16,
    "start_time": "2022-07-25T10:07:00.948Z"
   },
   {
    "duration": 13,
    "start_time": "2022-07-25T10:07:00.966Z"
   },
   {
    "duration": 254,
    "start_time": "2022-07-25T10:07:00.980Z"
   },
   {
    "duration": 794,
    "start_time": "2022-07-25T10:07:01.236Z"
   },
   {
    "duration": 28,
    "start_time": "2022-07-25T10:07:02.032Z"
   },
   {
    "duration": 10,
    "start_time": "2022-07-25T10:07:02.061Z"
   },
   {
    "duration": 701,
    "start_time": "2022-07-25T10:07:02.073Z"
   },
   {
    "duration": 10,
    "start_time": "2022-07-25T10:07:02.776Z"
   },
   {
    "duration": 647,
    "start_time": "2022-07-25T10:07:02.788Z"
   },
   {
    "duration": 27,
    "start_time": "2022-07-25T10:07:03.437Z"
   },
   {
    "duration": 14,
    "start_time": "2022-07-25T10:07:03.466Z"
   },
   {
    "duration": 35,
    "start_time": "2022-07-25T10:07:03.482Z"
   },
   {
    "duration": 11,
    "start_time": "2022-07-25T10:07:03.520Z"
   },
   {
    "duration": 17,
    "start_time": "2022-07-25T10:07:03.533Z"
   },
   {
    "duration": 18,
    "start_time": "2022-07-25T10:07:03.552Z"
   },
   {
    "duration": 8,
    "start_time": "2022-07-25T10:07:03.571Z"
   },
   {
    "duration": 10,
    "start_time": "2022-07-25T10:07:03.580Z"
   },
   {
    "duration": 9,
    "start_time": "2022-07-25T10:07:03.591Z"
   },
   {
    "duration": 16,
    "start_time": "2022-07-25T10:07:03.601Z"
   }
  ],
  "kernelspec": {
   "display_name": "Python 3 (ipykernel)",
   "language": "python",
   "name": "python3"
  },
  "language_info": {
   "codemirror_mode": {
    "name": "ipython",
    "version": 3
   },
   "file_extension": ".py",
   "mimetype": "text/x-python",
   "name": "python",
   "nbconvert_exporter": "python",
   "pygments_lexer": "ipython3",
   "version": "3.7.8"
  },
  "toc": {
   "base_numbering": 1,
   "nav_menu": {},
   "number_sections": true,
   "sideBar": true,
   "skip_h1_title": true,
   "title_cell": "Содержание",
   "title_sidebar": "Contents",
   "toc_cell": true,
   "toc_position": {
    "height": "calc(100% - 180px)",
    "left": "10px",
    "top": "150px",
    "width": "366.391px"
   },
   "toc_section_display": true,
   "toc_window_display": true
  }
 },
 "nbformat": 4,
 "nbformat_minor": 2
}
