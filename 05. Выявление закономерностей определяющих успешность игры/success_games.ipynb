{
 "cells": [
  {
   "cell_type": "markdown",
   "id": "ad3b1f8d",
   "metadata": {},
   "source": [
    "# Выявление закономерностей определяющих успешность игры"
   ]
  },
  {
   "cell_type": "markdown",
   "id": "9779fd62",
   "metadata": {},
   "source": [
    "Интернет-магазин «Стримчик» продаёт по всему миру компьютерные игры. Из открытых источников доступны исторические данные о продажах игр, оценки пользователей и экспертов, жанры и платформы (например, Xbox или PlayStation). Нам нужно выявить определяющие успешность игры закономерности. Это позволит сделать ставку на потенциально популярный продукт и спланировать рекламные кампании."
   ]
  },
  {
   "cell_type": "markdown",
   "id": "8c049df2",
   "metadata": {
    "toc": true
   },
   "source": [
    "<h1>Содержание<span class=\"tocSkip\"></span></h1>\n",
    "<div class=\"toc\"><ul class=\"toc-item\"><li><span><a href=\"#Обзор-данных\" data-toc-modified-id=\"Обзор-данных-1\"><span class=\"toc-item-num\">1&nbsp;&nbsp;</span>Обзор данных</a></span></li><li><span><a href=\"#Предобработка-данных\" data-toc-modified-id=\"Предобработка-данных-2\"><span class=\"toc-item-num\">2&nbsp;&nbsp;</span>Предобработка данных</a></span><ul class=\"toc-item\"><li><span><a href=\"#Столбец-name\" data-toc-modified-id=\"Столбец-name-2.1\"><span class=\"toc-item-num\">2.1&nbsp;&nbsp;</span>Столбец name</a></span></li><li><span><a href=\"#Столбец-platform\" data-toc-modified-id=\"Столбец-platform-2.2\"><span class=\"toc-item-num\">2.2&nbsp;&nbsp;</span>Столбец platform</a></span></li><li><span><a href=\"#Столбец-year_of_release\" data-toc-modified-id=\"Столбец-year_of_release-2.3\"><span class=\"toc-item-num\">2.3&nbsp;&nbsp;</span>Столбец year_of_release</a></span></li><li><span><a href=\"#Столбец-genre\" data-toc-modified-id=\"Столбец-genre-2.4\"><span class=\"toc-item-num\">2.4&nbsp;&nbsp;</span>Столбец genre</a></span></li><li><span><a href=\"#Столбцы-na_sales,-eu_sales,-jp_sales,-other_sales\" data-toc-modified-id=\"Столбцы-na_sales,-eu_sales,-jp_sales,-other_sales-2.5\"><span class=\"toc-item-num\">2.5&nbsp;&nbsp;</span>Столбцы na_sales, eu_sales, jp_sales, other_sales</a></span></li><li><span><a href=\"#Столбцы-critic_score,-user_score\" data-toc-modified-id=\"Столбцы-critic_score,-user_score-2.6\"><span class=\"toc-item-num\">2.6&nbsp;&nbsp;</span>Столбцы critic_score, user_score</a></span></li><li><span><a href=\"#Столбец-rating\" data-toc-modified-id=\"Столбец-rating-2.7\"><span class=\"toc-item-num\">2.7&nbsp;&nbsp;</span>Столбец rating</a></span></li><li><span><a href=\"#Проверка-на-дубликаты\" data-toc-modified-id=\"Проверка-на-дубликаты-2.8\"><span class=\"toc-item-num\">2.8&nbsp;&nbsp;</span>Проверка на дубликаты</a></span></li></ul></li><li><span><a href=\"#Исследовательский-анализ-данных\" data-toc-modified-id=\"Исследовательский-анализ-данных-3\"><span class=\"toc-item-num\">3&nbsp;&nbsp;</span>Исследовательский анализ данных</a></span><ul class=\"toc-item\"><li><span><a href=\"#Сколько-игр-выпускалось-по-годам\" data-toc-modified-id=\"Сколько-игр-выпускалось-по-годам-3.1\"><span class=\"toc-item-num\">3.1&nbsp;&nbsp;</span>Сколько игр выпускалось по годам</a></span></li><li><span><a href=\"#Анализ-изменения-продаж-по-платформам.\" data-toc-modified-id=\"Анализ-изменения-продаж-по-платформам.-3.2\"><span class=\"toc-item-num\">3.2&nbsp;&nbsp;</span>Анализ изменения продаж по платформам.</a></span></li><li><span><a href=\"#Прогноз-на-2017-год\" data-toc-modified-id=\"Прогноз-на-2017-год-3.3\"><span class=\"toc-item-num\">3.3&nbsp;&nbsp;</span>Прогноз на 2017 год</a></span></li><li><span><a href=\"#Влияние-отзывов-пользователий-и-критиков-на-продажи-на-PS4\" data-toc-modified-id=\"Влияние-отзывов-пользователий-и-критиков-на-продажи-на-PS4-3.4\"><span class=\"toc-item-num\">3.4&nbsp;&nbsp;</span>Влияние отзывов пользователий и критиков на продажи на PS4</a></span></li></ul></li><li><span><a href=\"#Портрет-пользователя-каждого-региона\" data-toc-modified-id=\"Портрет-пользователя-каждого-региона-4\"><span class=\"toc-item-num\">4&nbsp;&nbsp;</span>Портрет пользователя каждого региона</a></span></li><li><span><a href=\"#Проверка-гипотез\" data-toc-modified-id=\"Проверка-гипотез-5\"><span class=\"toc-item-num\">5&nbsp;&nbsp;</span>Проверка гипотез</a></span><ul class=\"toc-item\"><li><span><a href=\"#Средние-пользовательские-рейтинги-платформ-Xbox-One-и-PC-одинаковые\" data-toc-modified-id=\"Средние-пользовательские-рейтинги-платформ-Xbox-One-и-PC-одинаковые-5.1\"><span class=\"toc-item-num\">5.1&nbsp;&nbsp;</span>Средние пользовательские рейтинги платформ Xbox One и PC одинаковые</a></span></li><li><span><a href=\"#Средние-пользовательские-рейтинги-жанров-Action-и-Sports-разные.\" data-toc-modified-id=\"Средние-пользовательские-рейтинги-жанров-Action-и-Sports-разные.-5.2\"><span class=\"toc-item-num\">5.2&nbsp;&nbsp;</span>Средние пользовательские рейтинги жанров Action и Sports разные.</a></span></li></ul></li><li><span><a href=\"#Общий-вывод\" data-toc-modified-id=\"Общий-вывод-6\"><span class=\"toc-item-num\">6&nbsp;&nbsp;</span>Общий вывод</a></span></li></ul></div>"
   ]
  },
  {
   "cell_type": "markdown",
   "id": "3f5b39b9",
   "metadata": {},
   "source": [
    "## Обзор данных"
   ]
  },
  {
   "cell_type": "code",
   "execution_count": 1,
   "id": "390fe88e",
   "metadata": {},
   "outputs": [],
   "source": [
    "# импорт необходимых библиотек\n",
    "import pandas as pd\n",
    "import numpy as np\n",
    "import seaborn as sns\n",
    "import matplotlib.pyplot as plt\n",
    "from scipy import stats as st\n",
    "import os"
   ]
  },
  {
   "cell_type": "code",
   "execution_count": 2,
   "id": "3eab5aea",
   "metadata": {
    "scrolled": true
   },
   "outputs": [
    {
     "data": {
      "text/html": [
       "<div>\n",
       "<style scoped>\n",
       "    .dataframe tbody tr th:only-of-type {\n",
       "        vertical-align: middle;\n",
       "    }\n",
       "\n",
       "    .dataframe tbody tr th {\n",
       "        vertical-align: top;\n",
       "    }\n",
       "\n",
       "    .dataframe thead th {\n",
       "        text-align: right;\n",
       "    }\n",
       "</style>\n",
       "<table border=\"1\" class=\"dataframe\">\n",
       "  <thead>\n",
       "    <tr style=\"text-align: right;\">\n",
       "      <th></th>\n",
       "      <th>Name</th>\n",
       "      <th>Platform</th>\n",
       "      <th>Year_of_Release</th>\n",
       "      <th>Genre</th>\n",
       "      <th>NA_sales</th>\n",
       "      <th>EU_sales</th>\n",
       "      <th>JP_sales</th>\n",
       "      <th>Other_sales</th>\n",
       "      <th>Critic_Score</th>\n",
       "      <th>User_Score</th>\n",
       "      <th>Rating</th>\n",
       "    </tr>\n",
       "  </thead>\n",
       "  <tbody>\n",
       "    <tr>\n",
       "      <td>0</td>\n",
       "      <td>Wii Sports</td>\n",
       "      <td>Wii</td>\n",
       "      <td>2006.0</td>\n",
       "      <td>Sports</td>\n",
       "      <td>41.36</td>\n",
       "      <td>28.96</td>\n",
       "      <td>3.77</td>\n",
       "      <td>8.45</td>\n",
       "      <td>76.0</td>\n",
       "      <td>8</td>\n",
       "      <td>E</td>\n",
       "    </tr>\n",
       "    <tr>\n",
       "      <td>1</td>\n",
       "      <td>Super Mario Bros.</td>\n",
       "      <td>NES</td>\n",
       "      <td>1985.0</td>\n",
       "      <td>Platform</td>\n",
       "      <td>29.08</td>\n",
       "      <td>3.58</td>\n",
       "      <td>6.81</td>\n",
       "      <td>0.77</td>\n",
       "      <td>NaN</td>\n",
       "      <td>NaN</td>\n",
       "      <td>NaN</td>\n",
       "    </tr>\n",
       "    <tr>\n",
       "      <td>2</td>\n",
       "      <td>Mario Kart Wii</td>\n",
       "      <td>Wii</td>\n",
       "      <td>2008.0</td>\n",
       "      <td>Racing</td>\n",
       "      <td>15.68</td>\n",
       "      <td>12.76</td>\n",
       "      <td>3.79</td>\n",
       "      <td>3.29</td>\n",
       "      <td>82.0</td>\n",
       "      <td>8.3</td>\n",
       "      <td>E</td>\n",
       "    </tr>\n",
       "    <tr>\n",
       "      <td>3</td>\n",
       "      <td>Wii Sports Resort</td>\n",
       "      <td>Wii</td>\n",
       "      <td>2009.0</td>\n",
       "      <td>Sports</td>\n",
       "      <td>15.61</td>\n",
       "      <td>10.93</td>\n",
       "      <td>3.28</td>\n",
       "      <td>2.95</td>\n",
       "      <td>80.0</td>\n",
       "      <td>8</td>\n",
       "      <td>E</td>\n",
       "    </tr>\n",
       "    <tr>\n",
       "      <td>4</td>\n",
       "      <td>Pokemon Red/Pokemon Blue</td>\n",
       "      <td>GB</td>\n",
       "      <td>1996.0</td>\n",
       "      <td>Role-Playing</td>\n",
       "      <td>11.27</td>\n",
       "      <td>8.89</td>\n",
       "      <td>10.22</td>\n",
       "      <td>1.00</td>\n",
       "      <td>NaN</td>\n",
       "      <td>NaN</td>\n",
       "      <td>NaN</td>\n",
       "    </tr>\n",
       "  </tbody>\n",
       "</table>\n",
       "</div>"
      ],
      "text/plain": [
       "                       Name Platform  Year_of_Release         Genre  NA_sales  \\\n",
       "0                Wii Sports      Wii           2006.0        Sports     41.36   \n",
       "1         Super Mario Bros.      NES           1985.0      Platform     29.08   \n",
       "2            Mario Kart Wii      Wii           2008.0        Racing     15.68   \n",
       "3         Wii Sports Resort      Wii           2009.0        Sports     15.61   \n",
       "4  Pokemon Red/Pokemon Blue       GB           1996.0  Role-Playing     11.27   \n",
       "\n",
       "   EU_sales  JP_sales  Other_sales  Critic_Score User_Score Rating  \n",
       "0     28.96      3.77         8.45          76.0          8      E  \n",
       "1      3.58      6.81         0.77           NaN        NaN    NaN  \n",
       "2     12.76      3.79         3.29          82.0        8.3      E  \n",
       "3     10.93      3.28         2.95          80.0          8      E  \n",
       "4      8.89     10.22         1.00           NaN        NaN    NaN  "
      ]
     },
     "execution_count": 2,
     "metadata": {},
     "output_type": "execute_result"
    }
   ],
   "source": [
    "# открываем файл с данными, сохраняем в df, смотрим первые строки\n",
    "if os.path.exists('games.csv'):\n",
    "    df = pd.read_csv('games.csv') # локальный путь\n",
    "else:\n",
    "    df = pd.read_csv('/datasets/games.csv') # путь указанный в проекте\n",
    "df.head()"
   ]
  },
  {
   "cell_type": "code",
   "execution_count": 3,
   "id": "7704aff6",
   "metadata": {
    "scrolled": true
   },
   "outputs": [
    {
     "data": {
      "text/html": [
       "<div>\n",
       "<style scoped>\n",
       "    .dataframe tbody tr th:only-of-type {\n",
       "        vertical-align: middle;\n",
       "    }\n",
       "\n",
       "    .dataframe tbody tr th {\n",
       "        vertical-align: top;\n",
       "    }\n",
       "\n",
       "    .dataframe thead th {\n",
       "        text-align: right;\n",
       "    }\n",
       "</style>\n",
       "<table border=\"1\" class=\"dataframe\">\n",
       "  <thead>\n",
       "    <tr style=\"text-align: right;\">\n",
       "      <th></th>\n",
       "      <th>Year_of_Release</th>\n",
       "      <th>NA_sales</th>\n",
       "      <th>EU_sales</th>\n",
       "      <th>JP_sales</th>\n",
       "      <th>Other_sales</th>\n",
       "      <th>Critic_Score</th>\n",
       "    </tr>\n",
       "  </thead>\n",
       "  <tbody>\n",
       "    <tr>\n",
       "      <td>count</td>\n",
       "      <td>16446.000000</td>\n",
       "      <td>16715.000000</td>\n",
       "      <td>16715.000000</td>\n",
       "      <td>16715.000000</td>\n",
       "      <td>16715.000000</td>\n",
       "      <td>8137.000000</td>\n",
       "    </tr>\n",
       "    <tr>\n",
       "      <td>mean</td>\n",
       "      <td>2006.484616</td>\n",
       "      <td>0.263377</td>\n",
       "      <td>0.145060</td>\n",
       "      <td>0.077617</td>\n",
       "      <td>0.047342</td>\n",
       "      <td>68.967679</td>\n",
       "    </tr>\n",
       "    <tr>\n",
       "      <td>std</td>\n",
       "      <td>5.877050</td>\n",
       "      <td>0.813604</td>\n",
       "      <td>0.503339</td>\n",
       "      <td>0.308853</td>\n",
       "      <td>0.186731</td>\n",
       "      <td>13.938165</td>\n",
       "    </tr>\n",
       "    <tr>\n",
       "      <td>min</td>\n",
       "      <td>1980.000000</td>\n",
       "      <td>0.000000</td>\n",
       "      <td>0.000000</td>\n",
       "      <td>0.000000</td>\n",
       "      <td>0.000000</td>\n",
       "      <td>13.000000</td>\n",
       "    </tr>\n",
       "    <tr>\n",
       "      <td>25%</td>\n",
       "      <td>2003.000000</td>\n",
       "      <td>0.000000</td>\n",
       "      <td>0.000000</td>\n",
       "      <td>0.000000</td>\n",
       "      <td>0.000000</td>\n",
       "      <td>60.000000</td>\n",
       "    </tr>\n",
       "    <tr>\n",
       "      <td>50%</td>\n",
       "      <td>2007.000000</td>\n",
       "      <td>0.080000</td>\n",
       "      <td>0.020000</td>\n",
       "      <td>0.000000</td>\n",
       "      <td>0.010000</td>\n",
       "      <td>71.000000</td>\n",
       "    </tr>\n",
       "    <tr>\n",
       "      <td>75%</td>\n",
       "      <td>2010.000000</td>\n",
       "      <td>0.240000</td>\n",
       "      <td>0.110000</td>\n",
       "      <td>0.040000</td>\n",
       "      <td>0.030000</td>\n",
       "      <td>79.000000</td>\n",
       "    </tr>\n",
       "    <tr>\n",
       "      <td>max</td>\n",
       "      <td>2016.000000</td>\n",
       "      <td>41.360000</td>\n",
       "      <td>28.960000</td>\n",
       "      <td>10.220000</td>\n",
       "      <td>10.570000</td>\n",
       "      <td>98.000000</td>\n",
       "    </tr>\n",
       "  </tbody>\n",
       "</table>\n",
       "</div>"
      ],
      "text/plain": [
       "       Year_of_Release      NA_sales      EU_sales      JP_sales  \\\n",
       "count     16446.000000  16715.000000  16715.000000  16715.000000   \n",
       "mean       2006.484616      0.263377      0.145060      0.077617   \n",
       "std           5.877050      0.813604      0.503339      0.308853   \n",
       "min        1980.000000      0.000000      0.000000      0.000000   \n",
       "25%        2003.000000      0.000000      0.000000      0.000000   \n",
       "50%        2007.000000      0.080000      0.020000      0.000000   \n",
       "75%        2010.000000      0.240000      0.110000      0.040000   \n",
       "max        2016.000000     41.360000     28.960000     10.220000   \n",
       "\n",
       "        Other_sales  Critic_Score  \n",
       "count  16715.000000   8137.000000  \n",
       "mean       0.047342     68.967679  \n",
       "std        0.186731     13.938165  \n",
       "min        0.000000     13.000000  \n",
       "25%        0.000000     60.000000  \n",
       "50%        0.010000     71.000000  \n",
       "75%        0.030000     79.000000  \n",
       "max       10.570000     98.000000  "
      ]
     },
     "execution_count": 3,
     "metadata": {},
     "output_type": "execute_result"
    }
   ],
   "source": [
    "# числовое описание данных\n",
    "df.describe()"
   ]
  },
  {
   "cell_type": "code",
   "execution_count": 4,
   "id": "29f76a41",
   "metadata": {},
   "outputs": [
    {
     "data": {
      "text/html": [
       "<div>\n",
       "<style scoped>\n",
       "    .dataframe tbody tr th:only-of-type {\n",
       "        vertical-align: middle;\n",
       "    }\n",
       "\n",
       "    .dataframe tbody tr th {\n",
       "        vertical-align: top;\n",
       "    }\n",
       "\n",
       "    .dataframe thead th {\n",
       "        text-align: right;\n",
       "    }\n",
       "</style>\n",
       "<table border=\"1\" class=\"dataframe\">\n",
       "  <thead>\n",
       "    <tr style=\"text-align: right;\">\n",
       "      <th></th>\n",
       "      <th>Name</th>\n",
       "      <th>Platform</th>\n",
       "      <th>Genre</th>\n",
       "      <th>User_Score</th>\n",
       "      <th>Rating</th>\n",
       "    </tr>\n",
       "  </thead>\n",
       "  <tbody>\n",
       "    <tr>\n",
       "      <td>count</td>\n",
       "      <td>16713</td>\n",
       "      <td>16715</td>\n",
       "      <td>16713</td>\n",
       "      <td>10014</td>\n",
       "      <td>9949</td>\n",
       "    </tr>\n",
       "    <tr>\n",
       "      <td>unique</td>\n",
       "      <td>11559</td>\n",
       "      <td>31</td>\n",
       "      <td>12</td>\n",
       "      <td>96</td>\n",
       "      <td>8</td>\n",
       "    </tr>\n",
       "    <tr>\n",
       "      <td>top</td>\n",
       "      <td>Need for Speed: Most Wanted</td>\n",
       "      <td>PS2</td>\n",
       "      <td>Action</td>\n",
       "      <td>tbd</td>\n",
       "      <td>E</td>\n",
       "    </tr>\n",
       "    <tr>\n",
       "      <td>freq</td>\n",
       "      <td>12</td>\n",
       "      <td>2161</td>\n",
       "      <td>3369</td>\n",
       "      <td>2424</td>\n",
       "      <td>3990</td>\n",
       "    </tr>\n",
       "  </tbody>\n",
       "</table>\n",
       "</div>"
      ],
      "text/plain": [
       "                               Name Platform   Genre User_Score Rating\n",
       "count                         16713    16715   16713      10014   9949\n",
       "unique                        11559       31      12         96      8\n",
       "top     Need for Speed: Most Wanted      PS2  Action        tbd      E\n",
       "freq                             12     2161    3369       2424   3990"
      ]
     },
     "execution_count": 4,
     "metadata": {},
     "output_type": "execute_result"
    }
   ],
   "source": [
    "# описание сторовых данных\n",
    "df.describe(include='object')"
   ]
  },
  {
   "cell_type": "code",
   "execution_count": 5,
   "id": "ee76b7d6",
   "metadata": {
    "scrolled": true
   },
   "outputs": [
    {
     "name": "stdout",
     "output_type": "stream",
     "text": [
      "<class 'pandas.core.frame.DataFrame'>\n",
      "RangeIndex: 16715 entries, 0 to 16714\n",
      "Data columns (total 11 columns):\n",
      "Name               16713 non-null object\n",
      "Platform           16715 non-null object\n",
      "Year_of_Release    16446 non-null float64\n",
      "Genre              16713 non-null object\n",
      "NA_sales           16715 non-null float64\n",
      "EU_sales           16715 non-null float64\n",
      "JP_sales           16715 non-null float64\n",
      "Other_sales        16715 non-null float64\n",
      "Critic_Score       8137 non-null float64\n",
      "User_Score         10014 non-null object\n",
      "Rating             9949 non-null object\n",
      "dtypes: float64(6), object(5)\n",
      "memory usage: 1.4+ MB\n"
     ]
    },
    {
     "data": {
      "text/plain": [
       "None"
      ]
     },
     "metadata": {},
     "output_type": "display_data"
    }
   ],
   "source": [
    "# общая информация о таблице\n",
    "display(df.info())"
   ]
  },
  {
   "cell_type": "markdown",
   "id": "d15c412d",
   "metadata": {},
   "source": [
    "**Вывод**\n",
    "\n",
    "* `Name` — название игры\n",
    "* `Platform` — платформа\n",
    "* `Year_of_Release` — год выпуска\n",
    "* `Genre` — жанр игры\n",
    "* `NA_sales` — продажи в Северной Америке (миллионы проданных копий)\n",
    "* `EU_sales` — продажи в Европе (миллионы проданных копий)\n",
    "* `JP_sales` — продажи в Японии (миллионы проданных копий)\n",
    "* `Other_sales` — продажи в других странах (миллионы проданных копий)\n",
    "* `Critic_Score` — оценка критиков (максимум 100)\n",
    "* `User_Score` — оценка пользователей (максимум 10)\n",
    "* `Rating` — рейтинг от организации ESRB (англ. Entertainment Software Rating Board). Эта ассоциация определяет рейтинг компьютерных игр и присваивает им подходящую возрастную категорию.\n",
    "\n",
    "У нас 16715 строк, 11 столбцов, есть пропуски и необходимо привести к нижнему регистру названия столбцов.\n"
   ]
  },
  {
   "cell_type": "markdown",
   "id": "943c5532",
   "metadata": {},
   "source": [
    "## Предобработка данных"
   ]
  },
  {
   "cell_type": "code",
   "execution_count": 6,
   "id": "d1405d2a",
   "metadata": {},
   "outputs": [],
   "source": [
    "# приводим названия столбцов к нижнему регистру\n",
    "df.columns = df.columns.str.lower()"
   ]
  },
  {
   "cell_type": "code",
   "execution_count": 7,
   "id": "0089c421",
   "metadata": {
    "scrolled": true
   },
   "outputs": [
    {
     "data": {
      "text/html": [
       "<div>\n",
       "<style scoped>\n",
       "    .dataframe tbody tr th:only-of-type {\n",
       "        vertical-align: middle;\n",
       "    }\n",
       "\n",
       "    .dataframe tbody tr th {\n",
       "        vertical-align: top;\n",
       "    }\n",
       "\n",
       "    .dataframe thead th {\n",
       "        text-align: right;\n",
       "    }\n",
       "</style>\n",
       "<table border=\"1\" class=\"dataframe\">\n",
       "  <thead>\n",
       "    <tr style=\"text-align: right;\">\n",
       "      <th></th>\n",
       "      <th>name</th>\n",
       "      <th>platform</th>\n",
       "      <th>year_of_release</th>\n",
       "      <th>genre</th>\n",
       "      <th>na_sales</th>\n",
       "      <th>eu_sales</th>\n",
       "      <th>jp_sales</th>\n",
       "      <th>other_sales</th>\n",
       "      <th>critic_score</th>\n",
       "      <th>user_score</th>\n",
       "      <th>rating</th>\n",
       "    </tr>\n",
       "  </thead>\n",
       "  <tbody>\n",
       "    <tr>\n",
       "      <td>0</td>\n",
       "      <td>Wii Sports</td>\n",
       "      <td>Wii</td>\n",
       "      <td>2006.0</td>\n",
       "      <td>Sports</td>\n",
       "      <td>41.36</td>\n",
       "      <td>28.96</td>\n",
       "      <td>3.77</td>\n",
       "      <td>8.45</td>\n",
       "      <td>76.0</td>\n",
       "      <td>8</td>\n",
       "      <td>E</td>\n",
       "    </tr>\n",
       "    <tr>\n",
       "      <td>1</td>\n",
       "      <td>Super Mario Bros.</td>\n",
       "      <td>NES</td>\n",
       "      <td>1985.0</td>\n",
       "      <td>Platform</td>\n",
       "      <td>29.08</td>\n",
       "      <td>3.58</td>\n",
       "      <td>6.81</td>\n",
       "      <td>0.77</td>\n",
       "      <td>NaN</td>\n",
       "      <td>NaN</td>\n",
       "      <td>NaN</td>\n",
       "    </tr>\n",
       "    <tr>\n",
       "      <td>2</td>\n",
       "      <td>Mario Kart Wii</td>\n",
       "      <td>Wii</td>\n",
       "      <td>2008.0</td>\n",
       "      <td>Racing</td>\n",
       "      <td>15.68</td>\n",
       "      <td>12.76</td>\n",
       "      <td>3.79</td>\n",
       "      <td>3.29</td>\n",
       "      <td>82.0</td>\n",
       "      <td>8.3</td>\n",
       "      <td>E</td>\n",
       "    </tr>\n",
       "    <tr>\n",
       "      <td>3</td>\n",
       "      <td>Wii Sports Resort</td>\n",
       "      <td>Wii</td>\n",
       "      <td>2009.0</td>\n",
       "      <td>Sports</td>\n",
       "      <td>15.61</td>\n",
       "      <td>10.93</td>\n",
       "      <td>3.28</td>\n",
       "      <td>2.95</td>\n",
       "      <td>80.0</td>\n",
       "      <td>8</td>\n",
       "      <td>E</td>\n",
       "    </tr>\n",
       "    <tr>\n",
       "      <td>4</td>\n",
       "      <td>Pokemon Red/Pokemon Blue</td>\n",
       "      <td>GB</td>\n",
       "      <td>1996.0</td>\n",
       "      <td>Role-Playing</td>\n",
       "      <td>11.27</td>\n",
       "      <td>8.89</td>\n",
       "      <td>10.22</td>\n",
       "      <td>1.00</td>\n",
       "      <td>NaN</td>\n",
       "      <td>NaN</td>\n",
       "      <td>NaN</td>\n",
       "    </tr>\n",
       "  </tbody>\n",
       "</table>\n",
       "</div>"
      ],
      "text/plain": [
       "                       name platform  year_of_release         genre  na_sales  \\\n",
       "0                Wii Sports      Wii           2006.0        Sports     41.36   \n",
       "1         Super Mario Bros.      NES           1985.0      Platform     29.08   \n",
       "2            Mario Kart Wii      Wii           2008.0        Racing     15.68   \n",
       "3         Wii Sports Resort      Wii           2009.0        Sports     15.61   \n",
       "4  Pokemon Red/Pokemon Blue       GB           1996.0  Role-Playing     11.27   \n",
       "\n",
       "   eu_sales  jp_sales  other_sales  critic_score user_score rating  \n",
       "0     28.96      3.77         8.45          76.0          8      E  \n",
       "1      3.58      6.81         0.77           NaN        NaN    NaN  \n",
       "2     12.76      3.79         3.29          82.0        8.3      E  \n",
       "3     10.93      3.28         2.95          80.0          8      E  \n",
       "4      8.89     10.22         1.00           NaN        NaN    NaN  "
      ]
     },
     "execution_count": 7,
     "metadata": {},
     "output_type": "execute_result"
    }
   ],
   "source": [
    "# смотрим таблицу\n",
    "df.head()"
   ]
  },
  {
   "cell_type": "markdown",
   "id": "9a9cc7d3",
   "metadata": {},
   "source": [
    "### Столбец name"
   ]
  },
  {
   "cell_type": "code",
   "execution_count": 8,
   "id": "098538ae",
   "metadata": {},
   "outputs": [
    {
     "data": {
      "text/plain": [
       "2"
      ]
     },
     "execution_count": 8,
     "metadata": {},
     "output_type": "execute_result"
    }
   ],
   "source": [
    "# смотрим количество пропусков\n",
    "df['name'].isna().sum()"
   ]
  },
  {
   "cell_type": "code",
   "execution_count": 9,
   "id": "b36938dd",
   "metadata": {},
   "outputs": [
    {
     "data": {
      "text/html": [
       "<div>\n",
       "<style scoped>\n",
       "    .dataframe tbody tr th:only-of-type {\n",
       "        vertical-align: middle;\n",
       "    }\n",
       "\n",
       "    .dataframe tbody tr th {\n",
       "        vertical-align: top;\n",
       "    }\n",
       "\n",
       "    .dataframe thead th {\n",
       "        text-align: right;\n",
       "    }\n",
       "</style>\n",
       "<table border=\"1\" class=\"dataframe\">\n",
       "  <thead>\n",
       "    <tr style=\"text-align: right;\">\n",
       "      <th></th>\n",
       "      <th>name</th>\n",
       "      <th>platform</th>\n",
       "      <th>year_of_release</th>\n",
       "      <th>genre</th>\n",
       "      <th>na_sales</th>\n",
       "      <th>eu_sales</th>\n",
       "      <th>jp_sales</th>\n",
       "      <th>other_sales</th>\n",
       "      <th>critic_score</th>\n",
       "      <th>user_score</th>\n",
       "      <th>rating</th>\n",
       "    </tr>\n",
       "  </thead>\n",
       "  <tbody>\n",
       "    <tr>\n",
       "      <td>659</td>\n",
       "      <td>NaN</td>\n",
       "      <td>GEN</td>\n",
       "      <td>1993.0</td>\n",
       "      <td>NaN</td>\n",
       "      <td>1.78</td>\n",
       "      <td>0.53</td>\n",
       "      <td>0.00</td>\n",
       "      <td>0.08</td>\n",
       "      <td>NaN</td>\n",
       "      <td>NaN</td>\n",
       "      <td>NaN</td>\n",
       "    </tr>\n",
       "    <tr>\n",
       "      <td>14244</td>\n",
       "      <td>NaN</td>\n",
       "      <td>GEN</td>\n",
       "      <td>1993.0</td>\n",
       "      <td>NaN</td>\n",
       "      <td>0.00</td>\n",
       "      <td>0.00</td>\n",
       "      <td>0.03</td>\n",
       "      <td>0.00</td>\n",
       "      <td>NaN</td>\n",
       "      <td>NaN</td>\n",
       "      <td>NaN</td>\n",
       "    </tr>\n",
       "  </tbody>\n",
       "</table>\n",
       "</div>"
      ],
      "text/plain": [
       "      name platform  year_of_release genre  na_sales  eu_sales  jp_sales  \\\n",
       "659    NaN      GEN           1993.0   NaN      1.78      0.53      0.00   \n",
       "14244  NaN      GEN           1993.0   NaN      0.00      0.00      0.03   \n",
       "\n",
       "       other_sales  critic_score user_score rating  \n",
       "659           0.08           NaN        NaN    NaN  \n",
       "14244         0.00           NaN        NaN    NaN  "
      ]
     },
     "execution_count": 9,
     "metadata": {},
     "output_type": "execute_result"
    }
   ],
   "source": [
    "# смотрим строки с пропусками\n",
    "df[df['name'].isna()]"
   ]
  },
  {
   "cell_type": "markdown",
   "id": "7e37b16f",
   "metadata": {},
   "source": [
    "И что это такое, и как это назвать... 😊 Даже жанра нет. Узнать, что это за игра, не получится. Правильнее будет удалить эти строки из анализа, так как они совершенно неинформативные."
   ]
  },
  {
   "cell_type": "code",
   "execution_count": 10,
   "id": "7c856e50",
   "metadata": {},
   "outputs": [],
   "source": [
    "# удаляем пустые строки\n",
    "df.dropna(subset=['name'], inplace=True)"
   ]
  },
  {
   "cell_type": "code",
   "execution_count": 11,
   "id": "d0339901",
   "metadata": {},
   "outputs": [
    {
     "name": "stdout",
     "output_type": "stream",
     "text": [
      "<class 'pandas.core.frame.DataFrame'>\n",
      "Int64Index: 16713 entries, 0 to 16714\n",
      "Data columns (total 11 columns):\n",
      "name               16713 non-null object\n",
      "platform           16713 non-null object\n",
      "year_of_release    16444 non-null float64\n",
      "genre              16713 non-null object\n",
      "na_sales           16713 non-null float64\n",
      "eu_sales           16713 non-null float64\n",
      "jp_sales           16713 non-null float64\n",
      "other_sales        16713 non-null float64\n",
      "critic_score       8137 non-null float64\n",
      "user_score         10014 non-null object\n",
      "rating             9949 non-null object\n",
      "dtypes: float64(6), object(5)\n",
      "memory usage: 1.5+ MB\n"
     ]
    }
   ],
   "source": [
    "# общая информация\n",
    "df.info()"
   ]
  },
  {
   "cell_type": "markdown",
   "id": "48486b68",
   "metadata": {},
   "source": [
    "### Столбец platform"
   ]
  },
  {
   "cell_type": "code",
   "execution_count": 12,
   "id": "3dccc432",
   "metadata": {},
   "outputs": [
    {
     "data": {
      "text/plain": [
       "PS2     2161\n",
       "DS      2151\n",
       "PS3     1331\n",
       "Wii     1320\n",
       "X360    1262\n",
       "PSP     1209\n",
       "PS      1197\n",
       "PC       974\n",
       "XB       824\n",
       "GBA      822\n",
       "GC       556\n",
       "3DS      520\n",
       "PSV      430\n",
       "PS4      392\n",
       "N64      319\n",
       "XOne     247\n",
       "SNES     239\n",
       "SAT      173\n",
       "WiiU     147\n",
       "2600     133\n",
       "NES       98\n",
       "GB        98\n",
       "DC        52\n",
       "GEN       27\n",
       "NG        12\n",
       "SCD        6\n",
       "WS         6\n",
       "3DO        3\n",
       "TG16       2\n",
       "PCFX       1\n",
       "GG         1\n",
       "Name: platform, dtype: int64"
      ]
     },
     "execution_count": 12,
     "metadata": {},
     "output_type": "execute_result"
    }
   ],
   "source": [
    "# смотрим уникальные значения\n",
    "df['platform'].value_counts()"
   ]
  },
  {
   "cell_type": "markdown",
   "id": "a129afa3",
   "metadata": {},
   "source": [
    "Со столбцом всё отлично."
   ]
  },
  {
   "cell_type": "markdown",
   "id": "192df727",
   "metadata": {},
   "source": [
    "В столбце указан год выпуска, изменим тип данных на  целое цисло."
   ]
  },
  {
   "cell_type": "markdown",
   "id": "eb4f51ed",
   "metadata": {},
   "source": [
    "### Столбец year_of_release"
   ]
  },
  {
   "cell_type": "code",
   "execution_count": 13,
   "id": "b88265d0",
   "metadata": {},
   "outputs": [
    {
     "data": {
      "text/plain": [
       "2008.0    1427\n",
       "2009.0    1426\n",
       "2010.0    1255\n",
       "2007.0    1197\n",
       "2011.0    1136\n",
       "2006.0    1006\n",
       "2005.0     939\n",
       "2002.0     829\n",
       "2003.0     775\n",
       "2004.0     762\n",
       "2012.0     653\n",
       "2015.0     606\n",
       "2014.0     581\n",
       "2013.0     544\n",
       "2016.0     502\n",
       "2001.0     482\n",
       "1998.0     379\n",
       "2000.0     350\n",
       "1999.0     338\n",
       "1997.0     289\n",
       "1996.0     263\n",
       "1995.0     219\n",
       "1994.0     121\n",
       "1993.0      60\n",
       "1981.0      46\n",
       "1992.0      43\n",
       "1991.0      41\n",
       "1982.0      36\n",
       "1986.0      21\n",
       "1989.0      17\n",
       "1983.0      17\n",
       "1990.0      16\n",
       "1987.0      16\n",
       "1988.0      15\n",
       "1985.0      14\n",
       "1984.0      14\n",
       "1980.0       9\n",
       "Name: year_of_release, dtype: int64"
      ]
     },
     "execution_count": 13,
     "metadata": {},
     "output_type": "execute_result"
    }
   ],
   "source": [
    "# уникальные значения\n",
    "df['year_of_release'].value_counts()"
   ]
  },
  {
   "cell_type": "code",
   "execution_count": 14,
   "id": "52924c93",
   "metadata": {},
   "outputs": [
    {
     "data": {
      "text/plain": [
       "269"
      ]
     },
     "execution_count": 14,
     "metadata": {},
     "output_type": "execute_result"
    }
   ],
   "source": [
    "# смотрим количество пропусков\n",
    "df['year_of_release'].isna().sum()"
   ]
  },
  {
   "cell_type": "code",
   "execution_count": 15,
   "id": "5e09bca9",
   "metadata": {
    "scrolled": true
   },
   "outputs": [
    {
     "data": {
      "text/html": [
       "<div>\n",
       "<style scoped>\n",
       "    .dataframe tbody tr th:only-of-type {\n",
       "        vertical-align: middle;\n",
       "    }\n",
       "\n",
       "    .dataframe tbody tr th {\n",
       "        vertical-align: top;\n",
       "    }\n",
       "\n",
       "    .dataframe thead th {\n",
       "        text-align: right;\n",
       "    }\n",
       "</style>\n",
       "<table border=\"1\" class=\"dataframe\">\n",
       "  <thead>\n",
       "    <tr style=\"text-align: right;\">\n",
       "      <th></th>\n",
       "      <th>name</th>\n",
       "      <th>platform</th>\n",
       "      <th>year_of_release</th>\n",
       "      <th>genre</th>\n",
       "      <th>na_sales</th>\n",
       "      <th>eu_sales</th>\n",
       "      <th>jp_sales</th>\n",
       "      <th>other_sales</th>\n",
       "      <th>critic_score</th>\n",
       "      <th>user_score</th>\n",
       "      <th>rating</th>\n",
       "    </tr>\n",
       "  </thead>\n",
       "  <tbody>\n",
       "    <tr>\n",
       "      <td>183</td>\n",
       "      <td>Madden NFL 2004</td>\n",
       "      <td>PS2</td>\n",
       "      <td>NaN</td>\n",
       "      <td>Sports</td>\n",
       "      <td>4.26</td>\n",
       "      <td>0.26</td>\n",
       "      <td>0.01</td>\n",
       "      <td>0.71</td>\n",
       "      <td>94.0</td>\n",
       "      <td>8.5</td>\n",
       "      <td>E</td>\n",
       "    </tr>\n",
       "    <tr>\n",
       "      <td>377</td>\n",
       "      <td>FIFA Soccer 2004</td>\n",
       "      <td>PS2</td>\n",
       "      <td>NaN</td>\n",
       "      <td>Sports</td>\n",
       "      <td>0.59</td>\n",
       "      <td>2.36</td>\n",
       "      <td>0.04</td>\n",
       "      <td>0.51</td>\n",
       "      <td>84.0</td>\n",
       "      <td>6.4</td>\n",
       "      <td>E</td>\n",
       "    </tr>\n",
       "    <tr>\n",
       "      <td>456</td>\n",
       "      <td>LEGO Batman: The Videogame</td>\n",
       "      <td>Wii</td>\n",
       "      <td>NaN</td>\n",
       "      <td>Action</td>\n",
       "      <td>1.80</td>\n",
       "      <td>0.97</td>\n",
       "      <td>0.00</td>\n",
       "      <td>0.29</td>\n",
       "      <td>74.0</td>\n",
       "      <td>7.9</td>\n",
       "      <td>E10+</td>\n",
       "    </tr>\n",
       "    <tr>\n",
       "      <td>475</td>\n",
       "      <td>wwe Smackdown vs. Raw 2006</td>\n",
       "      <td>PS2</td>\n",
       "      <td>NaN</td>\n",
       "      <td>Fighting</td>\n",
       "      <td>1.57</td>\n",
       "      <td>1.02</td>\n",
       "      <td>0.00</td>\n",
       "      <td>0.41</td>\n",
       "      <td>NaN</td>\n",
       "      <td>NaN</td>\n",
       "      <td>NaN</td>\n",
       "    </tr>\n",
       "    <tr>\n",
       "      <td>609</td>\n",
       "      <td>Space Invaders</td>\n",
       "      <td>2600</td>\n",
       "      <td>NaN</td>\n",
       "      <td>Shooter</td>\n",
       "      <td>2.36</td>\n",
       "      <td>0.14</td>\n",
       "      <td>0.00</td>\n",
       "      <td>0.03</td>\n",
       "      <td>NaN</td>\n",
       "      <td>NaN</td>\n",
       "      <td>NaN</td>\n",
       "    </tr>\n",
       "  </tbody>\n",
       "</table>\n",
       "</div>"
      ],
      "text/plain": [
       "                           name platform  year_of_release     genre  na_sales  \\\n",
       "183             Madden NFL 2004      PS2              NaN    Sports      4.26   \n",
       "377            FIFA Soccer 2004      PS2              NaN    Sports      0.59   \n",
       "456  LEGO Batman: The Videogame      Wii              NaN    Action      1.80   \n",
       "475  wwe Smackdown vs. Raw 2006      PS2              NaN  Fighting      1.57   \n",
       "609              Space Invaders     2600              NaN   Shooter      2.36   \n",
       "\n",
       "     eu_sales  jp_sales  other_sales  critic_score user_score rating  \n",
       "183      0.26      0.01         0.71          94.0        8.5      E  \n",
       "377      2.36      0.04         0.51          84.0        6.4      E  \n",
       "456      0.97      0.00         0.29          74.0        7.9   E10+  \n",
       "475      1.02      0.00         0.41           NaN        NaN    NaN  \n",
       "609      0.14      0.00         0.03           NaN        NaN    NaN  "
      ]
     },
     "execution_count": 15,
     "metadata": {},
     "output_type": "execute_result"
    }
   ],
   "source": [
    "# смотрим строки с пропусками\n",
    "df[df['year_of_release'].isna()].head()"
   ]
  },
  {
   "cell_type": "markdown",
   "id": "feba0dde",
   "metadata": {},
   "source": [
    "Было бы логично заменить пропуски значением года выпуска игры с пропуском на других платформах, например медианой, на случай, если бы был разный год выпуска, но я не придумала как это сделать.  Для дальнейшей работы со столбцом, заменим пропуски на \"0\", удалять данные с пропусками считаю не верным, так как удалятся данные и по продажам, а они нам  нужны в дальнейшей работе."
   ]
  },
  {
   "cell_type": "code",
   "execution_count": 16,
   "id": "27e2e7ee",
   "metadata": {},
   "outputs": [],
   "source": [
    "# заменяем пропуски и меняем тип данных\n",
    "df['year_of_release'] = df['year_of_release'].fillna(0).astype('Int64')"
   ]
  },
  {
   "cell_type": "markdown",
   "id": "35e41864",
   "metadata": {},
   "source": [
    "### Столбец genre"
   ]
  },
  {
   "cell_type": "code",
   "execution_count": 17,
   "id": "aa0633a7",
   "metadata": {},
   "outputs": [
    {
     "data": {
      "text/plain": [
       "Action          3369\n",
       "Sports          2348\n",
       "Misc            1750\n",
       "Role-Playing    1498\n",
       "Shooter         1323\n",
       "Adventure       1303\n",
       "Racing          1249\n",
       "Platform         888\n",
       "Simulation       873\n",
       "Fighting         849\n",
       "Strategy         683\n",
       "Puzzle           580\n",
       "Name: genre, dtype: int64"
      ]
     },
     "execution_count": 17,
     "metadata": {},
     "output_type": "execute_result"
    }
   ],
   "source": [
    "# уникальные значения\n",
    "df['genre'].value_counts()"
   ]
  },
  {
   "cell_type": "markdown",
   "id": "0560a818",
   "metadata": {},
   "source": [
    "Пропусков  в этом столбце нет, каких либо аномальных значений тоже нет."
   ]
  },
  {
   "cell_type": "markdown",
   "id": "bee8e924",
   "metadata": {},
   "source": [
    "### Столбцы na_sales, eu_sales, jp_sales, other_sales"
   ]
  },
  {
   "cell_type": "code",
   "execution_count": 18,
   "id": "e918762e",
   "metadata": {
    "scrolled": false
   },
   "outputs": [
    {
     "data": {
      "text/html": [
       "<div>\n",
       "<style scoped>\n",
       "    .dataframe tbody tr th:only-of-type {\n",
       "        vertical-align: middle;\n",
       "    }\n",
       "\n",
       "    .dataframe tbody tr th {\n",
       "        vertical-align: top;\n",
       "    }\n",
       "\n",
       "    .dataframe thead th {\n",
       "        text-align: right;\n",
       "    }\n",
       "</style>\n",
       "<table border=\"1\" class=\"dataframe\">\n",
       "  <thead>\n",
       "    <tr style=\"text-align: right;\">\n",
       "      <th></th>\n",
       "      <th>na_sales</th>\n",
       "      <th>eu_sales</th>\n",
       "      <th>jp_sales</th>\n",
       "      <th>other_sales</th>\n",
       "    </tr>\n",
       "  </thead>\n",
       "  <tbody>\n",
       "    <tr>\n",
       "      <td>count</td>\n",
       "      <td>16713.000000</td>\n",
       "      <td>16713.000000</td>\n",
       "      <td>16713.000000</td>\n",
       "      <td>16713.000000</td>\n",
       "    </tr>\n",
       "    <tr>\n",
       "      <td>mean</td>\n",
       "      <td>0.263302</td>\n",
       "      <td>0.145045</td>\n",
       "      <td>0.077625</td>\n",
       "      <td>0.047343</td>\n",
       "    </tr>\n",
       "    <tr>\n",
       "      <td>std</td>\n",
       "      <td>0.813565</td>\n",
       "      <td>0.503359</td>\n",
       "      <td>0.308871</td>\n",
       "      <td>0.186742</td>\n",
       "    </tr>\n",
       "    <tr>\n",
       "      <td>min</td>\n",
       "      <td>0.000000</td>\n",
       "      <td>0.000000</td>\n",
       "      <td>0.000000</td>\n",
       "      <td>0.000000</td>\n",
       "    </tr>\n",
       "    <tr>\n",
       "      <td>25%</td>\n",
       "      <td>0.000000</td>\n",
       "      <td>0.000000</td>\n",
       "      <td>0.000000</td>\n",
       "      <td>0.000000</td>\n",
       "    </tr>\n",
       "    <tr>\n",
       "      <td>50%</td>\n",
       "      <td>0.080000</td>\n",
       "      <td>0.020000</td>\n",
       "      <td>0.000000</td>\n",
       "      <td>0.010000</td>\n",
       "    </tr>\n",
       "    <tr>\n",
       "      <td>75%</td>\n",
       "      <td>0.240000</td>\n",
       "      <td>0.110000</td>\n",
       "      <td>0.040000</td>\n",
       "      <td>0.030000</td>\n",
       "    </tr>\n",
       "    <tr>\n",
       "      <td>max</td>\n",
       "      <td>41.360000</td>\n",
       "      <td>28.960000</td>\n",
       "      <td>10.220000</td>\n",
       "      <td>10.570000</td>\n",
       "    </tr>\n",
       "  </tbody>\n",
       "</table>\n",
       "</div>"
      ],
      "text/plain": [
       "           na_sales      eu_sales      jp_sales   other_sales\n",
       "count  16713.000000  16713.000000  16713.000000  16713.000000\n",
       "mean       0.263302      0.145045      0.077625      0.047343\n",
       "std        0.813565      0.503359      0.308871      0.186742\n",
       "min        0.000000      0.000000      0.000000      0.000000\n",
       "25%        0.000000      0.000000      0.000000      0.000000\n",
       "50%        0.080000      0.020000      0.000000      0.010000\n",
       "75%        0.240000      0.110000      0.040000      0.030000\n",
       "max       41.360000     28.960000     10.220000     10.570000"
      ]
     },
     "execution_count": 18,
     "metadata": {},
     "output_type": "execute_result"
    }
   ],
   "source": [
    "# числовое описание данных\n",
    "df[['na_sales', 'eu_sales', 'jp_sales', 'other_sales']].describe()"
   ]
  },
  {
   "cell_type": "markdown",
   "id": "5cdac6a8",
   "metadata": {},
   "source": [
    "Тут всё отлично. Обратим внимание, что максимальное значение во всех столбцах по продажам на несколько порядков выше значения в третьем квартиле. Добавим столбец с сумарными продажами."
   ]
  },
  {
   "cell_type": "code",
   "execution_count": 19,
   "id": "e03513e9",
   "metadata": {},
   "outputs": [],
   "source": [
    "# добавляем столбец с суммарными продажами\n",
    "df['total_sales'] = df['na_sales'] + df['eu_sales'] + df['jp_sales'] + df['other_sales']"
   ]
  },
  {
   "cell_type": "code",
   "execution_count": 20,
   "id": "37760e03",
   "metadata": {},
   "outputs": [
    {
     "data": {
      "text/html": [
       "<div>\n",
       "<style scoped>\n",
       "    .dataframe tbody tr th:only-of-type {\n",
       "        vertical-align: middle;\n",
       "    }\n",
       "\n",
       "    .dataframe tbody tr th {\n",
       "        vertical-align: top;\n",
       "    }\n",
       "\n",
       "    .dataframe thead th {\n",
       "        text-align: right;\n",
       "    }\n",
       "</style>\n",
       "<table border=\"1\" class=\"dataframe\">\n",
       "  <thead>\n",
       "    <tr style=\"text-align: right;\">\n",
       "      <th></th>\n",
       "      <th>name</th>\n",
       "      <th>platform</th>\n",
       "      <th>year_of_release</th>\n",
       "      <th>genre</th>\n",
       "      <th>na_sales</th>\n",
       "      <th>eu_sales</th>\n",
       "      <th>jp_sales</th>\n",
       "      <th>other_sales</th>\n",
       "      <th>critic_score</th>\n",
       "      <th>user_score</th>\n",
       "      <th>rating</th>\n",
       "      <th>total_sales</th>\n",
       "    </tr>\n",
       "  </thead>\n",
       "  <tbody>\n",
       "    <tr>\n",
       "      <td>0</td>\n",
       "      <td>Wii Sports</td>\n",
       "      <td>Wii</td>\n",
       "      <td>2006</td>\n",
       "      <td>Sports</td>\n",
       "      <td>41.36</td>\n",
       "      <td>28.96</td>\n",
       "      <td>3.77</td>\n",
       "      <td>8.45</td>\n",
       "      <td>76.0</td>\n",
       "      <td>8</td>\n",
       "      <td>E</td>\n",
       "      <td>82.54</td>\n",
       "    </tr>\n",
       "    <tr>\n",
       "      <td>1</td>\n",
       "      <td>Super Mario Bros.</td>\n",
       "      <td>NES</td>\n",
       "      <td>1985</td>\n",
       "      <td>Platform</td>\n",
       "      <td>29.08</td>\n",
       "      <td>3.58</td>\n",
       "      <td>6.81</td>\n",
       "      <td>0.77</td>\n",
       "      <td>NaN</td>\n",
       "      <td>NaN</td>\n",
       "      <td>NaN</td>\n",
       "      <td>40.24</td>\n",
       "    </tr>\n",
       "    <tr>\n",
       "      <td>2</td>\n",
       "      <td>Mario Kart Wii</td>\n",
       "      <td>Wii</td>\n",
       "      <td>2008</td>\n",
       "      <td>Racing</td>\n",
       "      <td>15.68</td>\n",
       "      <td>12.76</td>\n",
       "      <td>3.79</td>\n",
       "      <td>3.29</td>\n",
       "      <td>82.0</td>\n",
       "      <td>8.3</td>\n",
       "      <td>E</td>\n",
       "      <td>35.52</td>\n",
       "    </tr>\n",
       "    <tr>\n",
       "      <td>3</td>\n",
       "      <td>Wii Sports Resort</td>\n",
       "      <td>Wii</td>\n",
       "      <td>2009</td>\n",
       "      <td>Sports</td>\n",
       "      <td>15.61</td>\n",
       "      <td>10.93</td>\n",
       "      <td>3.28</td>\n",
       "      <td>2.95</td>\n",
       "      <td>80.0</td>\n",
       "      <td>8</td>\n",
       "      <td>E</td>\n",
       "      <td>32.77</td>\n",
       "    </tr>\n",
       "    <tr>\n",
       "      <td>4</td>\n",
       "      <td>Pokemon Red/Pokemon Blue</td>\n",
       "      <td>GB</td>\n",
       "      <td>1996</td>\n",
       "      <td>Role-Playing</td>\n",
       "      <td>11.27</td>\n",
       "      <td>8.89</td>\n",
       "      <td>10.22</td>\n",
       "      <td>1.00</td>\n",
       "      <td>NaN</td>\n",
       "      <td>NaN</td>\n",
       "      <td>NaN</td>\n",
       "      <td>31.38</td>\n",
       "    </tr>\n",
       "  </tbody>\n",
       "</table>\n",
       "</div>"
      ],
      "text/plain": [
       "                       name platform  year_of_release         genre  na_sales  \\\n",
       "0                Wii Sports      Wii             2006        Sports     41.36   \n",
       "1         Super Mario Bros.      NES             1985      Platform     29.08   \n",
       "2            Mario Kart Wii      Wii             2008        Racing     15.68   \n",
       "3         Wii Sports Resort      Wii             2009        Sports     15.61   \n",
       "4  Pokemon Red/Pokemon Blue       GB             1996  Role-Playing     11.27   \n",
       "\n",
       "   eu_sales  jp_sales  other_sales  critic_score user_score rating  \\\n",
       "0     28.96      3.77         8.45          76.0          8      E   \n",
       "1      3.58      6.81         0.77           NaN        NaN    NaN   \n",
       "2     12.76      3.79         3.29          82.0        8.3      E   \n",
       "3     10.93      3.28         2.95          80.0          8      E   \n",
       "4      8.89     10.22         1.00           NaN        NaN    NaN   \n",
       "\n",
       "   total_sales  \n",
       "0        82.54  \n",
       "1        40.24  \n",
       "2        35.52  \n",
       "3        32.77  \n",
       "4        31.38  "
      ]
     },
     "execution_count": 20,
     "metadata": {},
     "output_type": "execute_result"
    }
   ],
   "source": [
    "# смотрим таблицу\n",
    "df.head()"
   ]
  },
  {
   "cell_type": "markdown",
   "id": "05ad6373",
   "metadata": {},
   "source": [
    "### Столбцы critic_score, user_score"
   ]
  },
  {
   "cell_type": "code",
   "execution_count": 21,
   "id": "bfb52db7",
   "metadata": {
    "scrolled": true
   },
   "outputs": [
    {
     "data": {
      "text/plain": [
       "count    8137.000000\n",
       "mean       68.967679\n",
       "std        13.938165\n",
       "min        13.000000\n",
       "25%        60.000000\n",
       "50%        71.000000\n",
       "75%        79.000000\n",
       "max        98.000000\n",
       "Name: critic_score, dtype: float64"
      ]
     },
     "execution_count": 21,
     "metadata": {},
     "output_type": "execute_result"
    }
   ],
   "source": [
    "# числовое описание данных \n",
    "df['critic_score'].describe()"
   ]
  },
  {
   "cell_type": "markdown",
   "id": "0b51bb7e",
   "metadata": {},
   "source": [
    "В столбце большое количество пропусков, для дальнейшей работы со столбцом заменим их на \"0\", чтобы не удалять строки, так как данные из других столбцов в этих строках нам пригодятся."
   ]
  },
  {
   "cell_type": "code",
   "execution_count": 22,
   "id": "10d9ae2f",
   "metadata": {},
   "outputs": [],
   "source": [
    "# заменяем пропуски и меняем тип данных\n",
    "df['critic_score'] = df['critic_score'].fillna(0).astype('int')"
   ]
  },
  {
   "cell_type": "code",
   "execution_count": 23,
   "id": "c52b5f8b",
   "metadata": {
    "scrolled": false
   },
   "outputs": [
    {
     "data": {
      "text/plain": [
       "count     10014\n",
       "unique       96\n",
       "top         tbd\n",
       "freq       2424\n",
       "Name: user_score, dtype: object"
      ]
     },
     "execution_count": 23,
     "metadata": {},
     "output_type": "execute_result"
    }
   ],
   "source": [
    "# описание данных \n",
    "df['user_score'].describe()"
   ]
  },
  {
   "cell_type": "markdown",
   "id": "bbca9604",
   "metadata": {},
   "source": [
    "В столбце `user_score` также большое количество пропусков и  присутствует значение \"tbd\" - скорее всего это \"To Be Determined\" - \"Предстоит Определить\". В этих строках  пользовательский рейтинг ёщё не определен, поэтому логичнее всего будет заменить эти значения на nan, а затем заменить все пропуски а \"0\", также как и в столбце `critic_score`"
   ]
  },
  {
   "cell_type": "code",
   "execution_count": 24,
   "id": "661e5551",
   "metadata": {},
   "outputs": [],
   "source": [
    "# заменяем пропуски и меняем тип данных\n",
    "df.loc[(df['user_score']=='tbd'), 'user_score'] = np.nan\n",
    "df['user_score'] = df['user_score'].fillna(0).astype(float)"
   ]
  },
  {
   "cell_type": "markdown",
   "id": "e60e73d0",
   "metadata": {},
   "source": [
    "### Столбец rating"
   ]
  },
  {
   "cell_type": "code",
   "execution_count": 25,
   "id": "360ba097",
   "metadata": {},
   "outputs": [
    {
     "data": {
      "text/plain": [
       "E       3990\n",
       "T       2961\n",
       "M       1563\n",
       "E10+    1420\n",
       "EC         8\n",
       "K-A        3\n",
       "RP         3\n",
       "AO         1\n",
       "Name: rating, dtype: int64"
      ]
     },
     "execution_count": 25,
     "metadata": {},
     "output_type": "execute_result"
    }
   ],
   "source": [
    "# смотрим уникальные значения\n",
    "df['rating'].value_counts()"
   ]
  },
  {
   "cell_type": "markdown",
   "id": "1712a270",
   "metadata": {},
   "source": [
    "В столбце большое количество пропусков, также заменим пропуски на \"0\", для дальнейшей работы со столбцом"
   ]
  },
  {
   "cell_type": "code",
   "execution_count": 26,
   "id": "5f11d230",
   "metadata": {},
   "outputs": [],
   "source": [
    "# заменяем пропуски \n",
    "df['rating'] = df['rating'].fillna(0)"
   ]
  },
  {
   "cell_type": "markdown",
   "id": "9a25fb28",
   "metadata": {},
   "source": [
    "### Проверка на дубликаты"
   ]
  },
  {
   "cell_type": "code",
   "execution_count": 27,
   "id": "14fd1758",
   "metadata": {},
   "outputs": [
    {
     "data": {
      "text/plain": [
       "0"
      ]
     },
     "execution_count": 27,
     "metadata": {},
     "output_type": "execute_result"
    }
   ],
   "source": [
    "# проверяем дубликаты\n",
    "df.duplicated().sum()"
   ]
  },
  {
   "cell_type": "markdown",
   "id": "0cda9879",
   "metadata": {},
   "source": [
    "**Вывод**\n",
    "\n",
    "\n",
    "В ходе предобработки данных изменили названия столбцов, привели их к нижнему регистру.\n",
    "Удалили 2 неинформативные строики из таблицы. \n",
    "Добавили в таблицу столбец `total_sales` - с суммарным значением продаж. \n",
    " \n",
    "Заменили пропуски в столбцах `critic_score`, `user_score`, `rating` и `year_of_release` на ноль, так как пропуски ни с чем не связаны и заменить их на  логически подходящие значения невозможно, заменять значения на медиану или среднее считаю не верным, так как это может исказить  данные. Так же, изменили тип данных в столбцах.\n"
   ]
  },
  {
   "cell_type": "markdown",
   "id": "42fe6fa1",
   "metadata": {},
   "source": [
    "##  Исследовательский анализ данных"
   ]
  },
  {
   "cell_type": "markdown",
   "id": "7f64d944",
   "metadata": {},
   "source": [
    "### Сколько игр выпускалось по годам"
   ]
  },
  {
   "cell_type": "markdown",
   "id": "45c6cd26",
   "metadata": {},
   "source": [
    "Посмотрите, сколько игр выпускалось в разные годы. Важны ли данные за все периоды?"
   ]
  },
  {
   "cell_type": "code",
   "execution_count": 28,
   "id": "9b2e4f12",
   "metadata": {},
   "outputs": [
    {
     "data": {
      "image/png": "[encoded data removed]",
      "text/plain": [
       "<Figure size 1080x360 with 1 Axes>"
      ]
     },
     "metadata": {
      "needs_background": "light"
     },
     "output_type": "display_data"
    }
   ],
   "source": [
    "# создаем таблицу с количеством выпусков игр по годам\n",
    "years_game = df.pivot_table(index = 'year_of_release', values = 'name', aggfunc= 'count')\\\n",
    "    .query('year_of_release != 0').reset_index()\n",
    "\n",
    "\n",
    "# меняем название столбцов в полученной таблице\n",
    "years_game.columns = ['year', 'count']\n",
    "\n",
    "\n",
    "# отражаем полученный результат на графике\n",
    "plt.figure(figsize=(15, 5))\n",
    "plt.bar(years_game['year'], years_game['count'],color='#87CEEB')\n",
    "plt.grid()\n",
    "plt.xlabel('Год выпуска')\n",
    "plt.ylabel('Количество')\n",
    "plt.title('Выпуски игр в разные года')\n",
    "plt.show();\n"
   ]
  },
  {
   "cell_type": "markdown",
   "id": "da2ea4f1",
   "metadata": {},
   "source": [
    "По полученным данным видим, что до 1994 года игры почти не выпускались. Начиная с 1994 года выпуск игр начал постепенно увеличиваться. В 2002 году произошел скачок  выпуска игр. 2008-2009 годы с максимальным количеством выпусков, далее игр становилось меньше, в 2012 году количество выпускаемых игр сильно упало, примерно в 2 раза по сравнению с 2011 годом, и до 2016 года оно лишь незначительно колебалось.\n",
    "\n",
    "Можно предположить, что рынок игр начал активно развиваться с 1994 года, поэтому данные за предыдущие периоды, при необходимости, можно исключить из анализа рынка."
   ]
  },
  {
   "cell_type": "markdown",
   "id": "931a1d4f",
   "metadata": {},
   "source": [
    "###  Анализ изменения продаж по платформам."
   ]
  },
  {
   "cell_type": "markdown",
   "id": "4dd2a984",
   "metadata": {},
   "source": [
    "Посмотрите, как менялись продажи по платформам. Выберите платформы с наибольшими суммарными продажами и постройте распределение по годам. За какой характерный срок появляются новые и исчезают старые платформы?"
   ]
  },
  {
   "cell_type": "code",
   "execution_count": 29,
   "id": "60c30d87",
   "metadata": {},
   "outputs": [
    {
     "data": {
      "image/png": "[encoded data removed]",
      "text/plain": [
       "<Figure size 1080x360 with 1 Axes>"
      ]
     },
     "metadata": {
      "needs_background": "light"
     },
     "output_type": "display_data"
    }
   ],
   "source": [
    "# создаём таблицу с количеством продаж по платформам\n",
    "platform_sales = df.pivot_table(index = 'platform', values = 'total_sales', aggfunc= 'sum')\\\n",
    "    .sort_values(by='total_sales', ascending=False).reset_index()\n",
    "\n",
    "# отражаем полученный результат на графике\n",
    "plt.figure(figsize=(15, 5))\n",
    "plt.bar(platform_sales['platform'], platform_sales['total_sales'], width=0.8, color = sns.color_palette('pastel'))\n",
    "plt.xlabel('платформы')\n",
    "plt.ylabel('Количество продаж')\n",
    "plt.grid()\n",
    "plt.title('Продажи по платформам')\n",
    "plt.show();"
   ]
  },
  {
   "cell_type": "code",
   "execution_count": 30,
   "id": "4b67b6ad",
   "metadata": {
    "scrolled": true
   },
   "outputs": [
    {
     "name": "stdout",
     "output_type": "stream",
     "text": [
      "Топ 10 платформ с наибольшими суммарными продажами:\n"
     ]
    },
    {
     "data": {
      "text/html": [
       "<div>\n",
       "<style scoped>\n",
       "    .dataframe tbody tr th:only-of-type {\n",
       "        vertical-align: middle;\n",
       "    }\n",
       "\n",
       "    .dataframe tbody tr th {\n",
       "        vertical-align: top;\n",
       "    }\n",
       "\n",
       "    .dataframe thead th {\n",
       "        text-align: right;\n",
       "    }\n",
       "</style>\n",
       "<table border=\"1\" class=\"dataframe\">\n",
       "  <thead>\n",
       "    <tr style=\"text-align: right;\">\n",
       "      <th></th>\n",
       "      <th>platform</th>\n",
       "      <th>total_sales</th>\n",
       "    </tr>\n",
       "  </thead>\n",
       "  <tbody>\n",
       "    <tr>\n",
       "      <td>0</td>\n",
       "      <td>PS2</td>\n",
       "      <td>1255.77</td>\n",
       "    </tr>\n",
       "    <tr>\n",
       "      <td>1</td>\n",
       "      <td>X360</td>\n",
       "      <td>971.42</td>\n",
       "    </tr>\n",
       "    <tr>\n",
       "      <td>2</td>\n",
       "      <td>PS3</td>\n",
       "      <td>939.65</td>\n",
       "    </tr>\n",
       "    <tr>\n",
       "      <td>3</td>\n",
       "      <td>Wii</td>\n",
       "      <td>907.51</td>\n",
       "    </tr>\n",
       "    <tr>\n",
       "      <td>4</td>\n",
       "      <td>DS</td>\n",
       "      <td>806.12</td>\n",
       "    </tr>\n",
       "    <tr>\n",
       "      <td>5</td>\n",
       "      <td>PS</td>\n",
       "      <td>730.86</td>\n",
       "    </tr>\n",
       "    <tr>\n",
       "      <td>6</td>\n",
       "      <td>GBA</td>\n",
       "      <td>317.85</td>\n",
       "    </tr>\n",
       "    <tr>\n",
       "      <td>7</td>\n",
       "      <td>PS4</td>\n",
       "      <td>314.14</td>\n",
       "    </tr>\n",
       "    <tr>\n",
       "      <td>8</td>\n",
       "      <td>PSP</td>\n",
       "      <td>294.05</td>\n",
       "    </tr>\n",
       "    <tr>\n",
       "      <td>9</td>\n",
       "      <td>PC</td>\n",
       "      <td>259.52</td>\n",
       "    </tr>\n",
       "  </tbody>\n",
       "</table>\n",
       "</div>"
      ],
      "text/plain": [
       "  platform  total_sales\n",
       "0      PS2      1255.77\n",
       "1     X360       971.42\n",
       "2      PS3       939.65\n",
       "3      Wii       907.51\n",
       "4       DS       806.12\n",
       "5       PS       730.86\n",
       "6      GBA       317.85\n",
       "7      PS4       314.14\n",
       "8      PSP       294.05\n",
       "9       PC       259.52"
      ]
     },
     "execution_count": 30,
     "metadata": {},
     "output_type": "execute_result"
    }
   ],
   "source": [
    "# найдем топ-10 платформ с наибольшими суммарными продажами\n",
    "top_10_platform_sales = platform_sales.sort_values(by='total_sales', ascending=False).head(10)\n",
    "print('Топ 10 платформ с наибольшими суммарными продажами:')\n",
    "top_10_platform_sales"
   ]
  },
  {
   "cell_type": "markdown",
   "id": "ea0dfcb0",
   "metadata": {},
   "source": [
    "PS2 - лидер по продажам, более 1200 продаж за всё время, со 2 по 5 место идут платформы X360, PS3, Wii, DS у них примерно одинаковое количество продаж на платформах. "
   ]
  },
  {
   "cell_type": "code",
   "execution_count": 31,
   "id": "654f2de1",
   "metadata": {
    "scrolled": true
   },
   "outputs": [
    {
     "data": {
      "text/html": [
       "<div>\n",
       "<style scoped>\n",
       "    .dataframe tbody tr th:only-of-type {\n",
       "        vertical-align: middle;\n",
       "    }\n",
       "\n",
       "    .dataframe tbody tr th {\n",
       "        vertical-align: top;\n",
       "    }\n",
       "\n",
       "    .dataframe thead th {\n",
       "        text-align: right;\n",
       "    }\n",
       "</style>\n",
       "<table border=\"1\" class=\"dataframe\">\n",
       "  <thead>\n",
       "    <tr style=\"text-align: right;\">\n",
       "      <th></th>\n",
       "      <th>name</th>\n",
       "      <th>platform</th>\n",
       "      <th>year_of_release</th>\n",
       "      <th>genre</th>\n",
       "      <th>na_sales</th>\n",
       "      <th>eu_sales</th>\n",
       "      <th>jp_sales</th>\n",
       "      <th>other_sales</th>\n",
       "      <th>critic_score</th>\n",
       "      <th>user_score</th>\n",
       "      <th>rating</th>\n",
       "      <th>total_sales</th>\n",
       "    </tr>\n",
       "  </thead>\n",
       "  <tbody>\n",
       "    <tr>\n",
       "      <td>15957</td>\n",
       "      <td>Strongest Tokyo University Shogi DS</td>\n",
       "      <td>DS</td>\n",
       "      <td>1985</td>\n",
       "      <td>Action</td>\n",
       "      <td>0.0</td>\n",
       "      <td>0.0</td>\n",
       "      <td>0.02</td>\n",
       "      <td>0.0</td>\n",
       "      <td>0</td>\n",
       "      <td>0.0</td>\n",
       "      <td>0</td>\n",
       "      <td>0.02</td>\n",
       "    </tr>\n",
       "  </tbody>\n",
       "</table>\n",
       "</div>"
      ],
      "text/plain": [
       "                                      name platform  year_of_release   genre  \\\n",
       "15957  Strongest Tokyo University Shogi DS       DS             1985  Action   \n",
       "\n",
       "       na_sales  eu_sales  jp_sales  other_sales  critic_score  user_score  \\\n",
       "15957       0.0       0.0      0.02          0.0             0         0.0   \n",
       "\n",
       "      rating  total_sales  \n",
       "15957      0         0.02  "
      ]
     },
     "execution_count": 31,
     "metadata": {},
     "output_type": "execute_result"
    }
   ],
   "source": [
    "# смотрим строку с аномальным значением\n",
    "df.query('platform == \"DS\" and year_of_release < 2004 and year_of_release != 0')"
   ]
  },
  {
   "cell_type": "code",
   "execution_count": 32,
   "id": "2026cfef",
   "metadata": {},
   "outputs": [],
   "source": [
    "# удаляем строку с аномальным значением\n",
    "df = df.drop(index=[15957])"
   ]
  },
  {
   "cell_type": "code",
   "execution_count": 33,
   "id": "e7917615",
   "metadata": {
    "scrolled": false
   },
   "outputs": [
    {
     "data": {
      "image/png": "[encoded data removed]",
      "text/plain": [
       "<Figure size 1080x360 with 1 Axes>"
      ]
     },
     "metadata": {
      "needs_background": "light"
     },
     "output_type": "display_data"
    }
   ],
   "source": [
    "# создаем таблицу с количеством продаж по годам\n",
    "years_platform_sales = df.pivot_table(index=['platform', 'year_of_release'], values = 'total_sales', aggfunc='sum')\\\n",
    "    .query('year_of_release != 0').reset_index()\n",
    "\n",
    "\n",
    "# отражаем полученный результат на графике\n",
    "fig = plt.figure(figsize=(15,5))\n",
    "ax = fig.add_subplot()\n",
    "\n",
    "for platform in top_10_platform_sales['platform'].unique():\n",
    "    x = years_platform_sales[years_platform_sales['platform']==platform]['year_of_release']\n",
    "    y = years_platform_sales[years_platform_sales['platform']==platform]['total_sales']\n",
    "\n",
    "    line = ax.plot(x, y, linewidth=3, label=platform)\n",
    "\n",
    "ax.set_title('Распределение продаж по годам', size=12)\n",
    "ax.set_xlabel('Год выпуска игр')\n",
    "ax.set_ylabel('Количество проданных копий')\n",
    "ax.legend()\n",
    "ax.grid(True)\n",
    "plt.show();"
   ]
  },
  {
   "cell_type": "markdown",
   "id": "5c05ee02",
   "metadata": {},
   "source": [
    "Можно заметить, что у большинства  популярных платформ, примерно одинаковая картина развития, появление на рынке, затем резкое повышение количество продаж, после этого идет небольшой спад, далее  всё возврашается на прежний уровень и потом продажи идут на убыль уже до конца жизненного цикла платформы. Таким образом на графиках мы видим буквы \"М\"."
   ]
  },
  {
   "cell_type": "code",
   "execution_count": 34,
   "id": "7c3b1ccc",
   "metadata": {},
   "outputs": [
    {
     "data": {
      "image/png": "[encoded data removed]",
      "text/plain": [
       "<Figure size 1080x648 with 1 Axes>"
      ]
     },
     "metadata": {
      "needs_background": "light"
     },
     "output_type": "display_data"
    },
    {
     "name": "stdout",
     "output_type": "stream",
     "text": [
      "Средняя продолжительность жизненного цикла платформы: 7.0 лет.\n"
     ]
    }
   ],
   "source": [
    "# создаем таблицу с первым и последним годом продаж по платформам\n",
    "years_platform = df.query('year_of_release != 0').groupby('platform').agg({'year_of_release':['min', 'max',]}).reset_index()\n",
    "years_platform.columns=['platform','min', 'max']\n",
    "\n",
    "# создаем столбец с продолжительностью продаж на платформе в годах \n",
    "years_platform['diff'] = (years_platform['max'] - years_platform['min']).replace(0, 0.1)\n",
    "years_platform = years_platform.sort_values(by=['min', 'diff'])\n",
    "\n",
    "# отражаем полученный результат на графике\n",
    "fig, ax = plt.subplots(1, figsize=(15,9))\n",
    "ax.barh(years_platform['platform'], years_platform['diff'], left=years_platform['min'], color = sns.color_palette('Set3'))\n",
    "ax.set_title('Платформы по годам', size=12)\n",
    "ax.grid(True)\n",
    "plt.show()\n",
    "\n",
    "print('Средняя продолжительность жизненного цикла платформы:', round(years_platform['diff'].mean()), 'лет.')"
   ]
  },
  {
   "cell_type": "markdown",
   "id": "b7160e90",
   "metadata": {},
   "source": [
    "По полученным данным видим, что средняя продолжительность жизненного цикла платформы 7 лет. Есть платформы, у которых продолжительность продаж не составляет даже года, а есть и очень \"долго живущие\" платформы, такие как PC, она существет по сей день, начиная с 85 года. Также можно заметить, что новые платформы появляются  примерно каждые 5 лет."
   ]
  },
  {
   "cell_type": "markdown",
   "id": "8fda2dd1",
   "metadata": {},
   "source": [
    "###  Прогноз на 2017 год"
   ]
  },
  {
   "cell_type": "markdown",
   "id": "7dbf4238",
   "metadata": {},
   "source": [
    "За актуальный период возьмем предыдущие 3 года, так как мы определили, что средний жизненный цикл платформ - 7 лет, возьмем чуть меньше половины этого срока. Для прогноза на 2017 год возьмем данные начиная с 2014 года."
   ]
  },
  {
   "cell_type": "code",
   "execution_count": 35,
   "id": "65c639ad",
   "metadata": {
    "scrolled": false
   },
   "outputs": [
    {
     "data": {
      "image/png": "[encoded data removed]",
      "text/plain": [
       "<Figure size 1080x360 with 1 Axes>"
      ]
     },
     "metadata": {
      "needs_background": "light"
     },
     "output_type": "display_data"
    }
   ],
   "source": [
    "#  берём данные за нужный период\n",
    "actual_period = df.query('year_of_release > 2013')\n",
    "\n",
    "# создаем количество продаж по годам за актуальный период\n",
    "actual_platform = actual_period.pivot_table(index=['year_of_release', 'platform'], values='total_sales', aggfunc='sum')\\\n",
    "    .query('year_of_release != 0 and year_of_release > 2008').reset_index()\n",
    "\n",
    "\n",
    "# отражаем полученный результат на графике\n",
    "fig = plt.figure(figsize=(15,5))\n",
    "ax = fig.add_subplot(111)\n",
    "\n",
    "for platform in actual_platform['platform'].unique():\n",
    "    x = actual_platform[actual_platform['platform']==platform]['year_of_release']\n",
    "    y = actual_platform[actual_platform['platform']==platform]['total_sales']\n",
    "\n",
    "    line = ax.plot(x, y, linewidth=3, label=platform)\n",
    "\n",
    "ax.set_title('Распределение продаж по годам', size=12)\n",
    "ax.set_xlabel('Год выпуска игр')\n",
    "ax.set_ylabel('Количество проданных копий')\n",
    "ax.legend()\n",
    "ax.grid(True)\n",
    "plt.show();\n",
    "    "
   ]
  },
  {
   "cell_type": "markdown",
   "id": "2a918046",
   "metadata": {},
   "source": [
    "По полученным данным видим, что практически все платформы пришли к своему завершению, потенциально прибыльными выглядят только PS4 и XOne, обе появились в 2013 году. Eще есть 3 платформы, которые появились раньше - PSV в 2011, WiiU в 2012,  3DS в 2011 и они на данные момент на середине своего цикла развития, поэтому вложения в эти платформы тоже уместно, но должны быть умеренными."
   ]
  },
  {
   "cell_type": "markdown",
   "id": "cdaae0bf",
   "metadata": {},
   "source": [
    "**Постройте график «ящик с усами» по глобальным продажам игр в разбивке по платформам. Опишите результат.**"
   ]
  },
  {
   "cell_type": "code",
   "execution_count": 36,
   "id": "1e87cfca",
   "metadata": {},
   "outputs": [
    {
     "data": {
      "image/png": "[encoded data removed]",
      "text/plain": [
       "<Figure size 1080x216 with 1 Axes>"
      ]
     },
     "metadata": {
      "needs_background": "light"
     },
     "output_type": "display_data"
    }
   ],
   "source": [
    "# смотрим диаграмму распределения по общему количеству продаж\n",
    "plt.figure(figsize=(15,3))\n",
    "sns.boxplot(data=actual_period, x='total_sales', color='#87CEEB') \n",
    "plt.xlim(0, 2)\n",
    "plt.xlabel('Количество продаж')\n",
    "plt.grid()\n",
    "plt.title('Распределение общего количества продаж')\n",
    "plt.show();"
   ]
  },
  {
   "cell_type": "code",
   "execution_count": 37,
   "id": "51ff62c5",
   "metadata": {
    "scrolled": false
   },
   "outputs": [
    {
     "data": {
      "image/png": "[encoded data removed]",
      "text/plain": [
       "<Figure size 1080x720 with 1 Axes>"
      ]
     },
     "metadata": {
      "needs_background": "light"
     },
     "output_type": "display_data"
    }
   ],
   "source": [
    "# смотрим диаграмму распределения по платформам\n",
    "plt.figure(figsize=(15,10))\n",
    "sns.boxplot(data=actual_period, x='platform', y='total_sales', orient='v', palette='pastel') \n",
    "plt.ylim(0, 2)\n",
    "plt.title('Распределение по платформам')\n",
    "plt.xlabel('платформы')\n",
    "plt.ylabel('Количество продаж')\n",
    "plt.grid()\n",
    "plt.show();"
   ]
  },
  {
   "cell_type": "markdown",
   "id": "48b4ad1e",
   "metadata": {},
   "source": [
    "Выделим 4 платформы PS4, XOne, WiiU и Wii медиана продаж на этих платформах около 0,2 млн копий. У остальных медиана на уровне  от 0,1 до 0,15 миллионов копий игр."
   ]
  },
  {
   "cell_type": "markdown",
   "id": "73b7da30",
   "metadata": {},
   "source": [
    "###  Влияние отзывов пользователий и критиков на продажи на PS4"
   ]
  },
  {
   "cell_type": "markdown",
   "id": "49186c39",
   "metadata": {},
   "source": [
    "Посмотрите, как влияют на продажи внутри одной популярной платформы отзывы пользователей и критиков. Постройте диаграмму рассеяния и посчитайте корреляцию между отзывами и продажами. Сформулируйте выводы"
   ]
  },
  {
   "cell_type": "markdown",
   "id": "aa5a3249",
   "metadata": {},
   "source": [
    "Рассмотрим влияние отзывов пользователей и критиков на продажи игр на примере платформы PS4 - лидера по продажам в период за 2014-2016 гг."
   ]
  },
  {
   "cell_type": "code",
   "execution_count": 38,
   "id": "7b7940e4",
   "metadata": {},
   "outputs": [
    {
     "name": "stdout",
     "output_type": "stream",
     "text": [
      "Коэффициент корреляции для пользовательских оценок: -0.04 \n"
     ]
    },
    {
     "data": {
      "image/png": "[encoded data removed]",
      "text/plain": [
       "<Figure size 1080x288 with 1 Axes>"
      ]
     },
     "metadata": {
      "needs_background": "light"
     },
     "output_type": "display_data"
    }
   ],
   "source": [
    "PS4 = actual_period.query('platform==\"PS4\"')[['total_sales', 'critic_score', 'user_score']].dropna().reset_index(drop=True)\n",
    "PS4 = PS4.query('user_score != 0 and critic_score != 0')\n",
    "\n",
    "plt.figure(figsize=(15,4))\n",
    "print('Коэффициент корреляции для пользовательских оценок: {} '.format(round(PS4['user_score'].corr(PS4['total_sales']), 2)))\n",
    "plt.scatter(x='user_score', y='total_sales', data=PS4, color='#1E90FF', alpha = 0.4)\n",
    "plt.title('Зависимость продаж от пользовательских оценок', fontsize=12)\n",
    "plt.show();"
   ]
  },
  {
   "cell_type": "code",
   "execution_count": 39,
   "id": "6cde8dd5",
   "metadata": {},
   "outputs": [
    {
     "name": "stdout",
     "output_type": "stream",
     "text": [
      "Коэффициент корреляции для оценок критиков: 0.4 \n"
     ]
    },
    {
     "data": {
      "image/png": "[encoded data removed]",
      "text/plain": [
       "<Figure size 1080x288 with 1 Axes>"
      ]
     },
     "metadata": {
      "needs_background": "light"
     },
     "output_type": "display_data"
    }
   ],
   "source": [
    "plt.figure(figsize=(15,4))\n",
    "print('Коэффициент корреляции для оценок критиков: {} '.format(round(PS4['critic_score'].corr(PS4['total_sales']), 2)))\n",
    "plt.scatter(x='critic_score', y='total_sales', data=PS4, color='#1E90FF', alpha = 0.4)\n",
    "plt.title('Зависимость продаж от оценок критиков', fontsize=12)\n",
    "plt.show();"
   ]
  },
  {
   "cell_type": "markdown",
   "id": "27e4af4a",
   "metadata": {},
   "source": [
    "По полученным данным видим, что  для платформы PS4 зависимости продаж от пользовательской оценки нет, а вот зависимость от оценки критиков небольшая, но есть - чем выше оценка критиков, тем больше продаж."
   ]
  },
  {
   "cell_type": "markdown",
   "id": "2c33b21e",
   "metadata": {},
   "source": [
    "**Соотнесите выводы с продажами игр на других платформах.**\n"
   ]
  },
  {
   "cell_type": "code",
   "execution_count": 40,
   "id": "9a7c08ea",
   "metadata": {
    "scrolled": true
   },
   "outputs": [
    {
     "name": "stdout",
     "output_type": "stream",
     "text": [
      "Коэффициент корреляции для пользовательских оценок: 0.01 \n"
     ]
    },
    {
     "data": {
      "image/png": "[encoded data removed]",
      "text/plain": [
       "<Figure size 1080x288 with 1 Axes>"
      ]
     },
     "metadata": {
      "needs_background": "light"
     },
     "output_type": "display_data"
    }
   ],
   "source": [
    "plt.figure(figsize=(15,4))\n",
    "print('Коэффициент корреляции для пользовательских оценок: {} '\\\n",
    "      .format(round(actual_period.query('user_score != 0 and critic_score != 0')['user_score']\\\n",
    "                    .corr(actual_period['total_sales']), 2)))\n",
    "plt.scatter(x='user_score', y='total_sales', data=actual_period\\\n",
    "            .query('user_score != 0 and critic_score != 0'), color='#1E90FF', alpha = 0.2)\n",
    "plt.title('Зависимость продаж от пользовательских оценок', fontsize=12)\n",
    "plt.show();"
   ]
  },
  {
   "cell_type": "code",
   "execution_count": 41,
   "id": "f7fa9184",
   "metadata": {},
   "outputs": [
    {
     "name": "stdout",
     "output_type": "stream",
     "text": [
      "Коэффициент корреляции для оценок критиков: 0.33 \n"
     ]
    },
    {
     "data": {
      "image/png": "[encoded data removed]",
      "text/plain": [
       "<Figure size 1080x288 with 1 Axes>"
      ]
     },
     "metadata": {
      "needs_background": "light"
     },
     "output_type": "display_data"
    }
   ],
   "source": [
    "plt.figure(figsize=(15,4))\n",
    "print('Коэффициент корреляции для оценок критиков: {} '\\\n",
    "      .format(round(actual_period.query('user_score != 0 and critic_score != 0')['critic_score']\\\n",
    "                    .corr(actual_period['total_sales']), 2)))\n",
    "plt.scatter(x='critic_score', y='total_sales', data=actual_period\\\n",
    "            .query('user_score != 0 and critic_score != 0'), color='#1E90FF', alpha = 0.2)\n",
    "plt.title('Зависимость продаж от оценок критиков', fontsize=12)\n",
    "plt.show();"
   ]
  },
  {
   "cell_type": "markdown",
   "id": "f1a60e86",
   "metadata": {},
   "source": [
    "По полученным данным также видим, что зависимости от пользовательской оценки на других платформах нет, при этом есть небольшая зависимость от оценки критиков."
   ]
  },
  {
   "cell_type": "markdown",
   "id": "807dcec7",
   "metadata": {},
   "source": [
    "**Посмотрите на общее распределение игр по жанрам. Что можно сказать о самых прибыльных жанрах? Выделяются ли жанры с высокими и низкими продажами?**"
   ]
  },
  {
   "cell_type": "code",
   "execution_count": 42,
   "id": "2fd82bb7",
   "metadata": {
    "scrolled": true
   },
   "outputs": [
    {
     "data": {
      "image/png": "[encoded data removed]",
      "text/plain": [
       "<Figure size 1080x360 with 1 Axes>"
      ]
     },
     "metadata": {
      "needs_background": "light"
     },
     "output_type": "display_data"
    }
   ],
   "source": [
    "# создаём таблицу с количеством продаж по жанрам\n",
    "genre_sales = df.pivot_table(index = 'genre', values = 'total_sales', aggfunc= 'sum')\\\n",
    "   .sort_values(by='total_sales', ascending=False).reset_index()\n",
    "\n",
    "# отражаем полученный результат на графике\n",
    "plt.figure(figsize=(15, 5))\n",
    "plt.bar(genre_sales['genre'], genre_sales['total_sales'], color = sns.color_palette('pastel'))\n",
    "plt.grid()\n",
    "plt.title('Продажи по жанрам')\n",
    "plt.xlabel('Жанры')\n",
    "plt.ylabel('Количество продаж')\n",
    "plt.show();\n",
    "\n"
   ]
  },
  {
   "cell_type": "markdown",
   "id": "eaf09d5a",
   "metadata": {},
   "source": [
    "Видим, что самый популярный жанр это Action - динамичные игры  очень привлекательны. Также популярны жанры Sport и Shooter. Самый не популярный жанр игр это Strategy - не всем нравится много думать.  "
   ]
  },
  {
   "cell_type": "markdown",
   "id": "dfcec4e9",
   "metadata": {},
   "source": [
    "##  Портрет пользователя каждого региона"
   ]
  },
  {
   "cell_type": "markdown",
   "id": "761e5a2a",
   "metadata": {},
   "source": [
    "Определите для пользователя каждого региона (NA, EU, JP):\n",
    "\n",
    "* Самые популярные платформы (топ-5). Опишите различия в долях продаж.\n",
    "* Самые популярные жанры (топ-5). Поясните разницу.\n",
    "* Влияет ли рейтинг ESRB на продажи в отдельном регионе?\n"
   ]
  },
  {
   "cell_type": "code",
   "execution_count": 43,
   "id": "b15357b4",
   "metadata": {},
   "outputs": [],
   "source": [
    "# создаём словарь с топ 5-ю платформами по регионам продаж\n",
    "top5_platform = {}\n",
    "for region in ['na_sales', 'eu_sales', 'jp_sales']:\n",
    "    top5_platform[region] = actual_period.groupby('platform')[region].sum().sort_values(ascending=False).head(5)"
   ]
  },
  {
   "cell_type": "code",
   "execution_count": 44,
   "id": "0dc8f51a",
   "metadata": {
    "scrolled": false
   },
   "outputs": [
    {
     "data": {
      "image/png": "[encoded data removed]",
      "text/plain": [
       "<Figure size 1152x432 with 3 Axes>"
      ]
     },
     "metadata": {},
     "output_type": "display_data"
    }
   ],
   "source": [
    "# отражаем полученный результат на графике\n",
    "fig, (ax1, ax2, ax3) = plt.subplots(1, 3, figsize=(16, 6))\n",
    "\n",
    "x = [ax1, ax2, ax3]\n",
    "region = ['na_sales', 'eu_sales', 'jp_sales']\n",
    "\n",
    "for i in [0,1,2]:\n",
    "    labels = top5_platform[region[i]].index\n",
    "    sizes = top5_platform[region[i]].values\n",
    "    ax = x[i]\n",
    "    ax.set_title(f'Продажи в {region[i]}')\n",
    "    ax.pie(sizes, labels=labels, autopct='%1.1f%%', shadow=True, explode=(0.13, 0.07, 0, 0, 0),\\\n",
    "           startangle=45, colors = sns.color_palette('pastel')) \n",
    "    ax.axis('equal')  \n",
    "\n",
    "plt.show()"
   ]
  },
  {
   "cell_type": "markdown",
   "id": "9b1f59cc",
   "metadata": {},
   "source": [
    "Видим, что лидеры в разных регионах отличаются - в Северной Америке и Европе предпочитают платформу PS4, на втором месте Xone,в Северной Америке на третьем месте X360, а в Европе на 3 месте по популярности РS3. В Японии же самая популярная платформа 3DS за ней идет PS4."
   ]
  },
  {
   "cell_type": "code",
   "execution_count": 45,
   "id": "1f209e7f",
   "metadata": {},
   "outputs": [],
   "source": [
    "# создаём словарь с топ 5-ю жанрами по регионам продаж\n",
    "top5_genre = {}\n",
    "for region in ['na_sales', 'eu_sales', 'jp_sales']:\n",
    "    top5_genre[region] = actual_period.groupby('genre')[region].sum().sort_values(ascending=False).head(5)"
   ]
  },
  {
   "cell_type": "code",
   "execution_count": 46,
   "id": "71b1f1af",
   "metadata": {
    "scrolled": false
   },
   "outputs": [
    {
     "data": {
      "image/png": "[encoded data removed]",
      "text/plain": [
       "<Figure size 1152x432 with 3 Axes>"
      ]
     },
     "metadata": {},
     "output_type": "display_data"
    }
   ],
   "source": [
    "# отражаем полученный результат на графике\n",
    "fig, (ax1, ax2, ax3) = plt.subplots(1, 3, figsize=(16, 6))\n",
    "\n",
    "x = [ax1, ax2, ax3]\n",
    "region = ['na_sales', 'eu_sales', 'jp_sales']\n",
    "\n",
    "for i in [0,1,2]:\n",
    "    labels = top5_genre[region[i]].index\n",
    "    sizes = top5_genre[region[i]].values\n",
    "    ax = x[i]\n",
    "    ax.set_title(f'Продажи в {region[i]}')\n",
    "    ax.pie(sizes, labels=labels, autopct='%1.1f%%', shadow=True, explode=(0.13, 0.07, 0, 0, 0),\\\n",
    "           startangle=45, colors = sns.color_palette('pastel')) \n",
    "    ax.axis('equal')  \n",
    "\n",
    "plt.show()"
   ]
  },
  {
   "cell_type": "markdown",
   "id": "f24172f2",
   "metadata": {},
   "source": [
    "В разных регионах также лидируют разные жанры игр. В Северной Америке самый популярный жанр Shooter и Action на третьем месте игры жанра Sports. В Европе же немного иначе самый популярный Action, за ним  Shooter и Sports. В Японии же картина совсем отличатся  самый популярный жанр это Role-Playing на втором месте Action, на третьем Fighting.  Северная Америка и Европа похожи по своей культуре, вероятно поэтому и  жанры игр им нравятся одни и теже. А вот Япония это отдельная \"планета\" - там живут анимэшки и мастера косплея."
   ]
  },
  {
   "cell_type": "code",
   "execution_count": 47,
   "id": "66252d5b",
   "metadata": {
    "scrolled": false
   },
   "outputs": [
    {
     "data": {
      "text/html": [
       "<div>\n",
       "<style scoped>\n",
       "    .dataframe tbody tr th:only-of-type {\n",
       "        vertical-align: middle;\n",
       "    }\n",
       "\n",
       "    .dataframe tbody tr th {\n",
       "        vertical-align: top;\n",
       "    }\n",
       "\n",
       "    .dataframe thead th {\n",
       "        text-align: right;\n",
       "    }\n",
       "</style>\n",
       "<table border=\"1\" class=\"dataframe\">\n",
       "  <thead>\n",
       "    <tr style=\"text-align: right;\">\n",
       "      <th></th>\n",
       "      <th>rating</th>\n",
       "      <th>na_sales</th>\n",
       "      <th>eu_sales</th>\n",
       "      <th>jp_sales</th>\n",
       "    </tr>\n",
       "  </thead>\n",
       "  <tbody>\n",
       "    <tr>\n",
       "      <td>0</td>\n",
       "      <td>M</td>\n",
       "      <td>96.42</td>\n",
       "      <td>93.44</td>\n",
       "      <td>8.01</td>\n",
       "    </tr>\n",
       "    <tr>\n",
       "      <td>1</td>\n",
       "      <td>0</td>\n",
       "      <td>64.72</td>\n",
       "      <td>58.95</td>\n",
       "      <td>56.90</td>\n",
       "    </tr>\n",
       "    <tr>\n",
       "      <td>2</td>\n",
       "      <td>E</td>\n",
       "      <td>50.74</td>\n",
       "      <td>58.06</td>\n",
       "      <td>8.94</td>\n",
       "    </tr>\n",
       "    <tr>\n",
       "      <td>3</td>\n",
       "      <td>T</td>\n",
       "      <td>38.95</td>\n",
       "      <td>34.07</td>\n",
       "      <td>14.78</td>\n",
       "    </tr>\n",
       "    <tr>\n",
       "      <td>4</td>\n",
       "      <td>E10+</td>\n",
       "      <td>33.23</td>\n",
       "      <td>26.16</td>\n",
       "      <td>4.46</td>\n",
       "    </tr>\n",
       "  </tbody>\n",
       "</table>\n",
       "</div>"
      ],
      "text/plain": [
       "  rating  na_sales  eu_sales  jp_sales\n",
       "0      M     96.42     93.44      8.01\n",
       "1      0     64.72     58.95     56.90\n",
       "2      E     50.74     58.06      8.94\n",
       "3      T     38.95     34.07     14.78\n",
       "4   E10+     33.23     26.16      4.46"
      ]
     },
     "execution_count": 47,
     "metadata": {},
     "output_type": "execute_result"
    }
   ],
   "source": [
    "# создаём таблицу с рейтингом и количеством продаж по регионам \n",
    "esrb = actual_period.groupby('rating')['na_sales', 'eu_sales', 'jp_sales'].sum().sort_values(by='na_sales', ascending=False)\\\n",
    "    .reset_index()\n",
    "esrb"
   ]
  },
  {
   "cell_type": "code",
   "execution_count": 48,
   "id": "3e95952e",
   "metadata": {},
   "outputs": [],
   "source": [
    "top5_esrb = {}\n",
    "for region in ['na_sales', 'eu_sales', 'jp_sales']:\n",
    "    top5_esrb[region] = actual_period.groupby('rating')[region].sum().sort_values(ascending=False).head(5)"
   ]
  },
  {
   "cell_type": "code",
   "execution_count": 49,
   "id": "ff613d5e",
   "metadata": {},
   "outputs": [
    {
     "data": {
      "image/png": "[encoded data removed]",
      "text/plain": [
       "<Figure size 1152x432 with 3 Axes>"
      ]
     },
     "metadata": {},
     "output_type": "display_data"
    }
   ],
   "source": [
    "# отражаем полученный результат на графике\n",
    "fig, (ax1, ax2, ax3) = plt.subplots(1, 3, figsize=(16, 6))\n",
    "\n",
    "x = [ax1, ax2, ax3]\n",
    "region = ['na_sales', 'eu_sales', 'jp_sales']\n",
    "\n",
    "for i in [0,1,2]:\n",
    "    labels = top5_esrb[region[i]].index\n",
    "    sizes = top5_esrb[region[i]].values\n",
    "    ax = x[i]\n",
    "    ax.set_title(f'Продажи в {region[i]}')\n",
    "    ax.pie(sizes, labels=labels, autopct='%1.1f%%', shadow=True, explode=(0.13, 0.07, 0, 0, 0),\\\n",
    "           startangle=45, colors = sns.color_palette('pastel')) \n",
    "    ax.axis('equal')  \n",
    "\n",
    "plt.show()"
   ]
  },
  {
   "cell_type": "markdown",
   "id": "ab93bea8",
   "metadata": {},
   "source": [
    "Рейтинг игры:\n",
    "\n",
    "* EC («Early childhood») — Для детей младшего возраста\n",
    "* E («Everyone») — Для всех\n",
    "* E10+ («Everyone 10 and older») — Для всех старше 10 лет\n",
    "* T («Teen») — Подросткам 13—19 лет\n",
    "* M («Mature») — От 17 лет\n",
    "* AO («Adults Only 18+») — Только для взрослых\n",
    "* RP («Rating Pending»») — Рейтинг ожидается\n",
    "* K-A («Kids to Adults»)— Для детей и взрослых\n"
   ]
  },
  {
   "cell_type": "markdown",
   "id": "555384c0",
   "metadata": {},
   "source": [
    "Видим, что наибольшее количетво продаж в Северной Америке и Европе у игр с рейтингом M («Mature») — От 17 лет, также выделяются ретинги E,  E10+ и игры без рейтинга. Видим, что в Японии самое большое количество продаж у игр без рейтинга."
   ]
  },
  {
   "cell_type": "markdown",
   "id": "410b1921",
   "metadata": {},
   "source": [
    "##  Проверка гипотез"
   ]
  },
  {
   "cell_type": "markdown",
   "id": "d1fa7936",
   "metadata": {},
   "source": [
    "* Средние пользовательские рейтинги платформ Xbox One и PC одинаковые;\n",
    "* Средние пользовательские рейтинги жанров Action (англ. «действие», экшен-игры) и Sports (англ. «спортивные соревнования») разные.\n"
   ]
  },
  {
   "cell_type": "markdown",
   "id": "c64a148c",
   "metadata": {},
   "source": [
    "###  Средние пользовательские рейтинги платформ Xbox One и PC одинаковые"
   ]
  },
  {
   "cell_type": "markdown",
   "id": "49193351",
   "metadata": {},
   "source": [
    "**Нулевая гипотеза H₀** Средние пользовательские рейтинги платформ Xbox One и PC равны\n",
    "\n",
    "**Алтернативная гипотеза H₁** Средние пользовательские рейтинги платформ Xbox One и PC не равны"
   ]
  },
  {
   "cell_type": "code",
   "execution_count": 50,
   "id": "fe19da67",
   "metadata": {},
   "outputs": [],
   "source": [
    "# создаём две необходимые выборки \n",
    "xone = actual_period.query('platform == \"XOne\" and user_score != 0')['user_score']\n",
    "pc = actual_period.query('platform == \"PC\" and user_score != 0')['user_score']"
   ]
  },
  {
   "cell_type": "code",
   "execution_count": 51,
   "id": "28b9b9e8",
   "metadata": {},
   "outputs": [
    {
     "name": "stdout",
     "output_type": "stream",
     "text": [
      "Дисперсия пользовательского рейтинга на платформе XOne: 1.8910066518847013\n",
      "Дисперсия пользовательского рейтинга на платформе PC: 2.901154315133451\n",
      "Соотношение дисперсий: 1.5341851453785051\n"
     ]
    }
   ],
   "source": [
    "# оцениваем дисперсию по выборке xone и pc\n",
    "print('Дисперсия пользовательского рейтинга на платформе XOne:', np.var(xone, ddof=1))\n",
    "print('Дисперсия пользовательского рейтинга на платформе PC:', np.var(pc, ddof=1))\n",
    "print('Соотношение дисперсий:', np.var(pc, ddof=1) / np.var(xone, ddof=1))"
   ]
  },
  {
   "cell_type": "code",
   "execution_count": 52,
   "id": "69ce9337",
   "metadata": {},
   "outputs": [
    {
     "name": "stdout",
     "output_type": "stream",
     "text": [
      "p-значение: 0.10450507919348415\n",
      "Не получилось отвергнуть нулевую гипотезу\n"
     ]
    }
   ],
   "source": [
    "# выполняем проверку гипотезы\n",
    "alpha = 0.05 \n",
    "\n",
    "results = st.ttest_ind(xone, pc, equal_var = True)\n",
    "\n",
    "print('p-значение:', results.pvalue)\n",
    "\n",
    "if (results.pvalue < alpha):\n",
    "    print('Отвергаем нулевую гипотезу')\n",
    "else:\n",
    "    print('Не получилось отвергнуть нулевую гипотезу')"
   ]
  },
  {
   "cell_type": "code",
   "execution_count": 53,
   "id": "d99ab980",
   "metadata": {},
   "outputs": [
    {
     "name": "stdout",
     "output_type": "stream",
     "text": [
      "Cреднее значение пользовательского рейтинга на платформе XOne: 6.594545454545456\n",
      "Cреднее значение пользовательского рейтинга на платформе PC: 6.298360655737705\n"
     ]
    }
   ],
   "source": [
    "print('Cреднее значение пользовательского рейтинга на платформе XOne:', np.mean(xone))\n",
    "print('Cреднее значение пользовательского рейтинга на платформе PC:', np.mean(pc))"
   ]
  },
  {
   "cell_type": "markdown",
   "id": "1f44fd43",
   "metadata": {},
   "source": [
    "Нулевую гипотезу \"Средние пользовательские рейтинги платформ Xbox One и PC равны\" - не получилось отвергнуть \n",
    "\n",
    "**Подтверждается нулевая гипотеза**"
   ]
  },
  {
   "cell_type": "markdown",
   "id": "4745c533",
   "metadata": {},
   "source": [
    "### Средние пользовательские рейтинги жанров Action и Sports разные."
   ]
  },
  {
   "cell_type": "markdown",
   "id": "88256223",
   "metadata": {},
   "source": [
    "**Нулевая гипотеза H₀** Средние пользовательские рейтинги жанров Action и Sports равны\n",
    "\n",
    "**Алтернативная гипотеза H₁** Средние пользовательские рейтинги жанров Action и Sports не равны"
   ]
  },
  {
   "cell_type": "code",
   "execution_count": 54,
   "id": "5e377574",
   "metadata": {},
   "outputs": [],
   "source": [
    "# создаём две необходимые выборки \n",
    "action = actual_period.query('genre == \"Action\" and user_score != 0')['user_score']\n",
    "sports = actual_period.query('genre == \"Sports\" and user_score != 0')['user_score']"
   ]
  },
  {
   "cell_type": "code",
   "execution_count": 55,
   "id": "f5eea6b8",
   "metadata": {},
   "outputs": [
    {
     "name": "stdout",
     "output_type": "stream",
     "text": [
      "Дисперсия пользовательского рейтинга по жанру Action: 1.8984766584766581\n",
      "Дисперсия пользовательского рейтинга по жанру Sports: 3.446979127609048\n",
      "Соотношение дисперсий: 1.8156552582399994\n"
     ]
    }
   ],
   "source": [
    "# оцениваем дисперсию по выборке action и sports\n",
    "print('Дисперсия пользовательского рейтинга по жанру Action:', np.var(action, ddof=1))\n",
    "print('Дисперсия пользовательского рейтинга по жанру Sports:', np.var(sports, ddof=1))\n",
    "print('Соотношение дисперсий:', np.var(sports, ddof=1) / np.var(action, ddof=1))"
   ]
  },
  {
   "cell_type": "code",
   "execution_count": 56,
   "id": "a70bfb5b",
   "metadata": {},
   "outputs": [
    {
     "name": "stdout",
     "output_type": "stream",
     "text": [
      "p-значение: 2.8711147985105864e-19\n",
      "Отвергаем нулевую гипотезу\n"
     ]
    }
   ],
   "source": [
    "# выполняем проверку гипотезы\n",
    "alpha = 0.05 \n",
    "\n",
    "results = st.ttest_ind(action, sports, equal_var = True)\n",
    "\n",
    "print('p-значение:', results.pvalue)\n",
    "\n",
    "if (results.pvalue < alpha):\n",
    "    print('Отвергаем нулевую гипотезу')\n",
    "else:\n",
    "    print('Не получилось отвергнуть нулевую гипотезу')"
   ]
  },
  {
   "cell_type": "code",
   "execution_count": 57,
   "id": "bb4deac1",
   "metadata": {},
   "outputs": [
    {
     "name": "stdout",
     "output_type": "stream",
     "text": [
      "Cреднее значение пользовательского рейтинга по жанру Action: 6.760606060606061\n",
      "Cреднее значение пользовательского рейтинга по жанру Sports: 5.2251968503937\n"
     ]
    }
   ],
   "source": [
    "print('Cреднее значение пользовательского рейтинга по жанру Action:', np.mean(action))\n",
    "print('Cреднее значение пользовательского рейтинга по жанру Sports:', np.mean(sports))"
   ]
  },
  {
   "cell_type": "markdown",
   "id": "37d6381d",
   "metadata": {},
   "source": [
    "**Подтверждается альтернативная гипотеза** - Средние пользовательские рейтинги жанров Action и Sports не равны"
   ]
  },
  {
   "cell_type": "markdown",
   "id": "cd6ebd28",
   "metadata": {},
   "source": [
    "##  Общий вывод"
   ]
  },
  {
   "cell_type": "markdown",
   "id": "13b97bf0",
   "metadata": {},
   "source": [
    "В ходе предобработки обнаружили несколько проблем: \n",
    "\n",
    "* пропущенные значения\n",
    "* некорректное название столбцов\n",
    "\n",
    "Названия столбцов привели к нижнему регистру. В столбце `name` удалено 2 строки, так как в них не было других данных. Добавили столбец `total_sales` с суммой всех продаж в регионах.\n",
    "\n",
    "\n",
    "По результатам исследовательского анализа данных в период до 1994 почти не выпускалось игр. Начиная с 1994 года выпуск игр начал постепенно увеличиваться. В 2002 году произошел резкий рост количества выпускаемых игр. 2008-2009 годы с максимальным количеством выпусков, далее игр становилось меньше, в 2012 году количество выпускаемых игр сильно упало - примерно в 2 раза по сравнению с 2011 годом, и до 2016 года было незначительное колебание по числу выпускаемых игр. Определили, что средняя продолжительность жизненного цикла платформ 8 лет и примерно каждые 5 лет появляются новые платформы. Получили топ-5  платформ: PS2, X360, PS3, Wii, DS.\n",
    "\n",
    "Определили потенциально прибыльные и растущие платформы - PS4 и XOne. Платформы PSV, WiiU и 3DS - тоже можно продолжать развивать, но умеренно.\n",
    "\n",
    "Рассмотрели влияние отзывов пользователей и критиков на продажи игр на примере платформы PS4 за период 2014-2016 гг и остальных платформ за этот же период. Оценки пользователей совершенно не влияют на продажи игр, а вот оценки критиков имеют  некоторое влияние - чем выше оценка, тем больше продаж.\n",
    "\n",
    "\n",
    "Рассмотрели игры по жанрам - самые популярные жанры Action, Sports и Shooter -  динамичные игры с захватывающим сюжетoм, намного приведлекательнее игр жанра Strategy.\n",
    "\n",
    "\n",
    "Определили портрет пользователя каждого региона. Лидеры продаж в регионах разные: Северная Америка - PS4, Европа - PS4 и Япония - 3DS. В Северной Америке и Европе пользуются почти одними и теми же  платформами  PS4, Xone, PS3, 3DS, отличается только одна плотформа в Северной Америке на 3 месте по популярности платформа X360 в Европе на 4 месте платформа PC. В Японии совсем другая картина: тут более популярны платформы 3DS, PS4 и PSV.В Северной Америке, Европе и других регионах совпадают топ-3 жанра Action, Shoter и Sports . В Японии же другие взгляды, поэтому и лидирует жанр Role-Playing, хотя тоже очень популярны Action. Влияние рейтинга ESRB на продажи в разных регионах почти одинаково. в Северной Америке и Европе yа первом месте «M» и далее «E», «0» и «E10+». В Япoнии на первом месте игры без рейтинга.\n",
    "\n",
    "\n",
    "Проверены гипотезы:\n",
    "\n",
    "* Средние пользовательские рейтинги платформ Xbox One и PC одинаковые;\n",
    "* Средние пользовательские рейтинги жанров Action (англ. «действие», экшен-игры) и Sports (англ. «спортивные соревнования») разные.\n",
    "\n",
    "Первая гипотеза  подтвердилась - средние пользовательские рейтинги платформ Xbox One и PC не отличаются. Вторая гипотеза тоже  подтвердилась  - Средние пользовательские рейтинги жанров Action и Sports разные.\n",
    "\n",
    "В заключение можно сделать вывод, что успешная компьютерная игра должна обладать следующими характеристиками:\n",
    "\n",
    "* игра должна быть разработана для платформ PS4 или XOne, если речь идет о западном рынке, и для платформ 3DS, если игру планируется продавать в Японии;\n",
    "* жанр должен быть Action, Shooter или Sports для западного рынка, и Role-Playing для Японии;\n",
    "* у игры должен быть рейтинг ESRB «M» («Mature») — От 17 лет\n",
    "* желательно, чтобы у игры были высокие оценки от критиков."
   ]
  }
 ],
 "metadata": {
  "ExecuteTimeLog": [
   {
    "duration": 1170,
    "start_time": "2022-02-05T12:26:01.220Z"
   },
   {
    "duration": 2198,
    "start_time": "2022-02-05T12:26:02.391Z"
   },
   {
    "duration": -250,
    "start_time": "2022-02-05T12:26:04.843Z"
   },
   {
    "duration": -256,
    "start_time": "2022-02-05T12:26:04.850Z"
   },
   {
    "duration": -285,
    "start_time": "2022-02-05T12:26:04.880Z"
   },
   {
    "duration": -442,
    "start_time": "2022-02-05T12:26:05.038Z"
   },
   {
    "duration": -444,
    "start_time": "2022-02-05T12:26:05.041Z"
   },
   {
    "duration": -446,
    "start_time": "2022-02-05T12:26:05.044Z"
   },
   {
    "duration": -449,
    "start_time": "2022-02-05T12:26:05.048Z"
   },
   {
    "duration": -452,
    "start_time": "2022-02-05T12:26:05.052Z"
   },
   {
    "duration": -455,
    "start_time": "2022-02-05T12:26:05.055Z"
   },
   {
    "duration": -457,
    "start_time": "2022-02-05T12:26:05.059Z"
   },
   {
    "duration": -458,
    "start_time": "2022-02-05T12:26:05.061Z"
   },
   {
    "duration": -486,
    "start_time": "2022-02-05T12:26:05.090Z"
   },
   {
    "duration": -489,
    "start_time": "2022-02-05T12:26:05.094Z"
   },
   {
    "duration": -491,
    "start_time": "2022-02-05T12:26:05.097Z"
   },
   {
    "duration": -493,
    "start_time": "2022-02-05T12:26:05.100Z"
   },
   {
    "duration": -495,
    "start_time": "2022-02-05T12:26:05.103Z"
   },
   {
    "duration": -497,
    "start_time": "2022-02-05T12:26:05.106Z"
   },
   {
    "duration": -499,
    "start_time": "2022-02-05T12:26:05.109Z"
   },
   {
    "duration": -501,
    "start_time": "2022-02-05T12:26:05.112Z"
   },
   {
    "duration": -503,
    "start_time": "2022-02-05T12:26:05.115Z"
   },
   {
    "duration": -505,
    "start_time": "2022-02-05T12:26:05.118Z"
   },
   {
    "duration": -507,
    "start_time": "2022-02-05T12:26:05.121Z"
   },
   {
    "duration": -709,
    "start_time": "2022-02-05T12:26:05.324Z"
   },
   {
    "duration": -776,
    "start_time": "2022-02-05T12:26:05.395Z"
   },
   {
    "duration": -778,
    "start_time": "2022-02-05T12:26:05.398Z"
   },
   {
    "duration": -781,
    "start_time": "2022-02-05T12:26:05.402Z"
   },
   {
    "duration": -783,
    "start_time": "2022-02-05T12:26:05.405Z"
   },
   {
    "duration": -785,
    "start_time": "2022-02-05T12:26:05.408Z"
   },
   {
    "duration": -786,
    "start_time": "2022-02-05T12:26:05.411Z"
   },
   {
    "duration": -787,
    "start_time": "2022-02-05T12:26:05.414Z"
   },
   {
    "duration": -788,
    "start_time": "2022-02-05T12:26:05.416Z"
   },
   {
    "duration": -790,
    "start_time": "2022-02-05T12:26:05.419Z"
   },
   {
    "duration": -792,
    "start_time": "2022-02-05T12:26:05.422Z"
   },
   {
    "duration": -793,
    "start_time": "2022-02-05T12:26:05.424Z"
   },
   {
    "duration": -795,
    "start_time": "2022-02-05T12:26:05.427Z"
   },
   {
    "duration": -797,
    "start_time": "2022-02-05T12:26:05.430Z"
   },
   {
    "duration": -806,
    "start_time": "2022-02-05T12:26:05.440Z"
   },
   {
    "duration": -810,
    "start_time": "2022-02-05T12:26:05.444Z"
   },
   {
    "duration": -812,
    "start_time": "2022-02-05T12:26:05.447Z"
   },
   {
    "duration": -814,
    "start_time": "2022-02-05T12:26:05.450Z"
   },
   {
    "duration": -816,
    "start_time": "2022-02-05T12:26:05.453Z"
   },
   {
    "duration": -817,
    "start_time": "2022-02-05T12:26:05.456Z"
   },
   {
    "duration": -819,
    "start_time": "2022-02-05T12:26:05.459Z"
   },
   {
    "duration": -821,
    "start_time": "2022-02-05T12:26:05.462Z"
   },
   {
    "duration": -823,
    "start_time": "2022-02-05T12:26:05.465Z"
   },
   {
    "duration": -836,
    "start_time": "2022-02-05T12:26:05.478Z"
   },
   {
    "duration": -838,
    "start_time": "2022-02-05T12:26:05.481Z"
   },
   {
    "duration": -841,
    "start_time": "2022-02-05T12:26:05.485Z"
   },
   {
    "duration": -843,
    "start_time": "2022-02-05T12:26:05.488Z"
   },
   {
    "duration": -845,
    "start_time": "2022-02-05T12:26:05.491Z"
   },
   {
    "duration": -846,
    "start_time": "2022-02-05T12:26:05.493Z"
   },
   {
    "duration": 51,
    "start_time": "2022-02-05T12:29:54.350Z"
   },
   {
    "duration": 1184,
    "start_time": "2022-02-05T12:29:59.380Z"
   },
   {
    "duration": 60,
    "start_time": "2022-02-05T12:30:00.566Z"
   },
   {
    "duration": 31,
    "start_time": "2022-02-05T12:30:00.628Z"
   },
   {
    "duration": 34,
    "start_time": "2022-02-05T12:30:00.662Z"
   },
   {
    "duration": 30,
    "start_time": "2022-02-05T12:30:00.698Z"
   },
   {
    "duration": 3,
    "start_time": "2022-02-05T12:30:00.729Z"
   },
   {
    "duration": 16,
    "start_time": "2022-02-05T12:30:00.734Z"
   },
   {
    "duration": 8,
    "start_time": "2022-02-05T12:30:00.751Z"
   },
   {
    "duration": 14,
    "start_time": "2022-02-05T12:30:00.762Z"
   },
   {
    "duration": 36,
    "start_time": "2022-02-05T12:30:00.778Z"
   },
   {
    "duration": 16,
    "start_time": "2022-02-05T12:30:00.816Z"
   },
   {
    "duration": 7,
    "start_time": "2022-02-05T12:30:00.834Z"
   },
   {
    "duration": 16,
    "start_time": "2022-02-05T12:30:00.843Z"
   },
   {
    "duration": 8,
    "start_time": "2022-02-05T12:30:00.860Z"
   },
   {
    "duration": 20,
    "start_time": "2022-02-05T12:30:00.869Z"
   },
   {
    "duration": 4,
    "start_time": "2022-02-05T12:30:00.890Z"
   },
   {
    "duration": 28,
    "start_time": "2022-02-05T12:30:00.896Z"
   },
   {
    "duration": 22,
    "start_time": "2022-02-05T12:30:00.926Z"
   },
   {
    "duration": 5,
    "start_time": "2022-02-05T12:30:00.950Z"
   },
   {
    "duration": 13,
    "start_time": "2022-02-05T12:30:00.956Z"
   },
   {
    "duration": 25,
    "start_time": "2022-02-05T12:30:00.971Z"
   },
   {
    "duration": 9,
    "start_time": "2022-02-05T12:30:01.013Z"
   },
   {
    "duration": 9,
    "start_time": "2022-02-05T12:30:01.024Z"
   },
   {
    "duration": 12,
    "start_time": "2022-02-05T12:30:01.035Z"
   },
   {
    "duration": 6,
    "start_time": "2022-02-05T12:30:01.049Z"
   },
   {
    "duration": 10,
    "start_time": "2022-02-05T12:30:01.057Z"
   },
   {
    "duration": 22,
    "start_time": "2022-02-05T12:30:01.070Z"
   },
   {
    "duration": 357,
    "start_time": "2022-02-05T12:30:01.111Z"
   },
   {
    "duration": 396,
    "start_time": "2022-02-05T12:30:01.469Z"
   },
   {
    "duration": 10,
    "start_time": "2022-02-05T12:30:01.866Z"
   },
   {
    "duration": 388,
    "start_time": "2022-02-05T12:30:01.877Z"
   },
   {
    "duration": 463,
    "start_time": "2022-02-05T12:30:02.267Z"
   },
   {
    "duration": 463,
    "start_time": "2022-02-05T12:30:02.732Z"
   },
   {
    "duration": 200,
    "start_time": "2022-02-05T12:30:03.197Z"
   },
   {
    "duration": 543,
    "start_time": "2022-02-05T12:30:03.399Z"
   },
   {
    "duration": 340,
    "start_time": "2022-02-05T12:30:03.944Z"
   },
   {
    "duration": 401,
    "start_time": "2022-02-05T12:30:04.286Z"
   },
   {
    "duration": 402,
    "start_time": "2022-02-05T12:30:04.689Z"
   },
   {
    "duration": 410,
    "start_time": "2022-02-05T12:30:05.093Z"
   },
   {
    "duration": 281,
    "start_time": "2022-02-05T12:30:05.512Z"
   },
   {
    "duration": 24,
    "start_time": "2022-02-05T12:30:05.795Z"
   },
   {
    "duration": 306,
    "start_time": "2022-02-05T12:30:05.821Z"
   },
   {
    "duration": 10,
    "start_time": "2022-02-05T12:30:06.129Z"
   },
   {
    "duration": 394,
    "start_time": "2022-02-05T12:30:06.141Z"
   },
   {
    "duration": 16,
    "start_time": "2022-02-05T12:30:06.537Z"
   },
   {
    "duration": 13,
    "start_time": "2022-02-05T12:30:06.555Z"
   },
   {
    "duration": 6,
    "start_time": "2022-02-05T12:30:06.569Z"
   },
   {
    "duration": 18,
    "start_time": "2022-02-05T12:30:06.577Z"
   },
   {
    "duration": 32,
    "start_time": "2022-02-05T12:30:06.596Z"
   },
   {
    "duration": 20,
    "start_time": "2022-02-05T12:30:06.629Z"
   },
   {
    "duration": 8,
    "start_time": "2022-02-05T12:30:06.651Z"
   },
   {
    "duration": 18,
    "start_time": "2022-02-05T12:30:06.661Z"
   },
   {
    "duration": 14,
    "start_time": "2022-02-05T12:30:06.681Z"
   },
   {
    "duration": 14,
    "start_time": "2022-02-05T13:19:16.894Z"
   },
   {
    "duration": 16,
    "start_time": "2022-02-05T13:19:24.902Z"
   },
   {
    "duration": 1173,
    "start_time": "2022-02-05T13:21:33.075Z"
   },
   {
    "duration": 52,
    "start_time": "2022-02-05T13:21:34.250Z"
   },
   {
    "duration": 34,
    "start_time": "2022-02-05T13:21:34.304Z"
   },
   {
    "duration": 34,
    "start_time": "2022-02-05T13:21:34.340Z"
   },
   {
    "duration": 37,
    "start_time": "2022-02-05T13:21:34.376Z"
   },
   {
    "duration": 3,
    "start_time": "2022-02-05T13:21:34.416Z"
   },
   {
    "duration": 16,
    "start_time": "2022-02-05T13:21:34.421Z"
   },
   {
    "duration": 5,
    "start_time": "2022-02-05T13:21:34.439Z"
   },
   {
    "duration": 15,
    "start_time": "2022-02-05T13:21:34.447Z"
   },
   {
    "duration": 8,
    "start_time": "2022-02-05T13:21:34.464Z"
   },
   {
    "duration": 47,
    "start_time": "2022-02-05T13:21:34.474Z"
   },
   {
    "duration": 8,
    "start_time": "2022-02-05T13:21:34.523Z"
   },
   {
    "duration": 7,
    "start_time": "2022-02-05T13:21:34.532Z"
   },
   {
    "duration": 4,
    "start_time": "2022-02-05T13:21:34.541Z"
   },
   {
    "duration": 14,
    "start_time": "2022-02-05T13:21:34.547Z"
   },
   {
    "duration": 8,
    "start_time": "2022-02-05T13:21:34.562Z"
   },
   {
    "duration": 7,
    "start_time": "2022-02-05T13:21:34.613Z"
   },
   {
    "duration": 22,
    "start_time": "2022-02-05T13:21:34.622Z"
   },
   {
    "duration": 5,
    "start_time": "2022-02-05T13:21:34.646Z"
   },
   {
    "duration": 13,
    "start_time": "2022-02-05T13:21:34.653Z"
   },
   {
    "duration": 10,
    "start_time": "2022-02-05T13:21:34.667Z"
   },
   {
    "duration": 33,
    "start_time": "2022-02-05T13:21:34.679Z"
   },
   {
    "duration": 9,
    "start_time": "2022-02-05T13:21:34.716Z"
   },
   {
    "duration": 13,
    "start_time": "2022-02-05T13:21:34.726Z"
   },
   {
    "duration": 7,
    "start_time": "2022-02-05T13:21:34.740Z"
   },
   {
    "duration": 6,
    "start_time": "2022-02-05T13:21:34.748Z"
   },
   {
    "duration": 20,
    "start_time": "2022-02-05T13:21:34.756Z"
   },
   {
    "duration": 368,
    "start_time": "2022-02-05T13:21:34.777Z"
   },
   {
    "duration": 390,
    "start_time": "2022-02-05T13:21:35.147Z"
   },
   {
    "duration": 9,
    "start_time": "2022-02-05T13:21:35.538Z"
   },
   {
    "duration": 390,
    "start_time": "2022-02-05T13:21:35.549Z"
   },
   {
    "duration": 464,
    "start_time": "2022-02-05T13:21:35.941Z"
   },
   {
    "duration": 454,
    "start_time": "2022-02-05T13:21:36.407Z"
   },
   {
    "duration": 216,
    "start_time": "2022-02-05T13:21:36.863Z"
   },
   {
    "duration": 532,
    "start_time": "2022-02-05T13:21:37.080Z"
   },
   {
    "duration": 373,
    "start_time": "2022-02-05T13:21:37.613Z"
   },
   {
    "duration": 375,
    "start_time": "2022-02-05T13:21:37.988Z"
   },
   {
    "duration": 353,
    "start_time": "2022-02-05T13:21:38.364Z"
   },
   {
    "duration": 377,
    "start_time": "2022-02-05T13:21:38.718Z"
   },
   {
    "duration": 283,
    "start_time": "2022-02-05T13:21:39.097Z"
   },
   {
    "duration": 9,
    "start_time": "2022-02-05T13:21:39.382Z"
   },
   {
    "duration": 303,
    "start_time": "2022-02-05T13:21:39.393Z"
   },
   {
    "duration": 18,
    "start_time": "2022-02-05T13:21:39.698Z"
   },
   {
    "duration": 380,
    "start_time": "2022-02-05T13:21:39.717Z"
   },
   {
    "duration": 25,
    "start_time": "2022-02-05T13:21:40.099Z"
   },
   {
    "duration": 9,
    "start_time": "2022-02-05T13:21:40.126Z"
   },
   {
    "duration": 6,
    "start_time": "2022-02-05T13:21:40.137Z"
   },
   {
    "duration": 6,
    "start_time": "2022-02-05T13:21:40.145Z"
   },
   {
    "duration": 7,
    "start_time": "2022-02-05T13:21:40.153Z"
   },
   {
    "duration": 51,
    "start_time": "2022-02-05T13:21:40.161Z"
   },
   {
    "duration": 8,
    "start_time": "2022-02-05T13:21:40.214Z"
   },
   {
    "duration": 6,
    "start_time": "2022-02-05T13:21:40.224Z"
   },
   {
    "duration": 6,
    "start_time": "2022-02-05T13:21:40.232Z"
   },
   {
    "duration": 1087,
    "start_time": "2022-02-06T08:02:53.033Z"
   },
   {
    "duration": 47,
    "start_time": "2022-02-06T08:02:54.122Z"
   },
   {
    "duration": 27,
    "start_time": "2022-02-06T08:02:54.171Z"
   },
   {
    "duration": 35,
    "start_time": "2022-02-06T08:02:54.200Z"
   },
   {
    "duration": 10,
    "start_time": "2022-02-06T08:02:54.237Z"
   },
   {
    "duration": 3,
    "start_time": "2022-02-06T08:02:54.248Z"
   },
   {
    "duration": 13,
    "start_time": "2022-02-06T08:02:54.253Z"
   },
   {
    "duration": 5,
    "start_time": "2022-02-06T08:02:54.268Z"
   },
   {
    "duration": 44,
    "start_time": "2022-02-06T08:02:54.275Z"
   },
   {
    "duration": 7,
    "start_time": "2022-02-06T08:02:54.321Z"
   },
   {
    "duration": 9,
    "start_time": "2022-02-06T08:02:54.329Z"
   },
   {
    "duration": 7,
    "start_time": "2022-02-06T08:02:54.340Z"
   },
   {
    "duration": 7,
    "start_time": "2022-02-06T08:02:54.348Z"
   },
   {
    "duration": 4,
    "start_time": "2022-02-06T08:02:54.356Z"
   },
   {
    "duration": 52,
    "start_time": "2022-02-06T08:02:54.362Z"
   },
   {
    "duration": 5,
    "start_time": "2022-02-06T08:02:54.415Z"
   },
   {
    "duration": 6,
    "start_time": "2022-02-06T08:02:54.422Z"
   },
   {
    "duration": 23,
    "start_time": "2022-02-06T08:02:54.430Z"
   },
   {
    "duration": 5,
    "start_time": "2022-02-06T08:02:54.454Z"
   },
   {
    "duration": 14,
    "start_time": "2022-02-06T08:02:54.460Z"
   },
   {
    "duration": 40,
    "start_time": "2022-02-06T08:02:54.476Z"
   },
   {
    "duration": 4,
    "start_time": "2022-02-06T08:02:54.518Z"
   },
   {
    "duration": 10,
    "start_time": "2022-02-06T08:02:54.525Z"
   },
   {
    "duration": 10,
    "start_time": "2022-02-06T08:02:54.537Z"
   },
   {
    "duration": 6,
    "start_time": "2022-02-06T08:02:54.548Z"
   },
   {
    "duration": 7,
    "start_time": "2022-02-06T08:02:54.555Z"
   },
   {
    "duration": 19,
    "start_time": "2022-02-06T08:02:54.563Z"
   },
   {
    "duration": 338,
    "start_time": "2022-02-06T08:02:54.584Z"
   },
   {
    "duration": 352,
    "start_time": "2022-02-06T08:02:54.924Z"
   },
   {
    "duration": 9,
    "start_time": "2022-02-06T08:02:55.277Z"
   },
   {
    "duration": 357,
    "start_time": "2022-02-06T08:02:55.288Z"
   },
   {
    "duration": 416,
    "start_time": "2022-02-06T08:02:55.646Z"
   },
   {
    "duration": 411,
    "start_time": "2022-02-06T08:02:59.583Z"
   },
   {
    "duration": 358,
    "start_time": "2022-02-06T08:03:24.254Z"
   },
   {
    "duration": 347,
    "start_time": "2022-02-06T08:04:09.101Z"
   },
   {
    "duration": 371,
    "start_time": "2022-02-06T08:05:00.425Z"
   },
   {
    "duration": 360,
    "start_time": "2022-02-06T08:05:20.576Z"
   },
   {
    "duration": 346,
    "start_time": "2022-02-06T08:13:27.949Z"
   },
   {
    "duration": 336,
    "start_time": "2022-02-06T08:13:54.279Z"
   },
   {
    "duration": 335,
    "start_time": "2022-02-06T08:14:02.128Z"
   },
   {
    "duration": 343,
    "start_time": "2022-02-06T08:14:12.932Z"
   },
   {
    "duration": 309,
    "start_time": "2022-02-06T08:14:55.566Z"
   },
   {
    "duration": 323,
    "start_time": "2022-02-06T08:15:42.828Z"
   },
   {
    "duration": 412,
    "start_time": "2022-02-06T08:15:46.002Z"
   },
   {
    "duration": 9,
    "start_time": "2022-02-06T08:16:03.451Z"
   },
   {
    "duration": 283,
    "start_time": "2022-02-06T08:16:06.661Z"
   },
   {
    "duration": 9,
    "start_time": "2022-02-06T08:16:59.353Z"
   },
   {
    "duration": 296,
    "start_time": "2022-02-06T08:16:59.980Z"
   },
   {
    "duration": 15,
    "start_time": "2022-02-06T08:21:07.196Z"
   },
   {
    "duration": 278,
    "start_time": "2022-02-06T08:21:08.937Z"
   },
   {
    "duration": 15,
    "start_time": "2022-02-06T08:22:10.412Z"
   },
   {
    "duration": 298,
    "start_time": "2022-02-06T08:22:12.684Z"
   },
   {
    "duration": 10,
    "start_time": "2022-02-06T08:23:21.074Z"
   },
   {
    "duration": 10,
    "start_time": "2022-02-06T08:23:31.361Z"
   },
   {
    "duration": 261,
    "start_time": "2022-02-07T06:46:18.304Z"
   },
   {
    "duration": 1104,
    "start_time": "2022-02-07T06:46:25.352Z"
   },
   {
    "duration": 51,
    "start_time": "2022-02-07T06:46:26.458Z"
   },
   {
    "duration": 31,
    "start_time": "2022-02-07T06:46:26.511Z"
   },
   {
    "duration": 35,
    "start_time": "2022-02-07T06:46:26.545Z"
   },
   {
    "duration": 35,
    "start_time": "2022-02-07T06:46:26.582Z"
   },
   {
    "duration": 5,
    "start_time": "2022-02-07T06:46:26.618Z"
   },
   {
    "duration": 14,
    "start_time": "2022-02-07T06:46:26.625Z"
   },
   {
    "duration": 5,
    "start_time": "2022-02-07T06:46:26.642Z"
   },
   {
    "duration": 13,
    "start_time": "2022-02-07T06:46:26.649Z"
   },
   {
    "duration": 11,
    "start_time": "2022-02-07T06:46:26.664Z"
   },
   {
    "duration": 41,
    "start_time": "2022-02-07T06:46:26.677Z"
   },
   {
    "duration": 6,
    "start_time": "2022-02-07T06:46:26.720Z"
   },
   {
    "duration": 8,
    "start_time": "2022-02-07T06:46:26.727Z"
   },
   {
    "duration": 4,
    "start_time": "2022-02-07T06:46:26.737Z"
   },
   {
    "duration": 15,
    "start_time": "2022-02-07T06:46:26.742Z"
   },
   {
    "duration": 4,
    "start_time": "2022-02-07T06:46:26.759Z"
   },
   {
    "duration": 7,
    "start_time": "2022-02-07T06:46:26.765Z"
   },
   {
    "duration": 57,
    "start_time": "2022-02-07T06:46:26.774Z"
   },
   {
    "duration": 5,
    "start_time": "2022-02-07T06:46:26.833Z"
   },
   {
    "duration": 14,
    "start_time": "2022-02-07T06:46:26.840Z"
   },
   {
    "duration": 9,
    "start_time": "2022-02-07T06:46:26.855Z"
   },
   {
    "duration": 4,
    "start_time": "2022-02-07T06:46:26.865Z"
   },
   {
    "duration": 42,
    "start_time": "2022-02-07T06:46:26.871Z"
   },
   {
    "duration": 9,
    "start_time": "2022-02-07T06:46:26.915Z"
   },
   {
    "duration": 6,
    "start_time": "2022-02-07T06:46:26.926Z"
   },
   {
    "duration": 5,
    "start_time": "2022-02-07T06:46:26.934Z"
   },
   {
    "duration": 19,
    "start_time": "2022-02-07T06:46:26.940Z"
   },
   {
    "duration": 346,
    "start_time": "2022-02-07T06:46:26.961Z"
   },
   {
    "duration": 374,
    "start_time": "2022-02-07T06:46:27.308Z"
   },
   {
    "duration": 9,
    "start_time": "2022-02-07T06:46:27.683Z"
   },
   {
    "duration": 364,
    "start_time": "2022-02-07T06:46:27.694Z"
   },
   {
    "duration": 443,
    "start_time": "2022-02-07T06:46:28.060Z"
   },
   {
    "duration": 418,
    "start_time": "2022-02-07T06:46:31.663Z"
   },
   {
    "duration": 181,
    "start_time": "2022-02-07T06:47:14.181Z"
   },
   {
    "duration": 481,
    "start_time": "2022-02-07T06:47:16.072Z"
   },
   {
    "duration": 320,
    "start_time": "2022-02-07T06:51:03.061Z"
   },
   {
    "duration": 372,
    "start_time": "2022-02-07T06:51:06.796Z"
   },
   {
    "duration": 105,
    "start_time": "2022-02-07T06:54:23.539Z"
   },
   {
    "duration": 335,
    "start_time": "2022-02-07T06:54:34.277Z"
   },
   {
    "duration": 309,
    "start_time": "2022-02-07T06:54:35.866Z"
   },
   {
    "duration": 259,
    "start_time": "2022-02-07T06:56:01.455Z"
   },
   {
    "duration": 17,
    "start_time": "2022-02-07T06:56:49.893Z"
   },
   {
    "duration": 281,
    "start_time": "2022-02-07T06:57:41.056Z"
   },
   {
    "duration": 9,
    "start_time": "2022-02-07T06:59:02.005Z"
   },
   {
    "duration": 367,
    "start_time": "2022-02-07T06:59:02.635Z"
   },
   {
    "duration": 20,
    "start_time": "2022-02-07T07:00:24.750Z"
   },
   {
    "duration": 16,
    "start_time": "2022-02-07T07:01:26.386Z"
   },
   {
    "duration": 13,
    "start_time": "2022-02-07T07:01:36.064Z"
   },
   {
    "duration": 741,
    "start_time": "2022-02-07T07:07:23.034Z"
   },
   {
    "duration": 8,
    "start_time": "2022-02-07T07:07:25.561Z"
   },
   {
    "duration": 272,
    "start_time": "2022-02-07T07:07:28.388Z"
   },
   {
    "duration": 12,
    "start_time": "2022-02-07T07:11:43.561Z"
   },
   {
    "duration": 14,
    "start_time": "2022-02-07T07:12:15.695Z"
   },
   {
    "duration": 13,
    "start_time": "2022-02-07T07:12:40.768Z"
   },
   {
    "duration": 74,
    "start_time": "2022-02-07T07:14:21.111Z"
   },
   {
    "duration": 10,
    "start_time": "2022-02-07T07:17:17.715Z"
   },
   {
    "duration": 6,
    "start_time": "2022-02-07T07:17:25.899Z"
   },
   {
    "duration": 5,
    "start_time": "2022-02-07T07:17:31.917Z"
   },
   {
    "duration": 5,
    "start_time": "2022-02-07T07:17:36.078Z"
   },
   {
    "duration": 10,
    "start_time": "2022-02-07T07:17:49.712Z"
   },
   {
    "duration": 6,
    "start_time": "2022-02-07T07:17:50.648Z"
   },
   {
    "duration": 5,
    "start_time": "2022-02-07T07:17:52.303Z"
   },
   {
    "duration": 4,
    "start_time": "2022-02-07T07:17:56.867Z"
   },
   {
    "duration": 9,
    "start_time": "2022-02-07T07:19:03.916Z"
   },
   {
    "duration": 5,
    "start_time": "2022-02-07T07:19:05.313Z"
   },
   {
    "duration": 5,
    "start_time": "2022-02-07T07:19:10.925Z"
   },
   {
    "duration": 5,
    "start_time": "2022-02-07T07:19:18.020Z"
   },
   {
    "duration": 10,
    "start_time": "2022-02-07T07:21:02.011Z"
   },
   {
    "duration": 5,
    "start_time": "2022-02-07T07:21:02.577Z"
   },
   {
    "duration": 5,
    "start_time": "2022-02-07T07:21:03.357Z"
   },
   {
    "duration": 4,
    "start_time": "2022-02-07T07:21:04.181Z"
   },
   {
    "duration": 12,
    "start_time": "2022-02-07T07:21:11.300Z"
   },
   {
    "duration": 7,
    "start_time": "2022-02-07T07:21:13.439Z"
   },
   {
    "duration": 4,
    "start_time": "2022-02-07T07:21:15.803Z"
   },
   {
    "duration": 5,
    "start_time": "2022-02-07T07:21:21.609Z"
   },
   {
    "duration": 364,
    "start_time": "2022-02-07T07:23:32.522Z"
   },
   {
    "duration": 10,
    "start_time": "2022-02-07T07:23:37.297Z"
   },
   {
    "duration": 346,
    "start_time": "2022-02-07T07:23:50.747Z"
   },
   {
    "duration": 69,
    "start_time": "2022-02-07T07:25:26.195Z"
   },
   {
    "duration": 149,
    "start_time": "2022-02-07T07:38:23.053Z"
   },
   {
    "duration": 74,
    "start_time": "2022-02-07T07:39:44.637Z"
   },
   {
    "duration": 3,
    "start_time": "2022-02-07T07:45:19.821Z"
   },
   {
    "duration": 72,
    "start_time": "2022-02-07T07:46:14.089Z"
   },
   {
    "duration": 126,
    "start_time": "2022-02-07T07:46:33.844Z"
   },
   {
    "duration": 3,
    "start_time": "2022-02-07T07:47:59.478Z"
   },
   {
    "duration": 129,
    "start_time": "2022-02-07T07:47:59.484Z"
   },
   {
    "duration": 42,
    "start_time": "2022-02-07T07:47:59.615Z"
   },
   {
    "duration": 32,
    "start_time": "2022-02-07T07:47:59.658Z"
   },
   {
    "duration": 12,
    "start_time": "2022-02-07T07:47:59.713Z"
   },
   {
    "duration": 4,
    "start_time": "2022-02-07T07:47:59.727Z"
   },
   {
    "duration": 18,
    "start_time": "2022-02-07T07:47:59.733Z"
   },
   {
    "duration": 6,
    "start_time": "2022-02-07T07:47:59.753Z"
   },
   {
    "duration": 9,
    "start_time": "2022-02-07T07:47:59.761Z"
   },
   {
    "duration": 8,
    "start_time": "2022-02-07T07:47:59.812Z"
   },
   {
    "duration": 9,
    "start_time": "2022-02-07T07:47:59.822Z"
   },
   {
    "duration": 6,
    "start_time": "2022-02-07T07:47:59.833Z"
   },
   {
    "duration": 12,
    "start_time": "2022-02-07T07:47:59.840Z"
   },
   {
    "duration": 5,
    "start_time": "2022-02-07T07:47:59.853Z"
   },
   {
    "duration": 9,
    "start_time": "2022-02-07T07:47:59.860Z"
   },
   {
    "duration": 3,
    "start_time": "2022-02-07T07:47:59.871Z"
   },
   {
    "duration": 6,
    "start_time": "2022-02-07T07:47:59.913Z"
   },
   {
    "duration": 24,
    "start_time": "2022-02-07T07:47:59.921Z"
   },
   {
    "duration": 4,
    "start_time": "2022-02-07T07:47:59.947Z"
   },
   {
    "duration": 23,
    "start_time": "2022-02-07T07:47:59.952Z"
   },
   {
    "duration": 10,
    "start_time": "2022-02-07T07:47:59.976Z"
   },
   {
    "duration": 26,
    "start_time": "2022-02-07T07:47:59.987Z"
   },
   {
    "duration": 11,
    "start_time": "2022-02-07T07:48:00.015Z"
   },
   {
    "duration": 7,
    "start_time": "2022-02-07T07:48:00.030Z"
   },
   {
    "duration": 14,
    "start_time": "2022-02-07T07:48:00.040Z"
   },
   {
    "duration": 11,
    "start_time": "2022-02-07T07:48:00.056Z"
   },
   {
    "duration": 25,
    "start_time": "2022-02-07T07:48:00.069Z"
   },
   {
    "duration": 340,
    "start_time": "2022-02-07T07:48:00.096Z"
   },
   {
    "duration": 463,
    "start_time": "2022-02-07T07:48:00.438Z"
   },
   {
    "duration": 14,
    "start_time": "2022-02-07T07:48:00.902Z"
   },
   {
    "duration": 365,
    "start_time": "2022-02-07T07:48:00.917Z"
   },
   {
    "duration": 432,
    "start_time": "2022-02-07T07:48:01.284Z"
   },
   {
    "duration": 386,
    "start_time": "2022-02-07T07:48:01.717Z"
   },
   {
    "duration": 181,
    "start_time": "2022-02-07T07:48:02.112Z"
   },
   {
    "duration": 460,
    "start_time": "2022-02-07T07:48:02.295Z"
   },
   {
    "duration": 329,
    "start_time": "2022-02-07T07:48:02.756Z"
   },
   {
    "duration": 375,
    "start_time": "2022-02-07T07:48:03.087Z"
   },
   {
    "duration": 321,
    "start_time": "2022-02-07T07:48:03.464Z"
   },
   {
    "duration": 425,
    "start_time": "2022-02-07T07:48:03.787Z"
   },
   {
    "duration": 267,
    "start_time": "2022-02-07T07:48:04.214Z"
   },
   {
    "duration": 9,
    "start_time": "2022-02-07T07:48:04.483Z"
   },
   {
    "duration": 293,
    "start_time": "2022-02-07T07:48:04.493Z"
   },
   {
    "duration": 8,
    "start_time": "2022-02-07T07:48:04.788Z"
   },
   {
    "duration": 312,
    "start_time": "2022-02-07T07:48:04.798Z"
   },
   {
    "duration": 13,
    "start_time": "2022-02-07T07:48:05.112Z"
   },
   {
    "duration": 9,
    "start_time": "2022-02-07T07:48:05.127Z"
   },
   {
    "duration": 301,
    "start_time": "2022-02-07T07:48:05.138Z"
   },
   {
    "duration": 9,
    "start_time": "2022-02-07T07:48:05.441Z"
   },
   {
    "duration": 11,
    "start_time": "2022-02-07T07:48:05.452Z"
   },
   {
    "duration": 7,
    "start_time": "2022-02-07T07:48:05.465Z"
   },
   {
    "duration": 5,
    "start_time": "2022-02-07T07:48:05.473Z"
   },
   {
    "duration": 37,
    "start_time": "2022-02-07T07:48:05.480Z"
   },
   {
    "duration": 6,
    "start_time": "2022-02-07T07:48:05.519Z"
   },
   {
    "duration": 9,
    "start_time": "2022-02-07T07:48:05.527Z"
   },
   {
    "duration": 11,
    "start_time": "2022-02-07T07:48:05.538Z"
   },
   {
    "duration": 7,
    "start_time": "2022-02-07T07:48:36.259Z"
   },
   {
    "duration": 7,
    "start_time": "2022-02-07T07:50:02.697Z"
   },
   {
    "duration": 1140,
    "start_time": "2022-02-07T14:41:12.637Z"
   },
   {
    "duration": 349,
    "start_time": "2022-02-07T14:41:13.778Z"
   },
   {
    "duration": -1981,
    "start_time": "2022-02-07T14:41:16.111Z"
   },
   {
    "duration": -1985,
    "start_time": "2022-02-07T14:41:16.116Z"
   },
   {
    "duration": -2120,
    "start_time": "2022-02-07T14:41:16.252Z"
   },
   {
    "duration": -2179,
    "start_time": "2022-02-07T14:41:16.312Z"
   },
   {
    "duration": -2183,
    "start_time": "2022-02-07T14:41:16.317Z"
   },
   {
    "duration": -2187,
    "start_time": "2022-02-07T14:41:16.322Z"
   },
   {
    "duration": -2190,
    "start_time": "2022-02-07T14:41:16.326Z"
   },
   {
    "duration": -2196,
    "start_time": "2022-02-07T14:41:16.333Z"
   },
   {
    "duration": -2200,
    "start_time": "2022-02-07T14:41:16.338Z"
   },
   {
    "duration": -2203,
    "start_time": "2022-02-07T14:41:16.342Z"
   },
   {
    "duration": -2206,
    "start_time": "2022-02-07T14:41:16.346Z"
   },
   {
    "duration": -2209,
    "start_time": "2022-02-07T14:41:16.350Z"
   },
   {
    "duration": -2211,
    "start_time": "2022-02-07T14:41:16.353Z"
   },
   {
    "duration": -2214,
    "start_time": "2022-02-07T14:41:16.358Z"
   },
   {
    "duration": -2218,
    "start_time": "2022-02-07T14:41:16.363Z"
   },
   {
    "duration": -2220,
    "start_time": "2022-02-07T14:41:16.367Z"
   },
   {
    "duration": -2223,
    "start_time": "2022-02-07T14:41:16.371Z"
   },
   {
    "duration": -2226,
    "start_time": "2022-02-07T14:41:16.375Z"
   },
   {
    "duration": -2229,
    "start_time": "2022-02-07T14:41:16.379Z"
   },
   {
    "duration": -2233,
    "start_time": "2022-02-07T14:41:16.384Z"
   },
   {
    "duration": -2236,
    "start_time": "2022-02-07T14:41:16.388Z"
   },
   {
    "duration": -2240,
    "start_time": "2022-02-07T14:41:16.394Z"
   },
   {
    "duration": -2252,
    "start_time": "2022-02-07T14:41:16.406Z"
   },
   {
    "duration": -2255,
    "start_time": "2022-02-07T14:41:16.411Z"
   },
   {
    "duration": -2258,
    "start_time": "2022-02-07T14:41:16.415Z"
   },
   {
    "duration": -2262,
    "start_time": "2022-02-07T14:41:16.420Z"
   },
   {
    "duration": -2264,
    "start_time": "2022-02-07T14:41:16.423Z"
   },
   {
    "duration": -2268,
    "start_time": "2022-02-07T14:41:16.428Z"
   },
   {
    "duration": -2271,
    "start_time": "2022-02-07T14:41:16.432Z"
   },
   {
    "duration": -2274,
    "start_time": "2022-02-07T14:41:16.436Z"
   },
   {
    "duration": -2280,
    "start_time": "2022-02-07T14:41:16.443Z"
   },
   {
    "duration": -2285,
    "start_time": "2022-02-07T14:41:16.449Z"
   },
   {
    "duration": -2289,
    "start_time": "2022-02-07T14:41:16.454Z"
   },
   {
    "duration": -2292,
    "start_time": "2022-02-07T14:41:16.458Z"
   },
   {
    "duration": -2295,
    "start_time": "2022-02-07T14:41:16.462Z"
   },
   {
    "duration": -2299,
    "start_time": "2022-02-07T14:41:16.467Z"
   },
   {
    "duration": -2301,
    "start_time": "2022-02-07T14:41:16.471Z"
   },
   {
    "duration": -2304,
    "start_time": "2022-02-07T14:41:16.475Z"
   },
   {
    "duration": -2307,
    "start_time": "2022-02-07T14:41:16.479Z"
   },
   {
    "duration": -2309,
    "start_time": "2022-02-07T14:41:16.482Z"
   },
   {
    "duration": -2312,
    "start_time": "2022-02-07T14:41:16.486Z"
   },
   {
    "duration": -2315,
    "start_time": "2022-02-07T14:41:16.490Z"
   },
   {
    "duration": -2319,
    "start_time": "2022-02-07T14:41:16.495Z"
   },
   {
    "duration": -2322,
    "start_time": "2022-02-07T14:41:16.499Z"
   },
   {
    "duration": -2324,
    "start_time": "2022-02-07T14:41:16.502Z"
   },
   {
    "duration": -2335,
    "start_time": "2022-02-07T14:41:16.514Z"
   },
   {
    "duration": -2338,
    "start_time": "2022-02-07T14:41:16.518Z"
   },
   {
    "duration": -2342,
    "start_time": "2022-02-07T14:41:16.523Z"
   },
   {
    "duration": -2344,
    "start_time": "2022-02-07T14:41:16.526Z"
   },
   {
    "duration": -2346,
    "start_time": "2022-02-07T14:41:16.530Z"
   },
   {
    "duration": -2348,
    "start_time": "2022-02-07T14:41:16.533Z"
   },
   {
    "duration": -2351,
    "start_time": "2022-02-07T14:41:16.537Z"
   },
   {
    "duration": -2354,
    "start_time": "2022-02-07T14:41:16.541Z"
   },
   {
    "duration": 103,
    "start_time": "2022-02-07T14:45:28.901Z"
   },
   {
    "duration": 1132,
    "start_time": "2022-02-07T14:45:49.645Z"
   },
   {
    "duration": 101,
    "start_time": "2022-02-07T14:45:50.779Z"
   },
   {
    "duration": 29,
    "start_time": "2022-02-07T14:45:50.883Z"
   },
   {
    "duration": 49,
    "start_time": "2022-02-07T14:45:50.914Z"
   },
   {
    "duration": 12,
    "start_time": "2022-02-07T14:45:50.965Z"
   },
   {
    "duration": 29,
    "start_time": "2022-02-07T14:45:50.979Z"
   },
   {
    "duration": 28,
    "start_time": "2022-02-07T14:45:51.010Z"
   },
   {
    "duration": 30,
    "start_time": "2022-02-07T14:45:51.041Z"
   },
   {
    "duration": 30,
    "start_time": "2022-02-07T14:45:51.074Z"
   },
   {
    "duration": 33,
    "start_time": "2022-02-07T14:45:51.106Z"
   },
   {
    "duration": 29,
    "start_time": "2022-02-07T14:45:51.140Z"
   },
   {
    "duration": 21,
    "start_time": "2022-02-07T14:45:51.171Z"
   },
   {
    "duration": 12,
    "start_time": "2022-02-07T14:45:51.194Z"
   },
   {
    "duration": 26,
    "start_time": "2022-02-07T14:45:51.207Z"
   },
   {
    "duration": 33,
    "start_time": "2022-02-07T14:45:51.234Z"
   },
   {
    "duration": 33,
    "start_time": "2022-02-07T14:45:51.268Z"
   },
   {
    "duration": 25,
    "start_time": "2022-02-07T14:45:51.303Z"
   },
   {
    "duration": 29,
    "start_time": "2022-02-07T14:45:51.329Z"
   },
   {
    "duration": 4,
    "start_time": "2022-02-07T14:45:51.360Z"
   },
   {
    "duration": 18,
    "start_time": "2022-02-07T14:45:51.366Z"
   },
   {
    "duration": 13,
    "start_time": "2022-02-07T14:45:51.385Z"
   },
   {
    "duration": 16,
    "start_time": "2022-02-07T14:45:51.399Z"
   },
   {
    "duration": 21,
    "start_time": "2022-02-07T14:45:51.419Z"
   },
   {
    "duration": 15,
    "start_time": "2022-02-07T14:45:51.442Z"
   },
   {
    "duration": 10,
    "start_time": "2022-02-07T14:45:51.458Z"
   },
   {
    "duration": 15,
    "start_time": "2022-02-07T14:45:51.470Z"
   },
   {
    "duration": 30,
    "start_time": "2022-02-07T14:45:51.486Z"
   },
   {
    "duration": 296,
    "start_time": "2022-02-07T14:45:51.518Z"
   },
   {
    "duration": 356,
    "start_time": "2022-02-07T14:45:51.816Z"
   },
   {
    "duration": 9,
    "start_time": "2022-02-07T14:45:52.174Z"
   },
   {
    "duration": 340,
    "start_time": "2022-02-07T14:45:52.185Z"
   },
   {
    "duration": 400,
    "start_time": "2022-02-07T14:45:52.527Z"
   },
   {
    "duration": 429,
    "start_time": "2022-02-07T14:45:52.929Z"
   },
   {
    "duration": 175,
    "start_time": "2022-02-07T14:45:53.360Z"
   },
   {
    "duration": 439,
    "start_time": "2022-02-07T14:45:53.536Z"
   },
   {
    "duration": 326,
    "start_time": "2022-02-07T14:45:53.977Z"
   },
   {
    "duration": 341,
    "start_time": "2022-02-07T14:45:54.304Z"
   },
   {
    "duration": 342,
    "start_time": "2022-02-07T14:45:54.648Z"
   },
   {
    "duration": 315,
    "start_time": "2022-02-07T14:45:54.991Z"
   },
   {
    "duration": 264,
    "start_time": "2022-02-07T14:45:55.307Z"
   },
   {
    "duration": 8,
    "start_time": "2022-02-07T14:45:55.573Z"
   },
   {
    "duration": 279,
    "start_time": "2022-02-07T14:45:55.582Z"
   },
   {
    "duration": 7,
    "start_time": "2022-02-07T14:45:55.863Z"
   },
   {
    "duration": 369,
    "start_time": "2022-02-07T14:45:55.872Z"
   },
   {
    "duration": 20,
    "start_time": "2022-02-07T14:45:56.242Z"
   },
   {
    "duration": 12,
    "start_time": "2022-02-07T14:45:56.264Z"
   },
   {
    "duration": 255,
    "start_time": "2022-02-07T14:45:56.278Z"
   },
   {
    "duration": 24,
    "start_time": "2022-02-07T14:45:56.535Z"
   },
   {
    "duration": 7,
    "start_time": "2022-02-07T14:45:56.561Z"
   },
   {
    "duration": 7,
    "start_time": "2022-02-07T14:45:56.569Z"
   },
   {
    "duration": 14,
    "start_time": "2022-02-07T14:45:56.578Z"
   },
   {
    "duration": 21,
    "start_time": "2022-02-07T14:45:56.594Z"
   },
   {
    "duration": 7,
    "start_time": "2022-02-07T14:45:56.617Z"
   },
   {
    "duration": 11,
    "start_time": "2022-02-07T14:45:56.625Z"
   },
   {
    "duration": 16,
    "start_time": "2022-02-07T14:45:56.638Z"
   },
   {
    "duration": 1059,
    "start_time": "2022-02-07T15:01:04.613Z"
   },
   {
    "duration": 109,
    "start_time": "2022-02-07T15:01:05.674Z"
   },
   {
    "duration": 28,
    "start_time": "2022-02-07T15:01:05.785Z"
   },
   {
    "duration": 45,
    "start_time": "2022-02-07T15:01:05.815Z"
   },
   {
    "duration": 11,
    "start_time": "2022-02-07T15:01:05.861Z"
   },
   {
    "duration": 9,
    "start_time": "2022-02-07T15:01:05.874Z"
   },
   {
    "duration": 23,
    "start_time": "2022-02-07T15:01:05.885Z"
   },
   {
    "duration": 10,
    "start_time": "2022-02-07T15:01:05.909Z"
   },
   {
    "duration": 17,
    "start_time": "2022-02-07T15:01:05.921Z"
   },
   {
    "duration": 19,
    "start_time": "2022-02-07T15:01:05.940Z"
   },
   {
    "duration": 15,
    "start_time": "2022-02-07T15:01:05.960Z"
   },
   {
    "duration": 14,
    "start_time": "2022-02-07T15:01:05.977Z"
   },
   {
    "duration": 15,
    "start_time": "2022-02-07T15:01:05.992Z"
   },
   {
    "duration": 16,
    "start_time": "2022-02-07T15:01:06.008Z"
   },
   {
    "duration": 26,
    "start_time": "2022-02-07T15:01:06.026Z"
   },
   {
    "duration": 8,
    "start_time": "2022-02-07T15:01:06.054Z"
   },
   {
    "duration": 15,
    "start_time": "2022-02-07T15:01:06.064Z"
   },
   {
    "duration": 35,
    "start_time": "2022-02-07T15:01:06.081Z"
   },
   {
    "duration": 6,
    "start_time": "2022-02-07T15:01:06.118Z"
   },
   {
    "duration": 25,
    "start_time": "2022-02-07T15:01:06.126Z"
   },
   {
    "duration": 25,
    "start_time": "2022-02-07T15:01:06.153Z"
   },
   {
    "duration": 13,
    "start_time": "2022-02-07T15:01:06.180Z"
   },
   {
    "duration": 12,
    "start_time": "2022-02-07T15:01:06.195Z"
   },
   {
    "duration": 22,
    "start_time": "2022-02-07T15:01:06.208Z"
   },
   {
    "duration": 24,
    "start_time": "2022-02-07T15:01:06.232Z"
   },
   {
    "duration": 14,
    "start_time": "2022-02-07T15:01:06.258Z"
   },
   {
    "duration": 32,
    "start_time": "2022-02-07T15:01:06.275Z"
   },
   {
    "duration": 332,
    "start_time": "2022-02-07T15:01:06.309Z"
   },
   {
    "duration": 433,
    "start_time": "2022-02-07T15:01:06.642Z"
   },
   {
    "duration": 43,
    "start_time": "2022-02-07T15:01:07.085Z"
   },
   {
    "duration": 492,
    "start_time": "2022-02-07T15:01:07.130Z"
   },
   {
    "duration": 436,
    "start_time": "2022-02-07T15:01:07.624Z"
   },
   {
    "duration": 443,
    "start_time": "2022-02-07T15:01:08.062Z"
   },
   {
    "duration": 184,
    "start_time": "2022-02-07T15:01:08.507Z"
   },
   {
    "duration": 667,
    "start_time": "2022-02-07T15:01:08.693Z"
   },
   {
    "duration": 347,
    "start_time": "2022-02-07T15:01:09.362Z"
   },
   {
    "duration": 340,
    "start_time": "2022-02-07T15:01:09.711Z"
   },
   {
    "duration": 371,
    "start_time": "2022-02-07T15:01:10.053Z"
   },
   {
    "duration": 373,
    "start_time": "2022-02-07T15:01:10.426Z"
   },
   {
    "duration": 260,
    "start_time": "2022-02-07T15:01:10.801Z"
   },
   {
    "duration": 10,
    "start_time": "2022-02-07T15:01:11.063Z"
   },
   {
    "duration": 283,
    "start_time": "2022-02-07T15:01:11.075Z"
   },
   {
    "duration": 10,
    "start_time": "2022-02-07T15:01:11.360Z"
   },
   {
    "duration": 387,
    "start_time": "2022-02-07T15:01:11.371Z"
   },
   {
    "duration": 12,
    "start_time": "2022-02-07T15:01:11.760Z"
   },
   {
    "duration": 31,
    "start_time": "2022-02-07T15:01:11.774Z"
   },
   {
    "duration": 324,
    "start_time": "2022-02-07T15:01:11.806Z"
   },
   {
    "duration": 11,
    "start_time": "2022-02-07T15:01:12.132Z"
   },
   {
    "duration": 32,
    "start_time": "2022-02-07T15:01:12.144Z"
   },
   {
    "duration": 13,
    "start_time": "2022-02-07T15:01:12.178Z"
   },
   {
    "duration": 16,
    "start_time": "2022-02-07T15:01:12.193Z"
   },
   {
    "duration": 22,
    "start_time": "2022-02-07T15:01:12.210Z"
   },
   {
    "duration": 23,
    "start_time": "2022-02-07T15:01:12.233Z"
   },
   {
    "duration": 19,
    "start_time": "2022-02-07T15:01:12.257Z"
   },
   {
    "duration": 25,
    "start_time": "2022-02-07T15:01:12.277Z"
   },
   {
    "duration": 362,
    "start_time": "2022-02-07T15:17:57.658Z"
   },
   {
    "duration": 1096,
    "start_time": "2022-02-07T15:18:01.741Z"
   },
   {
    "duration": 121,
    "start_time": "2022-02-07T15:18:02.839Z"
   },
   {
    "duration": 29,
    "start_time": "2022-02-07T15:18:02.961Z"
   },
   {
    "duration": 34,
    "start_time": "2022-02-07T15:18:02.991Z"
   },
   {
    "duration": 10,
    "start_time": "2022-02-07T15:18:03.027Z"
   },
   {
    "duration": 5,
    "start_time": "2022-02-07T15:18:03.039Z"
   },
   {
    "duration": 17,
    "start_time": "2022-02-07T15:18:03.045Z"
   },
   {
    "duration": 16,
    "start_time": "2022-02-07T15:18:03.065Z"
   },
   {
    "duration": 29,
    "start_time": "2022-02-07T15:18:03.084Z"
   },
   {
    "duration": 6,
    "start_time": "2022-02-07T15:18:03.115Z"
   },
   {
    "duration": 8,
    "start_time": "2022-02-07T15:18:03.123Z"
   },
   {
    "duration": 7,
    "start_time": "2022-02-07T15:18:03.133Z"
   },
   {
    "duration": 10,
    "start_time": "2022-02-07T15:18:03.141Z"
   },
   {
    "duration": 5,
    "start_time": "2022-02-07T15:18:03.153Z"
   },
   {
    "duration": 15,
    "start_time": "2022-02-07T15:18:03.159Z"
   },
   {
    "duration": 39,
    "start_time": "2022-02-07T15:18:03.176Z"
   },
   {
    "duration": 7,
    "start_time": "2022-02-07T15:18:03.217Z"
   },
   {
    "duration": 26,
    "start_time": "2022-02-07T15:18:03.225Z"
   },
   {
    "duration": 4,
    "start_time": "2022-02-07T15:18:03.253Z"
   },
   {
    "duration": 12,
    "start_time": "2022-02-07T15:18:03.259Z"
   },
   {
    "duration": 8,
    "start_time": "2022-02-07T15:18:03.273Z"
   },
   {
    "duration": 32,
    "start_time": "2022-02-07T15:18:03.282Z"
   },
   {
    "duration": 10,
    "start_time": "2022-02-07T15:18:03.317Z"
   },
   {
    "duration": 11,
    "start_time": "2022-02-07T15:18:03.328Z"
   },
   {
    "duration": 6,
    "start_time": "2022-02-07T15:18:03.341Z"
   },
   {
    "duration": 6,
    "start_time": "2022-02-07T15:18:03.348Z"
   },
   {
    "duration": 19,
    "start_time": "2022-02-07T15:18:03.356Z"
   },
   {
    "duration": 353,
    "start_time": "2022-02-07T15:18:03.377Z"
   },
   {
    "duration": 382,
    "start_time": "2022-02-07T15:18:03.732Z"
   },
   {
    "duration": 10,
    "start_time": "2022-02-07T15:18:04.116Z"
   },
   {
    "duration": 370,
    "start_time": "2022-02-07T15:18:04.128Z"
   },
   {
    "duration": 446,
    "start_time": "2022-02-07T15:18:04.500Z"
   },
   {
    "duration": 435,
    "start_time": "2022-02-07T15:18:06.970Z"
   },
   {
    "duration": 179,
    "start_time": "2022-02-07T15:18:23.081Z"
   },
   {
    "duration": 453,
    "start_time": "2022-02-07T15:18:24.420Z"
   },
   {
    "duration": 333,
    "start_time": "2022-02-07T15:18:45.525Z"
   },
   {
    "duration": 339,
    "start_time": "2022-02-07T15:18:47.325Z"
   },
   {
    "duration": 371,
    "start_time": "2022-02-07T15:19:00.505Z"
   },
   {
    "duration": 341,
    "start_time": "2022-02-07T15:19:02.076Z"
   },
   {
    "duration": 267,
    "start_time": "2022-02-07T15:19:08.497Z"
   },
   {
    "duration": 8,
    "start_time": "2022-02-07T15:19:15.319Z"
   },
   {
    "duration": 277,
    "start_time": "2022-02-07T15:19:18.337Z"
   },
   {
    "duration": 8,
    "start_time": "2022-02-07T15:19:30.503Z"
   },
   {
    "duration": 362,
    "start_time": "2022-02-07T15:19:31.232Z"
   },
   {
    "duration": 13,
    "start_time": "2022-02-07T15:19:37.280Z"
   },
   {
    "duration": 9,
    "start_time": "2022-02-07T15:19:37.862Z"
   },
   {
    "duration": 274,
    "start_time": "2022-02-07T15:19:38.599Z"
   },
   {
    "duration": 10,
    "start_time": "2022-02-07T15:19:48.673Z"
   },
   {
    "duration": 6,
    "start_time": "2022-02-07T15:19:49.634Z"
   },
   {
    "duration": 5,
    "start_time": "2022-02-07T15:19:54.867Z"
   },
   {
    "duration": 5,
    "start_time": "2022-02-07T15:19:58.259Z"
   },
   {
    "duration": 9,
    "start_time": "2022-02-07T15:20:02.932Z"
   },
   {
    "duration": 5,
    "start_time": "2022-02-07T15:20:03.574Z"
   },
   {
    "duration": 5,
    "start_time": "2022-02-07T15:20:05.166Z"
   },
   {
    "duration": 4,
    "start_time": "2022-02-07T15:20:10.946Z"
   },
   {
    "duration": 1141,
    "start_time": "2022-02-11T11:55:55.174Z"
   },
   {
    "duration": 139,
    "start_time": "2022-02-11T11:55:56.317Z"
   },
   {
    "duration": 34,
    "start_time": "2022-02-11T11:55:56.457Z"
   },
   {
    "duration": 47,
    "start_time": "2022-02-11T11:55:56.494Z"
   },
   {
    "duration": 9,
    "start_time": "2022-02-11T11:55:56.543Z"
   },
   {
    "duration": 5,
    "start_time": "2022-02-11T11:55:56.554Z"
   },
   {
    "duration": 13,
    "start_time": "2022-02-11T11:55:56.560Z"
   },
   {
    "duration": 4,
    "start_time": "2022-02-11T11:55:56.575Z"
   },
   {
    "duration": 11,
    "start_time": "2022-02-11T11:55:56.581Z"
   },
   {
    "duration": 10,
    "start_time": "2022-02-11T11:55:56.594Z"
   },
   {
    "duration": 24,
    "start_time": "2022-02-11T11:55:56.606Z"
   },
   {
    "duration": 6,
    "start_time": "2022-02-11T11:55:56.631Z"
   },
   {
    "duration": 11,
    "start_time": "2022-02-11T11:55:56.639Z"
   },
   {
    "duration": 4,
    "start_time": "2022-02-11T11:55:56.651Z"
   },
   {
    "duration": 15,
    "start_time": "2022-02-11T11:55:56.656Z"
   },
   {
    "duration": 4,
    "start_time": "2022-02-11T11:55:56.672Z"
   },
   {
    "duration": 8,
    "start_time": "2022-02-11T11:55:56.678Z"
   },
   {
    "duration": 42,
    "start_time": "2022-02-11T11:55:56.687Z"
   },
   {
    "duration": 4,
    "start_time": "2022-02-11T11:55:56.731Z"
   },
   {
    "duration": 14,
    "start_time": "2022-02-11T11:55:56.736Z"
   },
   {
    "duration": 7,
    "start_time": "2022-02-11T11:55:56.751Z"
   },
   {
    "duration": 3,
    "start_time": "2022-02-11T11:55:56.760Z"
   },
   {
    "duration": 8,
    "start_time": "2022-02-11T11:55:56.766Z"
   },
   {
    "duration": 8,
    "start_time": "2022-02-11T11:55:56.775Z"
   },
   {
    "duration": 5,
    "start_time": "2022-02-11T11:55:56.784Z"
   },
   {
    "duration": 6,
    "start_time": "2022-02-11T11:55:56.790Z"
   },
   {
    "duration": 15,
    "start_time": "2022-02-11T11:55:56.827Z"
   },
   {
    "duration": 267,
    "start_time": "2022-02-11T11:55:56.844Z"
   },
   {
    "duration": 305,
    "start_time": "2022-02-11T11:55:57.113Z"
   },
   {
    "duration": 14,
    "start_time": "2022-02-11T11:55:57.420Z"
   },
   {
    "duration": 297,
    "start_time": "2022-02-11T11:55:57.436Z"
   },
   {
    "duration": 414,
    "start_time": "2022-02-11T11:55:57.734Z"
   },
   {
    "duration": 394,
    "start_time": "2022-02-11T11:55:58.150Z"
   },
   {
    "duration": 170,
    "start_time": "2022-02-11T11:55:58.545Z"
   },
   {
    "duration": 417,
    "start_time": "2022-02-11T11:55:58.717Z"
   },
   {
    "duration": 308,
    "start_time": "2022-02-11T11:55:59.136Z"
   },
   {
    "duration": 292,
    "start_time": "2022-02-11T11:55:59.446Z"
   },
   {
    "duration": 318,
    "start_time": "2022-02-11T11:55:59.739Z"
   },
   {
    "duration": 300,
    "start_time": "2022-02-11T11:56:00.059Z"
   },
   {
    "duration": 232,
    "start_time": "2022-02-11T11:56:00.361Z"
   },
   {
    "duration": 8,
    "start_time": "2022-02-11T11:56:00.595Z"
   },
   {
    "duration": 253,
    "start_time": "2022-02-11T11:56:00.604Z"
   },
   {
    "duration": 7,
    "start_time": "2022-02-11T11:56:00.859Z"
   },
   {
    "duration": 331,
    "start_time": "2022-02-11T11:56:00.867Z"
   },
   {
    "duration": 28,
    "start_time": "2022-02-11T11:56:01.200Z"
   },
   {
    "duration": 18,
    "start_time": "2022-02-11T11:56:01.230Z"
   },
   {
    "duration": 437,
    "start_time": "2022-02-11T11:56:01.249Z"
   },
   {
    "duration": 8,
    "start_time": "2022-02-11T11:56:01.688Z"
   },
   {
    "duration": 14,
    "start_time": "2022-02-11T11:56:01.697Z"
   },
   {
    "duration": 16,
    "start_time": "2022-02-11T11:56:01.712Z"
   },
   {
    "duration": 9,
    "start_time": "2022-02-11T11:56:01.729Z"
   },
   {
    "duration": 13,
    "start_time": "2022-02-11T11:56:01.739Z"
   },
   {
    "duration": 4,
    "start_time": "2022-02-11T11:56:01.754Z"
   },
   {
    "duration": 6,
    "start_time": "2022-02-11T11:56:01.759Z"
   },
   {
    "duration": 10,
    "start_time": "2022-02-11T11:56:01.767Z"
   },
   {
    "duration": 21,
    "start_time": "2022-02-11T11:58:29.533Z"
   },
   {
    "duration": 15,
    "start_time": "2022-02-11T11:59:02.332Z"
   },
   {
    "duration": 15,
    "start_time": "2022-02-11T12:03:50.155Z"
   },
   {
    "duration": 5,
    "start_time": "2022-02-11T12:04:06.821Z"
   },
   {
    "duration": 288,
    "start_time": "2022-02-11T12:04:07.676Z"
   },
   {
    "duration": 2272,
    "start_time": "2022-02-11T12:05:09.442Z"
   },
   {
    "duration": 445,
    "start_time": "2022-02-11T12:05:31.649Z"
   },
   {
    "duration": 16,
    "start_time": "2022-02-11T12:05:35.134Z"
   },
   {
    "duration": 315,
    "start_time": "2022-02-11T12:05:35.693Z"
   },
   {
    "duration": 3,
    "start_time": "2022-02-11T12:05:39.596Z"
   },
   {
    "duration": 135,
    "start_time": "2022-02-11T12:05:39.603Z"
   },
   {
    "duration": 26,
    "start_time": "2022-02-11T12:05:39.739Z"
   },
   {
    "duration": 32,
    "start_time": "2022-02-11T12:05:39.767Z"
   },
   {
    "duration": 38,
    "start_time": "2022-02-11T12:05:39.801Z"
   },
   {
    "duration": 12,
    "start_time": "2022-02-11T12:05:39.840Z"
   },
   {
    "duration": 16,
    "start_time": "2022-02-11T12:05:39.854Z"
   },
   {
    "duration": 9,
    "start_time": "2022-02-11T12:05:39.871Z"
   },
   {
    "duration": 12,
    "start_time": "2022-02-11T12:05:39.882Z"
   },
   {
    "duration": 8,
    "start_time": "2022-02-11T12:05:39.895Z"
   },
   {
    "duration": 36,
    "start_time": "2022-02-11T12:05:39.904Z"
   },
   {
    "duration": 16,
    "start_time": "2022-02-11T12:05:39.942Z"
   },
   {
    "duration": 11,
    "start_time": "2022-02-11T12:05:39.959Z"
   },
   {
    "duration": 5,
    "start_time": "2022-02-11T12:05:39.972Z"
   },
   {
    "duration": 16,
    "start_time": "2022-02-11T12:05:39.979Z"
   },
   {
    "duration": 8,
    "start_time": "2022-02-11T12:05:39.996Z"
   },
   {
    "duration": 22,
    "start_time": "2022-02-11T12:05:40.006Z"
   },
   {
    "duration": 21,
    "start_time": "2022-02-11T12:05:40.030Z"
   },
   {
    "duration": 4,
    "start_time": "2022-02-11T12:05:40.053Z"
   },
   {
    "duration": 17,
    "start_time": "2022-02-11T12:05:40.059Z"
   },
   {
    "duration": 8,
    "start_time": "2022-02-11T12:05:40.077Z"
   },
   {
    "duration": 4,
    "start_time": "2022-02-11T12:05:40.087Z"
   },
   {
    "duration": 37,
    "start_time": "2022-02-11T12:05:40.092Z"
   },
   {
    "duration": 10,
    "start_time": "2022-02-11T12:05:40.132Z"
   },
   {
    "duration": 7,
    "start_time": "2022-02-11T12:05:40.144Z"
   },
   {
    "duration": 5,
    "start_time": "2022-02-11T12:05:40.152Z"
   },
   {
    "duration": 22,
    "start_time": "2022-02-11T12:05:40.159Z"
   },
   {
    "duration": 315,
    "start_time": "2022-02-11T12:05:40.183Z"
   },
   {
    "duration": 476,
    "start_time": "2022-02-11T12:05:40.500Z"
   },
   {
    "duration": 8,
    "start_time": "2022-02-11T12:05:40.978Z"
   },
   {
    "duration": 19,
    "start_time": "2022-02-11T12:05:40.987Z"
   },
   {
    "duration": 14,
    "start_time": "2022-02-11T12:05:42.229Z"
   },
   {
    "duration": 5,
    "start_time": "2022-02-11T12:05:42.767Z"
   },
   {
    "duration": 331,
    "start_time": "2022-02-11T12:05:43.899Z"
   },
   {
    "duration": 349,
    "start_time": "2022-02-11T12:06:42.473Z"
   },
   {
    "duration": 375,
    "start_time": "2022-02-11T12:08:39.583Z"
   },
   {
    "duration": 150,
    "start_time": "2022-02-11T12:10:44.401Z"
   },
   {
    "duration": 372,
    "start_time": "2022-02-11T12:10:45.481Z"
   },
   {
    "duration": 336,
    "start_time": "2022-02-11T12:13:46.796Z"
   },
   {
    "duration": 342,
    "start_time": "2022-02-11T12:13:51.714Z"
   },
   {
    "duration": 276,
    "start_time": "2022-02-11T12:14:48.219Z"
   },
   {
    "duration": 281,
    "start_time": "2022-02-11T12:15:06.678Z"
   },
   {
    "duration": 314,
    "start_time": "2022-02-11T12:15:08.835Z"
   },
   {
    "duration": 218,
    "start_time": "2022-02-11T12:15:22.312Z"
   },
   {
    "duration": 8,
    "start_time": "2022-02-11T12:15:31.708Z"
   },
   {
    "duration": 237,
    "start_time": "2022-02-11T12:15:33.981Z"
   },
   {
    "duration": 7,
    "start_time": "2022-02-11T12:18:00.973Z"
   },
   {
    "duration": 330,
    "start_time": "2022-02-11T12:18:01.900Z"
   },
   {
    "duration": 12,
    "start_time": "2022-02-11T12:22:38.772Z"
   },
   {
    "duration": 8,
    "start_time": "2022-02-11T12:22:42.463Z"
   },
   {
    "duration": 243,
    "start_time": "2022-02-11T12:22:44.169Z"
   },
   {
    "duration": 8,
    "start_time": "2022-02-11T12:23:01.416Z"
   },
   {
    "duration": 5,
    "start_time": "2022-02-11T12:23:01.973Z"
   },
   {
    "duration": 5,
    "start_time": "2022-02-11T12:23:11.579Z"
   },
   {
    "duration": 4,
    "start_time": "2022-02-11T12:23:12.479Z"
   },
   {
    "duration": 12,
    "start_time": "2022-02-11T12:23:21.583Z"
   },
   {
    "duration": 5,
    "start_time": "2022-02-11T12:23:22.353Z"
   },
   {
    "duration": 4,
    "start_time": "2022-02-11T12:23:23.527Z"
   },
   {
    "duration": 5,
    "start_time": "2022-02-11T12:23:27.625Z"
   },
   {
    "duration": 3,
    "start_time": "2022-02-11T12:30:23.780Z"
   },
   {
    "duration": 158,
    "start_time": "2022-02-11T12:30:23.787Z"
   },
   {
    "duration": 25,
    "start_time": "2022-02-11T12:30:23.947Z"
   },
   {
    "duration": 31,
    "start_time": "2022-02-11T12:30:23.973Z"
   },
   {
    "duration": 29,
    "start_time": "2022-02-11T12:30:24.006Z"
   },
   {
    "duration": 11,
    "start_time": "2022-02-11T12:30:24.037Z"
   },
   {
    "duration": 17,
    "start_time": "2022-02-11T12:30:24.050Z"
   },
   {
    "duration": 9,
    "start_time": "2022-02-11T12:30:24.069Z"
   },
   {
    "duration": 15,
    "start_time": "2022-02-11T12:30:24.081Z"
   },
   {
    "duration": 29,
    "start_time": "2022-02-11T12:30:24.098Z"
   },
   {
    "duration": 11,
    "start_time": "2022-02-11T12:30:24.129Z"
   },
   {
    "duration": 7,
    "start_time": "2022-02-11T12:30:24.142Z"
   },
   {
    "duration": 15,
    "start_time": "2022-02-11T12:30:24.151Z"
   },
   {
    "duration": 19,
    "start_time": "2022-02-11T12:30:24.167Z"
   },
   {
    "duration": 30,
    "start_time": "2022-02-11T12:30:24.188Z"
   },
   {
    "duration": 7,
    "start_time": "2022-02-11T12:30:24.220Z"
   },
   {
    "duration": 25,
    "start_time": "2022-02-11T12:30:24.229Z"
   },
   {
    "duration": 30,
    "start_time": "2022-02-11T12:30:24.256Z"
   },
   {
    "duration": 4,
    "start_time": "2022-02-11T12:30:24.288Z"
   },
   {
    "duration": 20,
    "start_time": "2022-02-11T12:30:24.293Z"
   },
   {
    "duration": 15,
    "start_time": "2022-02-11T12:30:24.314Z"
   },
   {
    "duration": 8,
    "start_time": "2022-02-11T12:30:24.331Z"
   },
   {
    "duration": 24,
    "start_time": "2022-02-11T12:30:24.341Z"
   },
   {
    "duration": 11,
    "start_time": "2022-02-11T12:30:24.370Z"
   },
   {
    "duration": 8,
    "start_time": "2022-02-11T12:30:24.383Z"
   },
   {
    "duration": 17,
    "start_time": "2022-02-11T12:30:24.393Z"
   },
   {
    "duration": 17,
    "start_time": "2022-02-11T12:30:24.412Z"
   },
   {
    "duration": 286,
    "start_time": "2022-02-11T12:30:24.430Z"
   },
   {
    "duration": 319,
    "start_time": "2022-02-11T12:30:24.718Z"
   },
   {
    "duration": 9,
    "start_time": "2022-02-11T12:30:25.038Z"
   },
   {
    "duration": 15,
    "start_time": "2022-02-11T12:30:25.048Z"
   },
   {
    "duration": 4,
    "start_time": "2022-02-11T12:30:25.065Z"
   },
   {
    "duration": 319,
    "start_time": "2022-02-11T12:30:25.071Z"
   },
   {
    "duration": 371,
    "start_time": "2022-02-11T12:30:25.392Z"
   },
   {
    "duration": 404,
    "start_time": "2022-02-11T12:30:25.765Z"
   },
   {
    "duration": 193,
    "start_time": "2022-02-11T12:30:26.171Z"
   },
   {
    "duration": 479,
    "start_time": "2022-02-11T12:30:26.366Z"
   },
   {
    "duration": 312,
    "start_time": "2022-02-11T12:30:26.846Z"
   },
   {
    "duration": 293,
    "start_time": "2022-02-11T12:30:27.159Z"
   },
   {
    "duration": 342,
    "start_time": "2022-02-11T12:30:27.454Z"
   },
   {
    "duration": 349,
    "start_time": "2022-02-11T12:30:27.797Z"
   },
   {
    "duration": 228,
    "start_time": "2022-02-11T12:30:28.147Z"
   },
   {
    "duration": 8,
    "start_time": "2022-02-11T12:30:28.377Z"
   },
   {
    "duration": 245,
    "start_time": "2022-02-11T12:30:28.386Z"
   },
   {
    "duration": 10,
    "start_time": "2022-02-11T12:30:28.633Z"
   },
   {
    "duration": 336,
    "start_time": "2022-02-11T12:30:28.645Z"
   },
   {
    "duration": 13,
    "start_time": "2022-02-11T12:30:28.983Z"
   },
   {
    "duration": 29,
    "start_time": "2022-02-11T12:30:28.998Z"
   },
   {
    "duration": 241,
    "start_time": "2022-02-11T12:30:29.029Z"
   },
   {
    "duration": 10,
    "start_time": "2022-02-11T12:30:29.272Z"
   },
   {
    "duration": 14,
    "start_time": "2022-02-11T12:30:29.284Z"
   },
   {
    "duration": 6,
    "start_time": "2022-02-11T12:30:29.300Z"
   },
   {
    "duration": 19,
    "start_time": "2022-02-11T12:30:29.308Z"
   },
   {
    "duration": 8,
    "start_time": "2022-02-11T12:30:29.328Z"
   },
   {
    "duration": 6,
    "start_time": "2022-02-11T12:30:29.337Z"
   },
   {
    "duration": 5,
    "start_time": "2022-02-11T12:30:29.344Z"
   },
   {
    "duration": 10,
    "start_time": "2022-02-11T12:30:29.350Z"
   },
   {
    "duration": 3,
    "start_time": "2022-02-11T12:30:33.130Z"
   },
   {
    "duration": 137,
    "start_time": "2022-02-11T12:30:34.446Z"
   },
   {
    "duration": 25,
    "start_time": "2022-02-11T12:30:43.112Z"
   },
   {
    "duration": 31,
    "start_time": "2022-02-11T12:30:43.634Z"
   },
   {
    "duration": 11,
    "start_time": "2022-02-11T12:30:44.139Z"
   },
   {
    "duration": 2,
    "start_time": "2022-02-11T12:30:47.674Z"
   },
   {
    "duration": 13,
    "start_time": "2022-02-11T12:30:48.045Z"
   },
   {
    "duration": 6,
    "start_time": "2022-02-11T12:30:48.904Z"
   },
   {
    "duration": 13,
    "start_time": "2022-02-11T12:30:51.355Z"
   },
   {
    "duration": 272,
    "start_time": "2022-02-11T12:31:00.528Z"
   },
   {
    "duration": 293,
    "start_time": "2022-02-11T12:31:05.239Z"
   },
   {
    "duration": 3,
    "start_time": "2022-02-11T12:31:12.125Z"
   },
   {
    "duration": 132,
    "start_time": "2022-02-11T12:31:12.132Z"
   },
   {
    "duration": 24,
    "start_time": "2022-02-11T12:31:12.265Z"
   },
   {
    "duration": 28,
    "start_time": "2022-02-11T12:31:12.291Z"
   },
   {
    "duration": 9,
    "start_time": "2022-02-11T12:31:12.327Z"
   },
   {
    "duration": 3,
    "start_time": "2022-02-11T12:31:12.338Z"
   },
   {
    "duration": 18,
    "start_time": "2022-02-11T12:31:12.342Z"
   },
   {
    "duration": 5,
    "start_time": "2022-02-11T12:31:12.361Z"
   },
   {
    "duration": 11,
    "start_time": "2022-02-11T12:31:12.368Z"
   },
   {
    "duration": 7,
    "start_time": "2022-02-11T12:31:12.381Z"
   },
   {
    "duration": 8,
    "start_time": "2022-02-11T12:31:12.390Z"
   },
   {
    "duration": 6,
    "start_time": "2022-02-11T12:31:12.427Z"
   },
   {
    "duration": 6,
    "start_time": "2022-02-11T12:31:12.434Z"
   },
   {
    "duration": 4,
    "start_time": "2022-02-11T12:31:12.441Z"
   },
   {
    "duration": 15,
    "start_time": "2022-02-11T12:31:12.447Z"
   },
   {
    "duration": 5,
    "start_time": "2022-02-11T12:31:12.463Z"
   },
   {
    "duration": 7,
    "start_time": "2022-02-11T12:31:12.469Z"
   },
   {
    "duration": 54,
    "start_time": "2022-02-11T12:31:12.478Z"
   },
   {
    "duration": 5,
    "start_time": "2022-02-11T12:31:12.534Z"
   },
   {
    "duration": 14,
    "start_time": "2022-02-11T12:31:12.541Z"
   },
   {
    "duration": 9,
    "start_time": "2022-02-11T12:31:12.557Z"
   },
   {
    "duration": 4,
    "start_time": "2022-02-11T12:31:12.567Z"
   },
   {
    "duration": 8,
    "start_time": "2022-02-11T12:31:12.573Z"
   },
   {
    "duration": 45,
    "start_time": "2022-02-11T12:31:12.585Z"
   },
   {
    "duration": 6,
    "start_time": "2022-02-11T12:31:12.631Z"
   },
   {
    "duration": 6,
    "start_time": "2022-02-11T12:31:12.639Z"
   },
   {
    "duration": 16,
    "start_time": "2022-02-11T12:31:12.647Z"
   },
   {
    "duration": 273,
    "start_time": "2022-02-11T12:31:12.664Z"
   },
   {
    "duration": 307,
    "start_time": "2022-02-11T12:31:15.216Z"
   },
   {
    "duration": 9,
    "start_time": "2022-02-11T12:31:18.793Z"
   },
   {
    "duration": 15,
    "start_time": "2022-02-11T12:31:34.054Z"
   },
   {
    "duration": 5,
    "start_time": "2022-02-11T12:31:35.525Z"
   },
   {
    "duration": 289,
    "start_time": "2022-02-11T12:31:37.381Z"
   },
   {
    "duration": 375,
    "start_time": "2022-02-11T12:31:56.558Z"
   },
   {
    "duration": 313,
    "start_time": "2022-02-11T12:32:20.480Z"
   },
   {
    "duration": 249,
    "start_time": "2022-02-11T12:32:33.416Z"
   },
   {
    "duration": 383,
    "start_time": "2022-02-11T12:32:35.217Z"
   },
   {
    "duration": 1033,
    "start_time": "2022-02-12T08:28:08.131Z"
   },
   {
    "duration": 135,
    "start_time": "2022-02-12T08:28:09.165Z"
   },
   {
    "duration": 24,
    "start_time": "2022-02-12T08:28:09.302Z"
   },
   {
    "duration": 44,
    "start_time": "2022-02-12T08:28:09.328Z"
   },
   {
    "duration": 10,
    "start_time": "2022-02-12T08:28:09.373Z"
   },
   {
    "duration": 2,
    "start_time": "2022-02-12T08:28:09.385Z"
   },
   {
    "duration": 12,
    "start_time": "2022-02-12T08:28:09.389Z"
   },
   {
    "duration": 4,
    "start_time": "2022-02-12T08:28:09.404Z"
   },
   {
    "duration": 12,
    "start_time": "2022-02-12T08:28:09.410Z"
   },
   {
    "duration": 6,
    "start_time": "2022-02-12T08:28:09.423Z"
   },
   {
    "duration": 7,
    "start_time": "2022-02-12T08:28:09.431Z"
   },
   {
    "duration": 37,
    "start_time": "2022-02-12T08:28:09.440Z"
   },
   {
    "duration": 8,
    "start_time": "2022-02-12T08:28:09.479Z"
   },
   {
    "duration": 4,
    "start_time": "2022-02-12T08:28:09.488Z"
   },
   {
    "duration": 17,
    "start_time": "2022-02-12T08:28:09.493Z"
   },
   {
    "duration": 8,
    "start_time": "2022-02-12T08:28:09.512Z"
   },
   {
    "duration": 11,
    "start_time": "2022-02-12T08:28:09.521Z"
   },
   {
    "duration": 42,
    "start_time": "2022-02-12T08:28:09.533Z"
   },
   {
    "duration": 7,
    "start_time": "2022-02-12T08:28:09.577Z"
   },
   {
    "duration": 15,
    "start_time": "2022-02-12T08:28:09.585Z"
   },
   {
    "duration": 10,
    "start_time": "2022-02-12T08:28:09.602Z"
   },
   {
    "duration": 9,
    "start_time": "2022-02-12T08:28:09.613Z"
   },
   {
    "duration": 10,
    "start_time": "2022-02-12T08:28:09.625Z"
   },
   {
    "duration": 10,
    "start_time": "2022-02-12T08:28:09.637Z"
   },
   {
    "duration": 16,
    "start_time": "2022-02-12T08:28:09.648Z"
   },
   {
    "duration": 9,
    "start_time": "2022-02-12T08:28:09.665Z"
   },
   {
    "duration": 23,
    "start_time": "2022-02-12T08:28:09.675Z"
   },
   {
    "duration": 278,
    "start_time": "2022-02-12T08:28:09.700Z"
   },
   {
    "duration": 313,
    "start_time": "2022-02-12T08:28:09.979Z"
   },
   {
    "duration": 7,
    "start_time": "2022-02-12T08:28:10.294Z"
   },
   {
    "duration": 14,
    "start_time": "2022-02-12T08:28:10.303Z"
   },
   {
    "duration": 5,
    "start_time": "2022-02-12T08:28:10.319Z"
   },
   {
    "duration": 313,
    "start_time": "2022-02-12T08:28:10.325Z"
   },
   {
    "duration": 368,
    "start_time": "2022-02-12T08:28:10.640Z"
   },
   {
    "duration": 370,
    "start_time": "2022-02-12T08:28:11.010Z"
   },
   {
    "duration": 148,
    "start_time": "2022-02-12T08:28:11.382Z"
   },
   {
    "duration": 392,
    "start_time": "2022-02-12T08:28:11.531Z"
   },
   {
    "duration": 303,
    "start_time": "2022-02-12T08:28:11.925Z"
   },
   {
    "duration": 310,
    "start_time": "2022-02-12T08:28:12.229Z"
   },
   {
    "duration": -82,
    "start_time": "2022-02-12T08:28:12.623Z"
   },
   {
    "duration": -86,
    "start_time": "2022-02-12T08:28:12.628Z"
   },
   {
    "duration": -90,
    "start_time": "2022-02-12T08:28:12.633Z"
   },
   {
    "duration": -94,
    "start_time": "2022-02-12T08:28:12.638Z"
   },
   {
    "duration": -99,
    "start_time": "2022-02-12T08:28:12.643Z"
   },
   {
    "duration": -102,
    "start_time": "2022-02-12T08:28:12.647Z"
   },
   {
    "duration": -105,
    "start_time": "2022-02-12T08:28:12.651Z"
   },
   {
    "duration": -109,
    "start_time": "2022-02-12T08:28:12.656Z"
   },
   {
    "duration": -114,
    "start_time": "2022-02-12T08:28:12.661Z"
   },
   {
    "duration": -124,
    "start_time": "2022-02-12T08:28:12.672Z"
   },
   {
    "duration": -128,
    "start_time": "2022-02-12T08:28:12.677Z"
   },
   {
    "duration": -134,
    "start_time": "2022-02-12T08:28:12.683Z"
   },
   {
    "duration": -138,
    "start_time": "2022-02-12T08:28:12.688Z"
   },
   {
    "duration": -142,
    "start_time": "2022-02-12T08:28:12.693Z"
   },
   {
    "duration": -145,
    "start_time": "2022-02-12T08:28:12.697Z"
   },
   {
    "duration": -149,
    "start_time": "2022-02-12T08:28:12.702Z"
   },
   {
    "duration": -153,
    "start_time": "2022-02-12T08:28:12.707Z"
   },
   {
    "duration": -157,
    "start_time": "2022-02-12T08:28:12.712Z"
   },
   {
    "duration": 387,
    "start_time": "2022-02-12T10:57:32.077Z"
   },
   {
    "duration": 1530,
    "start_time": "2022-02-12T10:57:36.126Z"
   },
   {
    "duration": 173,
    "start_time": "2022-02-12T10:57:37.659Z"
   },
   {
    "duration": 45,
    "start_time": "2022-02-12T10:57:37.836Z"
   },
   {
    "duration": 51,
    "start_time": "2022-02-12T10:57:37.884Z"
   },
   {
    "duration": 36,
    "start_time": "2022-02-12T10:57:37.938Z"
   },
   {
    "duration": 4,
    "start_time": "2022-02-12T10:57:37.976Z"
   },
   {
    "duration": 22,
    "start_time": "2022-02-12T10:57:37.983Z"
   },
   {
    "duration": 8,
    "start_time": "2022-02-12T10:57:38.007Z"
   },
   {
    "duration": 60,
    "start_time": "2022-02-12T10:57:38.019Z"
   },
   {
    "duration": 10,
    "start_time": "2022-02-12T10:57:38.082Z"
   },
   {
    "duration": 14,
    "start_time": "2022-02-12T10:57:38.094Z"
   },
   {
    "duration": 10,
    "start_time": "2022-02-12T10:57:38.111Z"
   },
   {
    "duration": 49,
    "start_time": "2022-02-12T10:57:38.123Z"
   },
   {
    "duration": 5,
    "start_time": "2022-02-12T10:57:38.175Z"
   },
   {
    "duration": 21,
    "start_time": "2022-02-12T10:57:38.182Z"
   },
   {
    "duration": 6,
    "start_time": "2022-02-12T10:57:38.206Z"
   },
   {
    "duration": 13,
    "start_time": "2022-02-12T10:57:38.214Z"
   },
   {
    "duration": 67,
    "start_time": "2022-02-12T10:57:38.229Z"
   },
   {
    "duration": 12,
    "start_time": "2022-02-12T10:57:38.299Z"
   },
   {
    "duration": 22,
    "start_time": "2022-02-12T10:57:38.314Z"
   },
   {
    "duration": 41,
    "start_time": "2022-02-12T10:57:38.338Z"
   },
   {
    "duration": 5,
    "start_time": "2022-02-12T10:57:38.381Z"
   },
   {
    "duration": 14,
    "start_time": "2022-02-12T10:57:38.389Z"
   },
   {
    "duration": 20,
    "start_time": "2022-02-12T10:57:38.406Z"
   },
   {
    "duration": 42,
    "start_time": "2022-02-12T10:57:38.429Z"
   },
   {
    "duration": 8,
    "start_time": "2022-02-12T10:57:38.473Z"
   },
   {
    "duration": 31,
    "start_time": "2022-02-12T10:57:38.486Z"
   },
   {
    "duration": 546,
    "start_time": "2022-02-12T10:57:38.520Z"
   },
   {
    "duration": 593,
    "start_time": "2022-02-12T10:57:39.069Z"
   },
   {
    "duration": 14,
    "start_time": "2022-02-12T10:57:39.665Z"
   },
   {
    "duration": 27,
    "start_time": "2022-02-12T10:57:39.681Z"
   },
   {
    "duration": 8,
    "start_time": "2022-02-12T10:57:39.711Z"
   },
   {
    "duration": 574,
    "start_time": "2022-02-12T10:57:39.722Z"
   },
   {
    "duration": 679,
    "start_time": "2022-02-12T10:57:40.299Z"
   },
   {
    "duration": 649,
    "start_time": "2022-02-12T10:57:40.980Z"
   },
   {
    "duration": 323,
    "start_time": "2022-02-12T10:57:41.632Z"
   },
   {
    "duration": 747,
    "start_time": "2022-02-12T10:57:41.957Z"
   },
   {
    "duration": 668,
    "start_time": "2022-02-12T10:57:42.706Z"
   },
   {
    "duration": 458,
    "start_time": "2022-02-12T10:57:46.089Z"
   },
   {
    "duration": 467,
    "start_time": "2022-02-12T10:57:47.595Z"
   },
   {
    "duration": 482,
    "start_time": "2022-02-12T10:57:57.108Z"
   },
   {
    "duration": 507,
    "start_time": "2022-02-12T10:57:57.934Z"
   },
   {
    "duration": 408,
    "start_time": "2022-02-12T10:58:07.718Z"
   },
   {
    "duration": 15,
    "start_time": "2022-02-12T10:58:13.936Z"
   },
   {
    "duration": 436,
    "start_time": "2022-02-12T10:58:18.089Z"
   },
   {
    "duration": 13,
    "start_time": "2022-02-12T10:58:22.828Z"
   },
   {
    "duration": 543,
    "start_time": "2022-02-12T10:58:23.249Z"
   },
   {
    "duration": 20,
    "start_time": "2022-02-12T10:58:26.739Z"
   },
   {
    "duration": 13,
    "start_time": "2022-02-12T10:58:27.281Z"
   },
   {
    "duration": 464,
    "start_time": "2022-02-12T10:58:27.925Z"
   },
   {
    "duration": 15,
    "start_time": "2022-02-12T10:59:20.002Z"
   },
   {
    "duration": 9,
    "start_time": "2022-02-12T10:59:20.541Z"
   },
   {
    "duration": 6,
    "start_time": "2022-02-12T10:59:21.414Z"
   },
   {
    "duration": 7,
    "start_time": "2022-02-12T10:59:22.651Z"
   },
   {
    "duration": 14,
    "start_time": "2022-02-12T10:59:33.317Z"
   },
   {
    "duration": 7,
    "start_time": "2022-02-12T10:59:33.846Z"
   },
   {
    "duration": 6,
    "start_time": "2022-02-12T10:59:34.412Z"
   },
   {
    "duration": 7,
    "start_time": "2022-02-12T10:59:35.004Z"
   }
  ],
  "kernelspec": {
   "display_name": "Python 3 (ipykernel)",
   "language": "python",
   "name": "python3"
  },
  "language_info": {
   "codemirror_mode": {
    "name": "ipython",
    "version": 3
   },
   "file_extension": ".py",
   "mimetype": "text/x-python",
   "name": "python",
   "nbconvert_exporter": "python",
   "pygments_lexer": "ipython3",
   "version": "3.7.8"
  },
  "toc": {
   "base_numbering": 1,
   "nav_menu": {},
   "number_sections": true,
   "sideBar": true,
   "skip_h1_title": true,
   "title_cell": "Содержание",
   "title_sidebar": "Содержание",
   "toc_cell": true,
   "toc_position": {
    "height": "calc(100% - 180px)",
    "left": "10px",
    "top": "150px",
    "width": "294px"
   },
   "toc_section_display": true,
   "toc_window_display": true
  }
 },
 "nbformat": 4,
 "nbformat_minor": 5
}
