{
 "cells": [
  {
   "cell_type": "markdown",
   "metadata": {
    "id": "E0vqbgi9ay0H"
   },
   "source": [
    "# Яндекс.Музыка"
   ]
  },
  {
   "cell_type": "markdown",
   "metadata": {
    "id": "VUC88oWjTJw2"
   },
   "source": [
    "Сравнение Москвы и Петербурга окружено мифами. Например:\n",
    " * Москва — мегаполис, подчинённый жёсткому ритму рабочей недели;\n",
    " * Петербург — культурная столица, со своими вкусами.\n",
    "\n",
    "На данных Яндекс.Музыки мы сравним поведение пользователей двух столиц.\n",
    "\n",
    "**Цель исследования** — проверить три гипотезы:\n",
    "1. Активность пользователей зависит от дня недели. Причём в Москве и Петербурге это проявляется по-разному.\n",
    "2. В понедельник утром в Москве преобладают одни жанры, а в Петербурге — другие. Так же и вечером пятницы преобладают разные жанры — в зависимости от города. \n",
    "3. Москва и Петербург предпочитают разные жанры музыки. В Москве чаще слушают поп-музыку, в Петербурге — русский рэп.\n",
    "\n",
    "**Ход исследования**\n",
    "\n",
    "О качестве данных ничего не известно. Поэтому перед проверкой гипотез понадобится обзор данных. \n",
    "\n",
    "Мы проверим данные на ошибки и оценим их влияние на исследование. Затем, на этапе предобработки мы поищем возможность исправить самые критичные ошибки данных.\n",
    " \n",
    "Таким образом, исследование пройдёт в три этапа:\n",
    " 1. Обзор данных.\n",
    " 2. Предобработка данных.\n",
    " 3. Проверка гипотез."
   ]
  },
  {
   "cell_type": "markdown",
   "metadata": {
    "toc": true
   },
   "source": [
    "<h1>Содержание<span class=\"tocSkip\"></span></h1>\n",
    "<div class=\"toc\"><ul class=\"toc-item\"><li><span><a href=\"#Обзор-данных\" data-toc-modified-id=\"Обзор-данных-1\"><span class=\"toc-item-num\">1&nbsp;&nbsp;</span>Обзор данных</a></span></li><li><span><a href=\"#Предобработка-данных\" data-toc-modified-id=\"Предобработка-данных-2\"><span class=\"toc-item-num\">2&nbsp;&nbsp;</span>Предобработка данных</a></span><ul class=\"toc-item\"><li><span><a href=\"#Стиль-заголовков\" data-toc-modified-id=\"Стиль-заголовков-2.1\"><span class=\"toc-item-num\">2.1&nbsp;&nbsp;</span>Стиль заголовков</a></span></li><li><span><a href=\"#Пропуски-значений\" data-toc-modified-id=\"Пропуски-значений-2.2\"><span class=\"toc-item-num\">2.2&nbsp;&nbsp;</span>Пропуски значений</a></span></li><li><span><a href=\"#Дубликаты\" data-toc-modified-id=\"Дубликаты-2.3\"><span class=\"toc-item-num\">2.3&nbsp;&nbsp;</span>Дубликаты</a></span></li></ul></li><li><span><a href=\"#Проверка-гипотез\" data-toc-modified-id=\"Проверка-гипотез-3\"><span class=\"toc-item-num\">3&nbsp;&nbsp;</span>Проверка гипотез</a></span><ul class=\"toc-item\"><li><span><a href=\"#Сравнение-поведения-пользователей-двух-столиц\" data-toc-modified-id=\"Сравнение-поведения-пользователей-двух-столиц-3.1\"><span class=\"toc-item-num\">3.1&nbsp;&nbsp;</span>Сравнение поведения пользователей двух столиц</a></span></li><li><span><a href=\"#Музыка-в-начале-и-в-конце-недели\" data-toc-modified-id=\"Музыка-в-начале-и-в-конце-недели-3.2\"><span class=\"toc-item-num\">3.2&nbsp;&nbsp;</span>Музыка в начале и в конце недели</a></span></li><li><span><a href=\"#Жанровые-предпочтения-в-Москве-и-Петербурге\" data-toc-modified-id=\"Жанровые-предпочтения-в-Москве-и-Петербурге-3.3\"><span class=\"toc-item-num\">3.3&nbsp;&nbsp;</span>Жанровые предпочтения в Москве и Петербурге</a></span></li></ul></li><li><span><a href=\"#Итоги-исследования\" data-toc-modified-id=\"Итоги-исследования-4\"><span class=\"toc-item-num\">4&nbsp;&nbsp;</span>Итоги исследования</a></span></li></ul></div>"
   ]
  },
  {
   "cell_type": "markdown",
   "metadata": {
    "id": "Ml1hmfXC_Zcs"
   },
   "source": [
    "## Обзор данных\n",
    "Составим первое представление о данных Яндекс.Музыки."
   ]
  },
  {
   "cell_type": "code",
   "execution_count": 1,
   "metadata": {
    "id": "AXN7PHPN_Zcs"
   },
   "outputs": [],
   "source": [
    "# импорт библиотек\n",
    "import pandas as pd "
   ]
  },
  {
   "cell_type": "code",
   "execution_count": 2,
   "metadata": {
    "id": "fFVu7vqh_Zct"
   },
   "outputs": [],
   "source": [
    "# чтение файла с данными\n",
    "df = pd.read_csv('/datasets/yandex_music_project.csv')"
   ]
  },
  {
   "cell_type": "code",
   "execution_count": 3,
   "metadata": {
    "id": "oWTVX3gW_Zct"
   },
   "outputs": [
    {
     "data": {
      "text/html": [
       "<div>\n",
       "<style scoped>\n",
       "    .dataframe tbody tr th:only-of-type {\n",
       "        vertical-align: middle;\n",
       "    }\n",
       "\n",
       "    .dataframe tbody tr th {\n",
       "        vertical-align: top;\n",
       "    }\n",
       "\n",
       "    .dataframe thead th {\n",
       "        text-align: right;\n",
       "    }\n",
       "</style>\n",
       "<table border=\"1\" class=\"dataframe\">\n",
       "  <thead>\n",
       "    <tr style=\"text-align: right;\">\n",
       "      <th></th>\n",
       "      <th>userID</th>\n",
       "      <th>Track</th>\n",
       "      <th>artist</th>\n",
       "      <th>genre</th>\n",
       "      <th>City</th>\n",
       "      <th>time</th>\n",
       "      <th>Day</th>\n",
       "    </tr>\n",
       "  </thead>\n",
       "  <tbody>\n",
       "    <tr>\n",
       "      <th>0</th>\n",
       "      <td>FFB692EC</td>\n",
       "      <td>Kamigata To Boots</td>\n",
       "      <td>The Mass Missile</td>\n",
       "      <td>rock</td>\n",
       "      <td>Saint-Petersburg</td>\n",
       "      <td>20:28:33</td>\n",
       "      <td>Wednesday</td>\n",
       "    </tr>\n",
       "    <tr>\n",
       "      <th>1</th>\n",
       "      <td>55204538</td>\n",
       "      <td>Delayed Because of Accident</td>\n",
       "      <td>Andreas Rönnberg</td>\n",
       "      <td>rock</td>\n",
       "      <td>Moscow</td>\n",
       "      <td>14:07:09</td>\n",
       "      <td>Friday</td>\n",
       "    </tr>\n",
       "    <tr>\n",
       "      <th>2</th>\n",
       "      <td>20EC38</td>\n",
       "      <td>Funiculì funiculà</td>\n",
       "      <td>Mario Lanza</td>\n",
       "      <td>pop</td>\n",
       "      <td>Saint-Petersburg</td>\n",
       "      <td>20:58:07</td>\n",
       "      <td>Wednesday</td>\n",
       "    </tr>\n",
       "    <tr>\n",
       "      <th>3</th>\n",
       "      <td>A3DD03C9</td>\n",
       "      <td>Dragons in the Sunset</td>\n",
       "      <td>Fire + Ice</td>\n",
       "      <td>folk</td>\n",
       "      <td>Saint-Petersburg</td>\n",
       "      <td>08:37:09</td>\n",
       "      <td>Monday</td>\n",
       "    </tr>\n",
       "    <tr>\n",
       "      <th>4</th>\n",
       "      <td>E2DC1FAE</td>\n",
       "      <td>Soul People</td>\n",
       "      <td>Space Echo</td>\n",
       "      <td>dance</td>\n",
       "      <td>Moscow</td>\n",
       "      <td>08:34:34</td>\n",
       "      <td>Monday</td>\n",
       "    </tr>\n",
       "    <tr>\n",
       "      <th>5</th>\n",
       "      <td>842029A1</td>\n",
       "      <td>Преданная</td>\n",
       "      <td>IMPERVTOR</td>\n",
       "      <td>rusrap</td>\n",
       "      <td>Saint-Petersburg</td>\n",
       "      <td>13:09:41</td>\n",
       "      <td>Friday</td>\n",
       "    </tr>\n",
       "    <tr>\n",
       "      <th>6</th>\n",
       "      <td>4CB90AA5</td>\n",
       "      <td>True</td>\n",
       "      <td>Roman Messer</td>\n",
       "      <td>dance</td>\n",
       "      <td>Moscow</td>\n",
       "      <td>13:00:07</td>\n",
       "      <td>Wednesday</td>\n",
       "    </tr>\n",
       "    <tr>\n",
       "      <th>7</th>\n",
       "      <td>F03E1C1F</td>\n",
       "      <td>Feeling This Way</td>\n",
       "      <td>Polina Griffith</td>\n",
       "      <td>dance</td>\n",
       "      <td>Moscow</td>\n",
       "      <td>20:47:49</td>\n",
       "      <td>Wednesday</td>\n",
       "    </tr>\n",
       "    <tr>\n",
       "      <th>8</th>\n",
       "      <td>8FA1D3BE</td>\n",
       "      <td>И вновь продолжается бой</td>\n",
       "      <td>NaN</td>\n",
       "      <td>ruspop</td>\n",
       "      <td>Moscow</td>\n",
       "      <td>09:17:40</td>\n",
       "      <td>Friday</td>\n",
       "    </tr>\n",
       "    <tr>\n",
       "      <th>9</th>\n",
       "      <td>E772D5C0</td>\n",
       "      <td>Pessimist</td>\n",
       "      <td>NaN</td>\n",
       "      <td>dance</td>\n",
       "      <td>Saint-Petersburg</td>\n",
       "      <td>21:20:49</td>\n",
       "      <td>Wednesday</td>\n",
       "    </tr>\n",
       "  </tbody>\n",
       "</table>\n",
       "</div>"
      ],
      "text/plain": [
       "     userID                        Track            artist   genre  \\\n",
       "0  FFB692EC            Kamigata To Boots  The Mass Missile    rock   \n",
       "1  55204538  Delayed Because of Accident  Andreas Rönnberg    rock   \n",
       "2    20EC38            Funiculì funiculà       Mario Lanza     pop   \n",
       "3  A3DD03C9        Dragons in the Sunset        Fire + Ice    folk   \n",
       "4  E2DC1FAE                  Soul People        Space Echo   dance   \n",
       "5  842029A1                    Преданная         IMPERVTOR  rusrap   \n",
       "6  4CB90AA5                         True      Roman Messer   dance   \n",
       "7  F03E1C1F             Feeling This Way   Polina Griffith   dance   \n",
       "8  8FA1D3BE     И вновь продолжается бой               NaN  ruspop   \n",
       "9  E772D5C0                    Pessimist               NaN   dance   \n",
       "\n",
       "             City        time        Day  \n",
       "0  Saint-Petersburg  20:28:33  Wednesday  \n",
       "1            Moscow  14:07:09     Friday  \n",
       "2  Saint-Petersburg  20:58:07  Wednesday  \n",
       "3  Saint-Petersburg  08:37:09     Monday  \n",
       "4            Moscow  08:34:34     Monday  \n",
       "5  Saint-Petersburg  13:09:41     Friday  \n",
       "6            Moscow  13:00:07  Wednesday  \n",
       "7            Moscow  20:47:49  Wednesday  \n",
       "8            Moscow  09:17:40     Friday  \n",
       "9  Saint-Petersburg  21:20:49  Wednesday  "
      ]
     },
     "execution_count": 3,
     "metadata": {},
     "output_type": "execute_result"
    }
   ],
   "source": [
    "# смотрим первые строки\n",
    "df.head(10)"
   ]
  },
  {
   "cell_type": "code",
   "execution_count": 4,
   "metadata": {
    "id": "DSf2kIb-_Zct"
   },
   "outputs": [
    {
     "name": "stdout",
     "output_type": "stream",
     "text": [
      "<class 'pandas.core.frame.DataFrame'>\n",
      "RangeIndex: 65079 entries, 0 to 65078\n",
      "Data columns (total 7 columns):\n",
      " #   Column    Non-Null Count  Dtype \n",
      "---  ------    --------------  ----- \n",
      " 0     userID  65079 non-null  object\n",
      " 1   Track     63848 non-null  object\n",
      " 2   artist    57876 non-null  object\n",
      " 3   genre     63881 non-null  object\n",
      " 4     City    65079 non-null  object\n",
      " 5   time      65079 non-null  object\n",
      " 6   Day       65079 non-null  object\n",
      "dtypes: object(7)\n",
      "memory usage: 3.5+ MB\n"
     ]
    }
   ],
   "source": [
    "# смотрим общую информацию о таблице\n",
    "df.info()"
   ]
  },
  {
   "cell_type": "markdown",
   "metadata": {
    "id": "TaQ2Iwbr_Zct"
   },
   "source": [
    "Итак, в таблице семь столбцов. Тип данных во всех столбцах — `object`.\n",
    "\n",
    "Согласно документации к данным:\n",
    "* `userID` — идентификатор пользователя;\n",
    "* `Track` — название трека;  \n",
    "* `artist` — имя исполнителя;\n",
    "* `genre` — название жанра;\n",
    "* `City` — город пользователя;\n",
    "* `time` — время начала прослушивания;\n",
    "* `Day` — день недели.\n",
    "\n",
    "В названиях колонок видны три нарушения стиля:\n",
    "1. Строчные буквы сочетаются с прописными.\n",
    "2. Встречаются пробелы.\n",
    "3. Название столбца `userID` лучше писать в «змеином_регистре» `user_id`\n",
    "\n",
    "Количество значений в столбцах различается. Значит, в данных есть пропущенные значения."
   ]
  },
  {
   "cell_type": "markdown",
   "metadata": {
    "id": "MCB6-dXG_Zct"
   },
   "source": [
    "**Вывод**\n",
    "\n",
    "В каждой строке таблицы — данные о прослушанном треке. Часть колонок описывает саму композицию: название, исполнителя и жанр. Остальные данные рассказывают о пользователе: из какого он города, когда он слушал музыку. \n",
    "\n",
    "Предварительно можно утверждать, что, данных достаточно для проверки гипотез. Но встречаются пропуски в данных, а в названиях колонок — расхождения с хорошим стилем.\n",
    "\n",
    "Чтобы двигаться дальше, нужно устранить проблемы в данных."
   ]
  },
  {
   "cell_type": "markdown",
   "metadata": {
    "id": "SjYF6Ub9_Zct"
   },
   "source": [
    "## Предобработка данных"
   ]
  },
  {
   "cell_type": "markdown",
   "metadata": {
    "id": "dIaKXr29_Zct"
   },
   "source": [
    "### Стиль заголовков\n",
    "Выводим на экран названия столбцов:"
   ]
  },
  {
   "cell_type": "code",
   "execution_count": 5,
   "metadata": {
    "id": "oKOTdF_Q_Zct"
   },
   "outputs": [
    {
     "data": {
      "text/plain": [
       "Index(['  userID', 'Track', 'artist', 'genre', '  City  ', 'time', 'Day'], dtype='object')"
      ]
     },
     "execution_count": 5,
     "metadata": {},
     "output_type": "execute_result"
    }
   ],
   "source": [
    "# перечень названий столбцов\n",
    "df.columns "
   ]
  },
  {
   "cell_type": "code",
   "execution_count": 6,
   "metadata": {
    "id": "ISlFqs5y_Zct"
   },
   "outputs": [],
   "source": [
    "# переименуем названия столбцов в соответствие с хорошим стилем\n",
    "df = df.rename(columns = {'  userID':'user_id', 'Track':'track',  '  City  ':'city', 'Day':'day'}) "
   ]
  },
  {
   "cell_type": "markdown",
   "metadata": {
    "id": "1dqbh00J_Zct"
   },
   "source": [
    "Проверьте результат. Для этого ещё раз выведите на экран названия столбцов:"
   ]
  },
  {
   "cell_type": "code",
   "execution_count": 7,
   "metadata": {
    "id": "d4NOAmTW_Zct"
   },
   "outputs": [
    {
     "data": {
      "text/plain": [
       "Index(['user_id', 'track', 'artist', 'genre', 'city', 'time', 'day'], dtype='object')"
      ]
     },
     "execution_count": 7,
     "metadata": {},
     "output_type": "execute_result"
    }
   ],
   "source": [
    "# проверка результатов\n",
    "df.columns"
   ]
  },
  {
   "cell_type": "markdown",
   "metadata": {
    "id": "5ISfbcfY_Zct"
   },
   "source": [
    "### Пропуски значений\n",
    "Посчитаем, сколько в таблице пропущенных значений."
   ]
  },
  {
   "cell_type": "code",
   "execution_count": 8,
   "metadata": {
    "id": "RskX29qr_Zct"
   },
   "outputs": [
    {
     "data": {
      "text/plain": [
       "user_id       0\n",
       "track      1231\n",
       "artist     7203\n",
       "genre      1198\n",
       "city          0\n",
       "time          0\n",
       "day           0\n",
       "dtype: int64"
      ]
     },
     "execution_count": 8,
     "metadata": {},
     "output_type": "execute_result"
    }
   ],
   "source": [
    "# подсчёт пропусков \n",
    "df.isna().sum()"
   ]
  },
  {
   "cell_type": "markdown",
   "metadata": {
    "id": "qubhgnlO_Zct"
   },
   "source": [
    "Не все пропущенные значения влияют на исследование. Так в `track` и `artist` пропуски не важны для нашей работы. Достаточно заменить их явными обозначениями.\n",
    "\n",
    "Но пропуски в `genre` могут помешать сравнению музыкальных вкусов в Москве и Санкт-Петербурге. На практике было бы правильно установить причину пропусков и восстановить данные. Такой возможности нет в учебном проекте. Придётся:\n",
    "* заполнить и эти пропуски явными обозначениями,\n",
    "* оценить, насколько они повредят расчётам. "
   ]
  },
  {
   "cell_type": "markdown",
   "metadata": {
    "id": "fSv2laPA_Zct"
   },
   "source": [
    "Заменим пропущенные значения в столбцах `track`, `artist` и `genre` на строку `'unknown'`. \n",
    "\n",
    "Для этого создадим список `columns_to_replace`, переберем его элементы циклом `for` и для каждого столбца выполним замену пропущенных значений"
   ]
  },
  {
   "cell_type": "code",
   "execution_count": 9,
   "metadata": {
    "id": "KplB5qWs_Zct"
   },
   "outputs": [],
   "source": [
    "#создаём список\n",
    "columns_to_replace = ['track', 'artist', 'genre']\n",
    "\n",
    "# перебор названий столбцов в цикле и замена пропущенных значений на 'unknown'\n",
    "for column in columns_to_replace: \n",
    "    df[column] = df[column].fillna('unknown')"
   ]
  },
  {
   "cell_type": "code",
   "execution_count": 10,
   "metadata": {
    "id": "Tq4nYRX4_Zct"
   },
   "outputs": [
    {
     "data": {
      "text/plain": [
       "user_id    0\n",
       "track      0\n",
       "artist     0\n",
       "genre      0\n",
       "city       0\n",
       "time       0\n",
       "day        0\n",
       "dtype: int64"
      ]
     },
     "execution_count": 10,
     "metadata": {},
     "output_type": "execute_result"
    }
   ],
   "source": [
    "# повторный подсчёт пропусков \n",
    "df.isna().sum()"
   ]
  },
  {
   "cell_type": "markdown",
   "metadata": {
    "id": "BWKRtBJ3_Zct"
   },
   "source": [
    "### Дубликаты\n",
    "Посчитаем явные дубликаты"
   ]
  },
  {
   "cell_type": "code",
   "execution_count": 11,
   "metadata": {
    "id": "36eES_S0_Zct"
   },
   "outputs": [
    {
     "data": {
      "text/plain": [
       "3826"
      ]
     },
     "execution_count": 11,
     "metadata": {},
     "output_type": "execute_result"
    }
   ],
   "source": [
    "# подсчёт явных дубликатов\n",
    "df.duplicated().sum()"
   ]
  },
  {
   "cell_type": "markdown",
   "metadata": {
    "id": "Ot25h6XR_Zct"
   },
   "source": [
    "Удалим явные дубликаты"
   ]
  },
  {
   "cell_type": "code",
   "execution_count": 12,
   "metadata": {
    "id": "exFHq6tt_Zct"
   },
   "outputs": [],
   "source": [
    "# удаление явных дубликатов (с удалением старых индексов и формированием новых)\n",
    "df = df.drop_duplicates().reset_index(drop=True)"
   ]
  },
  {
   "cell_type": "code",
   "execution_count": 13,
   "metadata": {
    "id": "-8PuNWQ0_Zct"
   },
   "outputs": [
    {
     "data": {
      "text/plain": [
       "0"
      ]
     },
     "execution_count": 13,
     "metadata": {},
     "output_type": "execute_result"
    }
   ],
   "source": [
    "# проверка на отсутствие дубликатов\n",
    "df.duplicated().sum()"
   ]
  },
  {
   "cell_type": "markdown",
   "metadata": {
    "id": "QlFBsxAr_Zct"
   },
   "source": [
    "Теперь проверим есть ли неявные дубликаты в колонке `genre`. Например, название одного и того же жанра может быть записано немного по-разному."
   ]
  },
  {
   "cell_type": "code",
   "execution_count": 14,
   "metadata": {
    "id": "JIUcqzZN_Zct"
   },
   "outputs": [
    {
     "data": {
      "text/plain": [
       "array(['acid', 'acoustic', 'action', 'adult', 'africa', 'afrikaans',\n",
       "       'alternative', 'alternativepunk', 'ambient', 'americana',\n",
       "       'animated', 'anime', 'arabesk', 'arabic', 'arena',\n",
       "       'argentinetango', 'art', 'audiobook', 'author', 'avantgarde',\n",
       "       'axé', 'baile', 'balkan', 'beats', 'bigroom', 'black', 'bluegrass',\n",
       "       'blues', 'bollywood', 'bossa', 'brazilian', 'breakbeat', 'breaks',\n",
       "       'broadway', 'cantautori', 'cantopop', 'canzone', 'caribbean',\n",
       "       'caucasian', 'celtic', 'chamber', 'chanson', 'children', 'chill',\n",
       "       'chinese', 'choral', 'christian', 'christmas', 'classical',\n",
       "       'classicmetal', 'club', 'colombian', 'comedy', 'conjazz',\n",
       "       'contemporary', 'country', 'cuban', 'dance', 'dancehall',\n",
       "       'dancepop', 'dark', 'death', 'deep', 'deutschrock', 'deutschspr',\n",
       "       'dirty', 'disco', 'dnb', 'documentary', 'downbeat', 'downtempo',\n",
       "       'drum', 'dub', 'dubstep', 'eastern', 'easy', 'electronic',\n",
       "       'electropop', 'emo', 'entehno', 'epicmetal', 'estrada', 'ethnic',\n",
       "       'eurofolk', 'european', 'experimental', 'extrememetal', 'fado',\n",
       "       'fairytail', 'film', 'fitness', 'flamenco', 'folk', 'folklore',\n",
       "       'folkmetal', 'folkrock', 'folktronica', 'forró', 'frankreich',\n",
       "       'französisch', 'french', 'funk', 'future', 'gangsta', 'garage',\n",
       "       'german', 'ghazal', 'gitarre', 'glitch', 'gospel', 'gothic',\n",
       "       'grime', 'grunge', 'gypsy', 'handsup', \"hard'n'heavy\", 'hardcore',\n",
       "       'hardstyle', 'hardtechno', 'hip', 'hip-hop', 'hiphop',\n",
       "       'historisch', 'holiday', 'hop', 'horror', 'house', 'hymn', 'idm',\n",
       "       'independent', 'indian', 'indie', 'indipop', 'industrial',\n",
       "       'inspirational', 'instrumental', 'international', 'irish', 'jam',\n",
       "       'japanese', 'jazz', 'jewish', 'jpop', 'jungle', 'k-pop',\n",
       "       'karadeniz', 'karaoke', 'kayokyoku', 'korean', 'laiko', 'latin',\n",
       "       'latino', 'leftfield', 'local', 'lounge', 'loungeelectronic',\n",
       "       'lovers', 'malaysian', 'mandopop', 'marschmusik', 'meditative',\n",
       "       'mediterranean', 'melodic', 'metal', 'metalcore', 'mexican',\n",
       "       'middle', 'minimal', 'miscellaneous', 'modern', 'mood', 'mpb',\n",
       "       'muslim', 'native', 'neoklassik', 'neue', 'new', 'newage',\n",
       "       'newwave', 'nu', 'nujazz', 'numetal', 'oceania', 'old', 'opera',\n",
       "       'orchestral', 'other', 'piano', 'podcasts', 'pop', 'popdance',\n",
       "       'popelectronic', 'popeurodance', 'poprussian', 'post',\n",
       "       'posthardcore', 'postrock', 'power', 'progmetal', 'progressive',\n",
       "       'psychedelic', 'punjabi', 'punk', 'quebecois', 'ragga', 'ram',\n",
       "       'rancheras', 'rap', 'rave', 'reggae', 'reggaeton', 'regional',\n",
       "       'relax', 'religious', 'retro', 'rhythm', 'rnb', 'rnr', 'rock',\n",
       "       'rockabilly', 'rockalternative', 'rockindie', 'rockother',\n",
       "       'romance', 'roots', 'ruspop', 'rusrap', 'rusrock', 'russian',\n",
       "       'salsa', 'samba', 'scenic', 'schlager', 'self', 'sertanejo',\n",
       "       'shanson', 'shoegazing', 'showtunes', 'singer', 'ska', 'skarock',\n",
       "       'slow', 'smooth', 'soft', 'soul', 'soulful', 'sound', 'soundtrack',\n",
       "       'southern', 'specialty', 'speech', 'spiritual', 'sport',\n",
       "       'stonerrock', 'surf', 'swing', 'synthpop', 'synthrock',\n",
       "       'sängerportrait', 'tango', 'tanzorchester', 'taraftar', 'tatar',\n",
       "       'tech', 'techno', 'teen', 'thrash', 'top', 'traditional',\n",
       "       'tradjazz', 'trance', 'tribal', 'trip', 'triphop', 'tropical',\n",
       "       'türk', 'türkçe', 'ukrrock', 'unknown', 'urban', 'uzbek',\n",
       "       'variété', 'vi', 'videogame', 'vocal', 'western', 'world',\n",
       "       'worldbeat', 'ïîï', 'электроника'], dtype=object)"
      ]
     },
     "execution_count": 14,
     "metadata": {},
     "output_type": "execute_result"
    }
   ],
   "source": [
    "# просмотр уникальных названий жанров\n",
    "df['genre'].sort_values().unique()"
   ]
  },
  {
   "cell_type": "markdown",
   "metadata": {
    "id": "qej-Qmuo_Zct"
   },
   "source": [
    "Мы видим следующие неявные дубликаты:\n",
    "* *hip*,\n",
    "* *hop*,\n",
    "* *hip-hop*.\n",
    "* *электроника*\n",
    "* *folklore* \n",
    "* *latin*</span>\n",
    "\n",
    "Чтобы очистить от них таблицу, напишем функцию `replace_wrong_genres()` с двумя параметрами: \n",
    "* `wrong_genres` — список дубликатов,\n",
    "* `correct_genre` — строка с правильным значением."
   ]
  },
  {
   "cell_type": "code",
   "execution_count": 15,
   "metadata": {
    "id": "ErNDkmns_Zct"
   },
   "outputs": [],
   "source": [
    "# функция для замены неявных дубликатов\n",
    "def replace_wrong_genres(wrong_genres, correct_genre):\n",
    "    for wrong_genres in wrong_genres:\n",
    "        df['genre'] = df['genre'].replace(wrong_genres, correct_genre)"
   ]
  },
  {
   "cell_type": "code",
   "execution_count": 16,
   "metadata": {
    "id": "YN5i2hpmSo09"
   },
   "outputs": [],
   "source": [
    "# Устранение неявных дубликатов\n",
    "duplicates_hiphop = ['hip', 'hop', 'hip-hop'] \n",
    "name_hiphop = 'hiphop'\n",
    "replace_wrong_genres(duplicates_hiphop, name_hiphop)\n",
    "\n",
    "duplicates_electro = ['электроника']\n",
    "name_electro = 'electronic'\n",
    "replace_wrong_genres(duplicates_electro, name_electro)\n",
    "\n",
    "duplicates_folk = ['folklore']\n",
    "name_folk = 'folk'\n",
    "replace_wrong_genres(duplicates_folk, name_folk)\n",
    "\n",
    "duplicates_latino = ['latin']\n",
    "name_latino = 'latino'\n",
    "replace_wrong_genres(duplicates_latino, name_latino)"
   ]
  },
  {
   "cell_type": "code",
   "execution_count": 17,
   "metadata": {
    "id": "wvixALnFG15m"
   },
   "outputs": [
    {
     "data": {
      "text/plain": [
       "array(['acid', 'acoustic', 'action', 'adult', 'africa', 'afrikaans',\n",
       "       'alternative', 'alternativepunk', 'ambient', 'americana',\n",
       "       'animated', 'anime', 'arabesk', 'arabic', 'arena',\n",
       "       'argentinetango', 'art', 'audiobook', 'author', 'avantgarde',\n",
       "       'axé', 'baile', 'balkan', 'beats', 'bigroom', 'black', 'bluegrass',\n",
       "       'blues', 'bollywood', 'bossa', 'brazilian', 'breakbeat', 'breaks',\n",
       "       'broadway', 'cantautori', 'cantopop', 'canzone', 'caribbean',\n",
       "       'caucasian', 'celtic', 'chamber', 'chanson', 'children', 'chill',\n",
       "       'chinese', 'choral', 'christian', 'christmas', 'classical',\n",
       "       'classicmetal', 'club', 'colombian', 'comedy', 'conjazz',\n",
       "       'contemporary', 'country', 'cuban', 'dance', 'dancehall',\n",
       "       'dancepop', 'dark', 'death', 'deep', 'deutschrock', 'deutschspr',\n",
       "       'dirty', 'disco', 'dnb', 'documentary', 'downbeat', 'downtempo',\n",
       "       'drum', 'dub', 'dubstep', 'eastern', 'easy', 'electronic',\n",
       "       'electropop', 'emo', 'entehno', 'epicmetal', 'estrada', 'ethnic',\n",
       "       'eurofolk', 'european', 'experimental', 'extrememetal', 'fado',\n",
       "       'fairytail', 'film', 'fitness', 'flamenco', 'folk', 'folkmetal',\n",
       "       'folkrock', 'folktronica', 'forró', 'frankreich', 'französisch',\n",
       "       'french', 'funk', 'future', 'gangsta', 'garage', 'german',\n",
       "       'ghazal', 'gitarre', 'glitch', 'gospel', 'gothic', 'grime',\n",
       "       'grunge', 'gypsy', 'handsup', \"hard'n'heavy\", 'hardcore',\n",
       "       'hardstyle', 'hardtechno', 'hiphop', 'historisch', 'holiday',\n",
       "       'horror', 'house', 'hymn', 'idm', 'independent', 'indian', 'indie',\n",
       "       'indipop', 'industrial', 'inspirational', 'instrumental',\n",
       "       'international', 'irish', 'jam', 'japanese', 'jazz', 'jewish',\n",
       "       'jpop', 'jungle', 'k-pop', 'karadeniz', 'karaoke', 'kayokyoku',\n",
       "       'korean', 'laiko', 'latino', 'leftfield', 'local', 'lounge',\n",
       "       'loungeelectronic', 'lovers', 'malaysian', 'mandopop',\n",
       "       'marschmusik', 'meditative', 'mediterranean', 'melodic', 'metal',\n",
       "       'metalcore', 'mexican', 'middle', 'minimal', 'miscellaneous',\n",
       "       'modern', 'mood', 'mpb', 'muslim', 'native', 'neoklassik', 'neue',\n",
       "       'new', 'newage', 'newwave', 'nu', 'nujazz', 'numetal', 'oceania',\n",
       "       'old', 'opera', 'orchestral', 'other', 'piano', 'podcasts', 'pop',\n",
       "       'popdance', 'popelectronic', 'popeurodance', 'poprussian', 'post',\n",
       "       'posthardcore', 'postrock', 'power', 'progmetal', 'progressive',\n",
       "       'psychedelic', 'punjabi', 'punk', 'quebecois', 'ragga', 'ram',\n",
       "       'rancheras', 'rap', 'rave', 'reggae', 'reggaeton', 'regional',\n",
       "       'relax', 'religious', 'retro', 'rhythm', 'rnb', 'rnr', 'rock',\n",
       "       'rockabilly', 'rockalternative', 'rockindie', 'rockother',\n",
       "       'romance', 'roots', 'ruspop', 'rusrap', 'rusrock', 'russian',\n",
       "       'salsa', 'samba', 'scenic', 'schlager', 'self', 'sertanejo',\n",
       "       'shanson', 'shoegazing', 'showtunes', 'singer', 'ska', 'skarock',\n",
       "       'slow', 'smooth', 'soft', 'soul', 'soulful', 'sound', 'soundtrack',\n",
       "       'southern', 'specialty', 'speech', 'spiritual', 'sport',\n",
       "       'stonerrock', 'surf', 'swing', 'synthpop', 'synthrock',\n",
       "       'sängerportrait', 'tango', 'tanzorchester', 'taraftar', 'tatar',\n",
       "       'tech', 'techno', 'teen', 'thrash', 'top', 'traditional',\n",
       "       'tradjazz', 'trance', 'tribal', 'trip', 'triphop', 'tropical',\n",
       "       'türk', 'türkçe', 'ukrrock', 'unknown', 'urban', 'uzbek',\n",
       "       'variété', 'vi', 'videogame', 'vocal', 'western', 'world',\n",
       "       'worldbeat', 'ïîï'], dtype=object)"
      ]
     },
     "execution_count": 17,
     "metadata": {},
     "output_type": "execute_result"
    }
   ],
   "source": [
    "# проверка на неявные дубликаты\n",
    "df['genre'].sort_values().unique() "
   ]
  },
  {
   "cell_type": "markdown",
   "metadata": {
    "id": "jz6a9-7HQUDd"
   },
   "source": [
    "**Вывод**\n",
    "\n",
    "Предобработка обнаружила три проблемы в данных:\n",
    "\n",
    "- нарушения в стиле заголовков,\n",
    "- пропущенные значения,\n",
    "- дубликаты — явные и неявные.\n",
    "\n",
    "Мы исправили заголовки, чтобы упростить работу с таблицей. Без дубликатов исследование станет более точным.\n",
    "\n",
    "Пропущенные значения мы заменили на `'unknown'`. Ещё предстоит увидеть, не повредят ли исследованию пропуски в колонке `genre`.\n",
    "\n",
    "Теперь можно перейти к проверке гипотез."
   ]
  },
  {
   "cell_type": "markdown",
   "metadata": {
    "id": "WttZHXH0SqKk"
   },
   "source": [
    "## Проверка гипотез"
   ]
  },
  {
   "cell_type": "markdown",
   "metadata": {
    "id": "Im936VVi_Zcu"
   },
   "source": [
    "### Сравнение поведения пользователей двух столиц"
   ]
  },
  {
   "cell_type": "markdown",
   "metadata": {
    "id": "nwt_MuaL_Zcu"
   },
   "source": [
    "Первая гипотеза утверждает, что пользователи по-разному слушают музыку в Москве и Санкт-Петербурге. Проверим это предположение по данным о трёх днях недели — понедельнике, среде и пятнице. Для этого:\n",
    "\n",
    "* Разделим пользователей Москвы и Санкт-Петербурга\n",
    "* Сравним сколько треков послушала каждая группа пользователей в понедельник, среду и пятницу."
   ]
  },
  {
   "cell_type": "markdown",
   "metadata": {
    "id": "8Dw_YMmT_Zcu"
   },
   "source": [
    "Сгруппируем данные по городу и посчитаем прослушивания в каждой группе."
   ]
  },
  {
   "cell_type": "code",
   "execution_count": 18,
   "metadata": {
    "id": "0_Qs96oh_Zcu"
   },
   "outputs": [
    {
     "data": {
      "text/plain": [
       "city\n",
       "Moscow              42741\n",
       "Saint-Petersburg    18512\n",
       "Name: time, dtype: int64"
      ]
     },
     "execution_count": 18,
     "metadata": {},
     "output_type": "execute_result"
    }
   ],
   "source": [
    "# подсчёт прослушиваний в каждом городе\n",
    "df.groupby('city')['time'].count()"
   ]
  },
  {
   "cell_type": "markdown",
   "metadata": {
    "id": "dzli3w8o_Zcu"
   },
   "source": [
    "В Москве прослушиваний больше, чем в Петербурге. Из этого не следует, что московские пользователи чаще слушают музыку. Просто самих пользователей в Москве больше.\n",
    "\n",
    "Теперь сгруппируем данные по дню недели."
   ]
  },
  {
   "cell_type": "code",
   "execution_count": 19,
   "metadata": {
    "id": "uZMKjiJz_Zcu"
   },
   "outputs": [
    {
     "data": {
      "text/plain": [
       "day\n",
       "Friday       21840\n",
       "Monday       21354\n",
       "Wednesday    18059\n",
       "Name: time, dtype: int64"
      ]
     },
     "execution_count": 19,
     "metadata": {},
     "output_type": "execute_result"
    }
   ],
   "source": [
    "# подсчёт прослушиваний в каждый из трёх дней\n",
    "df.groupby('day')['time'].count()"
   ]
  },
  {
   "cell_type": "markdown",
   "metadata": {
    "id": "cC2tNrlL_Zcu"
   },
   "source": [
    "В среднем пользователи из двух городов менее активны по средам. Но картина может измениться, если рассмотреть каждый город в отдельности."
   ]
  },
  {
   "cell_type": "markdown",
   "metadata": {
    "id": "POzs8bGa_Zcu"
   },
   "source": [
    "Напишем функцию, которая объединит расчёты по городу и по дням недели.\n",
    "\n",
    "Создим функцию `number_tracks()`, которая посчитает прослушивания для заданного дня и города. Ей понадобятся два параметра:\n",
    "* день недели,\n",
    "* название города."
   ]
  },
  {
   "cell_type": "code",
   "execution_count": 20,
   "metadata": {
    "id": "Nz3GdQB1_Zcu"
   },
   "outputs": [],
   "source": [
    "# функция для подсчета прослушивания для конкретного города и дня\n",
    "def number_tracks(day, city):\n",
    "    track_list = df[df['day'] == day]\n",
    "    track_list = track_list[track_list['city'] == city]\n",
    "    track_list_count = track_list['user_id'].count()\n",
    "    return track_list_count"
   ]
  },
  {
   "cell_type": "markdown",
   "metadata": {
    "id": "ytf7xFrFJQ2r"
   },
   "source": [
    "Вызовем `number_tracks()` шесть раз, меняя значение параметров — так, чтобы получить данные для каждого города в каждый из трёх дней."
   ]
  },
  {
   "cell_type": "code",
   "execution_count": 21,
   "metadata": {
    "id": "rJcRATNQ_Zcu"
   },
   "outputs": [
    {
     "data": {
      "text/plain": [
       "15740"
      ]
     },
     "execution_count": 21,
     "metadata": {},
     "output_type": "execute_result"
    }
   ],
   "source": [
    "# количество прослушиваний в Москве по понедельникам\n",
    "number_tracks('Monday', 'Moscow')"
   ]
  },
  {
   "cell_type": "code",
   "execution_count": 22,
   "metadata": {
    "id": "hq_ncZ5T_Zcu"
   },
   "outputs": [
    {
     "data": {
      "text/plain": [
       "5614"
      ]
     },
     "execution_count": 22,
     "metadata": {},
     "output_type": "execute_result"
    }
   ],
   "source": [
    "# количество прослушиваний в Санкт-Петербурге по понедельникам\n",
    "number_tracks('Monday', 'Saint-Petersburg')"
   ]
  },
  {
   "cell_type": "code",
   "execution_count": 23,
   "metadata": {
    "id": "_NTy2VPU_Zcu"
   },
   "outputs": [
    {
     "data": {
      "text/plain": [
       "11056"
      ]
     },
     "execution_count": 23,
     "metadata": {},
     "output_type": "execute_result"
    }
   ],
   "source": [
    "# количество прослушиваний в Москве по средам\n",
    "number_tracks('Wednesday', 'Moscow')"
   ]
  },
  {
   "cell_type": "code",
   "execution_count": 24,
   "metadata": {
    "id": "j2y3TAwo_Zcu"
   },
   "outputs": [
    {
     "data": {
      "text/plain": [
       "7003"
      ]
     },
     "execution_count": 24,
     "metadata": {},
     "output_type": "execute_result"
    }
   ],
   "source": [
    "# количество прослушиваний в Санкт-Петербурге по средам\n",
    "number_tracks('Wednesday', 'Saint-Petersburg')"
   ]
  },
  {
   "cell_type": "code",
   "execution_count": 25,
   "metadata": {
    "id": "vYDw5u_K_Zcu"
   },
   "outputs": [
    {
     "data": {
      "text/plain": [
       "15945"
      ]
     },
     "execution_count": 25,
     "metadata": {},
     "output_type": "execute_result"
    }
   ],
   "source": [
    "# количество прослушиваний в Москве по пятницам\n",
    "number_tracks('Friday', 'Moscow')"
   ]
  },
  {
   "cell_type": "code",
   "execution_count": 26,
   "metadata": {
    "id": "8_yzFtW3_Zcu"
   },
   "outputs": [
    {
     "data": {
      "text/plain": [
       "5895"
      ]
     },
     "execution_count": 26,
     "metadata": {},
     "output_type": "execute_result"
    }
   ],
   "source": [
    "# количество прослушиваний в Санкт-Петербурге по пятницам\n",
    "number_tracks('Friday', 'Saint-Petersburg')"
   ]
  },
  {
   "cell_type": "markdown",
   "metadata": {
    "id": "7QXffbO-_Zcu"
   },
   "source": [
    "Создим таблицу, где\n",
    "* названия колонок — `['city', 'monday', 'wednesday', 'friday']`;\n",
    "* данные — результаты, которые мы получили с помощью `number_tracks`."
   ]
  },
  {
   "cell_type": "code",
   "execution_count": 27,
   "metadata": {
    "id": "APAcLpOr_Zcu"
   },
   "outputs": [
    {
     "data": {
      "text/html": [
       "<div>\n",
       "<style scoped>\n",
       "    .dataframe tbody tr th:only-of-type {\n",
       "        vertical-align: middle;\n",
       "    }\n",
       "\n",
       "    .dataframe tbody tr th {\n",
       "        vertical-align: top;\n",
       "    }\n",
       "\n",
       "    .dataframe thead th {\n",
       "        text-align: right;\n",
       "    }\n",
       "</style>\n",
       "<table border=\"1\" class=\"dataframe\">\n",
       "  <thead>\n",
       "    <tr style=\"text-align: right;\">\n",
       "      <th></th>\n",
       "      <th>city</th>\n",
       "      <th>monday</th>\n",
       "      <th>wednesday</th>\n",
       "      <th>friday</th>\n",
       "    </tr>\n",
       "  </thead>\n",
       "  <tbody>\n",
       "    <tr>\n",
       "      <th>0</th>\n",
       "      <td>Moscow</td>\n",
       "      <td>15740</td>\n",
       "      <td>11056</td>\n",
       "      <td>15945</td>\n",
       "    </tr>\n",
       "    <tr>\n",
       "      <th>1</th>\n",
       "      <td>Saint-Petersburg</td>\n",
       "      <td>5614</td>\n",
       "      <td>7003</td>\n",
       "      <td>5895</td>\n",
       "    </tr>\n",
       "  </tbody>\n",
       "</table>\n",
       "</div>"
      ],
      "text/plain": [
       "               city  monday  wednesday  friday\n",
       "0            Moscow   15740      11056   15945\n",
       "1  Saint-Petersburg    5614       7003    5895"
      ]
     },
     "execution_count": 27,
     "metadata": {},
     "output_type": "execute_result"
    }
   ],
   "source": [
    "# Таблица с результатами\n",
    "data = [\n",
    "    ['Moscow', number_tracks('Monday', 'Moscow'), number_tracks('Wednesday', 'Moscow'), number_tracks('Friday', 'Moscow')],\n",
    "    ['Saint-Petersburg', number_tracks('Monday', 'Saint-Petersburg'), number_tracks('Wednesday', 'Saint-Petersburg'), number_tracks('Friday', 'Saint-Petersburg')]\n",
    "]\n",
    "columns = ['city', 'monday', 'wednesday', 'friday']\n",
    "track_list_day_city =  pd.DataFrame(data = data, columns = columns)\n",
    "track_list_day_city\n"
   ]
  },
  {
   "cell_type": "markdown",
   "metadata": {
    "id": "-EgPIHYu_Zcu"
   },
   "source": [
    "**Вывод**\n",
    "\n",
    "Данные показывают разницу поведения пользователей:\n",
    "\n",
    "- В Москве пик прослушиваний приходится на понедельник и пятницу, а в среду заметен спад.\n",
    "- В Петербурге, наоборот, больше слушают музыку по средам. Активность в понедельник и пятницу здесь почти в равной мере уступает среде.\n",
    "\n",
    "Значит, данные говорят в пользу первой гипотезы."
   ]
  },
  {
   "cell_type": "markdown",
   "metadata": {
    "id": "atZAxtq4_Zcu"
   },
   "source": [
    "### Музыка в начале и в конце недели"
   ]
  },
  {
   "cell_type": "markdown",
   "metadata": {
    "id": "eXrQqXFH_Zcu"
   },
   "source": [
    "Согласно второй гипотезе, утром в понедельник в Москве преобладают одни жанры, а в Петербурге — другие. Так же и вечером пятницы преобладают разные жанры — в зависимости от города."
   ]
  },
  {
   "cell_type": "markdown",
   "metadata": {
    "id": "S8UcW6Hw_Zcu"
   },
   "source": [
    "Сохраним таблицы с данными в две переменные:\n",
    "* по Москве — в `moscow_general`;\n",
    "* по Санкт-Петербургу — в `spb_general`."
   ]
  },
  {
   "cell_type": "code",
   "execution_count": 28,
   "metadata": {
    "id": "qeaFfM_P_Zcu"
   },
   "outputs": [
    {
     "data": {
      "text/html": [
       "<div>\n",
       "<style scoped>\n",
       "    .dataframe tbody tr th:only-of-type {\n",
       "        vertical-align: middle;\n",
       "    }\n",
       "\n",
       "    .dataframe tbody tr th {\n",
       "        vertical-align: top;\n",
       "    }\n",
       "\n",
       "    .dataframe thead th {\n",
       "        text-align: right;\n",
       "    }\n",
       "</style>\n",
       "<table border=\"1\" class=\"dataframe\">\n",
       "  <thead>\n",
       "    <tr style=\"text-align: right;\">\n",
       "      <th></th>\n",
       "      <th>user_id</th>\n",
       "      <th>track</th>\n",
       "      <th>artist</th>\n",
       "      <th>genre</th>\n",
       "      <th>city</th>\n",
       "      <th>time</th>\n",
       "      <th>day</th>\n",
       "    </tr>\n",
       "  </thead>\n",
       "  <tbody>\n",
       "    <tr>\n",
       "      <th>1</th>\n",
       "      <td>55204538</td>\n",
       "      <td>Delayed Because of Accident</td>\n",
       "      <td>Andreas Rönnberg</td>\n",
       "      <td>rock</td>\n",
       "      <td>Moscow</td>\n",
       "      <td>14:07:09</td>\n",
       "      <td>Friday</td>\n",
       "    </tr>\n",
       "    <tr>\n",
       "      <th>4</th>\n",
       "      <td>E2DC1FAE</td>\n",
       "      <td>Soul People</td>\n",
       "      <td>Space Echo</td>\n",
       "      <td>dance</td>\n",
       "      <td>Moscow</td>\n",
       "      <td>08:34:34</td>\n",
       "      <td>Monday</td>\n",
       "    </tr>\n",
       "    <tr>\n",
       "      <th>6</th>\n",
       "      <td>4CB90AA5</td>\n",
       "      <td>True</td>\n",
       "      <td>Roman Messer</td>\n",
       "      <td>dance</td>\n",
       "      <td>Moscow</td>\n",
       "      <td>13:00:07</td>\n",
       "      <td>Wednesday</td>\n",
       "    </tr>\n",
       "    <tr>\n",
       "      <th>7</th>\n",
       "      <td>F03E1C1F</td>\n",
       "      <td>Feeling This Way</td>\n",
       "      <td>Polina Griffith</td>\n",
       "      <td>dance</td>\n",
       "      <td>Moscow</td>\n",
       "      <td>20:47:49</td>\n",
       "      <td>Wednesday</td>\n",
       "    </tr>\n",
       "    <tr>\n",
       "      <th>8</th>\n",
       "      <td>8FA1D3BE</td>\n",
       "      <td>И вновь продолжается бой</td>\n",
       "      <td>unknown</td>\n",
       "      <td>ruspop</td>\n",
       "      <td>Moscow</td>\n",
       "      <td>09:17:40</td>\n",
       "      <td>Friday</td>\n",
       "    </tr>\n",
       "    <tr>\n",
       "      <th>...</th>\n",
       "      <td>...</td>\n",
       "      <td>...</td>\n",
       "      <td>...</td>\n",
       "      <td>...</td>\n",
       "      <td>...</td>\n",
       "      <td>...</td>\n",
       "      <td>...</td>\n",
       "    </tr>\n",
       "    <tr>\n",
       "      <th>61247</th>\n",
       "      <td>83A474E7</td>\n",
       "      <td>I Worship Only What You Bleed</td>\n",
       "      <td>The Black Dahlia Murder</td>\n",
       "      <td>extrememetal</td>\n",
       "      <td>Moscow</td>\n",
       "      <td>21:07:12</td>\n",
       "      <td>Monday</td>\n",
       "    </tr>\n",
       "    <tr>\n",
       "      <th>61248</th>\n",
       "      <td>729CBB09</td>\n",
       "      <td>My Name</td>\n",
       "      <td>McLean</td>\n",
       "      <td>rnb</td>\n",
       "      <td>Moscow</td>\n",
       "      <td>13:32:28</td>\n",
       "      <td>Wednesday</td>\n",
       "    </tr>\n",
       "    <tr>\n",
       "      <th>61250</th>\n",
       "      <td>C5E3A0D5</td>\n",
       "      <td>Jalopiina</td>\n",
       "      <td>unknown</td>\n",
       "      <td>industrial</td>\n",
       "      <td>Moscow</td>\n",
       "      <td>20:09:26</td>\n",
       "      <td>Friday</td>\n",
       "    </tr>\n",
       "    <tr>\n",
       "      <th>61251</th>\n",
       "      <td>321D0506</td>\n",
       "      <td>Freight Train</td>\n",
       "      <td>Chas McDevitt</td>\n",
       "      <td>rock</td>\n",
       "      <td>Moscow</td>\n",
       "      <td>21:43:59</td>\n",
       "      <td>Friday</td>\n",
       "    </tr>\n",
       "    <tr>\n",
       "      <th>61252</th>\n",
       "      <td>3A64EF84</td>\n",
       "      <td>Tell Me Sweet Little Lies</td>\n",
       "      <td>Monica Lopez</td>\n",
       "      <td>country</td>\n",
       "      <td>Moscow</td>\n",
       "      <td>21:59:46</td>\n",
       "      <td>Friday</td>\n",
       "    </tr>\n",
       "  </tbody>\n",
       "</table>\n",
       "<p>42741 rows × 7 columns</p>\n",
       "</div>"
      ],
      "text/plain": [
       "        user_id                          track                   artist  \\\n",
       "1      55204538    Delayed Because of Accident         Andreas Rönnberg   \n",
       "4      E2DC1FAE                    Soul People               Space Echo   \n",
       "6      4CB90AA5                           True             Roman Messer   \n",
       "7      F03E1C1F               Feeling This Way          Polina Griffith   \n",
       "8      8FA1D3BE       И вновь продолжается бой                  unknown   \n",
       "...         ...                            ...                      ...   \n",
       "61247  83A474E7  I Worship Only What You Bleed  The Black Dahlia Murder   \n",
       "61248  729CBB09                        My Name                   McLean   \n",
       "61250  C5E3A0D5                      Jalopiina                  unknown   \n",
       "61251  321D0506                  Freight Train            Chas McDevitt   \n",
       "61252  3A64EF84      Tell Me Sweet Little Lies             Monica Lopez   \n",
       "\n",
       "              genre    city      time        day  \n",
       "1              rock  Moscow  14:07:09     Friday  \n",
       "4             dance  Moscow  08:34:34     Monday  \n",
       "6             dance  Moscow  13:00:07  Wednesday  \n",
       "7             dance  Moscow  20:47:49  Wednesday  \n",
       "8            ruspop  Moscow  09:17:40     Friday  \n",
       "...             ...     ...       ...        ...  \n",
       "61247  extrememetal  Moscow  21:07:12     Monday  \n",
       "61248           rnb  Moscow  13:32:28  Wednesday  \n",
       "61250    industrial  Moscow  20:09:26     Friday  \n",
       "61251          rock  Moscow  21:43:59     Friday  \n",
       "61252       country  Moscow  21:59:46     Friday  \n",
       "\n",
       "[42741 rows x 7 columns]"
      ]
     },
     "execution_count": 28,
     "metadata": {},
     "output_type": "execute_result"
    }
   ],
   "source": [
    "# получение таблицы moscow_general\n",
    "moscow_general = df[df['city'] == 'Moscow']\n",
    "moscow_general "
   ]
  },
  {
   "cell_type": "code",
   "execution_count": 29,
   "metadata": {
    "id": "ORaVRKto_Zcu"
   },
   "outputs": [
    {
     "data": {
      "text/html": [
       "<div>\n",
       "<style scoped>\n",
       "    .dataframe tbody tr th:only-of-type {\n",
       "        vertical-align: middle;\n",
       "    }\n",
       "\n",
       "    .dataframe tbody tr th {\n",
       "        vertical-align: top;\n",
       "    }\n",
       "\n",
       "    .dataframe thead th {\n",
       "        text-align: right;\n",
       "    }\n",
       "</style>\n",
       "<table border=\"1\" class=\"dataframe\">\n",
       "  <thead>\n",
       "    <tr style=\"text-align: right;\">\n",
       "      <th></th>\n",
       "      <th>user_id</th>\n",
       "      <th>track</th>\n",
       "      <th>artist</th>\n",
       "      <th>genre</th>\n",
       "      <th>city</th>\n",
       "      <th>time</th>\n",
       "      <th>day</th>\n",
       "    </tr>\n",
       "  </thead>\n",
       "  <tbody>\n",
       "    <tr>\n",
       "      <th>0</th>\n",
       "      <td>FFB692EC</td>\n",
       "      <td>Kamigata To Boots</td>\n",
       "      <td>The Mass Missile</td>\n",
       "      <td>rock</td>\n",
       "      <td>Saint-Petersburg</td>\n",
       "      <td>20:28:33</td>\n",
       "      <td>Wednesday</td>\n",
       "    </tr>\n",
       "    <tr>\n",
       "      <th>2</th>\n",
       "      <td>20EC38</td>\n",
       "      <td>Funiculì funiculà</td>\n",
       "      <td>Mario Lanza</td>\n",
       "      <td>pop</td>\n",
       "      <td>Saint-Petersburg</td>\n",
       "      <td>20:58:07</td>\n",
       "      <td>Wednesday</td>\n",
       "    </tr>\n",
       "    <tr>\n",
       "      <th>3</th>\n",
       "      <td>A3DD03C9</td>\n",
       "      <td>Dragons in the Sunset</td>\n",
       "      <td>Fire + Ice</td>\n",
       "      <td>folk</td>\n",
       "      <td>Saint-Petersburg</td>\n",
       "      <td>08:37:09</td>\n",
       "      <td>Monday</td>\n",
       "    </tr>\n",
       "    <tr>\n",
       "      <th>5</th>\n",
       "      <td>842029A1</td>\n",
       "      <td>Преданная</td>\n",
       "      <td>IMPERVTOR</td>\n",
       "      <td>rusrap</td>\n",
       "      <td>Saint-Petersburg</td>\n",
       "      <td>13:09:41</td>\n",
       "      <td>Friday</td>\n",
       "    </tr>\n",
       "    <tr>\n",
       "      <th>9</th>\n",
       "      <td>E772D5C0</td>\n",
       "      <td>Pessimist</td>\n",
       "      <td>unknown</td>\n",
       "      <td>dance</td>\n",
       "      <td>Saint-Petersburg</td>\n",
       "      <td>21:20:49</td>\n",
       "      <td>Wednesday</td>\n",
       "    </tr>\n",
       "    <tr>\n",
       "      <th>...</th>\n",
       "      <td>...</td>\n",
       "      <td>...</td>\n",
       "      <td>...</td>\n",
       "      <td>...</td>\n",
       "      <td>...</td>\n",
       "      <td>...</td>\n",
       "      <td>...</td>\n",
       "    </tr>\n",
       "    <tr>\n",
       "      <th>61239</th>\n",
       "      <td>D94F810B</td>\n",
       "      <td>Theme from the Walking Dead</td>\n",
       "      <td>Proyecto Halloween</td>\n",
       "      <td>film</td>\n",
       "      <td>Saint-Petersburg</td>\n",
       "      <td>21:14:40</td>\n",
       "      <td>Monday</td>\n",
       "    </tr>\n",
       "    <tr>\n",
       "      <th>61240</th>\n",
       "      <td>BC8EC5CF</td>\n",
       "      <td>Red Lips: Gta (Rover Rework)</td>\n",
       "      <td>Rover</td>\n",
       "      <td>electronic</td>\n",
       "      <td>Saint-Petersburg</td>\n",
       "      <td>21:06:50</td>\n",
       "      <td>Monday</td>\n",
       "    </tr>\n",
       "    <tr>\n",
       "      <th>61241</th>\n",
       "      <td>29E04611</td>\n",
       "      <td>Bre Petrunko</td>\n",
       "      <td>Perunika Trio</td>\n",
       "      <td>world</td>\n",
       "      <td>Saint-Petersburg</td>\n",
       "      <td>13:56:00</td>\n",
       "      <td>Monday</td>\n",
       "    </tr>\n",
       "    <tr>\n",
       "      <th>61242</th>\n",
       "      <td>1B91C621</td>\n",
       "      <td>(Hello) Cloud Mountain</td>\n",
       "      <td>sleepmakeswaves</td>\n",
       "      <td>postrock</td>\n",
       "      <td>Saint-Petersburg</td>\n",
       "      <td>09:22:13</td>\n",
       "      <td>Monday</td>\n",
       "    </tr>\n",
       "    <tr>\n",
       "      <th>61249</th>\n",
       "      <td>D08D4A55</td>\n",
       "      <td>Maybe One Day (feat. Black Spade)</td>\n",
       "      <td>Blu &amp; Exile</td>\n",
       "      <td>hiphop</td>\n",
       "      <td>Saint-Petersburg</td>\n",
       "      <td>10:00:00</td>\n",
       "      <td>Monday</td>\n",
       "    </tr>\n",
       "  </tbody>\n",
       "</table>\n",
       "<p>18512 rows × 7 columns</p>\n",
       "</div>"
      ],
      "text/plain": [
       "        user_id                              track              artist  \\\n",
       "0      FFB692EC                  Kamigata To Boots    The Mass Missile   \n",
       "2        20EC38                  Funiculì funiculà         Mario Lanza   \n",
       "3      A3DD03C9              Dragons in the Sunset          Fire + Ice   \n",
       "5      842029A1                          Преданная           IMPERVTOR   \n",
       "9      E772D5C0                          Pessimist             unknown   \n",
       "...         ...                                ...                 ...   \n",
       "61239  D94F810B        Theme from the Walking Dead  Proyecto Halloween   \n",
       "61240  BC8EC5CF       Red Lips: Gta (Rover Rework)               Rover   \n",
       "61241  29E04611                       Bre Petrunko       Perunika Trio   \n",
       "61242  1B91C621             (Hello) Cloud Mountain     sleepmakeswaves   \n",
       "61249  D08D4A55  Maybe One Day (feat. Black Spade)         Blu & Exile   \n",
       "\n",
       "            genre              city      time        day  \n",
       "0            rock  Saint-Petersburg  20:28:33  Wednesday  \n",
       "2             pop  Saint-Petersburg  20:58:07  Wednesday  \n",
       "3            folk  Saint-Petersburg  08:37:09     Monday  \n",
       "5          rusrap  Saint-Petersburg  13:09:41     Friday  \n",
       "9           dance  Saint-Petersburg  21:20:49  Wednesday  \n",
       "...           ...               ...       ...        ...  \n",
       "61239        film  Saint-Petersburg  21:14:40     Monday  \n",
       "61240  electronic  Saint-Petersburg  21:06:50     Monday  \n",
       "61241       world  Saint-Petersburg  13:56:00     Monday  \n",
       "61242    postrock  Saint-Petersburg  09:22:13     Monday  \n",
       "61249      hiphop  Saint-Petersburg  10:00:00     Monday  \n",
       "\n",
       "[18512 rows x 7 columns]"
      ]
     },
     "execution_count": 29,
     "metadata": {},
     "output_type": "execute_result"
    }
   ],
   "source": [
    "# получение таблицы spb_general\n",
    "spb_general = df[df['city'] == 'Saint-Petersburg']\n",
    "spb_general"
   ]
  },
  {
   "cell_type": "markdown",
   "metadata": {
    "id": "MEJV-CX2_Zcu"
   },
   "source": [
    "Создадим функцию `genre_weekday()` с четырьмя параметрами:\n",
    "* таблица с данными,\n",
    "* день недели,\n",
    "* начальная временная метка в формате 'hh:mm', \n",
    "* последняя временная метка в формате 'hh:mm'."
   ]
  },
  {
   "cell_type": "code",
   "execution_count": 30,
   "metadata": {
    "id": "laJT9BYl_Zcu"
   },
   "outputs": [],
   "source": [
    "# функция возвращает информацию о самых популярных жанрах в указанный день в заданное время:\n",
    "def genre_weekday(table, day, time1, time2):\n",
    "    genre_df = table[table['day'] == day]\n",
    "    genre_df = genre_df[(genre_df['time'] > time1) & (genre_df['time'] < time2)]\n",
    "    genre_df_count = genre_df.groupby('genre')['track'].count()\n",
    "    genre_df_sorted = genre_df_count.sort_values(ascending = False)\n",
    "    return genre_df_sorted.head(10)"
   ]
  },
  {
   "cell_type": "markdown",
   "metadata": {
    "id": "la2s2_PF_Zcu"
   },
   "source": [
    "Cравним результаты функции `genre_weekday()` для Москвы и Санкт-Петербурга в понедельник утром (с 7:00 до 11:00) и в пятницу вечером (с 17:00 до 23:00):"
   ]
  },
  {
   "cell_type": "code",
   "execution_count": 31,
   "metadata": {
    "id": "yz7itPUQ_Zcu"
   },
   "outputs": [
    {
     "data": {
      "text/plain": [
       "genre\n",
       "pop            781\n",
       "dance          549\n",
       "electronic     480\n",
       "rock           474\n",
       "hiphop         286\n",
       "ruspop         186\n",
       "world          181\n",
       "rusrap         175\n",
       "alternative    164\n",
       "unknown        161\n",
       "Name: track, dtype: int64"
      ]
     },
     "execution_count": 31,
     "metadata": {},
     "output_type": "execute_result"
    }
   ],
   "source": [
    "# вызов функции для утра понедельника в Москве\n",
    "genre_weekday(moscow_general, 'Monday', '07:00', '11:00')"
   ]
  },
  {
   "cell_type": "code",
   "execution_count": 32,
   "metadata": {
    "id": "kwUcHPdy_Zcu"
   },
   "outputs": [
    {
     "data": {
      "text/plain": [
       "genre\n",
       "pop            218\n",
       "dance          182\n",
       "rock           162\n",
       "electronic     147\n",
       "hiphop          80\n",
       "ruspop          64\n",
       "alternative     58\n",
       "rusrap          55\n",
       "jazz            44\n",
       "classical       40\n",
       "Name: track, dtype: int64"
      ]
     },
     "execution_count": 32,
     "metadata": {},
     "output_type": "execute_result"
    }
   ],
   "source": [
    "# вызов функции для утра понедельника в Петербурге\n",
    "genre_weekday(spb_general, 'Monday', '07:00', '11:00')"
   ]
  },
  {
   "cell_type": "code",
   "execution_count": 33,
   "metadata": {
    "id": "EzXVRE1o_Zcu"
   },
   "outputs": [
    {
     "data": {
      "text/plain": [
       "genre\n",
       "pop            713\n",
       "rock           517\n",
       "dance          495\n",
       "electronic     482\n",
       "hiphop         273\n",
       "world          208\n",
       "ruspop         170\n",
       "alternative    163\n",
       "classical      163\n",
       "rusrap         142\n",
       "Name: track, dtype: int64"
      ]
     },
     "execution_count": 33,
     "metadata": {},
     "output_type": "execute_result"
    }
   ],
   "source": [
    "# вызов функции для вечера пятницы в Москве\n",
    "genre_weekday(moscow_general, 'Friday', '17:00', '23:00')"
   ]
  },
  {
   "cell_type": "code",
   "execution_count": 34,
   "metadata": {
    "id": "JZaEKu5v_Zcu"
   },
   "outputs": [
    {
     "data": {
      "text/plain": [
       "genre\n",
       "pop            256\n",
       "electronic     216\n",
       "rock           216\n",
       "dance          210\n",
       "hiphop          97\n",
       "alternative     63\n",
       "jazz            61\n",
       "classical       60\n",
       "rusrap          59\n",
       "world           54\n",
       "Name: track, dtype: int64"
      ]
     },
     "execution_count": 34,
     "metadata": {},
     "output_type": "execute_result"
    }
   ],
   "source": [
    "# вызов функции для вечера пятницы в Петербурге\n",
    "genre_weekday(spb_general, 'Friday', '17:00', '23:00')"
   ]
  },
  {
   "cell_type": "markdown",
   "metadata": {
    "id": "wrCe4MNX_Zcu"
   },
   "source": [
    "**Вывод**\n",
    "\n",
    "Если сравнить топ-10 жанров в понедельник утром, можно сделать такие выводы:\n",
    "\n",
    "1. В Москве и Петербурге слушают похожую музыку. Единственное отличие — в московский рейтинг вошёл жанр “world”, а в петербургский — джаз и классика.\n",
    "\n",
    "2. В Москве пропущенных значений оказалось так много, что значение `'unknown'` заняло десятое место среди самых популярных жанров. Значит, пропущенные значения занимают существенную долю в данных и угрожают достоверности исследования.\n",
    "\n",
    "Вечер пятницы не меняет эту картину. Некоторые жанры поднимаются немного выше, другие спускаются, но в целом топ-10 остаётся тем же самым.\n",
    "\n",
    "Таким образом, вторая гипотеза подтвердилась лишь частично:\n",
    "* Пользователи слушают похожую музыку в начале недели и в конце.\n",
    "* Разница между Москвой и Петербургом не слишком выражена. В Москве чаще слушают русскую популярную музыку, в Петербурге — джаз.\n",
    "\n",
    "Однако пропуски в данных ставят под сомнение этот результат. В Москве их так много, что рейтинг топ-10 мог бы выглядеть иначе, если бы не утерянные  данные о жанрах."
   ]
  },
  {
   "cell_type": "markdown",
   "metadata": {
    "id": "JolODAqr_Zcu"
   },
   "source": [
    "### Жанровые предпочтения в Москве и Петербурге\n",
    "\n",
    "Гипотеза: Петербург — столица рэпа, музыку этого жанра там слушают чаще, чем в Москве.  А Москва — город контрастов, в котором, тем не менее, преобладает поп-музыка."
   ]
  },
  {
   "cell_type": "markdown",
   "metadata": {
    "id": "DlegSvaT_Zcu"
   },
   "source": [
    "Сгруппируем таблицу `moscow_general` по жанру и посчитаем прослушивания треков каждого жанра. Затем отсортируем результат в порядке убывания."
   ]
  },
  {
   "cell_type": "code",
   "execution_count": 35,
   "metadata": {
    "id": "r19lIPke_Zcu"
   },
   "outputs": [],
   "source": [
    "# группируем данные\n",
    "moscow_genres = moscow_general.groupby('genre')['genre'].count().sort_values(ascending = False)"
   ]
  },
  {
   "cell_type": "code",
   "execution_count": 36,
   "metadata": {
    "id": "WhCSooF8_Zcv"
   },
   "outputs": [
    {
     "data": {
      "text/plain": [
       "genre\n",
       "pop            5892\n",
       "dance          4435\n",
       "rock           3965\n",
       "electronic     3786\n",
       "hiphop         2096\n",
       "classical      1616\n",
       "world          1432\n",
       "alternative    1379\n",
       "ruspop         1372\n",
       "rusrap         1161\n",
       "Name: genre, dtype: int64"
      ]
     },
     "execution_count": 36,
     "metadata": {},
     "output_type": "execute_result"
    }
   ],
   "source": [
    "# просмотр первых 10 строк\n",
    "moscow_genres.head(10)"
   ]
  },
  {
   "cell_type": "markdown",
   "metadata": {
    "id": "cnPG2vnN_Zcv"
   },
   "source": [
    "Теперь повторим то же и для Петербурга."
   ]
  },
  {
   "cell_type": "code",
   "execution_count": 37,
   "metadata": {
    "id": "gluLIpE7_Zcv"
   },
   "outputs": [],
   "source": [
    "# группируем данные\n",
    "spb_general = spb_general.groupby('genre')['genre'].count().sort_values(ascending = False)"
   ]
  },
  {
   "cell_type": "code",
   "execution_count": 38,
   "metadata": {
    "id": "uaGJHjVU_Zcv"
   },
   "outputs": [
    {
     "data": {
      "text/plain": [
       "genre\n",
       "pop            2431\n",
       "dance          1932\n",
       "rock           1879\n",
       "electronic     1737\n",
       "hiphop          960\n",
       "alternative     649\n",
       "classical       646\n",
       "rusrap          564\n",
       "ruspop          538\n",
       "world           515\n",
       "Name: genre, dtype: int64"
      ]
     },
     "execution_count": 38,
     "metadata": {},
     "output_type": "execute_result"
    }
   ],
   "source": [
    "# просмотр первых 10 строк\n",
    "spb_general.head(10)"
   ]
  },
  {
   "cell_type": "markdown",
   "metadata": {
    "id": "RY51YJYu_Zcv"
   },
   "source": [
    "**Вывод**"
   ]
  },
  {
   "cell_type": "markdown",
   "metadata": {
    "id": "nVhnJEm__Zcv"
   },
   "source": [
    "Гипотеза частично подтвердилась:\n",
    "* Поп-музыка — самый популярный жанр в Москве, как и предполагала гипотеза. Более того, в топ-10 жанров встречается близкий жанр — русская популярная музыка.\n",
    "* Вопреки ожиданиям, рэп одинаково популярен в Москве и Петербурге. \n"
   ]
  },
  {
   "cell_type": "markdown",
   "metadata": {
    "id": "ykKQ0N65_Zcv"
   },
   "source": [
    "## Итоги исследования"
   ]
  },
  {
   "cell_type": "markdown",
   "metadata": {
    "id": "tjUwbHb3_Zcv"
   },
   "source": [
    "Мы проверили три гипотезы и установили:\n",
    "\n",
    "1. День недели по-разному влияет на активность пользователей в Москве и Петербурге. \n",
    "\n",
    "Первая гипотеза полностью подтвердилась.\n",
    "\n",
    "2. Музыкальные предпочтения не сильно меняются в течение недели — будь то Москва или Петербург. Небольшие различия заметны в начале недели, по понедельникам:\n",
    "* в Москве слушают музыку жанра “world”,\n",
    "* в Петербурге — джаз и классику.\n",
    "\n",
    "Таким образом, вторая гипотеза подтвердилась лишь отчасти. Этот результат мог оказаться иным, если бы не пропуски в данных.\n",
    "\n",
    "3. Во вкусах пользователей Москвы и Петербурга больше общего чем различий. Вопреки ожиданиям, предпочтения жанров в Петербурге напоминают московские.\n",
    "\n",
    "Третья гипотеза не подтвердилась. Если различия в предпочтениях и существуют, на основной массе пользователей они незаметны."
   ]
  }
 ],
 "metadata": {
  "ExecuteTimeLog": [
   {
    "duration": 510,
    "start_time": "2021-11-23T09:15:42.073Z"
   },
   {
    "duration": 409,
    "start_time": "2021-11-23T09:16:28.476Z"
   },
   {
    "duration": 340,
    "start_time": "2021-11-23T09:17:43.450Z"
   },
   {
    "duration": 273,
    "start_time": "2021-11-23T09:18:07.037Z"
   },
   {
    "duration": 422,
    "start_time": "2021-11-23T09:19:49.733Z"
   },
   {
    "duration": 291,
    "start_time": "2021-11-23T09:20:10.892Z"
   },
   {
    "duration": 282,
    "start_time": "2021-11-23T09:22:00.360Z"
   },
   {
    "duration": 269,
    "start_time": "2021-11-23T09:23:18.533Z"
   },
   {
    "duration": 795,
    "start_time": "2021-11-23T09:23:39.021Z"
   },
   {
    "duration": 185,
    "start_time": "2021-11-23T09:23:39.819Z"
   },
   {
    "duration": 26,
    "start_time": "2021-11-23T09:23:44.268Z"
   },
   {
    "duration": 33,
    "start_time": "2021-11-23T09:24:05.156Z"
   },
   {
    "duration": 6,
    "start_time": "2021-11-23T09:49:55.378Z"
   },
   {
    "duration": 6,
    "start_time": "2021-11-23T09:54:49.294Z"
   },
   {
    "duration": 6,
    "start_time": "2021-11-23T09:56:43.508Z"
   },
   {
    "duration": 27,
    "start_time": "2021-11-23T09:56:49.942Z"
   },
   {
    "duration": 6,
    "start_time": "2021-11-23T09:56:52.551Z"
   },
   {
    "duration": 37,
    "start_time": "2021-11-23T09:58:30.317Z"
   },
   {
    "duration": 91,
    "start_time": "2021-11-23T10:22:46.046Z"
   },
   {
    "duration": 23,
    "start_time": "2021-11-23T10:23:07.131Z"
   },
   {
    "duration": 22,
    "start_time": "2021-11-23T10:23:09.843Z"
   },
   {
    "duration": 31,
    "start_time": "2021-11-23T10:23:13.102Z"
   },
   {
    "duration": 21,
    "start_time": "2021-11-23T10:23:34.373Z"
   },
   {
    "duration": 30,
    "start_time": "2021-11-23T10:23:36.788Z"
   },
   {
    "duration": 34,
    "start_time": "2021-11-23T10:24:23.179Z"
   },
   {
    "duration": 194,
    "start_time": "2021-11-23T10:24:42.347Z"
   },
   {
    "duration": 3,
    "start_time": "2021-11-23T10:24:46.441Z"
   },
   {
    "duration": 4,
    "start_time": "2021-11-23T10:24:55.910Z"
   },
   {
    "duration": 225,
    "start_time": "2021-11-23T10:24:55.917Z"
   },
   {
    "duration": 16,
    "start_time": "2021-11-23T10:24:56.145Z"
   },
   {
    "duration": 63,
    "start_time": "2021-11-23T10:24:56.164Z"
   },
   {
    "duration": 21,
    "start_time": "2021-11-23T10:24:56.230Z"
   },
   {
    "duration": 39,
    "start_time": "2021-11-23T10:24:56.253Z"
   },
   {
    "duration": 6,
    "start_time": "2021-11-23T10:24:56.297Z"
   },
   {
    "duration": 50,
    "start_time": "2021-11-23T10:24:56.306Z"
   },
   {
    "duration": 30,
    "start_time": "2021-11-23T10:24:56.359Z"
   },
   {
    "duration": 45,
    "start_time": "2021-11-23T10:24:56.391Z"
   },
   {
    "duration": 16,
    "start_time": "2021-11-23T10:24:56.440Z"
   },
   {
    "duration": 16,
    "start_time": "2021-11-23T10:24:56.459Z"
   },
   {
    "duration": 21,
    "start_time": "2021-11-23T10:24:56.477Z"
   },
   {
    "duration": 21,
    "start_time": "2021-11-23T10:24:56.500Z"
   },
   {
    "duration": 26,
    "start_time": "2021-11-23T10:24:56.523Z"
   },
   {
    "duration": 28,
    "start_time": "2021-11-23T10:24:56.552Z"
   },
   {
    "duration": 44,
    "start_time": "2021-11-23T10:24:56.583Z"
   },
   {
    "duration": 48,
    "start_time": "2021-11-23T10:24:56.630Z"
   },
   {
    "duration": 22,
    "start_time": "2021-11-23T10:24:56.685Z"
   },
   {
    "duration": 19,
    "start_time": "2021-11-23T10:24:56.710Z"
   },
   {
    "duration": 43,
    "start_time": "2021-11-23T10:24:56.732Z"
   },
   {
    "duration": 28,
    "start_time": "2021-11-23T10:24:56.778Z"
   },
   {
    "duration": 12,
    "start_time": "2021-11-23T10:24:56.809Z"
   },
   {
    "duration": 40,
    "start_time": "2021-11-23T10:24:56.823Z"
   },
   {
    "duration": 21,
    "start_time": "2021-11-23T10:24:56.865Z"
   },
   {
    "duration": 38,
    "start_time": "2021-11-23T10:24:56.889Z"
   },
   {
    "duration": 24,
    "start_time": "2021-11-23T10:24:56.930Z"
   },
   {
    "duration": 26,
    "start_time": "2021-11-23T10:24:56.956Z"
   },
   {
    "duration": 45,
    "start_time": "2021-11-23T10:24:56.985Z"
   },
   {
    "duration": 38,
    "start_time": "2021-11-23T10:24:57.033Z"
   },
   {
    "duration": 68,
    "start_time": "2021-11-23T10:24:57.073Z"
   },
   {
    "duration": 14,
    "start_time": "2021-11-23T10:24:57.143Z"
   },
   {
    "duration": 18,
    "start_time": "2021-11-23T10:24:57.159Z"
   },
   {
    "duration": 13,
    "start_time": "2021-11-23T10:24:57.179Z"
   },
   {
    "duration": 18,
    "start_time": "2021-11-23T10:24:57.194Z"
   },
   {
    "duration": 12,
    "start_time": "2021-11-23T10:24:57.215Z"
   },
   {
    "duration": 14,
    "start_time": "2021-11-23T10:24:57.230Z"
   },
   {
    "duration": 19,
    "start_time": "2021-11-23T10:24:57.247Z"
   },
   {
    "duration": 31,
    "start_time": "2021-11-23T10:25:14.229Z"
   },
   {
    "duration": 3,
    "start_time": "2021-11-23T10:27:05.721Z"
   },
   {
    "duration": 247,
    "start_time": "2021-11-23T10:27:05.726Z"
   },
   {
    "duration": 17,
    "start_time": "2021-11-23T10:27:05.976Z"
   },
   {
    "duration": 55,
    "start_time": "2021-11-23T10:27:05.996Z"
   },
   {
    "duration": 19,
    "start_time": "2021-11-23T10:27:06.054Z"
   },
   {
    "duration": 34,
    "start_time": "2021-11-23T10:27:06.075Z"
   },
   {
    "duration": 7,
    "start_time": "2021-11-23T10:27:06.113Z"
   },
   {
    "duration": 33,
    "start_time": "2021-11-23T10:27:06.130Z"
   },
   {
    "duration": 27,
    "start_time": "2021-11-23T10:27:06.166Z"
   },
   {
    "duration": 85,
    "start_time": "2021-11-23T10:29:50.868Z"
   },
   {
    "duration": 87,
    "start_time": "2021-11-23T10:31:04.713Z"
   },
   {
    "duration": 109,
    "start_time": "2021-11-23T10:31:27.353Z"
   },
   {
    "duration": 118,
    "start_time": "2021-11-23T10:32:28.933Z"
   },
   {
    "duration": 116,
    "start_time": "2021-11-23T10:32:31.769Z"
   },
   {
    "duration": 11,
    "start_time": "2021-11-23T10:41:59.664Z"
   },
   {
    "duration": 60,
    "start_time": "2021-11-23T10:42:32.779Z"
   },
   {
    "duration": 5,
    "start_time": "2021-11-23T10:58:48.310Z"
   },
   {
    "duration": 4,
    "start_time": "2021-11-23T11:08:11.383Z"
   },
   {
    "duration": 17,
    "start_time": "2021-11-23T11:08:13.624Z"
   },
   {
    "duration": 56,
    "start_time": "2021-11-23T11:08:17.846Z"
   },
   {
    "duration": 16,
    "start_time": "2021-11-23T11:17:35.768Z"
   },
   {
    "duration": 21,
    "start_time": "2021-11-23T11:22:46.475Z"
   },
   {
    "duration": 7,
    "start_time": "2021-11-23T11:35:00.543Z"
   },
   {
    "duration": 10070,
    "start_time": "2021-11-23T11:39:46.430Z"
   },
   {
    "duration": -450,
    "start_time": "2021-11-23T11:41:02.277Z"
   },
   {
    "duration": 142,
    "start_time": "2021-11-23T11:42:16.761Z"
   },
   {
    "duration": 5,
    "start_time": "2021-11-23T11:45:11.847Z"
   },
   {
    "duration": -454,
    "start_time": "2021-11-23T11:47:59.044Z"
   },
   {
    "duration": 5,
    "start_time": "2021-11-23T11:47:59.679Z"
   },
   {
    "duration": 7315,
    "start_time": "2021-11-23T11:48:02.470Z"
   },
   {
    "duration": -453,
    "start_time": "2021-11-23T11:49:22.958Z"
   },
   {
    "duration": 6862,
    "start_time": "2021-11-23T11:49:37.284Z"
   },
   {
    "duration": 6,
    "start_time": "2021-11-23T11:51:38.835Z"
   },
   {
    "duration": 11,
    "start_time": "2021-11-23T11:51:42.102Z"
   },
   {
    "duration": 4,
    "start_time": "2021-11-23T11:54:03.666Z"
   },
   {
    "duration": 300,
    "start_time": "2021-11-23T12:11:03.290Z"
   },
   {
    "duration": 11,
    "start_time": "2021-11-23T12:11:31.889Z"
   },
   {
    "duration": 12,
    "start_time": "2021-11-23T12:11:34.598Z"
   },
   {
    "duration": 10,
    "start_time": "2021-11-23T12:11:36.585Z"
   },
   {
    "duration": 12,
    "start_time": "2021-11-23T12:11:38.777Z"
   },
   {
    "duration": 11,
    "start_time": "2021-11-23T12:11:41.202Z"
   },
   {
    "duration": 14,
    "start_time": "2021-11-23T12:11:43.625Z"
   },
   {
    "duration": 333,
    "start_time": "2021-11-23T12:11:46.308Z"
   },
   {
    "duration": 306,
    "start_time": "2021-11-23T12:12:22.509Z"
   },
   {
    "duration": 5,
    "start_time": "2021-11-23T12:12:54.908Z"
   },
   {
    "duration": 23,
    "start_time": "2021-11-23T12:12:57.683Z"
   },
   {
    "duration": 26,
    "start_time": "2021-11-23T12:13:00.131Z"
   },
   {
    "duration": 23,
    "start_time": "2021-11-23T12:13:02.209Z"
   },
   {
    "duration": 19,
    "start_time": "2021-11-23T12:13:04.746Z"
   },
   {
    "duration": 24,
    "start_time": "2021-11-23T12:13:07.337Z"
   },
   {
    "duration": 20,
    "start_time": "2021-11-23T12:13:09.785Z"
   },
   {
    "duration": 380,
    "start_time": "2021-11-23T12:13:16.401Z"
   },
   {
    "duration": 365,
    "start_time": "2021-11-23T12:13:36.853Z"
   },
   {
    "duration": 22,
    "start_time": "2021-11-23T12:16:01.990Z"
   },
   {
    "duration": 19,
    "start_time": "2021-11-23T12:16:04.806Z"
   },
   {
    "duration": 17,
    "start_time": "2021-11-23T12:16:22.770Z"
   },
   {
    "duration": 24,
    "start_time": "2021-11-23T12:16:46.018Z"
   },
   {
    "duration": 17,
    "start_time": "2021-11-23T12:17:04.474Z"
   },
   {
    "duration": 28,
    "start_time": "2021-11-23T12:17:23.436Z"
   },
   {
    "duration": 17,
    "start_time": "2021-11-23T12:17:34.044Z"
   },
   {
    "duration": 4,
    "start_time": "2021-11-23T12:19:55.407Z"
   },
   {
    "duration": 235,
    "start_time": "2021-11-23T12:19:55.414Z"
   },
   {
    "duration": 15,
    "start_time": "2021-11-23T12:19:55.652Z"
   },
   {
    "duration": 39,
    "start_time": "2021-11-23T12:19:55.670Z"
   },
   {
    "duration": 18,
    "start_time": "2021-11-23T12:19:55.712Z"
   },
   {
    "duration": 17,
    "start_time": "2021-11-23T12:19:55.955Z"
   },
   {
    "duration": 5,
    "start_time": "2021-11-23T12:19:55.975Z"
   },
   {
    "duration": 33,
    "start_time": "2021-11-23T12:19:55.983Z"
   },
   {
    "duration": 45,
    "start_time": "2021-11-23T12:19:56.018Z"
   },
   {
    "duration": 38,
    "start_time": "2021-11-23T12:19:56.065Z"
   },
   {
    "duration": 119,
    "start_time": "2021-11-23T12:19:56.105Z"
   },
   {
    "duration": 103,
    "start_time": "2021-11-23T12:19:56.226Z"
   },
   {
    "duration": 82,
    "start_time": "2021-11-23T12:19:56.332Z"
   },
   {
    "duration": 77,
    "start_time": "2021-11-23T12:19:56.418Z"
   },
   {
    "duration": 21,
    "start_time": "2021-11-23T12:19:56.498Z"
   },
   {
    "duration": 34,
    "start_time": "2021-11-23T12:19:56.522Z"
   },
   {
    "duration": 76,
    "start_time": "2021-11-23T12:19:56.559Z"
   },
   {
    "duration": 16,
    "start_time": "2021-11-23T12:19:56.641Z"
   },
   {
    "duration": 14,
    "start_time": "2021-11-23T12:19:56.660Z"
   },
   {
    "duration": 4,
    "start_time": "2021-11-23T12:19:56.676Z"
   },
   {
    "duration": 57,
    "start_time": "2021-11-23T12:19:56.682Z"
   },
   {
    "duration": 20,
    "start_time": "2021-11-23T12:19:56.742Z"
   },
   {
    "duration": 21,
    "start_time": "2021-11-23T12:19:56.765Z"
   },
   {
    "duration": 54,
    "start_time": "2021-11-23T12:19:56.788Z"
   },
   {
    "duration": 23,
    "start_time": "2021-11-23T12:19:56.845Z"
   },
   {
    "duration": 19,
    "start_time": "2021-11-23T12:19:56.871Z"
   },
   {
    "duration": 363,
    "start_time": "2021-11-23T12:21:07.450Z"
   },
   {
    "duration": 4,
    "start_time": "2021-11-23T12:21:13.903Z"
   },
   {
    "duration": 207,
    "start_time": "2021-11-23T12:21:13.910Z"
   },
   {
    "duration": 29,
    "start_time": "2021-11-23T12:21:14.119Z"
   },
   {
    "duration": 31,
    "start_time": "2021-11-23T12:21:14.151Z"
   },
   {
    "duration": 4,
    "start_time": "2021-11-23T12:21:14.185Z"
   },
   {
    "duration": 63,
    "start_time": "2021-11-23T12:21:14.192Z"
   },
   {
    "duration": 5,
    "start_time": "2021-11-23T12:21:14.259Z"
   },
   {
    "duration": 33,
    "start_time": "2021-11-23T12:21:14.267Z"
   },
   {
    "duration": 54,
    "start_time": "2021-11-23T12:21:14.303Z"
   },
   {
    "duration": 30,
    "start_time": "2021-11-23T12:21:14.360Z"
   },
   {
    "duration": 117,
    "start_time": "2021-11-23T12:21:14.392Z"
   },
   {
    "duration": 107,
    "start_time": "2021-11-23T12:21:14.512Z"
   },
   {
    "duration": 79,
    "start_time": "2021-11-23T12:21:14.629Z"
   },
   {
    "duration": 79,
    "start_time": "2021-11-23T12:21:14.711Z"
   },
   {
    "duration": 10,
    "start_time": "2021-11-23T12:21:14.793Z"
   },
   {
    "duration": 38,
    "start_time": "2021-11-23T12:21:14.806Z"
   },
   {
    "duration": 68,
    "start_time": "2021-11-23T12:21:14.846Z"
   },
   {
    "duration": 30,
    "start_time": "2021-11-23T12:21:14.916Z"
   },
   {
    "duration": 22,
    "start_time": "2021-11-23T12:21:14.951Z"
   },
   {
    "duration": 8,
    "start_time": "2021-11-23T12:21:14.976Z"
   },
   {
    "duration": 61,
    "start_time": "2021-11-23T12:21:14.986Z"
   },
   {
    "duration": 35,
    "start_time": "2021-11-23T12:21:15.049Z"
   },
   {
    "duration": 30,
    "start_time": "2021-11-23T12:21:15.086Z"
   },
   {
    "duration": 28,
    "start_time": "2021-11-23T12:21:15.118Z"
   },
   {
    "duration": 21,
    "start_time": "2021-11-23T12:21:15.149Z"
   },
   {
    "duration": 20,
    "start_time": "2021-11-23T12:21:15.172Z"
   },
   {
    "duration": 380,
    "start_time": "2021-11-23T12:21:56.383Z"
   },
   {
    "duration": 23,
    "start_time": "2021-11-23T12:23:02.151Z"
   },
   {
    "duration": 4,
    "start_time": "2021-11-23T12:25:53.350Z"
   },
   {
    "duration": 217,
    "start_time": "2021-11-23T12:25:53.356Z"
   },
   {
    "duration": 15,
    "start_time": "2021-11-23T12:25:53.576Z"
   },
   {
    "duration": 63,
    "start_time": "2021-11-23T12:25:53.594Z"
   },
   {
    "duration": 6,
    "start_time": "2021-11-23T12:25:53.659Z"
   },
   {
    "duration": 16,
    "start_time": "2021-11-23T12:25:53.667Z"
   },
   {
    "duration": 5,
    "start_time": "2021-11-23T12:25:53.686Z"
   },
   {
    "duration": 67,
    "start_time": "2021-11-23T12:25:53.694Z"
   },
   {
    "duration": 24,
    "start_time": "2021-11-23T12:25:53.763Z"
   },
   {
    "duration": 59,
    "start_time": "2021-11-23T12:25:53.789Z"
   },
   {
    "duration": 98,
    "start_time": "2021-11-23T12:25:53.850Z"
   },
   {
    "duration": 106,
    "start_time": "2021-11-23T12:25:53.950Z"
   },
   {
    "duration": 86,
    "start_time": "2021-11-23T12:25:54.059Z"
   },
   {
    "duration": 56,
    "start_time": "2021-11-23T12:25:54.147Z"
   },
   {
    "duration": 25,
    "start_time": "2021-11-23T12:25:54.205Z"
   },
   {
    "duration": 35,
    "start_time": "2021-11-23T12:25:54.233Z"
   },
   {
    "duration": 60,
    "start_time": "2021-11-23T12:25:54.270Z"
   },
   {
    "duration": 19,
    "start_time": "2021-11-23T12:25:54.334Z"
   },
   {
    "duration": 18,
    "start_time": "2021-11-23T12:25:54.357Z"
   },
   {
    "duration": 6,
    "start_time": "2021-11-23T12:25:54.378Z"
   },
   {
    "duration": 56,
    "start_time": "2021-11-23T12:25:54.386Z"
   },
   {
    "duration": 45,
    "start_time": "2021-11-23T12:25:54.445Z"
   },
   {
    "duration": 19,
    "start_time": "2021-11-23T12:25:54.493Z"
   },
   {
    "duration": 28,
    "start_time": "2021-11-23T12:25:54.515Z"
   },
   {
    "duration": 23,
    "start_time": "2021-11-23T12:25:54.545Z"
   },
   {
    "duration": 19,
    "start_time": "2021-11-23T12:25:54.570Z"
   },
   {
    "duration": 287,
    "start_time": "2021-11-23T12:26:10.870Z"
   },
   {
    "duration": 3,
    "start_time": "2021-11-23T12:28:41.481Z"
   },
   {
    "duration": 217,
    "start_time": "2021-11-23T12:28:41.487Z"
   },
   {
    "duration": 21,
    "start_time": "2021-11-23T12:28:41.707Z"
   },
   {
    "duration": 37,
    "start_time": "2021-11-23T12:28:41.732Z"
   },
   {
    "duration": 5,
    "start_time": "2021-11-23T12:28:41.772Z"
   },
   {
    "duration": 65,
    "start_time": "2021-11-23T12:28:41.779Z"
   },
   {
    "duration": 5,
    "start_time": "2021-11-23T12:28:41.848Z"
   },
   {
    "duration": 52,
    "start_time": "2021-11-23T12:28:41.856Z"
   },
   {
    "duration": 39,
    "start_time": "2021-11-23T12:28:41.910Z"
   },
   {
    "duration": 37,
    "start_time": "2021-11-23T12:28:41.952Z"
   },
   {
    "duration": 118,
    "start_time": "2021-11-23T12:28:41.991Z"
   },
   {
    "duration": 109,
    "start_time": "2021-11-23T12:28:42.111Z"
   },
   {
    "duration": 89,
    "start_time": "2021-11-23T12:28:42.222Z"
   },
   {
    "duration": 77,
    "start_time": "2021-11-23T12:28:42.313Z"
   },
   {
    "duration": 4,
    "start_time": "2021-11-23T12:28:42.392Z"
   },
   {
    "duration": 43,
    "start_time": "2021-11-23T12:28:42.399Z"
   },
   {
    "duration": 63,
    "start_time": "2021-11-23T12:28:42.445Z"
   },
   {
    "duration": 34,
    "start_time": "2021-11-23T12:28:42.511Z"
   },
   {
    "duration": 16,
    "start_time": "2021-11-23T12:28:42.551Z"
   },
   {
    "duration": 12,
    "start_time": "2021-11-23T12:28:42.570Z"
   },
   {
    "duration": 46,
    "start_time": "2021-11-23T12:28:42.584Z"
   },
   {
    "duration": 24,
    "start_time": "2021-11-23T12:28:42.633Z"
   },
   {
    "duration": 30,
    "start_time": "2021-11-23T12:28:42.660Z"
   },
   {
    "duration": 40,
    "start_time": "2021-11-23T12:28:42.693Z"
   },
   {
    "duration": 27,
    "start_time": "2021-11-23T12:28:42.742Z"
   },
   {
    "duration": 23,
    "start_time": "2021-11-23T12:28:42.771Z"
   },
   {
    "duration": 3,
    "start_time": "2021-11-23T12:28:48.495Z"
   },
   {
    "duration": 212,
    "start_time": "2021-11-23T12:28:48.502Z"
   },
   {
    "duration": 34,
    "start_time": "2021-11-23T12:28:48.717Z"
   },
   {
    "duration": 54,
    "start_time": "2021-11-23T12:28:48.754Z"
   },
   {
    "duration": 6,
    "start_time": "2021-11-23T12:28:48.811Z"
   },
   {
    "duration": 28,
    "start_time": "2021-11-23T12:28:48.819Z"
   },
   {
    "duration": 5,
    "start_time": "2021-11-23T12:28:48.849Z"
   },
   {
    "duration": 33,
    "start_time": "2021-11-23T12:28:48.857Z"
   },
   {
    "duration": 54,
    "start_time": "2021-11-23T12:28:48.894Z"
   },
   {
    "duration": 31,
    "start_time": "2021-11-23T12:28:48.951Z"
   },
   {
    "duration": 111,
    "start_time": "2021-11-23T12:28:48.985Z"
   },
   {
    "duration": 105,
    "start_time": "2021-11-23T12:28:49.099Z"
   },
   {
    "duration": 92,
    "start_time": "2021-11-23T12:28:49.206Z"
   },
   {
    "duration": 71,
    "start_time": "2021-11-23T12:28:49.300Z"
   },
   {
    "duration": 4,
    "start_time": "2021-11-23T12:28:49.374Z"
   },
   {
    "duration": 22,
    "start_time": "2021-11-23T12:28:49.380Z"
   },
   {
    "duration": 86,
    "start_time": "2021-11-23T12:28:49.404Z"
   },
   {
    "duration": 15,
    "start_time": "2021-11-23T12:28:49.492Z"
   },
   {
    "duration": 18,
    "start_time": "2021-11-23T12:28:49.532Z"
   },
   {
    "duration": 4,
    "start_time": "2021-11-23T12:28:49.553Z"
   },
   {
    "duration": 28,
    "start_time": "2021-11-23T12:28:49.559Z"
   },
   {
    "duration": 47,
    "start_time": "2021-11-23T12:28:49.590Z"
   },
   {
    "duration": 22,
    "start_time": "2021-11-23T12:28:49.640Z"
   },
   {
    "duration": 19,
    "start_time": "2021-11-23T12:28:49.667Z"
   },
   {
    "duration": 57,
    "start_time": "2021-11-23T12:28:49.689Z"
   },
   {
    "duration": 20,
    "start_time": "2021-11-23T12:28:49.748Z"
   },
   {
    "duration": 349,
    "start_time": "2021-11-23T12:28:58.142Z"
   },
   {
    "duration": 327,
    "start_time": "2021-11-23T12:30:13.877Z"
   },
   {
    "duration": 317,
    "start_time": "2021-11-23T12:30:17.373Z"
   },
   {
    "duration": 54,
    "start_time": "2021-11-23T12:30:47.488Z"
   },
   {
    "duration": 54,
    "start_time": "2021-11-23T12:30:59.203Z"
   },
   {
    "duration": 98,
    "start_time": "2021-11-23T12:32:54.851Z"
   },
   {
    "duration": 104,
    "start_time": "2021-11-23T12:33:46.008Z"
   },
   {
    "duration": 107,
    "start_time": "2021-11-23T12:33:51.782Z"
   },
   {
    "duration": 98,
    "start_time": "2021-11-23T12:34:36.921Z"
   },
   {
    "duration": 32,
    "start_time": "2021-11-23T12:46:28.087Z"
   },
   {
    "duration": 15,
    "start_time": "2021-11-23T12:47:36.138Z"
   },
   {
    "duration": 30,
    "start_time": "2021-11-23T12:48:01.893Z"
   },
   {
    "duration": 29,
    "start_time": "2021-11-23T12:48:27.610Z"
   },
   {
    "duration": 28,
    "start_time": "2021-11-23T12:48:31.810Z"
   },
   {
    "duration": 1430,
    "start_time": "2021-11-23T17:21:02.210Z"
   },
   {
    "duration": 198,
    "start_time": "2021-11-23T17:21:03.642Z"
   },
   {
    "duration": 25,
    "start_time": "2021-11-23T17:21:03.843Z"
   },
   {
    "duration": 52,
    "start_time": "2021-11-23T17:21:03.871Z"
   },
   {
    "duration": 5,
    "start_time": "2021-11-23T17:21:03.926Z"
   },
   {
    "duration": 31,
    "start_time": "2021-11-23T17:21:03.933Z"
   },
   {
    "duration": 35,
    "start_time": "2021-11-23T17:21:03.967Z"
   },
   {
    "duration": 33,
    "start_time": "2021-11-23T17:21:04.007Z"
   },
   {
    "duration": 26,
    "start_time": "2021-11-23T17:21:04.044Z"
   },
   {
    "duration": 59,
    "start_time": "2021-11-23T17:21:04.073Z"
   },
   {
    "duration": 112,
    "start_time": "2021-11-23T17:21:04.135Z"
   },
   {
    "duration": 124,
    "start_time": "2021-11-23T17:21:04.250Z"
   },
   {
    "duration": 88,
    "start_time": "2021-11-23T17:21:04.377Z"
   },
   {
    "duration": 70,
    "start_time": "2021-11-23T17:21:04.468Z"
   },
   {
    "duration": 5,
    "start_time": "2021-11-23T17:21:04.541Z"
   },
   {
    "duration": 57,
    "start_time": "2021-11-23T17:21:04.549Z"
   },
   {
    "duration": 60,
    "start_time": "2021-11-23T17:21:04.608Z"
   },
   {
    "duration": 37,
    "start_time": "2021-11-23T17:21:04.670Z"
   },
   {
    "duration": 15,
    "start_time": "2021-11-23T17:21:04.710Z"
   },
   {
    "duration": 15,
    "start_time": "2021-11-23T17:21:04.728Z"
   },
   {
    "duration": 69,
    "start_time": "2021-11-23T17:21:04.745Z"
   },
   {
    "duration": 20,
    "start_time": "2021-11-23T17:21:04.816Z"
   },
   {
    "duration": 19,
    "start_time": "2021-11-23T17:21:04.841Z"
   },
   {
    "duration": 47,
    "start_time": "2021-11-23T17:21:04.863Z"
   },
   {
    "duration": 22,
    "start_time": "2021-11-23T17:21:04.912Z"
   },
   {
    "duration": 20,
    "start_time": "2021-11-23T17:21:04.936Z"
   },
   {
    "duration": 6,
    "start_time": "2021-11-24T12:12:21.532Z"
   },
   {
    "duration": 398,
    "start_time": "2021-11-24T12:12:23.977Z"
   },
   {
    "duration": 358,
    "start_time": "2021-11-24T12:12:56.456Z"
   },
   {
    "duration": 850,
    "start_time": "2021-11-24T12:13:15.181Z"
   },
   {
    "duration": 188,
    "start_time": "2021-11-24T12:13:16.034Z"
   },
   {
    "duration": 26,
    "start_time": "2021-11-24T12:13:16.225Z"
   },
   {
    "duration": 54,
    "start_time": "2021-11-24T12:13:16.253Z"
   },
   {
    "duration": 5,
    "start_time": "2021-11-24T12:13:16.310Z"
   },
   {
    "duration": 27,
    "start_time": "2021-11-24T12:13:16.317Z"
   },
   {
    "duration": 6,
    "start_time": "2021-11-24T12:13:16.347Z"
   },
   {
    "duration": 64,
    "start_time": "2021-11-24T12:13:16.357Z"
   },
   {
    "duration": 22,
    "start_time": "2021-11-24T12:13:16.425Z"
   },
   {
    "duration": 51,
    "start_time": "2021-11-24T12:13:16.449Z"
   },
   {
    "duration": 99,
    "start_time": "2021-11-24T12:13:16.504Z"
   },
   {
    "duration": 114,
    "start_time": "2021-11-24T12:13:16.606Z"
   },
   {
    "duration": 87,
    "start_time": "2021-11-24T12:13:16.722Z"
   },
   {
    "duration": 59,
    "start_time": "2021-11-24T12:13:16.812Z"
   },
   {
    "duration": 4,
    "start_time": "2021-11-24T12:13:16.874Z"
   },
   {
    "duration": 43,
    "start_time": "2021-11-24T12:13:16.881Z"
   },
   {
    "duration": 83,
    "start_time": "2021-11-24T12:13:16.926Z"
   },
   {
    "duration": 16,
    "start_time": "2021-11-24T12:13:17.012Z"
   },
   {
    "duration": 16,
    "start_time": "2021-11-24T12:13:17.031Z"
   },
   {
    "duration": 5,
    "start_time": "2021-11-24T12:13:17.049Z"
   },
   {
    "duration": 61,
    "start_time": "2021-11-24T12:13:17.057Z"
   },
   {
    "duration": 19,
    "start_time": "2021-11-24T12:13:17.121Z"
   },
   {
    "duration": 19,
    "start_time": "2021-11-24T12:13:17.144Z"
   },
   {
    "duration": 51,
    "start_time": "2021-11-24T12:13:17.166Z"
   },
   {
    "duration": 21,
    "start_time": "2021-11-24T12:13:17.220Z"
   },
   {
    "duration": 18,
    "start_time": "2021-11-24T12:13:17.244Z"
   },
   {
    "duration": 127,
    "start_time": "2021-11-24T12:13:17.264Z"
   },
   {
    "duration": 30,
    "start_time": "2021-11-24T12:13:17.401Z"
   },
   {
    "duration": 28,
    "start_time": "2021-11-24T12:13:17.433Z"
   },
   {
    "duration": 5,
    "start_time": "2021-11-24T12:13:17.463Z"
   },
   {
    "duration": 6,
    "start_time": "2021-11-24T12:15:10.726Z"
   },
   {
    "duration": 732,
    "start_time": "2021-11-24T12:15:13.079Z"
   },
   {
    "duration": 6,
    "start_time": "2021-11-24T12:15:40.972Z"
   },
   {
    "duration": 2461,
    "start_time": "2021-11-24T12:15:45.938Z"
   },
   {
    "duration": 6,
    "start_time": "2021-11-24T12:15:58.279Z"
   },
   {
    "duration": 697,
    "start_time": "2021-11-24T12:16:01.327Z"
   },
   {
    "duration": 4,
    "start_time": "2021-11-24T12:16:13.537Z"
   },
   {
    "duration": 218,
    "start_time": "2021-11-24T12:16:13.543Z"
   },
   {
    "duration": 16,
    "start_time": "2021-11-24T12:16:13.764Z"
   },
   {
    "duration": 46,
    "start_time": "2021-11-24T12:16:13.783Z"
   },
   {
    "duration": 10,
    "start_time": "2021-11-24T12:16:13.831Z"
   },
   {
    "duration": 26,
    "start_time": "2021-11-24T12:16:13.844Z"
   },
   {
    "duration": 28,
    "start_time": "2021-11-24T12:16:13.874Z"
   },
   {
    "duration": 34,
    "start_time": "2021-11-24T12:16:13.906Z"
   },
   {
    "duration": 58,
    "start_time": "2021-11-24T12:16:13.943Z"
   },
   {
    "duration": 33,
    "start_time": "2021-11-24T12:16:14.004Z"
   },
   {
    "duration": 116,
    "start_time": "2021-11-24T12:16:14.039Z"
   },
   {
    "duration": 110,
    "start_time": "2021-11-24T12:16:14.158Z"
   },
   {
    "duration": 90,
    "start_time": "2021-11-24T12:16:14.271Z"
   },
   {
    "duration": 71,
    "start_time": "2021-11-24T12:16:14.364Z"
   },
   {
    "duration": 5,
    "start_time": "2021-11-24T12:16:14.438Z"
   },
   {
    "duration": 55,
    "start_time": "2021-11-24T12:16:14.447Z"
   },
   {
    "duration": 59,
    "start_time": "2021-11-24T12:16:14.505Z"
   },
   {
    "duration": 36,
    "start_time": "2021-11-24T12:16:14.566Z"
   },
   {
    "duration": 15,
    "start_time": "2021-11-24T12:16:14.606Z"
   },
   {
    "duration": 4,
    "start_time": "2021-11-24T12:16:14.624Z"
   },
   {
    "duration": 26,
    "start_time": "2021-11-24T12:16:14.631Z"
   },
   {
    "duration": 52,
    "start_time": "2021-11-24T12:16:14.659Z"
   },
   {
    "duration": 18,
    "start_time": "2021-11-24T12:16:14.713Z"
   },
   {
    "duration": 19,
    "start_time": "2021-11-24T12:16:14.733Z"
   },
   {
    "duration": 49,
    "start_time": "2021-11-24T12:16:14.754Z"
   },
   {
    "duration": 19,
    "start_time": "2021-11-24T12:16:14.805Z"
   },
   {
    "duration": 120,
    "start_time": "2021-11-24T12:16:14.826Z"
   },
   {
    "duration": 28,
    "start_time": "2021-11-24T12:16:14.948Z"
   },
   {
    "duration": 42,
    "start_time": "2021-11-24T12:16:14.979Z"
   },
   {
    "duration": 6,
    "start_time": "2021-11-24T12:16:15.024Z"
   },
   {
    "duration": 31,
    "start_time": "2021-11-24T12:16:46.888Z"
   },
   {
    "duration": 31,
    "start_time": "2021-11-24T12:16:51.011Z"
   },
   {
    "duration": 27,
    "start_time": "2021-11-24T12:16:54.880Z"
   },
   {
    "duration": 28,
    "start_time": "2021-11-24T12:16:57.469Z"
   },
   {
    "duration": 6,
    "start_time": "2021-11-24T12:17:07.852Z"
   },
   {
    "duration": 3,
    "start_time": "2021-11-24T12:17:16.402Z"
   },
   {
    "duration": 703,
    "start_time": "2021-11-24T12:17:23.330Z"
   },
   {
    "duration": 3,
    "start_time": "2021-11-24T12:18:59.556Z"
   },
   {
    "duration": 3,
    "start_time": "2021-11-24T12:19:01.941Z"
   },
   {
    "duration": 725,
    "start_time": "2021-11-24T12:20:08.459Z"
   },
   {
    "duration": 5,
    "start_time": "2021-11-24T12:20:53.447Z"
   },
   {
    "duration": 789,
    "start_time": "2021-11-24T12:20:57.121Z"
   },
   {
    "duration": 6,
    "start_time": "2021-11-24T12:21:42.093Z"
   },
   {
    "duration": 24,
    "start_time": "2021-11-24T12:21:45.093Z"
   },
   {
    "duration": 18,
    "start_time": "2021-11-24T12:25:04.661Z"
   },
   {
    "duration": 23,
    "start_time": "2021-11-24T12:27:04.801Z"
   },
   {
    "duration": 17,
    "start_time": "2021-11-24T12:27:44.841Z"
   },
   {
    "duration": 392,
    "start_time": "2021-11-24T12:31:38.742Z"
   },
   {
    "duration": 30,
    "start_time": "2021-11-24T12:32:24.258Z"
   },
   {
    "duration": 7,
    "start_time": "2021-11-24T12:32:27.695Z"
   },
   {
    "duration": 13,
    "start_time": "2021-11-24T12:33:09.573Z"
   },
   {
    "duration": 7,
    "start_time": "2021-11-24T12:34:36.551Z"
   },
   {
    "duration": 12,
    "start_time": "2021-11-24T12:34:39.549Z"
   },
   {
    "duration": 379,
    "start_time": "2021-11-24T12:35:20.825Z"
   },
   {
    "duration": 6,
    "start_time": "2021-11-24T12:37:49.968Z"
   },
   {
    "duration": 12,
    "start_time": "2021-11-24T12:37:52.894Z"
   },
   {
    "duration": 7,
    "start_time": "2021-11-24T12:37:58.787Z"
   },
   {
    "duration": 13,
    "start_time": "2021-11-24T12:38:01.650Z"
   },
   {
    "duration": 380,
    "start_time": "2021-11-24T12:40:52.796Z"
   },
   {
    "duration": 331,
    "start_time": "2021-11-24T12:41:06.958Z"
   },
   {
    "duration": 342,
    "start_time": "2021-11-24T12:41:49.283Z"
   },
   {
    "duration": 3,
    "start_time": "2021-11-24T12:42:09.677Z"
   },
   {
    "duration": 3,
    "start_time": "2021-11-24T12:42:11.895Z"
   },
   {
    "duration": 7,
    "start_time": "2021-11-24T12:43:20.904Z"
   },
   {
    "duration": 6,
    "start_time": "2021-11-24T12:43:36.539Z"
   },
   {
    "duration": 335,
    "start_time": "2021-11-24T12:44:34.965Z"
   },
   {
    "duration": 353,
    "start_time": "2021-11-24T12:45:29.987Z"
   },
   {
    "duration": 7,
    "start_time": "2021-11-24T12:46:26.248Z"
   },
   {
    "duration": 7,
    "start_time": "2021-11-24T12:46:28.781Z"
   },
   {
    "duration": 7,
    "start_time": "2021-11-24T12:46:32.070Z"
   },
   {
    "duration": 7,
    "start_time": "2021-11-24T12:46:40.763Z"
   },
   {
    "duration": 7,
    "start_time": "2021-11-24T12:46:43.373Z"
   },
   {
    "duration": 353,
    "start_time": "2021-11-24T12:47:05.231Z"
   },
   {
    "duration": 1580,
    "start_time": "2021-11-24T12:47:14.628Z"
   },
   {
    "duration": 8,
    "start_time": "2021-11-24T12:47:16.866Z"
   },
   {
    "duration": 6,
    "start_time": "2021-11-24T12:47:26.162Z"
   },
   {
    "duration": 8,
    "start_time": "2021-11-24T12:47:29.754Z"
   },
   {
    "duration": 7,
    "start_time": "2021-11-24T12:47:33.193Z"
   },
   {
    "duration": 6,
    "start_time": "2021-11-24T12:49:23.504Z"
   },
   {
    "duration": 7,
    "start_time": "2021-11-24T12:49:25.949Z"
   },
   {
    "duration": 7,
    "start_time": "2021-11-24T12:49:40.164Z"
   },
   {
    "duration": 3,
    "start_time": "2021-11-24T12:50:20.105Z"
   },
   {
    "duration": 4,
    "start_time": "2021-11-24T12:50:23.539Z"
   },
   {
    "duration": 9,
    "start_time": "2021-11-24T12:51:09.369Z"
   },
   {
    "duration": 341,
    "start_time": "2021-11-24T12:52:18.227Z"
   },
   {
    "duration": 423,
    "start_time": "2021-11-24T12:52:35.887Z"
   },
   {
    "duration": 4,
    "start_time": "2021-11-24T12:52:40.907Z"
   },
   {
    "duration": 322,
    "start_time": "2021-11-24T12:52:48.383Z"
   },
   {
    "duration": 824,
    "start_time": "2021-11-24T12:54:13.845Z"
   },
   {
    "duration": 3,
    "start_time": "2021-11-24T12:54:44.691Z"
   },
   {
    "duration": 310,
    "start_time": "2021-11-24T12:55:08.718Z"
   },
   {
    "duration": 341,
    "start_time": "2021-11-24T12:55:18.945Z"
   },
   {
    "duration": 108,
    "start_time": "2021-11-24T12:55:34.672Z"
   },
   {
    "duration": 320,
    "start_time": "2021-11-24T12:55:41.161Z"
   },
   {
    "duration": 343,
    "start_time": "2021-11-24T12:56:09.649Z"
   },
   {
    "duration": 3,
    "start_time": "2021-11-24T12:56:16.841Z"
   },
   {
    "duration": 3,
    "start_time": "2021-11-24T12:57:00.756Z"
   },
   {
    "duration": 231,
    "start_time": "2021-11-24T12:57:00.762Z"
   },
   {
    "duration": 19,
    "start_time": "2021-11-24T12:57:00.997Z"
   },
   {
    "duration": 41,
    "start_time": "2021-11-24T12:57:01.019Z"
   },
   {
    "duration": 10,
    "start_time": "2021-11-24T12:57:01.063Z"
   },
   {
    "duration": 56,
    "start_time": "2021-11-24T12:57:01.076Z"
   },
   {
    "duration": 15,
    "start_time": "2021-11-24T12:57:01.137Z"
   },
   {
    "duration": 41,
    "start_time": "2021-11-24T12:57:01.155Z"
   },
   {
    "duration": 51,
    "start_time": "2021-11-24T12:57:01.198Z"
   },
   {
    "duration": 32,
    "start_time": "2021-11-24T12:57:01.252Z"
   },
   {
    "duration": 93,
    "start_time": "2021-11-24T12:57:01.287Z"
   },
   {
    "duration": 102,
    "start_time": "2021-11-24T12:57:01.383Z"
   },
   {
    "duration": 89,
    "start_time": "2021-11-24T12:57:01.487Z"
   },
   {
    "duration": 72,
    "start_time": "2021-11-24T12:57:01.578Z"
   },
   {
    "duration": 4,
    "start_time": "2021-11-24T12:57:01.652Z"
   },
   {
    "duration": 72,
    "start_time": "2021-11-24T12:57:01.658Z"
   },
   {
    "duration": 88,
    "start_time": "2021-11-24T12:57:01.732Z"
   },
   {
    "duration": 44,
    "start_time": "2021-11-24T12:57:01.823Z"
   },
   {
    "duration": 49,
    "start_time": "2021-11-24T12:57:01.871Z"
   },
   {
    "duration": 16,
    "start_time": "2021-11-24T12:57:01.923Z"
   },
   {
    "duration": 45,
    "start_time": "2021-11-24T12:57:01.942Z"
   },
   {
    "duration": 21,
    "start_time": "2021-11-24T12:57:01.990Z"
   },
   {
    "duration": 24,
    "start_time": "2021-11-24T12:57:02.013Z"
   },
   {
    "duration": 22,
    "start_time": "2021-11-24T12:57:02.040Z"
   },
   {
    "duration": 42,
    "start_time": "2021-11-24T12:57:02.065Z"
   },
   {
    "duration": 21,
    "start_time": "2021-11-24T12:57:02.110Z"
   },
   {
    "duration": 138,
    "start_time": "2021-11-24T12:57:02.133Z"
   },
   {
    "duration": 42,
    "start_time": "2021-11-24T12:57:02.273Z"
   },
   {
    "duration": 27,
    "start_time": "2021-11-24T12:57:02.318Z"
   },
   {
    "duration": 6,
    "start_time": "2021-11-24T12:57:02.347Z"
   },
   {
    "duration": 60,
    "start_time": "2021-11-24T12:57:02.355Z"
   },
   {
    "duration": 17,
    "start_time": "2021-11-24T12:57:02.417Z"
   },
   {
    "duration": 24,
    "start_time": "2021-11-24T12:57:02.436Z"
   },
   {
    "duration": 13,
    "start_time": "2021-11-24T12:57:29.846Z"
   },
   {
    "duration": 6,
    "start_time": "2021-11-24T12:57:48.392Z"
   },
   {
    "duration": 4,
    "start_time": "2021-11-24T12:58:59.065Z"
   },
   {
    "duration": 216,
    "start_time": "2021-11-24T12:58:59.071Z"
   },
   {
    "duration": 23,
    "start_time": "2021-11-24T12:58:59.290Z"
   },
   {
    "duration": 34,
    "start_time": "2021-11-24T12:58:59.316Z"
   },
   {
    "duration": 11,
    "start_time": "2021-11-24T12:58:59.352Z"
   },
   {
    "duration": 50,
    "start_time": "2021-11-24T12:58:59.366Z"
   },
   {
    "duration": 6,
    "start_time": "2021-11-24T12:58:59.420Z"
   },
   {
    "duration": 36,
    "start_time": "2021-11-24T12:58:59.429Z"
   },
   {
    "duration": 47,
    "start_time": "2021-11-24T12:58:59.467Z"
   },
   {
    "duration": 31,
    "start_time": "2021-11-24T12:58:59.517Z"
   },
   {
    "duration": 111,
    "start_time": "2021-11-24T12:58:59.551Z"
   },
   {
    "duration": 103,
    "start_time": "2021-11-24T12:58:59.664Z"
   },
   {
    "duration": 86,
    "start_time": "2021-11-24T12:58:59.770Z"
   },
   {
    "duration": 72,
    "start_time": "2021-11-24T12:58:59.858Z"
   },
   {
    "duration": 4,
    "start_time": "2021-11-24T12:58:59.932Z"
   },
   {
    "duration": 26,
    "start_time": "2021-11-24T12:58:59.939Z"
   },
   {
    "duration": 82,
    "start_time": "2021-11-24T12:58:59.967Z"
   },
   {
    "duration": 17,
    "start_time": "2021-11-24T12:59:00.052Z"
   },
   {
    "duration": 40,
    "start_time": "2021-11-24T12:59:00.074Z"
   },
   {
    "duration": 9,
    "start_time": "2021-11-24T12:59:00.117Z"
   },
   {
    "duration": 35,
    "start_time": "2021-11-24T12:59:00.129Z"
   },
   {
    "duration": 36,
    "start_time": "2021-11-24T12:59:00.166Z"
   },
   {
    "duration": 27,
    "start_time": "2021-11-24T12:59:00.205Z"
   },
   {
    "duration": 19,
    "start_time": "2021-11-24T12:59:00.235Z"
   },
   {
    "duration": 47,
    "start_time": "2021-11-24T12:59:00.257Z"
   },
   {
    "duration": 23,
    "start_time": "2021-11-24T12:59:00.308Z"
   },
   {
    "duration": 129,
    "start_time": "2021-11-24T12:59:00.334Z"
   },
   {
    "duration": 43,
    "start_time": "2021-11-24T12:59:00.466Z"
   },
   {
    "duration": 28,
    "start_time": "2021-11-24T12:59:00.511Z"
   },
   {
    "duration": 5,
    "start_time": "2021-11-24T12:59:00.542Z"
   },
   {
    "duration": 63,
    "start_time": "2021-11-24T12:59:00.550Z"
   },
   {
    "duration": 17,
    "start_time": "2021-11-24T12:59:00.616Z"
   },
   {
    "duration": 36,
    "start_time": "2021-11-24T12:59:00.635Z"
   },
   {
    "duration": 37,
    "start_time": "2021-11-24T12:59:00.673Z"
   },
   {
    "duration": 13,
    "start_time": "2021-11-24T12:59:00.712Z"
   },
   {
    "duration": 20,
    "start_time": "2021-11-24T12:59:00.727Z"
   },
   {
    "duration": 12,
    "start_time": "2021-11-24T12:59:00.749Z"
   },
   {
    "duration": 6,
    "start_time": "2021-11-24T12:59:04.856Z"
   },
   {
    "duration": 3,
    "start_time": "2021-11-24T12:59:48.587Z"
   },
   {
    "duration": 219,
    "start_time": "2021-11-24T12:59:48.593Z"
   },
   {
    "duration": 16,
    "start_time": "2021-11-24T12:59:48.814Z"
   },
   {
    "duration": 37,
    "start_time": "2021-11-24T12:59:48.832Z"
   },
   {
    "duration": 6,
    "start_time": "2021-11-24T12:59:48.871Z"
   },
   {
    "duration": 17,
    "start_time": "2021-11-24T12:59:48.901Z"
   },
   {
    "duration": 6,
    "start_time": "2021-11-24T12:59:48.922Z"
   },
   {
    "duration": 40,
    "start_time": "2021-11-24T12:59:48.931Z"
   },
   {
    "duration": 47,
    "start_time": "2021-11-24T12:59:48.974Z"
   },
   {
    "duration": 31,
    "start_time": "2021-11-24T12:59:49.024Z"
   },
   {
    "duration": 117,
    "start_time": "2021-11-24T12:59:49.057Z"
   },
   {
    "duration": 146,
    "start_time": "2021-11-24T12:59:49.177Z"
   },
   {
    "duration": 110,
    "start_time": "2021-11-24T12:59:49.326Z"
   },
   {
    "duration": 72,
    "start_time": "2021-11-24T12:59:49.438Z"
   },
   {
    "duration": 4,
    "start_time": "2021-11-24T12:59:49.512Z"
   },
   {
    "duration": 29,
    "start_time": "2021-11-24T12:59:49.518Z"
   },
   {
    "duration": 71,
    "start_time": "2021-11-24T12:59:49.550Z"
   },
   {
    "duration": 15,
    "start_time": "2021-11-24T12:59:49.623Z"
   },
   {
    "duration": 15,
    "start_time": "2021-11-24T12:59:49.643Z"
   },
   {
    "duration": 39,
    "start_time": "2021-11-24T12:59:49.661Z"
   },
   {
    "duration": 22,
    "start_time": "2021-11-24T12:59:49.702Z"
   },
   {
    "duration": 20,
    "start_time": "2021-11-24T12:59:49.726Z"
   },
   {
    "duration": 52,
    "start_time": "2021-11-24T12:59:49.748Z"
   },
   {
    "duration": 20,
    "start_time": "2021-11-24T12:59:49.803Z"
   },
   {
    "duration": 21,
    "start_time": "2021-11-24T12:59:49.825Z"
   },
   {
    "duration": 19,
    "start_time": "2021-11-24T12:59:49.848Z"
   },
   {
    "duration": 103,
    "start_time": "2021-11-24T12:59:49.900Z"
   },
   {
    "duration": 31,
    "start_time": "2021-11-24T12:59:50.006Z"
   },
   {
    "duration": 27,
    "start_time": "2021-11-24T12:59:50.039Z"
   },
   {
    "duration": 35,
    "start_time": "2021-11-24T12:59:50.068Z"
   },
   {
    "duration": 52,
    "start_time": "2021-11-24T12:59:50.105Z"
   },
   {
    "duration": 26,
    "start_time": "2021-11-24T12:59:50.159Z"
   },
   {
    "duration": 26,
    "start_time": "2021-11-24T12:59:50.187Z"
   },
   {
    "duration": 28,
    "start_time": "2021-11-24T12:59:50.215Z"
   },
   {
    "duration": 17,
    "start_time": "2021-11-24T12:59:50.246Z"
   },
   {
    "duration": 27,
    "start_time": "2021-11-24T12:59:50.266Z"
   },
   {
    "duration": 16,
    "start_time": "2021-11-24T12:59:50.296Z"
   },
   {
    "duration": 10,
    "start_time": "2021-11-24T12:59:50.315Z"
   },
   {
    "duration": 601,
    "start_time": "2021-11-24T16:10:40.276Z"
   },
   {
    "duration": 124,
    "start_time": "2021-11-24T16:10:40.879Z"
   },
   {
    "duration": 17,
    "start_time": "2021-11-24T16:10:41.005Z"
   },
   {
    "duration": 26,
    "start_time": "2021-11-24T16:10:41.023Z"
   },
   {
    "duration": 4,
    "start_time": "2021-11-24T16:10:41.051Z"
   },
   {
    "duration": 37,
    "start_time": "2021-11-24T16:10:41.056Z"
   },
   {
    "duration": 3,
    "start_time": "2021-11-24T16:10:41.095Z"
   },
   {
    "duration": 26,
    "start_time": "2021-11-24T16:10:41.100Z"
   },
   {
    "duration": 17,
    "start_time": "2021-11-24T16:10:41.128Z"
   },
   {
    "duration": 19,
    "start_time": "2021-11-24T16:10:41.147Z"
   },
   {
    "duration": 69,
    "start_time": "2021-11-24T16:10:41.168Z"
   },
   {
    "duration": 60,
    "start_time": "2021-11-24T16:10:41.238Z"
   },
   {
    "duration": 44,
    "start_time": "2021-11-24T16:10:41.300Z"
   },
   {
    "duration": 50,
    "start_time": "2021-11-24T16:10:41.346Z"
   },
   {
    "duration": 3,
    "start_time": "2021-11-24T16:10:41.397Z"
   },
   {
    "duration": 16,
    "start_time": "2021-11-24T16:10:41.401Z"
   },
   {
    "duration": 35,
    "start_time": "2021-11-24T16:10:41.418Z"
   },
   {
    "duration": 19,
    "start_time": "2021-11-24T16:10:41.455Z"
   },
   {
    "duration": 17,
    "start_time": "2021-11-24T16:10:41.476Z"
   },
   {
    "duration": 3,
    "start_time": "2021-11-24T16:10:41.495Z"
   },
   {
    "duration": 19,
    "start_time": "2021-11-24T16:10:41.500Z"
   },
   {
    "duration": 13,
    "start_time": "2021-11-24T16:10:41.521Z"
   },
   {
    "duration": 13,
    "start_time": "2021-11-24T16:10:41.538Z"
   },
   {
    "duration": 46,
    "start_time": "2021-11-24T16:10:41.553Z"
   },
   {
    "duration": 14,
    "start_time": "2021-11-24T16:10:41.601Z"
   },
   {
    "duration": 12,
    "start_time": "2021-11-24T16:10:41.617Z"
   },
   {
    "duration": 86,
    "start_time": "2021-11-24T16:10:41.631Z"
   },
   {
    "duration": 18,
    "start_time": "2021-11-24T16:10:41.719Z"
   },
   {
    "duration": 16,
    "start_time": "2021-11-24T16:10:41.739Z"
   },
   {
    "duration": 4,
    "start_time": "2021-11-24T16:10:41.757Z"
   },
   {
    "duration": 20,
    "start_time": "2021-11-24T16:10:41.787Z"
   },
   {
    "duration": 11,
    "start_time": "2021-11-24T16:10:41.809Z"
   },
   {
    "duration": 14,
    "start_time": "2021-11-24T16:10:41.821Z"
   },
   {
    "duration": 11,
    "start_time": "2021-11-24T16:10:41.836Z"
   },
   {
    "duration": 7,
    "start_time": "2021-11-24T16:10:41.848Z"
   },
   {
    "duration": 32,
    "start_time": "2021-11-24T16:10:41.856Z"
   },
   {
    "duration": 5,
    "start_time": "2021-11-24T16:10:41.889Z"
   },
   {
    "duration": 4,
    "start_time": "2021-11-24T16:10:41.895Z"
   },
   {
    "duration": 659,
    "start_time": "2021-11-24T16:58:38.479Z"
   },
   {
    "duration": 139,
    "start_time": "2021-11-24T16:58:39.140Z"
   },
   {
    "duration": 17,
    "start_time": "2021-11-24T16:58:39.281Z"
   },
   {
    "duration": 29,
    "start_time": "2021-11-24T16:58:39.300Z"
   },
   {
    "duration": 6,
    "start_time": "2021-11-24T16:58:39.330Z"
   },
   {
    "duration": 34,
    "start_time": "2021-11-24T16:58:39.337Z"
   },
   {
    "duration": 17,
    "start_time": "2021-11-24T16:58:39.373Z"
   },
   {
    "duration": 34,
    "start_time": "2021-11-24T16:58:39.393Z"
   },
   {
    "duration": 25,
    "start_time": "2021-11-24T16:58:39.429Z"
   },
   {
    "duration": 39,
    "start_time": "2021-11-24T16:58:39.456Z"
   },
   {
    "duration": 65,
    "start_time": "2021-11-24T16:58:39.496Z"
   },
   {
    "duration": 69,
    "start_time": "2021-11-24T16:58:39.563Z"
   },
   {
    "duration": 48,
    "start_time": "2021-11-24T16:58:39.634Z"
   },
   {
    "duration": 51,
    "start_time": "2021-11-24T16:58:39.683Z"
   },
   {
    "duration": 15,
    "start_time": "2021-11-24T16:58:39.736Z"
   },
   {
    "duration": 35,
    "start_time": "2021-11-24T16:58:39.753Z"
   },
   {
    "duration": 46,
    "start_time": "2021-11-24T16:58:39.790Z"
   },
   {
    "duration": 20,
    "start_time": "2021-11-24T16:58:39.838Z"
   },
   {
    "duration": 27,
    "start_time": "2021-11-24T16:58:39.860Z"
   },
   {
    "duration": 12,
    "start_time": "2021-11-24T16:58:39.889Z"
   },
   {
    "duration": 43,
    "start_time": "2021-11-24T16:58:39.903Z"
   },
   {
    "duration": 23,
    "start_time": "2021-11-24T16:58:39.948Z"
   },
   {
    "duration": 48,
    "start_time": "2021-11-24T16:58:39.974Z"
   },
   {
    "duration": 28,
    "start_time": "2021-11-24T16:58:40.024Z"
   },
   {
    "duration": 19,
    "start_time": "2021-11-24T16:58:40.054Z"
   },
   {
    "duration": 18,
    "start_time": "2021-11-24T16:58:40.075Z"
   },
   {
    "duration": 74,
    "start_time": "2021-11-24T16:58:40.094Z"
   },
   {
    "duration": 17,
    "start_time": "2021-11-24T16:58:40.170Z"
   },
   {
    "duration": 27,
    "start_time": "2021-11-24T16:58:40.189Z"
   },
   {
    "duration": 3,
    "start_time": "2021-11-24T16:58:40.218Z"
   },
   {
    "duration": 44,
    "start_time": "2021-11-24T16:58:40.223Z"
   },
   {
    "duration": 26,
    "start_time": "2021-11-24T16:58:40.269Z"
   },
   {
    "duration": 27,
    "start_time": "2021-11-24T16:58:40.297Z"
   },
   {
    "duration": 15,
    "start_time": "2021-11-24T16:58:40.326Z"
   },
   {
    "duration": 21,
    "start_time": "2021-11-24T16:58:40.342Z"
   },
   {
    "duration": 14,
    "start_time": "2021-11-24T16:58:40.364Z"
   },
   {
    "duration": 15,
    "start_time": "2021-11-24T16:58:40.380Z"
   },
   {
    "duration": 16,
    "start_time": "2021-11-24T16:58:40.396Z"
   },
   {
    "duration": 525,
    "start_time": "2021-11-24T17:15:40.150Z"
   },
   {
    "duration": 119,
    "start_time": "2021-11-24T17:15:40.677Z"
   },
   {
    "duration": 14,
    "start_time": "2021-11-24T17:15:40.797Z"
   },
   {
    "duration": 22,
    "start_time": "2021-11-24T17:15:40.813Z"
   },
   {
    "duration": 3,
    "start_time": "2021-11-24T17:15:40.838Z"
   },
   {
    "duration": 19,
    "start_time": "2021-11-24T17:15:40.843Z"
   },
   {
    "duration": 25,
    "start_time": "2021-11-24T17:15:40.864Z"
   },
   {
    "duration": 27,
    "start_time": "2021-11-24T17:15:40.891Z"
   },
   {
    "duration": 17,
    "start_time": "2021-11-24T17:15:40.920Z"
   },
   {
    "duration": 18,
    "start_time": "2021-11-24T17:15:40.939Z"
   },
   {
    "duration": 65,
    "start_time": "2021-11-24T17:15:40.959Z"
   },
   {
    "duration": 69,
    "start_time": "2021-11-24T17:15:41.026Z"
   },
   {
    "duration": 45,
    "start_time": "2021-11-24T17:15:41.096Z"
   },
   {
    "duration": 46,
    "start_time": "2021-11-24T17:15:41.142Z"
   },
   {
    "duration": 2,
    "start_time": "2021-11-24T17:15:41.190Z"
   },
   {
    "duration": 21,
    "start_time": "2021-11-24T17:15:41.194Z"
   },
   {
    "duration": 44,
    "start_time": "2021-11-24T17:15:41.216Z"
   },
   {
    "duration": 20,
    "start_time": "2021-11-24T17:15:41.262Z"
   },
   {
    "duration": 26,
    "start_time": "2021-11-24T17:15:41.283Z"
   },
   {
    "duration": 14,
    "start_time": "2021-11-24T17:15:41.311Z"
   },
   {
    "duration": 31,
    "start_time": "2021-11-24T17:15:41.326Z"
   },
   {
    "duration": 27,
    "start_time": "2021-11-24T17:15:41.358Z"
   },
   {
    "duration": 12,
    "start_time": "2021-11-24T17:15:41.389Z"
   },
   {
    "duration": 12,
    "start_time": "2021-11-24T17:15:41.404Z"
   },
   {
    "duration": 12,
    "start_time": "2021-11-24T17:15:41.418Z"
   },
   {
    "duration": 11,
    "start_time": "2021-11-24T17:15:41.432Z"
   },
   {
    "duration": 86,
    "start_time": "2021-11-24T17:15:41.444Z"
   },
   {
    "duration": 16,
    "start_time": "2021-11-24T17:15:41.532Z"
   },
   {
    "duration": 14,
    "start_time": "2021-11-24T17:15:41.549Z"
   },
   {
    "duration": 4,
    "start_time": "2021-11-24T17:15:41.564Z"
   },
   {
    "duration": 32,
    "start_time": "2021-11-24T17:15:41.569Z"
   },
   {
    "duration": 10,
    "start_time": "2021-11-24T17:15:41.602Z"
   },
   {
    "duration": 16,
    "start_time": "2021-11-24T17:15:41.614Z"
   },
   {
    "duration": 11,
    "start_time": "2021-11-24T17:15:41.632Z"
   },
   {
    "duration": 6,
    "start_time": "2021-11-24T17:15:41.645Z"
   },
   {
    "duration": 36,
    "start_time": "2021-11-24T17:15:41.653Z"
   },
   {
    "duration": 9,
    "start_time": "2021-11-24T17:15:41.690Z"
   },
   {
    "duration": 5,
    "start_time": "2021-11-24T17:15:41.701Z"
   },
   {
    "duration": 82,
    "start_time": "2021-11-24T17:19:37.302Z"
   },
   {
    "duration": 898,
    "start_time": "2021-11-24T17:33:33.915Z"
   },
   {
    "duration": 914,
    "start_time": "2021-11-24T17:34:10.796Z"
   },
   {
    "duration": 422,
    "start_time": "2022-07-22T07:43:53.524Z"
   },
   {
    "duration": 746,
    "start_time": "2022-07-22T07:43:53.950Z"
   },
   {
    "duration": 20,
    "start_time": "2022-07-22T07:43:54.698Z"
   },
   {
    "duration": 52,
    "start_time": "2022-07-22T07:43:54.721Z"
   },
   {
    "duration": 5,
    "start_time": "2022-07-22T07:43:54.775Z"
   },
   {
    "duration": 27,
    "start_time": "2022-07-22T07:43:54.782Z"
   },
   {
    "duration": 22,
    "start_time": "2022-07-22T07:43:54.810Z"
   },
   {
    "duration": 40,
    "start_time": "2022-07-22T07:43:54.833Z"
   },
   {
    "duration": 40,
    "start_time": "2022-07-22T07:43:54.874Z"
   },
   {
    "duration": 26,
    "start_time": "2022-07-22T07:43:54.917Z"
   },
   {
    "duration": 97,
    "start_time": "2022-07-22T07:43:54.944Z"
   },
   {
    "duration": 74,
    "start_time": "2022-07-22T07:43:55.043Z"
   },
   {
    "duration": 58,
    "start_time": "2022-07-22T07:43:55.119Z"
   },
   {
    "duration": 38,
    "start_time": "2022-07-22T07:43:55.179Z"
   },
   {
    "duration": 20,
    "start_time": "2022-07-22T07:43:55.218Z"
   },
   {
    "duration": 43,
    "start_time": "2022-07-22T07:43:55.240Z"
   },
   {
    "duration": 61,
    "start_time": "2022-07-22T07:43:55.285Z"
   },
   {
    "duration": 13,
    "start_time": "2022-07-22T07:43:55.348Z"
   },
   {
    "duration": 23,
    "start_time": "2022-07-22T07:43:55.362Z"
   },
   {
    "duration": 26,
    "start_time": "2022-07-22T07:43:55.386Z"
   },
   {
    "duration": 58,
    "start_time": "2022-07-22T07:43:55.413Z"
   },
   {
    "duration": 27,
    "start_time": "2022-07-22T07:43:55.473Z"
   },
   {
    "duration": 48,
    "start_time": "2022-07-22T07:43:55.502Z"
   },
   {
    "duration": 28,
    "start_time": "2022-07-22T07:43:55.552Z"
   },
   {
    "duration": 35,
    "start_time": "2022-07-22T07:43:55.582Z"
   },
   {
    "duration": 43,
    "start_time": "2022-07-22T07:43:55.619Z"
   },
   {
    "duration": 75,
    "start_time": "2022-07-22T07:43:55.664Z"
   },
   {
    "duration": 20,
    "start_time": "2022-07-22T07:43:55.742Z"
   },
   {
    "duration": 25,
    "start_time": "2022-07-22T07:43:55.763Z"
   },
   {
    "duration": 31,
    "start_time": "2022-07-22T07:43:55.790Z"
   },
   {
    "duration": 48,
    "start_time": "2022-07-22T07:43:55.823Z"
   },
   {
    "duration": 40,
    "start_time": "2022-07-22T07:43:55.873Z"
   },
   {
    "duration": 40,
    "start_time": "2022-07-22T07:43:55.915Z"
   },
   {
    "duration": 22,
    "start_time": "2022-07-22T07:43:55.957Z"
   },
   {
    "duration": 25,
    "start_time": "2022-07-22T07:43:55.981Z"
   },
   {
    "duration": 27,
    "start_time": "2022-07-22T07:43:56.007Z"
   },
   {
    "duration": 21,
    "start_time": "2022-07-22T07:43:56.035Z"
   },
   {
    "duration": 42,
    "start_time": "2022-07-22T07:43:56.057Z"
   },
   {
    "duration": 3,
    "start_time": "2022-07-22T08:17:59.563Z"
   },
   {
    "duration": 994,
    "start_time": "2022-07-22T08:17:59.567Z"
   },
   {
    "duration": 15,
    "start_time": "2022-07-22T08:18:00.564Z"
   },
   {
    "duration": 50,
    "start_time": "2022-07-22T08:18:00.581Z"
   },
   {
    "duration": 23,
    "start_time": "2022-07-22T08:18:00.633Z"
   },
   {
    "duration": 41,
    "start_time": "2022-07-22T08:18:00.658Z"
   },
   {
    "duration": 30,
    "start_time": "2022-07-22T08:18:00.701Z"
   },
   {
    "duration": 73,
    "start_time": "2022-07-22T08:18:00.733Z"
   },
   {
    "duration": 31,
    "start_time": "2022-07-22T08:18:00.807Z"
   },
   {
    "duration": 35,
    "start_time": "2022-07-22T08:18:00.840Z"
   },
   {
    "duration": 69,
    "start_time": "2022-07-22T08:18:00.878Z"
   },
   {
    "duration": 73,
    "start_time": "2022-07-22T08:18:00.949Z"
   },
   {
    "duration": 57,
    "start_time": "2022-07-22T08:18:01.023Z"
   },
   {
    "duration": 38,
    "start_time": "2022-07-22T08:18:01.082Z"
   },
   {
    "duration": 12,
    "start_time": "2022-07-22T08:18:01.121Z"
   },
   {
    "duration": 35,
    "start_time": "2022-07-22T08:18:01.135Z"
   },
   {
    "duration": 56,
    "start_time": "2022-07-22T08:18:01.172Z"
   },
   {
    "duration": 12,
    "start_time": "2022-07-22T08:18:01.229Z"
   },
   {
    "duration": 36,
    "start_time": "2022-07-22T08:18:01.243Z"
   },
   {
    "duration": 10,
    "start_time": "2022-07-22T08:18:01.281Z"
   },
   {
    "duration": 45,
    "start_time": "2022-07-22T08:18:01.293Z"
   },
   {
    "duration": 42,
    "start_time": "2022-07-22T08:18:01.340Z"
   },
   {
    "duration": 47,
    "start_time": "2022-07-22T08:18:01.384Z"
   },
   {
    "duration": 28,
    "start_time": "2022-07-22T08:18:01.433Z"
   },
   {
    "duration": 91,
    "start_time": "2022-07-22T08:18:01.463Z"
   },
   {
    "duration": 62,
    "start_time": "2022-07-22T08:18:01.555Z"
   },
   {
    "duration": 110,
    "start_time": "2022-07-22T08:18:01.619Z"
   },
   {
    "duration": 20,
    "start_time": "2022-07-22T08:18:01.730Z"
   },
   {
    "duration": 29,
    "start_time": "2022-07-22T08:18:01.760Z"
   },
   {
    "duration": 35,
    "start_time": "2022-07-22T08:18:01.792Z"
   },
   {
    "duration": 45,
    "start_time": "2022-07-22T08:18:01.829Z"
   },
   {
    "duration": 108,
    "start_time": "2022-07-22T08:18:01.875Z"
   },
   {
    "duration": 40,
    "start_time": "2022-07-22T08:18:01.985Z"
   },
   {
    "duration": 74,
    "start_time": "2022-07-22T08:18:02.027Z"
   },
   {
    "duration": 10,
    "start_time": "2022-07-22T08:18:02.103Z"
   },
   {
    "duration": 8,
    "start_time": "2022-07-22T08:18:02.115Z"
   },
   {
    "duration": 14,
    "start_time": "2022-07-22T08:18:02.124Z"
   },
   {
    "duration": 7,
    "start_time": "2022-07-22T08:18:02.140Z"
   },
   {
    "duration": 2,
    "start_time": "2022-07-22T08:25:19.053Z"
   },
   {
    "duration": 599,
    "start_time": "2022-07-22T08:25:19.059Z"
   },
   {
    "duration": 11,
    "start_time": "2022-07-22T08:25:19.660Z"
   },
   {
    "duration": 64,
    "start_time": "2022-07-22T08:25:19.673Z"
   },
   {
    "duration": 4,
    "start_time": "2022-07-22T08:25:19.740Z"
   },
   {
    "duration": 16,
    "start_time": "2022-07-22T08:25:19.745Z"
   },
   {
    "duration": 10,
    "start_time": "2022-07-22T08:25:19.762Z"
   },
   {
    "duration": 34,
    "start_time": "2022-07-22T08:25:19.773Z"
   },
   {
    "duration": 20,
    "start_time": "2022-07-22T08:25:19.808Z"
   },
   {
    "duration": 24,
    "start_time": "2022-07-22T08:25:19.829Z"
   },
   {
    "duration": 62,
    "start_time": "2022-07-22T08:25:19.861Z"
   },
   {
    "duration": 78,
    "start_time": "2022-07-22T08:25:19.925Z"
   },
   {
    "duration": 58,
    "start_time": "2022-07-22T08:25:20.004Z"
   },
   {
    "duration": 37,
    "start_time": "2022-07-22T08:25:20.064Z"
   },
   {
    "duration": 3,
    "start_time": "2022-07-22T08:25:20.103Z"
   },
   {
    "duration": 22,
    "start_time": "2022-07-22T08:25:20.107Z"
   },
   {
    "duration": 56,
    "start_time": "2022-07-22T08:25:20.131Z"
   },
   {
    "duration": 12,
    "start_time": "2022-07-22T08:25:20.189Z"
   },
   {
    "duration": 11,
    "start_time": "2022-07-22T08:25:20.202Z"
   },
   {
    "duration": 5,
    "start_time": "2022-07-22T08:25:20.215Z"
   },
   {
    "duration": 46,
    "start_time": "2022-07-22T08:25:20.221Z"
   },
   {
    "duration": 20,
    "start_time": "2022-07-22T08:25:20.269Z"
   },
   {
    "duration": 16,
    "start_time": "2022-07-22T08:25:20.290Z"
   },
   {
    "duration": 13,
    "start_time": "2022-07-22T08:25:20.308Z"
   },
   {
    "duration": 39,
    "start_time": "2022-07-22T08:25:20.322Z"
   },
   {
    "duration": 14,
    "start_time": "2022-07-22T08:25:20.363Z"
   },
   {
    "duration": 65,
    "start_time": "2022-07-22T08:25:20.379Z"
   },
   {
    "duration": 32,
    "start_time": "2022-07-22T08:25:20.446Z"
   },
   {
    "duration": 17,
    "start_time": "2022-07-22T08:25:20.482Z"
   },
   {
    "duration": 4,
    "start_time": "2022-07-22T08:25:20.500Z"
   },
   {
    "duration": 20,
    "start_time": "2022-07-22T08:25:20.505Z"
   },
   {
    "duration": 36,
    "start_time": "2022-07-22T08:25:20.527Z"
   },
   {
    "duration": 14,
    "start_time": "2022-07-22T08:25:20.565Z"
   },
   {
    "duration": 11,
    "start_time": "2022-07-22T08:25:20.580Z"
   },
   {
    "duration": 13,
    "start_time": "2022-07-22T08:25:20.592Z"
   },
   {
    "duration": 5,
    "start_time": "2022-07-22T08:25:20.607Z"
   },
   {
    "duration": 9,
    "start_time": "2022-07-22T08:25:20.614Z"
   },
   {
    "duration": 37,
    "start_time": "2022-07-22T08:25:20.625Z"
   },
   {
    "duration": 2,
    "start_time": "2022-07-22T08:25:44.588Z"
   },
   {
    "duration": 731,
    "start_time": "2022-07-22T08:25:44.593Z"
   },
   {
    "duration": 10,
    "start_time": "2022-07-22T08:25:45.327Z"
   },
   {
    "duration": 33,
    "start_time": "2022-07-22T08:25:45.339Z"
   },
   {
    "duration": 4,
    "start_time": "2022-07-22T08:25:45.374Z"
   },
   {
    "duration": 9,
    "start_time": "2022-07-22T08:25:45.379Z"
   },
   {
    "duration": 7,
    "start_time": "2022-07-22T08:25:45.389Z"
   },
   {
    "duration": 30,
    "start_time": "2022-07-22T08:25:45.398Z"
   },
   {
    "duration": 32,
    "start_time": "2022-07-22T08:25:45.429Z"
   },
   {
    "duration": 26,
    "start_time": "2022-07-22T08:25:45.462Z"
   },
   {
    "duration": 74,
    "start_time": "2022-07-22T08:25:45.490Z"
   },
   {
    "duration": 64,
    "start_time": "2022-07-22T08:25:45.566Z"
   },
   {
    "duration": 67,
    "start_time": "2022-07-22T08:25:45.632Z"
   },
   {
    "duration": 36,
    "start_time": "2022-07-22T08:25:45.701Z"
   },
   {
    "duration": 3,
    "start_time": "2022-07-22T08:25:45.739Z"
   },
   {
    "duration": 30,
    "start_time": "2022-07-22T08:25:45.743Z"
   },
   {
    "duration": 54,
    "start_time": "2022-07-22T08:25:45.774Z"
   },
   {
    "duration": 11,
    "start_time": "2022-07-22T08:25:45.830Z"
   },
   {
    "duration": 19,
    "start_time": "2022-07-22T08:25:45.842Z"
   },
   {
    "duration": 8,
    "start_time": "2022-07-22T08:25:45.862Z"
   },
   {
    "duration": 29,
    "start_time": "2022-07-22T08:25:45.872Z"
   },
   {
    "duration": 14,
    "start_time": "2022-07-22T08:25:45.903Z"
   },
   {
    "duration": 39,
    "start_time": "2022-07-22T08:25:45.919Z"
   },
   {
    "duration": 33,
    "start_time": "2022-07-22T08:25:45.959Z"
   },
   {
    "duration": 32,
    "start_time": "2022-07-22T08:25:45.994Z"
   },
   {
    "duration": 29,
    "start_time": "2022-07-22T08:25:46.027Z"
   },
   {
    "duration": 80,
    "start_time": "2022-07-22T08:25:46.058Z"
   },
   {
    "duration": 18,
    "start_time": "2022-07-22T08:25:46.140Z"
   },
   {
    "duration": 16,
    "start_time": "2022-07-22T08:25:46.162Z"
   },
   {
    "duration": 4,
    "start_time": "2022-07-22T08:25:46.179Z"
   },
   {
    "duration": 64,
    "start_time": "2022-07-22T08:25:46.185Z"
   },
   {
    "duration": 27,
    "start_time": "2022-07-22T08:25:46.251Z"
   },
   {
    "duration": 28,
    "start_time": "2022-07-22T08:25:46.279Z"
   },
   {
    "duration": 15,
    "start_time": "2022-07-22T08:25:46.309Z"
   },
   {
    "duration": 16,
    "start_time": "2022-07-22T08:25:46.327Z"
   },
   {
    "duration": 17,
    "start_time": "2022-07-22T08:25:46.345Z"
   },
   {
    "duration": 24,
    "start_time": "2022-07-22T08:25:46.364Z"
   },
   {
    "duration": 17,
    "start_time": "2022-07-22T08:25:46.390Z"
   },
   {
    "duration": 410,
    "start_time": "2022-07-22T08:30:29.250Z"
   },
   {
    "duration": 614,
    "start_time": "2022-07-22T08:30:29.662Z"
   },
   {
    "duration": 16,
    "start_time": "2022-07-22T08:30:30.278Z"
   },
   {
    "duration": 40,
    "start_time": "2022-07-22T08:30:30.296Z"
   },
   {
    "duration": 13,
    "start_time": "2022-07-22T08:30:30.338Z"
   },
   {
    "duration": 15,
    "start_time": "2022-07-22T08:30:30.353Z"
   },
   {
    "duration": 16,
    "start_time": "2022-07-22T08:30:30.370Z"
   },
   {
    "duration": 33,
    "start_time": "2022-07-22T08:30:30.388Z"
   },
   {
    "duration": 35,
    "start_time": "2022-07-22T08:30:30.422Z"
   },
   {
    "duration": 27,
    "start_time": "2022-07-22T08:30:30.460Z"
   },
   {
    "duration": 83,
    "start_time": "2022-07-22T08:30:30.489Z"
   },
   {
    "duration": 79,
    "start_time": "2022-07-22T08:30:30.574Z"
   },
   {
    "duration": 71,
    "start_time": "2022-07-22T08:30:30.655Z"
   },
   {
    "duration": 50,
    "start_time": "2022-07-22T08:30:30.728Z"
   },
   {
    "duration": 18,
    "start_time": "2022-07-22T08:30:30.779Z"
   },
   {
    "duration": 40,
    "start_time": "2022-07-22T08:30:30.800Z"
   },
   {
    "duration": 46,
    "start_time": "2022-07-22T08:30:30.842Z"
   },
   {
    "duration": 18,
    "start_time": "2022-07-22T08:30:30.890Z"
   },
   {
    "duration": 26,
    "start_time": "2022-07-22T08:30:30.910Z"
   },
   {
    "duration": 5,
    "start_time": "2022-07-22T08:30:30.938Z"
   },
   {
    "duration": 33,
    "start_time": "2022-07-22T08:30:30.944Z"
   },
   {
    "duration": 26,
    "start_time": "2022-07-22T08:30:30.979Z"
   },
   {
    "duration": 22,
    "start_time": "2022-07-22T08:30:31.007Z"
   },
   {
    "duration": 27,
    "start_time": "2022-07-22T08:30:31.032Z"
   },
   {
    "duration": 17,
    "start_time": "2022-07-22T08:30:31.061Z"
   },
   {
    "duration": 15,
    "start_time": "2022-07-22T08:30:31.080Z"
   },
   {
    "duration": 94,
    "start_time": "2022-07-22T08:30:31.097Z"
   },
   {
    "duration": 20,
    "start_time": "2022-07-22T08:30:31.194Z"
   },
   {
    "duration": 19,
    "start_time": "2022-07-22T08:30:31.216Z"
   },
   {
    "duration": 24,
    "start_time": "2022-07-22T08:30:31.237Z"
   },
   {
    "duration": 38,
    "start_time": "2022-07-22T08:30:31.263Z"
   },
   {
    "duration": 13,
    "start_time": "2022-07-22T08:30:31.303Z"
   },
   {
    "duration": 19,
    "start_time": "2022-07-22T08:30:31.318Z"
   },
   {
    "duration": 36,
    "start_time": "2022-07-22T08:30:31.338Z"
   },
   {
    "duration": 22,
    "start_time": "2022-07-22T08:30:31.377Z"
   },
   {
    "duration": 15,
    "start_time": "2022-07-22T08:30:31.400Z"
   },
   {
    "duration": 19,
    "start_time": "2022-07-22T08:30:31.416Z"
   },
   {
    "duration": 24,
    "start_time": "2022-07-22T08:30:31.436Z"
   }
  ],
  "colab": {
   "collapsed_sections": [
    "E0vqbgi9ay0H",
    "VUC88oWjTJw2"
   ],
   "name": "yandex_music_project_2021.2.ipynb",
   "provenance": []
  },
  "kernelspec": {
   "display_name": "Python 3 (ipykernel)",
   "language": "python",
   "name": "python3"
  },
  "language_info": {
   "codemirror_mode": {
    "name": "ipython",
    "version": 3
   },
   "file_extension": ".py",
   "mimetype": "text/x-python",
   "name": "python",
   "nbconvert_exporter": "python",
   "pygments_lexer": "ipython3",
   "version": "3.7.8"
  },
  "toc": {
   "base_numbering": 1,
   "nav_menu": {},
   "number_sections": true,
   "sideBar": true,
   "skip_h1_title": true,
   "title_cell": "Содержание",
   "title_sidebar": "Содержание",
   "toc_cell": true,
   "toc_position": {},
   "toc_section_display": true,
   "toc_window_display": true
  }
 },
 "nbformat": 4,
 "nbformat_minor": 1
}
