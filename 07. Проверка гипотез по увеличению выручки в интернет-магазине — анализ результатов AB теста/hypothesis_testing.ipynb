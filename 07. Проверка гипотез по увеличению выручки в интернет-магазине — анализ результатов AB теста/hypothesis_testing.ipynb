{
 "cells": [
  {
   "cell_type": "markdown",
   "metadata": {},
   "source": [
    "# Проверка гипотез по увеличению выручки в интернет-магазине — анализ результатов A/B теста."
   ]
  },
  {
   "cell_type": "markdown",
   "metadata": {},
   "source": [
    "Отдел маркетинга подготовил список гипотез для увеличения выручки."
   ]
  },
  {
   "cell_type": "markdown",
   "metadata": {},
   "source": [
    "**Цель исследования:**\n",
    "\n",
    "Необходимо приоритизировать гипотезы, запустить A/B-тест и проанализировать результаты."
   ]
  },
  {
   "cell_type": "markdown",
   "metadata": {},
   "source": [
    "**Задачи исследования:**\n",
    "\n",
    "* Подготовить данные к анализу.\n",
    "* Провести приоритизицию гипотез.\n",
    "* Рассчитать статистическую значимость.\n",
    "* Сделать выводы по результатам A/B-теста."
   ]
  },
  {
   "cell_type": "markdown",
   "metadata": {},
   "source": [
    "**Исходные данные:**\n",
    "    \n",
    "`hypothesis.csv`:\n",
    "* `Hypothesis` — краткое описание гипотезы;\n",
    "* `Reach` — охват пользователей по 10-балльной шкале;\n",
    "* `Impact` — влияние на пользователей по 10-балльной шкале;\n",
    "* `Confidence` — уверенность в гипотезе по 10-балльной шкале;\n",
    "* `Efforts` — затраты ресурсов на проверку гипотезы по 10-балльной шкале. Чем больше значение Efforts, тем дороже проверка гипотезы.\n",
    "\n",
    "`orders.csv`:\n",
    "* `transactionId` — идентификатор заказа;\n",
    "* `visitorId` — идентификатор пользователя, совершившего заказ;\n",
    "* `date` — дата, когда был совершён заказ;\n",
    "* `revenue` — выручка заказа;\n",
    "* `group` — группа A/B-теста, в которую попал заказ.\n",
    "\n",
    "`visitors.csv`\n",
    "* `date` — дата;\n",
    "* `roup` — группа A/B-теста;\n",
    "* `visitors` — количество пользователей в указанную дату в указанной группе A/B-теста   "
   ]
  },
  {
   "cell_type": "markdown",
   "metadata": {
    "toc": true
   },
   "source": [
    "<h1>Содержание<span class=\"tocSkip\"></span></h1>\n",
    "<div class=\"toc\"><ul class=\"toc-item\"><li><span><a href=\"#Обзор-и-подготовка-данных\" data-toc-modified-id=\"Обзор-и-подготовка-данных-1\"><span class=\"toc-item-num\">1&nbsp;&nbsp;</span>Обзор и подготовка данных</a></span><ul class=\"toc-item\"><li><span><a href=\"#Таблица-data\" data-toc-modified-id=\"Таблица-data-1.1\"><span class=\"toc-item-num\">1.1&nbsp;&nbsp;</span>Таблица <code>data</code></a></span></li><li><span><a href=\"#Таблица-orders\" data-toc-modified-id=\"Таблица-orders-1.2\"><span class=\"toc-item-num\">1.2&nbsp;&nbsp;</span>Таблица <code>orders</code></a></span></li><li><span><a href=\"#Таблица-visitors\" data-toc-modified-id=\"Таблица-visitors-1.3\"><span class=\"toc-item-num\">1.3&nbsp;&nbsp;</span>Таблица <code>visitors</code></a></span></li><li><span><a href=\"#Вывод\" data-toc-modified-id=\"Вывод-1.4\"><span class=\"toc-item-num\">1.4&nbsp;&nbsp;</span>Вывод</a></span></li></ul></li><li><span><a href=\"#Приоритизация-гипотез.\" data-toc-modified-id=\"Приоритизация-гипотез.-2\"><span class=\"toc-item-num\">2&nbsp;&nbsp;</span>Приоритизация гипотез.</a></span><ul class=\"toc-item\"><li><span><a href=\"#Применение-фреймворка-ICE\" data-toc-modified-id=\"Применение-фреймворка-ICE-2.1\"><span class=\"toc-item-num\">2.1&nbsp;&nbsp;</span>Применение фреймворка <code>ICE</code></a></span></li><li><span><a href=\"#Применение-фреймворка-RICE\" data-toc-modified-id=\"Применение-фреймворка-RICE-2.2\"><span class=\"toc-item-num\">2.2&nbsp;&nbsp;</span>Применение фреймворка <code>RICE</code></a></span></li><li><span><a href=\"#Вывод\" data-toc-modified-id=\"Вывод-2.3\"><span class=\"toc-item-num\">2.3&nbsp;&nbsp;</span>Вывод</a></span></li></ul></li><li><span><a href=\"#Анализ-A/B-теста\" data-toc-modified-id=\"Анализ-A/B-теста-3\"><span class=\"toc-item-num\">3&nbsp;&nbsp;</span>Анализ A/B-теста</a></span><ul class=\"toc-item\"><li><span><a href=\"#График-кумулятивной-выручки-по-группам.\" data-toc-modified-id=\"График-кумулятивной-выручки-по-группам.-3.1\"><span class=\"toc-item-num\">3.1&nbsp;&nbsp;</span>График кумулятивной выручки по группам.</a></span></li><li><span><a href=\"#График-кумулятивного-среднего-чека-по-группам.\" data-toc-modified-id=\"График-кумулятивного-среднего-чека-по-группам.-3.2\"><span class=\"toc-item-num\">3.2&nbsp;&nbsp;</span>График кумулятивного среднего чека по группам.</a></span></li><li><span><a href=\"#График-относительного-изменения-кумулятивного-среднего-чека-группы-B-к-группе-A.\" data-toc-modified-id=\"График-относительного-изменения-кумулятивного-среднего-чека-группы-B-к-группе-A.-3.3\"><span class=\"toc-item-num\">3.3&nbsp;&nbsp;</span>График относительного изменения кумулятивного среднего чека группы B к группе A.</a></span></li><li><span><a href=\"#График-кумулятивной-конверсии-по-группам.\" data-toc-modified-id=\"График-кумулятивной-конверсии-по-группам.-3.4\"><span class=\"toc-item-num\">3.4&nbsp;&nbsp;</span>График кумулятивной конверсии по группам.</a></span></li><li><span><a href=\"#График-относительного-изменения-кумулятивной-конверсии-группы-B-к-группе-A.\" data-toc-modified-id=\"График-относительного-изменения-кумулятивной-конверсии-группы-B-к-группе-A.-3.5\"><span class=\"toc-item-num\">3.5&nbsp;&nbsp;</span>График относительного изменения кумулятивной конверсии группы B к группе A.</a></span></li><li><span><a href=\"#Точечный-график-количества-заказов-по-пользователям.\" data-toc-modified-id=\"Точечный-график-количества-заказов-по-пользователям.-3.6\"><span class=\"toc-item-num\">3.6&nbsp;&nbsp;</span>Точечный график количества заказов по пользователям.</a></span></li><li><span><a href=\"#95-й-и-99-й-перцентили-количества-заказов-на-пользователя.\" data-toc-modified-id=\"95-й-и-99-й-перцентили-количества-заказов-на-пользователя.-3.7\"><span class=\"toc-item-num\">3.7&nbsp;&nbsp;</span>95-й и 99-й перцентили количества заказов на пользователя.</a></span></li><li><span><a href=\"#Точечный-график-стоимостей-заказов.\" data-toc-modified-id=\"Точечный-график-стоимостей-заказов.-3.8\"><span class=\"toc-item-num\">3.8&nbsp;&nbsp;</span>Точечный график стоимостей заказов.</a></span></li><li><span><a href=\"#95-й-и-99-й-перцентили-стоимости-заказов.\" data-toc-modified-id=\"95-й-и-99-й-перцентили-стоимости-заказов.-3.9\"><span class=\"toc-item-num\">3.9&nbsp;&nbsp;</span>95-й и 99-й перцентили стоимости заказов.</a></span></li><li><span><a href=\"#Расчет-статистической-значимости-различий-в-конверсии-между-группами-по-«сырым»-данным.\" data-toc-modified-id=\"Расчет-статистической-значимости-различий-в-конверсии-между-группами-по-«сырым»-данным.-3.10\"><span class=\"toc-item-num\">3.10&nbsp;&nbsp;</span>Расчет статистической значимости различий в конверсии между группами по «сырым» данным.</a></span></li><li><span><a href=\"#Расчет-статистической-значимости-различий-в-среднем-чеке-заказа-между-группами-по-«сырым»-данным.\" data-toc-modified-id=\"Расчет-статистической-значимости-различий-в-среднем-чеке-заказа-между-группами-по-«сырым»-данным.-3.11\"><span class=\"toc-item-num\">3.11&nbsp;&nbsp;</span>Расчет статистической значимости различий в среднем чеке заказа между группами по «сырым» данным.</a></span></li><li><span><a href=\"#Расчет-статистической-значимости-различий-в-конверсии-между-группами-по-«очищенным»-данным.\" data-toc-modified-id=\"Расчет-статистической-значимости-различий-в-конверсии-между-группами-по-«очищенным»-данным.-3.12\"><span class=\"toc-item-num\">3.12&nbsp;&nbsp;</span>Расчет статистической значимости различий в конверсии между группами по «очищенным» данным.</a></span></li><li><span><a href=\"#Расчет-статистической-значимости-различий-в-среднем-чеке-заказа-между-группами-по-«очищенным»-данным.\" data-toc-modified-id=\"Расчет-статистической-значимости-различий-в-среднем-чеке-заказа-между-группами-по-«очищенным»-данным.-3.13\"><span class=\"toc-item-num\">3.13&nbsp;&nbsp;</span>Расчет статистической значимости различий в среднем чеке заказа между группами по «очищенным» данным.</a></span></li><li><span><a href=\"#Решение-по-результатам-теста.\" data-toc-modified-id=\"Решение-по-результатам-теста.-3.14\"><span class=\"toc-item-num\">3.14&nbsp;&nbsp;</span>Решение по результатам теста.</a></span></li></ul></li></ul></div>"
   ]
  },
  {
   "cell_type": "markdown",
   "metadata": {},
   "source": [
    "## Обзор и подготовка данных"
   ]
  },
  {
   "cell_type": "code",
   "execution_count": 1,
   "metadata": {},
   "outputs": [],
   "source": [
    "#импорт необходимых библиотек\n",
    "import pandas as pd\n",
    "import numpy as np\n",
    "from matplotlib import pyplot as plt\n",
    "\n",
    "import math\n",
    "from scipy import stats\n",
    "\n",
    "from datetime import timedelta\n",
    "import datetime as dt\n",
    "\n",
    "from statsmodels.stats.proportion import proportions_ztest\n",
    "import warnings\n",
    "\n",
    "#для игнорирования предупреждений\n",
    "warnings.filterwarnings('ignore')"
   ]
  },
  {
   "cell_type": "code",
   "execution_count": 2,
   "metadata": {},
   "outputs": [],
   "source": [
    "pd.set_option('display.max_columns', None)\n",
    "pd.options.display.max_colwidth = 150 "
   ]
  },
  {
   "cell_type": "code",
   "execution_count": 3,
   "metadata": {},
   "outputs": [],
   "source": [
    "#открываем файлы с данными\n",
    "data = pd.read_csv('hypothesis.csv')\n",
    "orders = pd.read_csv('orders.csv', sep=',')\n",
    "visitors = pd.read_csv('visitors.csv', sep=',') "
   ]
  },
  {
   "cell_type": "markdown",
   "metadata": {},
   "source": [
    "### Таблица `data`"
   ]
  },
  {
   "cell_type": "code",
   "execution_count": 4,
   "metadata": {
    "scrolled": true
   },
   "outputs": [
    {
     "data": {
      "text/html": [
       "<div>\n",
       "<style scoped>\n",
       "    .dataframe tbody tr th:only-of-type {\n",
       "        vertical-align: middle;\n",
       "    }\n",
       "\n",
       "    .dataframe tbody tr th {\n",
       "        vertical-align: top;\n",
       "    }\n",
       "\n",
       "    .dataframe thead th {\n",
       "        text-align: right;\n",
       "    }\n",
       "</style>\n",
       "<table border=\"1\" class=\"dataframe\">\n",
       "  <thead>\n",
       "    <tr style=\"text-align: right;\">\n",
       "      <th></th>\n",
       "      <th>Hypothesis</th>\n",
       "      <th>Reach</th>\n",
       "      <th>Impact</th>\n",
       "      <th>Confidence</th>\n",
       "      <th>Efforts</th>\n",
       "    </tr>\n",
       "  </thead>\n",
       "  <tbody>\n",
       "    <tr>\n",
       "      <td>0</td>\n",
       "      <td>Добавить два новых канала привлечения трафика, что позволит привлекать на 30% больше пользователей</td>\n",
       "      <td>3</td>\n",
       "      <td>10</td>\n",
       "      <td>8</td>\n",
       "      <td>6</td>\n",
       "    </tr>\n",
       "    <tr>\n",
       "      <td>1</td>\n",
       "      <td>Запустить собственную службу доставки, что сократит срок доставки заказов</td>\n",
       "      <td>2</td>\n",
       "      <td>5</td>\n",
       "      <td>4</td>\n",
       "      <td>10</td>\n",
       "    </tr>\n",
       "    <tr>\n",
       "      <td>2</td>\n",
       "      <td>Добавить блоки рекомендаций товаров на сайт интернет магазина, чтобы повысить конверсию и средний чек заказа</td>\n",
       "      <td>8</td>\n",
       "      <td>3</td>\n",
       "      <td>7</td>\n",
       "      <td>3</td>\n",
       "    </tr>\n",
       "    <tr>\n",
       "      <td>3</td>\n",
       "      <td>Изменить структура категорий, что увеличит конверсию, т.к. пользователи быстрее найдут нужный товар</td>\n",
       "      <td>8</td>\n",
       "      <td>3</td>\n",
       "      <td>3</td>\n",
       "      <td>8</td>\n",
       "    </tr>\n",
       "    <tr>\n",
       "      <td>4</td>\n",
       "      <td>Изменить цвет фона главной страницы, чтобы увеличить вовлеченность пользователей</td>\n",
       "      <td>3</td>\n",
       "      <td>1</td>\n",
       "      <td>1</td>\n",
       "      <td>1</td>\n",
       "    </tr>\n",
       "    <tr>\n",
       "      <td>5</td>\n",
       "      <td>Добавить страницу отзывов клиентов о магазине, что позволит увеличить количество заказов</td>\n",
       "      <td>3</td>\n",
       "      <td>2</td>\n",
       "      <td>2</td>\n",
       "      <td>3</td>\n",
       "    </tr>\n",
       "    <tr>\n",
       "      <td>6</td>\n",
       "      <td>Показать на главной странице баннеры с актуальными акциями и распродажами, чтобы увеличить конверсию</td>\n",
       "      <td>5</td>\n",
       "      <td>3</td>\n",
       "      <td>8</td>\n",
       "      <td>3</td>\n",
       "    </tr>\n",
       "    <tr>\n",
       "      <td>7</td>\n",
       "      <td>Добавить форму подписки на все основные страницы, чтобы собрать базу клиентов для email-рассылок</td>\n",
       "      <td>10</td>\n",
       "      <td>7</td>\n",
       "      <td>8</td>\n",
       "      <td>5</td>\n",
       "    </tr>\n",
       "    <tr>\n",
       "      <td>8</td>\n",
       "      <td>Запустить акцию, дающую скидку на товар в день рождения</td>\n",
       "      <td>1</td>\n",
       "      <td>9</td>\n",
       "      <td>9</td>\n",
       "      <td>5</td>\n",
       "    </tr>\n",
       "  </tbody>\n",
       "</table>\n",
       "</div>"
      ],
      "text/plain": [
       "                                                                                                     Hypothesis  \\\n",
       "0            Добавить два новых канала привлечения трафика, что позволит привлекать на 30% больше пользователей   \n",
       "1                                     Запустить собственную службу доставки, что сократит срок доставки заказов   \n",
       "2  Добавить блоки рекомендаций товаров на сайт интернет магазина, чтобы повысить конверсию и средний чек заказа   \n",
       "3           Изменить структура категорий, что увеличит конверсию, т.к. пользователи быстрее найдут нужный товар   \n",
       "4                              Изменить цвет фона главной страницы, чтобы увеличить вовлеченность пользователей   \n",
       "5                      Добавить страницу отзывов клиентов о магазине, что позволит увеличить количество заказов   \n",
       "6          Показать на главной странице баннеры с актуальными акциями и распродажами, чтобы увеличить конверсию   \n",
       "7              Добавить форму подписки на все основные страницы, чтобы собрать базу клиентов для email-рассылок   \n",
       "8                                                       Запустить акцию, дающую скидку на товар в день рождения   \n",
       "\n",
       "   Reach  Impact  Confidence  Efforts  \n",
       "0      3      10           8        6  \n",
       "1      2       5           4       10  \n",
       "2      8       3           7        3  \n",
       "3      8       3           3        8  \n",
       "4      3       1           1        1  \n",
       "5      3       2           2        3  \n",
       "6      5       3           8        3  \n",
       "7     10       7           8        5  \n",
       "8      1       9           9        5  "
      ]
     },
     "execution_count": 4,
     "metadata": {},
     "output_type": "execute_result"
    }
   ],
   "source": [
    "data"
   ]
  },
  {
   "cell_type": "code",
   "execution_count": 5,
   "metadata": {},
   "outputs": [
    {
     "name": "stdout",
     "output_type": "stream",
     "text": [
      "<class 'pandas.core.frame.DataFrame'>\n",
      "RangeIndex: 9 entries, 0 to 8\n",
      "Data columns (total 5 columns):\n",
      "Hypothesis    9 non-null object\n",
      "Reach         9 non-null int64\n",
      "Impact        9 non-null int64\n",
      "Confidence    9 non-null int64\n",
      "Efforts       9 non-null int64\n",
      "dtypes: int64(4), object(1)\n",
      "memory usage: 488.0+ bytes\n"
     ]
    }
   ],
   "source": [
    "#общая информация о таблице\n",
    "data.info()"
   ]
  },
  {
   "cell_type": "code",
   "execution_count": 6,
   "metadata": {},
   "outputs": [],
   "source": [
    "#Приводим названия столбцов к нижнему регистру\n",
    "data.columns = data.columns.str.lower()"
   ]
  },
  {
   "cell_type": "markdown",
   "metadata": {},
   "source": [
    "### Таблица `orders`"
   ]
  },
  {
   "cell_type": "code",
   "execution_count": 7,
   "metadata": {},
   "outputs": [
    {
     "name": "stdout",
     "output_type": "stream",
     "text": [
      "<class 'pandas.core.frame.DataFrame'>\n",
      "RangeIndex: 1197 entries, 0 to 1196\n",
      "Data columns (total 5 columns):\n",
      "transactionId    1197 non-null int64\n",
      "visitorId        1197 non-null int64\n",
      "date             1197 non-null object\n",
      "revenue          1197 non-null int64\n",
      "group            1197 non-null object\n",
      "dtypes: int64(3), object(2)\n",
      "memory usage: 46.9+ KB\n"
     ]
    }
   ],
   "source": [
    "#общая информация о таблице\n",
    "orders.info()"
   ]
  },
  {
   "cell_type": "code",
   "execution_count": 8,
   "metadata": {},
   "outputs": [],
   "source": [
    "#приводим названия столбцов к нижнему регистру\n",
    "orders.columns = orders.columns.str.lower()"
   ]
  },
  {
   "cell_type": "code",
   "execution_count": 9,
   "metadata": {},
   "outputs": [
    {
     "data": {
      "text/html": [
       "<div>\n",
       "<style scoped>\n",
       "    .dataframe tbody tr th:only-of-type {\n",
       "        vertical-align: middle;\n",
       "    }\n",
       "\n",
       "    .dataframe tbody tr th {\n",
       "        vertical-align: top;\n",
       "    }\n",
       "\n",
       "    .dataframe thead th {\n",
       "        text-align: right;\n",
       "    }\n",
       "</style>\n",
       "<table border=\"1\" class=\"dataframe\">\n",
       "  <thead>\n",
       "    <tr style=\"text-align: right;\">\n",
       "      <th></th>\n",
       "      <th>transactionid</th>\n",
       "      <th>visitorid</th>\n",
       "      <th>date</th>\n",
       "      <th>revenue</th>\n",
       "      <th>group</th>\n",
       "    </tr>\n",
       "  </thead>\n",
       "  <tbody>\n",
       "    <tr>\n",
       "      <td>0</td>\n",
       "      <td>3667963787</td>\n",
       "      <td>3312258926</td>\n",
       "      <td>2019-08-15</td>\n",
       "      <td>1650</td>\n",
       "      <td>B</td>\n",
       "    </tr>\n",
       "    <tr>\n",
       "      <td>1</td>\n",
       "      <td>2804400009</td>\n",
       "      <td>3642806036</td>\n",
       "      <td>2019-08-15</td>\n",
       "      <td>730</td>\n",
       "      <td>B</td>\n",
       "    </tr>\n",
       "    <tr>\n",
       "      <td>2</td>\n",
       "      <td>2961555356</td>\n",
       "      <td>4069496402</td>\n",
       "      <td>2019-08-15</td>\n",
       "      <td>400</td>\n",
       "      <td>A</td>\n",
       "    </tr>\n",
       "    <tr>\n",
       "      <td>3</td>\n",
       "      <td>3797467345</td>\n",
       "      <td>1196621759</td>\n",
       "      <td>2019-08-15</td>\n",
       "      <td>9759</td>\n",
       "      <td>B</td>\n",
       "    </tr>\n",
       "    <tr>\n",
       "      <td>4</td>\n",
       "      <td>2282983706</td>\n",
       "      <td>2322279887</td>\n",
       "      <td>2019-08-15</td>\n",
       "      <td>2308</td>\n",
       "      <td>B</td>\n",
       "    </tr>\n",
       "  </tbody>\n",
       "</table>\n",
       "</div>"
      ],
      "text/plain": [
       "   transactionid   visitorid        date  revenue group\n",
       "0     3667963787  3312258926  2019-08-15     1650     B\n",
       "1     2804400009  3642806036  2019-08-15      730     B\n",
       "2     2961555356  4069496402  2019-08-15      400     A\n",
       "3     3797467345  1196621759  2019-08-15     9759     B\n",
       "4     2282983706  2322279887  2019-08-15     2308     B"
      ]
     },
     "execution_count": 9,
     "metadata": {},
     "output_type": "execute_result"
    }
   ],
   "source": [
    "#смотрим первые строки\n",
    "orders.head()"
   ]
  },
  {
   "cell_type": "code",
   "execution_count": 10,
   "metadata": {},
   "outputs": [],
   "source": [
    "#Приводим дату к типу datetime\n",
    "orders['date'] = orders['date'].map(\n",
    "    lambda x: dt.datetime.strptime(x, '%Y-%m-%d')\n",
    ")"
   ]
  },
  {
   "cell_type": "code",
   "execution_count": 11,
   "metadata": {
    "scrolled": true
   },
   "outputs": [
    {
     "data": {
      "text/plain": [
       "count                    1197\n",
       "unique                     31\n",
       "top       2019-08-05 00:00:00\n",
       "freq                       48\n",
       "first     2019-08-01 00:00:00\n",
       "last      2019-08-31 00:00:00\n",
       "Name: date, dtype: object"
      ]
     },
     "execution_count": 11,
     "metadata": {},
     "output_type": "execute_result"
    }
   ],
   "source": [
    "#числовое описание данных\n",
    "orders['date'].describe()"
   ]
  },
  {
   "cell_type": "markdown",
   "metadata": {},
   "source": [
    "Данные о заказах за август 2019 года. Уникальных значений 31 - заказы совершались каждый день.Самая часто встречающаяся дата - 2019-08-05, в этот день было совершено 48 заказов."
   ]
  },
  {
   "cell_type": "code",
   "execution_count": 12,
   "metadata": {
    "scrolled": true
   },
   "outputs": [
    {
     "data": {
      "text/html": [
       "<div>\n",
       "<style scoped>\n",
       "    .dataframe tbody tr th:only-of-type {\n",
       "        vertical-align: middle;\n",
       "    }\n",
       "\n",
       "    .dataframe tbody tr th {\n",
       "        vertical-align: top;\n",
       "    }\n",
       "\n",
       "    .dataframe thead th {\n",
       "        text-align: right;\n",
       "    }\n",
       "</style>\n",
       "<table border=\"1\" class=\"dataframe\">\n",
       "  <thead>\n",
       "    <tr style=\"text-align: right;\">\n",
       "      <th></th>\n",
       "      <th>transactionid</th>\n",
       "      <th>visitorid</th>\n",
       "      <th>revenue</th>\n",
       "    </tr>\n",
       "  </thead>\n",
       "  <tbody>\n",
       "    <tr>\n",
       "      <td>count</td>\n",
       "      <td>1.197000e+03</td>\n",
       "      <td>1.197000e+03</td>\n",
       "      <td>1.197000e+03</td>\n",
       "    </tr>\n",
       "    <tr>\n",
       "      <td>mean</td>\n",
       "      <td>2.155621e+09</td>\n",
       "      <td>2.165960e+09</td>\n",
       "      <td>8.348006e+03</td>\n",
       "    </tr>\n",
       "    <tr>\n",
       "      <td>std</td>\n",
       "      <td>1.229085e+09</td>\n",
       "      <td>1.236014e+09</td>\n",
       "      <td>3.919113e+04</td>\n",
       "    </tr>\n",
       "    <tr>\n",
       "      <td>min</td>\n",
       "      <td>1.062393e+06</td>\n",
       "      <td>5.114589e+06</td>\n",
       "      <td>5.000000e+01</td>\n",
       "    </tr>\n",
       "    <tr>\n",
       "      <td>25%</td>\n",
       "      <td>1.166776e+09</td>\n",
       "      <td>1.111826e+09</td>\n",
       "      <td>1.220000e+03</td>\n",
       "    </tr>\n",
       "    <tr>\n",
       "      <td>50%</td>\n",
       "      <td>2.145194e+09</td>\n",
       "      <td>2.217985e+09</td>\n",
       "      <td>2.978000e+03</td>\n",
       "    </tr>\n",
       "    <tr>\n",
       "      <td>75%</td>\n",
       "      <td>3.237740e+09</td>\n",
       "      <td>3.177606e+09</td>\n",
       "      <td>8.290000e+03</td>\n",
       "    </tr>\n",
       "    <tr>\n",
       "      <td>max</td>\n",
       "      <td>4.293856e+09</td>\n",
       "      <td>4.283872e+09</td>\n",
       "      <td>1.294500e+06</td>\n",
       "    </tr>\n",
       "  </tbody>\n",
       "</table>\n",
       "</div>"
      ],
      "text/plain": [
       "       transactionid     visitorid       revenue\n",
       "count   1.197000e+03  1.197000e+03  1.197000e+03\n",
       "mean    2.155621e+09  2.165960e+09  8.348006e+03\n",
       "std     1.229085e+09  1.236014e+09  3.919113e+04\n",
       "min     1.062393e+06  5.114589e+06  5.000000e+01\n",
       "25%     1.166776e+09  1.111826e+09  1.220000e+03\n",
       "50%     2.145194e+09  2.217985e+09  2.978000e+03\n",
       "75%     3.237740e+09  3.177606e+09  8.290000e+03\n",
       "max     4.293856e+09  4.283872e+09  1.294500e+06"
      ]
     },
     "execution_count": 12,
     "metadata": {},
     "output_type": "execute_result"
    }
   ],
   "source": [
    "#числовое описание данных\n",
    "orders.describe()"
   ]
  },
  {
   "cell_type": "code",
   "execution_count": 13,
   "metadata": {
    "scrolled": true
   },
   "outputs": [
    {
     "data": {
      "text/plain": [
       "B    640\n",
       "A    557\n",
       "Name: group, dtype: int64"
      ]
     },
     "execution_count": 13,
     "metadata": {},
     "output_type": "execute_result"
    }
   ],
   "source": [
    "#смотрим уникальные значения\n",
    "orders['group'].value_counts()"
   ]
  },
  {
   "cell_type": "markdown",
   "metadata": {},
   "source": [
    "Видим, что группы не одинаковые в группе В пользователей больше."
   ]
  },
  {
   "cell_type": "code",
   "execution_count": 14,
   "metadata": {},
   "outputs": [
    {
     "data": {
      "text/plain": [
       "0"
      ]
     },
     "execution_count": 14,
     "metadata": {},
     "output_type": "execute_result"
    }
   ],
   "source": [
    "#проверяем дубликаты\n",
    "orders.duplicated().sum()"
   ]
  },
  {
   "cell_type": "markdown",
   "metadata": {},
   "source": [
    "### Таблица `visitors`"
   ]
  },
  {
   "cell_type": "code",
   "execution_count": 15,
   "metadata": {},
   "outputs": [
    {
     "name": "stdout",
     "output_type": "stream",
     "text": [
      "<class 'pandas.core.frame.DataFrame'>\n",
      "RangeIndex: 62 entries, 0 to 61\n",
      "Data columns (total 3 columns):\n",
      "date        62 non-null object\n",
      "group       62 non-null object\n",
      "visitors    62 non-null int64\n",
      "dtypes: int64(1), object(2)\n",
      "memory usage: 1.6+ KB\n"
     ]
    }
   ],
   "source": [
    "#общая информация о таблице\n",
    "visitors.info()"
   ]
  },
  {
   "cell_type": "code",
   "execution_count": 16,
   "metadata": {},
   "outputs": [],
   "source": [
    "#Приводим названия столбцов к нижнему регистру\n",
    "orders.columns = orders.columns.str.lower()"
   ]
  },
  {
   "cell_type": "code",
   "execution_count": 17,
   "metadata": {},
   "outputs": [
    {
     "data": {
      "text/html": [
       "<div>\n",
       "<style scoped>\n",
       "    .dataframe tbody tr th:only-of-type {\n",
       "        vertical-align: middle;\n",
       "    }\n",
       "\n",
       "    .dataframe tbody tr th {\n",
       "        vertical-align: top;\n",
       "    }\n",
       "\n",
       "    .dataframe thead th {\n",
       "        text-align: right;\n",
       "    }\n",
       "</style>\n",
       "<table border=\"1\" class=\"dataframe\">\n",
       "  <thead>\n",
       "    <tr style=\"text-align: right;\">\n",
       "      <th></th>\n",
       "      <th>date</th>\n",
       "      <th>group</th>\n",
       "      <th>visitors</th>\n",
       "    </tr>\n",
       "  </thead>\n",
       "  <tbody>\n",
       "    <tr>\n",
       "      <td>0</td>\n",
       "      <td>2019-08-01</td>\n",
       "      <td>A</td>\n",
       "      <td>719</td>\n",
       "    </tr>\n",
       "    <tr>\n",
       "      <td>1</td>\n",
       "      <td>2019-08-02</td>\n",
       "      <td>A</td>\n",
       "      <td>619</td>\n",
       "    </tr>\n",
       "    <tr>\n",
       "      <td>2</td>\n",
       "      <td>2019-08-03</td>\n",
       "      <td>A</td>\n",
       "      <td>507</td>\n",
       "    </tr>\n",
       "    <tr>\n",
       "      <td>3</td>\n",
       "      <td>2019-08-04</td>\n",
       "      <td>A</td>\n",
       "      <td>717</td>\n",
       "    </tr>\n",
       "    <tr>\n",
       "      <td>4</td>\n",
       "      <td>2019-08-05</td>\n",
       "      <td>A</td>\n",
       "      <td>756</td>\n",
       "    </tr>\n",
       "  </tbody>\n",
       "</table>\n",
       "</div>"
      ],
      "text/plain": [
       "         date group  visitors\n",
       "0  2019-08-01     A       719\n",
       "1  2019-08-02     A       619\n",
       "2  2019-08-03     A       507\n",
       "3  2019-08-04     A       717\n",
       "4  2019-08-05     A       756"
      ]
     },
     "execution_count": 17,
     "metadata": {},
     "output_type": "execute_result"
    }
   ],
   "source": [
    "#смотрим первые строки\n",
    "visitors.head()"
   ]
  },
  {
   "cell_type": "code",
   "execution_count": 18,
   "metadata": {},
   "outputs": [],
   "source": [
    "#Приводим дату к типу datetime\n",
    "visitors['date'] = visitors['date'].map(\n",
    "    lambda x: dt.datetime.strptime(x, '%Y-%m-%d')\n",
    ")"
   ]
  },
  {
   "cell_type": "code",
   "execution_count": 19,
   "metadata": {},
   "outputs": [
    {
     "data": {
      "text/plain": [
       "count                      62\n",
       "unique                     31\n",
       "top       2019-08-02 00:00:00\n",
       "freq                        2\n",
       "first     2019-08-01 00:00:00\n",
       "last      2019-08-31 00:00:00\n",
       "Name: date, dtype: object"
      ]
     },
     "execution_count": 19,
     "metadata": {},
     "output_type": "execute_result"
    }
   ],
   "source": [
    "#числовое описание данных\n",
    "visitors['date'].describe()"
   ]
  },
  {
   "cell_type": "code",
   "execution_count": 20,
   "metadata": {},
   "outputs": [
    {
     "data": {
      "text/html": [
       "<div>\n",
       "<style scoped>\n",
       "    .dataframe tbody tr th:only-of-type {\n",
       "        vertical-align: middle;\n",
       "    }\n",
       "\n",
       "    .dataframe tbody tr th {\n",
       "        vertical-align: top;\n",
       "    }\n",
       "\n",
       "    .dataframe thead th {\n",
       "        text-align: right;\n",
       "    }\n",
       "</style>\n",
       "<table border=\"1\" class=\"dataframe\">\n",
       "  <thead>\n",
       "    <tr style=\"text-align: right;\">\n",
       "      <th></th>\n",
       "      <th>visitors</th>\n",
       "    </tr>\n",
       "  </thead>\n",
       "  <tbody>\n",
       "    <tr>\n",
       "      <td>count</td>\n",
       "      <td>62.000000</td>\n",
       "    </tr>\n",
       "    <tr>\n",
       "      <td>mean</td>\n",
       "      <td>607.290323</td>\n",
       "    </tr>\n",
       "    <tr>\n",
       "      <td>std</td>\n",
       "      <td>114.400560</td>\n",
       "    </tr>\n",
       "    <tr>\n",
       "      <td>min</td>\n",
       "      <td>361.000000</td>\n",
       "    </tr>\n",
       "    <tr>\n",
       "      <td>25%</td>\n",
       "      <td>534.000000</td>\n",
       "    </tr>\n",
       "    <tr>\n",
       "      <td>50%</td>\n",
       "      <td>624.500000</td>\n",
       "    </tr>\n",
       "    <tr>\n",
       "      <td>75%</td>\n",
       "      <td>710.500000</td>\n",
       "    </tr>\n",
       "    <tr>\n",
       "      <td>max</td>\n",
       "      <td>770.000000</td>\n",
       "    </tr>\n",
       "  </tbody>\n",
       "</table>\n",
       "</div>"
      ],
      "text/plain": [
       "         visitors\n",
       "count   62.000000\n",
       "mean   607.290323\n",
       "std    114.400560\n",
       "min    361.000000\n",
       "25%    534.000000\n",
       "50%    624.500000\n",
       "75%    710.500000\n",
       "max    770.000000"
      ]
     },
     "execution_count": 20,
     "metadata": {},
     "output_type": "execute_result"
    }
   ],
   "source": [
    "#числовое описание данных\n",
    "visitors.describe()"
   ]
  },
  {
   "cell_type": "code",
   "execution_count": 21,
   "metadata": {},
   "outputs": [
    {
     "data": {
      "text/plain": [
       "B    31\n",
       "A    31\n",
       "Name: group, dtype: int64"
      ]
     },
     "execution_count": 21,
     "metadata": {},
     "output_type": "execute_result"
    }
   ],
   "source": [
    "#смотрим уникальные значения\n",
    "visitors['group'].value_counts()"
   ]
  },
  {
   "cell_type": "code",
   "execution_count": 22,
   "metadata": {
    "scrolled": true
   },
   "outputs": [
    {
     "data": {
      "text/plain": [
       "0"
      ]
     },
     "execution_count": 22,
     "metadata": {},
     "output_type": "execute_result"
    }
   ],
   "source": [
    "#проверяем дубликаты\n",
    "visitors.duplicated().sum()"
   ]
  },
  {
   "cell_type": "markdown",
   "metadata": {},
   "source": [
    "**Проверим, есть ли кто-то из покупателей сразу в двух группах**"
   ]
  },
  {
   "cell_type": "code",
   "execution_count": 23,
   "metadata": {},
   "outputs": [
    {
     "name": "stdout",
     "output_type": "stream",
     "text": [
      "Количество пользователей попавших в обе группы: 58\n"
     ]
    }
   ],
   "source": [
    "#находим пользователей, которые попали в обе группы\n",
    "dublicated_users = np.intersect1d(orders\n",
    "                                  .query('group == \"A\"')['visitorid']\n",
    "                                  .unique(), \n",
    "                                  orders\n",
    "                                  .query('group == \"B\"')['visitorid']\n",
    "                                  .unique())\n",
    "\n",
    "#считаем количество этих пользователей\n",
    "print('Количество пользователей попавших в обе группы:', len(dublicated_users))"
   ]
  },
  {
   "cell_type": "markdown",
   "metadata": {},
   "source": [
    "58 пользователей оказались  сразу в обоих группах. Делать с ними ничего не будем, так как их мало, и их удаление никак не скажется на результатах тестов."
   ]
  },
  {
   "cell_type": "markdown",
   "metadata": {},
   "source": [
    "### Вывод"
   ]
  },
  {
   "cell_type": "markdown",
   "metadata": {},
   "source": [
    "На данном этапе мы подготовили данные к анализу. Также проверили, что в данных отсутствуют дубликаты и что тип данных во всех колонках соответствует значениям.\n",
    "\n",
    "Определили что у нас сеть 58 пользователей у которых заказ попал в обе группы A/B теста, делать с ними ничего не будем, так как их мало, и их удаление никак не скажется на результатах тестов.\n",
    "\n",
    "В колонке с группами тестирования у нас неравное число участников: в группе А - 557 человек, в группе B - 640.\n",
    "\n",
    "Все данные корректны - и готовы к анализу."
   ]
  },
  {
   "cell_type": "markdown",
   "metadata": {},
   "source": [
    "## Приоритизация гипотез."
   ]
  },
  {
   "cell_type": "markdown",
   "metadata": {},
   "source": [
    "### Применение фреймворка `ICE`"
   ]
  },
  {
   "cell_type": "code",
   "execution_count": 24,
   "metadata": {},
   "outputs": [],
   "source": [
    "#Считаем ICE для гипотез\n",
    "data['ICE'] = (data['impact'] * data['confidence']) / data['efforts']"
   ]
  },
  {
   "cell_type": "code",
   "execution_count": 25,
   "metadata": {
    "scrolled": true
   },
   "outputs": [
    {
     "data": {
      "text/html": [
       "<div>\n",
       "<style scoped>\n",
       "    .dataframe tbody tr th:only-of-type {\n",
       "        vertical-align: middle;\n",
       "    }\n",
       "\n",
       "    .dataframe tbody tr th {\n",
       "        vertical-align: top;\n",
       "    }\n",
       "\n",
       "    .dataframe thead th {\n",
       "        text-align: right;\n",
       "    }\n",
       "</style>\n",
       "<table border=\"1\" class=\"dataframe\">\n",
       "  <thead>\n",
       "    <tr style=\"text-align: right;\">\n",
       "      <th></th>\n",
       "      <th>hypothesis</th>\n",
       "      <th>ICE</th>\n",
       "    </tr>\n",
       "  </thead>\n",
       "  <tbody>\n",
       "    <tr>\n",
       "      <td>8</td>\n",
       "      <td>Запустить акцию, дающую скидку на товар в день рождения</td>\n",
       "      <td>16.200000</td>\n",
       "    </tr>\n",
       "    <tr>\n",
       "      <td>0</td>\n",
       "      <td>Добавить два новых канала привлечения трафика, что позволит привлекать на 30% больше пользователей</td>\n",
       "      <td>13.333333</td>\n",
       "    </tr>\n",
       "    <tr>\n",
       "      <td>7</td>\n",
       "      <td>Добавить форму подписки на все основные страницы, чтобы собрать базу клиентов для email-рассылок</td>\n",
       "      <td>11.200000</td>\n",
       "    </tr>\n",
       "    <tr>\n",
       "      <td>6</td>\n",
       "      <td>Показать на главной странице баннеры с актуальными акциями и распродажами, чтобы увеличить конверсию</td>\n",
       "      <td>8.000000</td>\n",
       "    </tr>\n",
       "    <tr>\n",
       "      <td>2</td>\n",
       "      <td>Добавить блоки рекомендаций товаров на сайт интернет магазина, чтобы повысить конверсию и средний чек заказа</td>\n",
       "      <td>7.000000</td>\n",
       "    </tr>\n",
       "    <tr>\n",
       "      <td>1</td>\n",
       "      <td>Запустить собственную службу доставки, что сократит срок доставки заказов</td>\n",
       "      <td>2.000000</td>\n",
       "    </tr>\n",
       "    <tr>\n",
       "      <td>5</td>\n",
       "      <td>Добавить страницу отзывов клиентов о магазине, что позволит увеличить количество заказов</td>\n",
       "      <td>1.333333</td>\n",
       "    </tr>\n",
       "    <tr>\n",
       "      <td>3</td>\n",
       "      <td>Изменить структура категорий, что увеличит конверсию, т.к. пользователи быстрее найдут нужный товар</td>\n",
       "      <td>1.125000</td>\n",
       "    </tr>\n",
       "    <tr>\n",
       "      <td>4</td>\n",
       "      <td>Изменить цвет фона главной страницы, чтобы увеличить вовлеченность пользователей</td>\n",
       "      <td>1.000000</td>\n",
       "    </tr>\n",
       "  </tbody>\n",
       "</table>\n",
       "</div>"
      ],
      "text/plain": [
       "                                                                                                     hypothesis  \\\n",
       "8                                                       Запустить акцию, дающую скидку на товар в день рождения   \n",
       "0            Добавить два новых канала привлечения трафика, что позволит привлекать на 30% больше пользователей   \n",
       "7              Добавить форму подписки на все основные страницы, чтобы собрать базу клиентов для email-рассылок   \n",
       "6          Показать на главной странице баннеры с актуальными акциями и распродажами, чтобы увеличить конверсию   \n",
       "2  Добавить блоки рекомендаций товаров на сайт интернет магазина, чтобы повысить конверсию и средний чек заказа   \n",
       "1                                     Запустить собственную службу доставки, что сократит срок доставки заказов   \n",
       "5                      Добавить страницу отзывов клиентов о магазине, что позволит увеличить количество заказов   \n",
       "3           Изменить структура категорий, что увеличит конверсию, т.к. пользователи быстрее найдут нужный товар   \n",
       "4                              Изменить цвет фона главной страницы, чтобы увеличить вовлеченность пользователей   \n",
       "\n",
       "         ICE  \n",
       "8  16.200000  \n",
       "0  13.333333  \n",
       "7  11.200000  \n",
       "6   8.000000  \n",
       "2   7.000000  \n",
       "1   2.000000  \n",
       "5   1.333333  \n",
       "3   1.125000  \n",
       "4   1.000000  "
      ]
     },
     "execution_count": 25,
     "metadata": {},
     "output_type": "execute_result"
    }
   ],
   "source": [
    "#смотрим результат\n",
    "data[['hypothesis', 'ICE']].sort_values(by='ICE', ascending=False)"
   ]
  },
  {
   "cell_type": "markdown",
   "metadata": {},
   "source": [
    "Наиболее перспективные гипотезы по ICE:\n",
    "* \"8\" - Запустить акцию, дающую скидку на товар в день рождения\n",
    "* \"0\" - Добавить два новых канала привлечения трафика, что позволит привлекать на 30% больше пользователей\t\n",
    "* \"7\" - Добавить форму подписки на все основные страницы, чтобы собрать базу клиентов для email-рассылок"
   ]
  },
  {
   "cell_type": "markdown",
   "metadata": {},
   "source": [
    "### Применение фреймворка `RICE `"
   ]
  },
  {
   "cell_type": "code",
   "execution_count": 26,
   "metadata": {},
   "outputs": [],
   "source": [
    "#Считаем RICE для гипотез\n",
    "data['RICE'] = data['reach'] * data['impact'] * data['confidence'] / data['efforts']"
   ]
  },
  {
   "cell_type": "code",
   "execution_count": 27,
   "metadata": {
    "scrolled": true
   },
   "outputs": [
    {
     "data": {
      "text/html": [
       "<div>\n",
       "<style scoped>\n",
       "    .dataframe tbody tr th:only-of-type {\n",
       "        vertical-align: middle;\n",
       "    }\n",
       "\n",
       "    .dataframe tbody tr th {\n",
       "        vertical-align: top;\n",
       "    }\n",
       "\n",
       "    .dataframe thead th {\n",
       "        text-align: right;\n",
       "    }\n",
       "</style>\n",
       "<table border=\"1\" class=\"dataframe\">\n",
       "  <thead>\n",
       "    <tr style=\"text-align: right;\">\n",
       "      <th></th>\n",
       "      <th>hypothesis</th>\n",
       "      <th>RICE</th>\n",
       "    </tr>\n",
       "  </thead>\n",
       "  <tbody>\n",
       "    <tr>\n",
       "      <td>7</td>\n",
       "      <td>Добавить форму подписки на все основные страницы, чтобы собрать базу клиентов для email-рассылок</td>\n",
       "      <td>112.0</td>\n",
       "    </tr>\n",
       "    <tr>\n",
       "      <td>2</td>\n",
       "      <td>Добавить блоки рекомендаций товаров на сайт интернет магазина, чтобы повысить конверсию и средний чек заказа</td>\n",
       "      <td>56.0</td>\n",
       "    </tr>\n",
       "    <tr>\n",
       "      <td>0</td>\n",
       "      <td>Добавить два новых канала привлечения трафика, что позволит привлекать на 30% больше пользователей</td>\n",
       "      <td>40.0</td>\n",
       "    </tr>\n",
       "    <tr>\n",
       "      <td>6</td>\n",
       "      <td>Показать на главной странице баннеры с актуальными акциями и распродажами, чтобы увеличить конверсию</td>\n",
       "      <td>40.0</td>\n",
       "    </tr>\n",
       "    <tr>\n",
       "      <td>8</td>\n",
       "      <td>Запустить акцию, дающую скидку на товар в день рождения</td>\n",
       "      <td>16.2</td>\n",
       "    </tr>\n",
       "    <tr>\n",
       "      <td>3</td>\n",
       "      <td>Изменить структура категорий, что увеличит конверсию, т.к. пользователи быстрее найдут нужный товар</td>\n",
       "      <td>9.0</td>\n",
       "    </tr>\n",
       "    <tr>\n",
       "      <td>1</td>\n",
       "      <td>Запустить собственную службу доставки, что сократит срок доставки заказов</td>\n",
       "      <td>4.0</td>\n",
       "    </tr>\n",
       "    <tr>\n",
       "      <td>5</td>\n",
       "      <td>Добавить страницу отзывов клиентов о магазине, что позволит увеличить количество заказов</td>\n",
       "      <td>4.0</td>\n",
       "    </tr>\n",
       "    <tr>\n",
       "      <td>4</td>\n",
       "      <td>Изменить цвет фона главной страницы, чтобы увеличить вовлеченность пользователей</td>\n",
       "      <td>3.0</td>\n",
       "    </tr>\n",
       "  </tbody>\n",
       "</table>\n",
       "</div>"
      ],
      "text/plain": [
       "                                                                                                     hypothesis  \\\n",
       "7              Добавить форму подписки на все основные страницы, чтобы собрать базу клиентов для email-рассылок   \n",
       "2  Добавить блоки рекомендаций товаров на сайт интернет магазина, чтобы повысить конверсию и средний чек заказа   \n",
       "0            Добавить два новых канала привлечения трафика, что позволит привлекать на 30% больше пользователей   \n",
       "6          Показать на главной странице баннеры с актуальными акциями и распродажами, чтобы увеличить конверсию   \n",
       "8                                                       Запустить акцию, дающую скидку на товар в день рождения   \n",
       "3           Изменить структура категорий, что увеличит конверсию, т.к. пользователи быстрее найдут нужный товар   \n",
       "1                                     Запустить собственную службу доставки, что сократит срок доставки заказов   \n",
       "5                      Добавить страницу отзывов клиентов о магазине, что позволит увеличить количество заказов   \n",
       "4                              Изменить цвет фона главной страницы, чтобы увеличить вовлеченность пользователей   \n",
       "\n",
       "    RICE  \n",
       "7  112.0  \n",
       "2   56.0  \n",
       "0   40.0  \n",
       "6   40.0  \n",
       "8   16.2  \n",
       "3    9.0  \n",
       "1    4.0  \n",
       "5    4.0  \n",
       "4    3.0  "
      ]
     },
     "execution_count": 27,
     "metadata": {},
     "output_type": "execute_result"
    }
   ],
   "source": [
    "#смотрим результат\n",
    "data[['hypothesis', 'RICE']].sort_values(by='RICE', ascending=False )"
   ]
  },
  {
   "cell_type": "markdown",
   "metadata": {},
   "source": [
    "Наиболее перспективные гипотезы по RICE:\n",
    "* \"7\" - Добавить форму подписки на все основные страницы, чтобы собрать базу клиентов для email-рассылок\t\n",
    "* \"2\" - Добавить блоки рекомендаций товаров на сайт интернет магазина, чтобы повысить конверсию и средний чек заказа\n",
    "* \"0\" - Добавить два новых канала привлечения трафика, что позволит привлекать на 30% больше пользователей"
   ]
  },
  {
   "cell_type": "markdown",
   "metadata": {},
   "source": [
    "### Вывод"
   ]
  },
  {
   "cell_type": "markdown",
   "metadata": {},
   "source": [
    "Мы применила два фреймворка для приоретиризации гипотез `ICE` и `RICE`\n",
    "\n",
    "Наиболее перспективные гипотезы по `ICE`:\n",
    "* \"8\" - Запустить акцию, дающую скидку на товар в день рождения\n",
    "* \"0\" - Добавить два новых канала привлечения трафика, что позволит привлекать на 30% больше пользователей\n",
    "* \"7\" - Добавить форму подписки на все основные страницы, чтобы собрать базу клиентов для email-рассылок\n",
    "\n",
    "Для расчета применялись параметpы `impact`, `confidence`, `efforts` (влияние, уверенность, усилия)\n",
    "\n",
    "Наиболее перспективные гипотезы по `RICE`:\n",
    "* \"7\" - Добавить форму подписки на все основные страницы, чтобы собрать базу клиентов для email-рассылок\t\n",
    "* \"2\" - Добавить блоки рекомендаций товаров на сайт интернет магазина, чтобы повысить конверсию и средний чек заказа\n",
    "* \"0\" - Добавить два новых канала привлечения трафика, что позволит привлекать на 30% больше пользователей\n",
    "\n",
    "Для расчета применялись параметpы `reach`, `impact`, `confidence`, `efforts` (охват, влияние, уверенность, усилия)\n",
    "\n",
    "Такое отличие продиктовано, тем что в фреймворке `RICE` мы учитываем важный параметр - `reach` (скольких пользователей затронет изменение, которое мы хотим внести), и в гипотезах \"7\" и \"2\" он очень высок. В \"7\" он = 10 - максимальный, а в \"2\" он = 8,тоже высокий, а в лидере `ICE` - в гипотезе \"8\" он минимальный = 1. В данном случае побеждает гипотеза \"7\" "
   ]
  },
  {
   "cell_type": "markdown",
   "metadata": {},
   "source": [
    "##  Анализ A/B-теста"
   ]
  },
  {
   "cell_type": "markdown",
   "metadata": {},
   "source": [
    "### График кумулятивной выручки по группам. "
   ]
  },
  {
   "cell_type": "code",
   "execution_count": 28,
   "metadata": {},
   "outputs": [],
   "source": [
    "#создаем массив уникальных пар значений дат и групп теста\n",
    "datesGroups = orders[['date','group']].drop_duplicates()"
   ]
  },
  {
   "cell_type": "code",
   "execution_count": 29,
   "metadata": {},
   "outputs": [
    {
     "data": {
      "text/html": [
       "<div>\n",
       "<style scoped>\n",
       "    .dataframe tbody tr th:only-of-type {\n",
       "        vertical-align: middle;\n",
       "    }\n",
       "\n",
       "    .dataframe tbody tr th {\n",
       "        vertical-align: top;\n",
       "    }\n",
       "\n",
       "    .dataframe thead th {\n",
       "        text-align: right;\n",
       "    }\n",
       "</style>\n",
       "<table border=\"1\" class=\"dataframe\">\n",
       "  <thead>\n",
       "    <tr style=\"text-align: right;\">\n",
       "      <th></th>\n",
       "      <th>date</th>\n",
       "      <th>group</th>\n",
       "    </tr>\n",
       "  </thead>\n",
       "  <tbody>\n",
       "    <tr>\n",
       "      <td>0</td>\n",
       "      <td>2019-08-15</td>\n",
       "      <td>B</td>\n",
       "    </tr>\n",
       "    <tr>\n",
       "      <td>2</td>\n",
       "      <td>2019-08-15</td>\n",
       "      <td>A</td>\n",
       "    </tr>\n",
       "    <tr>\n",
       "      <td>45</td>\n",
       "      <td>2019-08-16</td>\n",
       "      <td>A</td>\n",
       "    </tr>\n",
       "    <tr>\n",
       "      <td>47</td>\n",
       "      <td>2019-08-16</td>\n",
       "      <td>B</td>\n",
       "    </tr>\n",
       "    <tr>\n",
       "      <td>55</td>\n",
       "      <td>2019-08-01</td>\n",
       "      <td>A</td>\n",
       "    </tr>\n",
       "  </tbody>\n",
       "</table>\n",
       "</div>"
      ],
      "text/plain": [
       "         date group\n",
       "0  2019-08-15     B\n",
       "2  2019-08-15     A\n",
       "45 2019-08-16     A\n",
       "47 2019-08-16     B\n",
       "55 2019-08-01     A"
      ]
     },
     "execution_count": 29,
     "metadata": {},
     "output_type": "execute_result"
    }
   ],
   "source": [
    "#смотрим результат\n",
    "datesGroups.head()"
   ]
  },
  {
   "cell_type": "markdown",
   "metadata": {},
   "source": [
    "Объявим переменную `ordersAggregated`, содержащую: дату, группу A/B-теста, число уникальных заказов в группе теста по указанную дату включительно, число уникальных пользователей, совершивших хотя бы 1 заказ в группе теста по указанную дату включительно, суммарную выручку заказов в группе теста по указанную дату включительно."
   ]
  },
  {
   "cell_type": "code",
   "execution_count": 30,
   "metadata": {},
   "outputs": [],
   "source": [
    "# получаем агрегированные кумулятивные по дням данные о заказах\n",
    "ordersAggregated = datesGroups.apply(\n",
    "    lambda x: orders[\n",
    "        np.logical_and(\n",
    "            orders['date'] <= x['date'], orders['group'] == x['group']\n",
    "        )\n",
    "    ].agg(\n",
    "        {\n",
    "            'date': 'max',\n",
    "            'group': 'max',\n",
    "            'transactionid': 'nunique',\n",
    "            'visitorid': 'nunique',\n",
    "            'revenue': 'sum',\n",
    "        }\n",
    "    ),\n",
    "    axis=1,\n",
    ").sort_values(by=['date', 'group'])\n"
   ]
  },
  {
   "cell_type": "markdown",
   "metadata": {},
   "source": [
    "Объявим переменную `visitorsAggregated` по аналогии с переменной `ordersAggregated`.\n",
    "\n"
   ]
  },
  {
   "cell_type": "code",
   "execution_count": 31,
   "metadata": {},
   "outputs": [],
   "source": [
    "# получаем агрегированные кумулятивные по дням данные о заказах\n",
    "visitorsAggregated = datesGroups.apply(\n",
    "    lambda x: visitors[\n",
    "        np.logical_and(\n",
    "            visitors['date'] <= x['date'], visitors['group'] == x['group']\n",
    "        )\n",
    "    ].agg(\n",
    "        {\n",
    "            'date': 'max', \n",
    "            'group': 'max', \n",
    "            'visitors': 'sum'\n",
    "        }\n",
    "    ),\n",
    "    axis=1,\n",
    ").sort_values(by=['date', 'group'])"
   ]
  },
  {
   "cell_type": "markdown",
   "metadata": {},
   "source": [
    "Определим переменную `cumulativeData`, объединив `ordersAggregated` и `visitorsAggregated` по колонкам `'date'`, `'group'` методом `merge()`"
   ]
  },
  {
   "cell_type": "code",
   "execution_count": 32,
   "metadata": {},
   "outputs": [],
   "source": [
    "# объединяем кумулятивные данные в одной таблице\n",
    "cumulativeData = ordersAggregated.merge(\n",
    "    visitorsAggregated, left_on=['date', 'group'], right_on=['date', 'group']\n",
    ")\n",
    "cumulativeData.columns = [\n",
    "    'date',\n",
    "    'group',\n",
    "    'orders',\n",
    "    'buyers',\n",
    "    'revenue',\n",
    "    'visitors',\n",
    "]"
   ]
  },
  {
   "cell_type": "markdown",
   "metadata": {},
   "source": [
    "Объявим переменные `cumulativeRevenueA` и `cumulativeRevenueB`, в которых сохраним данные о датах, выручке и числе заказов в группах A и B. Построим графики кумулятивной выручки по дням по группам."
   ]
  },
  {
   "cell_type": "code",
   "execution_count": 33,
   "metadata": {},
   "outputs": [],
   "source": [
    "#датафрейм с кумулятивным количеством заказов и кумулятивной выручкой по дням в группе А\n",
    "cumulativeRevenueA = cumulativeData[cumulativeData['group']=='A'][['date','revenue', 'orders']]\n",
    "\n",
    "#датафрейм с кумулятивным количеством заказов и кумулятивной выручкой по дням в группе B\n",
    "cumulativeRevenueB = cumulativeData[cumulativeData['group']=='B'][['date','revenue', 'orders']]"
   ]
  },
  {
   "cell_type": "code",
   "execution_count": 34,
   "metadata": {},
   "outputs": [
    {
     "data": {
      "image/png": "[encoded data removed]",
      "text/plain": [
       "<Figure size 432x288 with 1 Axes>"
      ]
     },
     "metadata": {
      "needs_background": "light"
     },
     "output_type": "display_data"
    }
   ],
   "source": [
    "#Строим график выручки группы А\n",
    "plt.plot(cumulativeRevenueA['date'], cumulativeRevenueA['revenue'], label='A')\n",
    "\n",
    "#Строим график выручки группы B\n",
    "plt.plot(cumulativeRevenueB['date'], cumulativeRevenueB['revenue'], label='B')\n",
    "\n",
    "\n",
    "plt.xticks(rotation=45)\n",
    "plt.title('Кумулятивная выручка по дням по группам')\n",
    "plt.ylabel('Выручка')\n",
    "plt.grid()\n",
    "\n",
    "plt.legend()\n",
    "plt.show()"
   ]
  },
  {
   "cell_type": "markdown",
   "metadata": {},
   "source": [
    "Видим, что выручка почти равномерно увеличивается в течение всего теста в группе `А`. С cамого начала группа `В` пошла вверх, 13 августа выручка обоих групп была примерно одинаковая, далее группа `В` лидировала на протяжении всего теста. Однако  видим резкий скачок выручки после 17 августа в группе `В`, что может сигнализировать о всплеске числа заказов, либо о появлении очень дорогих заказов в выборке."
   ]
  },
  {
   "cell_type": "markdown",
   "metadata": {},
   "source": [
    "###  График кумулятивного среднего чека по группам."
   ]
  },
  {
   "cell_type": "code",
   "execution_count": 35,
   "metadata": {
    "scrolled": true
   },
   "outputs": [
    {
     "data": {
      "image/png": "[encoded data removed]",
      "text/plain": [
       "<Figure size 432x288 with 1 Axes>"
      ]
     },
     "metadata": {
      "needs_background": "light"
     },
     "output_type": "display_data"
    }
   ],
   "source": [
    "#Строим график среднего чека группы А\n",
    "plt.plot(cumulativeRevenueA['date'], cumulativeRevenueA['revenue']/cumulativeRevenueA['orders'], label='A')\n",
    "\n",
    "#Строим график среднего чека группы В\n",
    "plt.plot(cumulativeRevenueB['date'], cumulativeRevenueB['revenue']/cumulativeRevenueB['orders'], label='B')\n",
    "\n",
    "plt.xticks(rotation=45)\n",
    "plt.title('Кумулятивный средний чек по группам')\n",
    "plt.ylabel('Средний чек')\n",
    "plt.grid()\n",
    "\n",
    "plt.legend()  \n",
    "plt.show()"
   ]
  },
  {
   "cell_type": "markdown",
   "metadata": {},
   "source": [
    "Кумулятивное значение среднего чека нестабильно. Видим, что средний чек группы `В` в первой половине месяца преимущественно выше среднего чека группы `А`, но есть и даты когда средний чек группы `А` был выше - это в начале месяца 1 августа и c 12 по 15 августа. После 17 августа  наблюдается резкое увеличение среднего чека группы `В` (такойже скачок был на графике кумулятивной выручки) - вероятно попали крупные заказы,  далее средний чек группы `В` постепенно снижается, в то время как средний чек группы `А` начиная с 25 августа медленно растёт."
   ]
  },
  {
   "cell_type": "markdown",
   "metadata": {},
   "source": [
    "### График относительного изменения кумулятивного среднего чека группы B к группе A. "
   ]
  },
  {
   "cell_type": "code",
   "execution_count": 36,
   "metadata": {
    "scrolled": true
   },
   "outputs": [
    {
     "data": {
      "image/png": "[encoded data removed]",
      "text/plain": [
       "<Figure size 432x288 with 1 Axes>"
      ]
     },
     "metadata": {
      "needs_background": "light"
     },
     "output_type": "display_data"
    }
   ],
   "source": [
    "# собираем данные в одном датафрейме\n",
    "mergedCumulativeRevenue = cumulativeRevenueA.merge(cumulativeRevenueB, left_on='date', right_on='date', how='left', suffixes=['A', 'B'])\n",
    "\n",
    "# cтроим отношение средних чеков\n",
    "plt.plot(mergedCumulativeRevenue['date'], (mergedCumulativeRevenue['revenueB']/mergedCumulativeRevenue['ordersB'])/(mergedCumulativeRevenue['revenueA']/mergedCumulativeRevenue['ordersA'])-1)\n",
    "\n",
    "# добавляем ось X\n",
    "plt.axhline(y=0, color='black', linestyle='--')\n",
    "\n",
    "plt.xticks(rotation=45)\n",
    "plt.title('Относительное изменение кумулятивного среднего чека группы B к группе A')\n",
    "plt.ylabel('Отношение средних чеков')\n",
    "plt.grid()\n",
    "\n",
    "plt.show()"
   ]
  },
  {
   "cell_type": "markdown",
   "metadata": {},
   "source": [
    "В нескольких точках графика разница между сегментами резко скачет. Также как и на предыдущих графикам видим резкий скачок после 17 августа и с 5 по 9 августа. Вероятно, в эти дни были соверешены крупные заказы."
   ]
  },
  {
   "cell_type": "code",
   "execution_count": 37,
   "metadata": {
    "scrolled": false
   },
   "outputs": [
    {
     "data": {
      "text/html": [
       "<div>\n",
       "<style scoped>\n",
       "    .dataframe tbody tr th:only-of-type {\n",
       "        vertical-align: middle;\n",
       "    }\n",
       "\n",
       "    .dataframe tbody tr th {\n",
       "        vertical-align: top;\n",
       "    }\n",
       "\n",
       "    .dataframe thead th {\n",
       "        text-align: right;\n",
       "    }\n",
       "</style>\n",
       "<table border=\"1\" class=\"dataframe\">\n",
       "  <thead>\n",
       "    <tr style=\"text-align: right;\">\n",
       "      <th></th>\n",
       "      <th>transactionid</th>\n",
       "      <th>visitorid</th>\n",
       "      <th>date</th>\n",
       "      <th>revenue</th>\n",
       "      <th>group</th>\n",
       "    </tr>\n",
       "  </thead>\n",
       "  <tbody>\n",
       "    <tr>\n",
       "      <td>425</td>\n",
       "      <td>590470918</td>\n",
       "      <td>1920142716</td>\n",
       "      <td>2019-08-19</td>\n",
       "      <td>1294500</td>\n",
       "      <td>B</td>\n",
       "    </tr>\n",
       "    <tr>\n",
       "      <td>1196</td>\n",
       "      <td>3936777065</td>\n",
       "      <td>2108080724</td>\n",
       "      <td>2019-08-15</td>\n",
       "      <td>202740</td>\n",
       "      <td>B</td>\n",
       "    </tr>\n",
       "    <tr>\n",
       "      <td>858</td>\n",
       "      <td>192721366</td>\n",
       "      <td>1316129916</td>\n",
       "      <td>2019-08-27</td>\n",
       "      <td>93940</td>\n",
       "      <td>A</td>\n",
       "    </tr>\n",
       "    <tr>\n",
       "      <td>1136</td>\n",
       "      <td>666610489</td>\n",
       "      <td>1307669133</td>\n",
       "      <td>2019-08-13</td>\n",
       "      <td>92550</td>\n",
       "      <td>A</td>\n",
       "    </tr>\n",
       "    <tr>\n",
       "      <td>744</td>\n",
       "      <td>3668308183</td>\n",
       "      <td>888512513</td>\n",
       "      <td>2019-08-27</td>\n",
       "      <td>86620</td>\n",
       "      <td>B</td>\n",
       "    </tr>\n",
       "  </tbody>\n",
       "</table>\n",
       "</div>"
      ],
      "text/plain": [
       "      transactionid   visitorid       date  revenue group\n",
       "425       590470918  1920142716 2019-08-19  1294500     B\n",
       "1196     3936777065  2108080724 2019-08-15   202740     B\n",
       "858       192721366  1316129916 2019-08-27    93940     A\n",
       "1136      666610489  1307669133 2019-08-13    92550     A\n",
       "744      3668308183   888512513 2019-08-27    86620     B"
      ]
     },
     "execution_count": 37,
     "metadata": {},
     "output_type": "execute_result"
    }
   ],
   "source": [
    "#сортируем данные по стоимости заказа\n",
    "orders.sort_values(by='revenue', ascending=False).head()"
   ]
  },
  {
   "cell_type": "markdown",
   "metadata": {},
   "source": [
    "Видим два аномальных по стоимости значения. Обе транзакции попали в группу `B`. Можно сказать, что именно они и внесли свой «вклад» в искажение общих данных по группе. Теперь стали понятны причины скачка выручки и среднего чека после 17 августа. Это все транзакция на 1,2 млн."
   ]
  },
  {
   "cell_type": "markdown",
   "metadata": {},
   "source": [
    "### График кумулятивной конверсии по группам. "
   ]
  },
  {
   "cell_type": "code",
   "execution_count": 38,
   "metadata": {},
   "outputs": [
    {
     "data": {
      "image/png": "[encoded data removed]",
      "text/plain": [
       "<Figure size 432x288 with 1 Axes>"
      ]
     },
     "metadata": {
      "needs_background": "light"
     },
     "output_type": "display_data"
    }
   ],
   "source": [
    "# считаем кумулятивную конверсию\n",
    "cumulativeData['conversion'] = cumulativeData['orders']/cumulativeData['visitors']\n",
    "\n",
    "# отделяем данные по группе A\n",
    "cumulativeDataA = cumulativeData[cumulativeData['group']=='A']\n",
    "\n",
    "# отделяем данные по группе B\n",
    "cumulativeDataB = cumulativeData[cumulativeData['group']=='B']\n",
    "\n",
    "# строим графики\n",
    "plt.plot(cumulativeDataA['date'], cumulativeDataA['conversion'], label='A')\n",
    "plt.plot(cumulativeDataB['date'], cumulativeDataB['conversion'], label='B')\n",
    "\n",
    "plt.legend()\n",
    "plt.xticks(rotation=45)\n",
    "plt.title(\"Кумулятивная конверсия по группам\")\n",
    "plt.ylabel('Конверсия')\n",
    "plt.grid()\n",
    " \n",
    "# задаем масштаб осей\n",
    "plt.axis(['2019-08-01', '2019-08-31', 0.025, 0.04])\n",
    "\n",
    "plt.show()"
   ]
  },
  {
   "cell_type": "markdown",
   "metadata": {},
   "source": [
    "В начале теста конверсия группы `А` была выше, далее пошла на спад и установилась на значении 0,03. Конверсия группы `В` в начале теста была на уровне 0,03 далее  пошла в рост и установилась на уровне 0,034."
   ]
  },
  {
   "cell_type": "markdown",
   "metadata": {},
   "source": [
    "### График относительного изменения кумулятивной конверсии группы B к группе A."
   ]
  },
  {
   "cell_type": "code",
   "execution_count": 39,
   "metadata": {},
   "outputs": [
    {
     "data": {
      "image/png": "[encoded data removed]",
      "text/plain": [
       "<Figure size 432x288 with 1 Axes>"
      ]
     },
     "metadata": {
      "needs_background": "light"
     },
     "output_type": "display_data"
    }
   ],
   "source": [
    "#собираем данные в одном датафрейме\n",
    "mergedCumulativeConversions = cumulativeDataA[['date','conversion']].merge(\n",
    "    cumulativeDataB[['date','conversion']], left_on='date', right_on='date', how='left', suffixes=['A', 'B'])\n",
    "\n",
    "\n",
    "#строим график относительного различия кумулятивных конверсий\n",
    "plt.plot(\n",
    "    mergedCumulativeConversions['date'], \n",
    "    mergedCumulativeConversions['conversionB']/mergedCumulativeConversions['conversionA']-1\n",
    ")\n",
    "\n",
    "plt.grid()\n",
    "plt.ylabel('Значение прироста')\n",
    "plt.title(\"Относительный прирост конверсии группы B относительно группы A\")\n",
    "plt.xticks(rotation=45)\n",
    "\n",
    "#добавляем ось X\n",
    "plt.axhline(y=0, color='black', linestyle='--')\n",
    "\n",
    "#добавляем ещё одну линию на оси X серого цвета\n",
    "plt.axhline(y=0.2, color='grey', linestyle='--')\n",
    "\n",
    "# задаем масштаб осей\n",
    "plt.axis([\"2019-08-01\", '2019-08-31', -0.15, 0.25])\n",
    "plt.show()\n"
   ]
  },
  {
   "cell_type": "markdown",
   "metadata": {},
   "source": [
    "В начале теста группа B значительно проигрывала группе A потом резко вырвалась вперёд - 2 августа, потом снова упала. После 5 августа вырвалась вперёд и росла до 17 августа, после 17 августа начала падать, но потом начиная с 29 постепенно растёт. В целом отношение конверсии ещё не установилось, и сейчас делать какие-либо выводы по тесту нельзя."
   ]
  },
  {
   "cell_type": "markdown",
   "metadata": {},
   "source": [
    "### Точечный график количества заказов по пользователям."
   ]
  },
  {
   "cell_type": "markdown",
   "metadata": {},
   "source": [
    "Подсчитаем количество заказов по пользователям — создадим датафрейм c двумя столбцами: `'userId'` и `'orders'`. Назовем его `ordersByUsers`."
   ]
  },
  {
   "cell_type": "code",
   "execution_count": 40,
   "metadata": {},
   "outputs": [
    {
     "data": {
      "text/html": [
       "<div>\n",
       "<style scoped>\n",
       "    .dataframe tbody tr th:only-of-type {\n",
       "        vertical-align: middle;\n",
       "    }\n",
       "\n",
       "    .dataframe tbody tr th {\n",
       "        vertical-align: top;\n",
       "    }\n",
       "\n",
       "    .dataframe thead th {\n",
       "        text-align: right;\n",
       "    }\n",
       "</style>\n",
       "<table border=\"1\" class=\"dataframe\">\n",
       "  <thead>\n",
       "    <tr style=\"text-align: right;\">\n",
       "      <th></th>\n",
       "      <th>visitorid</th>\n",
       "      <th>orders</th>\n",
       "    </tr>\n",
       "  </thead>\n",
       "  <tbody>\n",
       "    <tr>\n",
       "      <td>1023</td>\n",
       "      <td>4256040402</td>\n",
       "      <td>11</td>\n",
       "    </tr>\n",
       "    <tr>\n",
       "      <td>591</td>\n",
       "      <td>2458001652</td>\n",
       "      <td>11</td>\n",
       "    </tr>\n",
       "    <tr>\n",
       "      <td>569</td>\n",
       "      <td>2378935119</td>\n",
       "      <td>9</td>\n",
       "    </tr>\n",
       "    <tr>\n",
       "      <td>487</td>\n",
       "      <td>2038680547</td>\n",
       "      <td>8</td>\n",
       "    </tr>\n",
       "    <tr>\n",
       "      <td>44</td>\n",
       "      <td>199603092</td>\n",
       "      <td>5</td>\n",
       "    </tr>\n",
       "    <tr>\n",
       "      <td>744</td>\n",
       "      <td>3062433592</td>\n",
       "      <td>5</td>\n",
       "    </tr>\n",
       "    <tr>\n",
       "      <td>55</td>\n",
       "      <td>237748145</td>\n",
       "      <td>5</td>\n",
       "    </tr>\n",
       "    <tr>\n",
       "      <td>917</td>\n",
       "      <td>3803269165</td>\n",
       "      <td>5</td>\n",
       "    </tr>\n",
       "    <tr>\n",
       "      <td>299</td>\n",
       "      <td>1230306981</td>\n",
       "      <td>5</td>\n",
       "    </tr>\n",
       "    <tr>\n",
       "      <td>897</td>\n",
       "      <td>3717692402</td>\n",
       "      <td>5</td>\n",
       "    </tr>\n",
       "  </tbody>\n",
       "</table>\n",
       "</div>"
      ],
      "text/plain": [
       "       visitorid  orders\n",
       "1023  4256040402      11\n",
       "591   2458001652      11\n",
       "569   2378935119       9\n",
       "487   2038680547       8\n",
       "44     199603092       5\n",
       "744   3062433592       5\n",
       "55     237748145       5\n",
       "917   3803269165       5\n",
       "299   1230306981       5\n",
       "897   3717692402       5"
      ]
     },
     "execution_count": 40,
     "metadata": {},
     "output_type": "execute_result"
    }
   ],
   "source": [
    "#находим количество заказов по пользователям\n",
    "ordersByUsers = (\n",
    "    orders.groupby('visitorid', as_index=False)\n",
    "    .agg({'transactionid': pd.Series.nunique})\n",
    ")\n",
    "\n",
    "ordersByUsers.columns = ['visitorid', 'orders']\n",
    "ordersByUsers.sort_values(by='orders', ascending=False).head(10)"
   ]
  },
  {
   "cell_type": "code",
   "execution_count": 41,
   "metadata": {},
   "outputs": [
    {
     "data": {
      "image/png": "[encoded data removed]",
      "text/plain": [
       "<Figure size 432x288 with 1 Axes>"
      ]
     },
     "metadata": {
      "needs_background": "light"
     },
     "output_type": "display_data"
    }
   ],
   "source": [
    "#точечная диаграмма числа заказов по пользователям\n",
    "x_values = pd.Series(range(0,len(ordersByUsers)))\n",
    "\n",
    "plt.scatter(x_values, ordersByUsers['orders'], alpha=0.5)\n",
    "\n",
    "plt.title('Распределение числа заказов по пользователям')\n",
    "plt.xlabel('Пользователь')\n",
    "plt.ylabel('Количество заказов')\n",
    "\n",
    "\n",
    "plt.show()"
   ]
  },
  {
   "cell_type": "markdown",
   "metadata": {},
   "source": [
    "Большинство пользователей совершают 1 заказ. Пользователей совершивших 2 и более заказов не очень много, но их точная доля не ясна — непонятно, считать их аномалиями или нет. Надо посчитать процентили 95-й и 99-й"
   ]
  },
  {
   "cell_type": "markdown",
   "metadata": {},
   "source": [
    "###  95-й и 99-й перцентили количества заказов на пользователя."
   ]
  },
  {
   "cell_type": "code",
   "execution_count": 42,
   "metadata": {},
   "outputs": [
    {
     "name": "stdout",
     "output_type": "stream",
     "text": [
      "95-й и 99-й перцентили: [2. 4.]\n"
     ]
    }
   ],
   "source": [
    "#счмитаем выборочные перцентили\n",
    "print('95-й и 99-й перцентили:', np.percentile(ordersByUsers['orders'], [ 95, 99]))"
   ]
  },
  {
   "cell_type": "markdown",
   "metadata": {},
   "source": [
    "Не более 5% пользователей совершали больше двух заказов. И не более 1% пользователей - больше четырех заказов. Разумно выбрать 2 заказа на одного пользователя за нижнюю границу числа заказов, все что выше - уже аномалия."
   ]
  },
  {
   "cell_type": "markdown",
   "metadata": {},
   "source": [
    "### Точечный график стоимостей заказов."
   ]
  },
  {
   "cell_type": "code",
   "execution_count": 43,
   "metadata": {},
   "outputs": [
    {
     "data": {
      "image/png": "[encoded data removed]",
      "text/plain": [
       "<Figure size 432x288 with 1 Axes>"
      ]
     },
     "metadata": {
      "needs_background": "light"
     },
     "output_type": "display_data"
    }
   ],
   "source": [
    "#точечная диаграмма стоимости заказов\n",
    "x_values = pd.Series(range(0,len(orders['revenue'])))\n",
    "plt.scatter(x_values, orders['revenue'], alpha=0.5)\n",
    "\n",
    "plt.title('Распределение стоимости заказов')\n",
    "plt.ylabel('Стоимость заказов')\n",
    "plt.axis([0, 1200, 0, 110000])\n",
    "\n",
    "plt.show()"
   ]
  },
  {
   "cell_type": "markdown",
   "metadata": {},
   "source": [
    "Основное количество  заказов до 20 000. Не большое количество заказов от 20 000 до 40 000, и еденичные заказы свыше 40 000. Надо посчитать процентили 95-й и 99-й"
   ]
  },
  {
   "cell_type": "markdown",
   "metadata": {},
   "source": [
    "###  95-й и 99-й перцентили стоимости заказов."
   ]
  },
  {
   "cell_type": "code",
   "execution_count": 44,
   "metadata": {},
   "outputs": [
    {
     "name": "stdout",
     "output_type": "stream",
     "text": [
      "95-й и 99-й перцентили: [28000.  58233.2]\n"
     ]
    }
   ],
   "source": [
    "print('95-й и 99-й перцентили:', np.percentile(orders['revenue'], [95, 99]))"
   ]
  },
  {
   "cell_type": "markdown",
   "metadata": {},
   "source": [
    "Не более, чем у 5% заказов чек дороже 28 000. И не больше, чем у 1% заказов чек дороже 58 233 т.р. За нижнюю границу стоимости заказов возмем стоимсоть в 28 000,  всё что  выше - аномалия."
   ]
  },
  {
   "cell_type": "markdown",
   "metadata": {},
   "source": [
    "### Расчет статистической значимости различий в конверсии между группами по «сырым» данным."
   ]
  },
  {
   "cell_type": "markdown",
   "metadata": {},
   "source": [
    "Соберем все данные по заказам и визитам, а также добавим кумулятивные показатели, в одну таблицу. Для этого создадим несколько таблиц и затем объединим их."
   ]
  },
  {
   "cell_type": "code",
   "execution_count": 45,
   "metadata": {},
   "outputs": [],
   "source": [
    "#Количество посетителей по дням для руппы А\n",
    "visitorsADaily = visitors[visitors['group'] == 'A'][['date', 'visitors']]\n",
    "visitorsADaily.columns = ['date', 'visitorsPerDateA']\n",
    "\n",
    "#Накопленное количество посетителей по дням для группы А\n",
    "visitorsACummulative = visitorsADaily.apply(\n",
    "    lambda x: visitorsADaily[visitorsADaily['date'] <= x['date']].agg(\n",
    "        {'date': 'max', 'visitorsPerDateA': 'sum'}\n",
    "    ),\n",
    "    axis=1,\n",
    ")\n",
    "visitorsACummulative.columns = ['date', 'visitorsCummulativeA']\n"
   ]
  },
  {
   "cell_type": "code",
   "execution_count": 46,
   "metadata": {},
   "outputs": [],
   "source": [
    "#Количество посетителей по дням для группы В\n",
    "visitorsBDaily = visitors[visitors['group'] == 'B'][['date', 'visitors']]\n",
    "visitorsBDaily.columns = ['date', 'visitorsPerDateB']\n",
    "\n",
    "#Накопленное количество посетителей по дням для группы В\n",
    "visitorsBCummulative = visitorsBDaily.apply(\n",
    "    lambda x: visitorsBDaily[visitorsBDaily['date'] <= x['date']].agg(\n",
    "        {'date': 'max', 'visitorsPerDateB': 'sum'}\n",
    "    ),\n",
    "    axis=1,\n",
    ")\n",
    "visitorsBCummulative.columns = ['date', 'visitorsCummulativeB']\n"
   ]
  },
  {
   "cell_type": "code",
   "execution_count": 47,
   "metadata": {},
   "outputs": [],
   "source": [
    "#Количество заказов по дням для руппы А\n",
    "ordersADaily = (\n",
    "    orders[orders['group'] == 'A'][['date', 'transactionid', 'visitorid', 'revenue']]\n",
    "    .groupby('date', as_index=False)\n",
    "    .agg({'transactionid': pd.Series.nunique, 'revenue': 'sum'})\n",
    ")\n",
    "ordersADaily.columns = ['date', 'ordersPerDateA', 'revenuePerDateA']\n",
    "\n",
    "#Накопленное количество заказов по дням для группы А\n",
    "ordersACummulative = ordersADaily.apply(\n",
    "    lambda x: ordersADaily[ordersADaily['date'] <= x['date']].agg(\n",
    "        {'date': 'max', 'ordersPerDateA': 'sum', 'revenuePerDateA': 'sum'}\n",
    "    ),\n",
    "    axis=1,\n",
    ").sort_values(by=['date'])\n",
    "ordersACummulative.columns = [\n",
    "    'date',\n",
    "    'ordersCummulativeA',\n",
    "    'revenueCummulativeA',\n",
    "]\n"
   ]
  },
  {
   "cell_type": "code",
   "execution_count": 48,
   "metadata": {},
   "outputs": [],
   "source": [
    "#Количество заказов по дням для группы В\n",
    "ordersBDaily = (\n",
    "    orders[orders['group'] == 'B'][['date', 'transactionid', 'visitorid', 'revenue']]\n",
    "    .groupby('date', as_index=False)\n",
    "    .agg({'transactionid': pd.Series.nunique, 'revenue': 'sum'})\n",
    ")\n",
    "ordersBDaily.columns = ['date', 'ordersPerDateB', 'revenuePerDateB']\n",
    "\n",
    "#Накопленное количество заказов по дням для группы В\n",
    "ordersBCummulative = ordersBDaily.apply(\n",
    "    lambda x: ordersBDaily[ordersBDaily['date'] <= x['date']].agg(\n",
    "        {'date': 'max', 'ordersPerDateB': 'sum', 'revenuePerDateB': 'sum'}\n",
    "    ),\n",
    "    axis=1,\n",
    ").sort_values(by=['date'])\n",
    "ordersBCummulative.columns = [\n",
    "    'date',\n",
    "    'ordersCummulativeB',\n",
    "    'revenueCummulativeB',\n",
    "]\n"
   ]
  },
  {
   "cell_type": "code",
   "execution_count": 49,
   "metadata": {},
   "outputs": [],
   "source": [
    "#Объединяем по дате все полученные кумулятивные данные в один датафрейм\n",
    "data = (\n",
    "    ordersADaily.merge(\n",
    "        ordersBDaily, left_on='date', right_on='date', how='left'\n",
    "    )\n",
    "    .merge(ordersACummulative, left_on='date', right_on='date', how='left')\n",
    "    .merge(ordersBCummulative, left_on='date', right_on='date', how='left')\n",
    "    .merge(visitorsADaily, left_on='date', right_on='date', how='left')\n",
    "    .merge(visitorsBDaily, left_on='date', right_on='date', how='left')\n",
    "    .merge(visitorsACummulative, left_on='date', right_on='date', how='left')\n",
    "    .merge(visitorsBCummulative, left_on='date', right_on='date', how='left')\n",
    ")"
   ]
  },
  {
   "cell_type": "code",
   "execution_count": 50,
   "metadata": {
    "scrolled": true
   },
   "outputs": [
    {
     "data": {
      "text/html": [
       "<div>\n",
       "<style scoped>\n",
       "    .dataframe tbody tr th:only-of-type {\n",
       "        vertical-align: middle;\n",
       "    }\n",
       "\n",
       "    .dataframe tbody tr th {\n",
       "        vertical-align: top;\n",
       "    }\n",
       "\n",
       "    .dataframe thead th {\n",
       "        text-align: right;\n",
       "    }\n",
       "</style>\n",
       "<table border=\"1\" class=\"dataframe\">\n",
       "  <thead>\n",
       "    <tr style=\"text-align: right;\">\n",
       "      <th></th>\n",
       "      <th>date</th>\n",
       "      <th>ordersPerDateA</th>\n",
       "      <th>revenuePerDateA</th>\n",
       "      <th>ordersPerDateB</th>\n",
       "      <th>revenuePerDateB</th>\n",
       "      <th>ordersCummulativeA</th>\n",
       "      <th>revenueCummulativeA</th>\n",
       "      <th>ordersCummulativeB</th>\n",
       "      <th>revenueCummulativeB</th>\n",
       "      <th>visitorsPerDateA</th>\n",
       "      <th>visitorsPerDateB</th>\n",
       "      <th>visitorsCummulativeA</th>\n",
       "      <th>visitorsCummulativeB</th>\n",
       "    </tr>\n",
       "  </thead>\n",
       "  <tbody>\n",
       "    <tr>\n",
       "      <td>0</td>\n",
       "      <td>2019-08-01</td>\n",
       "      <td>24</td>\n",
       "      <td>148579</td>\n",
       "      <td>21</td>\n",
       "      <td>101217</td>\n",
       "      <td>24</td>\n",
       "      <td>148579</td>\n",
       "      <td>21</td>\n",
       "      <td>101217</td>\n",
       "      <td>719</td>\n",
       "      <td>713</td>\n",
       "      <td>719</td>\n",
       "      <td>713</td>\n",
       "    </tr>\n",
       "    <tr>\n",
       "      <td>1</td>\n",
       "      <td>2019-08-02</td>\n",
       "      <td>20</td>\n",
       "      <td>93822</td>\n",
       "      <td>24</td>\n",
       "      <td>165531</td>\n",
       "      <td>44</td>\n",
       "      <td>242401</td>\n",
       "      <td>45</td>\n",
       "      <td>266748</td>\n",
       "      <td>619</td>\n",
       "      <td>581</td>\n",
       "      <td>1338</td>\n",
       "      <td>1294</td>\n",
       "    </tr>\n",
       "    <tr>\n",
       "      <td>2</td>\n",
       "      <td>2019-08-03</td>\n",
       "      <td>24</td>\n",
       "      <td>112473</td>\n",
       "      <td>16</td>\n",
       "      <td>114248</td>\n",
       "      <td>68</td>\n",
       "      <td>354874</td>\n",
       "      <td>61</td>\n",
       "      <td>380996</td>\n",
       "      <td>507</td>\n",
       "      <td>509</td>\n",
       "      <td>1845</td>\n",
       "      <td>1803</td>\n",
       "    </tr>\n",
       "    <tr>\n",
       "      <td>3</td>\n",
       "      <td>2019-08-04</td>\n",
       "      <td>16</td>\n",
       "      <td>70825</td>\n",
       "      <td>17</td>\n",
       "      <td>108571</td>\n",
       "      <td>84</td>\n",
       "      <td>425699</td>\n",
       "      <td>78</td>\n",
       "      <td>489567</td>\n",
       "      <td>717</td>\n",
       "      <td>770</td>\n",
       "      <td>2562</td>\n",
       "      <td>2573</td>\n",
       "    </tr>\n",
       "    <tr>\n",
       "      <td>4</td>\n",
       "      <td>2019-08-05</td>\n",
       "      <td>25</td>\n",
       "      <td>124218</td>\n",
       "      <td>23</td>\n",
       "      <td>92428</td>\n",
       "      <td>109</td>\n",
       "      <td>549917</td>\n",
       "      <td>101</td>\n",
       "      <td>581995</td>\n",
       "      <td>756</td>\n",
       "      <td>707</td>\n",
       "      <td>3318</td>\n",
       "      <td>3280</td>\n",
       "    </tr>\n",
       "  </tbody>\n",
       "</table>\n",
       "</div>"
      ],
      "text/plain": [
       "        date  ordersPerDateA  revenuePerDateA  ordersPerDateB  \\\n",
       "0 2019-08-01              24           148579              21   \n",
       "1 2019-08-02              20            93822              24   \n",
       "2 2019-08-03              24           112473              16   \n",
       "3 2019-08-04              16            70825              17   \n",
       "4 2019-08-05              25           124218              23   \n",
       "\n",
       "   revenuePerDateB  ordersCummulativeA  revenueCummulativeA  \\\n",
       "0           101217                  24               148579   \n",
       "1           165531                  44               242401   \n",
       "2           114248                  68               354874   \n",
       "3           108571                  84               425699   \n",
       "4            92428                 109               549917   \n",
       "\n",
       "   ordersCummulativeB  revenueCummulativeB  visitorsPerDateA  \\\n",
       "0                  21               101217               719   \n",
       "1                  45               266748               619   \n",
       "2                  61               380996               507   \n",
       "3                  78               489567               717   \n",
       "4                 101               581995               756   \n",
       "\n",
       "   visitorsPerDateB  visitorsCummulativeA  visitorsCummulativeB  \n",
       "0               713                   719                   713  \n",
       "1               581                  1338                  1294  \n",
       "2               509                  1845                  1803  \n",
       "3               770                  2562                  2573  \n",
       "4               707                  3318                  3280  "
      ]
     },
     "execution_count": 50,
     "metadata": {},
     "output_type": "execute_result"
    }
   ],
   "source": [
    "data.head(5)"
   ]
  },
  {
   "cell_type": "markdown",
   "metadata": {},
   "source": [
    "Создадим переменные `ordersByUsersA` и `ordersByUsersB` со столбцами `['userId', 'orders']`. В них для пользователей, которые заказывали хотя бы 1 раз, укажем число совершённых заказов."
   ]
  },
  {
   "cell_type": "code",
   "execution_count": 51,
   "metadata": {},
   "outputs": [],
   "source": [
    "ordersByUsersA = (\n",
    "    orders[orders['group'] == 'A']\n",
    "    .groupby('visitorid', as_index=False)\n",
    "    .agg({'transactionid': pd.Series.nunique})\n",
    ")\n",
    "ordersByUsersA.columns = ['visitorid', 'orders']\n",
    "\n",
    "ordersByUsersB = (\n",
    "    orders[orders['group'] == 'B']\n",
    "    .groupby('visitorid', as_index=False)\n",
    "    .agg({'transactionid': pd.Series.nunique})\n",
    ")\n",
    "ordersByUsersB.columns = ['visitorid', 'orders'] "
   ]
  },
  {
   "cell_type": "markdown",
   "metadata": {},
   "source": [
    "Объявим переменные `sampleA` и `sampleB`, в которых пользователям из разных групп будет соответствовать количество заказов. Тем, кто ничего не заказал, будут соответствовать нули."
   ]
  },
  {
   "cell_type": "code",
   "execution_count": 52,
   "metadata": {},
   "outputs": [],
   "source": [
    "sampleA = pd.concat(\n",
    "    [ordersByUsersA['orders'],pd.Series(0, index=np.arange(data['visitorsPerDateA'].sum() \n",
    "                                                           - len(ordersByUsersA['orders'])), name='orders')],axis=0)\n",
    "\n",
    "sampleB = pd.concat(\n",
    "    [ordersByUsersB['orders'],pd.Series(0, index=np.arange(data['visitorsPerDateB'].sum() \n",
    "                                                           - len(ordersByUsersB['orders'])), name='orders')],axis=0)"
   ]
  },
  {
   "cell_type": "markdown",
   "metadata": {},
   "source": [
    "Сформулируем гипотезы:\n",
    "* Ho - статистически значимых различий в конверсии между группами нет.\n",
    "* H1 - статистически значимые различия есть.\n",
    "\n",
    "Пороговое значение alpha примем за 5%."
   ]
  },
  {
   "cell_type": "code",
   "execution_count": 53,
   "metadata": {
    "scrolled": true
   },
   "outputs": [
    {
     "name": "stdout",
     "output_type": "stream",
     "text": [
      "alpha = 0.05\n",
      "p-value = 0.017\n",
      "Относительный прирост группы B к A = 0.138\n"
     ]
    }
   ],
   "source": [
    "print('alpha =',0.05)\n",
    "print('p-value = {0:.3f}'.format(stats.mannwhitneyu(sampleA, sampleB, alternative = 'two-sided')[1]))\n",
    "print('Относительный прирост группы B к A = {0:.3f}'.format(sampleB.mean()/sampleA.mean()-1)) "
   ]
  },
  {
   "cell_type": "markdown",
   "metadata": {},
   "source": [
    "P-value значительно меньше 0.05, поэтому нулевую гипотезу отвергаем. Анализ сырых данных показывает, что в конверсии между группами есть статистически значимые различия. Относительный прирост конверсии группы B к конверсии группы А равен 13%."
   ]
  },
  {
   "cell_type": "markdown",
   "metadata": {},
   "source": [
    "### Расчет статистической значимости различий в среднем чеке заказа между группами по «сырым» данным."
   ]
  },
  {
   "cell_type": "markdown",
   "metadata": {},
   "source": [
    "Сравним средние чеки по \"сырым\" данным.\n",
    "Сформулируем гипотезы:\n",
    "* Но - различия в среднем чеке заказа между группами по «сырым» данным статистически не значимы\n",
    "* Н1 - различия в среднем чеке заказа между группами по «сырым» данным статистически значимы\n",
    "\n",
    "Пороговое значение alpha примем за 5%.\n"
   ]
  },
  {
   "cell_type": "code",
   "execution_count": 54,
   "metadata": {},
   "outputs": [
    {
     "name": "stdout",
     "output_type": "stream",
     "text": [
      "alpha = 0.05\n",
      "p-value = 0.729\n",
      "Относительный прирост среднего чека группы B к среднему чеку группы А до очистки данных = 0.259\n"
     ]
    }
   ],
   "source": [
    "print('alpha =',0.05)\n",
    "print('p-value = {0:.3f}'.format(stats.mannwhitneyu(orders[orders['group']=='A']['revenue'], orders[orders['group']=='B']['revenue'], alternative = 'two-sided')[1]))\n",
    "print('Относительный прирост среднего чека группы B к среднему чеку группы А до очистки данных = {0:.3f}'.format(orders[orders['group']=='B']['revenue'].mean()/orders[orders['group']=='A']['revenue'].mean()-1))     "
   ]
  },
  {
   "cell_type": "markdown",
   "metadata": {},
   "source": [
    "P-value значительно больше 0.05. Значит, причин отвергать нулевую гипотезу и считать, что в среднем чеке есть различия, нет.\n",
    "То есть средние чеки по \"сырым\" данным схожи. И при этом, средний чек группы B значительно выше среднего чека группы A на 26%"
   ]
  },
  {
   "cell_type": "markdown",
   "metadata": {},
   "source": [
    "### Расчет статистической значимости различий в конверсии между группами по «очищенным» данным. "
   ]
  },
  {
   "cell_type": "markdown",
   "metadata": {},
   "source": [
    "При расчетах 95-го и 99-го перцентелей, решили принять за аномальные значения  тех кто совершил больше 2 заказов и тех кто совершил заказ на сумму свыше 28 000. \n",
    "\n",
    "Узнаем, сколько всего аномальных пользователей методом shape()."
   ]
  },
  {
   "cell_type": "code",
   "execution_count": 55,
   "metadata": {},
   "outputs": [
    {
     "name": "stdout",
     "output_type": "stream",
     "text": [
      "1099    148427295\n",
      "18      199603092\n",
      "928     204675465\n",
      "23      237748145\n",
      "37      249864742\n",
      "Name: visitorid, dtype: int64\n",
      "(74,)\n"
     ]
    }
   ],
   "source": [
    "usersWithManyOrders = pd.concat(\n",
    "    [\n",
    "        ordersByUsersA[ordersByUsersA['orders'] > 2]['visitorid'],\n",
    "        ordersByUsersB[ordersByUsersB['orders'] > 2]['visitorid'],\n",
    "    ],\n",
    "    axis=0,\n",
    ")\n",
    "\n",
    "usersWithExpensiveOrders = orders[orders['revenue'] > 28000]['visitorid']\n",
    "\n",
    "abnormalUsers = (\n",
    "    pd.concat([usersWithManyOrders, usersWithExpensiveOrders], axis=0)\n",
    "    .drop_duplicates()\n",
    "    .sort_values()\n",
    ")\n",
    "print(abnormalUsers.head(5))\n",
    "print(abnormalUsers.shape) "
   ]
  },
  {
   "cell_type": "markdown",
   "metadata": {},
   "source": [
    "74 аномальных пользователя.  После их удаления можно считать статистическую значимость"
   ]
  },
  {
   "cell_type": "markdown",
   "metadata": {},
   "source": [
    "Сформулируем гипотезы:\n",
    "* Но - различия в конверсии между группами по «очищенным» данным статистически не значимы\n",
    "* Н1 - различия в конверсии между группами по «очищенным» данным статистически значимы\n",
    "\n",
    "Пороговое значение alpha примем за 5%.\n",
    "\n",
    "Создадим переменные `sampleAFiltered` и `sampleBFiltered`, в которых сохраним очищенные данные о заказах — не включая аномальных пользователей."
   ]
  },
  {
   "cell_type": "code",
   "execution_count": 56,
   "metadata": {},
   "outputs": [],
   "source": [
    "sampleAFiltered = pd.concat(\n",
    "    [ordersByUsersA[np.logical_not(ordersByUsersA['visitorid'].isin(abnormalUsers))]['orders'],\n",
    "     pd.Series(0, index=np.arange(data['visitorsPerDateA'].sum() - len(ordersByUsersA['orders'])),\n",
    "               name='orders')],axis=0)\n",
    "\n",
    "sampleBFiltered = pd.concat(\n",
    "    [ordersByUsersB[np.logical_not(ordersByUsersB['visitorid'].isin(abnormalUsers))]['orders'],\n",
    "     pd.Series(0, index=np.arange(data['visitorsPerDateB'].sum() - len(ordersByUsersB['orders'])),\n",
    "               name='orders')],axis=0)"
   ]
  },
  {
   "cell_type": "code",
   "execution_count": 57,
   "metadata": {},
   "outputs": [
    {
     "name": "stdout",
     "output_type": "stream",
     "text": [
      "alpha = 0.05\n",
      "P-value по конверсии после очистки данных = 0.013\n",
      "Относительный прирост конверсии группы B к конверсии группы А после очистки данных: = 0.173\n"
     ]
    }
   ],
   "source": [
    "print('alpha =',0.05)\n",
    "print('P-value по конверсии после очистки данных = {0:.3f}'.format(stats.mannwhitneyu(sampleAFiltered, sampleBFiltered, alternative = 'two-sided')[1]))\n",
    "print('Относительный прирост конверсии группы B к конверсии группы А после очистки данных: = {0:.3f}'.format(sampleBFiltered.mean()/sampleAFiltered.mean()-1)) "
   ]
  },
  {
   "cell_type": "markdown",
   "metadata": {},
   "source": [
    "Как и в случае с сырыми данными, статистическая значимость достигнута. p-value = 0.01, что меньше 0.05 - значит отвергаем нулевую гипотезу. Группа `B` лучше группы `А`. Относительный прирост конверсии очищенной группы `B` к `А` увеличился и равен 17,3%, по сырым данным  было - 13,8%"
   ]
  },
  {
   "cell_type": "markdown",
   "metadata": {},
   "source": [
    "### Расчет статистической значимости различий в среднем чеке заказа между группами по «очищенным» данным. "
   ]
  },
  {
   "cell_type": "markdown",
   "metadata": {},
   "source": [
    "Посчитаем статистическую значимость различия средних чеков после удаления аномальных пользователей.\n",
    "\n",
    "Сформулируем гипотезы:\n",
    "\n",
    "* Но - различия в среднем чеке заказа между группами по «очищенным» данным статистически не значимы\n",
    "* Н1 - различия в среднем чеке заказа между группами по «очищенным» данным статистически значимы\n",
    "\n",
    "Пороговое значение alpha примем за 5%.\n"
   ]
  },
  {
   "cell_type": "code",
   "execution_count": 58,
   "metadata": {},
   "outputs": [
    {
     "name": "stdout",
     "output_type": "stream",
     "text": [
      "alpha = 0.05\n",
      "P-value по среднему чеку после очистки данных: 0.738\n",
      "Относительный прирост среднего чека группы B к среднему чеку группы А после очистки данных:-0.020\n"
     ]
    }
   ],
   "source": [
    "print(\"alpha =\",0.05)\n",
    "print(\"P-value по среднему чеку после очистки данных: {0:.3f}\".format(stats.mannwhitneyu(\n",
    "    orders[np.logical_and(\n",
    "        orders['group']=='A',\n",
    "        np.logical_not(orders['visitorid'].isin(abnormalUsers)))]['revenue'],\n",
    "    orders[np.logical_and(\n",
    "        orders['group']=='B',\n",
    "        np.logical_not(orders['visitorid'].isin(abnormalUsers)))]['revenue'], alternative = 'two-sided')[1]))\n",
    "\n",
    "print(\"Относительный прирост среднего чека группы B к среднему чеку группы А после очистки данных:{0:.3f}\".format(\n",
    "    orders[np.logical_and(orders['group']=='B',np.logical_not(orders['visitorid'].isin(abnormalUsers)))]['revenue'].mean()/\n",
    "    orders[np.logical_and(\n",
    "        orders['group']=='A',\n",
    "        np.logical_not(orders['visitorid'].isin(abnormalUsers)))]['revenue'].mean() - 1)) "
   ]
  },
  {
   "cell_type": "markdown",
   "metadata": {},
   "source": [
    "Статистической значимости различия между средними чеками не появилось. P-value увеличился до 0.738, а разница между сегментами стала -0.02."
   ]
  },
  {
   "cell_type": "markdown",
   "metadata": {},
   "source": [
    "### Решение по результатам теста. "
   ]
  },
  {
   "cell_type": "markdown",
   "metadata": {},
   "source": [
    "Исходя из проведеного анализа, можно принять решение остановить тест и выбрать победителем  группу `B` так как:\n",
    "\n",
    "* По \"сырым\" и по \"очищенным\" данным различия в конверсии групп `A` и `B` есть. Относительный выигрыш группы `B` над `A` равен 17,3% по \"очищенным\" и 13.8% по \"сырым\" данным.\n",
    "* по \"сырым\" и по \"очищенным\" данным различия в средних чеках групп `A` и `B` отстутствуют, несмотря на то, что средний чек группы `B` оказался незначительно (на 2%) ниже среднего чека группы `A` по \"очищенным\" данным, в то время как по \"сырым\" данным, он был больше на 26%, - и всё это из-за одного того  аномального заказа  на 1,2 млн. \n",
    "\n",
    "Группа B значительно лучше (эффективнее) группы A по конверсии, хотя по среднему чеку группы примерно равны."
   ]
  }
 ],
 "metadata": {
  "ExecuteTimeLog": [
   {
    "duration": 570,
    "start_time": "2022-03-11T10:10:28.876Z"
   },
   {
    "duration": 42,
    "start_time": "2022-03-11T10:10:29.448Z"
   },
   {
    "duration": 13,
    "start_time": "2022-03-11T10:10:41.402Z"
   },
   {
    "duration": 15,
    "start_time": "2022-03-11T10:10:42.170Z"
   },
   {
    "duration": 5,
    "start_time": "2022-03-11T10:11:14.325Z"
   },
   {
    "duration": 4,
    "start_time": "2022-03-11T10:11:30.434Z"
   },
   {
    "duration": 4,
    "start_time": "2022-03-11T10:11:47.318Z"
   },
   {
    "duration": 5,
    "start_time": "2022-03-11T10:11:54.906Z"
   },
   {
    "duration": 5,
    "start_time": "2022-03-11T10:12:09.800Z"
   },
   {
    "duration": 5,
    "start_time": "2022-03-11T10:12:21.187Z"
   },
   {
    "duration": 4,
    "start_time": "2022-03-11T10:12:27.645Z"
   },
   {
    "duration": 4,
    "start_time": "2022-03-11T10:12:35.090Z"
   },
   {
    "duration": 4,
    "start_time": "2022-03-11T10:12:44.586Z"
   },
   {
    "duration": 4,
    "start_time": "2022-03-11T10:12:58.000Z"
   },
   {
    "duration": 5,
    "start_time": "2022-03-11T10:15:45.679Z"
   },
   {
    "duration": 3401,
    "start_time": "2022-03-11T10:15:50.777Z"
   },
   {
    "duration": 3,
    "start_time": "2022-03-11T10:16:57.999Z"
   },
   {
    "duration": 6,
    "start_time": "2022-03-11T10:17:00.604Z"
   },
   {
    "duration": 10,
    "start_time": "2022-03-11T10:17:15.240Z"
   },
   {
    "duration": 4,
    "start_time": "2022-03-11T10:17:46.549Z"
   },
   {
    "duration": 11,
    "start_time": "2022-03-11T10:18:02.166Z"
   },
   {
    "duration": 7,
    "start_time": "2022-03-11T10:18:30.900Z"
   },
   {
    "duration": 43,
    "start_time": "2022-03-11T10:27:12.519Z"
   },
   {
    "duration": 12,
    "start_time": "2022-03-11T10:27:23.178Z"
   },
   {
    "duration": 10,
    "start_time": "2022-03-11T10:27:31.911Z"
   },
   {
    "duration": 784,
    "start_time": "2022-03-14T07:32:15.555Z"
   },
   {
    "duration": 16,
    "start_time": "2022-03-14T07:32:17.022Z"
   },
   {
    "duration": 22,
    "start_time": "2022-03-14T07:32:17.954Z"
   },
   {
    "duration": 10,
    "start_time": "2022-03-14T07:32:20.270Z"
   },
   {
    "duration": 4,
    "start_time": "2022-03-14T07:32:25.077Z"
   },
   {
    "duration": 10,
    "start_time": "2022-03-14T07:32:26.089Z"
   },
   {
    "duration": 13,
    "start_time": "2022-03-14T07:32:26.868Z"
   },
   {
    "duration": 5,
    "start_time": "2022-03-14T07:32:29.890Z"
   },
   {
    "duration": 14,
    "start_time": "2022-03-14T07:32:30.449Z"
   },
   {
    "duration": 29,
    "start_time": "2022-03-14T07:32:33.144Z"
   },
   {
    "duration": 19,
    "start_time": "2022-03-14T07:32:33.650Z"
   },
   {
    "duration": 4,
    "start_time": "2022-03-14T08:30:39.992Z"
   },
   {
    "duration": 18,
    "start_time": "2022-03-14T08:30:39.999Z"
   },
   {
    "duration": 15,
    "start_time": "2022-03-14T08:30:40.020Z"
   },
   {
    "duration": 11,
    "start_time": "2022-03-14T08:30:40.038Z"
   },
   {
    "duration": 35,
    "start_time": "2022-03-14T08:30:40.052Z"
   },
   {
    "duration": 10,
    "start_time": "2022-03-14T08:30:40.090Z"
   },
   {
    "duration": 22,
    "start_time": "2022-03-14T08:30:40.104Z"
   },
   {
    "duration": 11,
    "start_time": "2022-03-14T08:30:40.130Z"
   },
   {
    "duration": 47,
    "start_time": "2022-03-14T08:30:40.144Z"
   },
   {
    "duration": 32,
    "start_time": "2022-03-14T08:30:40.193Z"
   },
   {
    "duration": 19,
    "start_time": "2022-03-14T08:30:40.227Z"
   },
   {
    "duration": 13,
    "start_time": "2022-03-14T08:30:40.248Z"
   },
   {
    "duration": 15,
    "start_time": "2022-03-14T08:30:43.494Z"
   },
   {
    "duration": 473,
    "start_time": "2022-03-14T08:30:44.657Z"
   },
   {
    "duration": -71,
    "start_time": "2022-03-14T08:31:41.432Z"
   },
   {
    "duration": 8498,
    "start_time": "2022-03-14T08:31:43.929Z"
   },
   {
    "duration": 16,
    "start_time": "2022-03-14T08:32:39.578Z"
   },
   {
    "duration": 5,
    "start_time": "2022-03-14T08:33:10.817Z"
   },
   {
    "duration": 19,
    "start_time": "2022-03-14T08:33:18.707Z"
   },
   {
    "duration": 11,
    "start_time": "2022-03-14T08:33:47.384Z"
   },
   {
    "duration": 10,
    "start_time": "2022-03-14T08:33:57.688Z"
   },
   {
    "duration": 6,
    "start_time": "2022-03-14T08:34:07.457Z"
   },
   {
    "duration": 8,
    "start_time": "2022-03-14T08:34:22.606Z"
   },
   {
    "duration": 12,
    "start_time": "2022-03-14T08:34:46.670Z"
   },
   {
    "duration": 12,
    "start_time": "2022-03-14T08:39:51.249Z"
   },
   {
    "duration": 8,
    "start_time": "2022-03-14T08:40:07.986Z"
   },
   {
    "duration": 12,
    "start_time": "2022-03-14T08:40:24.963Z"
   },
   {
    "duration": 895,
    "start_time": "2022-03-14T08:40:43.411Z"
   },
   {
    "duration": 10,
    "start_time": "2022-03-14T08:40:56.010Z"
   },
   {
    "duration": 2023,
    "start_time": "2022-03-14T08:41:09.932Z"
   },
   {
    "duration": 1603,
    "start_time": "2022-03-14T08:41:33.494Z"
   },
   {
    "duration": 1738,
    "start_time": "2022-03-14T08:42:04.132Z"
   },
   {
    "duration": 1454,
    "start_time": "2022-03-14T09:48:37.684Z"
   },
   {
    "duration": 9,
    "start_time": "2022-03-14T09:49:49.084Z"
   },
   {
    "duration": 12,
    "start_time": "2022-03-14T09:49:57.504Z"
   },
   {
    "duration": 4,
    "start_time": "2022-03-14T09:50:08.684Z"
   },
   {
    "duration": 28,
    "start_time": "2022-03-14T09:50:08.692Z"
   },
   {
    "duration": 15,
    "start_time": "2022-03-14T09:50:08.724Z"
   },
   {
    "duration": 18,
    "start_time": "2022-03-14T09:50:08.742Z"
   },
   {
    "duration": 11,
    "start_time": "2022-03-14T09:50:08.763Z"
   },
   {
    "duration": 14,
    "start_time": "2022-03-14T09:50:08.776Z"
   },
   {
    "duration": 33,
    "start_time": "2022-03-14T09:50:08.793Z"
   },
   {
    "duration": 10,
    "start_time": "2022-03-14T09:50:08.829Z"
   },
   {
    "duration": 28,
    "start_time": "2022-03-14T09:50:08.842Z"
   },
   {
    "duration": 43,
    "start_time": "2022-03-14T09:50:08.873Z"
   },
   {
    "duration": 9,
    "start_time": "2022-03-14T09:50:08.918Z"
   },
   {
    "duration": 9,
    "start_time": "2022-03-14T09:50:12.148Z"
   },
   {
    "duration": 12,
    "start_time": "2022-03-14T09:50:12.822Z"
   },
   {
    "duration": 1457,
    "start_time": "2022-03-14T09:50:24.900Z"
   },
   {
    "duration": 563,
    "start_time": "2022-03-14T09:51:30.551Z"
   },
   {
    "duration": 5,
    "start_time": "2022-03-14T09:51:33.585Z"
   },
   {
    "duration": 33,
    "start_time": "2022-03-14T09:51:33.592Z"
   },
   {
    "duration": 29,
    "start_time": "2022-03-14T09:51:33.628Z"
   },
   {
    "duration": 14,
    "start_time": "2022-03-14T09:51:33.660Z"
   },
   {
    "duration": 22,
    "start_time": "2022-03-14T09:51:33.676Z"
   },
   {
    "duration": 9,
    "start_time": "2022-03-14T09:51:33.700Z"
   },
   {
    "duration": 28,
    "start_time": "2022-03-14T09:51:33.712Z"
   },
   {
    "duration": 12,
    "start_time": "2022-03-14T09:51:33.742Z"
   },
   {
    "duration": 19,
    "start_time": "2022-03-14T09:51:33.757Z"
   },
   {
    "duration": 53,
    "start_time": "2022-03-14T09:51:33.779Z"
   },
   {
    "duration": 10,
    "start_time": "2022-03-14T09:51:33.835Z"
   },
   {
    "duration": 23,
    "start_time": "2022-03-14T09:51:33.848Z"
   },
   {
    "duration": 41,
    "start_time": "2022-03-14T09:51:33.873Z"
   },
   {
    "duration": 5,
    "start_time": "2022-03-14T09:51:41.854Z"
   },
   {
    "duration": 22,
    "start_time": "2022-03-14T09:51:41.861Z"
   },
   {
    "duration": 22,
    "start_time": "2022-03-14T09:51:41.885Z"
   },
   {
    "duration": 12,
    "start_time": "2022-03-14T09:51:41.910Z"
   },
   {
    "duration": 13,
    "start_time": "2022-03-14T09:51:41.924Z"
   },
   {
    "duration": 15,
    "start_time": "2022-03-14T09:51:41.940Z"
   },
   {
    "duration": 20,
    "start_time": "2022-03-14T09:51:41.958Z"
   },
   {
    "duration": 12,
    "start_time": "2022-03-14T09:51:41.981Z"
   },
   {
    "duration": 16,
    "start_time": "2022-03-14T09:51:41.996Z"
   },
   {
    "duration": 39,
    "start_time": "2022-03-14T09:51:42.014Z"
   },
   {
    "duration": 8,
    "start_time": "2022-03-14T09:51:42.055Z"
   },
   {
    "duration": 19,
    "start_time": "2022-03-14T09:51:42.066Z"
   },
   {
    "duration": 36,
    "start_time": "2022-03-14T09:51:42.087Z"
   },
   {
    "duration": 12,
    "start_time": "2022-03-14T09:51:55.440Z"
   },
   {
    "duration": 1419,
    "start_time": "2022-03-14T09:51:55.955Z"
   },
   {
    "duration": 1402,
    "start_time": "2022-03-14T09:52:32.055Z"
   },
   {
    "duration": 5,
    "start_time": "2022-03-14T09:54:56.063Z"
   },
   {
    "duration": 5,
    "start_time": "2022-03-14T09:55:04.182Z"
   },
   {
    "duration": 18,
    "start_time": "2022-03-14T09:55:05.312Z"
   },
   {
    "duration": 12,
    "start_time": "2022-03-14T09:55:07.089Z"
   },
   {
    "duration": 9,
    "start_time": "2022-03-14T09:55:07.945Z"
   },
   {
    "duration": 4,
    "start_time": "2022-03-14T09:55:10.263Z"
   },
   {
    "duration": 6,
    "start_time": "2022-03-14T09:55:14.295Z"
   },
   {
    "duration": 14,
    "start_time": "2022-03-14T09:55:15.094Z"
   },
   {
    "duration": 7,
    "start_time": "2022-03-14T09:55:17.207Z"
   },
   {
    "duration": 15,
    "start_time": "2022-03-14T09:55:17.762Z"
   },
   {
    "duration": 32,
    "start_time": "2022-03-14T09:55:24.006Z"
   },
   {
    "duration": 9,
    "start_time": "2022-03-14T09:55:25.376Z"
   },
   {
    "duration": 13,
    "start_time": "2022-03-14T09:55:27.529Z"
   },
   {
    "duration": 1446,
    "start_time": "2022-03-14T09:55:30.776Z"
   },
   {
    "duration": 1506,
    "start_time": "2022-03-14T09:55:59.638Z"
   },
   {
    "duration": 97,
    "start_time": "2022-03-14T09:56:33.826Z"
   },
   {
    "duration": 22,
    "start_time": "2022-03-14T09:56:38.129Z"
   },
   {
    "duration": 12,
    "start_time": "2022-03-14T09:57:12.989Z"
   },
   {
    "duration": 28,
    "start_time": "2022-03-14T09:57:23.118Z"
   },
   {
    "duration": 9,
    "start_time": "2022-03-14T09:57:48.973Z"
   },
   {
    "duration": 9,
    "start_time": "2022-03-14T09:58:37.133Z"
   },
   {
    "duration": 8,
    "start_time": "2022-03-14T09:58:40.088Z"
   },
   {
    "duration": 9,
    "start_time": "2022-03-14T09:59:20.815Z"
   },
   {
    "duration": 10,
    "start_time": "2022-03-14T09:59:35.097Z"
   },
   {
    "duration": 10,
    "start_time": "2022-03-14T09:59:54.618Z"
   },
   {
    "duration": 12,
    "start_time": "2022-03-14T10:00:07.070Z"
   },
   {
    "duration": 15,
    "start_time": "2022-03-14T10:00:28.189Z"
   },
   {
    "duration": 18,
    "start_time": "2022-03-14T10:00:28.890Z"
   },
   {
    "duration": 9,
    "start_time": "2022-03-14T10:00:47.482Z"
   },
   {
    "duration": 7,
    "start_time": "2022-03-14T10:01:05.545Z"
   },
   {
    "duration": 313,
    "start_time": "2022-03-14T10:01:40.798Z"
   },
   {
    "duration": 26,
    "start_time": "2022-03-14T10:02:10.603Z"
   },
   {
    "duration": 9,
    "start_time": "2022-03-14T10:11:07.250Z"
   },
   {
    "duration": 12,
    "start_time": "2022-03-14T10:11:19.200Z"
   },
   {
    "duration": 12,
    "start_time": "2022-03-14T10:11:56.703Z"
   },
   {
    "duration": 8605,
    "start_time": "2022-03-14T10:13:09.525Z"
   },
   {
    "duration": 7734,
    "start_time": "2022-03-14T10:13:32.875Z"
   },
   {
    "duration": 320,
    "start_time": "2022-03-14T10:14:30.814Z"
   },
   {
    "duration": 572,
    "start_time": "2022-03-14T10:14:50.807Z"
   },
   {
    "duration": 330,
    "start_time": "2022-03-14T10:15:34.470Z"
   },
   {
    "duration": 283,
    "start_time": "2022-03-14T10:16:26.118Z"
   },
   {
    "duration": 10,
    "start_time": "2022-03-14T10:17:48.071Z"
   },
   {
    "duration": 19,
    "start_time": "2022-03-14T10:18:07.707Z"
   },
   {
    "duration": 10,
    "start_time": "2022-03-14T10:21:27.289Z"
   },
   {
    "duration": 340,
    "start_time": "2022-03-14T10:21:27.793Z"
   },
   {
    "duration": 328,
    "start_time": "2022-03-14T10:22:10.208Z"
   },
   {
    "duration": 327,
    "start_time": "2022-03-14T10:22:15.741Z"
   },
   {
    "duration": 334,
    "start_time": "2022-03-14T10:22:25.041Z"
   },
   {
    "duration": 488,
    "start_time": "2022-03-14T10:22:31.541Z"
   },
   {
    "duration": 473,
    "start_time": "2022-03-14T10:22:36.890Z"
   },
   {
    "duration": 383,
    "start_time": "2022-03-14T10:22:42.716Z"
   },
   {
    "duration": 340,
    "start_time": "2022-03-14T10:23:08.884Z"
   },
   {
    "duration": 352,
    "start_time": "2022-03-14T10:24:25.652Z"
   },
   {
    "duration": 346,
    "start_time": "2022-03-14T10:24:47.671Z"
   },
   {
    "duration": 434,
    "start_time": "2022-03-14T10:24:55.389Z"
   },
   {
    "duration": 395,
    "start_time": "2022-03-14T10:26:25.625Z"
   },
   {
    "duration": 8198,
    "start_time": "2022-03-14T10:35:52.664Z"
   },
   {
    "duration": 7735,
    "start_time": "2022-03-14T10:36:13.351Z"
   },
   {
    "duration": 14,
    "start_time": "2022-03-14T10:36:24.457Z"
   },
   {
    "duration": 12,
    "start_time": "2022-03-14T10:37:39.840Z"
   },
   {
    "duration": 405,
    "start_time": "2022-03-14T10:38:00.221Z"
   },
   {
    "duration": 6,
    "start_time": "2022-03-14T10:38:12.013Z"
   },
   {
    "duration": 12,
    "start_time": "2022-03-14T10:39:51.954Z"
   },
   {
    "duration": 8,
    "start_time": "2022-03-14T10:39:53.997Z"
   },
   {
    "duration": 6,
    "start_time": "2022-03-14T10:40:08.093Z"
   },
   {
    "duration": 291,
    "start_time": "2022-03-14T10:40:22.134Z"
   },
   {
    "duration": 22,
    "start_time": "2022-03-14T10:40:49.139Z"
   },
   {
    "duration": 21,
    "start_time": "2022-03-14T10:41:02.704Z"
   },
   {
    "duration": 5,
    "start_time": "2022-03-14T10:41:18.286Z"
   },
   {
    "duration": 9,
    "start_time": "2022-03-14T10:41:46.207Z"
   },
   {
    "duration": 11,
    "start_time": "2022-03-14T10:41:46.848Z"
   },
   {
    "duration": 1362,
    "start_time": "2022-03-14T10:45:57.800Z"
   },
   {
    "duration": 20,
    "start_time": "2022-03-14T10:45:59.165Z"
   },
   {
    "duration": 16,
    "start_time": "2022-03-14T10:45:59.193Z"
   },
   {
    "duration": 9,
    "start_time": "2022-03-14T10:45:59.211Z"
   },
   {
    "duration": 14,
    "start_time": "2022-03-14T10:45:59.222Z"
   },
   {
    "duration": 10,
    "start_time": "2022-03-14T10:45:59.238Z"
   },
   {
    "duration": 45,
    "start_time": "2022-03-14T10:45:59.250Z"
   },
   {
    "duration": 5,
    "start_time": "2022-03-14T10:45:59.299Z"
   },
   {
    "duration": 16,
    "start_time": "2022-03-14T10:45:59.307Z"
   },
   {
    "duration": 34,
    "start_time": "2022-03-14T10:45:59.326Z"
   },
   {
    "duration": 10,
    "start_time": "2022-03-14T10:45:59.362Z"
   },
   {
    "duration": 19,
    "start_time": "2022-03-14T10:45:59.379Z"
   },
   {
    "duration": 26,
    "start_time": "2022-03-14T10:45:59.401Z"
   },
   {
    "duration": 14,
    "start_time": "2022-03-14T10:45:59.430Z"
   },
   {
    "duration": 61,
    "start_time": "2022-03-14T10:45:59.447Z"
   },
   {
    "duration": 8,
    "start_time": "2022-03-14T10:45:59.511Z"
   },
   {
    "duration": 16,
    "start_time": "2022-03-14T10:45:59.522Z"
   },
   {
    "duration": 8,
    "start_time": "2022-03-14T10:45:59.541Z"
   },
   {
    "duration": 46,
    "start_time": "2022-03-14T10:45:59.551Z"
   },
   {
    "duration": 15,
    "start_time": "2022-03-14T10:45:59.600Z"
   },
   {
    "duration": 30,
    "start_time": "2022-03-14T10:45:59.618Z"
   },
   {
    "duration": 28,
    "start_time": "2022-03-14T10:45:59.651Z"
   },
   {
    "duration": 14,
    "start_time": "2022-03-14T10:45:59.686Z"
   },
   {
    "duration": 21,
    "start_time": "2022-03-14T10:45:59.703Z"
   },
   {
    "duration": 33,
    "start_time": "2022-03-14T10:45:59.726Z"
   },
   {
    "duration": 21,
    "start_time": "2022-03-14T10:46:08.778Z"
   },
   {
    "duration": 11553,
    "start_time": "2022-03-14T10:46:09.766Z"
   },
   {
    "duration": 27,
    "start_time": "2022-03-14T10:46:27.320Z"
   },
   {
    "duration": 6,
    "start_time": "2022-03-14T10:46:45.378Z"
   },
   {
    "duration": 5,
    "start_time": "2022-03-14T10:46:54.484Z"
   },
   {
    "duration": 1328,
    "start_time": "2022-03-14T10:47:17.335Z"
   },
   {
    "duration": 14,
    "start_time": "2022-03-14T10:47:18.666Z"
   },
   {
    "duration": 16,
    "start_time": "2022-03-14T10:47:18.687Z"
   },
   {
    "duration": 9,
    "start_time": "2022-03-14T10:47:18.705Z"
   },
   {
    "duration": 6,
    "start_time": "2022-03-14T10:47:18.716Z"
   },
   {
    "duration": 8,
    "start_time": "2022-03-14T10:47:18.724Z"
   },
   {
    "duration": 13,
    "start_time": "2022-03-14T10:47:18.735Z"
   },
   {
    "duration": 6,
    "start_time": "2022-03-14T10:47:18.788Z"
   },
   {
    "duration": 18,
    "start_time": "2022-03-14T10:47:18.797Z"
   },
   {
    "duration": 33,
    "start_time": "2022-03-14T10:47:18.817Z"
   },
   {
    "duration": 9,
    "start_time": "2022-03-14T10:47:18.853Z"
   },
   {
    "duration": 28,
    "start_time": "2022-03-14T10:47:18.864Z"
   },
   {
    "duration": 20,
    "start_time": "2022-03-14T10:47:18.895Z"
   },
   {
    "duration": 18,
    "start_time": "2022-03-14T10:47:18.917Z"
   },
   {
    "duration": 54,
    "start_time": "2022-03-14T10:47:18.937Z"
   },
   {
    "duration": 8,
    "start_time": "2022-03-14T10:47:18.993Z"
   },
   {
    "duration": 15,
    "start_time": "2022-03-14T10:47:19.003Z"
   },
   {
    "duration": 10,
    "start_time": "2022-03-14T10:47:19.020Z"
   },
   {
    "duration": 14,
    "start_time": "2022-03-14T10:47:19.032Z"
   },
   {
    "duration": 39,
    "start_time": "2022-03-14T10:47:19.048Z"
   },
   {
    "duration": 19,
    "start_time": "2022-03-14T10:47:19.090Z"
   },
   {
    "duration": 19,
    "start_time": "2022-03-14T10:47:19.112Z"
   },
   {
    "duration": 8,
    "start_time": "2022-03-14T10:47:19.136Z"
   },
   {
    "duration": 42,
    "start_time": "2022-03-14T10:47:19.147Z"
   },
   {
    "duration": 29,
    "start_time": "2022-03-14T10:47:21.750Z"
   },
   {
    "duration": 26,
    "start_time": "2022-03-14T10:47:25.439Z"
   },
   {
    "duration": 8,
    "start_time": "2022-03-14T10:48:35.903Z"
   },
   {
    "duration": 12,
    "start_time": "2022-03-14T10:48:37.000Z"
   },
   {
    "duration": 315,
    "start_time": "2022-03-14T10:48:40.468Z"
   },
   {
    "duration": 289,
    "start_time": "2022-03-14T10:48:44.558Z"
   },
   {
    "duration": 19,
    "start_time": "2022-03-14T10:48:48.249Z"
   },
   {
    "duration": 12,
    "start_time": "2022-03-14T10:48:51.002Z"
   },
   {
    "duration": 362,
    "start_time": "2022-03-14T10:48:51.725Z"
   },
   {
    "duration": 567,
    "start_time": "2022-03-14T11:00:18.680Z"
   },
   {
    "duration": 10,
    "start_time": "2022-03-14T11:00:25.702Z"
   },
   {
    "duration": 5,
    "start_time": "2022-03-14T11:00:40.776Z"
   },
   {
    "duration": 19,
    "start_time": "2022-03-14T11:00:54.428Z"
   },
   {
    "duration": 27,
    "start_time": "2022-03-14T11:01:59.656Z"
   },
   {
    "duration": 1337,
    "start_time": "2022-03-14T11:02:19.116Z"
   },
   {
    "duration": 16,
    "start_time": "2022-03-14T11:02:20.456Z"
   },
   {
    "duration": 25,
    "start_time": "2022-03-14T11:02:20.475Z"
   },
   {
    "duration": 9,
    "start_time": "2022-03-14T11:02:20.503Z"
   },
   {
    "duration": 9,
    "start_time": "2022-03-14T11:02:20.516Z"
   },
   {
    "duration": 10,
    "start_time": "2022-03-14T11:02:20.527Z"
   },
   {
    "duration": 14,
    "start_time": "2022-03-14T11:02:20.539Z"
   },
   {
    "duration": 6,
    "start_time": "2022-03-14T11:02:20.589Z"
   },
   {
    "duration": 16,
    "start_time": "2022-03-14T11:02:20.599Z"
   },
   {
    "duration": 33,
    "start_time": "2022-03-14T11:02:20.617Z"
   },
   {
    "duration": 9,
    "start_time": "2022-03-14T11:02:20.652Z"
   },
   {
    "duration": 29,
    "start_time": "2022-03-14T11:02:20.663Z"
   },
   {
    "duration": 24,
    "start_time": "2022-03-14T11:02:20.695Z"
   },
   {
    "duration": 13,
    "start_time": "2022-03-14T11:02:20.722Z"
   },
   {
    "duration": 51,
    "start_time": "2022-03-14T11:02:20.737Z"
   },
   {
    "duration": 7,
    "start_time": "2022-03-14T11:02:20.791Z"
   },
   {
    "duration": 16,
    "start_time": "2022-03-14T11:02:20.800Z"
   },
   {
    "duration": 9,
    "start_time": "2022-03-14T11:02:20.818Z"
   },
   {
    "duration": 18,
    "start_time": "2022-03-14T11:02:20.829Z"
   },
   {
    "duration": 41,
    "start_time": "2022-03-14T11:02:20.850Z"
   },
   {
    "duration": 15,
    "start_time": "2022-03-14T11:02:20.895Z"
   },
   {
    "duration": 19,
    "start_time": "2022-03-14T11:02:20.913Z"
   },
   {
    "duration": 13,
    "start_time": "2022-03-14T11:02:20.938Z"
   },
   {
    "duration": 8,
    "start_time": "2022-03-14T11:02:20.988Z"
   },
   {
    "duration": 28,
    "start_time": "2022-03-14T11:02:21.000Z"
   },
   {
    "duration": 29,
    "start_time": "2022-03-14T11:02:23.261Z"
   },
   {
    "duration": 10,
    "start_time": "2022-03-14T11:02:24.810Z"
   },
   {
    "duration": 7,
    "start_time": "2022-03-14T11:02:30.615Z"
   },
   {
    "duration": 9,
    "start_time": "2022-03-14T11:02:35.943Z"
   },
   {
    "duration": 9,
    "start_time": "2022-03-14T11:02:45.973Z"
   },
   {
    "duration": 1346,
    "start_time": "2022-03-14T11:03:26.712Z"
   },
   {
    "duration": 14,
    "start_time": "2022-03-14T11:03:28.060Z"
   },
   {
    "duration": 29,
    "start_time": "2022-03-14T11:03:28.077Z"
   },
   {
    "duration": 12,
    "start_time": "2022-03-14T11:03:28.109Z"
   },
   {
    "duration": 9,
    "start_time": "2022-03-14T11:03:28.123Z"
   },
   {
    "duration": 8,
    "start_time": "2022-03-14T11:03:28.135Z"
   },
   {
    "duration": 43,
    "start_time": "2022-03-14T11:03:28.146Z"
   },
   {
    "duration": 6,
    "start_time": "2022-03-14T11:03:28.193Z"
   },
   {
    "duration": 16,
    "start_time": "2022-03-14T11:03:28.202Z"
   },
   {
    "duration": 32,
    "start_time": "2022-03-14T11:03:28.220Z"
   },
   {
    "duration": 8,
    "start_time": "2022-03-14T11:03:28.254Z"
   },
   {
    "duration": 34,
    "start_time": "2022-03-14T11:03:28.265Z"
   },
   {
    "duration": 21,
    "start_time": "2022-03-14T11:03:28.302Z"
   },
   {
    "duration": 15,
    "start_time": "2022-03-14T11:03:28.326Z"
   },
   {
    "duration": 62,
    "start_time": "2022-03-14T11:03:28.343Z"
   },
   {
    "duration": 8,
    "start_time": "2022-03-14T11:03:28.407Z"
   },
   {
    "duration": 13,
    "start_time": "2022-03-14T11:03:28.418Z"
   },
   {
    "duration": 11,
    "start_time": "2022-03-14T11:03:28.433Z"
   },
   {
    "duration": 45,
    "start_time": "2022-03-14T11:03:28.447Z"
   },
   {
    "duration": 10,
    "start_time": "2022-03-14T11:03:28.494Z"
   },
   {
    "duration": 27,
    "start_time": "2022-03-14T11:03:28.507Z"
   },
   {
    "duration": 24,
    "start_time": "2022-03-14T11:03:28.536Z"
   },
   {
    "duration": 26,
    "start_time": "2022-03-14T11:03:28.565Z"
   },
   {
    "duration": 10,
    "start_time": "2022-03-14T11:03:28.594Z"
   },
   {
    "duration": 3,
    "start_time": "2022-03-14T11:03:30.901Z"
   },
   {
    "duration": 9,
    "start_time": "2022-03-14T11:03:31.842Z"
   },
   {
    "duration": 7,
    "start_time": "2022-03-14T11:03:33.436Z"
   },
   {
    "duration": 27,
    "start_time": "2022-03-14T11:03:40.690Z"
   },
   {
    "duration": 27,
    "start_time": "2022-03-14T11:03:56.303Z"
   },
   {
    "duration": 1320,
    "start_time": "2022-03-14T11:08:32.241Z"
   },
   {
    "duration": 14,
    "start_time": "2022-03-14T11:08:33.564Z"
   },
   {
    "duration": 19,
    "start_time": "2022-03-14T11:08:33.581Z"
   },
   {
    "duration": 10,
    "start_time": "2022-03-14T11:08:33.602Z"
   },
   {
    "duration": 8,
    "start_time": "2022-03-14T11:08:33.614Z"
   },
   {
    "duration": 11,
    "start_time": "2022-03-14T11:08:33.624Z"
   },
   {
    "duration": 49,
    "start_time": "2022-03-14T11:08:33.637Z"
   },
   {
    "duration": 5,
    "start_time": "2022-03-14T11:08:33.691Z"
   },
   {
    "duration": 21,
    "start_time": "2022-03-14T11:08:33.700Z"
   },
   {
    "duration": 34,
    "start_time": "2022-03-14T11:08:33.723Z"
   },
   {
    "duration": 8,
    "start_time": "2022-03-14T11:08:33.759Z"
   },
   {
    "duration": 21,
    "start_time": "2022-03-14T11:08:33.770Z"
   },
   {
    "duration": 21,
    "start_time": "2022-03-14T11:08:33.793Z"
   },
   {
    "duration": 16,
    "start_time": "2022-03-14T11:08:33.817Z"
   },
   {
    "duration": 60,
    "start_time": "2022-03-14T11:08:33.836Z"
   },
   {
    "duration": 9,
    "start_time": "2022-03-14T11:08:33.898Z"
   },
   {
    "duration": 19,
    "start_time": "2022-03-14T11:08:33.909Z"
   },
   {
    "duration": 8,
    "start_time": "2022-03-14T11:08:33.930Z"
   },
   {
    "duration": 48,
    "start_time": "2022-03-14T11:08:33.941Z"
   },
   {
    "duration": 15,
    "start_time": "2022-03-14T11:08:33.992Z"
   },
   {
    "duration": 14,
    "start_time": "2022-03-14T11:08:34.010Z"
   },
   {
    "duration": 20,
    "start_time": "2022-03-14T11:08:34.027Z"
   },
   {
    "duration": 9,
    "start_time": "2022-03-14T11:08:34.051Z"
   },
   {
    "duration": 10,
    "start_time": "2022-03-14T11:08:34.089Z"
   },
   {
    "duration": 6,
    "start_time": "2022-03-14T11:08:34.102Z"
   },
   {
    "duration": 7,
    "start_time": "2022-03-14T11:08:34.111Z"
   },
   {
    "duration": 6,
    "start_time": "2022-03-14T11:08:34.120Z"
   },
   {
    "duration": 10,
    "start_time": "2022-03-14T11:08:34.129Z"
   },
   {
    "duration": 46,
    "start_time": "2022-03-14T11:08:34.142Z"
   },
   {
    "duration": 339,
    "start_time": "2022-03-14T11:08:34.191Z"
   },
   {
    "duration": 302,
    "start_time": "2022-03-14T11:08:34.532Z"
   },
   {
    "duration": 20,
    "start_time": "2022-03-14T11:08:34.836Z"
   },
   {
    "duration": 33,
    "start_time": "2022-03-14T11:08:34.859Z"
   },
   {
    "duration": 360,
    "start_time": "2022-03-14T11:08:34.895Z"
   },
   {
    "duration": 6,
    "start_time": "2022-03-14T11:09:38.432Z"
   },
   {
    "duration": 10,
    "start_time": "2022-03-14T11:10:07.382Z"
   },
   {
    "duration": 441,
    "start_time": "2022-03-14T11:10:42.022Z"
   },
   {
    "duration": 367,
    "start_time": "2022-03-14T11:11:31.913Z"
   },
   {
    "duration": 1350,
    "start_time": "2022-03-14T11:11:53.295Z"
   },
   {
    "duration": 14,
    "start_time": "2022-03-14T11:11:54.647Z"
   },
   {
    "duration": 25,
    "start_time": "2022-03-14T11:11:54.664Z"
   },
   {
    "duration": 9,
    "start_time": "2022-03-14T11:11:54.692Z"
   },
   {
    "duration": 7,
    "start_time": "2022-03-14T11:11:54.704Z"
   },
   {
    "duration": 12,
    "start_time": "2022-03-14T11:11:54.713Z"
   },
   {
    "duration": 17,
    "start_time": "2022-03-14T11:11:54.728Z"
   },
   {
    "duration": 6,
    "start_time": "2022-03-14T11:11:54.748Z"
   },
   {
    "duration": 43,
    "start_time": "2022-03-14T11:11:54.757Z"
   },
   {
    "duration": 35,
    "start_time": "2022-03-14T11:11:54.803Z"
   },
   {
    "duration": 10,
    "start_time": "2022-03-14T11:11:54.843Z"
   },
   {
    "duration": 29,
    "start_time": "2022-03-14T11:11:54.856Z"
   },
   {
    "duration": 19,
    "start_time": "2022-03-14T11:11:54.888Z"
   },
   {
    "duration": 16,
    "start_time": "2022-03-14T11:11:54.909Z"
   },
   {
    "duration": 28,
    "start_time": "2022-03-14T11:11:54.927Z"
   },
   {
    "duration": 31,
    "start_time": "2022-03-14T11:11:54.957Z"
   },
   {
    "duration": 9,
    "start_time": "2022-03-14T11:11:54.990Z"
   },
   {
    "duration": 8,
    "start_time": "2022-03-14T11:11:55.001Z"
   },
   {
    "duration": 12,
    "start_time": "2022-03-14T11:11:55.011Z"
   },
   {
    "duration": 6,
    "start_time": "2022-03-14T11:11:55.026Z"
   },
   {
    "duration": 58,
    "start_time": "2022-03-14T11:11:55.034Z"
   },
   {
    "duration": 20,
    "start_time": "2022-03-14T11:11:55.095Z"
   },
   {
    "duration": 8,
    "start_time": "2022-03-14T11:11:55.119Z"
   },
   {
    "duration": 7,
    "start_time": "2022-03-14T11:11:55.129Z"
   },
   {
    "duration": 26,
    "start_time": "2022-03-14T11:11:58.264Z"
   },
   {
    "duration": 431,
    "start_time": "2022-03-14T11:12:43.123Z"
   },
   {
    "duration": 28,
    "start_time": "2022-03-14T11:13:13.447Z"
   },
   {
    "duration": 320,
    "start_time": "2022-03-14T11:14:38.694Z"
   },
   {
    "duration": 8,
    "start_time": "2022-03-14T11:15:02.065Z"
   },
   {
    "duration": 667,
    "start_time": "2022-03-14T11:21:59.192Z"
   },
   {
    "duration": 316,
    "start_time": "2022-03-14T11:22:22.777Z"
   },
   {
    "duration": 400,
    "start_time": "2022-03-14T11:23:36.742Z"
   },
   {
    "duration": 1679,
    "start_time": "2022-03-14T11:23:40.271Z"
   },
   {
    "duration": 15,
    "start_time": "2022-03-14T11:23:41.953Z"
   },
   {
    "duration": 22,
    "start_time": "2022-03-14T11:23:41.971Z"
   },
   {
    "duration": 9,
    "start_time": "2022-03-14T11:23:41.995Z"
   },
   {
    "duration": 6,
    "start_time": "2022-03-14T11:23:42.007Z"
   },
   {
    "duration": 10,
    "start_time": "2022-03-14T11:23:42.016Z"
   },
   {
    "duration": 16,
    "start_time": "2022-03-14T11:23:42.028Z"
   },
   {
    "duration": 40,
    "start_time": "2022-03-14T11:23:42.047Z"
   },
   {
    "duration": 20,
    "start_time": "2022-03-14T11:23:42.091Z"
   },
   {
    "duration": 41,
    "start_time": "2022-03-14T11:23:42.114Z"
   },
   {
    "duration": 10,
    "start_time": "2022-03-14T11:23:42.158Z"
   },
   {
    "duration": 19,
    "start_time": "2022-03-14T11:23:42.170Z"
   },
   {
    "duration": 22,
    "start_time": "2022-03-14T11:23:42.191Z"
   },
   {
    "duration": 15,
    "start_time": "2022-03-14T11:23:42.216Z"
   },
   {
    "duration": 27,
    "start_time": "2022-03-14T11:23:42.233Z"
   },
   {
    "duration": 30,
    "start_time": "2022-03-14T11:23:42.262Z"
   },
   {
    "duration": 15,
    "start_time": "2022-03-14T11:23:42.294Z"
   },
   {
    "duration": 8,
    "start_time": "2022-03-14T11:23:42.311Z"
   },
   {
    "duration": 13,
    "start_time": "2022-03-14T11:23:42.321Z"
   },
   {
    "duration": 7,
    "start_time": "2022-03-14T11:23:42.336Z"
   },
   {
    "duration": 48,
    "start_time": "2022-03-14T11:23:42.345Z"
   },
   {
    "duration": 20,
    "start_time": "2022-03-14T11:23:42.396Z"
   },
   {
    "duration": 10,
    "start_time": "2022-03-14T11:23:42.419Z"
   },
   {
    "duration": 11,
    "start_time": "2022-03-14T11:23:42.432Z"
   },
   {
    "duration": 389,
    "start_time": "2022-03-14T11:23:42.446Z"
   },
   {
    "duration": 339,
    "start_time": "2022-03-14T11:24:00.393Z"
   },
   {
    "duration": 404,
    "start_time": "2022-03-14T11:26:24.560Z"
   },
   {
    "duration": 20,
    "start_time": "2022-03-14T11:26:39.721Z"
   },
   {
    "duration": 21,
    "start_time": "2022-03-14T11:29:41.087Z"
   },
   {
    "duration": 8,
    "start_time": "2022-03-14T11:29:44.527Z"
   },
   {
    "duration": 9,
    "start_time": "2022-03-14T11:29:45.299Z"
   },
   {
    "duration": 325,
    "start_time": "2022-03-14T11:29:47.612Z"
   },
   {
    "duration": 276,
    "start_time": "2022-03-14T11:29:51.344Z"
   },
   {
    "duration": 19,
    "start_time": "2022-03-14T11:29:54.464Z"
   },
   {
    "duration": 10,
    "start_time": "2022-03-14T11:29:58.842Z"
   },
   {
    "duration": 350,
    "start_time": "2022-03-14T11:30:01.977Z"
   },
   {
    "duration": 1335,
    "start_time": "2022-03-14T11:30:41.020Z"
   },
   {
    "duration": 16,
    "start_time": "2022-03-14T11:30:42.357Z"
   },
   {
    "duration": 25,
    "start_time": "2022-03-14T11:30:42.375Z"
   },
   {
    "duration": 15,
    "start_time": "2022-03-14T11:30:42.403Z"
   },
   {
    "duration": 12,
    "start_time": "2022-03-14T11:30:42.421Z"
   },
   {
    "duration": 15,
    "start_time": "2022-03-14T11:30:42.436Z"
   },
   {
    "duration": 15,
    "start_time": "2022-03-14T11:30:42.453Z"
   },
   {
    "duration": 19,
    "start_time": "2022-03-14T11:30:42.471Z"
   },
   {
    "duration": 15,
    "start_time": "2022-03-14T11:30:42.493Z"
   },
   {
    "duration": 40,
    "start_time": "2022-03-14T11:30:42.510Z"
   },
   {
    "duration": 8,
    "start_time": "2022-03-14T11:30:42.552Z"
   },
   {
    "duration": 26,
    "start_time": "2022-03-14T11:30:42.563Z"
   },
   {
    "duration": 21,
    "start_time": "2022-03-14T11:30:42.591Z"
   },
   {
    "duration": 18,
    "start_time": "2022-03-14T11:30:42.614Z"
   },
   {
    "duration": 53,
    "start_time": "2022-03-14T11:30:42.634Z"
   },
   {
    "duration": 8,
    "start_time": "2022-03-14T11:30:42.690Z"
   },
   {
    "duration": 9,
    "start_time": "2022-03-14T11:30:42.700Z"
   },
   {
    "duration": 9,
    "start_time": "2022-03-14T11:30:42.712Z"
   },
   {
    "duration": 15,
    "start_time": "2022-03-14T11:30:42.723Z"
   },
   {
    "duration": 6,
    "start_time": "2022-03-14T11:30:42.740Z"
   },
   {
    "duration": 49,
    "start_time": "2022-03-14T11:30:42.749Z"
   },
   {
    "duration": 19,
    "start_time": "2022-03-14T11:30:42.801Z"
   },
   {
    "duration": 10,
    "start_time": "2022-03-14T11:30:42.824Z"
   },
   {
    "duration": 8,
    "start_time": "2022-03-14T11:30:42.837Z"
   },
   {
    "duration": 399,
    "start_time": "2022-03-14T11:30:42.847Z"
   },
   {
    "duration": 9,
    "start_time": "2022-03-14T11:30:46.299Z"
   },
   {
    "duration": 10,
    "start_time": "2022-03-14T11:30:46.817Z"
   },
   {
    "duration": 409,
    "start_time": "2022-03-14T11:30:48.906Z"
   },
   {
    "duration": 282,
    "start_time": "2022-03-14T11:30:51.520Z"
   },
   {
    "duration": 19,
    "start_time": "2022-03-14T11:30:53.108Z"
   },
   {
    "duration": 11,
    "start_time": "2022-03-14T11:30:56.013Z"
   },
   {
    "duration": 354,
    "start_time": "2022-03-14T11:30:56.602Z"
   },
   {
    "duration": 332,
    "start_time": "2022-03-14T11:32:14.653Z"
   },
   {
    "duration": 392,
    "start_time": "2022-03-14T11:36:24.319Z"
   },
   {
    "duration": 473,
    "start_time": "2022-03-14T11:37:37.100Z"
   },
   {
    "duration": 457,
    "start_time": "2022-03-14T11:37:44.890Z"
   },
   {
    "duration": 316,
    "start_time": "2022-03-14T11:42:20.301Z"
   },
   {
    "duration": 338,
    "start_time": "2022-03-14T11:42:56.053Z"
   },
   {
    "duration": 449,
    "start_time": "2022-03-14T11:43:47.478Z"
   },
   {
    "duration": 527,
    "start_time": "2022-03-14T11:44:55.320Z"
   },
   {
    "duration": 461,
    "start_time": "2022-03-14T11:45:11.965Z"
   },
   {
    "duration": 454,
    "start_time": "2022-03-14T11:46:09.294Z"
   },
   {
    "duration": 452,
    "start_time": "2022-03-14T11:47:19.188Z"
   },
   {
    "duration": 469,
    "start_time": "2022-03-14T11:47:32.353Z"
   },
   {
    "duration": 430,
    "start_time": "2022-03-14T11:47:38.689Z"
   },
   {
    "duration": 28,
    "start_time": "2022-03-14T11:48:59.394Z"
   },
   {
    "duration": 470,
    "start_time": "2022-03-14T11:49:14.092Z"
   },
   {
    "duration": 487,
    "start_time": "2022-03-14T11:50:05.581Z"
   },
   {
    "duration": 440,
    "start_time": "2022-03-14T11:51:34.149Z"
   },
   {
    "duration": 382,
    "start_time": "2022-03-14T11:52:06.321Z"
   },
   {
    "duration": 468,
    "start_time": "2022-03-14T11:54:20.691Z"
   },
   {
    "duration": 342,
    "start_time": "2022-03-14T11:55:07.813Z"
   },
   {
    "duration": 317,
    "start_time": "2022-03-14T11:55:33.942Z"
   },
   {
    "duration": 7970,
    "start_time": "2022-03-14T11:57:28.793Z"
   },
   {
    "duration": 201,
    "start_time": "2022-03-14T11:57:56.999Z"
   },
   {
    "duration": 219,
    "start_time": "2022-03-14T11:58:37.875Z"
   },
   {
    "duration": 396,
    "start_time": "2022-03-14T11:59:01.499Z"
   },
   {
    "duration": 487,
    "start_time": "2022-03-14T11:59:57.615Z"
   },
   {
    "duration": 8,
    "start_time": "2022-03-14T12:00:36.823Z"
   },
   {
    "duration": 8,
    "start_time": "2022-03-14T12:00:52.817Z"
   },
   {
    "duration": 7323,
    "start_time": "2022-03-14T12:04:50.402Z"
   },
   {
    "duration": 424,
    "start_time": "2022-03-14T12:06:02.202Z"
   },
   {
    "duration": 444,
    "start_time": "2022-03-14T12:06:21.074Z"
   },
   {
    "duration": 412,
    "start_time": "2022-03-14T12:06:29.796Z"
   },
   {
    "duration": 423,
    "start_time": "2022-03-14T12:06:58.659Z"
   },
   {
    "duration": 427,
    "start_time": "2022-03-14T12:07:08.625Z"
   },
   {
    "duration": 417,
    "start_time": "2022-03-14T12:07:22.310Z"
   },
   {
    "duration": 545,
    "start_time": "2022-03-14T12:07:50.765Z"
   },
   {
    "duration": 420,
    "start_time": "2022-03-14T12:07:59.390Z"
   },
   {
    "duration": 399,
    "start_time": "2022-03-14T12:08:07.891Z"
   },
   {
    "duration": 427,
    "start_time": "2022-03-14T12:08:14.192Z"
   },
   {
    "duration": 424,
    "start_time": "2022-03-14T12:08:20.944Z"
   },
   {
    "duration": 8,
    "start_time": "2022-03-14T12:18:08.683Z"
   },
   {
    "duration": 188,
    "start_time": "2022-03-14T12:24:08.823Z"
   },
   {
    "duration": 440,
    "start_time": "2022-03-14T12:24:53.470Z"
   },
   {
    "duration": 225,
    "start_time": "2022-03-14T12:26:05.673Z"
   },
   {
    "duration": 184,
    "start_time": "2022-03-14T12:26:32.189Z"
   },
   {
    "duration": 105,
    "start_time": "2022-03-14T12:28:10.142Z"
   },
   {
    "duration": 101,
    "start_time": "2022-03-14T12:28:28.099Z"
   },
   {
    "duration": 100,
    "start_time": "2022-03-14T12:28:56.244Z"
   },
   {
    "duration": 125,
    "start_time": "2022-03-14T12:29:36.998Z"
   },
   {
    "duration": 141,
    "start_time": "2022-03-14T12:29:52.780Z"
   },
   {
    "duration": 37,
    "start_time": "2022-03-14T12:30:26.600Z"
   },
   {
    "duration": 17,
    "start_time": "2022-03-14T12:30:40.235Z"
   },
   {
    "duration": 205,
    "start_time": "2022-03-14T12:32:17.620Z"
   },
   {
    "duration": 9,
    "start_time": "2022-03-14T12:33:18.454Z"
   },
   {
    "duration": 9,
    "start_time": "2022-03-14T12:34:31.911Z"
   },
   {
    "duration": 9,
    "start_time": "2022-03-14T12:34:42.869Z"
   },
   {
    "duration": 14,
    "start_time": "2022-03-14T12:39:03.117Z"
   },
   {
    "duration": 5,
    "start_time": "2022-03-14T12:39:17.198Z"
   },
   {
    "duration": 6,
    "start_time": "2022-03-14T12:39:31.710Z"
   },
   {
    "duration": 9,
    "start_time": "2022-03-14T12:44:10.518Z"
   },
   {
    "duration": 8,
    "start_time": "2022-03-14T12:45:10.495Z"
   },
   {
    "duration": 10,
    "start_time": "2022-03-14T12:47:18.456Z"
   },
   {
    "duration": 8,
    "start_time": "2022-03-14T12:47:20.530Z"
   },
   {
    "duration": 5,
    "start_time": "2022-03-14T12:47:21.621Z"
   },
   {
    "duration": 7,
    "start_time": "2022-03-14T12:49:23.530Z"
   },
   {
    "duration": 10,
    "start_time": "2022-03-14T12:49:36.177Z"
   },
   {
    "duration": 6,
    "start_time": "2022-03-14T12:49:52.022Z"
   },
   {
    "duration": 5,
    "start_time": "2022-03-14T12:50:04.652Z"
   },
   {
    "duration": 7,
    "start_time": "2022-03-14T12:51:51.094Z"
   },
   {
    "duration": 7459,
    "start_time": "2022-03-14T12:53:46.383Z"
   },
   {
    "duration": 7592,
    "start_time": "2022-03-14T12:54:18.589Z"
   },
   {
    "duration": 7450,
    "start_time": "2022-03-14T12:55:14.588Z"
   },
   {
    "duration": 1413,
    "start_time": "2022-03-14T12:55:32.318Z"
   },
   {
    "duration": 14,
    "start_time": "2022-03-14T12:55:33.734Z"
   },
   {
    "duration": 39,
    "start_time": "2022-03-14T12:55:33.752Z"
   },
   {
    "duration": 22,
    "start_time": "2022-03-14T12:55:33.794Z"
   },
   {
    "duration": 15,
    "start_time": "2022-03-14T12:55:33.818Z"
   },
   {
    "duration": 23,
    "start_time": "2022-03-14T12:55:33.836Z"
   },
   {
    "duration": 25,
    "start_time": "2022-03-14T12:55:33.862Z"
   },
   {
    "duration": 17,
    "start_time": "2022-03-14T12:55:33.890Z"
   },
   {
    "duration": 28,
    "start_time": "2022-03-14T12:55:33.910Z"
   },
   {
    "duration": 43,
    "start_time": "2022-03-14T12:55:33.940Z"
   },
   {
    "duration": 8,
    "start_time": "2022-03-14T12:55:33.986Z"
   },
   {
    "duration": 28,
    "start_time": "2022-03-14T12:55:33.997Z"
   },
   {
    "duration": 35,
    "start_time": "2022-03-14T12:55:34.028Z"
   },
   {
    "duration": 27,
    "start_time": "2022-03-14T12:55:34.066Z"
   },
   {
    "duration": 34,
    "start_time": "2022-03-14T12:55:34.096Z"
   },
   {
    "duration": 9,
    "start_time": "2022-03-14T12:55:34.133Z"
   },
   {
    "duration": 27,
    "start_time": "2022-03-14T12:55:34.144Z"
   },
   {
    "duration": 23,
    "start_time": "2022-03-14T12:55:34.174Z"
   },
   {
    "duration": 32,
    "start_time": "2022-03-14T12:55:34.200Z"
   },
   {
    "duration": 11,
    "start_time": "2022-03-14T12:55:34.234Z"
   },
   {
    "duration": 22,
    "start_time": "2022-03-14T12:55:34.248Z"
   },
   {
    "duration": 28,
    "start_time": "2022-03-14T12:55:34.272Z"
   },
   {
    "duration": 21,
    "start_time": "2022-03-14T12:55:34.305Z"
   },
   {
    "duration": 27,
    "start_time": "2022-03-14T12:55:34.330Z"
   },
   {
    "duration": 352,
    "start_time": "2022-03-14T12:55:34.359Z"
   },
   {
    "duration": 7,
    "start_time": "2022-03-14T12:55:34.713Z"
   },
   {
    "duration": 22,
    "start_time": "2022-03-14T12:55:34.722Z"
   },
   {
    "duration": 321,
    "start_time": "2022-03-14T12:55:34.746Z"
   },
   {
    "duration": 267,
    "start_time": "2022-03-14T12:55:35.070Z"
   },
   {
    "duration": 19,
    "start_time": "2022-03-14T12:55:35.339Z"
   },
   {
    "duration": 37,
    "start_time": "2022-03-14T12:55:35.361Z"
   },
   {
    "duration": 357,
    "start_time": "2022-03-14T12:55:35.400Z"
   },
   {
    "duration": 364,
    "start_time": "2022-03-14T12:55:35.761Z"
   },
   {
    "duration": 445,
    "start_time": "2022-03-14T12:55:36.127Z"
   },
   {
    "duration": 354,
    "start_time": "2022-03-14T12:55:36.574Z"
   },
   {
    "duration": 20,
    "start_time": "2022-03-14T12:55:36.931Z"
   },
   {
    "duration": 435,
    "start_time": "2022-03-14T12:55:36.954Z"
   },
   {
    "duration": 219,
    "start_time": "2022-03-14T12:55:37.392Z"
   },
   {
    "duration": 400,
    "start_time": "2022-03-14T12:55:37.613Z"
   },
   {
    "duration": 7,
    "start_time": "2022-03-14T12:55:38.015Z"
   },
   {
    "duration": 427,
    "start_time": "2022-03-14T12:55:38.024Z"
   },
   {
    "duration": 6,
    "start_time": "2022-03-14T12:55:38.453Z"
   },
   {
    "duration": 161,
    "start_time": "2022-03-14T12:55:38.462Z"
   },
   {
    "duration": 118,
    "start_time": "2022-03-14T12:55:38.625Z"
   },
   {
    "duration": 139,
    "start_time": "2022-03-14T12:55:38.745Z"
   },
   {
    "duration": 147,
    "start_time": "2022-03-14T12:55:38.887Z"
   },
   {
    "duration": 53,
    "start_time": "2022-03-14T12:55:39.037Z"
   },
   {
    "duration": 19,
    "start_time": "2022-03-14T12:55:39.093Z"
   },
   {
    "duration": 255,
    "start_time": "2022-03-14T12:55:39.115Z"
   },
   {
    "duration": 16,
    "start_time": "2022-03-14T12:55:39.372Z"
   },
   {
    "duration": 10,
    "start_time": "2022-03-14T12:55:39.390Z"
   },
   {
    "duration": 19,
    "start_time": "2022-03-14T12:55:39.403Z"
   },
   {
    "duration": 5,
    "start_time": "2022-03-14T12:55:39.424Z"
   },
   {
    "duration": 11,
    "start_time": "2022-03-14T12:55:39.431Z"
   },
   {
    "duration": 43,
    "start_time": "2022-03-14T12:55:39.444Z"
   },
   {
    "duration": 9,
    "start_time": "2022-03-14T12:55:39.490Z"
   },
   {
    "duration": 8,
    "start_time": "2022-03-14T12:55:39.501Z"
   },
   {
    "duration": 13,
    "start_time": "2022-03-14T12:55:39.512Z"
   },
   {
    "duration": 7792,
    "start_time": "2022-03-14T12:55:42.481Z"
   },
   {
    "duration": 13,
    "start_time": "2022-03-14T12:56:18.709Z"
   },
   {
    "duration": 8033,
    "start_time": "2022-03-14T12:57:05.399Z"
   },
   {
    "duration": 228,
    "start_time": "2022-03-14T12:57:33.092Z"
   },
   {
    "duration": 11,
    "start_time": "2022-03-14T12:57:34.077Z"
   },
   {
    "duration": 14,
    "start_time": "2022-03-14T12:57:44.341Z"
   },
   {
    "duration": 9,
    "start_time": "2022-03-14T12:57:45.300Z"
   },
   {
    "duration": 9,
    "start_time": "2022-03-14T12:57:49.480Z"
   },
   {
    "duration": 6,
    "start_time": "2022-03-14T12:57:50.596Z"
   },
   {
    "duration": 5,
    "start_time": "2022-03-14T12:57:51.617Z"
   },
   {
    "duration": 9,
    "start_time": "2022-03-14T12:57:56.230Z"
   },
   {
    "duration": 7,
    "start_time": "2022-03-14T12:57:58.640Z"
   },
   {
    "duration": 6,
    "start_time": "2022-03-14T12:57:59.331Z"
   },
   {
    "duration": 5,
    "start_time": "2022-03-14T12:58:01.541Z"
   },
   {
    "duration": 15,
    "start_time": "2022-03-14T12:58:13.846Z"
   },
   {
    "duration": 14,
    "start_time": "2022-03-14T12:58:42.630Z"
   },
   {
    "duration": 8164,
    "start_time": "2022-03-14T13:00:57.620Z"
   },
   {
    "duration": 8,
    "start_time": "2022-03-14T13:01:10.287Z"
   },
   {
    "duration": 8,
    "start_time": "2022-03-14T13:01:25.456Z"
   },
   {
    "duration": 12,
    "start_time": "2022-03-14T13:01:59.411Z"
   },
   {
    "duration": 6,
    "start_time": "2022-03-14T13:02:11.440Z"
   },
   {
    "duration": 4,
    "start_time": "2022-03-14T13:02:27.147Z"
   },
   {
    "duration": 10221,
    "start_time": "2022-03-14T13:03:56.537Z"
   },
   {
    "duration": -184,
    "start_time": "2022-03-14T13:04:06.945Z"
   },
   {
    "duration": 13,
    "start_time": "2022-03-14T13:04:23.570Z"
   },
   {
    "duration": 6,
    "start_time": "2022-03-14T13:04:27.007Z"
   },
   {
    "duration": 5,
    "start_time": "2022-03-14T13:04:37.865Z"
   },
   {
    "duration": 5,
    "start_time": "2022-03-14T13:04:49.163Z"
   },
   {
    "duration": 25,
    "start_time": "2022-03-14T13:44:39.675Z"
   },
   {
    "duration": 5,
    "start_time": "2022-03-14T13:44:45.308Z"
   },
   {
    "duration": 4,
    "start_time": "2022-03-14T13:44:46.222Z"
   },
   {
    "duration": 42,
    "start_time": "2022-03-14T13:44:47.531Z"
   },
   {
    "duration": 12,
    "start_time": "2022-03-14T13:44:48.210Z"
   },
   {
    "duration": 9,
    "start_time": "2022-03-14T13:44:52.524Z"
   },
   {
    "duration": 4,
    "start_time": "2022-03-14T13:44:55.640Z"
   },
   {
    "duration": 4,
    "start_time": "2022-03-14T13:45:50.638Z"
   },
   {
    "duration": 12,
    "start_time": "2022-03-14T13:45:59.427Z"
   },
   {
    "duration": 9,
    "start_time": "2022-03-14T13:46:00.459Z"
   },
   {
    "duration": 4,
    "start_time": "2022-03-14T13:47:02.668Z"
   },
   {
    "duration": 8,
    "start_time": "2022-03-14T13:47:05.418Z"
   },
   {
    "duration": 4,
    "start_time": "2022-03-14T13:47:13.740Z"
   },
   {
    "duration": 1343,
    "start_time": "2022-03-14T13:47:30.320Z"
   },
   {
    "duration": 4,
    "start_time": "2022-03-14T13:47:32.448Z"
   },
   {
    "duration": 41,
    "start_time": "2022-03-14T13:47:33.450Z"
   },
   {
    "duration": 17,
    "start_time": "2022-03-14T13:47:52.696Z"
   },
   {
    "duration": 9,
    "start_time": "2022-03-14T13:47:57.187Z"
   },
   {
    "duration": 4,
    "start_time": "2022-03-14T13:47:59.471Z"
   },
   {
    "duration": 9,
    "start_time": "2022-03-14T13:48:20.743Z"
   },
   {
    "duration": 4,
    "start_time": "2022-03-14T13:48:40.911Z"
   },
   {
    "duration": 12,
    "start_time": "2022-03-14T13:48:55.533Z"
   },
   {
    "duration": 20,
    "start_time": "2022-03-14T13:50:17.677Z"
   },
   {
    "duration": 13,
    "start_time": "2022-03-14T13:50:50.093Z"
   },
   {
    "duration": 11,
    "start_time": "2022-03-14T13:50:59.473Z"
   },
   {
    "duration": 27,
    "start_time": "2022-03-14T13:54:52.211Z"
   },
   {
    "duration": 27,
    "start_time": "2022-03-14T13:55:00.782Z"
   },
   {
    "duration": 4,
    "start_time": "2022-03-14T14:32:05.029Z"
   },
   {
    "duration": 24,
    "start_time": "2022-03-14T14:32:09.660Z"
   },
   {
    "duration": 4,
    "start_time": "2022-03-14T14:32:36.877Z"
   },
   {
    "duration": 26,
    "start_time": "2022-03-14T14:32:41.851Z"
   },
   {
    "duration": 1327,
    "start_time": "2022-03-14T14:32:52.928Z"
   },
   {
    "duration": 4,
    "start_time": "2022-03-14T14:32:54.258Z"
   },
   {
    "duration": 52,
    "start_time": "2022-03-14T14:32:54.267Z"
   },
   {
    "duration": 16,
    "start_time": "2022-03-14T14:32:54.322Z"
   },
   {
    "duration": 12,
    "start_time": "2022-03-14T14:32:54.341Z"
   },
   {
    "duration": 6,
    "start_time": "2022-03-14T14:32:54.356Z"
   },
   {
    "duration": 28,
    "start_time": "2022-03-14T14:32:54.365Z"
   },
   {
    "duration": 6,
    "start_time": "2022-03-14T14:32:54.397Z"
   },
   {
    "duration": 13,
    "start_time": "2022-03-14T14:32:54.406Z"
   },
   {
    "duration": 37,
    "start_time": "2022-03-14T14:32:54.422Z"
   },
   {
    "duration": 40,
    "start_time": "2022-03-14T14:32:54.462Z"
   },
   {
    "duration": 26,
    "start_time": "2022-03-14T14:32:56.290Z"
   },
   {
    "duration": 9,
    "start_time": "2022-03-14T14:33:17.580Z"
   },
   {
    "duration": 8,
    "start_time": "2022-03-14T14:33:36.149Z"
   },
   {
    "duration": 10,
    "start_time": "2022-03-14T14:38:56.717Z"
   },
   {
    "duration": 8,
    "start_time": "2022-03-14T14:39:18.149Z"
   },
   {
    "duration": 10,
    "start_time": "2022-03-14T14:40:46.581Z"
   },
   {
    "duration": 12,
    "start_time": "2022-03-14T14:40:47.066Z"
   },
   {
    "duration": 7,
    "start_time": "2022-03-14T14:40:53.224Z"
   },
   {
    "duration": 4,
    "start_time": "2022-03-14T14:41:00.313Z"
   },
   {
    "duration": 13,
    "start_time": "2022-03-14T14:41:00.828Z"
   },
   {
    "duration": 1536,
    "start_time": "2022-03-14T14:41:02.185Z"
   },
   {
    "duration": -219,
    "start_time": "2022-03-14T14:41:03.942Z"
   },
   {
    "duration": 1345,
    "start_time": "2022-03-14T14:41:16.206Z"
   },
   {
    "duration": 4,
    "start_time": "2022-03-14T14:41:18.214Z"
   },
   {
    "duration": 41,
    "start_time": "2022-03-14T14:41:18.709Z"
   },
   {
    "duration": 17,
    "start_time": "2022-03-14T14:41:19.633Z"
   },
   {
    "duration": 9,
    "start_time": "2022-03-14T14:41:20.119Z"
   },
   {
    "duration": 4,
    "start_time": "2022-03-14T14:41:20.652Z"
   },
   {
    "duration": 9,
    "start_time": "2022-03-14T14:41:21.615Z"
   },
   {
    "duration": 4,
    "start_time": "2022-03-14T14:41:22.119Z"
   },
   {
    "duration": 12,
    "start_time": "2022-03-14T14:41:22.645Z"
   },
   {
    "duration": 22,
    "start_time": "2022-03-14T14:41:23.127Z"
   },
   {
    "duration": 12,
    "start_time": "2022-03-14T14:41:23.747Z"
   },
   {
    "duration": 31,
    "start_time": "2022-03-14T14:41:24.867Z"
   },
   {
    "duration": 9,
    "start_time": "2022-03-14T14:41:25.548Z"
   },
   {
    "duration": 10,
    "start_time": "2022-03-14T14:41:26.744Z"
   },
   {
    "duration": 1076,
    "start_time": "2022-03-15T07:02:21.201Z"
   },
   {
    "duration": 2,
    "start_time": "2022-03-15T07:02:22.279Z"
   },
   {
    "duration": 893,
    "start_time": "2022-03-15T07:02:22.284Z"
   },
   {
    "duration": 11,
    "start_time": "2022-03-15T07:02:23.179Z"
   },
   {
    "duration": 6,
    "start_time": "2022-03-15T07:02:23.193Z"
   },
   {
    "duration": 6,
    "start_time": "2022-03-15T07:02:23.201Z"
   },
   {
    "duration": 10,
    "start_time": "2022-03-15T07:02:23.209Z"
   },
   {
    "duration": 7,
    "start_time": "2022-03-15T07:02:23.222Z"
   },
   {
    "duration": 12,
    "start_time": "2022-03-15T07:02:23.231Z"
   },
   {
    "duration": 27,
    "start_time": "2022-03-15T07:02:23.246Z"
   },
   {
    "duration": 17,
    "start_time": "2022-03-15T07:02:23.275Z"
   },
   {
    "duration": 19,
    "start_time": "2022-03-15T07:02:23.294Z"
   },
   {
    "duration": 6,
    "start_time": "2022-03-15T07:02:23.315Z"
   },
   {
    "duration": 7,
    "start_time": "2022-03-15T07:02:23.323Z"
   },
   {
    "duration": 6,
    "start_time": "2022-03-15T07:02:25.730Z"
   },
   {
    "duration": 6,
    "start_time": "2022-03-15T07:02:26.693Z"
   },
   {
    "duration": 3,
    "start_time": "2022-03-15T07:02:27.203Z"
   },
   {
    "duration": 11,
    "start_time": "2022-03-15T07:02:27.716Z"
   },
   {
    "duration": 7,
    "start_time": "2022-03-15T07:02:28.181Z"
   },
   {
    "duration": 12,
    "start_time": "2022-03-15T07:02:28.656Z"
   },
   {
    "duration": 17,
    "start_time": "2022-03-15T07:02:29.151Z"
   },
   {
    "duration": 7,
    "start_time": "2022-03-15T07:02:30.669Z"
   },
   {
    "duration": 6,
    "start_time": "2022-03-15T07:02:31.135Z"
   },
   {
    "duration": 320,
    "start_time": "2022-03-15T07:02:32.484Z"
   },
   {
    "duration": 57,
    "start_time": "2022-03-15T07:03:48.822Z"
   },
   {
    "duration": 11,
    "start_time": "2022-03-15T07:03:52.345Z"
   },
   {
    "duration": 6,
    "start_time": "2022-03-15T07:03:55.357Z"
   },
   {
    "duration": 3,
    "start_time": "2022-03-15T07:03:55.918Z"
   },
   {
    "duration": 233,
    "start_time": "2022-03-15T07:13:51.939Z"
   },
   {
    "duration": 233,
    "start_time": "2022-03-15T07:14:23.267Z"
   },
   {
    "duration": 1091,
    "start_time": "2022-03-15T07:15:12.059Z"
   },
   {
    "duration": 3,
    "start_time": "2022-03-15T07:15:13.152Z"
   },
   {
    "duration": 44,
    "start_time": "2022-03-15T07:15:13.157Z"
   },
   {
    "duration": 11,
    "start_time": "2022-03-15T07:15:13.203Z"
   },
   {
    "duration": 9,
    "start_time": "2022-03-15T07:15:13.215Z"
   },
   {
    "duration": 10,
    "start_time": "2022-03-15T07:15:13.226Z"
   },
   {
    "duration": 17,
    "start_time": "2022-03-15T07:15:13.238Z"
   },
   {
    "duration": 19,
    "start_time": "2022-03-15T07:15:13.257Z"
   },
   {
    "duration": 16,
    "start_time": "2022-03-15T07:15:13.278Z"
   },
   {
    "duration": 15,
    "start_time": "2022-03-15T07:15:13.296Z"
   },
   {
    "duration": 10,
    "start_time": "2022-03-15T07:15:13.312Z"
   },
   {
    "duration": 18,
    "start_time": "2022-03-15T07:15:13.324Z"
   },
   {
    "duration": 5,
    "start_time": "2022-03-15T07:15:13.343Z"
   },
   {
    "duration": 11,
    "start_time": "2022-03-15T07:15:13.350Z"
   },
   {
    "duration": 5,
    "start_time": "2022-03-15T07:15:13.363Z"
   },
   {
    "duration": 4,
    "start_time": "2022-03-15T07:15:13.369Z"
   },
   {
    "duration": 8,
    "start_time": "2022-03-15T07:15:13.375Z"
   },
   {
    "duration": 5,
    "start_time": "2022-03-15T07:15:13.384Z"
   },
   {
    "duration": 8,
    "start_time": "2022-03-15T07:15:13.390Z"
   },
   {
    "duration": 12,
    "start_time": "2022-03-15T07:15:13.400Z"
   },
   {
    "duration": 7,
    "start_time": "2022-03-15T07:15:13.413Z"
   },
   {
    "duration": 43,
    "start_time": "2022-03-15T07:15:13.421Z"
   },
   {
    "duration": 183,
    "start_time": "2022-03-15T07:15:15.656Z"
   },
   {
    "duration": 6464,
    "start_time": "2022-03-15T07:16:11.234Z"
   },
   {
    "duration": 223,
    "start_time": "2022-03-15T07:16:21.315Z"
   },
   {
    "duration": 16,
    "start_time": "2022-03-15T07:16:30.350Z"
   },
   {
    "duration": 5682,
    "start_time": "2022-03-15T07:16:54.229Z"
   },
   {
    "duration": -364,
    "start_time": "2022-03-15T07:17:00.277Z"
   },
   {
    "duration": 9,
    "start_time": "2022-03-15T07:17:17.096Z"
   },
   {
    "duration": 235,
    "start_time": "2022-03-15T07:17:37.514Z"
   },
   {
    "duration": 994,
    "start_time": "2022-03-15T07:17:41.736Z"
   },
   {
    "duration": 9,
    "start_time": "2022-03-15T07:17:56.996Z"
   },
   {
    "duration": 13,
    "start_time": "2022-03-15T07:18:02.419Z"
   },
   {
    "duration": 4,
    "start_time": "2022-03-15T07:18:12.532Z"
   },
   {
    "duration": 7,
    "start_time": "2022-03-15T07:18:25.708Z"
   },
   {
    "duration": 9,
    "start_time": "2022-03-15T07:25:50.100Z"
   },
   {
    "duration": 1036,
    "start_time": "2022-03-15T07:25:59.510Z"
   },
   {
    "duration": 2,
    "start_time": "2022-03-15T07:26:00.547Z"
   },
   {
    "duration": 70,
    "start_time": "2022-03-15T07:26:00.551Z"
   },
   {
    "duration": 19,
    "start_time": "2022-03-15T07:26:00.623Z"
   },
   {
    "duration": 14,
    "start_time": "2022-03-15T07:26:00.644Z"
   },
   {
    "duration": 26,
    "start_time": "2022-03-15T07:26:00.660Z"
   },
   {
    "duration": 51,
    "start_time": "2022-03-15T07:26:00.688Z"
   },
   {
    "duration": 38,
    "start_time": "2022-03-15T07:26:00.742Z"
   },
   {
    "duration": 33,
    "start_time": "2022-03-15T07:26:00.782Z"
   },
   {
    "duration": 23,
    "start_time": "2022-03-15T07:26:00.817Z"
   },
   {
    "duration": 38,
    "start_time": "2022-03-15T07:26:00.842Z"
   },
   {
    "duration": 36,
    "start_time": "2022-03-15T07:26:00.882Z"
   },
   {
    "duration": 17,
    "start_time": "2022-03-15T07:26:00.920Z"
   },
   {
    "duration": 29,
    "start_time": "2022-03-15T07:26:00.938Z"
   },
   {
    "duration": 14,
    "start_time": "2022-03-15T07:26:00.969Z"
   },
   {
    "duration": 9,
    "start_time": "2022-03-15T07:26:00.985Z"
   },
   {
    "duration": 25,
    "start_time": "2022-03-15T07:26:00.996Z"
   },
   {
    "duration": 22,
    "start_time": "2022-03-15T07:26:01.023Z"
   },
   {
    "duration": 23,
    "start_time": "2022-03-15T07:26:01.047Z"
   },
   {
    "duration": 22,
    "start_time": "2022-03-15T07:26:01.072Z"
   },
   {
    "duration": 14,
    "start_time": "2022-03-15T07:26:01.096Z"
   },
   {
    "duration": 14,
    "start_time": "2022-03-15T07:26:01.112Z"
   },
   {
    "duration": 10,
    "start_time": "2022-03-15T07:26:03.137Z"
   },
   {
    "duration": 9,
    "start_time": "2022-03-15T07:26:16.492Z"
   },
   {
    "duration": 9,
    "start_time": "2022-03-15T07:27:18.329Z"
   },
   {
    "duration": 6,
    "start_time": "2022-03-15T07:36:11.139Z"
   },
   {
    "duration": 6,
    "start_time": "2022-03-15T07:36:45.080Z"
   },
   {
    "duration": 333,
    "start_time": "2022-03-15T07:36:56.059Z"
   },
   {
    "duration": 1066,
    "start_time": "2022-03-15T07:37:00.187Z"
   },
   {
    "duration": 2,
    "start_time": "2022-03-15T07:37:01.255Z"
   },
   {
    "duration": 67,
    "start_time": "2022-03-15T07:37:01.259Z"
   },
   {
    "duration": 12,
    "start_time": "2022-03-15T07:37:01.328Z"
   },
   {
    "duration": 9,
    "start_time": "2022-03-15T07:37:01.341Z"
   },
   {
    "duration": 10,
    "start_time": "2022-03-15T07:37:01.351Z"
   },
   {
    "duration": 10,
    "start_time": "2022-03-15T07:37:01.362Z"
   },
   {
    "duration": 6,
    "start_time": "2022-03-15T07:37:01.374Z"
   },
   {
    "duration": 14,
    "start_time": "2022-03-15T07:37:01.382Z"
   },
   {
    "duration": 15,
    "start_time": "2022-03-15T07:37:01.397Z"
   },
   {
    "duration": 14,
    "start_time": "2022-03-15T07:37:01.414Z"
   },
   {
    "duration": 31,
    "start_time": "2022-03-15T07:37:01.430Z"
   },
   {
    "duration": 6,
    "start_time": "2022-03-15T07:37:01.463Z"
   },
   {
    "duration": 11,
    "start_time": "2022-03-15T07:37:01.470Z"
   },
   {
    "duration": 8,
    "start_time": "2022-03-15T07:37:01.482Z"
   },
   {
    "duration": 9,
    "start_time": "2022-03-15T07:37:01.492Z"
   },
   {
    "duration": 11,
    "start_time": "2022-03-15T07:37:01.503Z"
   },
   {
    "duration": 9,
    "start_time": "2022-03-15T07:37:01.515Z"
   },
   {
    "duration": 11,
    "start_time": "2022-03-15T07:37:01.525Z"
   },
   {
    "duration": 31,
    "start_time": "2022-03-15T07:37:01.537Z"
   },
   {
    "duration": 16,
    "start_time": "2022-03-15T07:37:01.570Z"
   },
   {
    "duration": 13,
    "start_time": "2022-03-15T07:37:01.587Z"
   },
   {
    "duration": 22,
    "start_time": "2022-03-15T07:37:01.603Z"
   },
   {
    "duration": 19,
    "start_time": "2022-03-15T07:37:01.626Z"
   },
   {
    "duration": 12,
    "start_time": "2022-03-15T07:37:01.646Z"
   },
   {
    "duration": 10,
    "start_time": "2022-03-15T07:37:01.660Z"
   },
   {
    "duration": 9,
    "start_time": "2022-03-15T07:41:17.628Z"
   },
   {
    "duration": 1020,
    "start_time": "2022-03-15T07:41:32.500Z"
   },
   {
    "duration": 3,
    "start_time": "2022-03-15T07:41:33.521Z"
   },
   {
    "duration": 46,
    "start_time": "2022-03-15T07:41:33.526Z"
   },
   {
    "duration": 11,
    "start_time": "2022-03-15T07:41:33.574Z"
   },
   {
    "duration": 14,
    "start_time": "2022-03-15T07:41:33.586Z"
   },
   {
    "duration": 13,
    "start_time": "2022-03-15T07:41:33.602Z"
   },
   {
    "duration": 15,
    "start_time": "2022-03-15T07:41:33.617Z"
   },
   {
    "duration": 12,
    "start_time": "2022-03-15T07:41:33.634Z"
   },
   {
    "duration": 20,
    "start_time": "2022-03-15T07:41:33.648Z"
   },
   {
    "duration": 14,
    "start_time": "2022-03-15T07:41:33.670Z"
   },
   {
    "duration": 15,
    "start_time": "2022-03-15T07:41:33.685Z"
   },
   {
    "duration": 39,
    "start_time": "2022-03-15T07:41:33.702Z"
   },
   {
    "duration": 16,
    "start_time": "2022-03-15T07:41:33.743Z"
   },
   {
    "duration": 20,
    "start_time": "2022-03-15T07:41:33.760Z"
   },
   {
    "duration": 15,
    "start_time": "2022-03-15T07:41:33.782Z"
   },
   {
    "duration": 10,
    "start_time": "2022-03-15T07:41:33.799Z"
   },
   {
    "duration": 19,
    "start_time": "2022-03-15T07:41:33.810Z"
   },
   {
    "duration": 12,
    "start_time": "2022-03-15T07:41:33.831Z"
   },
   {
    "duration": 16,
    "start_time": "2022-03-15T07:41:33.844Z"
   },
   {
    "duration": 33,
    "start_time": "2022-03-15T07:41:33.861Z"
   },
   {
    "duration": 8,
    "start_time": "2022-03-15T07:41:33.896Z"
   },
   {
    "duration": 23,
    "start_time": "2022-03-15T07:41:33.905Z"
   },
   {
    "duration": 9,
    "start_time": "2022-03-15T07:41:36.215Z"
   },
   {
    "duration": 5,
    "start_time": "2022-03-15T07:41:38.157Z"
   },
   {
    "duration": 7,
    "start_time": "2022-03-15T07:41:38.757Z"
   },
   {
    "duration": 5,
    "start_time": "2022-03-15T08:02:00.307Z"
   },
   {
    "duration": 9,
    "start_time": "2022-03-15T08:02:29.894Z"
   },
   {
    "duration": 4,
    "start_time": "2022-03-15T08:08:31.616Z"
   },
   {
    "duration": 10,
    "start_time": "2022-03-15T08:08:32.082Z"
   },
   {
    "duration": 324,
    "start_time": "2022-03-15T08:29:49.183Z"
   },
   {
    "duration": 6,
    "start_time": "2022-03-15T08:29:52.474Z"
   },
   {
    "duration": 8,
    "start_time": "2022-03-15T08:29:53.003Z"
   },
   {
    "duration": 5808,
    "start_time": "2022-03-15T08:35:52.871Z"
   },
   {
    "duration": 7217,
    "start_time": "2022-03-15T08:36:08.048Z"
   },
   {
    "duration": 200,
    "start_time": "2022-03-15T08:36:19.026Z"
   },
   {
    "duration": 156,
    "start_time": "2022-03-15T08:39:53.733Z"
   },
   {
    "duration": 13,
    "start_time": "2022-03-15T08:41:19.914Z"
   },
   {
    "duration": 6,
    "start_time": "2022-03-15T08:41:50.792Z"
   },
   {
    "duration": 7,
    "start_time": "2022-03-15T08:41:54.694Z"
   },
   {
    "duration": 159,
    "start_time": "2022-03-15T08:42:01.115Z"
   },
   {
    "duration": 193,
    "start_time": "2022-03-15T08:42:06.456Z"
   },
   {
    "duration": 1982,
    "start_time": "2022-03-15T08:43:31.135Z"
   },
   {
    "duration": 7,
    "start_time": "2022-03-15T08:43:42.365Z"
   },
   {
    "duration": 215,
    "start_time": "2022-03-15T08:43:42.976Z"
   },
   {
    "duration": 448,
    "start_time": "2022-03-15T08:52:15.953Z"
   },
   {
    "duration": 251,
    "start_time": "2022-03-15T08:52:37.061Z"
   },
   {
    "duration": 224,
    "start_time": "2022-03-15T09:02:47.099Z"
   },
   {
    "duration": 333,
    "start_time": "2022-03-15T09:25:23.079Z"
   },
   {
    "duration": 299,
    "start_time": "2022-03-15T09:25:39.095Z"
   },
   {
    "duration": 15,
    "start_time": "2022-03-15T09:37:59.885Z"
   },
   {
    "duration": 16,
    "start_time": "2022-03-15T09:38:14.719Z"
   },
   {
    "duration": 235,
    "start_time": "2022-03-15T09:40:21.754Z"
   },
   {
    "duration": 227,
    "start_time": "2022-03-15T09:41:26.584Z"
   },
   {
    "duration": 280,
    "start_time": "2022-03-15T09:41:47.868Z"
   },
   {
    "duration": 1068,
    "start_time": "2022-03-15T09:42:28.784Z"
   },
   {
    "duration": 3,
    "start_time": "2022-03-15T09:42:29.854Z"
   },
   {
    "duration": 42,
    "start_time": "2022-03-15T09:42:29.860Z"
   },
   {
    "duration": 11,
    "start_time": "2022-03-15T09:42:29.904Z"
   },
   {
    "duration": 9,
    "start_time": "2022-03-15T09:42:29.917Z"
   },
   {
    "duration": 5,
    "start_time": "2022-03-15T09:42:29.927Z"
   },
   {
    "duration": 8,
    "start_time": "2022-03-15T09:42:29.933Z"
   },
   {
    "duration": 5,
    "start_time": "2022-03-15T09:42:29.942Z"
   },
   {
    "duration": 12,
    "start_time": "2022-03-15T09:42:29.950Z"
   },
   {
    "duration": 13,
    "start_time": "2022-03-15T09:42:29.964Z"
   },
   {
    "duration": 12,
    "start_time": "2022-03-15T09:42:29.979Z"
   },
   {
    "duration": 18,
    "start_time": "2022-03-15T09:42:29.992Z"
   },
   {
    "duration": 6,
    "start_time": "2022-03-15T09:42:30.011Z"
   },
   {
    "duration": 9,
    "start_time": "2022-03-15T09:42:30.018Z"
   },
   {
    "duration": 32,
    "start_time": "2022-03-15T09:42:30.029Z"
   },
   {
    "duration": 6,
    "start_time": "2022-03-15T09:42:30.062Z"
   },
   {
    "duration": 13,
    "start_time": "2022-03-15T09:42:30.070Z"
   },
   {
    "duration": 5,
    "start_time": "2022-03-15T09:42:30.085Z"
   },
   {
    "duration": 11,
    "start_time": "2022-03-15T09:42:30.092Z"
   },
   {
    "duration": 13,
    "start_time": "2022-03-15T09:42:30.105Z"
   },
   {
    "duration": 10,
    "start_time": "2022-03-15T09:42:30.120Z"
   },
   {
    "duration": 30,
    "start_time": "2022-03-15T09:42:30.131Z"
   },
   {
    "duration": 11,
    "start_time": "2022-03-15T09:42:30.162Z"
   },
   {
    "duration": 4,
    "start_time": "2022-03-15T09:42:30.175Z"
   },
   {
    "duration": 18,
    "start_time": "2022-03-15T09:42:30.181Z"
   },
   {
    "duration": 8,
    "start_time": "2022-03-15T09:42:30.201Z"
   },
   {
    "duration": 15,
    "start_time": "2022-03-15T09:42:30.212Z"
   },
   {
    "duration": 5,
    "start_time": "2022-03-15T09:42:30.229Z"
   },
   {
    "duration": 29,
    "start_time": "2022-03-15T09:42:30.235Z"
   },
   {
    "duration": 203,
    "start_time": "2022-03-15T09:42:30.265Z"
   },
   {
    "duration": 170,
    "start_time": "2022-03-15T09:42:30.470Z"
   },
   {
    "duration": 7,
    "start_time": "2022-03-15T09:42:30.642Z"
   },
   {
    "duration": 17,
    "start_time": "2022-03-15T09:42:30.650Z"
   },
   {
    "duration": 7,
    "start_time": "2022-03-15T09:42:33.246Z"
   },
   {
    "duration": 235,
    "start_time": "2022-03-15T09:42:34.037Z"
   },
   {
    "duration": 227,
    "start_time": "2022-03-15T09:42:39.109Z"
   },
   {
    "duration": 352,
    "start_time": "2022-03-15T09:44:31.221Z"
   },
   {
    "duration": 221,
    "start_time": "2022-03-15T09:45:00.274Z"
   },
   {
    "duration": 234,
    "start_time": "2022-03-15T09:45:06.870Z"
   },
   {
    "duration": 222,
    "start_time": "2022-03-15T09:45:14.287Z"
   },
   {
    "duration": 236,
    "start_time": "2022-03-15T09:45:20.232Z"
   },
   {
    "duration": 231,
    "start_time": "2022-03-15T09:45:27.635Z"
   },
   {
    "duration": 281,
    "start_time": "2022-03-15T09:45:35.072Z"
   },
   {
    "duration": 227,
    "start_time": "2022-03-15T09:45:46.853Z"
   },
   {
    "duration": 226,
    "start_time": "2022-03-15T09:45:54.821Z"
   },
   {
    "duration": 212,
    "start_time": "2022-03-15T09:46:12.440Z"
   },
   {
    "duration": 240,
    "start_time": "2022-03-15T09:46:17.373Z"
   },
   {
    "duration": 228,
    "start_time": "2022-03-15T09:46:23.840Z"
   },
   {
    "duration": 218,
    "start_time": "2022-03-15T09:47:45.679Z"
   },
   {
    "duration": 225,
    "start_time": "2022-03-15T09:47:53.032Z"
   },
   {
    "duration": 233,
    "start_time": "2022-03-15T09:47:58.640Z"
   },
   {
    "duration": 216,
    "start_time": "2022-03-15T09:48:03.222Z"
   },
   {
    "duration": 231,
    "start_time": "2022-03-15T09:48:11.948Z"
   },
   {
    "duration": 324,
    "start_time": "2022-03-15T09:49:30.235Z"
   },
   {
    "duration": 1106,
    "start_time": "2022-03-15T09:49:45.344Z"
   },
   {
    "duration": 7,
    "start_time": "2022-03-15T09:49:46.452Z"
   },
   {
    "duration": 60,
    "start_time": "2022-03-15T09:49:46.461Z"
   },
   {
    "duration": 10,
    "start_time": "2022-03-15T09:49:46.523Z"
   },
   {
    "duration": 8,
    "start_time": "2022-03-15T09:49:46.535Z"
   },
   {
    "duration": 6,
    "start_time": "2022-03-15T09:49:46.544Z"
   },
   {
    "duration": 9,
    "start_time": "2022-03-15T09:49:46.551Z"
   },
   {
    "duration": 3,
    "start_time": "2022-03-15T09:49:46.563Z"
   },
   {
    "duration": 9,
    "start_time": "2022-03-15T09:49:46.568Z"
   },
   {
    "duration": 14,
    "start_time": "2022-03-15T09:49:46.579Z"
   },
   {
    "duration": 11,
    "start_time": "2022-03-15T09:49:46.595Z"
   },
   {
    "duration": 19,
    "start_time": "2022-03-15T09:49:46.608Z"
   },
   {
    "duration": 34,
    "start_time": "2022-03-15T09:49:46.629Z"
   },
   {
    "duration": 7,
    "start_time": "2022-03-15T09:49:46.665Z"
   },
   {
    "duration": 6,
    "start_time": "2022-03-15T09:49:46.674Z"
   },
   {
    "duration": 7,
    "start_time": "2022-03-15T09:49:46.682Z"
   },
   {
    "duration": 10,
    "start_time": "2022-03-15T09:49:46.691Z"
   },
   {
    "duration": 4,
    "start_time": "2022-03-15T09:49:46.703Z"
   },
   {
    "duration": 9,
    "start_time": "2022-03-15T09:49:46.709Z"
   },
   {
    "duration": 45,
    "start_time": "2022-03-15T09:49:46.720Z"
   },
   {
    "duration": 5,
    "start_time": "2022-03-15T09:49:46.767Z"
   },
   {
    "duration": 6,
    "start_time": "2022-03-15T09:49:46.774Z"
   },
   {
    "duration": 10,
    "start_time": "2022-03-15T09:49:46.784Z"
   },
   {
    "duration": 5,
    "start_time": "2022-03-15T09:49:46.796Z"
   },
   {
    "duration": 10,
    "start_time": "2022-03-15T09:49:46.803Z"
   },
   {
    "duration": 48,
    "start_time": "2022-03-15T09:49:46.814Z"
   },
   {
    "duration": 15,
    "start_time": "2022-03-15T09:49:46.863Z"
   },
   {
    "duration": 6,
    "start_time": "2022-03-15T09:49:46.880Z"
   },
   {
    "duration": 8,
    "start_time": "2022-03-15T09:49:46.887Z"
   },
   {
    "duration": 215,
    "start_time": "2022-03-15T09:49:46.897Z"
   },
   {
    "duration": 170,
    "start_time": "2022-03-15T09:49:47.114Z"
   },
   {
    "duration": 8,
    "start_time": "2022-03-15T09:49:47.286Z"
   },
   {
    "duration": 13,
    "start_time": "2022-03-15T09:49:47.295Z"
   },
   {
    "duration": 251,
    "start_time": "2022-03-15T09:49:47.310Z"
   },
   {
    "duration": 233,
    "start_time": "2022-03-15T09:49:47.563Z"
   },
   {
    "duration": 325,
    "start_time": "2022-03-15T09:49:47.798Z"
   },
   {
    "duration": 242,
    "start_time": "2022-03-15T09:49:50.718Z"
   },
   {
    "duration": 228,
    "start_time": "2022-03-15T09:49:55.741Z"
   },
   {
    "duration": 13,
    "start_time": "2022-03-15T09:53:48.303Z"
   },
   {
    "duration": 343,
    "start_time": "2022-03-15T09:54:10.244Z"
   },
   {
    "duration": 337,
    "start_time": "2022-03-15T09:57:00.324Z"
   },
   {
    "duration": 329,
    "start_time": "2022-03-15T10:04:37.276Z"
   },
   {
    "duration": 380,
    "start_time": "2022-03-15T10:04:46.950Z"
   },
   {
    "duration": 329,
    "start_time": "2022-03-15T10:04:55.470Z"
   },
   {
    "duration": 289,
    "start_time": "2022-03-15T10:05:02.496Z"
   },
   {
    "duration": 353,
    "start_time": "2022-03-15T10:05:15.849Z"
   },
   {
    "duration": 339,
    "start_time": "2022-03-15T10:05:37.463Z"
   },
   {
    "duration": 414,
    "start_time": "2022-03-15T10:21:14.901Z"
   },
   {
    "duration": 296,
    "start_time": "2022-03-15T10:21:24.516Z"
   },
   {
    "duration": 5752,
    "start_time": "2022-03-15T10:21:35.878Z"
   },
   {
    "duration": 117,
    "start_time": "2022-03-15T10:21:44.122Z"
   },
   {
    "duration": 105,
    "start_time": "2022-03-15T10:23:51.531Z"
   },
   {
    "duration": 293,
    "start_time": "2022-03-15T10:24:31.785Z"
   },
   {
    "duration": 274,
    "start_time": "2022-03-15T10:27:17.616Z"
   },
   {
    "duration": 291,
    "start_time": "2022-03-15T10:29:50.332Z"
   },
   {
    "duration": 5,
    "start_time": "2022-03-15T10:34:19.372Z"
   },
   {
    "duration": 5,
    "start_time": "2022-03-15T10:35:42.697Z"
   },
   {
    "duration": 5,
    "start_time": "2022-03-15T10:36:13.232Z"
   },
   {
    "duration": 5,
    "start_time": "2022-03-15T10:36:32.791Z"
   },
   {
    "duration": 5,
    "start_time": "2022-03-15T10:36:39.169Z"
   },
   {
    "duration": 320,
    "start_time": "2022-03-15T10:41:25.893Z"
   },
   {
    "duration": 322,
    "start_time": "2022-03-15T10:42:26.827Z"
   },
   {
    "duration": 328,
    "start_time": "2022-03-15T10:42:43.962Z"
   },
   {
    "duration": 374,
    "start_time": "2022-03-15T10:42:54.916Z"
   },
   {
    "duration": 303,
    "start_time": "2022-03-15T10:43:03.927Z"
   },
   {
    "duration": 310,
    "start_time": "2022-03-15T10:43:09.878Z"
   },
   {
    "duration": 333,
    "start_time": "2022-03-15T10:44:54.161Z"
   },
   {
    "duration": 288,
    "start_time": "2022-03-15T10:45:02.307Z"
   },
   {
    "duration": 335,
    "start_time": "2022-03-15T10:45:17.865Z"
   },
   {
    "duration": 308,
    "start_time": "2022-03-15T10:45:30.981Z"
   },
   {
    "duration": 92,
    "start_time": "2022-03-15T10:48:52.485Z"
   },
   {
    "duration": 5,
    "start_time": "2022-03-15T10:49:00.686Z"
   },
   {
    "duration": 10,
    "start_time": "2022-03-15T10:56:51.824Z"
   },
   {
    "duration": 10,
    "start_time": "2022-03-15T11:00:41.934Z"
   },
   {
    "duration": 59,
    "start_time": "2022-03-15T11:09:47.712Z"
   },
   {
    "duration": 61,
    "start_time": "2022-03-15T11:10:18.407Z"
   },
   {
    "duration": 220,
    "start_time": "2022-03-15T11:13:13.307Z"
   },
   {
    "duration": 73,
    "start_time": "2022-03-15T11:13:32.775Z"
   },
   {
    "duration": 227,
    "start_time": "2022-03-15T11:14:55.516Z"
   },
   {
    "duration": 73,
    "start_time": "2022-03-15T11:15:08.242Z"
   },
   {
    "duration": 23,
    "start_time": "2022-03-15T11:16:22.850Z"
   },
   {
    "duration": 11,
    "start_time": "2022-03-15T11:16:30.560Z"
   },
   {
    "duration": 11,
    "start_time": "2022-03-15T11:22:10.231Z"
   },
   {
    "duration": 268,
    "start_time": "2022-03-15T11:24:04.330Z"
   },
   {
    "duration": 128,
    "start_time": "2022-03-15T11:24:23.232Z"
   },
   {
    "duration": 9,
    "start_time": "2022-03-15T11:25:16.284Z"
   },
   {
    "duration": 7,
    "start_time": "2022-03-15T11:25:19.814Z"
   },
   {
    "duration": 7,
    "start_time": "2022-03-15T11:26:18.986Z"
   },
   {
    "duration": 10,
    "start_time": "2022-03-15T11:29:47.810Z"
   },
   {
    "duration": 8,
    "start_time": "2022-03-15T11:30:50.662Z"
   },
   {
    "duration": 8,
    "start_time": "2022-03-15T11:34:48.944Z"
   },
   {
    "duration": 264,
    "start_time": "2022-03-15T11:34:51.140Z"
   },
   {
    "duration": 302,
    "start_time": "2022-03-15T11:35:36.152Z"
   },
   {
    "duration": 118,
    "start_time": "2022-03-15T11:35:44.482Z"
   },
   {
    "duration": 7,
    "start_time": "2022-03-15T11:35:46.074Z"
   },
   {
    "duration": 221,
    "start_time": "2022-03-15T11:35:48.420Z"
   },
   {
    "duration": 7,
    "start_time": "2022-03-15T11:36:12.358Z"
   },
   {
    "duration": 219,
    "start_time": "2022-03-15T11:36:13.143Z"
   },
   {
    "duration": 217,
    "start_time": "2022-03-15T11:37:11.435Z"
   },
   {
    "duration": 7,
    "start_time": "2022-03-15T11:42:54.324Z"
   },
   {
    "duration": 11,
    "start_time": "2022-03-15T11:44:50.957Z"
   },
   {
    "duration": 11,
    "start_time": "2022-03-15T11:48:01.600Z"
   },
   {
    "duration": 11,
    "start_time": "2022-03-15T11:48:07.375Z"
   },
   {
    "duration": 8,
    "start_time": "2022-03-15T11:49:49.502Z"
   },
   {
    "duration": 11,
    "start_time": "2022-03-15T11:49:51.427Z"
   },
   {
    "duration": 5790,
    "start_time": "2022-03-15T11:54:00.771Z"
   },
   {
    "duration": 11,
    "start_time": "2022-03-15T11:54:13.579Z"
   },
   {
    "duration": 1120,
    "start_time": "2022-03-15T12:02:06.181Z"
   },
   {
    "duration": 3,
    "start_time": "2022-03-15T12:02:07.303Z"
   },
   {
    "duration": 58,
    "start_time": "2022-03-15T12:02:07.308Z"
   },
   {
    "duration": 12,
    "start_time": "2022-03-15T12:02:07.368Z"
   },
   {
    "duration": 10,
    "start_time": "2022-03-15T12:02:07.381Z"
   },
   {
    "duration": 8,
    "start_time": "2022-03-15T12:02:07.393Z"
   },
   {
    "duration": 20,
    "start_time": "2022-03-15T12:02:07.403Z"
   },
   {
    "duration": 6,
    "start_time": "2022-03-15T12:02:07.425Z"
   },
   {
    "duration": 28,
    "start_time": "2022-03-15T12:02:07.434Z"
   },
   {
    "duration": 14,
    "start_time": "2022-03-15T12:02:07.464Z"
   },
   {
    "duration": 12,
    "start_time": "2022-03-15T12:02:07.480Z"
   },
   {
    "duration": 27,
    "start_time": "2022-03-15T12:02:07.493Z"
   },
   {
    "duration": 5,
    "start_time": "2022-03-15T12:02:07.522Z"
   },
   {
    "duration": 6,
    "start_time": "2022-03-15T12:02:07.561Z"
   },
   {
    "duration": 25,
    "start_time": "2022-03-15T12:02:07.569Z"
   },
   {
    "duration": 15,
    "start_time": "2022-03-15T12:02:07.596Z"
   },
   {
    "duration": 14,
    "start_time": "2022-03-15T12:02:07.613Z"
   },
   {
    "duration": 7,
    "start_time": "2022-03-15T12:02:07.629Z"
   },
   {
    "duration": 13,
    "start_time": "2022-03-15T12:02:07.638Z"
   },
   {
    "duration": 16,
    "start_time": "2022-03-15T12:02:07.652Z"
   },
   {
    "duration": 7,
    "start_time": "2022-03-15T12:02:07.669Z"
   },
   {
    "duration": 13,
    "start_time": "2022-03-15T12:02:07.678Z"
   },
   {
    "duration": 17,
    "start_time": "2022-03-15T12:02:07.692Z"
   },
   {
    "duration": 6,
    "start_time": "2022-03-15T12:02:07.711Z"
   },
   {
    "duration": 11,
    "start_time": "2022-03-15T12:02:07.718Z"
   },
   {
    "duration": 7,
    "start_time": "2022-03-15T12:02:07.731Z"
   },
   {
    "duration": 27,
    "start_time": "2022-03-15T12:02:07.741Z"
   },
   {
    "duration": 22,
    "start_time": "2022-03-15T12:02:07.770Z"
   },
   {
    "duration": 11,
    "start_time": "2022-03-15T12:02:07.793Z"
   },
   {
    "duration": 201,
    "start_time": "2022-03-15T12:02:07.806Z"
   },
   {
    "duration": 164,
    "start_time": "2022-03-15T12:02:08.009Z"
   },
   {
    "duration": 6,
    "start_time": "2022-03-15T12:02:08.175Z"
   },
   {
    "duration": 17,
    "start_time": "2022-03-15T12:02:08.183Z"
   },
   {
    "duration": 274,
    "start_time": "2022-03-15T12:02:08.201Z"
   },
   {
    "duration": 243,
    "start_time": "2022-03-15T12:02:08.476Z"
   },
   {
    "duration": 336,
    "start_time": "2022-03-15T12:02:08.721Z"
   },
   {
    "duration": 9,
    "start_time": "2022-03-15T12:02:09.059Z"
   },
   {
    "duration": 249,
    "start_time": "2022-03-15T12:02:09.070Z"
   },
   {
    "duration": 370,
    "start_time": "2022-03-15T12:02:09.322Z"
   },
   {
    "duration": 121,
    "start_time": "2022-03-15T12:02:09.694Z"
   },
   {
    "duration": 344,
    "start_time": "2022-03-15T12:02:09.818Z"
   },
   {
    "duration": 5,
    "start_time": "2022-03-15T12:02:10.165Z"
   },
   {
    "duration": 321,
    "start_time": "2022-03-15T12:02:10.172Z"
   },
   {
    "duration": 5,
    "start_time": "2022-03-15T12:02:10.495Z"
   },
   {
    "duration": 84,
    "start_time": "2022-03-15T12:02:10.502Z"
   },
   {
    "duration": 79,
    "start_time": "2022-03-15T12:02:10.588Z"
   },
   {
    "duration": 97,
    "start_time": "2022-03-15T12:02:10.669Z"
   },
   {
    "duration": 72,
    "start_time": "2022-03-15T12:02:10.768Z"
   },
   {
    "duration": 29,
    "start_time": "2022-03-15T12:02:10.842Z"
   },
   {
    "duration": 23,
    "start_time": "2022-03-15T12:02:10.873Z"
   },
   {
    "duration": 150,
    "start_time": "2022-03-15T12:02:10.897Z"
   },
   {
    "duration": 12,
    "start_time": "2022-03-15T12:02:11.049Z"
   },
   {
    "duration": 25,
    "start_time": "2022-03-15T12:02:11.063Z"
   },
   {
    "duration": 18,
    "start_time": "2022-03-15T12:02:11.090Z"
   },
   {
    "duration": 16,
    "start_time": "2022-03-15T12:02:19.832Z"
   },
   {
    "duration": 5700,
    "start_time": "2022-03-15T12:05:52.319Z"
   },
   {
    "duration": 5825,
    "start_time": "2022-03-15T12:06:37.795Z"
   },
   {
    "duration": 8,
    "start_time": "2022-03-15T12:06:59.946Z"
   },
   {
    "duration": 8,
    "start_time": "2022-03-15T12:08:05.433Z"
   },
   {
    "duration": 7,
    "start_time": "2022-03-15T12:10:55.150Z"
   },
   {
    "duration": 5542,
    "start_time": "2022-03-15T12:15:46.168Z"
   },
   {
    "duration": -431,
    "start_time": "2022-03-15T12:15:52.143Z"
   },
   {
    "duration": 8,
    "start_time": "2022-03-15T12:16:01.892Z"
   },
   {
    "duration": 5,
    "start_time": "2022-03-15T12:16:08.111Z"
   },
   {
    "duration": 4,
    "start_time": "2022-03-15T12:16:13.073Z"
   },
   {
    "duration": 7407,
    "start_time": "2022-03-15T12:18:43.688Z"
   },
   {
    "duration": 5909,
    "start_time": "2022-03-15T12:19:00.708Z"
   },
   {
    "duration": 14,
    "start_time": "2022-03-15T12:19:11.380Z"
   },
   {
    "duration": 1152,
    "start_time": "2022-03-15T12:21:37.941Z"
   },
   {
    "duration": 2,
    "start_time": "2022-03-15T12:21:39.095Z"
   },
   {
    "duration": 61,
    "start_time": "2022-03-15T12:21:39.100Z"
   },
   {
    "duration": 20,
    "start_time": "2022-03-15T12:21:39.163Z"
   },
   {
    "duration": 14,
    "start_time": "2022-03-15T12:21:39.185Z"
   },
   {
    "duration": 22,
    "start_time": "2022-03-15T12:21:39.201Z"
   },
   {
    "duration": 35,
    "start_time": "2022-03-15T12:21:39.224Z"
   },
   {
    "duration": 13,
    "start_time": "2022-03-15T12:21:39.261Z"
   },
   {
    "duration": 9,
    "start_time": "2022-03-15T12:21:39.277Z"
   },
   {
    "duration": 19,
    "start_time": "2022-03-15T12:21:39.288Z"
   },
   {
    "duration": 10,
    "start_time": "2022-03-15T12:21:39.309Z"
   },
   {
    "duration": 31,
    "start_time": "2022-03-15T12:21:39.321Z"
   },
   {
    "duration": 6,
    "start_time": "2022-03-15T12:21:39.359Z"
   },
   {
    "duration": 14,
    "start_time": "2022-03-15T12:21:39.366Z"
   },
   {
    "duration": 8,
    "start_time": "2022-03-15T12:21:39.382Z"
   },
   {
    "duration": 8,
    "start_time": "2022-03-15T12:21:39.392Z"
   },
   {
    "duration": 21,
    "start_time": "2022-03-15T12:21:39.401Z"
   },
   {
    "duration": 12,
    "start_time": "2022-03-15T12:21:39.423Z"
   },
   {
    "duration": 22,
    "start_time": "2022-03-15T12:21:39.437Z"
   },
   {
    "duration": 23,
    "start_time": "2022-03-15T12:21:39.460Z"
   },
   {
    "duration": 12,
    "start_time": "2022-03-15T12:21:39.485Z"
   },
   {
    "duration": 18,
    "start_time": "2022-03-15T12:21:39.498Z"
   },
   {
    "duration": 22,
    "start_time": "2022-03-15T12:21:39.518Z"
   },
   {
    "duration": 9,
    "start_time": "2022-03-15T12:21:39.542Z"
   },
   {
    "duration": 22,
    "start_time": "2022-03-15T12:21:39.553Z"
   },
   {
    "duration": 9,
    "start_time": "2022-03-15T12:21:39.577Z"
   },
   {
    "duration": 11,
    "start_time": "2022-03-15T12:21:39.590Z"
   },
   {
    "duration": 7,
    "start_time": "2022-03-15T12:21:39.603Z"
   },
   {
    "duration": 11,
    "start_time": "2022-03-15T12:21:39.612Z"
   },
   {
    "duration": 207,
    "start_time": "2022-03-15T12:21:39.625Z"
   },
   {
    "duration": 170,
    "start_time": "2022-03-15T12:21:39.833Z"
   },
   {
    "duration": 7,
    "start_time": "2022-03-15T12:21:40.005Z"
   },
   {
    "duration": 13,
    "start_time": "2022-03-15T12:21:40.014Z"
   },
   {
    "duration": 256,
    "start_time": "2022-03-15T12:21:40.029Z"
   },
   {
    "duration": 244,
    "start_time": "2022-03-15T12:21:40.287Z"
   },
   {
    "duration": 379,
    "start_time": "2022-03-15T12:21:40.533Z"
   },
   {
    "duration": 9,
    "start_time": "2022-03-15T12:21:40.914Z"
   },
   {
    "duration": 254,
    "start_time": "2022-03-15T12:21:40.925Z"
   },
   {
    "duration": 337,
    "start_time": "2022-03-15T12:21:41.181Z"
   },
   {
    "duration": 141,
    "start_time": "2022-03-15T12:21:41.519Z"
   },
   {
    "duration": 315,
    "start_time": "2022-03-15T12:21:41.662Z"
   },
   {
    "duration": 4,
    "start_time": "2022-03-15T12:21:41.979Z"
   },
   {
    "duration": 318,
    "start_time": "2022-03-15T12:21:41.985Z"
   },
   {
    "duration": 4,
    "start_time": "2022-03-15T12:21:42.305Z"
   },
   {
    "duration": 71,
    "start_time": "2022-03-15T12:21:42.311Z"
   },
   {
    "duration": 63,
    "start_time": "2022-03-15T12:21:42.383Z"
   },
   {
    "duration": 75,
    "start_time": "2022-03-15T12:21:42.447Z"
   },
   {
    "duration": 75,
    "start_time": "2022-03-15T12:21:42.524Z"
   },
   {
    "duration": 24,
    "start_time": "2022-03-15T12:21:42.601Z"
   },
   {
    "duration": 20,
    "start_time": "2022-03-15T12:21:42.627Z"
   },
   {
    "duration": 180,
    "start_time": "2022-03-15T12:21:42.649Z"
   },
   {
    "duration": 6,
    "start_time": "2022-03-15T12:21:42.830Z"
   },
   {
    "duration": 72,
    "start_time": "2022-03-15T12:21:42.837Z"
   },
   {
    "duration": -390,
    "start_time": "2022-03-15T12:21:43.301Z"
   },
   {
    "duration": -410,
    "start_time": "2022-03-15T12:21:43.322Z"
   },
   {
    "duration": -419,
    "start_time": "2022-03-15T12:21:43.332Z"
   },
   {
    "duration": -425,
    "start_time": "2022-03-15T12:21:43.338Z"
   },
   {
    "duration": -433,
    "start_time": "2022-03-15T12:21:43.347Z"
   },
   {
    "duration": 10,
    "start_time": "2022-03-15T12:22:17.786Z"
   },
   {
    "duration": 76,
    "start_time": "2022-03-15T12:22:32.487Z"
   },
   {
    "duration": 10,
    "start_time": "2022-03-15T12:22:41.230Z"
   },
   {
    "duration": 9,
    "start_time": "2022-03-15T12:22:47.884Z"
   },
   {
    "duration": 8,
    "start_time": "2022-03-15T12:22:52.061Z"
   },
   {
    "duration": 8,
    "start_time": "2022-03-15T12:22:57.839Z"
   },
   {
    "duration": 18,
    "start_time": "2022-03-15T12:23:08.048Z"
   },
   {
    "duration": 1105,
    "start_time": "2022-03-15T12:34:06.840Z"
   },
   {
    "duration": 2,
    "start_time": "2022-03-15T12:34:07.947Z"
   },
   {
    "duration": 44,
    "start_time": "2022-03-15T12:34:07.960Z"
   },
   {
    "duration": 10,
    "start_time": "2022-03-15T12:34:08.007Z"
   },
   {
    "duration": 28,
    "start_time": "2022-03-15T12:34:08.019Z"
   },
   {
    "duration": 24,
    "start_time": "2022-03-15T12:34:08.048Z"
   },
   {
    "duration": 29,
    "start_time": "2022-03-15T12:34:08.074Z"
   },
   {
    "duration": 15,
    "start_time": "2022-03-15T12:34:08.106Z"
   },
   {
    "duration": 41,
    "start_time": "2022-03-15T12:34:08.123Z"
   },
   {
    "duration": 34,
    "start_time": "2022-03-15T12:34:08.166Z"
   },
   {
    "duration": 22,
    "start_time": "2022-03-15T12:34:08.202Z"
   },
   {
    "duration": 29,
    "start_time": "2022-03-15T12:34:08.227Z"
   },
   {
    "duration": 19,
    "start_time": "2022-03-15T12:34:08.257Z"
   },
   {
    "duration": 31,
    "start_time": "2022-03-15T12:34:08.277Z"
   },
   {
    "duration": 40,
    "start_time": "2022-03-15T12:34:08.309Z"
   },
   {
    "duration": 24,
    "start_time": "2022-03-15T12:34:08.351Z"
   },
   {
    "duration": 10,
    "start_time": "2022-03-15T12:34:08.377Z"
   },
   {
    "duration": 19,
    "start_time": "2022-03-15T12:34:08.389Z"
   },
   {
    "duration": 25,
    "start_time": "2022-03-15T12:34:08.410Z"
   },
   {
    "duration": 34,
    "start_time": "2022-03-15T12:34:08.436Z"
   },
   {
    "duration": 22,
    "start_time": "2022-03-15T12:34:08.471Z"
   },
   {
    "duration": 27,
    "start_time": "2022-03-15T12:34:08.494Z"
   },
   {
    "duration": 21,
    "start_time": "2022-03-15T12:34:08.526Z"
   },
   {
    "duration": 40,
    "start_time": "2022-03-15T12:34:08.550Z"
   },
   {
    "duration": 45,
    "start_time": "2022-03-15T12:34:08.593Z"
   },
   {
    "duration": 27,
    "start_time": "2022-03-15T12:34:08.640Z"
   },
   {
    "duration": 21,
    "start_time": "2022-03-15T12:34:08.669Z"
   },
   {
    "duration": 21,
    "start_time": "2022-03-15T12:34:08.692Z"
   },
   {
    "duration": 24,
    "start_time": "2022-03-15T12:34:08.715Z"
   },
   {
    "duration": 201,
    "start_time": "2022-03-15T12:34:08.741Z"
   },
   {
    "duration": 168,
    "start_time": "2022-03-15T12:34:08.944Z"
   },
   {
    "duration": 6,
    "start_time": "2022-03-15T12:34:09.114Z"
   },
   {
    "duration": 23,
    "start_time": "2022-03-15T12:34:09.122Z"
   },
   {
    "duration": 251,
    "start_time": "2022-03-15T12:34:09.147Z"
   },
   {
    "duration": 232,
    "start_time": "2022-03-15T12:34:09.400Z"
   },
   {
    "duration": 371,
    "start_time": "2022-03-15T12:34:09.633Z"
   },
   {
    "duration": 10,
    "start_time": "2022-03-15T12:34:10.005Z"
   },
   {
    "duration": 260,
    "start_time": "2022-03-15T12:34:10.017Z"
   },
   {
    "duration": 328,
    "start_time": "2022-03-15T12:34:10.279Z"
   },
   {
    "duration": 118,
    "start_time": "2022-03-15T12:34:10.608Z"
   },
   {
    "duration": 333,
    "start_time": "2022-03-15T12:34:10.728Z"
   },
   {
    "duration": 5,
    "start_time": "2022-03-15T12:34:11.063Z"
   },
   {
    "duration": 352,
    "start_time": "2022-03-15T12:34:11.069Z"
   },
   {
    "duration": 4,
    "start_time": "2022-03-15T12:34:11.423Z"
   },
   {
    "duration": 72,
    "start_time": "2022-03-15T12:34:11.429Z"
   },
   {
    "duration": 74,
    "start_time": "2022-03-15T12:34:11.503Z"
   },
   {
    "duration": 89,
    "start_time": "2022-03-15T12:34:11.578Z"
   },
   {
    "duration": 76,
    "start_time": "2022-03-15T12:34:11.668Z"
   },
   {
    "duration": 34,
    "start_time": "2022-03-15T12:34:11.745Z"
   },
   {
    "duration": 32,
    "start_time": "2022-03-15T12:34:11.780Z"
   },
   {
    "duration": 112,
    "start_time": "2022-03-15T12:34:11.814Z"
   },
   {
    "duration": 6,
    "start_time": "2022-03-15T12:34:11.928Z"
   },
   {
    "duration": 27,
    "start_time": "2022-03-15T12:34:11.935Z"
   },
   {
    "duration": 13,
    "start_time": "2022-03-15T12:34:11.964Z"
   },
   {
    "duration": 25,
    "start_time": "2022-03-15T12:34:11.980Z"
   },
   {
    "duration": 23,
    "start_time": "2022-03-15T12:34:12.007Z"
   },
   {
    "duration": 28,
    "start_time": "2022-03-15T12:34:12.032Z"
   },
   {
    "duration": 35,
    "start_time": "2022-03-15T12:34:12.062Z"
   },
   {
    "duration": 1116,
    "start_time": "2022-03-15T12:51:58.250Z"
   },
   {
    "duration": 2,
    "start_time": "2022-03-15T12:52:12.575Z"
   },
   {
    "duration": 108,
    "start_time": "2022-03-15T12:52:54.183Z"
   },
   {
    "duration": 11,
    "start_time": "2022-03-15T12:53:28.507Z"
   },
   {
    "duration": 7,
    "start_time": "2022-03-15T12:53:41.484Z"
   },
   {
    "duration": 4,
    "start_time": "2022-03-15T12:53:45.494Z"
   },
   {
    "duration": 7,
    "start_time": "2022-03-15T12:53:47.016Z"
   },
   {
    "duration": 3,
    "start_time": "2022-03-15T12:53:58.587Z"
   },
   {
    "duration": 9,
    "start_time": "2022-03-15T12:54:00.111Z"
   },
   {
    "duration": 13,
    "start_time": "2022-03-15T12:54:12.222Z"
   },
   {
    "duration": 9,
    "start_time": "2022-03-15T12:54:19.135Z"
   },
   {
    "duration": 19,
    "start_time": "2022-03-15T12:54:43.635Z"
   },
   {
    "duration": 5,
    "start_time": "2022-03-15T12:55:18.354Z"
   },
   {
    "duration": 6,
    "start_time": "2022-03-15T12:55:20.832Z"
   },
   {
    "duration": 6,
    "start_time": "2022-03-15T12:55:21.735Z"
   },
   {
    "duration": 3,
    "start_time": "2022-03-15T12:55:21.968Z"
   },
   {
    "duration": 7,
    "start_time": "2022-03-15T12:55:22.208Z"
   },
   {
    "duration": 4,
    "start_time": "2022-03-15T12:55:22.430Z"
   },
   {
    "duration": 8,
    "start_time": "2022-03-15T12:55:22.659Z"
   },
   {
    "duration": 11,
    "start_time": "2022-03-15T12:55:22.898Z"
   },
   {
    "duration": 6,
    "start_time": "2022-03-15T12:55:23.170Z"
   },
   {
    "duration": 5,
    "start_time": "2022-03-15T12:55:23.412Z"
   },
   {
    "duration": 7,
    "start_time": "2022-03-15T12:55:34.568Z"
   },
   {
    "duration": 12,
    "start_time": "2022-03-15T12:55:39.417Z"
   },
   {
    "duration": 6,
    "start_time": "2022-03-15T12:55:42.071Z"
   },
   {
    "duration": 6,
    "start_time": "2022-03-15T12:55:43.271Z"
   },
   {
    "duration": 10,
    "start_time": "2022-03-15T12:55:48.662Z"
   },
   {
    "duration": 4,
    "start_time": "2022-03-15T12:56:31.422Z"
   },
   {
    "duration": 9,
    "start_time": "2022-03-15T12:56:34.912Z"
   },
   {
    "duration": 5,
    "start_time": "2022-03-15T12:57:00.982Z"
   },
   {
    "duration": 10,
    "start_time": "2022-03-15T12:57:03.599Z"
   },
   {
    "duration": 3,
    "start_time": "2022-03-15T12:59:51.572Z"
   },
   {
    "duration": 9,
    "start_time": "2022-03-15T12:59:54.080Z"
   },
   {
    "duration": 6,
    "start_time": "2022-03-15T13:01:12.879Z"
   },
   {
    "duration": 8,
    "start_time": "2022-03-15T13:01:15.284Z"
   },
   {
    "duration": 194,
    "start_time": "2022-03-15T13:01:42.831Z"
   },
   {
    "duration": 168,
    "start_time": "2022-03-15T13:01:48.547Z"
   },
   {
    "duration": 7,
    "start_time": "2022-03-15T13:01:52.752Z"
   },
   {
    "duration": 7,
    "start_time": "2022-03-15T13:01:57.737Z"
   },
   {
    "duration": 248,
    "start_time": "2022-03-15T13:02:00.122Z"
   },
   {
    "duration": 238,
    "start_time": "2022-03-15T13:02:38.140Z"
   },
   {
    "duration": 351,
    "start_time": "2022-03-15T13:03:07.427Z"
   },
   {
    "duration": 355,
    "start_time": "2022-03-15T13:14:02.732Z"
   },
   {
    "duration": 11,
    "start_time": "2022-03-15T13:14:08.418Z"
   },
   {
    "duration": 236,
    "start_time": "2022-03-15T13:14:17.509Z"
   },
   {
    "duration": 331,
    "start_time": "2022-03-15T13:14:31.006Z"
   },
   {
    "duration": 130,
    "start_time": "2022-03-15T13:14:50.232Z"
   },
   {
    "duration": 378,
    "start_time": "2022-03-15T13:15:55.549Z"
   },
   {
    "duration": 113,
    "start_time": "2022-03-15T13:16:34.128Z"
   },
   {
    "duration": 325,
    "start_time": "2022-03-15T13:16:36.741Z"
   },
   {
    "duration": 6,
    "start_time": "2022-03-15T13:17:31.775Z"
   },
   {
    "duration": 402,
    "start_time": "2022-03-15T13:18:02.381Z"
   },
   {
    "duration": 277,
    "start_time": "2022-03-15T13:23:43.320Z"
   },
   {
    "duration": 315,
    "start_time": "2022-03-15T13:24:03.238Z"
   },
   {
    "duration": 298,
    "start_time": "2022-03-15T13:24:50.285Z"
   },
   {
    "duration": 5,
    "start_time": "2022-03-15T13:25:37.887Z"
   },
   {
    "duration": 340,
    "start_time": "2022-03-15T13:25:49.648Z"
   },
   {
    "duration": 332,
    "start_time": "2022-03-15T13:27:17.161Z"
   },
   {
    "duration": 4,
    "start_time": "2022-03-15T13:27:40.026Z"
   },
   {
    "duration": 64,
    "start_time": "2022-03-15T13:27:59.837Z"
   },
   {
    "duration": 63,
    "start_time": "2022-03-15T13:28:01.659Z"
   },
   {
    "duration": 76,
    "start_time": "2022-03-15T13:28:07.738Z"
   },
   {
    "duration": 79,
    "start_time": "2022-03-15T13:28:15.383Z"
   },
   {
    "duration": 26,
    "start_time": "2022-03-15T13:28:20.211Z"
   },
   {
    "duration": 12,
    "start_time": "2022-03-15T13:28:22.788Z"
   },
   {
    "duration": 128,
    "start_time": "2022-03-15T13:28:38.643Z"
   },
   {
    "duration": 9,
    "start_time": "2022-03-15T13:28:45.753Z"
   },
   {
    "duration": 10,
    "start_time": "2022-03-15T13:29:06.754Z"
   },
   {
    "duration": 13,
    "start_time": "2022-03-15T13:29:24.768Z"
   },
   {
    "duration": 10,
    "start_time": "2022-03-15T13:29:41.416Z"
   },
   {
    "duration": 8,
    "start_time": "2022-03-15T13:29:53.155Z"
   },
   {
    "duration": 9,
    "start_time": "2022-03-15T13:29:53.707Z"
   },
   {
    "duration": 14,
    "start_time": "2022-03-15T13:30:34.315Z"
   },
   {
    "duration": 340,
    "start_time": "2022-03-15T13:45:26.627Z"
   },
   {
    "duration": 1376,
    "start_time": "2022-03-16T02:53:47.670Z"
   },
   {
    "duration": 4,
    "start_time": "2022-03-16T02:53:49.048Z"
   },
   {
    "duration": 47,
    "start_time": "2022-03-16T02:53:49.055Z"
   },
   {
    "duration": 16,
    "start_time": "2022-03-16T02:53:49.105Z"
   },
   {
    "duration": 10,
    "start_time": "2022-03-16T02:53:49.124Z"
   },
   {
    "duration": 7,
    "start_time": "2022-03-16T02:53:49.136Z"
   },
   {
    "duration": 10,
    "start_time": "2022-03-16T02:53:49.146Z"
   },
   {
    "duration": 4,
    "start_time": "2022-03-16T02:53:49.172Z"
   },
   {
    "duration": 12,
    "start_time": "2022-03-16T02:53:49.179Z"
   },
   {
    "duration": 20,
    "start_time": "2022-03-16T02:53:49.193Z"
   },
   {
    "duration": 14,
    "start_time": "2022-03-16T02:53:49.216Z"
   },
   {
    "duration": 59,
    "start_time": "2022-03-16T02:53:49.233Z"
   },
   {
    "duration": 8,
    "start_time": "2022-03-16T02:53:49.294Z"
   },
   {
    "duration": 17,
    "start_time": "2022-03-16T02:53:49.304Z"
   },
   {
    "duration": 8,
    "start_time": "2022-03-16T02:53:49.324Z"
   },
   {
    "duration": 38,
    "start_time": "2022-03-16T02:53:49.335Z"
   },
   {
    "duration": 9,
    "start_time": "2022-03-16T02:53:49.376Z"
   },
   {
    "duration": 8,
    "start_time": "2022-03-16T02:53:49.387Z"
   },
   {
    "duration": 12,
    "start_time": "2022-03-16T02:53:49.397Z"
   },
   {
    "duration": 20,
    "start_time": "2022-03-16T02:53:49.411Z"
   },
   {
    "duration": 44,
    "start_time": "2022-03-16T02:53:49.433Z"
   },
   {
    "duration": 16,
    "start_time": "2022-03-16T02:53:49.479Z"
   },
   {
    "duration": 25,
    "start_time": "2022-03-16T02:53:49.502Z"
   },
   {
    "duration": 15,
    "start_time": "2022-03-16T02:53:49.530Z"
   },
   {
    "duration": 20,
    "start_time": "2022-03-16T02:53:49.547Z"
   },
   {
    "duration": 6,
    "start_time": "2022-03-16T02:53:49.573Z"
   },
   {
    "duration": 24,
    "start_time": "2022-03-16T02:53:49.582Z"
   },
   {
    "duration": 20,
    "start_time": "2022-03-16T02:53:49.609Z"
   },
   {
    "duration": 18,
    "start_time": "2022-03-16T02:53:49.631Z"
   },
   {
    "duration": 329,
    "start_time": "2022-03-16T02:53:49.651Z"
   },
   {
    "duration": 276,
    "start_time": "2022-03-16T02:53:49.982Z"
   },
   {
    "duration": 18,
    "start_time": "2022-03-16T02:53:50.261Z"
   },
   {
    "duration": 12,
    "start_time": "2022-03-16T02:53:50.281Z"
   },
   {
    "duration": 383,
    "start_time": "2022-03-16T02:53:50.296Z"
   },
   {
    "duration": 373,
    "start_time": "2022-03-16T02:53:50.683Z"
   },
   {
    "duration": 570,
    "start_time": "2022-03-16T02:53:51.058Z"
   },
   {
    "duration": 15,
    "start_time": "2022-03-16T02:53:51.630Z"
   },
   {
    "duration": 374,
    "start_time": "2022-03-16T02:53:51.648Z"
   },
   {
    "duration": 487,
    "start_time": "2022-03-16T02:53:52.025Z"
   },
   {
    "duration": 232,
    "start_time": "2022-03-16T02:53:52.515Z"
   },
   {
    "duration": 410,
    "start_time": "2022-03-16T02:53:52.750Z"
   },
   {
    "duration": 11,
    "start_time": "2022-03-16T02:53:53.162Z"
   },
   {
    "duration": 410,
    "start_time": "2022-03-16T02:53:53.175Z"
   },
   {
    "duration": 7,
    "start_time": "2022-03-16T02:53:53.587Z"
   },
   {
    "duration": 122,
    "start_time": "2022-03-16T02:53:53.596Z"
   },
   {
    "duration": 117,
    "start_time": "2022-03-16T02:53:53.721Z"
   },
   {
    "duration": 138,
    "start_time": "2022-03-16T02:53:53.841Z"
   },
   {
    "duration": 133,
    "start_time": "2022-03-16T02:53:53.982Z"
   },
   {
    "duration": 56,
    "start_time": "2022-03-16T02:53:54.117Z"
   },
   {
    "duration": 19,
    "start_time": "2022-03-16T02:53:54.176Z"
   },
   {
    "duration": 231,
    "start_time": "2022-03-16T02:53:54.197Z"
   },
   {
    "duration": 8,
    "start_time": "2022-03-16T02:53:54.430Z"
   },
   {
    "duration": 32,
    "start_time": "2022-03-16T02:53:54.441Z"
   },
   {
    "duration": 15,
    "start_time": "2022-03-16T02:53:54.476Z"
   },
   {
    "duration": 20,
    "start_time": "2022-03-16T02:53:54.493Z"
   },
   {
    "duration": 16,
    "start_time": "2022-03-16T02:53:54.516Z"
   },
   {
    "duration": 45,
    "start_time": "2022-03-16T02:53:54.535Z"
   },
   {
    "duration": 20,
    "start_time": "2022-03-16T02:53:54.583Z"
   },
   {
    "duration": 1352,
    "start_time": "2022-03-16T03:18:37.305Z"
   },
   {
    "duration": 10,
    "start_time": "2022-03-16T03:18:38.660Z"
   },
   {
    "duration": 45,
    "start_time": "2022-03-16T03:18:38.676Z"
   },
   {
    "duration": 18,
    "start_time": "2022-03-16T03:18:38.728Z"
   },
   {
    "duration": 11,
    "start_time": "2022-03-16T03:18:38.749Z"
   },
   {
    "duration": 12,
    "start_time": "2022-03-16T03:18:38.763Z"
   },
   {
    "duration": 16,
    "start_time": "2022-03-16T03:18:38.777Z"
   },
   {
    "duration": 11,
    "start_time": "2022-03-16T03:18:38.795Z"
   },
   {
    "duration": 13,
    "start_time": "2022-03-16T03:18:38.811Z"
   },
   {
    "duration": 52,
    "start_time": "2022-03-16T03:18:38.828Z"
   },
   {
    "duration": 15,
    "start_time": "2022-03-16T03:18:38.883Z"
   },
   {
    "duration": 28,
    "start_time": "2022-03-16T03:18:38.901Z"
   },
   {
    "duration": 46,
    "start_time": "2022-03-16T03:18:38.932Z"
   },
   {
    "duration": 13,
    "start_time": "2022-03-16T03:18:38.980Z"
   },
   {
    "duration": 8,
    "start_time": "2022-03-16T03:18:38.995Z"
   },
   {
    "duration": 5,
    "start_time": "2022-03-16T03:18:39.006Z"
   },
   {
    "duration": 13,
    "start_time": "2022-03-16T03:18:39.014Z"
   },
   {
    "duration": 44,
    "start_time": "2022-03-16T03:18:39.030Z"
   },
   {
    "duration": 17,
    "start_time": "2022-03-16T03:18:39.076Z"
   },
   {
    "duration": 18,
    "start_time": "2022-03-16T03:18:39.096Z"
   },
   {
    "duration": 10,
    "start_time": "2022-03-16T03:18:39.117Z"
   },
   {
    "duration": 47,
    "start_time": "2022-03-16T03:18:39.130Z"
   },
   {
    "duration": 18,
    "start_time": "2022-03-16T03:18:39.180Z"
   },
   {
    "duration": 8,
    "start_time": "2022-03-16T03:18:39.201Z"
   },
   {
    "duration": 16,
    "start_time": "2022-03-16T03:18:39.211Z"
   },
   {
    "duration": 44,
    "start_time": "2022-03-16T03:18:39.230Z"
   },
   {
    "duration": 15,
    "start_time": "2022-03-16T03:18:39.283Z"
   },
   {
    "duration": 10,
    "start_time": "2022-03-16T03:18:39.302Z"
   },
   {
    "duration": 60,
    "start_time": "2022-03-16T03:18:39.315Z"
   },
   {
    "duration": 336,
    "start_time": "2022-03-16T03:18:39.378Z"
   },
   {
    "duration": 277,
    "start_time": "2022-03-16T03:18:39.717Z"
   },
   {
    "duration": 9,
    "start_time": "2022-03-16T03:18:39.997Z"
   },
   {
    "duration": 12,
    "start_time": "2022-03-16T03:18:40.009Z"
   },
   {
    "duration": 377,
    "start_time": "2022-03-16T03:18:40.024Z"
   },
   {
    "duration": 373,
    "start_time": "2022-03-16T03:18:40.403Z"
   },
   {
    "duration": 474,
    "start_time": "2022-03-16T03:18:40.778Z"
   },
   {
    "duration": 25,
    "start_time": "2022-03-16T03:18:41.254Z"
   },
   {
    "duration": 350,
    "start_time": "2022-03-16T03:18:41.281Z"
   },
   {
    "duration": 493,
    "start_time": "2022-03-16T03:18:41.633Z"
   },
   {
    "duration": 199,
    "start_time": "2022-03-16T03:18:42.129Z"
   },
   {
    "duration": 449,
    "start_time": "2022-03-16T03:18:42.330Z"
   },
   {
    "duration": 5,
    "start_time": "2022-03-16T03:18:42.781Z"
   },
   {
    "duration": 414,
    "start_time": "2022-03-16T03:18:42.789Z"
   },
   {
    "duration": 5,
    "start_time": "2022-03-16T03:18:43.206Z"
   },
   {
    "duration": 112,
    "start_time": "2022-03-16T03:18:43.213Z"
   },
   {
    "duration": 109,
    "start_time": "2022-03-16T03:18:43.327Z"
   },
   {
    "duration": 135,
    "start_time": "2022-03-16T03:18:43.438Z"
   },
   {
    "duration": 125,
    "start_time": "2022-03-16T03:18:43.575Z"
   },
   {
    "duration": 36,
    "start_time": "2022-03-16T03:18:43.702Z"
   },
   {
    "duration": 39,
    "start_time": "2022-03-16T03:18:43.741Z"
   },
   {
    "duration": 212,
    "start_time": "2022-03-16T03:18:43.782Z"
   },
   {
    "duration": 9,
    "start_time": "2022-03-16T03:18:43.996Z"
   },
   {
    "duration": 31,
    "start_time": "2022-03-16T03:18:44.007Z"
   },
   {
    "duration": 21,
    "start_time": "2022-03-16T03:18:44.041Z"
   },
   {
    "duration": 36,
    "start_time": "2022-03-16T03:18:44.064Z"
   },
   {
    "duration": 12,
    "start_time": "2022-03-16T03:18:44.103Z"
   },
   {
    "duration": 29,
    "start_time": "2022-03-16T03:18:44.117Z"
   },
   {
    "duration": 21,
    "start_time": "2022-03-16T03:18:44.149Z"
   },
   {
    "duration": 1116,
    "start_time": "2022-03-16T04:39:22.019Z"
   },
   {
    "duration": 4,
    "start_time": "2022-03-16T04:39:23.137Z"
   },
   {
    "duration": 118,
    "start_time": "2022-03-16T04:39:23.144Z"
   },
   {
    "duration": 14,
    "start_time": "2022-03-16T04:39:23.264Z"
   },
   {
    "duration": 8,
    "start_time": "2022-03-16T04:39:23.280Z"
   },
   {
    "duration": 6,
    "start_time": "2022-03-16T04:39:23.290Z"
   },
   {
    "duration": 11,
    "start_time": "2022-03-16T04:39:23.297Z"
   },
   {
    "duration": 3,
    "start_time": "2022-03-16T04:39:23.310Z"
   },
   {
    "duration": 18,
    "start_time": "2022-03-16T04:39:23.315Z"
   },
   {
    "duration": 17,
    "start_time": "2022-03-16T04:39:23.334Z"
   },
   {
    "duration": 11,
    "start_time": "2022-03-16T04:39:23.353Z"
   },
   {
    "duration": 20,
    "start_time": "2022-03-16T04:39:23.366Z"
   },
   {
    "duration": 6,
    "start_time": "2022-03-16T04:39:23.388Z"
   },
   {
    "duration": 36,
    "start_time": "2022-03-16T04:39:23.396Z"
   },
   {
    "duration": 7,
    "start_time": "2022-03-16T04:39:23.434Z"
   },
   {
    "duration": 5,
    "start_time": "2022-03-16T04:39:23.443Z"
   },
   {
    "duration": 13,
    "start_time": "2022-03-16T04:39:23.450Z"
   },
   {
    "duration": 7,
    "start_time": "2022-03-16T04:39:23.465Z"
   },
   {
    "duration": 14,
    "start_time": "2022-03-16T04:39:23.474Z"
   },
   {
    "duration": 44,
    "start_time": "2022-03-16T04:39:23.489Z"
   },
   {
    "duration": 7,
    "start_time": "2022-03-16T04:39:23.535Z"
   },
   {
    "duration": 10,
    "start_time": "2022-03-16T04:39:23.544Z"
   },
   {
    "duration": 13,
    "start_time": "2022-03-16T04:39:23.559Z"
   },
   {
    "duration": 5,
    "start_time": "2022-03-16T04:39:23.574Z"
   },
   {
    "duration": 13,
    "start_time": "2022-03-16T04:39:23.581Z"
   },
   {
    "duration": 44,
    "start_time": "2022-03-16T04:39:23.596Z"
   },
   {
    "duration": 17,
    "start_time": "2022-03-16T04:39:23.641Z"
   },
   {
    "duration": 7,
    "start_time": "2022-03-16T04:39:23.660Z"
   },
   {
    "duration": 10,
    "start_time": "2022-03-16T04:39:23.669Z"
   },
   {
    "duration": 207,
    "start_time": "2022-03-16T04:39:23.680Z"
   },
   {
    "duration": 176,
    "start_time": "2022-03-16T04:39:23.889Z"
   },
   {
    "duration": 7,
    "start_time": "2022-03-16T04:39:24.066Z"
   },
   {
    "duration": 10,
    "start_time": "2022-03-16T04:39:24.076Z"
   },
   {
    "duration": 269,
    "start_time": "2022-03-16T04:39:24.088Z"
   },
   {
    "duration": 213,
    "start_time": "2022-03-16T04:39:26.844Z"
   },
   {
    "duration": 237,
    "start_time": "2022-03-16T04:39:59.720Z"
   },
   {
    "duration": 249,
    "start_time": "2022-03-16T04:40:21.069Z"
   },
   {
    "duration": 242,
    "start_time": "2022-03-16T04:40:27.584Z"
   },
   {
    "duration": 4,
    "start_time": "2022-03-16T04:43:27.111Z"
   },
   {
    "duration": 34,
    "start_time": "2022-03-16T04:43:27.117Z"
   },
   {
    "duration": 124,
    "start_time": "2022-03-16T04:43:27.153Z"
   },
   {
    "duration": 18,
    "start_time": "2022-03-16T04:43:27.280Z"
   },
   {
    "duration": 35,
    "start_time": "2022-03-16T04:43:27.300Z"
   },
   {
    "duration": 25,
    "start_time": "2022-03-16T04:43:27.336Z"
   },
   {
    "duration": 37,
    "start_time": "2022-03-16T04:43:27.363Z"
   },
   {
    "duration": 49,
    "start_time": "2022-03-16T04:43:27.403Z"
   },
   {
    "duration": 39,
    "start_time": "2022-03-16T04:43:27.453Z"
   },
   {
    "duration": 42,
    "start_time": "2022-03-16T04:43:27.494Z"
   },
   {
    "duration": 41,
    "start_time": "2022-03-16T04:43:27.537Z"
   },
   {
    "duration": 37,
    "start_time": "2022-03-16T04:43:27.580Z"
   },
   {
    "duration": 12,
    "start_time": "2022-03-16T04:43:27.618Z"
   },
   {
    "duration": 29,
    "start_time": "2022-03-16T04:43:27.632Z"
   },
   {
    "duration": 23,
    "start_time": "2022-03-16T04:43:27.662Z"
   },
   {
    "duration": 21,
    "start_time": "2022-03-16T04:43:27.687Z"
   },
   {
    "duration": 19,
    "start_time": "2022-03-16T04:43:27.711Z"
   },
   {
    "duration": 22,
    "start_time": "2022-03-16T04:43:27.732Z"
   },
   {
    "duration": 44,
    "start_time": "2022-03-16T04:43:27.758Z"
   },
   {
    "duration": 25,
    "start_time": "2022-03-16T04:43:27.805Z"
   },
   {
    "duration": 19,
    "start_time": "2022-03-16T04:43:27.832Z"
   },
   {
    "duration": 19,
    "start_time": "2022-03-16T04:43:27.853Z"
   },
   {
    "duration": 27,
    "start_time": "2022-03-16T04:43:27.874Z"
   },
   {
    "duration": 26,
    "start_time": "2022-03-16T04:43:27.903Z"
   },
   {
    "duration": 28,
    "start_time": "2022-03-16T04:43:27.931Z"
   },
   {
    "duration": 22,
    "start_time": "2022-03-16T04:43:27.960Z"
   },
   {
    "duration": 32,
    "start_time": "2022-03-16T04:43:27.984Z"
   },
   {
    "duration": 18,
    "start_time": "2022-03-16T04:43:28.018Z"
   },
   {
    "duration": 17,
    "start_time": "2022-03-16T04:43:28.038Z"
   },
   {
    "duration": 218,
    "start_time": "2022-03-16T04:43:28.057Z"
   },
   {
    "duration": 181,
    "start_time": "2022-03-16T04:43:28.276Z"
   },
   {
    "duration": 8,
    "start_time": "2022-03-16T04:43:28.459Z"
   },
   {
    "duration": 16,
    "start_time": "2022-03-16T04:43:28.469Z"
   },
   {
    "duration": 294,
    "start_time": "2022-03-16T04:43:28.488Z"
   },
   {
    "duration": 262,
    "start_time": "2022-03-16T04:43:28.784Z"
   },
   {
    "duration": 446,
    "start_time": "2022-03-16T04:43:29.048Z"
   },
   {
    "duration": 12,
    "start_time": "2022-03-16T04:43:29.496Z"
   },
   {
    "duration": 272,
    "start_time": "2022-03-16T04:43:29.510Z"
   },
   {
    "duration": 377,
    "start_time": "2022-03-16T04:43:29.784Z"
   },
   {
    "duration": 136,
    "start_time": "2022-03-16T04:43:30.163Z"
   },
   {
    "duration": 349,
    "start_time": "2022-03-16T04:43:30.301Z"
   },
   {
    "duration": 5,
    "start_time": "2022-03-16T04:43:30.653Z"
   },
   {
    "duration": 576,
    "start_time": "2022-03-16T04:43:33.147Z"
   },
   {
    "duration": 216,
    "start_time": "2022-03-16T04:44:39.229Z"
   },
   {
    "duration": 348,
    "start_time": "2022-03-16T04:45:00.549Z"
   },
   {
    "duration": 343,
    "start_time": "2022-03-16T04:45:26.624Z"
   },
   {
    "duration": 309,
    "start_time": "2022-03-16T04:46:52.111Z"
   },
   {
    "duration": 337,
    "start_time": "2022-03-16T04:47:13.631Z"
   },
   {
    "duration": 1141,
    "start_time": "2022-03-16T04:51:52.533Z"
   },
   {
    "duration": 4,
    "start_time": "2022-03-16T04:51:53.676Z"
   },
   {
    "duration": 81,
    "start_time": "2022-03-16T04:51:53.683Z"
   },
   {
    "duration": 16,
    "start_time": "2022-03-16T04:51:53.767Z"
   },
   {
    "duration": 12,
    "start_time": "2022-03-16T04:51:53.785Z"
   },
   {
    "duration": 5,
    "start_time": "2022-03-16T04:51:53.800Z"
   },
   {
    "duration": 11,
    "start_time": "2022-03-16T04:51:53.807Z"
   },
   {
    "duration": 8,
    "start_time": "2022-03-16T04:51:53.820Z"
   },
   {
    "duration": 10,
    "start_time": "2022-03-16T04:51:53.831Z"
   },
   {
    "duration": 19,
    "start_time": "2022-03-16T04:51:53.844Z"
   },
   {
    "duration": 17,
    "start_time": "2022-03-16T04:51:53.865Z"
   },
   {
    "duration": 21,
    "start_time": "2022-03-16T04:51:53.884Z"
   },
   {
    "duration": 6,
    "start_time": "2022-03-16T04:51:53.907Z"
   },
   {
    "duration": 7,
    "start_time": "2022-03-16T04:51:53.932Z"
   },
   {
    "duration": 12,
    "start_time": "2022-03-16T04:51:53.940Z"
   },
   {
    "duration": 6,
    "start_time": "2022-03-16T04:51:53.954Z"
   },
   {
    "duration": 13,
    "start_time": "2022-03-16T04:51:53.962Z"
   },
   {
    "duration": 5,
    "start_time": "2022-03-16T04:51:53.977Z"
   },
   {
    "duration": 12,
    "start_time": "2022-03-16T04:51:53.983Z"
   },
   {
    "duration": 44,
    "start_time": "2022-03-16T04:51:53.997Z"
   },
   {
    "duration": 12,
    "start_time": "2022-03-16T04:51:54.043Z"
   },
   {
    "duration": 11,
    "start_time": "2022-03-16T04:51:54.058Z"
   },
   {
    "duration": 14,
    "start_time": "2022-03-16T04:51:54.071Z"
   },
   {
    "duration": 10,
    "start_time": "2022-03-16T04:51:54.087Z"
   },
   {
    "duration": 12,
    "start_time": "2022-03-16T04:51:54.099Z"
   },
   {
    "duration": 22,
    "start_time": "2022-03-16T04:51:54.113Z"
   },
   {
    "duration": 12,
    "start_time": "2022-03-16T04:51:54.139Z"
   },
   {
    "duration": 10,
    "start_time": "2022-03-16T04:51:54.154Z"
   },
   {
    "duration": 9,
    "start_time": "2022-03-16T04:51:54.166Z"
   },
   {
    "duration": 226,
    "start_time": "2022-03-16T04:51:54.177Z"
   },
   {
    "duration": 181,
    "start_time": "2022-03-16T04:51:54.405Z"
   },
   {
    "duration": 7,
    "start_time": "2022-03-16T04:51:54.588Z"
   },
   {
    "duration": 10,
    "start_time": "2022-03-16T04:51:54.598Z"
   },
   {
    "duration": 268,
    "start_time": "2022-03-16T04:51:54.610Z"
   },
   {
    "duration": 262,
    "start_time": "2022-03-16T04:51:54.881Z"
   },
   {
    "duration": 355,
    "start_time": "2022-03-16T04:51:55.145Z"
   },
   {
    "duration": 12,
    "start_time": "2022-03-16T04:51:55.503Z"
   },
   {
    "duration": 266,
    "start_time": "2022-03-16T04:51:55.517Z"
   },
   {
    "duration": 394,
    "start_time": "2022-03-16T04:51:55.786Z"
   },
   {
    "duration": 130,
    "start_time": "2022-03-16T04:51:56.182Z"
   },
   {
    "duration": 367,
    "start_time": "2022-03-16T04:51:56.314Z"
   },
   {
    "duration": 5,
    "start_time": "2022-03-16T04:51:56.683Z"
   },
   {
    "duration": 325,
    "start_time": "2022-03-16T04:51:56.690Z"
   },
   {
    "duration": 6,
    "start_time": "2022-03-16T04:51:57.018Z"
   },
   {
    "duration": 64,
    "start_time": "2022-03-16T04:51:57.032Z"
   },
   {
    "duration": 79,
    "start_time": "2022-03-16T04:51:57.098Z"
   },
   {
    "duration": 85,
    "start_time": "2022-03-16T04:51:57.179Z"
   },
   {
    "duration": 85,
    "start_time": "2022-03-16T04:51:57.266Z"
   },
   {
    "duration": 25,
    "start_time": "2022-03-16T04:51:57.352Z"
   },
   {
    "duration": 11,
    "start_time": "2022-03-16T04:51:57.379Z"
   },
   {
    "duration": 134,
    "start_time": "2022-03-16T04:51:57.391Z"
   },
   {
    "duration": 7,
    "start_time": "2022-03-16T04:51:57.527Z"
   },
   {
    "duration": 15,
    "start_time": "2022-03-16T04:51:57.536Z"
   },
   {
    "duration": 11,
    "start_time": "2022-03-16T04:51:57.553Z"
   },
   {
    "duration": 10,
    "start_time": "2022-03-16T04:51:57.565Z"
   },
   {
    "duration": 8,
    "start_time": "2022-03-16T04:51:57.577Z"
   },
   {
    "duration": 45,
    "start_time": "2022-03-16T04:51:57.587Z"
   },
   {
    "duration": 16,
    "start_time": "2022-03-16T04:51:57.633Z"
   },
   {
    "duration": 2220,
    "start_time": "2022-03-18T20:24:54.737Z"
   },
   {
    "duration": 4,
    "start_time": "2022-03-18T20:26:41.268Z"
   },
   {
    "duration": 100,
    "start_time": "2022-03-18T20:28:45.255Z"
   },
   {
    "duration": 134,
    "start_time": "2022-03-18T20:28:57.082Z"
   },
   {
    "duration": 135,
    "start_time": "2022-03-18T20:29:09.343Z"
   }
  ],
  "kernelspec": {
   "display_name": "Python 3 (ipykernel)",
   "language": "python",
   "name": "python3"
  },
  "language_info": {
   "codemirror_mode": {
    "name": "ipython",
    "version": 3
   },
   "file_extension": ".py",
   "mimetype": "text/x-python",
   "name": "python",
   "nbconvert_exporter": "python",
   "pygments_lexer": "ipython3",
   "version": "3.7.8"
  },
  "toc": {
   "base_numbering": "1",
   "nav_menu": {},
   "number_sections": true,
   "sideBar": true,
   "skip_h1_title": true,
   "title_cell": "Содержание",
   "title_sidebar": "Содержание",
   "toc_cell": true,
   "toc_position": {
    "height": "calc(100% - 180px)",
    "left": "10px",
    "top": "150px",
    "width": "331.449px"
   },
   "toc_section_display": true,
   "toc_window_display": true
  }
 },
 "nbformat": 4,
 "nbformat_minor": 2
}
