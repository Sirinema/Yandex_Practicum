{
 "cells": [
  {
   "cell_type": "markdown",
   "metadata": {},
   "source": [
    "# Исследование надёжности заёмщиков"
   ]
  },
  {
   "cell_type": "markdown",
   "metadata": {},
   "source": [
    "Заказчик — кредитный отдел банка. Нужно разобраться, влияет ли семейное положение и количество детей клиента на факт погашения кредита в срок. Входные данные от банка — статистика о платёжеспособности клиентов.\n",
    "\n",
    "Результаты исследования будут учтены при построении модели **кредитного скоринга** — специальной системы, которая оценивает способность потенциального заёмщика вернуть кредит банку.\n",
    "\n",
    "**Цель исследования:**\n",
    "\n",
    "Ответить на вопросы: \n",
    "* Есть ли зависимость между количеством детей и возвратом кредита в срок?\n",
    "* Есть ли зависимость между семейным положением и возвратом кредита в срок?\n",
    "* Есть ли зависимость между уровнем дохода и возвратом кредита в срок?\n",
    "* Как разные цели кредита влияют на его возврат в срок?\n",
    "\n",
    "**План исследования:**\n",
    "\n",
    "* Проверить данные на пропуски и заполнить их;\n",
    "* Проверить типы данных;\n",
    "* Поработать с дубликатами;\n",
    "* Выделить леммы;\n",
    "* Категоризировать данные;\n",
    "* Выявить зависимости возврата кредита вовремя от признаков;\n",
    "* Сделать общий вывод."
   ]
  },
  {
   "cell_type": "markdown",
   "metadata": {
    "toc": true
   },
   "source": [
    "<h1>Содержание<span class=\"tocSkip\"></span></h1>\n",
    "<div class=\"toc\"><ul class=\"toc-item\"><li><span><a href=\"#Обзор-данных\" data-toc-modified-id=\"Обзор-данных-1\"><span class=\"toc-item-num\">1&nbsp;&nbsp;</span>Обзор данных</a></span></li><li><span><a href=\"#Предобработка-данных\" data-toc-modified-id=\"Предобработка-данных-2\"><span class=\"toc-item-num\">2&nbsp;&nbsp;</span>Предобработка данных</a></span><ul class=\"toc-item\"><li><span><a href=\"#Обработка-пропусков\" data-toc-modified-id=\"Обработка-пропусков-2.1\"><span class=\"toc-item-num\">2.1&nbsp;&nbsp;</span>Обработка пропусков</a></span></li><li><span><a href=\"#Проверка-на-аномалии\" data-toc-modified-id=\"Проверка-на-аномалии-2.2\"><span class=\"toc-item-num\">2.2&nbsp;&nbsp;</span>Проверка на аномалии</a></span><ul class=\"toc-item\"><li><span><a href=\"#Столбец-dob_years\" data-toc-modified-id=\"Столбец-dob_years-2.2.1\"><span class=\"toc-item-num\">2.2.1&nbsp;&nbsp;</span>Столбец dob_years</a></span></li><li><span><a href=\"#Столбец-children\" data-toc-modified-id=\"Столбец-children-2.2.2\"><span class=\"toc-item-num\">2.2.2&nbsp;&nbsp;</span>Столбец children</a></span></li><li><span><a href=\"#Столбецы-education-и-education_id\" data-toc-modified-id=\"Столбецы-education-и-education_id-2.2.3\"><span class=\"toc-item-num\">2.2.3&nbsp;&nbsp;</span>Столбецы education и education_id</a></span></li><li><span><a href=\"#Столбецы-family_status-и-family_status_id\" data-toc-modified-id=\"Столбецы-family_status-и-family_status_id-2.2.4\"><span class=\"toc-item-num\">2.2.4&nbsp;&nbsp;</span>Столбецы family_status и family_status_id</a></span></li><li><span><a href=\"#Столбец-gender\" data-toc-modified-id=\"Столбец-gender-2.2.5\"><span class=\"toc-item-num\">2.2.5&nbsp;&nbsp;</span>Столбец gender</a></span></li><li><span><a href=\"#Столбец-income_type\" data-toc-modified-id=\"Столбец-income_type-2.2.6\"><span class=\"toc-item-num\">2.2.6&nbsp;&nbsp;</span>Столбец income_type</a></span></li><li><span><a href=\"#Столбец-debt\" data-toc-modified-id=\"Столбец-debt-2.2.7\"><span class=\"toc-item-num\">2.2.7&nbsp;&nbsp;</span>Столбец debt</a></span></li><li><span><a href=\"#Столбец-purpose\" data-toc-modified-id=\"Столбец-purpose-2.2.8\"><span class=\"toc-item-num\">2.2.8&nbsp;&nbsp;</span>Столбец purpose</a></span></li></ul></li><li><span><a href=\"#Замена-типа-данных\" data-toc-modified-id=\"Замена-типа-данных-2.3\"><span class=\"toc-item-num\">2.3&nbsp;&nbsp;</span>Замена типа данных</a></span></li><li><span><a href=\"#Обработка-дубликатов\" data-toc-modified-id=\"Обработка-дубликатов-2.4\"><span class=\"toc-item-num\">2.4&nbsp;&nbsp;</span>Обработка дубликатов</a></span></li><li><span><a href=\"#Лемматизация\" data-toc-modified-id=\"Лемматизация-2.5\"><span class=\"toc-item-num\">2.5&nbsp;&nbsp;</span>Лемматизация</a></span></li><li><span><a href=\"#Категоризация-данных\" data-toc-modified-id=\"Категоризация-данных-2.6\"><span class=\"toc-item-num\">2.6&nbsp;&nbsp;</span>Категоризация данных</a></span></li><li><span><a href=\"#Результат-предобработки-данных\" data-toc-modified-id=\"Результат-предобработки-данных-2.7\"><span class=\"toc-item-num\">2.7&nbsp;&nbsp;</span>Результат предобработки данных</a></span></li></ul></li><li><span><a href=\"#Ответы-на-вопросы\" data-toc-modified-id=\"Ответы-на-вопросы-3\"><span class=\"toc-item-num\">3&nbsp;&nbsp;</span>Ответы на вопросы</a></span><ul class=\"toc-item\"><li><span><a href=\"#Зависимость-между-наличием-детей-и-возвратом-кредита-в-срок.\" data-toc-modified-id=\"Зависимость-между-наличием-детей-и-возвратом-кредита-в-срок.-3.1\"><span class=\"toc-item-num\">3.1&nbsp;&nbsp;</span>Зависимость между наличием детей и возвратом кредита в срок.</a></span></li><li><span><a href=\"#Зависимость-между-семейным-положением-и-возвратом-кредита-в-срок\" data-toc-modified-id=\"Зависимость-между-семейным-положением-и-возвратом-кредита-в-срок-3.2\"><span class=\"toc-item-num\">3.2&nbsp;&nbsp;</span>Зависимость между семейным положением и возвратом кредита в срок</a></span></li><li><span><a href=\"#Зависимость-между-уровнем-дохода-и-возвратом-кредита-в-срок\" data-toc-modified-id=\"Зависимость-между-уровнем-дохода-и-возвратом-кредита-в-срок-3.3\"><span class=\"toc-item-num\">3.3&nbsp;&nbsp;</span>Зависимость между уровнем дохода и возвратом кредита в срок</a></span></li><li><span><a href=\"#Как-разные-цели-кредита-влияют-на-его-возврат-в-срок?\" data-toc-modified-id=\"Как-разные-цели-кредита-влияют-на-его-возврат-в-срок?-3.4\"><span class=\"toc-item-num\">3.4&nbsp;&nbsp;</span>Как разные цели кредита влияют на его возврат в срок?</a></span></li></ul></li><li><span><a href=\"#Общий-вывод\" data-toc-modified-id=\"Общий-вывод-4\"><span class=\"toc-item-num\">4&nbsp;&nbsp;</span>Общий вывод</a></span></li></ul></div>"
   ]
  },
  {
   "cell_type": "markdown",
   "metadata": {},
   "source": [
    "## Обзор данных"
   ]
  },
  {
   "cell_type": "code",
   "execution_count": 1,
   "metadata": {},
   "outputs": [],
   "source": [
    "#импорт необходимых библиотек\n",
    "import pandas as pd\n",
    "import numpy as np\n",
    "import seaborn\n",
    "from pymystem3 import Mystem\n",
    "m = Mystem()\n",
    "from collections import Counter"
   ]
  },
  {
   "cell_type": "code",
   "execution_count": 2,
   "metadata": {
    "scrolled": true
   },
   "outputs": [
    {
     "data": {
      "text/html": [
       "<div>\n",
       "<style scoped>\n",
       "    .dataframe tbody tr th:only-of-type {\n",
       "        vertical-align: middle;\n",
       "    }\n",
       "\n",
       "    .dataframe tbody tr th {\n",
       "        vertical-align: top;\n",
       "    }\n",
       "\n",
       "    .dataframe thead th {\n",
       "        text-align: right;\n",
       "    }\n",
       "</style>\n",
       "<table border=\"1\" class=\"dataframe\">\n",
       "  <thead>\n",
       "    <tr style=\"text-align: right;\">\n",
       "      <th></th>\n",
       "      <th>children</th>\n",
       "      <th>days_employed</th>\n",
       "      <th>dob_years</th>\n",
       "      <th>education</th>\n",
       "      <th>education_id</th>\n",
       "      <th>family_status</th>\n",
       "      <th>family_status_id</th>\n",
       "      <th>gender</th>\n",
       "      <th>income_type</th>\n",
       "      <th>debt</th>\n",
       "      <th>total_income</th>\n",
       "      <th>purpose</th>\n",
       "    </tr>\n",
       "  </thead>\n",
       "  <tbody>\n",
       "    <tr>\n",
       "      <td>0</td>\n",
       "      <td>1</td>\n",
       "      <td>-8437.673028</td>\n",
       "      <td>42</td>\n",
       "      <td>высшее</td>\n",
       "      <td>0</td>\n",
       "      <td>женат / замужем</td>\n",
       "      <td>0</td>\n",
       "      <td>F</td>\n",
       "      <td>сотрудник</td>\n",
       "      <td>0</td>\n",
       "      <td>253875.639453</td>\n",
       "      <td>покупка жилья</td>\n",
       "    </tr>\n",
       "    <tr>\n",
       "      <td>1</td>\n",
       "      <td>1</td>\n",
       "      <td>-4024.803754</td>\n",
       "      <td>36</td>\n",
       "      <td>среднее</td>\n",
       "      <td>1</td>\n",
       "      <td>женат / замужем</td>\n",
       "      <td>0</td>\n",
       "      <td>F</td>\n",
       "      <td>сотрудник</td>\n",
       "      <td>0</td>\n",
       "      <td>112080.014102</td>\n",
       "      <td>приобретение автомобиля</td>\n",
       "    </tr>\n",
       "    <tr>\n",
       "      <td>2</td>\n",
       "      <td>0</td>\n",
       "      <td>-5623.422610</td>\n",
       "      <td>33</td>\n",
       "      <td>Среднее</td>\n",
       "      <td>1</td>\n",
       "      <td>женат / замужем</td>\n",
       "      <td>0</td>\n",
       "      <td>M</td>\n",
       "      <td>сотрудник</td>\n",
       "      <td>0</td>\n",
       "      <td>145885.952297</td>\n",
       "      <td>покупка жилья</td>\n",
       "    </tr>\n",
       "    <tr>\n",
       "      <td>3</td>\n",
       "      <td>3</td>\n",
       "      <td>-4124.747207</td>\n",
       "      <td>32</td>\n",
       "      <td>среднее</td>\n",
       "      <td>1</td>\n",
       "      <td>женат / замужем</td>\n",
       "      <td>0</td>\n",
       "      <td>M</td>\n",
       "      <td>сотрудник</td>\n",
       "      <td>0</td>\n",
       "      <td>267628.550329</td>\n",
       "      <td>дополнительное образование</td>\n",
       "    </tr>\n",
       "    <tr>\n",
       "      <td>4</td>\n",
       "      <td>0</td>\n",
       "      <td>340266.072047</td>\n",
       "      <td>53</td>\n",
       "      <td>среднее</td>\n",
       "      <td>1</td>\n",
       "      <td>гражданский брак</td>\n",
       "      <td>1</td>\n",
       "      <td>F</td>\n",
       "      <td>пенсионер</td>\n",
       "      <td>0</td>\n",
       "      <td>158616.077870</td>\n",
       "      <td>сыграть свадьбу</td>\n",
       "    </tr>\n",
       "  </tbody>\n",
       "</table>\n",
       "</div>"
      ],
      "text/plain": [
       "   children  days_employed  dob_years education  education_id  \\\n",
       "0         1   -8437.673028         42    высшее             0   \n",
       "1         1   -4024.803754         36   среднее             1   \n",
       "2         0   -5623.422610         33   Среднее             1   \n",
       "3         3   -4124.747207         32   среднее             1   \n",
       "4         0  340266.072047         53   среднее             1   \n",
       "\n",
       "      family_status  family_status_id gender income_type  debt   total_income  \\\n",
       "0   женат / замужем                 0      F   сотрудник     0  253875.639453   \n",
       "1   женат / замужем                 0      F   сотрудник     0  112080.014102   \n",
       "2   женат / замужем                 0      M   сотрудник     0  145885.952297   \n",
       "3   женат / замужем                 0      M   сотрудник     0  267628.550329   \n",
       "4  гражданский брак                 1      F   пенсионер     0  158616.077870   \n",
       "\n",
       "                      purpose  \n",
       "0               покупка жилья  \n",
       "1     приобретение автомобиля  \n",
       "2               покупка жилья  \n",
       "3  дополнительное образование  \n",
       "4             сыграть свадьбу  "
      ]
     },
     "execution_count": 2,
     "metadata": {},
     "output_type": "execute_result"
    }
   ],
   "source": [
    "# открываем файл с данными сохраняем в df, смотрим первые строки\n",
    "df = pd.read_csv('data.csv')\n",
    "df.head()"
   ]
  },
  {
   "cell_type": "code",
   "execution_count": 3,
   "metadata": {},
   "outputs": [
    {
     "data": {
      "text/html": [
       "<div>\n",
       "<style scoped>\n",
       "    .dataframe tbody tr th:only-of-type {\n",
       "        vertical-align: middle;\n",
       "    }\n",
       "\n",
       "    .dataframe tbody tr th {\n",
       "        vertical-align: top;\n",
       "    }\n",
       "\n",
       "    .dataframe thead th {\n",
       "        text-align: right;\n",
       "    }\n",
       "</style>\n",
       "<table border=\"1\" class=\"dataframe\">\n",
       "  <thead>\n",
       "    <tr style=\"text-align: right;\">\n",
       "      <th></th>\n",
       "      <th>children</th>\n",
       "      <th>days_employed</th>\n",
       "      <th>dob_years</th>\n",
       "      <th>education</th>\n",
       "      <th>education_id</th>\n",
       "      <th>family_status</th>\n",
       "      <th>family_status_id</th>\n",
       "      <th>gender</th>\n",
       "      <th>income_type</th>\n",
       "      <th>debt</th>\n",
       "      <th>total_income</th>\n",
       "      <th>purpose</th>\n",
       "    </tr>\n",
       "  </thead>\n",
       "  <tbody>\n",
       "    <tr>\n",
       "      <td>21520</td>\n",
       "      <td>1</td>\n",
       "      <td>-4529.316663</td>\n",
       "      <td>43</td>\n",
       "      <td>среднее</td>\n",
       "      <td>1</td>\n",
       "      <td>гражданский брак</td>\n",
       "      <td>1</td>\n",
       "      <td>F</td>\n",
       "      <td>компаньон</td>\n",
       "      <td>0</td>\n",
       "      <td>224791.862382</td>\n",
       "      <td>операции с жильем</td>\n",
       "    </tr>\n",
       "    <tr>\n",
       "      <td>21521</td>\n",
       "      <td>0</td>\n",
       "      <td>343937.404131</td>\n",
       "      <td>67</td>\n",
       "      <td>среднее</td>\n",
       "      <td>1</td>\n",
       "      <td>женат / замужем</td>\n",
       "      <td>0</td>\n",
       "      <td>F</td>\n",
       "      <td>пенсионер</td>\n",
       "      <td>0</td>\n",
       "      <td>155999.806512</td>\n",
       "      <td>сделка с автомобилем</td>\n",
       "    </tr>\n",
       "    <tr>\n",
       "      <td>21522</td>\n",
       "      <td>1</td>\n",
       "      <td>-2113.346888</td>\n",
       "      <td>38</td>\n",
       "      <td>среднее</td>\n",
       "      <td>1</td>\n",
       "      <td>гражданский брак</td>\n",
       "      <td>1</td>\n",
       "      <td>M</td>\n",
       "      <td>сотрудник</td>\n",
       "      <td>1</td>\n",
       "      <td>89672.561153</td>\n",
       "      <td>недвижимость</td>\n",
       "    </tr>\n",
       "    <tr>\n",
       "      <td>21523</td>\n",
       "      <td>3</td>\n",
       "      <td>-3112.481705</td>\n",
       "      <td>38</td>\n",
       "      <td>среднее</td>\n",
       "      <td>1</td>\n",
       "      <td>женат / замужем</td>\n",
       "      <td>0</td>\n",
       "      <td>M</td>\n",
       "      <td>сотрудник</td>\n",
       "      <td>1</td>\n",
       "      <td>244093.050500</td>\n",
       "      <td>на покупку своего автомобиля</td>\n",
       "    </tr>\n",
       "    <tr>\n",
       "      <td>21524</td>\n",
       "      <td>2</td>\n",
       "      <td>-1984.507589</td>\n",
       "      <td>40</td>\n",
       "      <td>среднее</td>\n",
       "      <td>1</td>\n",
       "      <td>женат / замужем</td>\n",
       "      <td>0</td>\n",
       "      <td>F</td>\n",
       "      <td>сотрудник</td>\n",
       "      <td>0</td>\n",
       "      <td>82047.418899</td>\n",
       "      <td>на покупку автомобиля</td>\n",
       "    </tr>\n",
       "  </tbody>\n",
       "</table>\n",
       "</div>"
      ],
      "text/plain": [
       "       children  days_employed  dob_years education  education_id  \\\n",
       "21520         1   -4529.316663         43   среднее             1   \n",
       "21521         0  343937.404131         67   среднее             1   \n",
       "21522         1   -2113.346888         38   среднее             1   \n",
       "21523         3   -3112.481705         38   среднее             1   \n",
       "21524         2   -1984.507589         40   среднее             1   \n",
       "\n",
       "          family_status  family_status_id gender income_type  debt  \\\n",
       "21520  гражданский брак                 1      F   компаньон     0   \n",
       "21521   женат / замужем                 0      F   пенсионер     0   \n",
       "21522  гражданский брак                 1      M   сотрудник     1   \n",
       "21523   женат / замужем                 0      M   сотрудник     1   \n",
       "21524   женат / замужем                 0      F   сотрудник     0   \n",
       "\n",
       "        total_income                       purpose  \n",
       "21520  224791.862382             операции с жильем  \n",
       "21521  155999.806512          сделка с автомобилем  \n",
       "21522   89672.561153                  недвижимость  \n",
       "21523  244093.050500  на покупку своего автомобиля  \n",
       "21524   82047.418899         на покупку автомобиля  "
      ]
     },
     "execution_count": 3,
     "metadata": {},
     "output_type": "execute_result"
    }
   ],
   "source": [
    "# смотрим последние строки\n",
    "df.tail()"
   ]
  },
  {
   "cell_type": "code",
   "execution_count": 4,
   "metadata": {},
   "outputs": [
    {
     "name": "stdout",
     "output_type": "stream",
     "text": [
      "<class 'pandas.core.frame.DataFrame'>\n",
      "RangeIndex: 21525 entries, 0 to 21524\n",
      "Data columns (total 12 columns):\n",
      "children            21525 non-null int64\n",
      "days_employed       19351 non-null float64\n",
      "dob_years           21525 non-null int64\n",
      "education           21525 non-null object\n",
      "education_id        21525 non-null int64\n",
      "family_status       21525 non-null object\n",
      "family_status_id    21525 non-null int64\n",
      "gender              21525 non-null object\n",
      "income_type         21525 non-null object\n",
      "debt                21525 non-null int64\n",
      "total_income        19351 non-null float64\n",
      "purpose             21525 non-null object\n",
      "dtypes: float64(2), int64(5), object(5)\n",
      "memory usage: 2.0+ MB\n"
     ]
    }
   ],
   "source": [
    "# смотрим общую информацию о таблице\n",
    "df.info()"
   ]
  },
  {
   "cell_type": "markdown",
   "metadata": {},
   "source": [
    "**Вывод**  \n",
    "\n",
    "В таблице 12 столбцов с разным типом данных. Согласно документации: \n",
    "\n",
    "* `children` — количество детей в семье;\n",
    "* `days_employed` — общий трудовой стаж в днях;\n",
    "* `dob_years` — возраст клиента в годах;\n",
    "* `education` — уровень образования клиента;\n",
    "* `education_id` — идентификатор уровня образования;\n",
    "* `family_status` — семейное положение;\n",
    "* `family_status_id` — идентификатор семейного положения;\n",
    "* `gender` — пол клиента;\n",
    "* `income_type` — тип занятости;\n",
    "* `debt` — имел ли задолженность по возврату кредитов;\n",
    "* `total_income` — ежемесячный доход;\n",
    "* `purpose` — цель получения кредита\n",
    "\n",
    "По полученным данным  видно, что количество значений в столбцах различается, есть пропуски в столбцах `days_employed` и `total_income`\n",
    "\n",
    "Все колоноки описывают заёмщика: его доход, стаж, какого он пола, есть ли у него дети и сколько, были ли задолженности по кредиту.\n",
    "\n",
    "Предварительно можно утверждать, что, данных достаточно для решения поставленной задачи. Чтобы двигаться дальше, нужно устранить проблемы в данных.\n"
   ]
  },
  {
   "cell_type": "markdown",
   "metadata": {},
   "source": [
    "## Предобработка данных"
   ]
  },
  {
   "cell_type": "markdown",
   "metadata": {},
   "source": [
    "### Обработка пропусков"
   ]
  },
  {
   "cell_type": "code",
   "execution_count": 5,
   "metadata": {
    "scrolled": false
   },
   "outputs": [
    {
     "data": {
      "text/plain": [
       "children               0\n",
       "days_employed       2174\n",
       "dob_years              0\n",
       "education              0\n",
       "education_id           0\n",
       "family_status          0\n",
       "family_status_id       0\n",
       "gender                 0\n",
       "income_type            0\n",
       "debt                   0\n",
       "total_income        2174\n",
       "purpose                0\n",
       "dtype: int64"
      ]
     },
     "execution_count": 5,
     "metadata": {},
     "output_type": "execute_result"
    }
   ],
   "source": [
    "# подсчёт пропусков\n",
    "df.isna().sum()"
   ]
  },
  {
   "cell_type": "markdown",
   "metadata": {},
   "source": [
    "Пропуски имеются  в столбцах `days_employed` и  `total_income`. В столбце `days_employed`наблюдаются аномалии - отрицательные значения, и сильно большие значения. В документации к таблице указано, что в этом столбце данные об общем трудовом стаже в днях. Предположительно отрицательные значения могли получиться из разницы даты начала работы и даты окончания работы или по текущую дату,  положительные числа совсем большие, если перевести эти числа из дней в года, то получается стаж на много больше чем возраст человека, скорее всего эти данные ошибочные. Для решения поставленной задачи  столбец со стажем  не нужен, поэтому из анализа его лучше исключить.\n",
    "\n",
    "Столбец `total_income`  содержит в себе данные о ежемесечном доходе, данные будут необходимы для решения задачи, поэтому \n",
    "пропуски лучше заменить медианным значением.\n",
    "\n",
    "Установить причину пропусков сейчас невозможно, предположительно пропуски образовались из-за того, что заёмщик не указал эти данные."
   ]
  },
  {
   "cell_type": "code",
   "execution_count": 6,
   "metadata": {
    "scrolled": false
   },
   "outputs": [],
   "source": [
    "# заменяем пропуски в доходе медианными значениями по типу занятости\n",
    "df['total_income'] = df['total_income'].fillna(df.groupby('income_type')['total_income'].transform('median'))"
   ]
  },
  {
   "cell_type": "code",
   "execution_count": 7,
   "metadata": {},
   "outputs": [],
   "source": [
    "# удаляем столбец days_employed из таблицы\n",
    "del df['days_employed']"
   ]
  },
  {
   "cell_type": "code",
   "execution_count": 8,
   "metadata": {
    "scrolled": false
   },
   "outputs": [
    {
     "data": {
      "text/plain": [
       "children            0\n",
       "dob_years           0\n",
       "education           0\n",
       "education_id        0\n",
       "family_status       0\n",
       "family_status_id    0\n",
       "gender              0\n",
       "income_type         0\n",
       "debt                0\n",
       "total_income        0\n",
       "purpose             0\n",
       "dtype: int64"
      ]
     },
     "execution_count": 8,
     "metadata": {},
     "output_type": "execute_result"
    }
   ],
   "source": [
    "# проверяем пропуски\n",
    "df.isna().sum()"
   ]
  },
  {
   "cell_type": "markdown",
   "metadata": {},
   "source": [
    "Пропусков в таблице не осталось."
   ]
  },
  {
   "cell_type": "markdown",
   "metadata": {},
   "source": [
    "### Проверка на аномалии"
   ]
  },
  {
   "cell_type": "code",
   "execution_count": 9,
   "metadata": {
    "scrolled": true
   },
   "outputs": [
    {
     "data": {
      "text/html": [
       "<div>\n",
       "<style scoped>\n",
       "    .dataframe tbody tr th:only-of-type {\n",
       "        vertical-align: middle;\n",
       "    }\n",
       "\n",
       "    .dataframe tbody tr th {\n",
       "        vertical-align: top;\n",
       "    }\n",
       "\n",
       "    .dataframe thead th {\n",
       "        text-align: right;\n",
       "    }\n",
       "</style>\n",
       "<table border=\"1\" class=\"dataframe\">\n",
       "  <thead>\n",
       "    <tr style=\"text-align: right;\">\n",
       "      <th></th>\n",
       "      <th>children</th>\n",
       "      <th>dob_years</th>\n",
       "      <th>education_id</th>\n",
       "      <th>family_status_id</th>\n",
       "      <th>debt</th>\n",
       "      <th>total_income</th>\n",
       "    </tr>\n",
       "  </thead>\n",
       "  <tbody>\n",
       "    <tr>\n",
       "      <td>count</td>\n",
       "      <td>21525.000000</td>\n",
       "      <td>21525.000000</td>\n",
       "      <td>21525.000000</td>\n",
       "      <td>21525.000000</td>\n",
       "      <td>21525.000000</td>\n",
       "      <td>2.152500e+04</td>\n",
       "    </tr>\n",
       "    <tr>\n",
       "      <td>mean</td>\n",
       "      <td>0.538908</td>\n",
       "      <td>43.293380</td>\n",
       "      <td>0.817236</td>\n",
       "      <td>0.972544</td>\n",
       "      <td>0.080883</td>\n",
       "      <td>1.652253e+05</td>\n",
       "    </tr>\n",
       "    <tr>\n",
       "      <td>std</td>\n",
       "      <td>1.381587</td>\n",
       "      <td>12.574584</td>\n",
       "      <td>0.548138</td>\n",
       "      <td>1.420324</td>\n",
       "      <td>0.272661</td>\n",
       "      <td>9.804367e+04</td>\n",
       "    </tr>\n",
       "    <tr>\n",
       "      <td>min</td>\n",
       "      <td>-1.000000</td>\n",
       "      <td>0.000000</td>\n",
       "      <td>0.000000</td>\n",
       "      <td>0.000000</td>\n",
       "      <td>0.000000</td>\n",
       "      <td>2.066726e+04</td>\n",
       "    </tr>\n",
       "    <tr>\n",
       "      <td>25%</td>\n",
       "      <td>0.000000</td>\n",
       "      <td>33.000000</td>\n",
       "      <td>1.000000</td>\n",
       "      <td>0.000000</td>\n",
       "      <td>0.000000</td>\n",
       "      <td>1.077982e+05</td>\n",
       "    </tr>\n",
       "    <tr>\n",
       "      <td>50%</td>\n",
       "      <td>0.000000</td>\n",
       "      <td>42.000000</td>\n",
       "      <td>1.000000</td>\n",
       "      <td>0.000000</td>\n",
       "      <td>0.000000</td>\n",
       "      <td>1.425944e+05</td>\n",
       "    </tr>\n",
       "    <tr>\n",
       "      <td>75%</td>\n",
       "      <td>1.000000</td>\n",
       "      <td>53.000000</td>\n",
       "      <td>1.000000</td>\n",
       "      <td>1.000000</td>\n",
       "      <td>0.000000</td>\n",
       "      <td>1.955499e+05</td>\n",
       "    </tr>\n",
       "    <tr>\n",
       "      <td>max</td>\n",
       "      <td>20.000000</td>\n",
       "      <td>75.000000</td>\n",
       "      <td>4.000000</td>\n",
       "      <td>4.000000</td>\n",
       "      <td>1.000000</td>\n",
       "      <td>2.265604e+06</td>\n",
       "    </tr>\n",
       "  </tbody>\n",
       "</table>\n",
       "</div>"
      ],
      "text/plain": [
       "           children     dob_years  education_id  family_status_id  \\\n",
       "count  21525.000000  21525.000000  21525.000000      21525.000000   \n",
       "mean       0.538908     43.293380      0.817236          0.972544   \n",
       "std        1.381587     12.574584      0.548138          1.420324   \n",
       "min       -1.000000      0.000000      0.000000          0.000000   \n",
       "25%        0.000000     33.000000      1.000000          0.000000   \n",
       "50%        0.000000     42.000000      1.000000          0.000000   \n",
       "75%        1.000000     53.000000      1.000000          1.000000   \n",
       "max       20.000000     75.000000      4.000000          4.000000   \n",
       "\n",
       "               debt  total_income  \n",
       "count  21525.000000  2.152500e+04  \n",
       "mean       0.080883  1.652253e+05  \n",
       "std        0.272661  9.804367e+04  \n",
       "min        0.000000  2.066726e+04  \n",
       "25%        0.000000  1.077982e+05  \n",
       "50%        0.000000  1.425944e+05  \n",
       "75%        0.000000  1.955499e+05  \n",
       "max        1.000000  2.265604e+06  "
      ]
     },
     "execution_count": 9,
     "metadata": {},
     "output_type": "execute_result"
    }
   ],
   "source": [
    "# смотрим минимальные и максимальные значения в столбцах\n",
    "df.describe()"
   ]
  },
  {
   "cell_type": "markdown",
   "metadata": {},
   "source": [
    "#### Столбец dob_years"
   ]
  },
  {
   "cell_type": "markdown",
   "metadata": {},
   "source": [
    "В столбце `dob_years` имеются нулевые значение. Посмотрим на эти значения детальнее. "
   ]
  },
  {
   "cell_type": "code",
   "execution_count": 10,
   "metadata": {},
   "outputs": [
    {
     "data": {
      "text/plain": [
       "101"
      ]
     },
     "execution_count": 10,
     "metadata": {},
     "output_type": "execute_result"
    }
   ],
   "source": [
    "#  проверяем количество нулевых значений в столбце dob_years\n",
    "df[df['dob_years'] == 0]['dob_years'].count()"
   ]
  },
  {
   "cell_type": "code",
   "execution_count": 11,
   "metadata": {},
   "outputs": [
    {
     "data": {
      "text/html": [
       "<div>\n",
       "<style scoped>\n",
       "    .dataframe tbody tr th:only-of-type {\n",
       "        vertical-align: middle;\n",
       "    }\n",
       "\n",
       "    .dataframe tbody tr th {\n",
       "        vertical-align: top;\n",
       "    }\n",
       "\n",
       "    .dataframe thead th {\n",
       "        text-align: right;\n",
       "    }\n",
       "</style>\n",
       "<table border=\"1\" class=\"dataframe\">\n",
       "  <thead>\n",
       "    <tr style=\"text-align: right;\">\n",
       "      <th></th>\n",
       "      <th>children</th>\n",
       "      <th>dob_years</th>\n",
       "      <th>education</th>\n",
       "      <th>education_id</th>\n",
       "      <th>family_status</th>\n",
       "      <th>family_status_id</th>\n",
       "      <th>gender</th>\n",
       "      <th>income_type</th>\n",
       "      <th>debt</th>\n",
       "      <th>total_income</th>\n",
       "      <th>purpose</th>\n",
       "    </tr>\n",
       "  </thead>\n",
       "  <tbody>\n",
       "    <tr>\n",
       "      <td>99</td>\n",
       "      <td>0</td>\n",
       "      <td>0</td>\n",
       "      <td>Среднее</td>\n",
       "      <td>1</td>\n",
       "      <td>женат / замужем</td>\n",
       "      <td>0</td>\n",
       "      <td>F</td>\n",
       "      <td>пенсионер</td>\n",
       "      <td>0</td>\n",
       "      <td>71291.522491</td>\n",
       "      <td>автомобиль</td>\n",
       "    </tr>\n",
       "    <tr>\n",
       "      <td>149</td>\n",
       "      <td>0</td>\n",
       "      <td>0</td>\n",
       "      <td>среднее</td>\n",
       "      <td>1</td>\n",
       "      <td>в разводе</td>\n",
       "      <td>3</td>\n",
       "      <td>F</td>\n",
       "      <td>сотрудник</td>\n",
       "      <td>0</td>\n",
       "      <td>70176.435951</td>\n",
       "      <td>операции с жильем</td>\n",
       "    </tr>\n",
       "    <tr>\n",
       "      <td>270</td>\n",
       "      <td>3</td>\n",
       "      <td>0</td>\n",
       "      <td>среднее</td>\n",
       "      <td>1</td>\n",
       "      <td>женат / замужем</td>\n",
       "      <td>0</td>\n",
       "      <td>F</td>\n",
       "      <td>сотрудник</td>\n",
       "      <td>0</td>\n",
       "      <td>102166.458894</td>\n",
       "      <td>ремонт жилью</td>\n",
       "    </tr>\n",
       "    <tr>\n",
       "      <td>578</td>\n",
       "      <td>0</td>\n",
       "      <td>0</td>\n",
       "      <td>среднее</td>\n",
       "      <td>1</td>\n",
       "      <td>женат / замужем</td>\n",
       "      <td>0</td>\n",
       "      <td>F</td>\n",
       "      <td>пенсионер</td>\n",
       "      <td>0</td>\n",
       "      <td>97620.687042</td>\n",
       "      <td>строительство собственной недвижимости</td>\n",
       "    </tr>\n",
       "    <tr>\n",
       "      <td>1040</td>\n",
       "      <td>0</td>\n",
       "      <td>0</td>\n",
       "      <td>высшее</td>\n",
       "      <td>0</td>\n",
       "      <td>в разводе</td>\n",
       "      <td>3</td>\n",
       "      <td>F</td>\n",
       "      <td>компаньон</td>\n",
       "      <td>0</td>\n",
       "      <td>303994.134987</td>\n",
       "      <td>свой автомобиль</td>\n",
       "    </tr>\n",
       "    <tr>\n",
       "      <td>1149</td>\n",
       "      <td>0</td>\n",
       "      <td>0</td>\n",
       "      <td>среднее</td>\n",
       "      <td>1</td>\n",
       "      <td>женат / замужем</td>\n",
       "      <td>0</td>\n",
       "      <td>F</td>\n",
       "      <td>компаньон</td>\n",
       "      <td>0</td>\n",
       "      <td>201852.430096</td>\n",
       "      <td>покупка недвижимости</td>\n",
       "    </tr>\n",
       "    <tr>\n",
       "      <td>1175</td>\n",
       "      <td>0</td>\n",
       "      <td>0</td>\n",
       "      <td>среднее</td>\n",
       "      <td>1</td>\n",
       "      <td>женат / замужем</td>\n",
       "      <td>0</td>\n",
       "      <td>F</td>\n",
       "      <td>пенсионер</td>\n",
       "      <td>0</td>\n",
       "      <td>313949.845188</td>\n",
       "      <td>получение дополнительного образования</td>\n",
       "    </tr>\n",
       "    <tr>\n",
       "      <td>1386</td>\n",
       "      <td>0</td>\n",
       "      <td>0</td>\n",
       "      <td>высшее</td>\n",
       "      <td>0</td>\n",
       "      <td>женат / замужем</td>\n",
       "      <td>0</td>\n",
       "      <td>M</td>\n",
       "      <td>госслужащий</td>\n",
       "      <td>0</td>\n",
       "      <td>240523.618071</td>\n",
       "      <td>сделка с автомобилем</td>\n",
       "    </tr>\n",
       "    <tr>\n",
       "      <td>1890</td>\n",
       "      <td>0</td>\n",
       "      <td>0</td>\n",
       "      <td>высшее</td>\n",
       "      <td>0</td>\n",
       "      <td>Не женат / не замужем</td>\n",
       "      <td>4</td>\n",
       "      <td>F</td>\n",
       "      <td>сотрудник</td>\n",
       "      <td>0</td>\n",
       "      <td>142594.396847</td>\n",
       "      <td>жилье</td>\n",
       "    </tr>\n",
       "    <tr>\n",
       "      <td>1898</td>\n",
       "      <td>0</td>\n",
       "      <td>0</td>\n",
       "      <td>среднее</td>\n",
       "      <td>1</td>\n",
       "      <td>вдовец / вдова</td>\n",
       "      <td>2</td>\n",
       "      <td>F</td>\n",
       "      <td>пенсионер</td>\n",
       "      <td>0</td>\n",
       "      <td>127400.268338</td>\n",
       "      <td>на покупку автомобиля</td>\n",
       "    </tr>\n",
       "  </tbody>\n",
       "</table>\n",
       "</div>"
      ],
      "text/plain": [
       "      children  dob_years education  education_id          family_status  \\\n",
       "99           0          0   Среднее             1        женат / замужем   \n",
       "149          0          0   среднее             1              в разводе   \n",
       "270          3          0   среднее             1        женат / замужем   \n",
       "578          0          0   среднее             1        женат / замужем   \n",
       "1040         0          0    высшее             0              в разводе   \n",
       "1149         0          0   среднее             1        женат / замужем   \n",
       "1175         0          0   среднее             1        женат / замужем   \n",
       "1386         0          0    высшее             0        женат / замужем   \n",
       "1890         0          0    высшее             0  Не женат / не замужем   \n",
       "1898         0          0   среднее             1         вдовец / вдова   \n",
       "\n",
       "      family_status_id gender  income_type  debt   total_income  \\\n",
       "99                   0      F    пенсионер     0   71291.522491   \n",
       "149                  3      F    сотрудник     0   70176.435951   \n",
       "270                  0      F    сотрудник     0  102166.458894   \n",
       "578                  0      F    пенсионер     0   97620.687042   \n",
       "1040                 3      F    компаньон     0  303994.134987   \n",
       "1149                 0      F    компаньон     0  201852.430096   \n",
       "1175                 0      F    пенсионер     0  313949.845188   \n",
       "1386                 0      M  госслужащий     0  240523.618071   \n",
       "1890                 4      F    сотрудник     0  142594.396847   \n",
       "1898                 2      F    пенсионер     0  127400.268338   \n",
       "\n",
       "                                     purpose  \n",
       "99                                автомобиль  \n",
       "149                        операции с жильем  \n",
       "270                             ремонт жилью  \n",
       "578   строительство собственной недвижимости  \n",
       "1040                         свой автомобиль  \n",
       "1149                    покупка недвижимости  \n",
       "1175   получение дополнительного образования  \n",
       "1386                    сделка с автомобилем  \n",
       "1890                                   жилье  \n",
       "1898                   на покупку автомобиля  "
      ]
     },
     "execution_count": 11,
     "metadata": {},
     "output_type": "execute_result"
    }
   ],
   "source": [
    "# смотрим строки с нулевым значением в возрасте\n",
    "df[df['dob_years'] == 0].head(10)"
   ]
  },
  {
   "cell_type": "markdown",
   "metadata": {},
   "source": [
    "Возраст не указан в 101 строке, это 0,5% от общего количества строк, по таблице видим, что нулевые значения полностью случайны, вероятно, клиент не указал эти данные о себе. Для решения поставленной задачи столбец с возрастом не пригодится. Эти строки убирать из таблицы не будем, так как пропадут значения из других столбцов, нужные для анализа. Менять значения на другие нет необходимости в рамках поставленной задачи."
   ]
  },
  {
   "cell_type": "markdown",
   "metadata": {},
   "source": [
    "#### Столбец children"
   ]
  },
  {
   "cell_type": "markdown",
   "metadata": {},
   "source": [
    "В столбце `children` имеются аномальные значения. Значение \"-1\" невозможно, оно однозначно не верное. Предположительно ошибка образовалась из-за неверного внесения данных заёмщиком. Проверим сколько таких значений и есть ли какие-либо ещё аномалии в этом столбце."
   ]
  },
  {
   "cell_type": "code",
   "execution_count": 12,
   "metadata": {},
   "outputs": [
    {
     "data": {
      "text/plain": [
       "array([ 1,  0,  3,  2, -1,  4, 20,  5], dtype=int64)"
      ]
     },
     "execution_count": 12,
     "metadata": {},
     "output_type": "execute_result"
    }
   ],
   "source": [
    "# проверяем уникальные значения в столбце children\n",
    "df['children'].unique()"
   ]
  },
  {
   "cell_type": "markdown",
   "metadata": {},
   "source": [
    "По полученным данным наблюдаем, что промежуток между 5 детьми и 20 очень большой. Даже если предположить, что у кого-то 20 детей, что вполне возможно, возникает вопрос почему нет других значений между \"5\" и \"20\", вероятнее всего значение \"20\" как и \"-1\" ошибочные. Вероятность опечаток крайне мала, поскольку не встречаются другие подобные ошибочные значения типа \"-2\" и \"30\". Желательно запросить информацию у поставщиков исходных данных."
   ]
  },
  {
   "cell_type": "code",
   "execution_count": 13,
   "metadata": {
    "scrolled": true
   },
   "outputs": [
    {
     "name": "stdout",
     "output_type": "stream",
     "text": [
      "Количество значений \"-1\": 47\n",
      "Количество значений \"20\": 76\n"
     ]
    }
   ],
   "source": [
    "#проверяем количество аномальных значений в столбце\n",
    "print('Количество значений \"-1\":', df[df['children'] == -1]['children'].count())\n",
    "print('Количество значений \"20\":', df[df['children'] == 20]['children'].count())"
   ]
  },
  {
   "cell_type": "code",
   "execution_count": 14,
   "metadata": {},
   "outputs": [
    {
     "data": {
      "text/html": [
       "<div>\n",
       "<style scoped>\n",
       "    .dataframe tbody tr th:only-of-type {\n",
       "        vertical-align: middle;\n",
       "    }\n",
       "\n",
       "    .dataframe tbody tr th {\n",
       "        vertical-align: top;\n",
       "    }\n",
       "\n",
       "    .dataframe thead th {\n",
       "        text-align: right;\n",
       "    }\n",
       "</style>\n",
       "<table border=\"1\" class=\"dataframe\">\n",
       "  <thead>\n",
       "    <tr style=\"text-align: right;\">\n",
       "      <th></th>\n",
       "      <th>children</th>\n",
       "      <th>dob_years</th>\n",
       "      <th>education</th>\n",
       "      <th>education_id</th>\n",
       "      <th>family_status</th>\n",
       "      <th>family_status_id</th>\n",
       "      <th>gender</th>\n",
       "      <th>income_type</th>\n",
       "      <th>debt</th>\n",
       "      <th>total_income</th>\n",
       "      <th>purpose</th>\n",
       "    </tr>\n",
       "  </thead>\n",
       "  <tbody>\n",
       "    <tr>\n",
       "      <td>291</td>\n",
       "      <td>-1</td>\n",
       "      <td>46</td>\n",
       "      <td>среднее</td>\n",
       "      <td>1</td>\n",
       "      <td>гражданский брак</td>\n",
       "      <td>1</td>\n",
       "      <td>F</td>\n",
       "      <td>сотрудник</td>\n",
       "      <td>0</td>\n",
       "      <td>102816.346412</td>\n",
       "      <td>профильное образование</td>\n",
       "    </tr>\n",
       "    <tr>\n",
       "      <td>705</td>\n",
       "      <td>-1</td>\n",
       "      <td>50</td>\n",
       "      <td>среднее</td>\n",
       "      <td>1</td>\n",
       "      <td>женат / замужем</td>\n",
       "      <td>0</td>\n",
       "      <td>F</td>\n",
       "      <td>госслужащий</td>\n",
       "      <td>0</td>\n",
       "      <td>137882.899271</td>\n",
       "      <td>приобретение автомобиля</td>\n",
       "    </tr>\n",
       "    <tr>\n",
       "      <td>742</td>\n",
       "      <td>-1</td>\n",
       "      <td>57</td>\n",
       "      <td>среднее</td>\n",
       "      <td>1</td>\n",
       "      <td>женат / замужем</td>\n",
       "      <td>0</td>\n",
       "      <td>F</td>\n",
       "      <td>сотрудник</td>\n",
       "      <td>0</td>\n",
       "      <td>64268.044444</td>\n",
       "      <td>дополнительное образование</td>\n",
       "    </tr>\n",
       "    <tr>\n",
       "      <td>800</td>\n",
       "      <td>-1</td>\n",
       "      <td>54</td>\n",
       "      <td>среднее</td>\n",
       "      <td>1</td>\n",
       "      <td>Не женат / не замужем</td>\n",
       "      <td>4</td>\n",
       "      <td>F</td>\n",
       "      <td>пенсионер</td>\n",
       "      <td>0</td>\n",
       "      <td>86293.724153</td>\n",
       "      <td>дополнительное образование</td>\n",
       "    </tr>\n",
       "    <tr>\n",
       "      <td>941</td>\n",
       "      <td>-1</td>\n",
       "      <td>57</td>\n",
       "      <td>Среднее</td>\n",
       "      <td>1</td>\n",
       "      <td>женат / замужем</td>\n",
       "      <td>0</td>\n",
       "      <td>F</td>\n",
       "      <td>пенсионер</td>\n",
       "      <td>0</td>\n",
       "      <td>118514.486412</td>\n",
       "      <td>на покупку своего автомобиля</td>\n",
       "    </tr>\n",
       "    <tr>\n",
       "      <td>1363</td>\n",
       "      <td>-1</td>\n",
       "      <td>55</td>\n",
       "      <td>СРЕДНЕЕ</td>\n",
       "      <td>1</td>\n",
       "      <td>женат / замужем</td>\n",
       "      <td>0</td>\n",
       "      <td>F</td>\n",
       "      <td>компаньон</td>\n",
       "      <td>0</td>\n",
       "      <td>69550.699692</td>\n",
       "      <td>профильное образование</td>\n",
       "    </tr>\n",
       "    <tr>\n",
       "      <td>1929</td>\n",
       "      <td>-1</td>\n",
       "      <td>38</td>\n",
       "      <td>среднее</td>\n",
       "      <td>1</td>\n",
       "      <td>Не женат / не замужем</td>\n",
       "      <td>4</td>\n",
       "      <td>M</td>\n",
       "      <td>сотрудник</td>\n",
       "      <td>0</td>\n",
       "      <td>109121.569013</td>\n",
       "      <td>покупка жилья</td>\n",
       "    </tr>\n",
       "    <tr>\n",
       "      <td>2073</td>\n",
       "      <td>-1</td>\n",
       "      <td>42</td>\n",
       "      <td>среднее</td>\n",
       "      <td>1</td>\n",
       "      <td>в разводе</td>\n",
       "      <td>3</td>\n",
       "      <td>F</td>\n",
       "      <td>компаньон</td>\n",
       "      <td>0</td>\n",
       "      <td>162638.609373</td>\n",
       "      <td>покупка жилья</td>\n",
       "    </tr>\n",
       "    <tr>\n",
       "      <td>3814</td>\n",
       "      <td>-1</td>\n",
       "      <td>26</td>\n",
       "      <td>Среднее</td>\n",
       "      <td>1</td>\n",
       "      <td>гражданский брак</td>\n",
       "      <td>1</td>\n",
       "      <td>F</td>\n",
       "      <td>госслужащий</td>\n",
       "      <td>0</td>\n",
       "      <td>131892.785435</td>\n",
       "      <td>на проведение свадьбы</td>\n",
       "    </tr>\n",
       "    <tr>\n",
       "      <td>4201</td>\n",
       "      <td>-1</td>\n",
       "      <td>41</td>\n",
       "      <td>среднее</td>\n",
       "      <td>1</td>\n",
       "      <td>женат / замужем</td>\n",
       "      <td>0</td>\n",
       "      <td>F</td>\n",
       "      <td>госслужащий</td>\n",
       "      <td>0</td>\n",
       "      <td>226375.766751</td>\n",
       "      <td>операции со своей недвижимостью</td>\n",
       "    </tr>\n",
       "  </tbody>\n",
       "</table>\n",
       "</div>"
      ],
      "text/plain": [
       "      children  dob_years education  education_id          family_status  \\\n",
       "291         -1         46   среднее             1       гражданский брак   \n",
       "705         -1         50   среднее             1        женат / замужем   \n",
       "742         -1         57   среднее             1        женат / замужем   \n",
       "800         -1         54   среднее             1  Не женат / не замужем   \n",
       "941         -1         57   Среднее             1        женат / замужем   \n",
       "1363        -1         55   СРЕДНЕЕ             1        женат / замужем   \n",
       "1929        -1         38   среднее             1  Не женат / не замужем   \n",
       "2073        -1         42   среднее             1              в разводе   \n",
       "3814        -1         26   Среднее             1       гражданский брак   \n",
       "4201        -1         41   среднее             1        женат / замужем   \n",
       "\n",
       "      family_status_id gender  income_type  debt   total_income  \\\n",
       "291                  1      F    сотрудник     0  102816.346412   \n",
       "705                  0      F  госслужащий     0  137882.899271   \n",
       "742                  0      F    сотрудник     0   64268.044444   \n",
       "800                  4      F    пенсионер     0   86293.724153   \n",
       "941                  0      F    пенсионер     0  118514.486412   \n",
       "1363                 0      F    компаньон     0   69550.699692   \n",
       "1929                 4      M    сотрудник     0  109121.569013   \n",
       "2073                 3      F    компаньон     0  162638.609373   \n",
       "3814                 1      F  госслужащий     0  131892.785435   \n",
       "4201                 0      F  госслужащий     0  226375.766751   \n",
       "\n",
       "                              purpose  \n",
       "291            профильное образование  \n",
       "705           приобретение автомобиля  \n",
       "742        дополнительное образование  \n",
       "800        дополнительное образование  \n",
       "941      на покупку своего автомобиля  \n",
       "1363           профильное образование  \n",
       "1929                    покупка жилья  \n",
       "2073                    покупка жилья  \n",
       "3814            на проведение свадьбы  \n",
       "4201  операции со своей недвижимостью  "
      ]
     },
     "execution_count": 14,
     "metadata": {},
     "output_type": "execute_result"
    }
   ],
   "source": [
    "# смотрим строки со значением \"-1\"\n",
    "df[df['children'] == -1].head(10)"
   ]
  },
  {
   "cell_type": "code",
   "execution_count": 15,
   "metadata": {
    "scrolled": true
   },
   "outputs": [
    {
     "data": {
      "text/html": [
       "<div>\n",
       "<style scoped>\n",
       "    .dataframe tbody tr th:only-of-type {\n",
       "        vertical-align: middle;\n",
       "    }\n",
       "\n",
       "    .dataframe tbody tr th {\n",
       "        vertical-align: top;\n",
       "    }\n",
       "\n",
       "    .dataframe thead th {\n",
       "        text-align: right;\n",
       "    }\n",
       "</style>\n",
       "<table border=\"1\" class=\"dataframe\">\n",
       "  <thead>\n",
       "    <tr style=\"text-align: right;\">\n",
       "      <th></th>\n",
       "      <th>children</th>\n",
       "      <th>dob_years</th>\n",
       "      <th>education</th>\n",
       "      <th>education_id</th>\n",
       "      <th>family_status</th>\n",
       "      <th>family_status_id</th>\n",
       "      <th>gender</th>\n",
       "      <th>income_type</th>\n",
       "      <th>debt</th>\n",
       "      <th>total_income</th>\n",
       "      <th>purpose</th>\n",
       "    </tr>\n",
       "  </thead>\n",
       "  <tbody>\n",
       "    <tr>\n",
       "      <td>606</td>\n",
       "      <td>20</td>\n",
       "      <td>21</td>\n",
       "      <td>среднее</td>\n",
       "      <td>1</td>\n",
       "      <td>женат / замужем</td>\n",
       "      <td>0</td>\n",
       "      <td>M</td>\n",
       "      <td>компаньон</td>\n",
       "      <td>0</td>\n",
       "      <td>145334.865002</td>\n",
       "      <td>покупка жилья</td>\n",
       "    </tr>\n",
       "    <tr>\n",
       "      <td>720</td>\n",
       "      <td>20</td>\n",
       "      <td>44</td>\n",
       "      <td>среднее</td>\n",
       "      <td>1</td>\n",
       "      <td>женат / замужем</td>\n",
       "      <td>0</td>\n",
       "      <td>F</td>\n",
       "      <td>компаньон</td>\n",
       "      <td>0</td>\n",
       "      <td>112998.738649</td>\n",
       "      <td>покупка недвижимости</td>\n",
       "    </tr>\n",
       "    <tr>\n",
       "      <td>1074</td>\n",
       "      <td>20</td>\n",
       "      <td>56</td>\n",
       "      <td>среднее</td>\n",
       "      <td>1</td>\n",
       "      <td>женат / замужем</td>\n",
       "      <td>0</td>\n",
       "      <td>F</td>\n",
       "      <td>сотрудник</td>\n",
       "      <td>1</td>\n",
       "      <td>229518.537004</td>\n",
       "      <td>получение образования</td>\n",
       "    </tr>\n",
       "    <tr>\n",
       "      <td>2510</td>\n",
       "      <td>20</td>\n",
       "      <td>59</td>\n",
       "      <td>высшее</td>\n",
       "      <td>0</td>\n",
       "      <td>вдовец / вдова</td>\n",
       "      <td>2</td>\n",
       "      <td>F</td>\n",
       "      <td>сотрудник</td>\n",
       "      <td>0</td>\n",
       "      <td>264474.835577</td>\n",
       "      <td>операции с коммерческой недвижимостью</td>\n",
       "    </tr>\n",
       "    <tr>\n",
       "      <td>2941</td>\n",
       "      <td>20</td>\n",
       "      <td>0</td>\n",
       "      <td>среднее</td>\n",
       "      <td>1</td>\n",
       "      <td>женат / замужем</td>\n",
       "      <td>0</td>\n",
       "      <td>F</td>\n",
       "      <td>сотрудник</td>\n",
       "      <td>0</td>\n",
       "      <td>199739.941398</td>\n",
       "      <td>на покупку автомобиля</td>\n",
       "    </tr>\n",
       "    <tr>\n",
       "      <td>3302</td>\n",
       "      <td>20</td>\n",
       "      <td>35</td>\n",
       "      <td>среднее</td>\n",
       "      <td>1</td>\n",
       "      <td>Не женат / не замужем</td>\n",
       "      <td>4</td>\n",
       "      <td>F</td>\n",
       "      <td>госслужащий</td>\n",
       "      <td>0</td>\n",
       "      <td>150447.935283</td>\n",
       "      <td>профильное образование</td>\n",
       "    </tr>\n",
       "    <tr>\n",
       "      <td>3396</td>\n",
       "      <td>20</td>\n",
       "      <td>56</td>\n",
       "      <td>высшее</td>\n",
       "      <td>0</td>\n",
       "      <td>женат / замужем</td>\n",
       "      <td>0</td>\n",
       "      <td>F</td>\n",
       "      <td>компаньон</td>\n",
       "      <td>0</td>\n",
       "      <td>172357.950966</td>\n",
       "      <td>высшее образование</td>\n",
       "    </tr>\n",
       "    <tr>\n",
       "      <td>3671</td>\n",
       "      <td>20</td>\n",
       "      <td>23</td>\n",
       "      <td>среднее</td>\n",
       "      <td>1</td>\n",
       "      <td>Не женат / не замужем</td>\n",
       "      <td>4</td>\n",
       "      <td>F</td>\n",
       "      <td>сотрудник</td>\n",
       "      <td>0</td>\n",
       "      <td>101255.492076</td>\n",
       "      <td>на покупку подержанного автомобиля</td>\n",
       "    </tr>\n",
       "    <tr>\n",
       "      <td>3697</td>\n",
       "      <td>20</td>\n",
       "      <td>40</td>\n",
       "      <td>среднее</td>\n",
       "      <td>1</td>\n",
       "      <td>гражданский брак</td>\n",
       "      <td>1</td>\n",
       "      <td>M</td>\n",
       "      <td>сотрудник</td>\n",
       "      <td>0</td>\n",
       "      <td>115380.694664</td>\n",
       "      <td>на покупку подержанного автомобиля</td>\n",
       "    </tr>\n",
       "    <tr>\n",
       "      <td>3735</td>\n",
       "      <td>20</td>\n",
       "      <td>26</td>\n",
       "      <td>высшее</td>\n",
       "      <td>0</td>\n",
       "      <td>Не женат / не замужем</td>\n",
       "      <td>4</td>\n",
       "      <td>M</td>\n",
       "      <td>сотрудник</td>\n",
       "      <td>0</td>\n",
       "      <td>137200.646181</td>\n",
       "      <td>ремонт жилью</td>\n",
       "    </tr>\n",
       "  </tbody>\n",
       "</table>\n",
       "</div>"
      ],
      "text/plain": [
       "      children  dob_years education  education_id          family_status  \\\n",
       "606         20         21   среднее             1        женат / замужем   \n",
       "720         20         44   среднее             1        женат / замужем   \n",
       "1074        20         56   среднее             1        женат / замужем   \n",
       "2510        20         59    высшее             0         вдовец / вдова   \n",
       "2941        20          0   среднее             1        женат / замужем   \n",
       "3302        20         35   среднее             1  Не женат / не замужем   \n",
       "3396        20         56    высшее             0        женат / замужем   \n",
       "3671        20         23   среднее             1  Не женат / не замужем   \n",
       "3697        20         40   среднее             1       гражданский брак   \n",
       "3735        20         26    высшее             0  Не женат / не замужем   \n",
       "\n",
       "      family_status_id gender  income_type  debt   total_income  \\\n",
       "606                  0      M    компаньон     0  145334.865002   \n",
       "720                  0      F    компаньон     0  112998.738649   \n",
       "1074                 0      F    сотрудник     1  229518.537004   \n",
       "2510                 2      F    сотрудник     0  264474.835577   \n",
       "2941                 0      F    сотрудник     0  199739.941398   \n",
       "3302                 4      F  госслужащий     0  150447.935283   \n",
       "3396                 0      F    компаньон     0  172357.950966   \n",
       "3671                 4      F    сотрудник     0  101255.492076   \n",
       "3697                 1      M    сотрудник     0  115380.694664   \n",
       "3735                 4      M    сотрудник     0  137200.646181   \n",
       "\n",
       "                                    purpose  \n",
       "606                           покупка жилья  \n",
       "720                    покупка недвижимости  \n",
       "1074                  получение образования  \n",
       "2510  операции с коммерческой недвижимостью  \n",
       "2941                  на покупку автомобиля  \n",
       "3302                 профильное образование  \n",
       "3396                     высшее образование  \n",
       "3671     на покупку подержанного автомобиля  \n",
       "3697     на покупку подержанного автомобиля  \n",
       "3735                           ремонт жилью  "
      ]
     },
     "execution_count": 15,
     "metadata": {},
     "output_type": "execute_result"
    }
   ],
   "source": [
    "# смотрим строки со значением \"20\"\n",
    "df[df['children'] == 20].head(10)"
   ]
  },
  {
   "cell_type": "markdown",
   "metadata": {},
   "source": [
    "Исключать данные строки из анализа не корректно, так как в строках есть другие данные которые необходимы для анализа. Некорректные значения могут помешать решению поставленной задачи, поэтому заменим неверные значения на NаN."
   ]
  },
  {
   "cell_type": "code",
   "execution_count": 16,
   "metadata": {},
   "outputs": [],
   "source": [
    "#  меняем аномальные значения\n",
    "df.loc[df['children'] == 20, ['children']] = np.nan\n",
    "df.loc[df['children'] == -1, ['children']] = np.nan"
   ]
  },
  {
   "cell_type": "markdown",
   "metadata": {},
   "source": [
    "#### Столбецы education и education_id"
   ]
  },
  {
   "cell_type": "markdown",
   "metadata": {},
   "source": [
    "По полученным данным видно, что в столбце `education` значения  внесены  с разным регистром, приведем все значения к нижнему регистру."
   ]
  },
  {
   "cell_type": "code",
   "execution_count": 17,
   "metadata": {
    "scrolled": true
   },
   "outputs": [
    {
     "data": {
      "text/plain": [
       "array(['высшее', 'среднее', 'неоконченное высшее', 'начальное',\n",
       "       'ученая степень'], dtype=object)"
      ]
     },
     "execution_count": 17,
     "metadata": {},
     "output_type": "execute_result"
    }
   ],
   "source": [
    "# приводим значения в столбце к нижнему регистру, смотрим уникальные значения\n",
    "df['education'] = df['education'].str.lower()\n",
    "df['education'].unique()"
   ]
  },
  {
   "cell_type": "code",
   "execution_count": 18,
   "metadata": {},
   "outputs": [
    {
     "data": {
      "text/plain": [
       "array([0, 1, 2, 3, 4], dtype=int64)"
      ]
     },
     "execution_count": 18,
     "metadata": {},
     "output_type": "execute_result"
    }
   ],
   "source": [
    "#смотрим уникальные значения\n",
    "df['education_id'].unique()"
   ]
  },
  {
   "cell_type": "markdown",
   "metadata": {
    "scrolled": true
   },
   "source": [
    "В столбце `education` 5 уникальных значений образования, что совпадает  с количеством уникальных значений в столбце `education_id`. Предположительно, в этих колонках корректные данные, но они нам не потребуются, поэтому углубляться в анализ не будем."
   ]
  },
  {
   "cell_type": "markdown",
   "metadata": {},
   "source": [
    "#### Столбецы family_status и family_status_id"
   ]
  },
  {
   "cell_type": "code",
   "execution_count": 19,
   "metadata": {
    "scrolled": true
   },
   "outputs": [
    {
     "data": {
      "text/plain": [
       "array(['женат / замужем', 'гражданский брак', 'вдовец / вдова',\n",
       "       'в разводе', 'Не женат / не замужем'], dtype=object)"
      ]
     },
     "execution_count": 19,
     "metadata": {},
     "output_type": "execute_result"
    }
   ],
   "source": [
    "#смотрим уникальные значения\n",
    "df['family_status'].unique()"
   ]
  },
  {
   "cell_type": "code",
   "execution_count": 20,
   "metadata": {},
   "outputs": [
    {
     "data": {
      "text/plain": [
       "array([0, 1, 2, 3, 4], dtype=int64)"
      ]
     },
     "execution_count": 20,
     "metadata": {},
     "output_type": "execute_result"
    }
   ],
   "source": [
    "#смотрим уникальные значения\n",
    "df['family_status_id'].unique()"
   ]
  },
  {
   "cell_type": "markdown",
   "metadata": {},
   "source": [
    "В столбце `family_status` количество  уникальных статусов сопадает  с количеством  идентификаторов семейного положения. Аналогично предыдущему, дальше не анализируем."
   ]
  },
  {
   "cell_type": "markdown",
   "metadata": {},
   "source": [
    "#### Столбец gender"
   ]
  },
  {
   "cell_type": "code",
   "execution_count": 21,
   "metadata": {
    "scrolled": false
   },
   "outputs": [
    {
     "data": {
      "text/plain": [
       "array(['F', 'M', 'XNA'], dtype=object)"
      ]
     },
     "execution_count": 21,
     "metadata": {},
     "output_type": "execute_result"
    }
   ],
   "source": [
    "#смотрим уникальные значения\n",
    "df['gender'].unique()"
   ]
  },
  {
   "cell_type": "markdown",
   "metadata": {},
   "source": [
    "Имеется аномальное значение XNA, в столбце не указан пол заёмщика."
   ]
  },
  {
   "cell_type": "code",
   "execution_count": 22,
   "metadata": {},
   "outputs": [
    {
     "data": {
      "text/plain": [
       "1"
      ]
     },
     "execution_count": 22,
     "metadata": {},
     "output_type": "execute_result"
    }
   ],
   "source": [
    "# считаем сколько строк с аномальным значением\n",
    "df[df['gender'] == 'XNA']['gender'].count()"
   ]
  },
  {
   "cell_type": "code",
   "execution_count": 23,
   "metadata": {},
   "outputs": [
    {
     "data": {
      "text/html": [
       "<div>\n",
       "<style scoped>\n",
       "    .dataframe tbody tr th:only-of-type {\n",
       "        vertical-align: middle;\n",
       "    }\n",
       "\n",
       "    .dataframe tbody tr th {\n",
       "        vertical-align: top;\n",
       "    }\n",
       "\n",
       "    .dataframe thead th {\n",
       "        text-align: right;\n",
       "    }\n",
       "</style>\n",
       "<table border=\"1\" class=\"dataframe\">\n",
       "  <thead>\n",
       "    <tr style=\"text-align: right;\">\n",
       "      <th></th>\n",
       "      <th>children</th>\n",
       "      <th>dob_years</th>\n",
       "      <th>education</th>\n",
       "      <th>education_id</th>\n",
       "      <th>family_status</th>\n",
       "      <th>family_status_id</th>\n",
       "      <th>gender</th>\n",
       "      <th>income_type</th>\n",
       "      <th>debt</th>\n",
       "      <th>total_income</th>\n",
       "      <th>purpose</th>\n",
       "    </tr>\n",
       "  </thead>\n",
       "  <tbody>\n",
       "    <tr>\n",
       "      <td>10701</td>\n",
       "      <td>0.0</td>\n",
       "      <td>24</td>\n",
       "      <td>неоконченное высшее</td>\n",
       "      <td>2</td>\n",
       "      <td>гражданский брак</td>\n",
       "      <td>1</td>\n",
       "      <td>XNA</td>\n",
       "      <td>компаньон</td>\n",
       "      <td>0</td>\n",
       "      <td>203905.157261</td>\n",
       "      <td>покупка недвижимости</td>\n",
       "    </tr>\n",
       "  </tbody>\n",
       "</table>\n",
       "</div>"
      ],
      "text/plain": [
       "       children  dob_years            education  education_id  \\\n",
       "10701       0.0         24  неоконченное высшее             2   \n",
       "\n",
       "          family_status  family_status_id gender income_type  debt  \\\n",
       "10701  гражданский брак                 1    XNA   компаньон     0   \n",
       "\n",
       "        total_income               purpose  \n",
       "10701  203905.157261  покупка недвижимости  "
      ]
     },
     "execution_count": 23,
     "metadata": {},
     "output_type": "execute_result"
    }
   ],
   "source": [
    "#выводим на экран\n",
    "df[df['gender'] == 'XNA']"
   ]
  },
  {
   "cell_type": "markdown",
   "metadata": {},
   "source": [
    "В строке имеются другие данные необходимые для анализа, аномалий в других колонках для этой строки не наблюдается. Поскольку столбец с полом не участвует в решении поставленной задачи, не будем его изменять.\n",
    " "
   ]
  },
  {
   "cell_type": "markdown",
   "metadata": {},
   "source": [
    "#### Столбец income_type"
   ]
  },
  {
   "cell_type": "code",
   "execution_count": 24,
   "metadata": {
    "scrolled": true
   },
   "outputs": [
    {
     "data": {
      "text/plain": [
       "array(['сотрудник', 'пенсионер', 'компаньон', 'госслужащий',\n",
       "       'безработный', 'предприниматель', 'студент', 'в декрете'],\n",
       "      dtype=object)"
      ]
     },
     "execution_count": 24,
     "metadata": {},
     "output_type": "execute_result"
    }
   ],
   "source": [
    "#Смотрим уникальные значения\n",
    "df['income_type'].unique()"
   ]
  },
  {
   "cell_type": "markdown",
   "metadata": {},
   "source": [
    "Аномальных или дублирующих друг друга значений не наблюдается, со столбцом всё в порядке."
   ]
  },
  {
   "cell_type": "markdown",
   "metadata": {},
   "source": [
    "#### Столбец debt"
   ]
  },
  {
   "cell_type": "code",
   "execution_count": 25,
   "metadata": {},
   "outputs": [
    {
     "data": {
      "text/plain": [
       "array([0, 1], dtype=int64)"
      ]
     },
     "execution_count": 25,
     "metadata": {},
     "output_type": "execute_result"
    }
   ],
   "source": [
    "# Смотрим уникальные значения.\n",
    "df['debt'].unique()"
   ]
  },
  {
   "cell_type": "markdown",
   "metadata": {},
   "source": [
    "В столбце `debt` информация о наличии просрочек у заемщика. Есть только два варианта: \"0\" - просрочки отсутствовали, \"1\" - у заемщика были просрочки."
   ]
  },
  {
   "cell_type": "markdown",
   "metadata": {},
   "source": [
    "#### Столбец purpose"
   ]
  },
  {
   "cell_type": "code",
   "execution_count": 26,
   "metadata": {},
   "outputs": [
    {
     "data": {
      "text/plain": [
       "array(['покупка жилья', 'приобретение автомобиля',\n",
       "       'дополнительное образование', 'сыграть свадьбу',\n",
       "       'операции с жильем', 'образование', 'на проведение свадьбы',\n",
       "       'покупка жилья для семьи', 'покупка недвижимости',\n",
       "       'покупка коммерческой недвижимости', 'покупка жилой недвижимости',\n",
       "       'строительство собственной недвижимости', 'недвижимость',\n",
       "       'строительство недвижимости', 'на покупку подержанного автомобиля',\n",
       "       'на покупку своего автомобиля',\n",
       "       'операции с коммерческой недвижимостью',\n",
       "       'строительство жилой недвижимости', 'жилье',\n",
       "       'операции со своей недвижимостью', 'автомобили',\n",
       "       'заняться образованием', 'сделка с подержанным автомобилем',\n",
       "       'получение образования', 'автомобиль', 'свадьба',\n",
       "       'получение дополнительного образования', 'покупка своего жилья',\n",
       "       'операции с недвижимостью', 'получение высшего образования',\n",
       "       'свой автомобиль', 'сделка с автомобилем',\n",
       "       'профильное образование', 'высшее образование',\n",
       "       'покупка жилья для сдачи', 'на покупку автомобиля', 'ремонт жилью',\n",
       "       'заняться высшим образованием'], dtype=object)"
      ]
     },
     "execution_count": 26,
     "metadata": {},
     "output_type": "execute_result"
    }
   ],
   "source": [
    "#Смотрим уникальные значения.\n",
    "df['purpose'].unique()"
   ]
  },
  {
   "cell_type": "markdown",
   "metadata": {},
   "source": [
    "В столбце `purpose` хранятся данные о цели кредита, по полученным данным видим, что  очень много  одинаковых целей кредита, написанных по разному.  Данные по целям лучше всего разделить на категории."
   ]
  },
  {
   "cell_type": "markdown",
   "metadata": {},
   "source": [
    "### Замена типа данных"
   ]
  },
  {
   "cell_type": "code",
   "execution_count": 27,
   "metadata": {},
   "outputs": [
    {
     "data": {
      "text/plain": [
       "children            float64\n",
       "dob_years             int64\n",
       "education            object\n",
       "education_id          int64\n",
       "family_status        object\n",
       "family_status_id      int64\n",
       "gender               object\n",
       "income_type          object\n",
       "debt                  int64\n",
       "total_income        float64\n",
       "purpose              object\n",
       "dtype: object"
      ]
     },
     "execution_count": 27,
     "metadata": {},
     "output_type": "execute_result"
    }
   ],
   "source": [
    "#проверим типы данных в столбцах\n",
    "df.dtypes"
   ]
  },
  {
   "cell_type": "markdown",
   "metadata": {},
   "source": [
    "Столбец `total_income` хранит в себе данные о ежемесячном доходе заёмщика, для лучшего восприятия данных уберем все знаки после запятой в значениях столбца, заменю тип данных на int."
   ]
  },
  {
   "cell_type": "code",
   "execution_count": 28,
   "metadata": {
    "scrolled": true
   },
   "outputs": [],
   "source": [
    "# меняем тип данных в столбце на целочисленный\n",
    "df['total_income'] = df['total_income'].astype(int)"
   ]
  },
  {
   "cell_type": "code",
   "execution_count": 29,
   "metadata": {
    "scrolled": false
   },
   "outputs": [
    {
     "data": {
      "text/plain": [
       "children            float64\n",
       "dob_years             int64\n",
       "education            object\n",
       "education_id          int64\n",
       "family_status        object\n",
       "family_status_id      int64\n",
       "gender               object\n",
       "income_type          object\n",
       "debt                  int64\n",
       "total_income          int32\n",
       "purpose              object\n",
       "dtype: object"
      ]
     },
     "execution_count": 29,
     "metadata": {},
     "output_type": "execute_result"
    }
   ],
   "source": [
    "# Проверяем, что у столбцов тип данных соответствует ожидаемым.\n",
    "df.dtypes"
   ]
  },
  {
   "cell_type": "markdown",
   "metadata": {},
   "source": [
    "### Обработка дубликатов"
   ]
  },
  {
   "cell_type": "markdown",
   "metadata": {},
   "source": [
    "Проверим наличие явных дубликатов в таблице."
   ]
  },
  {
   "cell_type": "code",
   "execution_count": 30,
   "metadata": {},
   "outputs": [
    {
     "data": {
      "text/plain": [
       "71"
      ]
     },
     "execution_count": 30,
     "metadata": {},
     "output_type": "execute_result"
    }
   ],
   "source": [
    "df.duplicated().sum()\n",
    "# смотрим количество дубликатов"
   ]
  },
  {
   "cell_type": "markdown",
   "metadata": {},
   "source": [
    "В таблице имеется 71 явный дубликат. Вероятность того, что в таблице будет информация о разных клиентах с идентичными данными по возрасту, детям, образованию, семейному положению, целям кредита и размеру дохода, совпадающему до рубля - стремится к нулю, предполагаем, что это дублирующие данные, поэтому удалим их."
   ]
  },
  {
   "cell_type": "code",
   "execution_count": 31,
   "metadata": {},
   "outputs": [],
   "source": [
    "# удаляем дубликаты\n",
    "df = df.drop_duplicates().reset_index(drop=True)"
   ]
  },
  {
   "cell_type": "code",
   "execution_count": 32,
   "metadata": {},
   "outputs": [
    {
     "data": {
      "text/plain": [
       "0"
      ]
     },
     "execution_count": 32,
     "metadata": {},
     "output_type": "execute_result"
    }
   ],
   "source": [
    "# повторная проверка дубликатов\n",
    "df.duplicated().sum()"
   ]
  },
  {
   "cell_type": "markdown",
   "metadata": {},
   "source": [
    "Явных дубликатов не осталось. Без дубликатов исследование станет более точным."
   ]
  },
  {
   "cell_type": "markdown",
   "metadata": {},
   "source": [
    "### Лемматизация"
   ]
  },
  {
   "cell_type": "markdown",
   "metadata": {},
   "source": [
    "По полученным ранее данным определили, что в столбце `purpose` есть разные по содержанию, но идентичные по смыслу цели кредита. Посчитаем количество всех уникальных значений в столбце."
   ]
  },
  {
   "cell_type": "code",
   "execution_count": 33,
   "metadata": {},
   "outputs": [
    {
     "data": {
      "text/plain": [
       "Counter({'покупка жилья': 646,\n",
       "         'приобретение автомобиля': 461,\n",
       "         'дополнительное образование': 460,\n",
       "         'сыграть свадьбу': 765,\n",
       "         'операции с жильем': 652,\n",
       "         'образование': 447,\n",
       "         'на проведение свадьбы': 768,\n",
       "         'покупка жилья для семьи': 638,\n",
       "         'покупка недвижимости': 621,\n",
       "         'покупка коммерческой недвижимости': 661,\n",
       "         'покупка жилой недвижимости': 606,\n",
       "         'строительство собственной недвижимости': 635,\n",
       "         'недвижимость': 633,\n",
       "         'строительство недвижимости': 619,\n",
       "         'на покупку подержанного автомобиля': 478,\n",
       "         'на покупку своего автомобиля': 505,\n",
       "         'операции с коммерческой недвижимостью': 650,\n",
       "         'строительство жилой недвижимости': 624,\n",
       "         'жилье': 646,\n",
       "         'операции со своей недвижимостью': 627,\n",
       "         'автомобили': 478,\n",
       "         'заняться образованием': 408,\n",
       "         'сделка с подержанным автомобилем': 486,\n",
       "         'получение образования': 442,\n",
       "         'автомобиль': 494,\n",
       "         'свадьба': 791,\n",
       "         'получение дополнительного образования': 446,\n",
       "         'покупка своего жилья': 620,\n",
       "         'операции с недвижимостью': 675,\n",
       "         'получение высшего образования': 426,\n",
       "         'свой автомобиль': 478,\n",
       "         'сделка с автомобилем': 455,\n",
       "         'профильное образование': 436,\n",
       "         'высшее образование': 452,\n",
       "         'покупка жилья для сдачи': 651,\n",
       "         'на покупку автомобиля': 471,\n",
       "         'ремонт жилью': 607,\n",
       "         'заняться высшим образованием': 496})"
      ]
     },
     "execution_count": 33,
     "metadata": {},
     "output_type": "execute_result"
    }
   ],
   "source": [
    "# выводим список уникальных значений\n",
    "Counter(df['purpose'])"
   ]
  },
  {
   "cell_type": "code",
   "execution_count": 34,
   "metadata": {},
   "outputs": [],
   "source": [
    "#Функция приводит слова к их словарной форме и возвращает категорию в зависимости от найденных слов\n",
    "def purpose_category(row):\n",
    "    lemma = m.lemmatize(row['purpose'])\n",
    "    if 'свадьба' in lemma:\n",
    "        return 'свадьбa'\n",
    "    if 'автомобиль' in lemma:\n",
    "        return 'автомобиль'\n",
    "    if 'образование' in lemma:\n",
    "        return 'образование'\n",
    "    if ('жилье' in lemma) or ('недвижимость' in lemma):\n",
    "        return 'недвижимость'\n",
    "    return 'иные цели'"
   ]
  },
  {
   "cell_type": "code",
   "execution_count": 35,
   "metadata": {},
   "outputs": [],
   "source": [
    "# добавляем в датафрейм новый столбец, с результатами работы функции\n",
    "df['purpose_category'] = df.apply(purpose_category, axis=1)"
   ]
  },
  {
   "cell_type": "code",
   "execution_count": 36,
   "metadata": {},
   "outputs": [
    {
     "data": {
      "text/plain": [
       "недвижимость    10811\n",
       "автомобиль       4306\n",
       "образование      4013\n",
       "свадьбa          2324\n",
       "Name: purpose_category, dtype: int64"
      ]
     },
     "execution_count": 36,
     "metadata": {},
     "output_type": "execute_result"
    }
   ],
   "source": [
    "# проверяем уникальные значения в новом столбце\n",
    "df['purpose_category'].value_counts()"
   ]
  },
  {
   "cell_type": "markdown",
   "metadata": {},
   "source": [
    "Для дальнейшего анализа добавили в таблицу новую колонку, в которой цели кредита разбиты по категориям. "
   ]
  },
  {
   "cell_type": "markdown",
   "metadata": {},
   "source": [
    "### Категоризация данных"
   ]
  },
  {
   "cell_type": "markdown",
   "metadata": {},
   "source": [
    "Для группировки данных и дальнейшего их анализа дабавим в таблицу новый столбец с категориями дохода."
   ]
  },
  {
   "cell_type": "code",
   "execution_count": 37,
   "metadata": {},
   "outputs": [],
   "source": [
    "#Функция возвращает категории дохода по значению дохода \"income\"\n",
    "def income_category(income):\n",
    "    if income < 100000:\n",
    "        return '1. низкий доход'\n",
    "    if income < 150000:\n",
    "        return '2. средний доход'\n",
    "    if income < 200000:\n",
    "        return '3. высокий доход'\n",
    "    if income < 300000:\n",
    "        return '4. очень высокий доход'\n",
    "    return '5. удивительно высокий доход'"
   ]
  },
  {
   "cell_type": "code",
   "execution_count": 38,
   "metadata": {},
   "outputs": [],
   "source": [
    "# добавляем в датафрейм новый столбец, с результатами работы функции\n",
    "df['income_category'] = df['total_income'].apply(income_category)"
   ]
  },
  {
   "cell_type": "code",
   "execution_count": 39,
   "metadata": {
    "scrolled": true
   },
   "outputs": [
    {
     "data": {
      "text/plain": [
       "2. средний доход                7160\n",
       "3. высокий доход                4764\n",
       "1. низкий доход                 4463\n",
       "4. очень высокий доход          3584\n",
       "5. удивительно высокий доход    1483\n",
       "Name: income_category, dtype: int64"
      ]
     },
     "execution_count": 39,
     "metadata": {},
     "output_type": "execute_result"
    }
   ],
   "source": [
    "# проверяем уникальные значения в новом столбце\n",
    "df['income_category'].value_counts()"
   ]
  },
  {
   "cell_type": "markdown",
   "metadata": {},
   "source": [
    "Аналогично предыдущему столбцу, для группировки данных и дальнейшего их анализа добавим в таблицу новый столбец с категориями количества детей заёмщика."
   ]
  },
  {
   "cell_type": "code",
   "execution_count": 40,
   "metadata": {},
   "outputs": [],
   "source": [
    "#Функция возвращает категории по значению количества детей \"child\"\n",
    "def children_category(child):\n",
    "    if child == 0:\n",
    "        return 'без детей'\n",
    "    if child < 3:\n",
    "        return '1-2 ребенка'\n",
    "    if child >= 3:\n",
    "        return 'многодетные'\n",
    "    return 'не известно'"
   ]
  },
  {
   "cell_type": "code",
   "execution_count": 41,
   "metadata": {},
   "outputs": [],
   "source": [
    "# добавляем в датафрейм новый столбец, с результатами работы функции\n",
    "df['children_category'] = df['children'].apply(children_category)"
   ]
  },
  {
   "cell_type": "code",
   "execution_count": 42,
   "metadata": {},
   "outputs": [
    {
     "data": {
      "text/plain": [
       "без детей      14091\n",
       "1-2 ребенка     6860\n",
       "многодетные      380\n",
       "не известно      123\n",
       "Name: children_category, dtype: int64"
      ]
     },
     "execution_count": 42,
     "metadata": {},
     "output_type": "execute_result"
    }
   ],
   "source": [
    "# проверяем уникальные значения в новом столбце\n",
    "df['children_category'].value_counts()"
   ]
  },
  {
   "cell_type": "markdown",
   "metadata": {},
   "source": [
    "### Результат предобработки данных"
   ]
  },
  {
   "cell_type": "markdown",
   "metadata": {},
   "source": [
    "Предобработка обнаружила несколько проблем в данных:\n",
    "- пропущенные значения\n",
    "- аномальные значения\n",
    "- разные формы написания целей кредита, совпадающие по сути\n",
    "- явные дубликаты\n",
    "\n",
    "Пропущенные значения  в столбце `total_income` заменены на медианные значения, аномальные значения  в столбце `children`  заменены на NaN, дубликаты удалены, цели кредита привели к единообразным категориям, данные по детям и доходам сгруппированы."
   ]
  },
  {
   "cell_type": "markdown",
   "metadata": {},
   "source": [
    "## Ответы на вопросы"
   ]
  },
  {
   "cell_type": "markdown",
   "metadata": {},
   "source": [
    "### Зависимость между наличием детей и возвратом кредита в срок."
   ]
  },
  {
   "cell_type": "code",
   "execution_count": 43,
   "metadata": {
    "scrolled": true
   },
   "outputs": [
    {
     "data": {
      "text/html": [
       "<div>\n",
       "<style scoped>\n",
       "    .dataframe tbody tr th:only-of-type {\n",
       "        vertical-align: middle;\n",
       "    }\n",
       "\n",
       "    .dataframe tbody tr th {\n",
       "        vertical-align: top;\n",
       "    }\n",
       "\n",
       "    .dataframe thead th {\n",
       "        text-align: right;\n",
       "    }\n",
       "</style>\n",
       "<table border=\"1\" class=\"dataframe\">\n",
       "  <thead>\n",
       "    <tr style=\"text-align: right;\">\n",
       "      <th></th>\n",
       "      <th>debt</th>\n",
       "      <th>0</th>\n",
       "      <th>1</th>\n",
       "      <th>percent</th>\n",
       "    </tr>\n",
       "    <tr>\n",
       "      <th>children_category</th>\n",
       "      <th>children</th>\n",
       "      <th></th>\n",
       "      <th></th>\n",
       "      <th></th>\n",
       "    </tr>\n",
       "  </thead>\n",
       "  <tbody>\n",
       "    <tr>\n",
       "      <td rowspan=\"2\" valign=\"top\">1-2 ребенка</td>\n",
       "      <td>1.0</td>\n",
       "      <td>4364.0</td>\n",
       "      <td>444.0</td>\n",
       "      <td>9.2</td>\n",
       "    </tr>\n",
       "    <tr>\n",
       "      <td>2.0</td>\n",
       "      <td>1858.0</td>\n",
       "      <td>194.0</td>\n",
       "      <td>9.5</td>\n",
       "    </tr>\n",
       "    <tr>\n",
       "      <td>без детей</td>\n",
       "      <td>0.0</td>\n",
       "      <td>13028.0</td>\n",
       "      <td>1063.0</td>\n",
       "      <td>7.5</td>\n",
       "    </tr>\n",
       "    <tr>\n",
       "      <td rowspan=\"3\" valign=\"top\">многодетные</td>\n",
       "      <td>3.0</td>\n",
       "      <td>303.0</td>\n",
       "      <td>27.0</td>\n",
       "      <td>8.2</td>\n",
       "    </tr>\n",
       "    <tr>\n",
       "      <td>4.0</td>\n",
       "      <td>37.0</td>\n",
       "      <td>4.0</td>\n",
       "      <td>9.8</td>\n",
       "    </tr>\n",
       "    <tr>\n",
       "      <td>5.0</td>\n",
       "      <td>9.0</td>\n",
       "      <td>NaN</td>\n",
       "      <td>NaN</td>\n",
       "    </tr>\n",
       "  </tbody>\n",
       "</table>\n",
       "</div>"
      ],
      "text/plain": [
       "debt                              0       1  percent\n",
       "children_category children                          \n",
       "1-2 ребенка       1.0        4364.0   444.0      9.2\n",
       "                  2.0        1858.0   194.0      9.5\n",
       "без детей         0.0       13028.0  1063.0      7.5\n",
       "многодетные       3.0         303.0    27.0      8.2\n",
       "                  4.0          37.0     4.0      9.8\n",
       "                  5.0           9.0     NaN      NaN"
      ]
     },
     "execution_count": 43,
     "metadata": {},
     "output_type": "execute_result"
    }
   ],
   "source": [
    "# выводим сводную таблицу по количеству детей, возврату кредитов и проценту клиентов с просрочками\n",
    "df_pivot_children = df.pivot_table(index=['children_category', 'children'],\\\n",
    "                                   columns = 'debt', values = 'total_income', aggfunc='count')\n",
    "\n",
    "df_pivot_children['percent'] = (df_pivot_children[1] / (df_pivot_children[1] + df_pivot_children[0]) * 100).round(1)\n",
    "df_pivot_children"
   ]
  },
  {
   "cell_type": "code",
   "execution_count": 44,
   "metadata": {},
   "outputs": [
    {
     "data": {
      "text/plain": [
       "<matplotlib.axes._subplots.AxesSubplot at 0x1afa6cbab08>"
      ]
     },
     "execution_count": 44,
     "metadata": {},
     "output_type": "execute_result"
    },
    {
     "data": {
      "image/png": "[encoded data removed]",
      "text/plain": [
       "<Figure size 432x288 with 1 Axes>"
      ]
     },
     "metadata": {
      "needs_background": "light"
     },
     "output_type": "display_data"
    }
   ],
   "source": [
    "# смотрим не графике\n",
    "seaborn.barplot(x = df['children'], y = df['debt'], ci=None)"
   ]
  },
  {
   "cell_type": "markdown",
   "metadata": {},
   "source": [
    "**Вывод**"
   ]
  },
  {
   "cell_type": "markdown",
   "metadata": {},
   "source": [
    "По полученным данным можно увидеть, что те, у кого нет детей, чаще остальных погашают кредиты в срок.\n",
    "\n",
    "Данные с количеством детей 4 и 5 принимать к рассмотрению нецелесообразно, поскольку слишком маленький объем данных. Изменение в исходных данных хотя бы одного значения слишком существенно изменяет общую картину (например, для данных с 4 детьми - при 4 клиентах с просрочками из 41 - процент просрочек = 9.8, а если их будет 5 из 42 - процент просрочек станет 11.9).\n",
    "\n",
    "Что касается остальных значений - увеличение количества детей приводит к увеличению количества просрочек, но как-только семья переходит в категорию многодетных (предположительно, получает дополнительные льготы от государства) - процент просрочек резко уменьшается.\n",
    "\n",
    "Поэтому можно сказать, что количество детей клиента влияет на факт погашения кредита в срок."
   ]
  },
  {
   "cell_type": "markdown",
   "metadata": {},
   "source": [
    "### Зависимость между семейным положением и возвратом кредита в срок"
   ]
  },
  {
   "cell_type": "code",
   "execution_count": 45,
   "metadata": {
    "scrolled": true
   },
   "outputs": [
    {
     "data": {
      "text/html": [
       "<div>\n",
       "<style scoped>\n",
       "    .dataframe tbody tr th:only-of-type {\n",
       "        vertical-align: middle;\n",
       "    }\n",
       "\n",
       "    .dataframe tbody tr th {\n",
       "        vertical-align: top;\n",
       "    }\n",
       "\n",
       "    .dataframe thead th {\n",
       "        text-align: right;\n",
       "    }\n",
       "</style>\n",
       "<table border=\"1\" class=\"dataframe\">\n",
       "  <thead>\n",
       "    <tr style=\"text-align: right;\">\n",
       "      <th></th>\n",
       "      <th>debt</th>\n",
       "      <th>0</th>\n",
       "      <th>1</th>\n",
       "      <th>percent</th>\n",
       "    </tr>\n",
       "    <tr>\n",
       "      <th>family_status_id</th>\n",
       "      <th>family_status</th>\n",
       "      <th></th>\n",
       "      <th></th>\n",
       "      <th></th>\n",
       "    </tr>\n",
       "  </thead>\n",
       "  <tbody>\n",
       "    <tr>\n",
       "      <td>0</td>\n",
       "      <td>женат / замужем</td>\n",
       "      <td>11408</td>\n",
       "      <td>931</td>\n",
       "      <td>7.5</td>\n",
       "    </tr>\n",
       "    <tr>\n",
       "      <td>1</td>\n",
       "      <td>гражданский брак</td>\n",
       "      <td>3763</td>\n",
       "      <td>388</td>\n",
       "      <td>9.3</td>\n",
       "    </tr>\n",
       "    <tr>\n",
       "      <td>2</td>\n",
       "      <td>вдовец / вдова</td>\n",
       "      <td>896</td>\n",
       "      <td>63</td>\n",
       "      <td>6.6</td>\n",
       "    </tr>\n",
       "    <tr>\n",
       "      <td>3</td>\n",
       "      <td>в разводе</td>\n",
       "      <td>1110</td>\n",
       "      <td>85</td>\n",
       "      <td>7.1</td>\n",
       "    </tr>\n",
       "    <tr>\n",
       "      <td>4</td>\n",
       "      <td>Не женат / не замужем</td>\n",
       "      <td>2536</td>\n",
       "      <td>274</td>\n",
       "      <td>9.8</td>\n",
       "    </tr>\n",
       "  </tbody>\n",
       "</table>\n",
       "</div>"
      ],
      "text/plain": [
       "debt                                        0    1  percent\n",
       "family_status_id family_status                             \n",
       "0                женат / замужем        11408  931      7.5\n",
       "1                гражданский брак        3763  388      9.3\n",
       "2                вдовец / вдова           896   63      6.6\n",
       "3                в разводе               1110   85      7.1\n",
       "4                Не женат / не замужем   2536  274      9.8"
      ]
     },
     "execution_count": 45,
     "metadata": {},
     "output_type": "execute_result"
    }
   ],
   "source": [
    "# выводим сводную таблицу по семейному положению, возврату кредитов и проценту клиентов с просрочками\n",
    "df_pivot_family = df.pivot_table(index=['family_status_id', 'family_status'],\\\n",
    "                                 columns = 'debt', values = 'total_income', aggfunc='count')\n",
    "\n",
    "df_pivot_family['percent'] = df_pivot_family[1] / (df_pivot_family[1] + df_pivot_family[0]) * 100\n",
    "df_pivot_family.round(1)"
   ]
  },
  {
   "cell_type": "code",
   "execution_count": 46,
   "metadata": {},
   "outputs": [
    {
     "data": {
      "text/plain": [
       "<matplotlib.axes._subplots.AxesSubplot at 0x1afa6d268c8>"
      ]
     },
     "execution_count": 46,
     "metadata": {},
     "output_type": "execute_result"
    },
    {
     "data": {
      "image/png": "[encoded data removed]",
      "text/plain": [
       "<Figure size 432x288 with 1 Axes>"
      ]
     },
     "metadata": {
      "needs_background": "light"
     },
     "output_type": "display_data"
    }
   ],
   "source": [
    "# смотрим на графике\n",
    "seaborn.barplot(x = df['debt'], y = df['family_status'], ci=None)"
   ]
  },
  {
   "cell_type": "markdown",
   "metadata": {},
   "source": [
    "**Вывод**"
   ]
  },
  {
   "cell_type": "markdown",
   "metadata": {},
   "source": [
    "По полученным данным можно увидеть, что наименьший процент просрочек у категорий клиентов, которые раннее состояли в браке, но на текущий момент не состоят в нём, к этим категориям относятся \"вдовец/вдова\" и \"в разводе\". Люди без обязательств в семейных отношениях чаще нарушают обязательства и в кредитных отношениях =)\n",
    "\n",
    "Как видим, семейное положение сильно влияет на возврат кредитов в срок."
   ]
  },
  {
   "cell_type": "markdown",
   "metadata": {},
   "source": [
    "### Зависимость между уровнем дохода и возвратом кредита в срок"
   ]
  },
  {
   "cell_type": "code",
   "execution_count": 47,
   "metadata": {
    "scrolled": false
   },
   "outputs": [
    {
     "data": {
      "text/html": [
       "<div>\n",
       "<style scoped>\n",
       "    .dataframe tbody tr th:only-of-type {\n",
       "        vertical-align: middle;\n",
       "    }\n",
       "\n",
       "    .dataframe tbody tr th {\n",
       "        vertical-align: top;\n",
       "    }\n",
       "\n",
       "    .dataframe thead th {\n",
       "        text-align: right;\n",
       "    }\n",
       "</style>\n",
       "<table border=\"1\" class=\"dataframe\">\n",
       "  <thead>\n",
       "    <tr style=\"text-align: right;\">\n",
       "      <th>debt</th>\n",
       "      <th>0</th>\n",
       "      <th>1</th>\n",
       "      <th>percent</th>\n",
       "    </tr>\n",
       "    <tr>\n",
       "      <th>income_category</th>\n",
       "      <th></th>\n",
       "      <th></th>\n",
       "      <th></th>\n",
       "    </tr>\n",
       "  </thead>\n",
       "  <tbody>\n",
       "    <tr>\n",
       "      <td>1. низкий доход</td>\n",
       "      <td>4090</td>\n",
       "      <td>354</td>\n",
       "      <td>8.0</td>\n",
       "    </tr>\n",
       "    <tr>\n",
       "      <td>2. средний доход</td>\n",
       "      <td>6491</td>\n",
       "      <td>619</td>\n",
       "      <td>8.7</td>\n",
       "    </tr>\n",
       "    <tr>\n",
       "      <td>3. высокий доход</td>\n",
       "      <td>4335</td>\n",
       "      <td>403</td>\n",
       "      <td>8.5</td>\n",
       "    </tr>\n",
       "    <tr>\n",
       "      <td>4. очень высокий доход</td>\n",
       "      <td>3315</td>\n",
       "      <td>250</td>\n",
       "      <td>7.0</td>\n",
       "    </tr>\n",
       "    <tr>\n",
       "      <td>5. удивительно высокий доход</td>\n",
       "      <td>1368</td>\n",
       "      <td>106</td>\n",
       "      <td>7.2</td>\n",
       "    </tr>\n",
       "  </tbody>\n",
       "</table>\n",
       "</div>"
      ],
      "text/plain": [
       "debt                             0    1  percent\n",
       "income_category                                 \n",
       "1. низкий доход               4090  354      8.0\n",
       "2. средний доход              6491  619      8.7\n",
       "3. высокий доход              4335  403      8.5\n",
       "4. очень высокий доход        3315  250      7.0\n",
       "5. удивительно высокий доход  1368  106      7.2"
      ]
     },
     "execution_count": 47,
     "metadata": {},
     "output_type": "execute_result"
    }
   ],
   "source": [
    "# выводим сводную таблицу по уровню дохода, возврату кредитов и проценту клиентов с просрочками\n",
    "df_pivot_income= df.pivot_table(index=['income_category'],columns = 'debt', values = 'children', aggfunc='count')\n",
    "df_pivot_income['percent'] = df_pivot_income[1] / (df_pivot_income[1] + df_pivot_income[0]) * 100\n",
    "df_pivot_income.round(1)"
   ]
  },
  {
   "cell_type": "markdown",
   "metadata": {},
   "source": [
    "При категоризации дохода мы разделили его по следующим категориям:\n",
    "- клиенты с доходом менее 100000 - низкий доход\n",
    "- клиенты с доходом менее 150000 - средний доход\n",
    "- клиенты с доходом менее 200000 - высокий доход\n",
    "- клиенты с доходом менее 300000 - очень высокий доход\n",
    "- клиенты с доходом 300000 и более - удивительно высокий доход"
   ]
  },
  {
   "cell_type": "code",
   "execution_count": 48,
   "metadata": {
    "scrolled": true
   },
   "outputs": [
    {
     "data": {
      "text/plain": [
       "<matplotlib.axes._subplots.AxesSubplot at 0x1afa6dc1548>"
      ]
     },
     "execution_count": 48,
     "metadata": {},
     "output_type": "execute_result"
    },
    {
     "data": {
      "image/png": "[encoded data removed]",
      "text/plain": [
       "<Figure size 432x288 with 1 Axes>"
      ]
     },
     "metadata": {
      "needs_background": "light"
     },
     "output_type": "display_data"
    }
   ],
   "source": [
    "# смотрим на графике\n",
    "seaborn.barplot(x = df['debt'], y = df['income_category'].sort_values(), ci=None)"
   ]
  },
  {
   "cell_type": "markdown",
   "metadata": {},
   "source": [
    "**Вывод**"
   ]
  },
  {
   "cell_type": "markdown",
   "metadata": {},
   "source": [
    "Из полученных данных можно увидеть, что наименьший процент просрочек у клиентов с доходом от 200000 (4 и 5 категории). Наибольшие просрочки у клиентов с доходом от 100000 до 200000 (2 и 3 категории). Клиенты с низким доходом (менее 100000) более ответственно относятся к срокам погашения кредита, но при этом, процент просрочек у них всё равно выше, чем у очень богатых клиентов.\n",
    "\n",
    "Из этого можно сделать вывод, что лучше всего деньгами умеют пользоваться те, у кого их и так достаточно."
   ]
  },
  {
   "cell_type": "markdown",
   "metadata": {},
   "source": [
    "### Как разные цели кредита влияют на его возврат в срок?"
   ]
  },
  {
   "cell_type": "code",
   "execution_count": 49,
   "metadata": {
    "scrolled": false
   },
   "outputs": [
    {
     "data": {
      "text/html": [
       "<div>\n",
       "<style scoped>\n",
       "    .dataframe tbody tr th:only-of-type {\n",
       "        vertical-align: middle;\n",
       "    }\n",
       "\n",
       "    .dataframe tbody tr th {\n",
       "        vertical-align: top;\n",
       "    }\n",
       "\n",
       "    .dataframe thead th {\n",
       "        text-align: right;\n",
       "    }\n",
       "</style>\n",
       "<table border=\"1\" class=\"dataframe\">\n",
       "  <thead>\n",
       "    <tr style=\"text-align: right;\">\n",
       "      <th>debt</th>\n",
       "      <th>0</th>\n",
       "      <th>1</th>\n",
       "      <th>percent</th>\n",
       "    </tr>\n",
       "    <tr>\n",
       "      <th>purpose_category</th>\n",
       "      <th></th>\n",
       "      <th></th>\n",
       "      <th></th>\n",
       "    </tr>\n",
       "  </thead>\n",
       "  <tbody>\n",
       "    <tr>\n",
       "      <td>автомобиль</td>\n",
       "      <td>3879</td>\n",
       "      <td>400</td>\n",
       "      <td>9.3</td>\n",
       "    </tr>\n",
       "    <tr>\n",
       "      <td>недвижимость</td>\n",
       "      <td>9971</td>\n",
       "      <td>780</td>\n",
       "      <td>7.3</td>\n",
       "    </tr>\n",
       "    <tr>\n",
       "      <td>образование</td>\n",
       "      <td>3619</td>\n",
       "      <td>369</td>\n",
       "      <td>9.3</td>\n",
       "    </tr>\n",
       "    <tr>\n",
       "      <td>свадьбa</td>\n",
       "      <td>2130</td>\n",
       "      <td>183</td>\n",
       "      <td>7.9</td>\n",
       "    </tr>\n",
       "  </tbody>\n",
       "</table>\n",
       "</div>"
      ],
      "text/plain": [
       "debt                 0    1  percent\n",
       "purpose_category                    \n",
       "автомобиль        3879  400      9.3\n",
       "недвижимость      9971  780      7.3\n",
       "образование       3619  369      9.3\n",
       "свадьбa           2130  183      7.9"
      ]
     },
     "execution_count": 49,
     "metadata": {},
     "output_type": "execute_result"
    }
   ],
   "source": [
    "# выводим сводную таблицу по целям кредита, возврату кредитов и проценту клиентов с просрочками\n",
    "df_pivot_purpose= df.pivot_table(index=['purpose_category'],columns = 'debt', values = 'children', aggfunc='count')\n",
    "df_pivot_purpose['percent'] = df_pivot_purpose[1] / (df_pivot_purpose[1] + df_pivot_purpose[0]) * 100\n",
    "df_pivot_purpose.round(1)"
   ]
  },
  {
   "cell_type": "code",
   "execution_count": 50,
   "metadata": {},
   "outputs": [
    {
     "data": {
      "text/plain": [
       "<matplotlib.axes._subplots.AxesSubplot at 0x1afa6e30c88>"
      ]
     },
     "execution_count": 50,
     "metadata": {},
     "output_type": "execute_result"
    },
    {
     "data": {
      "image/png": "[encoded data removed]",
      "text/plain": [
       "<Figure size 432x288 with 1 Axes>"
      ]
     },
     "metadata": {
      "needs_background": "light"
     },
     "output_type": "display_data"
    }
   ],
   "source": [
    "# смотрим на графике\n",
    "seaborn.barplot(x = df['purpose_category'], y = df['debt'], ci=None)"
   ]
  },
  {
   "cell_type": "markdown",
   "metadata": {},
   "source": [
    "**Вывод**"
   ]
  },
  {
   "cell_type": "markdown",
   "metadata": {},
   "source": [
    "Из полученных данных можно увидеть, что наименьшее число просрочек встречается по кредитам, взятым на недвижимость. Кредиты, взятые на свадьбу также имеют невысокий процент просрочек, вероятно, это связано с тем, что кредиты взятые на свадьбу возвращают уже в семейном положении \"замужем/женат\", а, как мы видели на предыдущем графике - процент клиентов с просрочками в этой категории - всего 7.5%, что практически совпадает с процентом просрочек по кредитам на свадьбу.\n",
    "Кредиты, взятые на автомобиль и образование имеют повышенный процент просрочек."
   ]
  },
  {
   "cell_type": "markdown",
   "metadata": {},
   "source": [
    "\n",
    "## Общий вывод"
   ]
  },
  {
   "cell_type": "markdown",
   "metadata": {},
   "source": [
    "На основе проведенного анализа можно сделать вывод, что на процент просрочек по кредитам влияют все исследованные параметры клиентов. Таким образом, при построении модели кредитного скоринга необходимо учитывать все перечисленные параметры.\n",
    "\n",
    "Идеальный клиент - клиент с доходом более 200000, женатый и без детей, оформляющий кредит на покупку недвижимости.<br>Самый неблагонадежный клиент- одинокий студент с двумя детьми, берущий кредит на автомобиль."
   ]
  }
 ],
 "metadata": {
  "ExecuteTimeLog": [
   {
    "duration": 715,
    "start_time": "2021-12-06T09:52:42.051Z"
   },
   {
    "duration": 14,
    "start_time": "2021-12-06T09:56:36.612Z"
   },
   {
    "duration": 11,
    "start_time": "2021-12-06T09:56:42.424Z"
   },
   {
    "duration": 9,
    "start_time": "2021-12-06T10:01:32.710Z"
   },
   {
    "duration": 9,
    "start_time": "2021-12-06T10:05:58.485Z"
   },
   {
    "duration": 8,
    "start_time": "2021-12-06T10:24:06.780Z"
   },
   {
    "duration": 96,
    "start_time": "2021-12-06T10:25:12.869Z"
   },
   {
    "duration": 14,
    "start_time": "2021-12-06T10:25:22.296Z"
   },
   {
    "duration": 24,
    "start_time": "2021-12-06T10:26:25.671Z"
   },
   {
    "duration": 1563,
    "start_time": "2021-12-08T09:09:01.017Z"
   },
   {
    "duration": 84,
    "start_time": "2021-12-08T09:09:02.705Z"
   },
   {
    "duration": 78,
    "start_time": "2021-12-08T09:09:25.626Z"
   },
   {
    "duration": 77,
    "start_time": "2021-12-08T09:09:42.863Z"
   },
   {
    "duration": 23,
    "start_time": "2021-12-08T09:11:14.818Z"
   },
   {
    "duration": 546,
    "start_time": "2021-12-08T09:12:45.920Z"
   },
   {
    "duration": 389,
    "start_time": "2021-12-08T09:13:11.331Z"
   },
   {
    "duration": 471,
    "start_time": "2021-12-08T09:14:58.191Z"
   },
   {
    "duration": 13,
    "start_time": "2021-12-08T09:15:10.268Z"
   },
   {
    "duration": 12,
    "start_time": "2021-12-08T09:18:06.504Z"
   },
   {
    "duration": 689,
    "start_time": "2021-12-08T09:19:48.054Z"
   },
   {
    "duration": 390,
    "start_time": "2021-12-08T09:19:54.023Z"
   },
   {
    "duration": 10778,
    "start_time": "2021-12-08T09:21:57.040Z"
   },
   {
    "duration": 10,
    "start_time": "2021-12-08T09:22:26.778Z"
   },
   {
    "duration": 20,
    "start_time": "2021-12-08T09:22:51.779Z"
   },
   {
    "duration": 16,
    "start_time": "2021-12-08T09:23:22.941Z"
   },
   {
    "duration": 12,
    "start_time": "2021-12-08T09:24:00.548Z"
   },
   {
    "duration": 393,
    "start_time": "2021-12-08T09:24:59.522Z"
   },
   {
    "duration": 397,
    "start_time": "2021-12-08T09:25:45.164Z"
   },
   {
    "duration": 407,
    "start_time": "2021-12-08T09:26:11.265Z"
   },
   {
    "duration": 398,
    "start_time": "2021-12-08T09:26:48.806Z"
   },
   {
    "duration": 407,
    "start_time": "2021-12-08T09:27:15.572Z"
   },
   {
    "duration": 19,
    "start_time": "2021-12-08T09:27:48.320Z"
   },
   {
    "duration": 13,
    "start_time": "2021-12-08T09:27:51.737Z"
   },
   {
    "duration": 4,
    "start_time": "2021-12-08T09:28:05.374Z"
   },
   {
    "duration": 78,
    "start_time": "2021-12-08T09:28:05.381Z"
   },
   {
    "duration": 15,
    "start_time": "2021-12-08T09:28:05.462Z"
   },
   {
    "duration": 12,
    "start_time": "2021-12-08T09:28:05.480Z"
   },
   {
    "duration": 21,
    "start_time": "2021-12-08T09:28:10.807Z"
   },
   {
    "duration": 12,
    "start_time": "2021-12-08T09:28:13.325Z"
   },
   {
    "duration": 12,
    "start_time": "2021-12-08T09:29:27.736Z"
   },
   {
    "duration": 15,
    "start_time": "2021-12-08T09:29:30.200Z"
   },
   {
    "duration": 16,
    "start_time": "2021-12-08T09:29:40.496Z"
   },
   {
    "duration": 15,
    "start_time": "2021-12-08T09:29:43.462Z"
   },
   {
    "duration": 13,
    "start_time": "2021-12-08T09:30:02.837Z"
   },
   {
    "duration": 10,
    "start_time": "2021-12-08T09:30:24.083Z"
   },
   {
    "duration": 11,
    "start_time": "2021-12-08T09:30:36.366Z"
   },
   {
    "duration": 219,
    "start_time": "2021-12-08T09:32:31.978Z"
   },
   {
    "duration": 10,
    "start_time": "2021-12-08T09:33:30.956Z"
   },
   {
    "duration": 10,
    "start_time": "2021-12-08T09:34:12.030Z"
   },
   {
    "duration": 10,
    "start_time": "2021-12-08T09:37:40.372Z"
   },
   {
    "duration": 10,
    "start_time": "2021-12-08T09:38:30.832Z"
   },
   {
    "duration": 8,
    "start_time": "2021-12-08T09:38:53.051Z"
   },
   {
    "duration": 8,
    "start_time": "2021-12-08T09:39:20.167Z"
   },
   {
    "duration": 23,
    "start_time": "2021-12-08T09:47:11.761Z"
   },
   {
    "duration": 136,
    "start_time": "2021-12-08T09:47:41.399Z"
   },
   {
    "duration": 24,
    "start_time": "2021-12-08T09:47:48.502Z"
   },
   {
    "duration": 20,
    "start_time": "2021-12-08T09:48:39.680Z"
   },
   {
    "duration": 20,
    "start_time": "2021-12-08T09:48:57.437Z"
   },
   {
    "duration": 675,
    "start_time": "2021-12-08T09:51:48.626Z"
   },
   {
    "duration": 10,
    "start_time": "2021-12-08T09:51:54.948Z"
   },
   {
    "duration": 458,
    "start_time": "2021-12-08T09:53:01.699Z"
   },
   {
    "duration": 443,
    "start_time": "2021-12-08T09:53:16.701Z"
   },
   {
    "duration": 658,
    "start_time": "2021-12-08T10:09:03.262Z"
   },
   {
    "duration": 9,
    "start_time": "2021-12-08T10:09:15.493Z"
   },
   {
    "duration": 3,
    "start_time": "2021-12-08T10:09:18.792Z"
   },
   {
    "duration": 78,
    "start_time": "2021-12-08T10:09:18.799Z"
   },
   {
    "duration": 14,
    "start_time": "2021-12-08T10:09:18.880Z"
   },
   {
    "duration": 12,
    "start_time": "2021-12-08T10:09:18.897Z"
   },
   {
    "duration": 47,
    "start_time": "2021-12-08T10:09:18.912Z"
   },
   {
    "duration": 10,
    "start_time": "2021-12-08T10:09:18.962Z"
   },
   {
    "duration": 10,
    "start_time": "2021-12-08T10:09:18.974Z"
   },
   {
    "duration": 8,
    "start_time": "2021-12-08T10:09:18.987Z"
   },
   {
    "duration": 9,
    "start_time": "2021-12-08T10:09:18.997Z"
   },
   {
    "duration": 372,
    "start_time": "2021-12-08T10:09:58.508Z"
   },
   {
    "duration": 27,
    "start_time": "2021-12-08T10:10:05.900Z"
   },
   {
    "duration": 20,
    "start_time": "2021-12-08T10:10:45.611Z"
   },
   {
    "duration": 30,
    "start_time": "2021-12-08T10:11:16.020Z"
   },
   {
    "duration": 4,
    "start_time": "2021-12-08T10:11:21.733Z"
   },
   {
    "duration": 93,
    "start_time": "2021-12-08T10:11:21.739Z"
   },
   {
    "duration": 16,
    "start_time": "2021-12-08T10:11:21.836Z"
   },
   {
    "duration": 12,
    "start_time": "2021-12-08T10:11:21.859Z"
   },
   {
    "duration": 21,
    "start_time": "2021-12-08T10:11:21.874Z"
   },
   {
    "duration": 17,
    "start_time": "2021-12-08T10:11:21.898Z"
   },
   {
    "duration": 50,
    "start_time": "2021-12-08T10:11:21.918Z"
   },
   {
    "duration": 7,
    "start_time": "2021-12-08T10:11:21.972Z"
   },
   {
    "duration": 8,
    "start_time": "2021-12-08T10:11:21.982Z"
   },
   {
    "duration": 28,
    "start_time": "2021-12-08T10:11:21.992Z"
   },
   {
    "duration": 546,
    "start_time": "2021-12-08T10:11:40.548Z"
   },
   {
    "duration": 23,
    "start_time": "2021-12-08T10:11:51.473Z"
   },
   {
    "duration": 23,
    "start_time": "2021-12-08T10:11:59.036Z"
   },
   {
    "duration": 5,
    "start_time": "2021-12-08T10:15:43.311Z"
   },
   {
    "duration": 5,
    "start_time": "2021-12-08T10:16:19.798Z"
   },
   {
    "duration": 13,
    "start_time": "2021-12-08T10:16:21.623Z"
   },
   {
    "duration": 4,
    "start_time": "2021-12-08T10:16:29.955Z"
   },
   {
    "duration": 84,
    "start_time": "2021-12-08T10:16:29.962Z"
   },
   {
    "duration": 16,
    "start_time": "2021-12-08T10:16:30.050Z"
   },
   {
    "duration": 23,
    "start_time": "2021-12-08T10:16:30.069Z"
   },
   {
    "duration": 27,
    "start_time": "2021-12-08T10:16:30.095Z"
   },
   {
    "duration": 10,
    "start_time": "2021-12-08T10:16:30.125Z"
   },
   {
    "duration": 26,
    "start_time": "2021-12-08T10:16:30.138Z"
   },
   {
    "duration": 11,
    "start_time": "2021-12-08T10:16:39.897Z"
   },
   {
    "duration": 11,
    "start_time": "2021-12-08T10:16:43.460Z"
   },
   {
    "duration": 8,
    "start_time": "2021-12-08T10:17:31.109Z"
   },
   {
    "duration": 6,
    "start_time": "2021-12-08T10:17:40.582Z"
   },
   {
    "duration": 25,
    "start_time": "2021-12-08T10:18:20.189Z"
   },
   {
    "duration": 7,
    "start_time": "2021-12-08T10:19:09.413Z"
   },
   {
    "duration": 18,
    "start_time": "2021-12-08T10:19:32.173Z"
   },
   {
    "duration": 21,
    "start_time": "2021-12-08T10:19:48.732Z"
   },
   {
    "duration": 4,
    "start_time": "2021-12-08T10:19:54.900Z"
   },
   {
    "duration": 83,
    "start_time": "2021-12-08T10:19:54.907Z"
   },
   {
    "duration": 14,
    "start_time": "2021-12-08T10:19:54.993Z"
   },
   {
    "duration": 12,
    "start_time": "2021-12-08T10:19:55.009Z"
   },
   {
    "duration": 48,
    "start_time": "2021-12-08T10:19:55.024Z"
   },
   {
    "duration": 6,
    "start_time": "2021-12-08T10:19:55.075Z"
   },
   {
    "duration": 13,
    "start_time": "2021-12-08T10:19:55.084Z"
   },
   {
    "duration": 10,
    "start_time": "2021-12-08T10:19:55.101Z"
   },
   {
    "duration": 47,
    "start_time": "2021-12-08T10:19:55.114Z"
   },
   {
    "duration": 8,
    "start_time": "2021-12-08T10:19:55.163Z"
   },
   {
    "duration": 19,
    "start_time": "2021-12-08T10:19:55.173Z"
   },
   {
    "duration": 5,
    "start_time": "2021-12-08T10:23:23.415Z"
   },
   {
    "duration": 10,
    "start_time": "2021-12-08T10:23:27.909Z"
   },
   {
    "duration": 12,
    "start_time": "2021-12-08T10:23:31.666Z"
   },
   {
    "duration": 4,
    "start_time": "2021-12-08T10:23:52.522Z"
   },
   {
    "duration": 77,
    "start_time": "2021-12-08T10:23:52.529Z"
   },
   {
    "duration": 23,
    "start_time": "2021-12-08T10:23:52.611Z"
   },
   {
    "duration": 31,
    "start_time": "2021-12-08T10:23:52.638Z"
   },
   {
    "duration": 30,
    "start_time": "2021-12-08T10:23:52.673Z"
   },
   {
    "duration": 5,
    "start_time": "2021-12-08T10:23:52.705Z"
   },
   {
    "duration": 48,
    "start_time": "2021-12-08T10:23:52.712Z"
   },
   {
    "duration": 14,
    "start_time": "2021-12-08T10:23:52.765Z"
   },
   {
    "duration": 11,
    "start_time": "2021-12-08T10:23:52.782Z"
   },
   {
    "duration": 11,
    "start_time": "2021-12-08T10:23:52.796Z"
   },
   {
    "duration": 3,
    "start_time": "2021-12-08T10:24:42.755Z"
   },
   {
    "duration": 81,
    "start_time": "2021-12-08T10:24:42.761Z"
   },
   {
    "duration": 21,
    "start_time": "2021-12-08T10:24:42.845Z"
   },
   {
    "duration": 15,
    "start_time": "2021-12-08T10:24:42.868Z"
   },
   {
    "duration": 20,
    "start_time": "2021-12-08T10:24:42.886Z"
   },
   {
    "duration": 50,
    "start_time": "2021-12-08T10:24:42.909Z"
   },
   {
    "duration": 10,
    "start_time": "2021-12-08T10:24:42.961Z"
   },
   {
    "duration": 8,
    "start_time": "2021-12-08T10:24:42.974Z"
   },
   {
    "duration": 6,
    "start_time": "2021-12-08T10:24:42.985Z"
   },
   {
    "duration": 19,
    "start_time": "2021-12-08T10:25:21.273Z"
   },
   {
    "duration": 739,
    "start_time": "2021-12-08T10:25:37.085Z"
   },
   {
    "duration": 397,
    "start_time": "2021-12-08T10:26:30.702Z"
   },
   {
    "duration": 5,
    "start_time": "2021-12-08T10:26:40.191Z"
   },
   {
    "duration": 19,
    "start_time": "2021-12-08T10:26:46.570Z"
   },
   {
    "duration": 27,
    "start_time": "2021-12-08T10:26:59.259Z"
   },
   {
    "duration": 11,
    "start_time": "2021-12-08T10:28:56.655Z"
   },
   {
    "duration": 5,
    "start_time": "2021-12-08T10:30:22.401Z"
   },
   {
    "duration": 10808,
    "start_time": "2021-12-08T10:30:48.234Z"
   },
   {
    "duration": 19,
    "start_time": "2021-12-08T10:31:03.093Z"
   },
   {
    "duration": 19,
    "start_time": "2021-12-08T10:31:07.212Z"
   },
   {
    "duration": 345,
    "start_time": "2021-12-08T13:54:33.829Z"
   },
   {
    "duration": 248,
    "start_time": "2021-12-08T13:54:53.733Z"
   },
   {
    "duration": 1065,
    "start_time": "2021-12-08T13:55:03.912Z"
   },
   {
    "duration": 57,
    "start_time": "2021-12-08T13:55:04.979Z"
   },
   {
    "duration": 10,
    "start_time": "2021-12-08T13:55:05.038Z"
   },
   {
    "duration": 10,
    "start_time": "2021-12-08T13:55:05.050Z"
   },
   {
    "duration": 28,
    "start_time": "2021-12-08T13:55:05.062Z"
   },
   {
    "duration": 3,
    "start_time": "2021-12-08T13:55:05.092Z"
   },
   {
    "duration": 10,
    "start_time": "2021-12-08T13:55:23.037Z"
   },
   {
    "duration": 10,
    "start_time": "2021-12-08T13:55:28.914Z"
   },
   {
    "duration": 262,
    "start_time": "2021-12-08T13:56:59.611Z"
   },
   {
    "duration": 10,
    "start_time": "2021-12-08T13:57:17.375Z"
   },
   {
    "duration": 2,
    "start_time": "2021-12-08T13:57:32.512Z"
   },
   {
    "duration": 56,
    "start_time": "2021-12-08T13:57:32.516Z"
   },
   {
    "duration": 10,
    "start_time": "2021-12-08T13:57:32.573Z"
   },
   {
    "duration": 8,
    "start_time": "2021-12-08T13:57:32.584Z"
   },
   {
    "duration": 11,
    "start_time": "2021-12-08T13:57:32.594Z"
   },
   {
    "duration": 9,
    "start_time": "2021-12-08T13:57:32.606Z"
   },
   {
    "duration": 11,
    "start_time": "2021-12-08T13:57:32.617Z"
   },
   {
    "duration": 6,
    "start_time": "2021-12-08T13:57:32.629Z"
   },
   {
    "duration": 10,
    "start_time": "2021-12-08T13:57:32.637Z"
   },
   {
    "duration": 6,
    "start_time": "2021-12-08T13:57:32.648Z"
   },
   {
    "duration": 33,
    "start_time": "2021-12-08T13:57:32.656Z"
   },
   {
    "duration": 9,
    "start_time": "2021-12-08T13:57:32.691Z"
   },
   {
    "duration": 6,
    "start_time": "2021-12-08T13:57:32.702Z"
   },
   {
    "duration": 250,
    "start_time": "2021-12-08T13:57:32.709Z"
   },
   {
    "duration": -788,
    "start_time": "2021-12-08T13:57:33.749Z"
   },
   {
    "duration": -796,
    "start_time": "2021-12-08T13:57:33.757Z"
   },
   {
    "duration": 236,
    "start_time": "2021-12-08T13:58:20.645Z"
   },
   {
    "duration": 10,
    "start_time": "2021-12-08T13:58:30.496Z"
   },
   {
    "duration": 10,
    "start_time": "2021-12-08T13:58:45.284Z"
   },
   {
    "duration": 13,
    "start_time": "2021-12-08T13:58:48.259Z"
   },
   {
    "duration": 53,
    "start_time": "2021-12-08T14:06:42.966Z"
   },
   {
    "duration": 11,
    "start_time": "2021-12-08T14:32:05.234Z"
   },
   {
    "duration": 10,
    "start_time": "2021-12-08T14:34:30.381Z"
   },
   {
    "duration": 9,
    "start_time": "2021-12-08T14:35:21.230Z"
   },
   {
    "duration": 10,
    "start_time": "2021-12-08T14:36:45.793Z"
   },
   {
    "duration": 10,
    "start_time": "2021-12-08T14:37:25.045Z"
   },
   {
    "duration": 2,
    "start_time": "2021-12-08T14:37:28.943Z"
   },
   {
    "duration": 56,
    "start_time": "2021-12-08T14:37:28.946Z"
   },
   {
    "duration": 9,
    "start_time": "2021-12-08T14:37:29.004Z"
   },
   {
    "duration": 8,
    "start_time": "2021-12-08T14:37:29.015Z"
   },
   {
    "duration": 9,
    "start_time": "2021-12-08T14:37:29.024Z"
   },
   {
    "duration": 9,
    "start_time": "2021-12-08T14:37:29.034Z"
   },
   {
    "duration": 9,
    "start_time": "2021-12-08T14:37:29.045Z"
   },
   {
    "duration": 10,
    "start_time": "2021-12-08T14:37:32.286Z"
   },
   {
    "duration": 6214,
    "start_time": "2021-12-08T14:38:07.918Z"
   },
   {
    "duration": 81,
    "start_time": "2021-12-08T14:46:10.129Z"
   },
   {
    "duration": 126,
    "start_time": "2021-12-08T14:46:17.901Z"
   },
   {
    "duration": 98,
    "start_time": "2021-12-08T14:47:00.601Z"
   },
   {
    "duration": 79,
    "start_time": "2021-12-08T14:48:04.985Z"
   },
   {
    "duration": 3,
    "start_time": "2021-12-08T14:48:13.425Z"
   },
   {
    "duration": 55,
    "start_time": "2021-12-08T14:48:13.430Z"
   },
   {
    "duration": 11,
    "start_time": "2021-12-08T14:48:13.487Z"
   },
   {
    "duration": 9,
    "start_time": "2021-12-08T14:48:13.500Z"
   },
   {
    "duration": 11,
    "start_time": "2021-12-08T14:48:16.175Z"
   },
   {
    "duration": 76,
    "start_time": "2021-12-08T14:49:03.199Z"
   },
   {
    "duration": 8058,
    "start_time": "2021-12-08T14:49:11.756Z"
   },
   {
    "duration": -814,
    "start_time": "2021-12-08T14:49:20.630Z"
   },
   {
    "duration": -819,
    "start_time": "2021-12-08T14:49:20.636Z"
   },
   {
    "duration": 6106,
    "start_time": "2021-12-08T14:50:07.779Z"
   },
   {
    "duration": 6657,
    "start_time": "2021-12-08T14:54:26.107Z"
   },
   {
    "duration": 2,
    "start_time": "2021-12-08T14:55:08.869Z"
   },
   {
    "duration": 8,
    "start_time": "2021-12-08T14:55:10.206Z"
   },
   {
    "duration": 11,
    "start_time": "2021-12-08T14:55:13.360Z"
   },
   {
    "duration": 3,
    "start_time": "2021-12-08T14:55:42.969Z"
   },
   {
    "duration": 58,
    "start_time": "2021-12-08T14:55:42.973Z"
   },
   {
    "duration": 9,
    "start_time": "2021-12-08T14:55:43.033Z"
   },
   {
    "duration": 8,
    "start_time": "2021-12-08T14:55:43.044Z"
   },
   {
    "duration": 3,
    "start_time": "2021-12-08T14:55:43.053Z"
   },
   {
    "duration": 10,
    "start_time": "2021-12-08T14:55:43.057Z"
   },
   {
    "duration": 11,
    "start_time": "2021-12-08T14:55:46.412Z"
   },
   {
    "duration": 7,
    "start_time": "2021-12-08T14:56:09.723Z"
   },
   {
    "duration": 10,
    "start_time": "2021-12-08T14:56:15.636Z"
   },
   {
    "duration": 12,
    "start_time": "2021-12-08T14:56:21.276Z"
   },
   {
    "duration": 11,
    "start_time": "2021-12-08T14:56:36.388Z"
   },
   {
    "duration": 10,
    "start_time": "2021-12-08T14:56:39.430Z"
   },
   {
    "duration": 10,
    "start_time": "2021-12-08T14:56:42.634Z"
   },
   {
    "duration": 9,
    "start_time": "2021-12-08T14:58:06.817Z"
   },
   {
    "duration": 7,
    "start_time": "2021-12-08T15:03:07.770Z"
   },
   {
    "duration": 4,
    "start_time": "2021-12-08T15:04:03.293Z"
   },
   {
    "duration": 4,
    "start_time": "2021-12-08T15:04:33.280Z"
   },
   {
    "duration": 231,
    "start_time": "2021-12-08T15:09:21.089Z"
   },
   {
    "duration": 6,
    "start_time": "2021-12-08T15:09:27.568Z"
   },
   {
    "duration": 5,
    "start_time": "2021-12-08T15:13:06.040Z"
   },
   {
    "duration": 6,
    "start_time": "2021-12-08T15:14:15.301Z"
   },
   {
    "duration": 6,
    "start_time": "2021-12-08T15:14:49.668Z"
   },
   {
    "duration": 6,
    "start_time": "2021-12-08T15:15:08.995Z"
   },
   {
    "duration": 5,
    "start_time": "2021-12-08T15:15:14.995Z"
   },
   {
    "duration": 7,
    "start_time": "2021-12-08T15:15:24.817Z"
   },
   {
    "duration": 7,
    "start_time": "2021-12-08T15:16:10.938Z"
   },
   {
    "duration": 4,
    "start_time": "2021-12-08T15:21:54.197Z"
   },
   {
    "duration": 4,
    "start_time": "2021-12-08T15:23:05.329Z"
   },
   {
    "duration": 5,
    "start_time": "2021-12-08T15:26:15.998Z"
   },
   {
    "duration": 4,
    "start_time": "2021-12-08T15:26:45.508Z"
   },
   {
    "duration": 4,
    "start_time": "2021-12-08T15:27:18.902Z"
   },
   {
    "duration": 5,
    "start_time": "2021-12-08T15:28:38.050Z"
   },
   {
    "duration": 4,
    "start_time": "2021-12-08T15:29:43.514Z"
   },
   {
    "duration": 5,
    "start_time": "2021-12-08T15:30:14.783Z"
   },
   {
    "duration": 234,
    "start_time": "2021-12-08T15:40:08.678Z"
   },
   {
    "duration": 234,
    "start_time": "2021-12-08T15:40:23.398Z"
   },
   {
    "duration": 5,
    "start_time": "2021-12-08T15:40:35.002Z"
   },
   {
    "duration": 6,
    "start_time": "2021-12-08T15:41:58.839Z"
   },
   {
    "duration": 8,
    "start_time": "2021-12-08T15:42:12.788Z"
   },
   {
    "duration": 7,
    "start_time": "2021-12-08T15:42:21.118Z"
   },
   {
    "duration": 5,
    "start_time": "2021-12-08T15:42:30.650Z"
   },
   {
    "duration": 4,
    "start_time": "2021-12-08T15:43:33.498Z"
   },
   {
    "duration": 3,
    "start_time": "2021-12-08T15:43:36.084Z"
   },
   {
    "duration": 11,
    "start_time": "2021-12-08T15:43:39.375Z"
   },
   {
    "duration": 12,
    "start_time": "2021-12-08T15:43:56.914Z"
   },
   {
    "duration": 14,
    "start_time": "2021-12-08T15:44:11.016Z"
   },
   {
    "duration": 7,
    "start_time": "2021-12-08T16:13:18.233Z"
   },
   {
    "duration": 5,
    "start_time": "2021-12-08T16:13:34.119Z"
   },
   {
    "duration": 10,
    "start_time": "2021-12-08T16:13:45.914Z"
   },
   {
    "duration": 220,
    "start_time": "2021-12-08T16:15:58.989Z"
   },
   {
    "duration": 252,
    "start_time": "2021-12-08T16:16:16.065Z"
   },
   {
    "duration": 230,
    "start_time": "2021-12-08T16:17:08.460Z"
   },
   {
    "duration": 546,
    "start_time": "2021-12-08T16:18:13.496Z"
   },
   {
    "duration": 340,
    "start_time": "2021-12-09T19:01:10.176Z"
   },
   {
    "duration": 317,
    "start_time": "2021-12-09T19:02:04.067Z"
   },
   {
    "duration": 386,
    "start_time": "2021-12-09T19:02:15.667Z"
   },
   {
    "duration": 1560,
    "start_time": "2021-12-09T19:02:25.140Z"
   },
   {
    "duration": 80,
    "start_time": "2021-12-09T19:02:26.702Z"
   },
   {
    "duration": 15,
    "start_time": "2021-12-09T19:02:26.785Z"
   },
   {
    "duration": 25,
    "start_time": "2021-12-09T19:02:26.802Z"
   },
   {
    "duration": 10,
    "start_time": "2021-12-09T19:02:26.830Z"
   },
   {
    "duration": 14,
    "start_time": "2021-12-09T19:02:26.842Z"
   },
   {
    "duration": 12,
    "start_time": "2021-12-09T19:02:26.859Z"
   },
   {
    "duration": 57,
    "start_time": "2021-12-09T19:02:26.875Z"
   },
   {
    "duration": 6,
    "start_time": "2021-12-09T19:02:26.935Z"
   },
   {
    "duration": 8,
    "start_time": "2021-12-09T19:02:26.943Z"
   },
   {
    "duration": 6,
    "start_time": "2021-12-09T19:02:26.954Z"
   },
   {
    "duration": 10,
    "start_time": "2021-12-09T19:02:26.962Z"
   },
   {
    "duration": 379,
    "start_time": "2021-12-09T19:02:31.624Z"
   },
   {
    "duration": 312,
    "start_time": "2021-12-09T19:03:02.703Z"
   },
   {
    "duration": 113,
    "start_time": "2021-12-09T19:11:51.017Z"
   },
   {
    "duration": 227,
    "start_time": "2021-12-09T19:15:25.836Z"
   },
   {
    "duration": 101,
    "start_time": "2021-12-09T19:16:00.610Z"
   },
   {
    "duration": 10,
    "start_time": "2021-12-09T19:16:23.151Z"
   },
   {
    "duration": 1236,
    "start_time": "2021-12-09T19:16:33.186Z"
   },
   {
    "duration": 19,
    "start_time": "2021-12-09T19:16:56.091Z"
   },
   {
    "duration": 10,
    "start_time": "2021-12-09T19:17:02.901Z"
   },
   {
    "duration": 9,
    "start_time": "2021-12-09T19:17:25.489Z"
   },
   {
    "duration": 8,
    "start_time": "2021-12-09T19:17:44.515Z"
   },
   {
    "duration": 9,
    "start_time": "2021-12-09T19:18:01.591Z"
   },
   {
    "duration": 14,
    "start_time": "2021-12-09T19:20:29.216Z"
   },
   {
    "duration": 6,
    "start_time": "2021-12-09T19:24:16.276Z"
   },
   {
    "duration": 38,
    "start_time": "2021-12-09T19:25:19.240Z"
   },
   {
    "duration": 6,
    "start_time": "2021-12-09T19:25:34.458Z"
   },
   {
    "duration": 313,
    "start_time": "2021-12-09T19:27:22.203Z"
   },
   {
    "duration": 14,
    "start_time": "2021-12-09T19:27:34.715Z"
   },
   {
    "duration": 284,
    "start_time": "2021-12-09T19:28:38.653Z"
   },
   {
    "duration": 17,
    "start_time": "2021-12-09T19:28:46.461Z"
   },
   {
    "duration": 3,
    "start_time": "2021-12-09T19:29:25.739Z"
   },
   {
    "duration": 78,
    "start_time": "2021-12-09T19:29:25.748Z"
   },
   {
    "duration": 13,
    "start_time": "2021-12-09T19:29:25.829Z"
   },
   {
    "duration": 13,
    "start_time": "2021-12-09T19:29:25.845Z"
   },
   {
    "duration": 9,
    "start_time": "2021-12-09T19:29:25.861Z"
   },
   {
    "duration": 46,
    "start_time": "2021-12-09T19:29:25.872Z"
   },
   {
    "duration": 12,
    "start_time": "2021-12-09T19:29:25.921Z"
   },
   {
    "duration": 16,
    "start_time": "2021-12-09T19:29:25.935Z"
   },
   {
    "duration": 9,
    "start_time": "2021-12-09T19:29:25.954Z"
   },
   {
    "duration": 7,
    "start_time": "2021-12-09T19:29:25.968Z"
   },
   {
    "duration": 7,
    "start_time": "2021-12-09T19:29:26.016Z"
   },
   {
    "duration": 11,
    "start_time": "2021-12-09T19:29:26.025Z"
   },
   {
    "duration": 18,
    "start_time": "2021-12-09T19:29:26.038Z"
   },
   {
    "duration": 6,
    "start_time": "2021-12-09T19:29:26.059Z"
   },
   {
    "duration": 60,
    "start_time": "2021-12-09T19:29:26.068Z"
   },
   {
    "duration": 6,
    "start_time": "2021-12-09T19:29:26.130Z"
   },
   {
    "duration": 10,
    "start_time": "2021-12-09T19:29:26.139Z"
   },
   {
    "duration": 6,
    "start_time": "2021-12-09T19:29:26.151Z"
   },
   {
    "duration": 9,
    "start_time": "2021-12-09T19:29:26.159Z"
   },
   {
    "duration": 55,
    "start_time": "2021-12-09T19:29:26.170Z"
   },
   {
    "duration": 19,
    "start_time": "2021-12-09T19:29:26.227Z"
   },
   {
    "duration": 10,
    "start_time": "2021-12-09T19:29:26.249Z"
   },
   {
    "duration": 6,
    "start_time": "2021-12-09T19:29:26.261Z"
   },
   {
    "duration": 49,
    "start_time": "2021-12-09T19:29:26.269Z"
   },
   {
    "duration": 17,
    "start_time": "2021-12-09T19:29:26.320Z"
   },
   {
    "duration": 18,
    "start_time": "2021-12-09T19:29:26.339Z"
   },
   {
    "duration": 24,
    "start_time": "2021-12-09T19:30:33.076Z"
   },
   {
    "duration": 21,
    "start_time": "2021-12-09T19:30:49.152Z"
   },
   {
    "duration": 21,
    "start_time": "2021-12-09T19:31:57.466Z"
   },
   {
    "duration": 32,
    "start_time": "2021-12-09T19:32:07.672Z"
   },
   {
    "duration": 48,
    "start_time": "2021-12-09T19:32:55.029Z"
   },
   {
    "duration": 51,
    "start_time": "2021-12-09T19:33:11.140Z"
   },
   {
    "duration": 26,
    "start_time": "2021-12-09T19:34:17.737Z"
   },
   {
    "duration": 22,
    "start_time": "2021-12-09T19:34:39.738Z"
   },
   {
    "duration": 17,
    "start_time": "2021-12-09T19:34:54.517Z"
   },
   {
    "duration": 16,
    "start_time": "2021-12-09T19:35:19.939Z"
   },
   {
    "duration": 3,
    "start_time": "2021-12-09T19:35:31.933Z"
   },
   {
    "duration": 88,
    "start_time": "2021-12-09T19:35:31.938Z"
   },
   {
    "duration": 17,
    "start_time": "2021-12-09T19:35:32.029Z"
   },
   {
    "duration": 13,
    "start_time": "2021-12-09T19:35:32.049Z"
   },
   {
    "duration": 10,
    "start_time": "2021-12-09T19:35:32.065Z"
   },
   {
    "duration": 45,
    "start_time": "2021-12-09T19:35:32.077Z"
   },
   {
    "duration": 12,
    "start_time": "2021-12-09T19:35:32.126Z"
   },
   {
    "duration": 16,
    "start_time": "2021-12-09T19:35:32.141Z"
   },
   {
    "duration": 8,
    "start_time": "2021-12-09T19:35:32.160Z"
   },
   {
    "duration": 51,
    "start_time": "2021-12-09T19:35:32.170Z"
   },
   {
    "duration": 6,
    "start_time": "2021-12-09T19:35:32.224Z"
   },
   {
    "duration": 11,
    "start_time": "2021-12-09T19:35:32.232Z"
   },
   {
    "duration": 18,
    "start_time": "2021-12-09T19:35:32.246Z"
   },
   {
    "duration": 50,
    "start_time": "2021-12-09T19:35:32.267Z"
   },
   {
    "duration": 17,
    "start_time": "2021-12-09T19:35:32.319Z"
   },
   {
    "duration": 9,
    "start_time": "2021-12-09T19:35:32.338Z"
   },
   {
    "duration": 7,
    "start_time": "2021-12-09T19:35:32.350Z"
   },
   {
    "duration": 6,
    "start_time": "2021-12-09T19:35:32.360Z"
   },
   {
    "duration": 48,
    "start_time": "2021-12-09T19:35:32.371Z"
   },
   {
    "duration": 8,
    "start_time": "2021-12-09T19:35:32.422Z"
   },
   {
    "duration": 20,
    "start_time": "2021-12-09T19:35:32.434Z"
   },
   {
    "duration": 9,
    "start_time": "2021-12-09T19:35:32.457Z"
   },
   {
    "duration": 52,
    "start_time": "2021-12-09T19:35:32.469Z"
   },
   {
    "duration": 10,
    "start_time": "2021-12-09T19:35:32.523Z"
   },
   {
    "duration": 20,
    "start_time": "2021-12-09T19:35:32.536Z"
   },
   {
    "duration": 59,
    "start_time": "2021-12-09T19:35:32.558Z"
   },
   {
    "duration": 28,
    "start_time": "2021-12-09T19:35:47.195Z"
   },
   {
    "duration": 203,
    "start_time": "2021-12-10T07:30:17.593Z"
   },
   {
    "duration": 1111,
    "start_time": "2021-12-10T07:30:35.687Z"
   },
   {
    "duration": 65,
    "start_time": "2021-12-10T07:30:36.799Z"
   },
   {
    "duration": 10,
    "start_time": "2021-12-10T07:30:36.866Z"
   },
   {
    "duration": 14,
    "start_time": "2021-12-10T07:30:36.878Z"
   },
   {
    "duration": 6,
    "start_time": "2021-12-10T07:30:36.893Z"
   },
   {
    "duration": 9,
    "start_time": "2021-12-10T07:30:36.901Z"
   },
   {
    "duration": 10,
    "start_time": "2021-12-10T07:30:36.911Z"
   },
   {
    "duration": 11,
    "start_time": "2021-12-10T07:30:36.922Z"
   },
   {
    "duration": 4,
    "start_time": "2021-12-10T07:30:36.935Z"
   },
   {
    "duration": 6,
    "start_time": "2021-12-10T07:30:36.941Z"
   },
   {
    "duration": 4,
    "start_time": "2021-12-10T07:30:36.948Z"
   },
   {
    "duration": 43,
    "start_time": "2021-12-10T07:30:36.954Z"
   },
   {
    "duration": 15,
    "start_time": "2021-12-10T07:30:36.999Z"
   },
   {
    "duration": 5,
    "start_time": "2021-12-10T07:30:37.015Z"
   },
   {
    "duration": 12,
    "start_time": "2021-12-10T07:30:37.022Z"
   },
   {
    "duration": 6,
    "start_time": "2021-12-10T07:30:37.035Z"
   },
   {
    "duration": 6,
    "start_time": "2021-12-10T07:30:37.043Z"
   },
   {
    "duration": 5,
    "start_time": "2021-12-10T07:30:37.051Z"
   },
   {
    "duration": 4,
    "start_time": "2021-12-10T07:30:37.092Z"
   },
   {
    "duration": 8,
    "start_time": "2021-12-10T07:30:37.098Z"
   },
   {
    "duration": 13,
    "start_time": "2021-12-10T07:30:37.107Z"
   },
   {
    "duration": 6,
    "start_time": "2021-12-10T07:30:37.121Z"
   },
   {
    "duration": 12,
    "start_time": "2021-12-10T07:30:37.129Z"
   },
   {
    "duration": 12,
    "start_time": "2021-12-10T07:30:37.143Z"
   },
   {
    "duration": 12,
    "start_time": "2021-12-10T07:30:37.156Z"
   },
   {
    "duration": 11,
    "start_time": "2021-12-10T07:30:37.191Z"
   },
   {
    "duration": 17,
    "start_time": "2021-12-10T07:30:37.205Z"
   },
   {
    "duration": 16,
    "start_time": "2021-12-10T07:30:37.224Z"
   },
   {
    "duration": 33,
    "start_time": "2021-12-10T07:30:41.973Z"
   },
   {
    "duration": 5,
    "start_time": "2021-12-10T07:38:29.093Z"
   },
   {
    "duration": 3,
    "start_time": "2021-12-10T07:39:35.890Z"
   },
   {
    "duration": 62,
    "start_time": "2021-12-10T07:39:35.895Z"
   },
   {
    "duration": 12,
    "start_time": "2021-12-10T07:39:35.959Z"
   },
   {
    "duration": 28,
    "start_time": "2021-12-10T07:39:35.973Z"
   },
   {
    "duration": 8,
    "start_time": "2021-12-10T07:39:36.003Z"
   },
   {
    "duration": 10,
    "start_time": "2021-12-10T07:39:36.013Z"
   },
   {
    "duration": 10,
    "start_time": "2021-12-10T07:39:36.025Z"
   },
   {
    "duration": 12,
    "start_time": "2021-12-10T07:39:36.037Z"
   },
   {
    "duration": 46,
    "start_time": "2021-12-10T07:39:36.052Z"
   },
   {
    "duration": 7,
    "start_time": "2021-12-10T07:39:36.100Z"
   },
   {
    "duration": 10,
    "start_time": "2021-12-10T07:39:36.108Z"
   },
   {
    "duration": 14,
    "start_time": "2021-12-10T07:39:36.120Z"
   },
   {
    "duration": 4,
    "start_time": "2021-12-10T07:39:36.136Z"
   },
   {
    "duration": 7,
    "start_time": "2021-12-10T07:39:36.142Z"
   },
   {
    "duration": 18,
    "start_time": "2021-12-10T07:39:36.151Z"
   },
   {
    "duration": 5,
    "start_time": "2021-12-10T07:39:36.191Z"
   },
   {
    "duration": 10,
    "start_time": "2021-12-10T07:39:36.198Z"
   },
   {
    "duration": 8,
    "start_time": "2021-12-10T07:39:36.209Z"
   },
   {
    "duration": 7,
    "start_time": "2021-12-10T07:39:36.218Z"
   },
   {
    "duration": 7,
    "start_time": "2021-12-10T07:39:36.226Z"
   },
   {
    "duration": 13,
    "start_time": "2021-12-10T07:39:36.235Z"
   },
   {
    "duration": 7,
    "start_time": "2021-12-10T07:39:36.250Z"
   },
   {
    "duration": 5,
    "start_time": "2021-12-10T07:39:36.292Z"
   },
   {
    "duration": 6,
    "start_time": "2021-12-10T07:39:36.300Z"
   },
   {
    "duration": 13,
    "start_time": "2021-12-10T07:39:36.308Z"
   },
   {
    "duration": 11,
    "start_time": "2021-12-10T07:39:36.323Z"
   },
   {
    "duration": 18,
    "start_time": "2021-12-10T07:39:36.335Z"
   },
   {
    "duration": 51,
    "start_time": "2021-12-10T07:39:36.355Z"
   },
   {
    "duration": 29,
    "start_time": "2021-12-10T07:39:40.847Z"
   },
   {
    "duration": 62,
    "start_time": "2021-12-10T08:08:51.696Z"
   },
   {
    "duration": 3,
    "start_time": "2021-12-10T08:09:05.487Z"
   },
   {
    "duration": 76,
    "start_time": "2021-12-10T08:09:05.491Z"
   },
   {
    "duration": 66,
    "start_time": "2021-12-10T08:09:21.062Z"
   },
   {
    "duration": 10,
    "start_time": "2021-12-10T08:10:04.032Z"
   },
   {
    "duration": 34,
    "start_time": "2021-12-10T08:11:23.044Z"
   },
   {
    "duration": 33,
    "start_time": "2021-12-10T08:17:02.467Z"
   },
   {
    "duration": 32,
    "start_time": "2021-12-10T08:19:35.070Z"
   },
   {
    "duration": 2,
    "start_time": "2021-12-10T08:21:30.007Z"
   },
   {
    "duration": 76,
    "start_time": "2021-12-10T08:21:30.014Z"
   },
   {
    "duration": 12,
    "start_time": "2021-12-10T08:21:30.092Z"
   },
   {
    "duration": 10,
    "start_time": "2021-12-10T08:21:30.106Z"
   },
   {
    "duration": 7,
    "start_time": "2021-12-10T08:21:30.119Z"
   },
   {
    "duration": 11,
    "start_time": "2021-12-10T08:21:30.128Z"
   },
   {
    "duration": 9,
    "start_time": "2021-12-10T08:21:30.141Z"
   },
   {
    "duration": 48,
    "start_time": "2021-12-10T08:21:30.151Z"
   },
   {
    "duration": 10,
    "start_time": "2021-12-10T08:21:57.622Z"
   },
   {
    "duration": 9,
    "start_time": "2021-12-10T08:22:00.093Z"
   },
   {
    "duration": 11,
    "start_time": "2021-12-10T08:22:02.489Z"
   },
   {
    "duration": 28,
    "start_time": "2021-12-10T08:22:04.847Z"
   },
   {
    "duration": 10,
    "start_time": "2021-12-10T08:36:22.622Z"
   },
   {
    "duration": 5,
    "start_time": "2021-12-10T08:36:39.257Z"
   },
   {
    "duration": 11,
    "start_time": "2021-12-10T08:41:29.611Z"
   },
   {
    "duration": 3,
    "start_time": "2021-12-10T08:41:53.213Z"
   },
   {
    "duration": 84,
    "start_time": "2021-12-10T08:41:53.217Z"
   },
   {
    "duration": 10,
    "start_time": "2021-12-10T08:41:53.303Z"
   },
   {
    "duration": 20,
    "start_time": "2021-12-10T08:41:53.315Z"
   },
   {
    "duration": 25,
    "start_time": "2021-12-10T08:41:53.337Z"
   },
   {
    "duration": 21,
    "start_time": "2021-12-10T08:41:53.364Z"
   },
   {
    "duration": 29,
    "start_time": "2021-12-10T08:41:53.386Z"
   },
   {
    "duration": 28,
    "start_time": "2021-12-10T08:41:53.417Z"
   },
   {
    "duration": 45,
    "start_time": "2021-12-10T08:41:53.447Z"
   },
   {
    "duration": 9,
    "start_time": "2021-12-10T08:41:53.494Z"
   },
   {
    "duration": 29,
    "start_time": "2021-12-10T08:41:53.505Z"
   },
   {
    "duration": 30,
    "start_time": "2021-12-10T08:41:53.535Z"
   },
   {
    "duration": 17,
    "start_time": "2021-12-10T08:41:53.567Z"
   },
   {
    "duration": 34,
    "start_time": "2021-12-10T08:41:53.586Z"
   },
   {
    "duration": 83,
    "start_time": "2021-12-10T08:41:53.622Z"
   },
   {
    "duration": 3,
    "start_time": "2021-12-10T08:42:15.565Z"
   },
   {
    "duration": 86,
    "start_time": "2021-12-10T08:42:15.570Z"
   },
   {
    "duration": 9,
    "start_time": "2021-12-10T08:42:15.658Z"
   },
   {
    "duration": 13,
    "start_time": "2021-12-10T08:42:15.669Z"
   },
   {
    "duration": 27,
    "start_time": "2021-12-10T08:42:15.683Z"
   },
   {
    "duration": 20,
    "start_time": "2021-12-10T08:42:15.712Z"
   },
   {
    "duration": 38,
    "start_time": "2021-12-10T08:42:15.734Z"
   },
   {
    "duration": 35,
    "start_time": "2021-12-10T08:42:15.774Z"
   },
   {
    "duration": 34,
    "start_time": "2021-12-10T08:42:15.811Z"
   },
   {
    "duration": 8,
    "start_time": "2021-12-10T08:42:15.847Z"
   },
   {
    "duration": 11,
    "start_time": "2021-12-10T08:42:15.856Z"
   },
   {
    "duration": 21,
    "start_time": "2021-12-10T08:42:15.868Z"
   },
   {
    "duration": 26,
    "start_time": "2021-12-10T08:42:15.890Z"
   },
   {
    "duration": 11,
    "start_time": "2021-12-10T08:42:15.918Z"
   },
   {
    "duration": 16,
    "start_time": "2021-12-10T08:42:18.207Z"
   },
   {
    "duration": 56,
    "start_time": "2021-12-10T08:49:54.025Z"
   },
   {
    "duration": 5,
    "start_time": "2021-12-10T08:54:16.881Z"
   },
   {
    "duration": 13,
    "start_time": "2021-12-10T09:00:35.250Z"
   },
   {
    "duration": 19,
    "start_time": "2021-12-10T09:01:05.374Z"
   },
   {
    "duration": 11,
    "start_time": "2021-12-10T09:02:17.241Z"
   },
   {
    "duration": 10,
    "start_time": "2021-12-10T09:02:26.660Z"
   },
   {
    "duration": 15,
    "start_time": "2021-12-10T09:03:04.252Z"
   },
   {
    "duration": 17,
    "start_time": "2021-12-10T09:03:06.660Z"
   },
   {
    "duration": 15,
    "start_time": "2021-12-10T09:03:15.805Z"
   },
   {
    "duration": 4,
    "start_time": "2021-12-10T09:04:19.956Z"
   },
   {
    "duration": 260,
    "start_time": "2021-12-11T08:17:37.533Z"
   },
   {
    "duration": 1027,
    "start_time": "2021-12-11T08:17:42.413Z"
   },
   {
    "duration": 62,
    "start_time": "2021-12-11T08:17:43.442Z"
   },
   {
    "duration": 9,
    "start_time": "2021-12-11T08:17:43.505Z"
   },
   {
    "duration": 8,
    "start_time": "2021-12-11T08:17:43.516Z"
   },
   {
    "duration": 6,
    "start_time": "2021-12-11T08:17:43.525Z"
   },
   {
    "duration": 7,
    "start_time": "2021-12-11T08:17:43.533Z"
   },
   {
    "duration": 8,
    "start_time": "2021-12-11T08:17:43.542Z"
   },
   {
    "duration": 38,
    "start_time": "2021-12-11T08:17:43.551Z"
   },
   {
    "duration": 26,
    "start_time": "2021-12-11T08:17:43.592Z"
   },
   {
    "duration": 5,
    "start_time": "2021-12-11T08:17:43.619Z"
   },
   {
    "duration": 6,
    "start_time": "2021-12-11T08:17:43.625Z"
   },
   {
    "duration": 8,
    "start_time": "2021-12-11T08:17:43.632Z"
   },
   {
    "duration": 12,
    "start_time": "2021-12-11T08:17:46.250Z"
   },
   {
    "duration": 8,
    "start_time": "2021-12-11T08:17:53.664Z"
   },
   {
    "duration": 82,
    "start_time": "2021-12-11T08:19:29.367Z"
   },
   {
    "duration": 73,
    "start_time": "2021-12-11T08:19:37.200Z"
   },
   {
    "duration": 7,
    "start_time": "2021-12-11T08:19:41.936Z"
   },
   {
    "duration": 4,
    "start_time": "2021-12-11T08:20:09.254Z"
   },
   {
    "duration": 298,
    "start_time": "2021-12-11T08:20:21.168Z"
   },
   {
    "duration": 269,
    "start_time": "2021-12-11T08:20:46.381Z"
   },
   {
    "duration": 10,
    "start_time": "2021-12-11T08:21:39.723Z"
   },
   {
    "duration": 85,
    "start_time": "2021-12-11T08:26:16.870Z"
   },
   {
    "duration": 9,
    "start_time": "2021-12-11T08:26:23.203Z"
   },
   {
    "duration": 5,
    "start_time": "2021-12-11T08:27:13.473Z"
   },
   {
    "duration": 2,
    "start_time": "2021-12-11T08:29:19.648Z"
   },
   {
    "duration": 61,
    "start_time": "2021-12-11T08:29:19.654Z"
   },
   {
    "duration": 9,
    "start_time": "2021-12-11T08:29:19.716Z"
   },
   {
    "duration": 8,
    "start_time": "2021-12-11T08:29:19.727Z"
   },
   {
    "duration": 6,
    "start_time": "2021-12-11T08:29:19.736Z"
   },
   {
    "duration": 8,
    "start_time": "2021-12-11T08:29:19.743Z"
   },
   {
    "duration": 35,
    "start_time": "2021-12-11T08:29:19.753Z"
   },
   {
    "duration": 9,
    "start_time": "2021-12-11T08:29:19.790Z"
   },
   {
    "duration": 25,
    "start_time": "2021-12-11T08:29:19.801Z"
   },
   {
    "duration": 5,
    "start_time": "2021-12-11T08:29:19.828Z"
   },
   {
    "duration": 5,
    "start_time": "2021-12-11T08:29:19.834Z"
   },
   {
    "duration": 7,
    "start_time": "2021-12-11T08:29:19.840Z"
   },
   {
    "duration": 40,
    "start_time": "2021-12-11T08:29:19.848Z"
   },
   {
    "duration": 8,
    "start_time": "2021-12-11T08:29:19.889Z"
   },
   {
    "duration": 13,
    "start_time": "2021-12-11T08:29:19.899Z"
   },
   {
    "duration": 4,
    "start_time": "2021-12-11T08:29:19.913Z"
   },
   {
    "duration": 5,
    "start_time": "2021-12-11T08:29:19.919Z"
   },
   {
    "duration": 14,
    "start_time": "2021-12-11T08:29:19.925Z"
   },
   {
    "duration": 5,
    "start_time": "2021-12-11T08:29:19.940Z"
   },
   {
    "duration": 4,
    "start_time": "2021-12-11T08:29:19.946Z"
   },
   {
    "duration": 39,
    "start_time": "2021-12-11T08:29:19.952Z"
   },
   {
    "duration": 13,
    "start_time": "2021-12-11T08:29:19.992Z"
   },
   {
    "duration": 8,
    "start_time": "2021-12-11T08:29:20.007Z"
   },
   {
    "duration": 5,
    "start_time": "2021-12-11T08:29:20.017Z"
   },
   {
    "duration": 7,
    "start_time": "2021-12-11T08:29:20.023Z"
   },
   {
    "duration": 10,
    "start_time": "2021-12-11T08:29:20.032Z"
   },
   {
    "duration": 9,
    "start_time": "2021-12-11T08:29:20.044Z"
   },
   {
    "duration": 41,
    "start_time": "2021-12-11T08:29:20.055Z"
   },
   {
    "duration": 16,
    "start_time": "2021-12-11T08:29:20.097Z"
   },
   {
    "duration": 13,
    "start_time": "2021-12-11T08:29:20.114Z"
   },
   {
    "duration": 13,
    "start_time": "2021-12-11T08:31:42.219Z"
   },
   {
    "duration": 2,
    "start_time": "2021-12-11T08:31:50.281Z"
   },
   {
    "duration": 61,
    "start_time": "2021-12-11T08:31:50.287Z"
   },
   {
    "duration": 9,
    "start_time": "2021-12-11T08:31:50.349Z"
   },
   {
    "duration": 8,
    "start_time": "2021-12-11T08:31:50.360Z"
   },
   {
    "duration": 5,
    "start_time": "2021-12-11T08:31:50.388Z"
   },
   {
    "duration": 8,
    "start_time": "2021-12-11T08:31:50.395Z"
   },
   {
    "duration": 10,
    "start_time": "2021-12-11T08:31:50.404Z"
   },
   {
    "duration": 10,
    "start_time": "2021-12-11T08:31:50.415Z"
   },
   {
    "duration": 23,
    "start_time": "2021-12-11T08:31:50.428Z"
   },
   {
    "duration": 39,
    "start_time": "2021-12-11T08:31:50.453Z"
   },
   {
    "duration": 5,
    "start_time": "2021-12-11T08:31:50.494Z"
   },
   {
    "duration": 9,
    "start_time": "2021-12-11T08:31:50.501Z"
   },
   {
    "duration": 13,
    "start_time": "2021-12-11T08:31:50.512Z"
   },
   {
    "duration": 7,
    "start_time": "2021-12-11T08:31:50.526Z"
   },
   {
    "duration": 8,
    "start_time": "2021-12-11T08:31:50.534Z"
   },
   {
    "duration": 4,
    "start_time": "2021-12-11T08:31:50.544Z"
   },
   {
    "duration": 39,
    "start_time": "2021-12-11T08:31:50.549Z"
   },
   {
    "duration": 14,
    "start_time": "2021-12-11T08:31:50.589Z"
   },
   {
    "duration": 6,
    "start_time": "2021-12-11T08:31:50.604Z"
   },
   {
    "duration": 5,
    "start_time": "2021-12-11T08:31:50.611Z"
   },
   {
    "duration": 5,
    "start_time": "2021-12-11T08:31:50.617Z"
   },
   {
    "duration": 11,
    "start_time": "2021-12-11T08:31:50.624Z"
   },
   {
    "duration": 5,
    "start_time": "2021-12-11T08:31:50.637Z"
   },
   {
    "duration": 4,
    "start_time": "2021-12-11T08:31:50.645Z"
   },
   {
    "duration": 9,
    "start_time": "2021-12-11T08:31:50.650Z"
   },
   {
    "duration": 11,
    "start_time": "2021-12-11T08:31:50.688Z"
   },
   {
    "duration": 9,
    "start_time": "2021-12-11T08:31:50.700Z"
   },
   {
    "duration": 15,
    "start_time": "2021-12-11T08:31:53.886Z"
   },
   {
    "duration": 16,
    "start_time": "2021-12-11T08:31:59.393Z"
   },
   {
    "duration": 14,
    "start_time": "2021-12-11T08:32:00.996Z"
   },
   {
    "duration": 11,
    "start_time": "2021-12-11T08:34:40.587Z"
   },
   {
    "duration": 244,
    "start_time": "2021-12-11T08:45:38.754Z"
   },
   {
    "duration": 233,
    "start_time": "2021-12-11T08:45:52.701Z"
   },
   {
    "duration": 3,
    "start_time": "2021-12-11T09:27:54.480Z"
   },
   {
    "duration": 3,
    "start_time": "2021-12-11T09:47:47.363Z"
   },
   {
    "duration": 1116,
    "start_time": "2021-12-12T07:50:04.853Z"
   },
   {
    "duration": 68,
    "start_time": "2021-12-12T07:50:05.971Z"
   },
   {
    "duration": 11,
    "start_time": "2021-12-12T07:50:06.042Z"
   },
   {
    "duration": 12,
    "start_time": "2021-12-12T07:50:06.054Z"
   },
   {
    "duration": 12,
    "start_time": "2021-12-12T07:50:06.068Z"
   },
   {
    "duration": 9,
    "start_time": "2021-12-12T07:50:06.082Z"
   },
   {
    "duration": 12,
    "start_time": "2021-12-12T07:50:06.093Z"
   },
   {
    "duration": 17,
    "start_time": "2021-12-12T07:50:06.108Z"
   },
   {
    "duration": 44,
    "start_time": "2021-12-12T07:50:06.127Z"
   },
   {
    "duration": 5,
    "start_time": "2021-12-12T07:50:06.173Z"
   },
   {
    "duration": 7,
    "start_time": "2021-12-12T07:50:06.179Z"
   },
   {
    "duration": 8,
    "start_time": "2021-12-12T07:50:06.187Z"
   },
   {
    "duration": 13,
    "start_time": "2021-12-12T07:50:06.196Z"
   },
   {
    "duration": 37,
    "start_time": "2021-12-12T07:50:06.211Z"
   },
   {
    "duration": 8,
    "start_time": "2021-12-12T07:50:06.250Z"
   },
   {
    "duration": 4,
    "start_time": "2021-12-12T07:50:06.260Z"
   },
   {
    "duration": 6,
    "start_time": "2021-12-12T07:50:06.265Z"
   },
   {
    "duration": 15,
    "start_time": "2021-12-12T07:50:06.272Z"
   },
   {
    "duration": 4,
    "start_time": "2021-12-12T07:50:06.289Z"
   },
   {
    "duration": 5,
    "start_time": "2021-12-12T07:50:06.295Z"
   },
   {
    "duration": 46,
    "start_time": "2021-12-12T07:50:06.301Z"
   },
   {
    "duration": 24,
    "start_time": "2021-12-12T07:50:06.348Z"
   },
   {
    "duration": 4,
    "start_time": "2021-12-12T07:50:06.375Z"
   },
   {
    "duration": 4,
    "start_time": "2021-12-12T07:50:06.381Z"
   },
   {
    "duration": 6,
    "start_time": "2021-12-12T07:50:06.387Z"
   },
   {
    "duration": 14,
    "start_time": "2021-12-12T07:50:06.395Z"
   },
   {
    "duration": 10,
    "start_time": "2021-12-12T07:50:06.410Z"
   },
   {
    "duration": 14,
    "start_time": "2021-12-12T07:50:06.445Z"
   },
   {
    "duration": 16,
    "start_time": "2021-12-12T07:50:06.461Z"
   },
   {
    "duration": 14,
    "start_time": "2021-12-12T07:50:06.479Z"
   },
   {
    "duration": 9,
    "start_time": "2021-12-12T07:50:06.494Z"
   },
   {
    "duration": 3,
    "start_time": "2021-12-12T07:50:06.504Z"
   },
   {
    "duration": 3804,
    "start_time": "2021-12-12T07:50:09.796Z"
   },
   {
    "duration": 13,
    "start_time": "2021-12-12T07:50:35.524Z"
   },
   {
    "duration": 13,
    "start_time": "2021-12-12T07:50:59.536Z"
   },
   {
    "duration": 3,
    "start_time": "2021-12-12T07:51:09.736Z"
   },
   {
    "duration": 3453,
    "start_time": "2021-12-12T07:51:13.998Z"
   },
   {
    "duration": 12,
    "start_time": "2021-12-12T07:51:17.453Z"
   },
   {
    "duration": 4,
    "start_time": "2021-12-12T07:52:23.241Z"
   },
   {
    "duration": 3635,
    "start_time": "2021-12-12T07:52:26.020Z"
   },
   {
    "duration": 12,
    "start_time": "2021-12-12T07:52:31.554Z"
   },
   {
    "duration": 11,
    "start_time": "2021-12-12T07:52:51.450Z"
   },
   {
    "duration": 571,
    "start_time": "2021-12-12T07:53:18.806Z"
   },
   {
    "duration": 1248,
    "start_time": "2021-12-12T07:53:59.726Z"
   },
   {
    "duration": 2,
    "start_time": "2021-12-12T07:55:19.448Z"
   },
   {
    "duration": 70,
    "start_time": "2021-12-12T07:55:19.452Z"
   },
   {
    "duration": 23,
    "start_time": "2021-12-12T07:55:19.524Z"
   },
   {
    "duration": 8,
    "start_time": "2021-12-12T07:55:19.549Z"
   },
   {
    "duration": 10,
    "start_time": "2021-12-12T07:55:19.558Z"
   },
   {
    "duration": 9,
    "start_time": "2021-12-12T07:55:19.570Z"
   },
   {
    "duration": 8,
    "start_time": "2021-12-12T07:55:19.581Z"
   },
   {
    "duration": 9,
    "start_time": "2021-12-12T07:55:19.591Z"
   },
   {
    "duration": 58,
    "start_time": "2021-12-12T07:55:19.602Z"
   },
   {
    "duration": 4,
    "start_time": "2021-12-12T07:55:19.662Z"
   },
   {
    "duration": 6,
    "start_time": "2021-12-12T07:55:19.668Z"
   },
   {
    "duration": 6,
    "start_time": "2021-12-12T07:55:19.676Z"
   },
   {
    "duration": 10,
    "start_time": "2021-12-12T07:55:19.684Z"
   },
   {
    "duration": 7,
    "start_time": "2021-12-12T07:55:19.695Z"
   },
   {
    "duration": 3,
    "start_time": "2021-12-12T07:55:19.704Z"
   },
   {
    "duration": 37,
    "start_time": "2021-12-12T07:55:19.709Z"
   },
   {
    "duration": 8,
    "start_time": "2021-12-12T07:55:19.748Z"
   },
   {
    "duration": 14,
    "start_time": "2021-12-12T07:55:19.757Z"
   },
   {
    "duration": 5,
    "start_time": "2021-12-12T07:55:19.774Z"
   },
   {
    "duration": 4,
    "start_time": "2021-12-12T07:55:19.781Z"
   },
   {
    "duration": 6,
    "start_time": "2021-12-12T07:55:19.787Z"
   },
   {
    "duration": 12,
    "start_time": "2021-12-12T07:55:19.794Z"
   },
   {
    "duration": 37,
    "start_time": "2021-12-12T07:55:19.808Z"
   },
   {
    "duration": 4,
    "start_time": "2021-12-12T07:55:19.847Z"
   },
   {
    "duration": 7,
    "start_time": "2021-12-12T07:55:19.853Z"
   },
   {
    "duration": 12,
    "start_time": "2021-12-12T07:55:19.862Z"
   },
   {
    "duration": 10,
    "start_time": "2021-12-12T07:55:19.876Z"
   },
   {
    "duration": 15,
    "start_time": "2021-12-12T07:55:19.888Z"
   },
   {
    "duration": 53,
    "start_time": "2021-12-12T07:55:19.905Z"
   },
   {
    "duration": 14,
    "start_time": "2021-12-12T07:55:19.960Z"
   },
   {
    "duration": 26,
    "start_time": "2021-12-12T07:55:19.976Z"
   },
   {
    "duration": 10,
    "start_time": "2021-12-12T07:55:28.748Z"
   },
   {
    "duration": 599,
    "start_time": "2021-12-12T07:55:35.350Z"
   },
   {
    "duration": 3,
    "start_time": "2021-12-12T07:59:56.412Z"
   },
   {
    "duration": 575,
    "start_time": "2021-12-12T08:00:12.988Z"
   },
   {
    "duration": 626,
    "start_time": "2021-12-12T08:06:06.639Z"
   },
   {
    "duration": 3,
    "start_time": "2021-12-12T08:06:27.670Z"
   },
   {
    "duration": 1365,
    "start_time": "2021-12-12T08:06:30.437Z"
   },
   {
    "duration": 4,
    "start_time": "2021-12-12T08:14:14.389Z"
   },
   {
    "duration": 1710,
    "start_time": "2021-12-12T08:14:35.116Z"
   },
   {
    "duration": 2,
    "start_time": "2021-12-12T08:19:59.771Z"
   },
   {
    "duration": 73,
    "start_time": "2021-12-12T08:19:59.776Z"
   },
   {
    "duration": 11,
    "start_time": "2021-12-12T08:19:59.851Z"
   },
   {
    "duration": 9,
    "start_time": "2021-12-12T08:19:59.864Z"
   },
   {
    "duration": 8,
    "start_time": "2021-12-12T08:19:59.874Z"
   },
   {
    "duration": 9,
    "start_time": "2021-12-12T08:19:59.884Z"
   },
   {
    "duration": 8,
    "start_time": "2021-12-12T08:19:59.895Z"
   },
   {
    "duration": 44,
    "start_time": "2021-12-12T08:19:59.905Z"
   },
   {
    "duration": 28,
    "start_time": "2021-12-12T08:19:59.952Z"
   },
   {
    "duration": 5,
    "start_time": "2021-12-12T08:19:59.982Z"
   },
   {
    "duration": 5,
    "start_time": "2021-12-12T08:19:59.989Z"
   },
   {
    "duration": 50,
    "start_time": "2021-12-12T08:19:59.996Z"
   },
   {
    "duration": 12,
    "start_time": "2021-12-12T08:20:00.048Z"
   },
   {
    "duration": 9,
    "start_time": "2021-12-12T08:20:00.061Z"
   },
   {
    "duration": 5,
    "start_time": "2021-12-12T08:20:00.072Z"
   },
   {
    "duration": 8,
    "start_time": "2021-12-12T08:20:00.079Z"
   },
   {
    "duration": 9,
    "start_time": "2021-12-12T08:20:00.089Z"
   },
   {
    "duration": 17,
    "start_time": "2021-12-12T08:20:00.100Z"
   },
   {
    "duration": 30,
    "start_time": "2021-12-12T08:20:00.118Z"
   },
   {
    "duration": 7,
    "start_time": "2021-12-12T08:20:00.150Z"
   },
   {
    "duration": 8,
    "start_time": "2021-12-12T08:20:00.159Z"
   },
   {
    "duration": 15,
    "start_time": "2021-12-12T08:20:00.169Z"
   },
   {
    "duration": 6,
    "start_time": "2021-12-12T08:20:00.185Z"
   },
   {
    "duration": 9,
    "start_time": "2021-12-12T08:20:00.194Z"
   },
   {
    "duration": 47,
    "start_time": "2021-12-12T08:20:00.205Z"
   },
   {
    "duration": 16,
    "start_time": "2021-12-12T08:20:00.253Z"
   },
   {
    "duration": 13,
    "start_time": "2021-12-12T08:20:00.271Z"
   },
   {
    "duration": 23,
    "start_time": "2021-12-12T08:20:00.286Z"
   },
   {
    "duration": 23,
    "start_time": "2021-12-12T08:20:00.311Z"
   },
   {
    "duration": 37,
    "start_time": "2021-12-12T08:20:00.336Z"
   },
   {
    "duration": 15,
    "start_time": "2021-12-12T08:20:00.375Z"
   },
   {
    "duration": 29,
    "start_time": "2021-12-12T08:20:00.392Z"
   },
   {
    "duration": 4492,
    "start_time": "2021-12-12T08:20:00.423Z"
   },
   {
    "duration": 12,
    "start_time": "2021-12-12T08:20:04.917Z"
   },
   {
    "duration": 14,
    "start_time": "2021-12-12T08:20:04.931Z"
   },
   {
    "duration": 1433,
    "start_time": "2021-12-12T08:20:04.947Z"
   },
   {
    "duration": 11,
    "start_time": "2021-12-12T08:20:30.604Z"
   },
   {
    "duration": 4,
    "start_time": "2021-12-12T08:20:54.302Z"
   },
   {
    "duration": 860,
    "start_time": "2021-12-12T08:21:57.981Z"
   },
   {
    "duration": 1414,
    "start_time": "2021-12-12T08:22:24.787Z"
   },
   {
    "duration": 572,
    "start_time": "2021-12-12T08:22:48.054Z"
   },
   {
    "duration": 3,
    "start_time": "2021-12-12T08:26:02.290Z"
   },
   {
    "duration": 74,
    "start_time": "2021-12-12T08:26:02.297Z"
   },
   {
    "duration": 11,
    "start_time": "2021-12-12T08:26:02.373Z"
   },
   {
    "duration": 10,
    "start_time": "2021-12-12T08:26:02.386Z"
   },
   {
    "duration": 9,
    "start_time": "2021-12-12T08:26:02.398Z"
   },
   {
    "duration": 12,
    "start_time": "2021-12-12T08:26:02.444Z"
   },
   {
    "duration": 11,
    "start_time": "2021-12-12T08:26:02.457Z"
   },
   {
    "duration": 16,
    "start_time": "2021-12-12T08:26:02.470Z"
   },
   {
    "duration": 54,
    "start_time": "2021-12-12T08:26:02.490Z"
   },
   {
    "duration": 7,
    "start_time": "2021-12-12T08:26:02.547Z"
   },
   {
    "duration": 6,
    "start_time": "2021-12-12T08:26:02.556Z"
   },
   {
    "duration": 11,
    "start_time": "2021-12-12T08:26:02.564Z"
   },
   {
    "duration": 11,
    "start_time": "2021-12-12T08:26:02.578Z"
   },
   {
    "duration": 8,
    "start_time": "2021-12-12T08:26:02.590Z"
   },
   {
    "duration": 5,
    "start_time": "2021-12-12T08:26:02.600Z"
   },
   {
    "duration": 39,
    "start_time": "2021-12-12T08:26:02.606Z"
   },
   {
    "duration": 5,
    "start_time": "2021-12-12T08:26:02.646Z"
   },
   {
    "duration": 22,
    "start_time": "2021-12-12T08:26:02.652Z"
   },
   {
    "duration": 9,
    "start_time": "2021-12-12T08:26:02.676Z"
   },
   {
    "duration": 7,
    "start_time": "2021-12-12T08:26:02.687Z"
   },
   {
    "duration": 8,
    "start_time": "2021-12-12T08:26:02.696Z"
   },
   {
    "duration": 41,
    "start_time": "2021-12-12T08:26:02.706Z"
   },
   {
    "duration": 7,
    "start_time": "2021-12-12T08:26:02.749Z"
   },
   {
    "duration": 6,
    "start_time": "2021-12-12T08:26:02.758Z"
   },
   {
    "duration": 7,
    "start_time": "2021-12-12T08:26:02.766Z"
   },
   {
    "duration": 12,
    "start_time": "2021-12-12T08:26:02.774Z"
   },
   {
    "duration": 10,
    "start_time": "2021-12-12T08:26:02.788Z"
   },
   {
    "duration": 46,
    "start_time": "2021-12-12T08:26:02.799Z"
   },
   {
    "duration": 16,
    "start_time": "2021-12-12T08:26:02.847Z"
   },
   {
    "duration": 14,
    "start_time": "2021-12-12T08:26:02.864Z"
   },
   {
    "duration": 25,
    "start_time": "2021-12-12T08:26:02.879Z"
   },
   {
    "duration": 3,
    "start_time": "2021-12-12T08:26:02.905Z"
   },
   {
    "duration": 5,
    "start_time": "2021-12-12T08:26:02.910Z"
   },
   {
    "duration": 29,
    "start_time": "2021-12-12T08:26:02.916Z"
   },
   {
    "duration": 5,
    "start_time": "2021-12-12T08:26:02.947Z"
   },
   {
    "duration": 1415,
    "start_time": "2021-12-12T08:26:02.954Z"
   },
   {
    "duration": 1331,
    "start_time": "2021-12-12T08:26:09.539Z"
   },
   {
    "duration": 3,
    "start_time": "2021-12-12T08:26:53.297Z"
   },
   {
    "duration": 1295,
    "start_time": "2021-12-12T08:26:56.184Z"
   },
   {
    "duration": 4129,
    "start_time": "2021-12-12T08:27:29.623Z"
   },
   {
    "duration": 14,
    "start_time": "2021-12-12T08:27:35.844Z"
   },
   {
    "duration": 3,
    "start_time": "2021-12-12T08:30:51.268Z"
   },
   {
    "duration": 8690,
    "start_time": "2021-12-12T08:30:55.612Z"
   },
   {
    "duration": 8294,
    "start_time": "2021-12-12T08:31:12.263Z"
   },
   {
    "duration": 4,
    "start_time": "2021-12-12T08:31:42.757Z"
   },
   {
    "duration": 575,
    "start_time": "2021-12-12T08:31:45.629Z"
   },
   {
    "duration": 3,
    "start_time": "2021-12-12T08:31:57.703Z"
   },
   {
    "duration": 558,
    "start_time": "2021-12-12T08:32:00.880Z"
   },
   {
    "duration": 4,
    "start_time": "2021-12-12T08:32:38.212Z"
   },
   {
    "duration": 85,
    "start_time": "2021-12-12T08:32:56.658Z"
   },
   {
    "duration": 2125,
    "start_time": "2021-12-12T08:33:18.469Z"
   },
   {
    "duration": 1032,
    "start_time": "2021-12-12T08:33:34.190Z"
   },
   {
    "duration": 8,
    "start_time": "2021-12-12T08:33:44.095Z"
   },
   {
    "duration": 7,
    "start_time": "2021-12-12T08:33:49.518Z"
   },
   {
    "duration": 16,
    "start_time": "2021-12-12T08:34:01.324Z"
   },
   {
    "duration": 18,
    "start_time": "2021-12-12T08:34:19.124Z"
   },
   {
    "duration": 18,
    "start_time": "2021-12-12T08:34:47.407Z"
   },
   {
    "duration": 8,
    "start_time": "2021-12-12T08:34:59.191Z"
   },
   {
    "duration": 8,
    "start_time": "2021-12-12T08:38:00.697Z"
   },
   {
    "duration": 18,
    "start_time": "2021-12-12T08:38:16.349Z"
   },
   {
    "duration": 3,
    "start_time": "2021-12-12T08:38:51.927Z"
   },
   {
    "duration": 20,
    "start_time": "2021-12-12T08:38:53.807Z"
   },
   {
    "duration": 20,
    "start_time": "2021-12-12T08:39:02.829Z"
   },
   {
    "duration": 3,
    "start_time": "2021-12-12T08:40:36.982Z"
   },
   {
    "duration": 8,
    "start_time": "2021-12-12T08:40:39.822Z"
   },
   {
    "duration": 4,
    "start_time": "2021-12-12T08:40:41.599Z"
   },
   {
    "duration": 21,
    "start_time": "2021-12-12T08:40:43.369Z"
   },
   {
    "duration": 13,
    "start_time": "2021-12-12T08:41:47.696Z"
   },
   {
    "duration": 13,
    "start_time": "2021-12-12T08:42:16.159Z"
   },
   {
    "duration": 4107,
    "start_time": "2021-12-12T08:42:50.707Z"
   },
   {
    "duration": 256,
    "start_time": "2021-12-12T08:50:02.920Z"
   },
   {
    "duration": 21,
    "start_time": "2021-12-12T08:50:22.317Z"
   },
   {
    "duration": 29,
    "start_time": "2021-12-12T08:50:36.535Z"
   },
   {
    "duration": 18,
    "start_time": "2021-12-12T08:51:06.777Z"
   },
   {
    "duration": 17,
    "start_time": "2021-12-12T08:51:38.894Z"
   },
   {
    "duration": 375,
    "start_time": "2021-12-12T08:52:05.869Z"
   },
   {
    "duration": 25,
    "start_time": "2021-12-12T08:52:34.707Z"
   },
   {
    "duration": 18,
    "start_time": "2021-12-12T08:54:25.973Z"
   },
   {
    "duration": 89,
    "start_time": "2021-12-12T08:56:49.019Z"
   },
   {
    "duration": 282,
    "start_time": "2021-12-12T08:57:17.235Z"
   },
   {
    "duration": 477,
    "start_time": "2021-12-12T08:57:28.865Z"
   },
   {
    "duration": 477,
    "start_time": "2021-12-12T08:58:02.700Z"
   },
   {
    "duration": 685,
    "start_time": "2021-12-12T08:58:34.827Z"
   },
   {
    "duration": 463,
    "start_time": "2021-12-12T09:00:01.137Z"
   },
   {
    "duration": 275,
    "start_time": "2021-12-12T09:00:36.597Z"
   },
   {
    "duration": 84,
    "start_time": "2021-12-12T09:00:52.506Z"
   },
   {
    "duration": 20,
    "start_time": "2021-12-12T09:01:01.227Z"
   },
   {
    "duration": 18,
    "start_time": "2021-12-12T09:02:41.140Z"
   },
   {
    "duration": 588,
    "start_time": "2021-12-12T09:03:11.675Z"
   },
   {
    "duration": 269,
    "start_time": "2021-12-12T09:12:20.252Z"
   },
   {
    "duration": 268,
    "start_time": "2021-12-12T09:13:04.041Z"
   },
   {
    "duration": 521,
    "start_time": "2021-12-12T09:22:23.849Z"
   },
   {
    "duration": 578,
    "start_time": "2021-12-12T09:33:19.270Z"
   },
   {
    "duration": 315,
    "start_time": "2021-12-13T14:59:06.456Z"
   },
   {
    "duration": 1529,
    "start_time": "2021-12-13T14:59:14.108Z"
   },
   {
    "duration": 99,
    "start_time": "2021-12-13T14:59:15.640Z"
   },
   {
    "duration": 16,
    "start_time": "2021-12-13T14:59:15.744Z"
   },
   {
    "duration": 14,
    "start_time": "2021-12-13T14:59:15.764Z"
   },
   {
    "duration": 51,
    "start_time": "2021-12-13T14:59:15.781Z"
   },
   {
    "duration": 14,
    "start_time": "2021-12-13T14:59:15.836Z"
   },
   {
    "duration": 15,
    "start_time": "2021-12-13T14:59:15.852Z"
   },
   {
    "duration": 55,
    "start_time": "2021-12-13T14:59:15.870Z"
   },
   {
    "duration": 43,
    "start_time": "2021-12-13T14:59:15.931Z"
   },
   {
    "duration": 8,
    "start_time": "2021-12-13T14:59:15.977Z"
   },
   {
    "duration": 41,
    "start_time": "2021-12-13T14:59:15.988Z"
   },
   {
    "duration": 11,
    "start_time": "2021-12-13T14:59:16.032Z"
   },
   {
    "duration": 21,
    "start_time": "2021-12-13T14:59:16.045Z"
   },
   {
    "duration": 54,
    "start_time": "2021-12-13T14:59:16.069Z"
   },
   {
    "duration": 6,
    "start_time": "2021-12-13T14:59:16.126Z"
   },
   {
    "duration": 6,
    "start_time": "2021-12-13T14:59:16.135Z"
   },
   {
    "duration": 16,
    "start_time": "2021-12-13T14:59:16.144Z"
   },
   {
    "duration": 23,
    "start_time": "2021-12-13T14:59:16.163Z"
   },
   {
    "duration": 10,
    "start_time": "2021-12-13T14:59:16.224Z"
   },
   {
    "duration": 13,
    "start_time": "2021-12-13T14:59:16.236Z"
   },
   {
    "duration": 16,
    "start_time": "2021-12-13T14:59:16.252Z"
   },
   {
    "duration": 56,
    "start_time": "2021-12-13T14:59:16.271Z"
   },
   {
    "duration": 11,
    "start_time": "2021-12-13T14:59:16.331Z"
   },
   {
    "duration": 7,
    "start_time": "2021-12-13T14:59:16.346Z"
   },
   {
    "duration": 11,
    "start_time": "2021-12-13T14:59:16.357Z"
   },
   {
    "duration": 66,
    "start_time": "2021-12-13T14:59:16.372Z"
   },
   {
    "duration": 18,
    "start_time": "2021-12-13T14:59:16.443Z"
   },
   {
    "duration": 24,
    "start_time": "2021-12-13T14:59:16.464Z"
   },
   {
    "duration": 56,
    "start_time": "2021-12-13T14:59:16.491Z"
   },
   {
    "duration": 20,
    "start_time": "2021-12-13T14:59:16.550Z"
   },
   {
    "duration": 17,
    "start_time": "2021-12-13T14:59:16.572Z"
   },
   {
    "duration": 35,
    "start_time": "2021-12-13T14:59:16.592Z"
   },
   {
    "duration": 6279,
    "start_time": "2021-12-13T14:59:16.630Z"
   },
   {
    "duration": 5,
    "start_time": "2021-12-13T14:59:22.924Z"
   },
   {
    "duration": 24,
    "start_time": "2021-12-13T14:59:22.933Z"
   },
   {
    "duration": 6,
    "start_time": "2021-12-13T14:59:22.960Z"
   },
   {
    "duration": 21,
    "start_time": "2021-12-13T14:59:22.969Z"
   },
   {
    "duration": 395,
    "start_time": "2021-12-13T14:59:23.025Z"
   },
   {
    "duration": 39,
    "start_time": "2021-12-13T14:59:29.827Z"
   },
   {
    "duration": 1082,
    "start_time": "2021-12-13T15:00:16.736Z"
   },
   {
    "duration": 1040,
    "start_time": "2021-12-13T15:00:24.388Z"
   },
   {
    "duration": 39,
    "start_time": "2021-12-13T15:06:34.677Z"
   },
   {
    "duration": 131,
    "start_time": "2021-12-13T15:09:17.617Z"
   },
   {
    "duration": 105,
    "start_time": "2021-12-13T15:09:29.886Z"
   },
   {
    "duration": 161,
    "start_time": "2021-12-13T15:10:31.146Z"
   },
   {
    "duration": 92,
    "start_time": "2021-12-13T15:10:39.049Z"
   },
   {
    "duration": 34,
    "start_time": "2021-12-13T15:10:48.652Z"
   },
   {
    "duration": 33,
    "start_time": "2021-12-13T15:13:31.448Z"
   },
   {
    "duration": 63,
    "start_time": "2021-12-13T15:16:08.999Z"
   },
   {
    "duration": 28,
    "start_time": "2021-12-13T15:16:32.885Z"
   },
   {
    "duration": 3,
    "start_time": "2021-12-13T15:17:25.507Z"
   },
   {
    "duration": 110,
    "start_time": "2021-12-13T15:17:25.513Z"
   },
   {
    "duration": 14,
    "start_time": "2021-12-13T15:17:25.626Z"
   },
   {
    "duration": 29,
    "start_time": "2021-12-13T15:17:25.643Z"
   },
   {
    "duration": 21,
    "start_time": "2021-12-13T15:17:25.674Z"
   },
   {
    "duration": 30,
    "start_time": "2021-12-13T15:17:25.698Z"
   },
   {
    "duration": 23,
    "start_time": "2021-12-13T15:17:25.731Z"
   },
   {
    "duration": 27,
    "start_time": "2021-12-13T15:17:25.757Z"
   },
   {
    "duration": 62,
    "start_time": "2021-12-13T15:17:25.786Z"
   },
   {
    "duration": 8,
    "start_time": "2021-12-13T15:17:25.850Z"
   },
   {
    "duration": 14,
    "start_time": "2021-12-13T15:17:25.860Z"
   },
   {
    "duration": 28,
    "start_time": "2021-12-13T15:17:25.876Z"
   },
   {
    "duration": 36,
    "start_time": "2021-12-13T15:17:25.907Z"
   },
   {
    "duration": 21,
    "start_time": "2021-12-13T15:17:25.945Z"
   },
   {
    "duration": 27,
    "start_time": "2021-12-13T15:17:25.969Z"
   },
   {
    "duration": 19,
    "start_time": "2021-12-13T15:17:25.998Z"
   },
   {
    "duration": 30,
    "start_time": "2021-12-13T15:17:26.019Z"
   },
   {
    "duration": 28,
    "start_time": "2021-12-13T15:17:26.052Z"
   },
   {
    "duration": 9,
    "start_time": "2021-12-13T15:17:26.084Z"
   },
   {
    "duration": 22,
    "start_time": "2021-12-13T15:17:26.096Z"
   },
   {
    "duration": 22,
    "start_time": "2021-12-13T15:17:26.120Z"
   },
   {
    "duration": 40,
    "start_time": "2021-12-13T15:17:26.145Z"
   },
   {
    "duration": 20,
    "start_time": "2021-12-13T15:17:26.188Z"
   },
   {
    "duration": 9,
    "start_time": "2021-12-13T15:17:26.210Z"
   },
   {
    "duration": 21,
    "start_time": "2021-12-13T15:17:26.222Z"
   },
   {
    "duration": 23,
    "start_time": "2021-12-13T15:17:26.246Z"
   },
   {
    "duration": 18,
    "start_time": "2021-12-13T15:17:26.272Z"
   },
   {
    "duration": 37,
    "start_time": "2021-12-13T15:17:26.293Z"
   },
   {
    "duration": 24,
    "start_time": "2021-12-13T15:17:26.332Z"
   },
   {
    "duration": 20,
    "start_time": "2021-12-13T15:17:26.358Z"
   },
   {
    "duration": 64,
    "start_time": "2021-12-13T15:17:26.380Z"
   },
   {
    "duration": 4,
    "start_time": "2021-12-13T15:17:26.446Z"
   },
   {
    "duration": 5807,
    "start_time": "2021-12-13T15:17:26.452Z"
   },
   {
    "duration": 4,
    "start_time": "2021-12-13T15:17:32.262Z"
   },
   {
    "duration": 30,
    "start_time": "2021-12-13T15:17:32.269Z"
   },
   {
    "duration": 23,
    "start_time": "2021-12-13T15:17:32.302Z"
   },
   {
    "duration": 32,
    "start_time": "2021-12-13T15:17:32.327Z"
   },
   {
    "duration": 54,
    "start_time": "2021-12-13T15:17:32.362Z"
   },
   {
    "duration": 1262,
    "start_time": "2021-12-13T15:17:32.418Z"
   },
   {
    "duration": 44,
    "start_time": "2021-12-13T15:17:33.682Z"
   },
   {
    "duration": 981,
    "start_time": "2021-12-13T15:17:33.729Z"
   },
   {
    "duration": 30,
    "start_time": "2021-12-13T15:17:34.722Z"
   },
   {
    "duration": 28,
    "start_time": "2021-12-13T15:19:26.175Z"
   },
   {
    "duration": 792,
    "start_time": "2021-12-13T15:30:34.021Z"
   },
   {
    "duration": 951,
    "start_time": "2021-12-13T15:30:58.924Z"
   },
   {
    "duration": 1027,
    "start_time": "2021-12-13T15:32:04.540Z"
   },
   {
    "duration": 112,
    "start_time": "2021-12-13T15:32:43.884Z"
   },
   {
    "duration": 1097,
    "start_time": "2021-12-13T15:32:49.628Z"
   },
   {
    "duration": 3,
    "start_time": "2021-12-13T15:35:09.109Z"
   },
   {
    "duration": 115,
    "start_time": "2021-12-13T15:35:09.115Z"
   },
   {
    "duration": 14,
    "start_time": "2021-12-13T15:35:09.233Z"
   },
   {
    "duration": 13,
    "start_time": "2021-12-13T15:35:09.251Z"
   },
   {
    "duration": 10,
    "start_time": "2021-12-13T15:35:09.266Z"
   },
   {
    "duration": 55,
    "start_time": "2021-12-13T15:35:09.279Z"
   },
   {
    "duration": 12,
    "start_time": "2021-12-13T15:35:09.338Z"
   },
   {
    "duration": 16,
    "start_time": "2021-12-13T15:35:09.353Z"
   },
   {
    "duration": 77,
    "start_time": "2021-12-13T15:35:09.372Z"
   },
   {
    "duration": 7,
    "start_time": "2021-12-13T15:35:09.452Z"
   },
   {
    "duration": 14,
    "start_time": "2021-12-13T15:35:09.462Z"
   },
   {
    "duration": 16,
    "start_time": "2021-12-13T15:35:09.478Z"
   },
   {
    "duration": 39,
    "start_time": "2021-12-13T15:35:09.496Z"
   },
   {
    "duration": 11,
    "start_time": "2021-12-13T15:35:09.537Z"
   },
   {
    "duration": 8,
    "start_time": "2021-12-13T15:35:09.551Z"
   },
   {
    "duration": 8,
    "start_time": "2021-12-13T15:35:09.561Z"
   },
   {
    "duration": 10,
    "start_time": "2021-12-13T15:35:09.571Z"
   },
   {
    "duration": 41,
    "start_time": "2021-12-13T15:35:09.584Z"
   },
   {
    "duration": 7,
    "start_time": "2021-12-13T15:35:09.629Z"
   },
   {
    "duration": 7,
    "start_time": "2021-12-13T15:35:09.638Z"
   },
   {
    "duration": 10,
    "start_time": "2021-12-13T15:35:09.647Z"
   },
   {
    "duration": 19,
    "start_time": "2021-12-13T15:35:09.659Z"
   },
   {
    "duration": 6,
    "start_time": "2021-12-13T15:35:09.724Z"
   },
   {
    "duration": 10,
    "start_time": "2021-12-13T15:35:09.732Z"
   },
   {
    "duration": 20,
    "start_time": "2021-12-13T15:35:09.744Z"
   },
   {
    "duration": 16,
    "start_time": "2021-12-13T15:35:09.766Z"
   },
   {
    "duration": 15,
    "start_time": "2021-12-13T15:35:09.785Z"
   },
   {
    "duration": 40,
    "start_time": "2021-12-13T15:35:09.802Z"
   },
   {
    "duration": 26,
    "start_time": "2021-12-13T15:35:09.845Z"
   },
   {
    "duration": 57,
    "start_time": "2021-12-13T15:35:09.874Z"
   },
   {
    "duration": 35,
    "start_time": "2021-12-13T15:35:09.934Z"
   },
   {
    "duration": 5,
    "start_time": "2021-12-13T15:35:09.971Z"
   },
   {
    "duration": 6055,
    "start_time": "2021-12-13T15:35:09.979Z"
   },
   {
    "duration": 4,
    "start_time": "2021-12-13T15:35:16.036Z"
   },
   {
    "duration": 35,
    "start_time": "2021-12-13T15:35:16.043Z"
   },
   {
    "duration": 5,
    "start_time": "2021-12-13T15:36:06.086Z"
   },
   {
    "duration": 19,
    "start_time": "2021-12-13T15:36:08.828Z"
   },
   {
    "duration": 5,
    "start_time": "2021-12-13T15:36:46.249Z"
   },
   {
    "duration": 3,
    "start_time": "2021-12-13T15:36:49.900Z"
   },
   {
    "duration": 89,
    "start_time": "2021-12-13T15:36:49.909Z"
   },
   {
    "duration": 26,
    "start_time": "2021-12-13T15:36:50.025Z"
   },
   {
    "duration": 18,
    "start_time": "2021-12-13T15:36:50.055Z"
   },
   {
    "duration": 55,
    "start_time": "2021-12-13T15:36:50.076Z"
   },
   {
    "duration": 18,
    "start_time": "2021-12-13T15:36:50.135Z"
   },
   {
    "duration": 14,
    "start_time": "2021-12-13T15:36:50.156Z"
   },
   {
    "duration": 57,
    "start_time": "2021-12-13T15:36:50.173Z"
   },
   {
    "duration": 59,
    "start_time": "2021-12-13T15:36:50.233Z"
   },
   {
    "duration": 33,
    "start_time": "2021-12-13T15:36:50.297Z"
   },
   {
    "duration": 12,
    "start_time": "2021-12-13T15:36:50.335Z"
   },
   {
    "duration": 30,
    "start_time": "2021-12-13T15:36:50.350Z"
   },
   {
    "duration": 45,
    "start_time": "2021-12-13T15:36:50.384Z"
   },
   {
    "duration": 14,
    "start_time": "2021-12-13T15:36:50.432Z"
   },
   {
    "duration": 10,
    "start_time": "2021-12-13T15:36:50.449Z"
   },
   {
    "duration": 8,
    "start_time": "2021-12-13T15:36:50.461Z"
   },
   {
    "duration": 12,
    "start_time": "2021-12-13T15:36:50.472Z"
   },
   {
    "duration": 53,
    "start_time": "2021-12-13T15:36:50.486Z"
   },
   {
    "duration": 7,
    "start_time": "2021-12-13T15:36:50.541Z"
   },
   {
    "duration": 15,
    "start_time": "2021-12-13T15:36:50.550Z"
   },
   {
    "duration": 18,
    "start_time": "2021-12-13T15:36:50.567Z"
   },
   {
    "duration": 38,
    "start_time": "2021-12-13T15:36:50.587Z"
   },
   {
    "duration": 16,
    "start_time": "2021-12-13T15:36:50.627Z"
   },
   {
    "duration": 6,
    "start_time": "2021-12-13T15:36:50.645Z"
   },
   {
    "duration": 15,
    "start_time": "2021-12-13T15:36:50.653Z"
   },
   {
    "duration": 18,
    "start_time": "2021-12-13T15:36:50.671Z"
   },
   {
    "duration": 45,
    "start_time": "2021-12-13T15:36:50.691Z"
   },
   {
    "duration": 23,
    "start_time": "2021-12-13T15:36:50.741Z"
   },
   {
    "duration": 57,
    "start_time": "2021-12-13T15:36:50.766Z"
   },
   {
    "duration": 22,
    "start_time": "2021-12-13T15:36:50.826Z"
   },
   {
    "duration": 37,
    "start_time": "2021-12-13T15:36:50.851Z"
   },
   {
    "duration": 33,
    "start_time": "2021-12-13T15:36:50.890Z"
   },
   {
    "duration": 5,
    "start_time": "2021-12-13T15:36:57.329Z"
   },
   {
    "duration": 102,
    "start_time": "2021-12-13T15:36:57.337Z"
   },
   {
    "duration": 14,
    "start_time": "2021-12-13T15:36:57.441Z"
   },
   {
    "duration": 12,
    "start_time": "2021-12-13T15:36:57.458Z"
   },
   {
    "duration": 10,
    "start_time": "2021-12-13T15:36:57.472Z"
   },
   {
    "duration": 49,
    "start_time": "2021-12-13T15:36:57.485Z"
   },
   {
    "duration": 11,
    "start_time": "2021-12-13T15:36:57.537Z"
   },
   {
    "duration": 20,
    "start_time": "2021-12-13T15:36:57.551Z"
   },
   {
    "duration": 74,
    "start_time": "2021-12-13T15:36:57.573Z"
   },
   {
    "duration": 7,
    "start_time": "2021-12-13T15:36:57.650Z"
   },
   {
    "duration": 8,
    "start_time": "2021-12-13T15:36:57.660Z"
   },
   {
    "duration": 18,
    "start_time": "2021-12-13T15:36:57.671Z"
   },
   {
    "duration": 31,
    "start_time": "2021-12-13T15:36:57.692Z"
   },
   {
    "duration": 12,
    "start_time": "2021-12-13T15:36:57.728Z"
   },
   {
    "duration": 26,
    "start_time": "2021-12-13T15:36:57.743Z"
   },
   {
    "duration": 6,
    "start_time": "2021-12-13T15:36:57.771Z"
   },
   {
    "duration": 21,
    "start_time": "2021-12-13T15:36:57.779Z"
   },
   {
    "duration": 31,
    "start_time": "2021-12-13T15:36:57.803Z"
   },
   {
    "duration": 16,
    "start_time": "2021-12-13T15:36:57.837Z"
   },
   {
    "duration": 21,
    "start_time": "2021-12-13T15:36:57.855Z"
   },
   {
    "duration": 14,
    "start_time": "2021-12-13T15:36:57.879Z"
   },
   {
    "duration": 33,
    "start_time": "2021-12-13T15:36:57.896Z"
   },
   {
    "duration": 13,
    "start_time": "2021-12-13T15:36:57.932Z"
   },
   {
    "duration": 30,
    "start_time": "2021-12-13T15:36:57.948Z"
   },
   {
    "duration": 33,
    "start_time": "2021-12-13T15:36:57.980Z"
   },
   {
    "duration": 30,
    "start_time": "2021-12-13T15:36:58.016Z"
   },
   {
    "duration": 23,
    "start_time": "2021-12-13T15:36:58.049Z"
   },
   {
    "duration": 28,
    "start_time": "2021-12-13T15:36:58.074Z"
   },
   {
    "duration": 36,
    "start_time": "2021-12-13T15:36:58.105Z"
   },
   {
    "duration": 26,
    "start_time": "2021-12-13T15:36:58.144Z"
   },
   {
    "duration": 52,
    "start_time": "2021-12-13T15:36:58.173Z"
   },
   {
    "duration": 5,
    "start_time": "2021-12-13T15:36:58.227Z"
   },
   {
    "duration": 7259,
    "start_time": "2021-12-13T15:36:58.234Z"
   },
   {
    "duration": 6,
    "start_time": "2021-12-13T15:37:05.497Z"
   },
   {
    "duration": 39,
    "start_time": "2021-12-13T15:37:05.506Z"
   },
   {
    "duration": 5,
    "start_time": "2021-12-13T15:37:05.548Z"
   },
   {
    "duration": 44,
    "start_time": "2021-12-13T15:37:05.557Z"
   },
   {
    "duration": 54,
    "start_time": "2021-12-13T15:37:05.603Z"
   },
   {
    "duration": 1026,
    "start_time": "2021-12-13T15:37:05.659Z"
   },
   {
    "duration": 52,
    "start_time": "2021-12-13T15:37:06.687Z"
   },
   {
    "duration": 984,
    "start_time": "2021-12-13T15:37:06.742Z"
   },
   {
    "duration": 33,
    "start_time": "2021-12-13T15:37:07.728Z"
   },
   {
    "duration": 1032,
    "start_time": "2021-12-13T15:37:07.764Z"
   },
   {
    "duration": 35,
    "start_time": "2021-12-13T15:37:08.799Z"
   },
   {
    "duration": 945,
    "start_time": "2021-12-13T15:37:08.836Z"
   },
   {
    "duration": 902,
    "start_time": "2021-12-13T15:37:34.921Z"
   },
   {
    "duration": 957,
    "start_time": "2021-12-13T16:56:38.385Z"
   },
   {
    "duration": 45,
    "start_time": "2021-12-13T18:11:02.090Z"
   },
   {
    "duration": 3,
    "start_time": "2021-12-13T18:11:16.364Z"
   },
   {
    "duration": 106,
    "start_time": "2021-12-13T18:11:16.371Z"
   },
   {
    "duration": 15,
    "start_time": "2021-12-13T18:11:16.479Z"
   },
   {
    "duration": 16,
    "start_time": "2021-12-13T18:11:16.522Z"
   },
   {
    "duration": 12,
    "start_time": "2021-12-13T18:11:16.541Z"
   },
   {
    "duration": 13,
    "start_time": "2021-12-13T18:11:16.555Z"
   },
   {
    "duration": 65,
    "start_time": "2021-12-13T18:11:16.571Z"
   },
   {
    "duration": 20,
    "start_time": "2021-12-13T18:11:16.639Z"
   },
   {
    "duration": 75,
    "start_time": "2021-12-13T18:11:16.663Z"
   },
   {
    "duration": 8,
    "start_time": "2021-12-13T18:11:16.741Z"
   },
   {
    "duration": 7,
    "start_time": "2021-12-13T18:11:16.751Z"
   },
   {
    "duration": 10,
    "start_time": "2021-12-13T18:11:16.761Z"
   },
   {
    "duration": 53,
    "start_time": "2021-12-13T18:11:16.774Z"
   },
   {
    "duration": 12,
    "start_time": "2021-12-13T18:11:16.829Z"
   },
   {
    "duration": 7,
    "start_time": "2021-12-13T18:11:16.843Z"
   },
   {
    "duration": 5,
    "start_time": "2021-12-13T18:11:16.852Z"
   },
   {
    "duration": 11,
    "start_time": "2021-12-13T18:11:16.859Z"
   },
   {
    "duration": 52,
    "start_time": "2021-12-13T18:11:16.873Z"
   },
   {
    "duration": 7,
    "start_time": "2021-12-13T18:11:16.927Z"
   },
   {
    "duration": 8,
    "start_time": "2021-12-13T18:11:16.937Z"
   },
   {
    "duration": 9,
    "start_time": "2021-12-13T18:11:16.947Z"
   },
   {
    "duration": 18,
    "start_time": "2021-12-13T18:11:16.958Z"
   },
   {
    "duration": 47,
    "start_time": "2021-12-13T18:11:16.978Z"
   },
   {
    "duration": 6,
    "start_time": "2021-12-13T18:11:17.030Z"
   },
   {
    "duration": 15,
    "start_time": "2021-12-13T18:11:17.038Z"
   },
   {
    "duration": 18,
    "start_time": "2021-12-13T18:11:17.055Z"
   },
   {
    "duration": 54,
    "start_time": "2021-12-13T18:11:17.076Z"
   },
   {
    "duration": 25,
    "start_time": "2021-12-13T18:11:17.133Z"
   },
   {
    "duration": 25,
    "start_time": "2021-12-13T18:11:17.161Z"
   },
   {
    "duration": 56,
    "start_time": "2021-12-13T18:11:17.189Z"
   },
   {
    "duration": 36,
    "start_time": "2021-12-13T18:11:17.248Z"
   },
   {
    "duration": 5,
    "start_time": "2021-12-13T18:11:17.288Z"
   },
   {
    "duration": 6140,
    "start_time": "2021-12-13T18:11:17.296Z"
   },
   {
    "duration": 4,
    "start_time": "2021-12-13T18:11:23.439Z"
   },
   {
    "duration": 21,
    "start_time": "2021-12-13T18:11:23.445Z"
   },
   {
    "duration": 4,
    "start_time": "2021-12-13T18:11:23.468Z"
   },
   {
    "duration": 26,
    "start_time": "2021-12-13T18:11:23.474Z"
   },
   {
    "duration": 60,
    "start_time": "2021-12-13T18:11:23.502Z"
   },
   {
    "duration": 991,
    "start_time": "2021-12-13T18:11:23.564Z"
   },
   {
    "duration": 34,
    "start_time": "2021-12-13T18:11:24.557Z"
   },
   {
    "duration": 979,
    "start_time": "2021-12-13T18:11:24.594Z"
   },
   {
    "duration": 48,
    "start_time": "2021-12-13T18:11:25.576Z"
   },
   {
    "duration": 926,
    "start_time": "2021-12-13T18:11:25.627Z"
   },
   {
    "duration": 3,
    "start_time": "2021-12-13T18:12:55.571Z"
   },
   {
    "duration": 114,
    "start_time": "2021-12-13T18:12:55.577Z"
   },
   {
    "duration": 38,
    "start_time": "2021-12-13T18:12:55.694Z"
   },
   {
    "duration": 15,
    "start_time": "2021-12-13T18:12:55.735Z"
   },
   {
    "duration": 19,
    "start_time": "2021-12-13T18:12:55.753Z"
   },
   {
    "duration": 16,
    "start_time": "2021-12-13T18:12:55.774Z"
   },
   {
    "duration": 35,
    "start_time": "2021-12-13T18:12:55.793Z"
   },
   {
    "duration": 19,
    "start_time": "2021-12-13T18:12:55.831Z"
   },
   {
    "duration": 56,
    "start_time": "2021-12-13T18:12:55.852Z"
   },
   {
    "duration": 15,
    "start_time": "2021-12-13T18:12:55.911Z"
   },
   {
    "duration": 29,
    "start_time": "2021-12-13T18:12:55.929Z"
   },
   {
    "duration": 10,
    "start_time": "2021-12-13T18:12:55.961Z"
   },
   {
    "duration": 33,
    "start_time": "2021-12-13T18:12:55.973Z"
   },
   {
    "duration": 20,
    "start_time": "2021-12-13T18:12:56.008Z"
   },
   {
    "duration": 17,
    "start_time": "2021-12-13T18:12:56.030Z"
   },
   {
    "duration": 22,
    "start_time": "2021-12-13T18:12:56.049Z"
   },
   {
    "duration": 28,
    "start_time": "2021-12-13T18:12:56.073Z"
   },
   {
    "duration": 38,
    "start_time": "2021-12-13T18:12:56.103Z"
   },
   {
    "duration": 17,
    "start_time": "2021-12-13T18:12:56.145Z"
   },
   {
    "duration": 12,
    "start_time": "2021-12-13T18:12:56.165Z"
   },
   {
    "duration": 18,
    "start_time": "2021-12-13T18:12:56.179Z"
   },
   {
    "duration": 25,
    "start_time": "2021-12-13T18:12:56.199Z"
   },
   {
    "duration": 21,
    "start_time": "2021-12-13T18:12:56.227Z"
   },
   {
    "duration": 19,
    "start_time": "2021-12-13T18:12:56.250Z"
   },
   {
    "duration": 24,
    "start_time": "2021-12-13T18:12:56.271Z"
   },
   {
    "duration": 35,
    "start_time": "2021-12-13T18:12:56.298Z"
   },
   {
    "duration": 22,
    "start_time": "2021-12-13T18:12:56.336Z"
   },
   {
    "duration": 34,
    "start_time": "2021-12-13T18:12:56.361Z"
   },
   {
    "duration": 35,
    "start_time": "2021-12-13T18:12:56.398Z"
   },
   {
    "duration": 21,
    "start_time": "2021-12-13T18:12:56.436Z"
   },
   {
    "duration": 35,
    "start_time": "2021-12-13T18:12:56.460Z"
   },
   {
    "duration": 30,
    "start_time": "2021-12-13T18:12:56.497Z"
   },
   {
    "duration": 6411,
    "start_time": "2021-12-13T18:12:56.530Z"
   },
   {
    "duration": 4,
    "start_time": "2021-12-13T18:13:02.944Z"
   },
   {
    "duration": 31,
    "start_time": "2021-12-13T18:13:02.951Z"
   },
   {
    "duration": 34,
    "start_time": "2021-12-13T18:13:02.984Z"
   },
   {
    "duration": 39,
    "start_time": "2021-12-13T18:13:03.021Z"
   },
   {
    "duration": 69,
    "start_time": "2021-12-13T18:13:03.063Z"
   },
   {
    "duration": 973,
    "start_time": "2021-12-13T18:13:03.135Z"
   },
   {
    "duration": 39,
    "start_time": "2021-12-13T18:13:04.110Z"
   },
   {
    "duration": 1095,
    "start_time": "2021-12-13T18:13:04.152Z"
   },
   {
    "duration": 30,
    "start_time": "2021-12-13T18:13:05.249Z"
   },
   {
    "duration": 946,
    "start_time": "2021-12-13T18:14:10.836Z"
   },
   {
    "duration": 37,
    "start_time": "2021-12-13T18:18:14.316Z"
   },
   {
    "duration": 39,
    "start_time": "2021-12-13T18:18:22.370Z"
   },
   {
    "duration": 34,
    "start_time": "2021-12-13T18:18:42.662Z"
   },
   {
    "duration": 32,
    "start_time": "2021-12-13T18:19:03.406Z"
   },
   {
    "duration": 47,
    "start_time": "2021-12-13T18:19:09.950Z"
   },
   {
    "duration": 1834,
    "start_time": "2021-12-15T15:35:40.424Z"
   },
   {
    "duration": -1781,
    "start_time": "2021-12-15T15:35:44.042Z"
   },
   {
    "duration": -1786,
    "start_time": "2021-12-15T15:35:44.048Z"
   },
   {
    "duration": -1793,
    "start_time": "2021-12-15T15:35:44.056Z"
   },
   {
    "duration": -1796,
    "start_time": "2021-12-15T15:35:44.061Z"
   },
   {
    "duration": -1811,
    "start_time": "2021-12-15T15:35:44.077Z"
   },
   {
    "duration": -1814,
    "start_time": "2021-12-15T15:35:44.082Z"
   },
   {
    "duration": -1821,
    "start_time": "2021-12-15T15:35:44.090Z"
   },
   {
    "duration": -1825,
    "start_time": "2021-12-15T15:35:44.095Z"
   },
   {
    "duration": -1828,
    "start_time": "2021-12-15T15:35:44.100Z"
   },
   {
    "duration": 95,
    "start_time": "2021-12-15T15:35:57.168Z"
   },
   {
    "duration": 17,
    "start_time": "2021-12-15T15:36:00.873Z"
   },
   {
    "duration": 12,
    "start_time": "2021-12-15T15:36:06.089Z"
   },
   {
    "duration": 10,
    "start_time": "2021-12-15T15:36:10.276Z"
   },
   {
    "duration": 13,
    "start_time": "2021-12-15T15:36:13.683Z"
   },
   {
    "duration": 12,
    "start_time": "2021-12-15T15:36:15.965Z"
   },
   {
    "duration": 17,
    "start_time": "2021-12-15T15:36:17.939Z"
   },
   {
    "duration": 44,
    "start_time": "2021-12-15T15:36:22.763Z"
   },
   {
    "duration": 8,
    "start_time": "2021-12-15T15:36:30.785Z"
   },
   {
    "duration": 9,
    "start_time": "2021-12-15T15:36:37.816Z"
   },
   {
    "duration": 8,
    "start_time": "2021-12-15T15:37:00.962Z"
   },
   {
    "duration": 30,
    "start_time": "2021-12-15T15:37:08.155Z"
   },
   {
    "duration": 18,
    "start_time": "2021-12-15T15:37:32.367Z"
   },
   {
    "duration": 19,
    "start_time": "2021-12-15T15:38:26.498Z"
   },
   {
    "duration": 33,
    "start_time": "2021-12-15T15:44:28.731Z"
   },
   {
    "duration": 251,
    "start_time": "2021-12-15T15:44:45.786Z"
   },
   {
    "duration": 21,
    "start_time": "2021-12-15T15:44:50.251Z"
   },
   {
    "duration": 22,
    "start_time": "2021-12-15T15:45:00.831Z"
   },
   {
    "duration": 18,
    "start_time": "2021-12-15T15:45:49.951Z"
   },
   {
    "duration": 24,
    "start_time": "2021-12-15T15:46:28.318Z"
   },
   {
    "duration": 36,
    "start_time": "2021-12-15T15:46:41.986Z"
   },
   {
    "duration": 343,
    "start_time": "2021-12-15T15:52:37.755Z"
   },
   {
    "duration": 7,
    "start_time": "2021-12-15T15:52:47.411Z"
   },
   {
    "duration": 18,
    "start_time": "2021-12-15T15:52:56.051Z"
   },
   {
    "duration": 14,
    "start_time": "2021-12-15T15:52:58.176Z"
   },
   {
    "duration": 7,
    "start_time": "2021-12-15T15:53:00.471Z"
   },
   {
    "duration": 6,
    "start_time": "2021-12-15T15:53:26.590Z"
   },
   {
    "duration": 6,
    "start_time": "2021-12-15T15:53:32.480Z"
   },
   {
    "duration": 6,
    "start_time": "2021-12-15T15:54:16.335Z"
   },
   {
    "duration": 280,
    "start_time": "2021-12-15T15:54:31.562Z"
   },
   {
    "duration": 261,
    "start_time": "2021-12-15T15:54:46.491Z"
   },
   {
    "duration": 4,
    "start_time": "2021-12-15T15:56:11.223Z"
   },
   {
    "duration": 4,
    "start_time": "2021-12-15T15:56:14.549Z"
   },
   {
    "duration": 242,
    "start_time": "2021-12-15T15:56:20.609Z"
   },
   {
    "duration": 4,
    "start_time": "2021-12-15T15:56:26.423Z"
   },
   {
    "duration": 239,
    "start_time": "2021-12-15T16:21:25.554Z"
   },
   {
    "duration": 75,
    "start_time": "2021-12-15T16:27:05.695Z"
   },
   {
    "duration": 17,
    "start_time": "2021-12-15T16:27:21.047Z"
   },
   {
    "duration": 242,
    "start_time": "2021-12-15T16:27:29.226Z"
   },
   {
    "duration": -1783,
    "start_time": "2021-12-15T16:27:31.254Z"
   },
   {
    "duration": -1835,
    "start_time": "2021-12-15T16:27:31.308Z"
   },
   {
    "duration": -1841,
    "start_time": "2021-12-15T16:27:31.315Z"
   },
   {
    "duration": -1845,
    "start_time": "2021-12-15T16:27:31.320Z"
   },
   {
    "duration": -1860,
    "start_time": "2021-12-15T16:27:31.337Z"
   },
   {
    "duration": -1864,
    "start_time": "2021-12-15T16:27:31.342Z"
   },
   {
    "duration": -1869,
    "start_time": "2021-12-15T16:27:31.348Z"
   },
   {
    "duration": -1874,
    "start_time": "2021-12-15T16:27:31.354Z"
   },
   {
    "duration": -1879,
    "start_time": "2021-12-15T16:27:31.361Z"
   },
   {
    "duration": -1882,
    "start_time": "2021-12-15T16:27:31.367Z"
   },
   {
    "duration": -1888,
    "start_time": "2021-12-15T16:27:31.375Z"
   },
   {
    "duration": -1894,
    "start_time": "2021-12-15T16:27:31.382Z"
   },
   {
    "duration": -1900,
    "start_time": "2021-12-15T16:27:31.389Z"
   },
   {
    "duration": -1906,
    "start_time": "2021-12-15T16:27:31.397Z"
   },
   {
    "duration": -1912,
    "start_time": "2021-12-15T16:27:31.404Z"
   },
   {
    "duration": -1918,
    "start_time": "2021-12-15T16:27:31.412Z"
   },
   {
    "duration": -1923,
    "start_time": "2021-12-15T16:27:31.418Z"
   },
   {
    "duration": -1927,
    "start_time": "2021-12-15T16:27:31.424Z"
   },
   {
    "duration": -1931,
    "start_time": "2021-12-15T16:27:31.429Z"
   },
   {
    "duration": -1934,
    "start_time": "2021-12-15T16:27:31.434Z"
   },
   {
    "duration": -1946,
    "start_time": "2021-12-15T16:27:31.448Z"
   },
   {
    "duration": -1949,
    "start_time": "2021-12-15T16:27:31.452Z"
   },
   {
    "duration": 15,
    "start_time": "2021-12-15T16:27:37.053Z"
   },
   {
    "duration": 4,
    "start_time": "2021-12-15T16:28:36.225Z"
   },
   {
    "duration": 99,
    "start_time": "2021-12-15T16:28:36.232Z"
   },
   {
    "duration": 14,
    "start_time": "2021-12-15T16:28:36.334Z"
   },
   {
    "duration": 12,
    "start_time": "2021-12-15T16:28:36.350Z"
   },
   {
    "duration": 9,
    "start_time": "2021-12-15T16:28:36.364Z"
   },
   {
    "duration": 45,
    "start_time": "2021-12-15T16:28:36.376Z"
   },
   {
    "duration": 12,
    "start_time": "2021-12-15T16:28:36.424Z"
   },
   {
    "duration": 16,
    "start_time": "2021-12-15T16:28:36.439Z"
   },
   {
    "duration": 74,
    "start_time": "2021-12-15T16:28:36.457Z"
   },
   {
    "duration": 7,
    "start_time": "2021-12-15T16:28:36.533Z"
   },
   {
    "duration": 20,
    "start_time": "2021-12-15T16:28:36.542Z"
   },
   {
    "duration": 7,
    "start_time": "2021-12-15T16:28:36.564Z"
   },
   {
    "duration": 46,
    "start_time": "2021-12-15T16:28:36.573Z"
   },
   {
    "duration": 47,
    "start_time": "2021-12-15T16:28:36.621Z"
   },
   {
    "duration": 17,
    "start_time": "2021-12-15T16:28:36.671Z"
   },
   {
    "duration": 45,
    "start_time": "2021-12-15T16:28:36.690Z"
   },
   {
    "duration": 9,
    "start_time": "2021-12-15T16:28:36.737Z"
   },
   {
    "duration": 8,
    "start_time": "2021-12-15T16:28:36.749Z"
   },
   {
    "duration": 54,
    "start_time": "2021-12-15T16:28:36.763Z"
   },
   {
    "duration": 18,
    "start_time": "2021-12-15T16:28:36.820Z"
   },
   {
    "duration": 10,
    "start_time": "2021-12-15T16:28:36.840Z"
   },
   {
    "duration": 5,
    "start_time": "2021-12-15T16:28:36.853Z"
   },
   {
    "duration": 11,
    "start_time": "2021-12-15T16:28:36.860Z"
   },
   {
    "duration": 18,
    "start_time": "2021-12-15T16:28:43.070Z"
   },
   {
    "duration": 4,
    "start_time": "2021-12-15T16:29:36.146Z"
   },
   {
    "duration": 13,
    "start_time": "2021-12-15T16:33:46.894Z"
   },
   {
    "duration": 14,
    "start_time": "2021-12-15T16:34:11.840Z"
   },
   {
    "duration": 230,
    "start_time": "2021-12-15T16:36:18.467Z"
   },
   {
    "duration": 4,
    "start_time": "2021-12-15T16:36:27.016Z"
   },
   {
    "duration": 4,
    "start_time": "2021-12-15T16:57:00.840Z"
   },
   {
    "duration": 229,
    "start_time": "2021-12-15T16:57:08.760Z"
   },
   {
    "duration": 4,
    "start_time": "2021-12-15T16:57:16.348Z"
   },
   {
    "duration": 4,
    "start_time": "2021-12-15T16:57:24.253Z"
   },
   {
    "duration": 250,
    "start_time": "2021-12-15T16:58:14.899Z"
   },
   {
    "duration": 3,
    "start_time": "2021-12-15T16:58:37.573Z"
   },
   {
    "duration": 4,
    "start_time": "2021-12-15T16:58:50.746Z"
   },
   {
    "duration": 89,
    "start_time": "2021-12-15T16:59:04.657Z"
   },
   {
    "duration": 14,
    "start_time": "2021-12-15T16:59:12.461Z"
   },
   {
    "duration": 14,
    "start_time": "2021-12-15T17:02:10.987Z"
   },
   {
    "duration": 13,
    "start_time": "2021-12-15T17:03:45.687Z"
   },
   {
    "duration": 10,
    "start_time": "2021-12-15T17:05:55.323Z"
   },
   {
    "duration": 10,
    "start_time": "2021-12-15T17:08:06.957Z"
   },
   {
    "duration": 8,
    "start_time": "2021-12-15T17:08:09.436Z"
   },
   {
    "duration": 13,
    "start_time": "2021-12-15T17:08:16.183Z"
   },
   {
    "duration": 5,
    "start_time": "2021-12-15T17:08:35.070Z"
   },
   {
    "duration": 89,
    "start_time": "2021-12-15T17:08:35.078Z"
   },
   {
    "duration": 17,
    "start_time": "2021-12-15T17:08:35.171Z"
   },
   {
    "duration": 34,
    "start_time": "2021-12-15T17:08:35.191Z"
   },
   {
    "duration": 10,
    "start_time": "2021-12-15T17:08:35.227Z"
   },
   {
    "duration": 10,
    "start_time": "2021-12-15T17:08:38.203Z"
   },
   {
    "duration": 4,
    "start_time": "2021-12-15T17:08:39.994Z"
   },
   {
    "duration": 7,
    "start_time": "2021-12-15T17:08:41.671Z"
   },
   {
    "duration": 8,
    "start_time": "2021-12-15T17:08:58.058Z"
   },
   {
    "duration": 7,
    "start_time": "2021-12-15T17:08:58.744Z"
   },
   {
    "duration": 4,
    "start_time": "2021-12-15T17:09:07.750Z"
   },
   {
    "duration": 89,
    "start_time": "2021-12-15T17:09:07.757Z"
   },
   {
    "duration": 16,
    "start_time": "2021-12-15T17:09:07.849Z"
   },
   {
    "duration": 12,
    "start_time": "2021-12-15T17:09:07.868Z"
   },
   {
    "duration": 34,
    "start_time": "2021-12-15T17:09:07.883Z"
   },
   {
    "duration": 9,
    "start_time": "2021-12-15T17:09:09.596Z"
   },
   {
    "duration": 9,
    "start_time": "2021-12-15T17:09:10.324Z"
   },
   {
    "duration": 4,
    "start_time": "2021-12-15T17:11:13.674Z"
   },
   {
    "duration": 93,
    "start_time": "2021-12-15T17:11:13.681Z"
   },
   {
    "duration": 15,
    "start_time": "2021-12-15T17:11:13.777Z"
   },
   {
    "duration": 24,
    "start_time": "2021-12-15T17:11:13.794Z"
   },
   {
    "duration": 9,
    "start_time": "2021-12-15T17:11:16.954Z"
   },
   {
    "duration": 5,
    "start_time": "2021-12-15T17:11:17.946Z"
   },
   {
    "duration": 14,
    "start_time": "2021-12-15T17:11:20.868Z"
   },
   {
    "duration": 11,
    "start_time": "2021-12-15T17:13:02.886Z"
   },
   {
    "duration": 6507,
    "start_time": "2021-12-15T17:13:03.549Z"
   },
   {
    "duration": -1829,
    "start_time": "2021-12-15T17:13:11.888Z"
   },
   {
    "duration": -1834,
    "start_time": "2021-12-15T17:13:11.895Z"
   },
   {
    "duration": -1838,
    "start_time": "2021-12-15T17:13:11.900Z"
   },
   {
    "duration": -1845,
    "start_time": "2021-12-15T17:13:11.908Z"
   },
   {
    "duration": -1848,
    "start_time": "2021-12-15T17:13:11.913Z"
   },
   {
    "duration": -1853,
    "start_time": "2021-12-15T17:13:11.919Z"
   },
   {
    "duration": 9,
    "start_time": "2021-12-15T17:13:12.957Z"
   },
   {
    "duration": -1801,
    "start_time": "2021-12-15T17:13:27.055Z"
   },
   {
    "duration": -1807,
    "start_time": "2021-12-15T17:13:27.062Z"
   },
   {
    "duration": -1839,
    "start_time": "2021-12-15T17:13:27.096Z"
   },
   {
    "duration": -1868,
    "start_time": "2021-12-15T17:13:27.126Z"
   },
   {
    "duration": -1872,
    "start_time": "2021-12-15T17:13:27.131Z"
   },
   {
    "duration": -1876,
    "start_time": "2021-12-15T17:13:27.137Z"
   },
   {
    "duration": -1884,
    "start_time": "2021-12-15T17:13:27.146Z"
   },
   {
    "duration": -1890,
    "start_time": "2021-12-15T17:13:27.153Z"
   },
   {
    "duration": 17,
    "start_time": "2021-12-15T17:13:34.864Z"
   },
   {
    "duration": 4,
    "start_time": "2021-12-15T17:13:51.007Z"
   },
   {
    "duration": 86,
    "start_time": "2021-12-15T17:13:51.512Z"
   },
   {
    "duration": 14,
    "start_time": "2021-12-15T17:13:52.073Z"
   },
   {
    "duration": 12,
    "start_time": "2021-12-15T17:13:58.823Z"
   },
   {
    "duration": 9,
    "start_time": "2021-12-15T17:14:01.793Z"
   },
   {
    "duration": 4,
    "start_time": "2021-12-15T17:14:02.502Z"
   },
   {
    "duration": 12,
    "start_time": "2021-12-15T17:14:03.256Z"
   },
   {
    "duration": 16,
    "start_time": "2021-12-15T17:14:06.225Z"
   },
   {
    "duration": 42,
    "start_time": "2021-12-15T17:14:08.269Z"
   },
   {
    "duration": 17,
    "start_time": "2021-12-15T17:15:27.182Z"
   },
   {
    "duration": 13,
    "start_time": "2021-12-15T17:16:16.268Z"
   },
   {
    "duration": 11,
    "start_time": "2021-12-15T17:16:42.604Z"
   },
   {
    "duration": 42,
    "start_time": "2021-12-15T17:16:51.560Z"
   },
   {
    "duration": 7,
    "start_time": "2021-12-15T17:20:10.070Z"
   },
   {
    "duration": 79,
    "start_time": "2021-12-15T17:20:57.758Z"
   },
   {
    "duration": 8,
    "start_time": "2021-12-15T17:21:36.838Z"
   },
   {
    "duration": 21,
    "start_time": "2021-12-15T17:21:46.450Z"
   },
   {
    "duration": 6,
    "start_time": "2021-12-15T17:29:24.753Z"
   },
   {
    "duration": 11,
    "start_time": "2021-12-15T17:29:34.804Z"
   },
   {
    "duration": 12,
    "start_time": "2021-12-15T17:32:21.930Z"
   },
   {
    "duration": 11,
    "start_time": "2021-12-15T17:33:41.759Z"
   },
   {
    "duration": 10,
    "start_time": "2021-12-15T17:33:57.314Z"
   },
   {
    "duration": 38,
    "start_time": "2021-12-15T17:34:34.051Z"
   },
   {
    "duration": 21,
    "start_time": "2021-12-15T17:35:01.251Z"
   },
   {
    "duration": 20,
    "start_time": "2021-12-15T17:35:32.832Z"
   },
   {
    "duration": 19,
    "start_time": "2021-12-15T17:35:33.716Z"
   },
   {
    "duration": 9,
    "start_time": "2021-12-15T17:38:33.360Z"
   },
   {
    "duration": 22,
    "start_time": "2021-12-15T17:38:34.189Z"
   },
   {
    "duration": 20,
    "start_time": "2021-12-15T17:38:34.916Z"
   },
   {
    "duration": 9,
    "start_time": "2021-12-15T17:40:34.516Z"
   },
   {
    "duration": 19,
    "start_time": "2021-12-15T17:40:40.714Z"
   },
   {
    "duration": 20,
    "start_time": "2021-12-15T17:40:41.596Z"
   },
   {
    "duration": 19,
    "start_time": "2021-12-15T17:41:32.419Z"
   },
   {
    "duration": 21,
    "start_time": "2021-12-15T17:41:51.893Z"
   },
   {
    "duration": 6,
    "start_time": "2021-12-15T17:44:14.986Z"
   },
   {
    "duration": 6,
    "start_time": "2021-12-15T17:46:16.424Z"
   },
   {
    "duration": 6,
    "start_time": "2021-12-15T17:46:47.812Z"
   },
   {
    "duration": 7,
    "start_time": "2021-12-15T17:47:07.246Z"
   },
   {
    "duration": 6,
    "start_time": "2021-12-15T17:47:28.005Z"
   },
   {
    "duration": 6,
    "start_time": "2021-12-15T17:47:31.918Z"
   },
   {
    "duration": 5,
    "start_time": "2021-12-15T17:47:32.542Z"
   },
   {
    "duration": 24,
    "start_time": "2021-12-15T17:48:28.934Z"
   },
   {
    "duration": 6,
    "start_time": "2021-12-15T17:48:29.575Z"
   },
   {
    "duration": 8,
    "start_time": "2021-12-15T17:48:34.653Z"
   },
   {
    "duration": 5,
    "start_time": "2021-12-15T17:48:48.093Z"
   },
   {
    "duration": 7,
    "start_time": "2021-12-15T17:48:54.834Z"
   },
   {
    "duration": 8,
    "start_time": "2021-12-15T17:48:58.836Z"
   },
   {
    "duration": 18,
    "start_time": "2021-12-15T17:49:02.576Z"
   },
   {
    "duration": 7,
    "start_time": "2021-12-15T17:50:16.310Z"
   },
   {
    "duration": 9,
    "start_time": "2021-12-15T17:53:53.675Z"
   },
   {
    "duration": 18,
    "start_time": "2021-12-15T17:53:55.697Z"
   },
   {
    "duration": 8,
    "start_time": "2021-12-15T17:54:22.963Z"
   },
   {
    "duration": 8,
    "start_time": "2021-12-15T17:54:32.203Z"
   },
   {
    "duration": 9,
    "start_time": "2021-12-15T17:54:44.994Z"
   },
   {
    "duration": 7,
    "start_time": "2021-12-15T17:56:33.800Z"
   },
   {
    "duration": 6,
    "start_time": "2021-12-15T18:02:00.171Z"
   },
   {
    "duration": 7,
    "start_time": "2021-12-15T18:02:02.344Z"
   },
   {
    "duration": 5,
    "start_time": "2021-12-15T18:04:35.946Z"
   },
   {
    "duration": 15,
    "start_time": "2021-12-15T18:06:19.155Z"
   },
   {
    "duration": 14,
    "start_time": "2021-12-15T18:06:46.056Z"
   },
   {
    "duration": 12,
    "start_time": "2021-12-15T18:07:03.734Z"
   },
   {
    "duration": 12,
    "start_time": "2021-12-15T18:08:02.730Z"
   },
   {
    "duration": 16,
    "start_time": "2021-12-15T18:08:11.672Z"
   },
   {
    "duration": 14,
    "start_time": "2021-12-15T18:08:13.767Z"
   },
   {
    "duration": 14,
    "start_time": "2021-12-15T18:08:19.988Z"
   },
   {
    "duration": 21,
    "start_time": "2021-12-15T18:08:34.727Z"
   },
   {
    "duration": 6,
    "start_time": "2021-12-15T18:08:52.239Z"
   },
   {
    "duration": 5,
    "start_time": "2021-12-15T18:08:59.863Z"
   },
   {
    "duration": 242,
    "start_time": "2021-12-15T18:10:12.980Z"
   },
   {
    "duration": 245,
    "start_time": "2021-12-15T18:10:18.905Z"
   },
   {
    "duration": 7,
    "start_time": "2021-12-15T18:10:30.960Z"
   },
   {
    "duration": 7,
    "start_time": "2021-12-15T18:10:48.442Z"
   },
   {
    "duration": 5,
    "start_time": "2021-12-15T18:10:59.813Z"
   },
   {
    "duration": 150,
    "start_time": "2021-12-15T18:10:59.822Z"
   },
   {
    "duration": 17,
    "start_time": "2021-12-15T18:10:59.976Z"
   },
   {
    "duration": 14,
    "start_time": "2021-12-15T18:11:00.018Z"
   },
   {
    "duration": 11,
    "start_time": "2021-12-15T18:11:00.034Z"
   },
   {
    "duration": 5,
    "start_time": "2021-12-15T18:11:00.048Z"
   },
   {
    "duration": 14,
    "start_time": "2021-12-15T18:11:00.056Z"
   },
   {
    "duration": 82,
    "start_time": "2021-12-15T18:11:00.073Z"
   },
   {
    "duration": 8,
    "start_time": "2021-12-15T18:11:00.158Z"
   },
   {
    "duration": 65,
    "start_time": "2021-12-15T18:11:00.168Z"
   },
   {
    "duration": 8,
    "start_time": "2021-12-15T18:11:00.236Z"
   },
   {
    "duration": 13,
    "start_time": "2021-12-15T18:11:00.248Z"
   },
   {
    "duration": 67,
    "start_time": "2021-12-15T18:11:00.264Z"
   },
   {
    "duration": 28,
    "start_time": "2021-12-15T18:11:00.334Z"
   },
   {
    "duration": 23,
    "start_time": "2021-12-15T18:11:00.365Z"
   },
   {
    "duration": 38,
    "start_time": "2021-12-15T18:11:00.390Z"
   },
   {
    "duration": 19,
    "start_time": "2021-12-15T18:11:00.431Z"
   },
   {
    "duration": 10,
    "start_time": "2021-12-15T18:11:00.453Z"
   },
   {
    "duration": 7,
    "start_time": "2021-12-15T18:11:00.470Z"
   },
   {
    "duration": 42,
    "start_time": "2021-12-15T18:11:00.480Z"
   },
   {
    "duration": 15,
    "start_time": "2021-12-15T18:11:00.524Z"
   },
   {
    "duration": 29,
    "start_time": "2021-12-15T18:11:00.542Z"
   },
   {
    "duration": 45,
    "start_time": "2021-12-15T18:11:00.574Z"
   },
   {
    "duration": 7,
    "start_time": "2021-12-15T18:11:00.621Z"
   },
   {
    "duration": 14,
    "start_time": "2021-12-15T18:11:00.630Z"
   },
   {
    "duration": 7,
    "start_time": "2021-12-15T18:11:06.251Z"
   },
   {
    "duration": 14,
    "start_time": "2021-12-15T18:11:10.829Z"
   },
   {
    "duration": 5,
    "start_time": "2021-12-15T18:11:55.874Z"
   },
   {
    "duration": 8,
    "start_time": "2021-12-15T18:11:56.585Z"
   },
   {
    "duration": 1130,
    "start_time": "2021-12-16T10:50:58.851Z"
   },
   {
    "duration": 73,
    "start_time": "2021-12-16T10:50:59.983Z"
   },
   {
    "duration": 12,
    "start_time": "2021-12-16T10:51:00.057Z"
   },
   {
    "duration": 23,
    "start_time": "2021-12-16T10:51:00.070Z"
   },
   {
    "duration": 38,
    "start_time": "2021-12-16T10:51:00.094Z"
   },
   {
    "duration": 7,
    "start_time": "2021-12-16T10:51:00.134Z"
   },
   {
    "duration": 22,
    "start_time": "2021-12-16T10:51:00.143Z"
   },
   {
    "duration": 35,
    "start_time": "2021-12-16T10:51:00.168Z"
   },
   {
    "duration": 6,
    "start_time": "2021-12-16T10:51:00.206Z"
   },
   {
    "duration": 37,
    "start_time": "2021-12-16T10:51:00.213Z"
   },
   {
    "duration": 8,
    "start_time": "2021-12-16T10:51:00.252Z"
   },
   {
    "duration": 26,
    "start_time": "2021-12-16T10:51:00.262Z"
   },
   {
    "duration": 30,
    "start_time": "2021-12-16T10:51:00.290Z"
   },
   {
    "duration": 28,
    "start_time": "2021-12-16T10:51:00.322Z"
   },
   {
    "duration": 17,
    "start_time": "2021-12-16T10:51:00.352Z"
   },
   {
    "duration": 40,
    "start_time": "2021-12-16T10:51:00.371Z"
   },
   {
    "duration": 31,
    "start_time": "2021-12-16T10:51:00.413Z"
   },
   {
    "duration": 13,
    "start_time": "2021-12-16T10:51:00.445Z"
   },
   {
    "duration": 29,
    "start_time": "2021-12-16T10:51:00.460Z"
   },
   {
    "duration": 19,
    "start_time": "2021-12-16T10:51:00.491Z"
   },
   {
    "duration": 25,
    "start_time": "2021-12-16T10:51:00.511Z"
   },
   {
    "duration": 25,
    "start_time": "2021-12-16T10:51:00.537Z"
   },
   {
    "duration": 21,
    "start_time": "2021-12-16T10:51:00.565Z"
   },
   {
    "duration": 13,
    "start_time": "2021-12-16T10:51:00.588Z"
   },
   {
    "duration": 12,
    "start_time": "2021-12-16T10:51:00.603Z"
   },
   {
    "duration": 7,
    "start_time": "2021-12-16T10:51:00.616Z"
   },
   {
    "duration": 22,
    "start_time": "2021-12-16T10:51:00.625Z"
   },
   {
    "duration": 31,
    "start_time": "2021-12-16T10:51:00.649Z"
   },
   {
    "duration": 20,
    "start_time": "2021-12-16T10:51:00.681Z"
   },
   {
    "duration": 40,
    "start_time": "2021-12-16T10:51:00.703Z"
   },
   {
    "duration": 38,
    "start_time": "2021-12-16T10:51:00.745Z"
   },
   {
    "duration": 74,
    "start_time": "2021-12-16T10:51:00.785Z"
   },
   {
    "duration": 59,
    "start_time": "2021-12-16T10:51:00.861Z"
   },
   {
    "duration": 74,
    "start_time": "2021-12-16T10:51:00.922Z"
   },
   {
    "duration": 4406,
    "start_time": "2021-12-16T10:51:00.998Z"
   },
   {
    "duration": 4,
    "start_time": "2021-12-16T10:51:05.406Z"
   },
   {
    "duration": 21,
    "start_time": "2021-12-16T10:51:05.412Z"
   },
   {
    "duration": 3,
    "start_time": "2021-12-16T10:51:05.445Z"
   },
   {
    "duration": 20,
    "start_time": "2021-12-16T10:51:05.451Z"
   },
   {
    "duration": 36,
    "start_time": "2021-12-16T10:51:05.473Z"
   },
   {
    "duration": 144,
    "start_time": "2021-12-16T10:51:08.862Z"
   },
   {
    "duration": 1511,
    "start_time": "2021-12-16T12:30:05.105Z"
   },
   {
    "duration": 86,
    "start_time": "2021-12-16T12:30:08.401Z"
   },
   {
    "duration": 17,
    "start_time": "2021-12-16T12:30:47.511Z"
   },
   {
    "duration": 30,
    "start_time": "2021-12-16T12:50:40.733Z"
   },
   {
    "duration": 5,
    "start_time": "2021-12-16T12:54:44.316Z"
   },
   {
    "duration": 91,
    "start_time": "2021-12-16T12:54:44.324Z"
   },
   {
    "duration": 20,
    "start_time": "2021-12-16T12:54:44.419Z"
   },
   {
    "duration": 17,
    "start_time": "2021-12-16T12:54:44.472Z"
   },
   {
    "duration": 12,
    "start_time": "2021-12-16T12:54:44.492Z"
   },
   {
    "duration": 10,
    "start_time": "2021-12-16T12:54:44.507Z"
   },
   {
    "duration": 4,
    "start_time": "2021-12-16T12:54:44.520Z"
   },
   {
    "duration": 18,
    "start_time": "2021-12-16T12:54:44.567Z"
   },
   {
    "duration": 44,
    "start_time": "2021-12-16T12:54:44.588Z"
   },
   {
    "duration": 41,
    "start_time": "2021-12-16T12:54:44.634Z"
   },
   {
    "duration": 23,
    "start_time": "2021-12-16T12:54:44.678Z"
   },
   {
    "duration": 7,
    "start_time": "2021-12-16T12:54:44.703Z"
   },
   {
    "duration": 10,
    "start_time": "2021-12-16T12:54:44.713Z"
   },
   {
    "duration": 60,
    "start_time": "2021-12-16T12:54:44.725Z"
   },
   {
    "duration": 19,
    "start_time": "2021-12-16T12:54:44.788Z"
   },
   {
    "duration": 27,
    "start_time": "2021-12-16T12:54:44.809Z"
   },
   {
    "duration": 49,
    "start_time": "2021-12-16T12:54:44.839Z"
   },
   {
    "duration": 7,
    "start_time": "2021-12-16T12:54:44.891Z"
   },
   {
    "duration": 23,
    "start_time": "2021-12-16T12:54:44.905Z"
   },
   {
    "duration": 21,
    "start_time": "2021-12-16T12:54:44.932Z"
   },
   {
    "duration": 24,
    "start_time": "2021-12-16T12:54:44.955Z"
   },
   {
    "duration": 40,
    "start_time": "2021-12-16T12:54:44.984Z"
   },
   {
    "duration": 58,
    "start_time": "2021-12-16T12:54:45.026Z"
   },
   {
    "duration": 20,
    "start_time": "2021-12-16T12:54:45.086Z"
   },
   {
    "duration": 29,
    "start_time": "2021-12-16T12:54:45.109Z"
   },
   {
    "duration": 40,
    "start_time": "2021-12-16T12:54:45.141Z"
   },
   {
    "duration": 18,
    "start_time": "2021-12-16T12:54:45.184Z"
   },
   {
    "duration": 33,
    "start_time": "2021-12-16T12:54:45.205Z"
   },
   {
    "duration": 36,
    "start_time": "2021-12-16T12:54:45.241Z"
   },
   {
    "duration": 25,
    "start_time": "2021-12-16T12:54:45.279Z"
   },
   {
    "duration": 51,
    "start_time": "2021-12-16T12:54:45.306Z"
   },
   {
    "duration": 49,
    "start_time": "2021-12-16T12:54:45.359Z"
   },
   {
    "duration": 21,
    "start_time": "2021-12-16T12:54:45.410Z"
   },
   {
    "duration": 6,
    "start_time": "2021-12-16T13:10:57.733Z"
   },
   {
    "duration": 6218,
    "start_time": "2021-12-16T13:20:39.891Z"
   },
   {
    "duration": 5130,
    "start_time": "2021-12-16T13:21:53.664Z"
   },
   {
    "duration": 12,
    "start_time": "2021-12-16T13:23:17.170Z"
   },
   {
    "duration": 6,
    "start_time": "2021-12-16T13:31:26.198Z"
   },
   {
    "duration": 5226,
    "start_time": "2021-12-16T13:31:28.003Z"
   },
   {
    "duration": 14,
    "start_time": "2021-12-16T13:31:34.699Z"
   },
   {
    "duration": 80,
    "start_time": "2021-12-16T15:10:37.779Z"
   },
   {
    "duration": 5,
    "start_time": "2021-12-16T15:14:11.938Z"
   },
   {
    "duration": 5,
    "start_time": "2021-12-16T15:14:15.789Z"
   },
   {
    "duration": 13,
    "start_time": "2021-12-16T15:14:38.878Z"
   },
   {
    "duration": 14,
    "start_time": "2021-12-16T15:14:57.572Z"
   },
   {
    "duration": 4,
    "start_time": "2021-12-16T15:16:48.767Z"
   },
   {
    "duration": 4,
    "start_time": "2021-12-16T15:17:48.426Z"
   },
   {
    "duration": 11,
    "start_time": "2021-12-16T15:18:13.800Z"
   },
   {
    "duration": 10,
    "start_time": "2021-12-16T15:18:34.721Z"
   },
   {
    "duration": 44,
    "start_time": "2021-12-16T15:30:50.339Z"
   },
   {
    "duration": 28,
    "start_time": "2021-12-16T15:30:51.318Z"
   },
   {
    "duration": 27,
    "start_time": "2021-12-16T15:31:15.698Z"
   },
   {
    "duration": 32,
    "start_time": "2021-12-16T15:31:16.706Z"
   },
   {
    "duration": 27,
    "start_time": "2021-12-16T15:31:17.301Z"
   },
   {
    "duration": 10,
    "start_time": "2021-12-16T15:32:00.128Z"
   },
   {
    "duration": 7,
    "start_time": "2021-12-16T15:32:57.573Z"
   },
   {
    "duration": 5,
    "start_time": "2021-12-16T15:33:12.537Z"
   },
   {
    "duration": 6,
    "start_time": "2021-12-16T15:33:23.472Z"
   },
   {
    "duration": 5261,
    "start_time": "2021-12-16T15:33:26.536Z"
   },
   {
    "duration": 12,
    "start_time": "2021-12-16T15:33:31.800Z"
   },
   {
    "duration": 11,
    "start_time": "2021-12-16T15:34:56.617Z"
   },
   {
    "duration": 5347,
    "start_time": "2021-12-16T15:35:07.310Z"
   },
   {
    "duration": 26,
    "start_time": "2021-12-16T15:35:12.660Z"
   },
   {
    "duration": 8,
    "start_time": "2021-12-16T15:36:12.895Z"
   },
   {
    "duration": 15,
    "start_time": "2021-12-16T15:36:25.972Z"
   },
   {
    "duration": 4,
    "start_time": "2021-12-16T15:37:07.986Z"
   },
   {
    "duration": 4,
    "start_time": "2021-12-16T15:37:19.904Z"
   },
   {
    "duration": 14,
    "start_time": "2021-12-16T15:37:29.679Z"
   },
   {
    "duration": 11,
    "start_time": "2021-12-16T15:37:35.600Z"
   },
   {
    "duration": 5,
    "start_time": "2021-12-16T15:37:58.283Z"
   },
   {
    "duration": 17,
    "start_time": "2021-12-16T15:38:00.284Z"
   },
   {
    "duration": 10,
    "start_time": "2021-12-16T15:38:01.012Z"
   },
   {
    "duration": 4,
    "start_time": "2021-12-16T15:38:10.203Z"
   },
   {
    "duration": 13,
    "start_time": "2021-12-16T15:38:10.835Z"
   },
   {
    "duration": 10,
    "start_time": "2021-12-16T15:38:11.810Z"
   },
   {
    "duration": 5,
    "start_time": "2021-12-16T15:39:56.560Z"
   },
   {
    "duration": 5,
    "start_time": "2021-12-16T15:40:15.303Z"
   },
   {
    "duration": 12,
    "start_time": "2021-12-16T15:40:16.350Z"
   },
   {
    "duration": 10,
    "start_time": "2021-12-16T15:40:16.647Z"
   },
   {
    "duration": 5,
    "start_time": "2021-12-16T15:40:17.880Z"
   },
   {
    "duration": 11,
    "start_time": "2021-12-16T15:40:26.343Z"
   },
   {
    "duration": 10,
    "start_time": "2021-12-16T15:40:28.184Z"
   },
   {
    "duration": 10,
    "start_time": "2021-12-16T15:40:37.392Z"
   },
   {
    "duration": 4,
    "start_time": "2021-12-16T15:42:02.494Z"
   },
   {
    "duration": 517,
    "start_time": "2021-12-17T16:17:34.869Z"
   },
   {
    "duration": 1612,
    "start_time": "2021-12-17T16:17:42.614Z"
   },
   {
    "duration": 83,
    "start_time": "2021-12-17T16:17:44.229Z"
   },
   {
    "duration": 18,
    "start_time": "2021-12-17T16:17:44.315Z"
   },
   {
    "duration": 37,
    "start_time": "2021-12-17T16:17:44.336Z"
   },
   {
    "duration": 14,
    "start_time": "2021-12-17T16:17:44.377Z"
   },
   {
    "duration": 10,
    "start_time": "2021-12-17T16:17:44.394Z"
   },
   {
    "duration": 5,
    "start_time": "2021-12-17T16:17:44.406Z"
   },
   {
    "duration": 51,
    "start_time": "2021-12-17T16:17:44.413Z"
   },
   {
    "duration": 46,
    "start_time": "2021-12-17T16:17:44.470Z"
   },
   {
    "duration": 10,
    "start_time": "2021-12-17T16:17:44.520Z"
   },
   {
    "duration": 29,
    "start_time": "2021-12-17T16:17:44.564Z"
   },
   {
    "duration": 7,
    "start_time": "2021-12-17T16:17:44.596Z"
   },
   {
    "duration": 13,
    "start_time": "2021-12-17T16:17:44.605Z"
   },
   {
    "duration": 21,
    "start_time": "2021-12-17T16:17:44.664Z"
   },
   {
    "duration": 26,
    "start_time": "2021-12-17T16:17:44.689Z"
   },
   {
    "duration": 52,
    "start_time": "2021-12-17T16:17:44.718Z"
   },
   {
    "duration": 23,
    "start_time": "2021-12-17T16:17:44.772Z"
   },
   {
    "duration": 6,
    "start_time": "2021-12-17T16:17:44.797Z"
   },
   {
    "duration": 7,
    "start_time": "2021-12-17T16:17:44.805Z"
   },
   {
    "duration": 6,
    "start_time": "2021-12-17T16:17:44.814Z"
   },
   {
    "duration": 44,
    "start_time": "2021-12-17T16:17:44.823Z"
   },
   {
    "duration": 8,
    "start_time": "2021-12-17T16:17:44.870Z"
   },
   {
    "duration": 17,
    "start_time": "2021-12-17T16:17:44.880Z"
   },
   {
    "duration": 7,
    "start_time": "2021-12-17T16:17:44.899Z"
   },
   {
    "duration": 5,
    "start_time": "2021-12-17T16:17:44.908Z"
   },
   {
    "duration": 8,
    "start_time": "2021-12-17T16:17:44.963Z"
   },
   {
    "duration": 6,
    "start_time": "2021-12-17T16:17:44.976Z"
   },
   {
    "duration": 14,
    "start_time": "2021-12-17T16:17:44.986Z"
   },
   {
    "duration": 13,
    "start_time": "2021-12-17T16:17:45.003Z"
   },
   {
    "duration": 46,
    "start_time": "2021-12-17T16:17:45.018Z"
   },
   {
    "duration": 31,
    "start_time": "2021-12-17T16:17:45.067Z"
   },
   {
    "duration": 26,
    "start_time": "2021-12-17T16:17:45.100Z"
   },
   {
    "duration": 50,
    "start_time": "2021-12-17T16:17:45.128Z"
   },
   {
    "duration": 9,
    "start_time": "2021-12-17T16:17:45.180Z"
   },
   {
    "duration": 5,
    "start_time": "2021-12-17T16:17:45.192Z"
   },
   {
    "duration": 6108,
    "start_time": "2021-12-17T16:17:45.200Z"
   },
   {
    "duration": 10,
    "start_time": "2021-12-17T16:17:51.311Z"
   },
   {
    "duration": 5,
    "start_time": "2021-12-17T16:17:51.323Z"
   },
   {
    "duration": 13,
    "start_time": "2021-12-17T16:17:51.330Z"
   },
   {
    "duration": 11,
    "start_time": "2021-12-17T16:17:51.363Z"
   },
   {
    "duration": 17,
    "start_time": "2021-12-17T16:17:51.376Z"
   },
   {
    "duration": 21,
    "start_time": "2021-12-17T16:17:51.395Z"
   },
   {
    "duration": 12,
    "start_time": "2021-12-17T16:17:51.418Z"
   },
   {
    "duration": 49,
    "start_time": "2021-12-17T16:17:52.155Z"
   },
   {
    "duration": 256,
    "start_time": "2021-12-17T16:18:55.923Z"
   },
   {
    "duration": 33,
    "start_time": "2021-12-17T16:20:47.097Z"
   },
   {
    "duration": 33,
    "start_time": "2021-12-17T16:20:52.256Z"
   },
   {
    "duration": 35,
    "start_time": "2021-12-17T16:21:06.453Z"
   },
   {
    "duration": 35,
    "start_time": "2021-12-17T16:21:18.839Z"
   },
   {
    "duration": 36,
    "start_time": "2021-12-17T16:21:37.673Z"
   },
   {
    "duration": 237,
    "start_time": "2021-12-17T16:22:04.047Z"
   },
   {
    "duration": 6657,
    "start_time": "2021-12-17T16:32:24.839Z"
   },
   {
    "duration": 38,
    "start_time": "2021-12-17T16:33:55.143Z"
   },
   {
    "duration": 228,
    "start_time": "2021-12-17T16:33:55.785Z"
   },
   {
    "duration": 39,
    "start_time": "2021-12-17T16:51:49.592Z"
   },
   {
    "duration": 232,
    "start_time": "2021-12-17T16:51:52.946Z"
   },
   {
    "duration": 240,
    "start_time": "2021-12-17T16:52:30.996Z"
   },
   {
    "duration": 243,
    "start_time": "2021-12-17T17:16:50.422Z"
   },
   {
    "duration": 315,
    "start_time": "2021-12-17T17:17:01.276Z"
   },
   {
    "duration": 42,
    "start_time": "2021-12-17T17:20:44.654Z"
   },
   {
    "duration": 42,
    "start_time": "2021-12-17T17:20:52.556Z"
   },
   {
    "duration": 42,
    "start_time": "2021-12-17T17:21:11.827Z"
   },
   {
    "duration": 22,
    "start_time": "2021-12-17T17:21:26.337Z"
   },
   {
    "duration": 32,
    "start_time": "2021-12-17T17:22:50.828Z"
   },
   {
    "duration": 100,
    "start_time": "2021-12-17T17:22:50.863Z"
   },
   {
    "duration": 18,
    "start_time": "2021-12-17T17:22:50.966Z"
   },
   {
    "duration": 15,
    "start_time": "2021-12-17T17:22:50.987Z"
   },
   {
    "duration": 63,
    "start_time": "2021-12-17T17:22:51.005Z"
   },
   {
    "duration": 10,
    "start_time": "2021-12-17T17:22:51.071Z"
   },
   {
    "duration": 4,
    "start_time": "2021-12-17T17:22:51.084Z"
   },
   {
    "duration": 14,
    "start_time": "2021-12-17T17:22:51.092Z"
   },
   {
    "duration": 87,
    "start_time": "2021-12-17T17:22:51.110Z"
   },
   {
    "duration": 8,
    "start_time": "2021-12-17T17:22:51.199Z"
   },
   {
    "duration": 20,
    "start_time": "2021-12-17T17:22:51.209Z"
   },
   {
    "duration": 7,
    "start_time": "2021-12-17T17:22:51.264Z"
   },
   {
    "duration": 12,
    "start_time": "2021-12-17T17:22:51.274Z"
   },
   {
    "duration": 21,
    "start_time": "2021-12-17T17:22:51.289Z"
   },
   {
    "duration": 69,
    "start_time": "2021-12-17T17:22:51.313Z"
   },
   {
    "duration": 18,
    "start_time": "2021-12-17T17:22:51.385Z"
   },
   {
    "duration": 22,
    "start_time": "2021-12-17T17:22:51.405Z"
   },
   {
    "duration": 7,
    "start_time": "2021-12-17T17:22:51.463Z"
   },
   {
    "duration": 8,
    "start_time": "2021-12-17T17:22:51.472Z"
   },
   {
    "duration": 6,
    "start_time": "2021-12-17T17:22:51.482Z"
   },
   {
    "duration": 6,
    "start_time": "2021-12-17T17:22:51.491Z"
   },
   {
    "duration": 71,
    "start_time": "2021-12-17T17:22:51.499Z"
   },
   {
    "duration": 18,
    "start_time": "2021-12-17T17:22:51.575Z"
   },
   {
    "duration": 8,
    "start_time": "2021-12-17T17:22:51.596Z"
   },
   {
    "duration": 6,
    "start_time": "2021-12-17T17:22:51.606Z"
   },
   {
    "duration": 53,
    "start_time": "2021-12-17T17:22:51.614Z"
   },
   {
    "duration": 8,
    "start_time": "2021-12-17T17:22:51.670Z"
   },
   {
    "duration": 13,
    "start_time": "2021-12-17T17:22:51.681Z"
   },
   {
    "duration": 5,
    "start_time": "2021-12-17T17:22:51.697Z"
   },
   {
    "duration": 7,
    "start_time": "2021-12-17T17:22:51.705Z"
   },
   {
    "duration": 25,
    "start_time": "2021-12-17T17:22:51.763Z"
   },
   {
    "duration": 26,
    "start_time": "2021-12-17T17:22:51.790Z"
   },
   {
    "duration": 55,
    "start_time": "2021-12-17T17:22:51.818Z"
   },
   {
    "duration": 10,
    "start_time": "2021-12-17T17:22:51.875Z"
   },
   {
    "duration": 9,
    "start_time": "2021-12-17T17:22:51.888Z"
   },
   {
    "duration": 6293,
    "start_time": "2021-12-17T17:22:51.899Z"
   },
   {
    "duration": 11,
    "start_time": "2021-12-17T17:22:58.195Z"
   },
   {
    "duration": 11,
    "start_time": "2021-12-17T17:22:58.208Z"
   },
   {
    "duration": 28,
    "start_time": "2021-12-17T17:22:58.221Z"
   },
   {
    "duration": 19,
    "start_time": "2021-12-17T17:22:58.252Z"
   },
   {
    "duration": 22,
    "start_time": "2021-12-17T17:22:58.273Z"
   },
   {
    "duration": 23,
    "start_time": "2021-12-17T17:22:58.297Z"
   },
   {
    "duration": 17,
    "start_time": "2021-12-17T17:22:58.323Z"
   },
   {
    "duration": 54,
    "start_time": "2021-12-17T17:22:58.343Z"
   },
   {
    "duration": 256,
    "start_time": "2021-12-17T17:22:58.400Z"
   },
   {
    "duration": 37,
    "start_time": "2021-12-17T17:22:58.662Z"
   },
   {
    "duration": 269,
    "start_time": "2021-12-17T17:22:58.701Z"
   },
   {
    "duration": 47,
    "start_time": "2021-12-17T17:23:03.314Z"
   },
   {
    "duration": 379,
    "start_time": "2021-12-17T17:23:04.855Z"
   },
   {
    "duration": 6605,
    "start_time": "2021-12-17T17:23:50.282Z"
   },
   {
    "duration": 414,
    "start_time": "2021-12-17T17:24:41.367Z"
   },
   {
    "duration": 299,
    "start_time": "2021-12-17T17:25:20.539Z"
   },
   {
    "duration": 35,
    "start_time": "2021-12-17T17:25:38.760Z"
   },
   {
    "duration": 283,
    "start_time": "2021-12-17T17:25:39.415Z"
   },
   {
    "duration": 33,
    "start_time": "2021-12-17T17:33:08.601Z"
   },
   {
    "duration": 89,
    "start_time": "2021-12-17T17:33:08.637Z"
   },
   {
    "duration": 52,
    "start_time": "2021-12-17T17:33:08.730Z"
   },
   {
    "duration": 29,
    "start_time": "2021-12-17T17:33:08.786Z"
   },
   {
    "duration": 48,
    "start_time": "2021-12-17T17:33:08.818Z"
   },
   {
    "duration": 14,
    "start_time": "2021-12-17T17:33:08.869Z"
   },
   {
    "duration": 10,
    "start_time": "2021-12-17T17:33:08.886Z"
   },
   {
    "duration": 33,
    "start_time": "2021-12-17T17:33:08.901Z"
   },
   {
    "duration": 60,
    "start_time": "2021-12-17T17:33:08.938Z"
   },
   {
    "duration": 8,
    "start_time": "2021-12-17T17:33:09.001Z"
   },
   {
    "duration": 48,
    "start_time": "2021-12-17T17:33:09.011Z"
   },
   {
    "duration": 20,
    "start_time": "2021-12-17T17:33:09.061Z"
   },
   {
    "duration": 17,
    "start_time": "2021-12-17T17:33:09.084Z"
   },
   {
    "duration": 37,
    "start_time": "2021-12-17T17:33:09.104Z"
   },
   {
    "duration": 37,
    "start_time": "2021-12-17T17:33:09.144Z"
   },
   {
    "duration": 25,
    "start_time": "2021-12-17T17:33:09.185Z"
   },
   {
    "duration": 24,
    "start_time": "2021-12-17T17:33:09.213Z"
   },
   {
    "duration": 24,
    "start_time": "2021-12-17T17:33:09.240Z"
   },
   {
    "duration": 22,
    "start_time": "2021-12-17T17:33:09.267Z"
   },
   {
    "duration": 18,
    "start_time": "2021-12-17T17:33:09.292Z"
   },
   {
    "duration": 26,
    "start_time": "2021-12-17T17:33:09.313Z"
   },
   {
    "duration": 15,
    "start_time": "2021-12-17T17:33:09.341Z"
   },
   {
    "duration": 37,
    "start_time": "2021-12-17T17:33:09.362Z"
   },
   {
    "duration": 19,
    "start_time": "2021-12-17T17:33:09.402Z"
   },
   {
    "duration": 25,
    "start_time": "2021-12-17T17:33:09.423Z"
   },
   {
    "duration": 30,
    "start_time": "2021-12-17T17:33:09.451Z"
   },
   {
    "duration": 34,
    "start_time": "2021-12-17T17:33:09.483Z"
   },
   {
    "duration": 20,
    "start_time": "2021-12-17T17:33:09.520Z"
   },
   {
    "duration": 20,
    "start_time": "2021-12-17T17:33:09.542Z"
   },
   {
    "duration": 18,
    "start_time": "2021-12-17T17:33:09.564Z"
   },
   {
    "duration": 43,
    "start_time": "2021-12-17T17:33:09.584Z"
   },
   {
    "duration": 26,
    "start_time": "2021-12-17T17:33:09.629Z"
   },
   {
    "duration": 21,
    "start_time": "2021-12-17T17:33:09.658Z"
   },
   {
    "duration": 10,
    "start_time": "2021-12-17T17:33:09.682Z"
   },
   {
    "duration": 23,
    "start_time": "2021-12-17T17:33:09.695Z"
   },
   {
    "duration": 6747,
    "start_time": "2021-12-17T17:33:09.721Z"
   },
   {
    "duration": 11,
    "start_time": "2021-12-17T17:33:16.471Z"
   },
   {
    "duration": 8,
    "start_time": "2021-12-17T17:33:16.484Z"
   },
   {
    "duration": 17,
    "start_time": "2021-12-17T17:33:16.494Z"
   },
   {
    "duration": 9,
    "start_time": "2021-12-17T17:33:16.513Z"
   },
   {
    "duration": 4,
    "start_time": "2021-12-17T17:33:16.563Z"
   },
   {
    "duration": 12,
    "start_time": "2021-12-17T17:33:16.570Z"
   },
   {
    "duration": 10,
    "start_time": "2021-12-17T17:33:16.585Z"
   },
   {
    "duration": 82,
    "start_time": "2021-12-17T17:33:16.597Z"
   },
   {
    "duration": 256,
    "start_time": "2021-12-17T17:33:16.682Z"
   },
   {
    "duration": 51,
    "start_time": "2021-12-17T17:33:16.940Z"
   },
   {
    "duration": 266,
    "start_time": "2021-12-17T17:33:16.993Z"
   },
   {
    "duration": 32,
    "start_time": "2021-12-17T17:33:17.261Z"
   },
   {
    "duration": 506,
    "start_time": "2021-12-17T17:33:17.296Z"
   },
   {
    "duration": 32,
    "start_time": "2021-12-17T17:33:25.703Z"
   },
   {
    "duration": 478,
    "start_time": "2021-12-17T17:33:26.477Z"
   },
   {
    "duration": 5,
    "start_time": "2021-12-17T17:37:21.912Z"
   },
   {
    "duration": 35,
    "start_time": "2021-12-17T17:37:31.053Z"
   },
   {
    "duration": 100,
    "start_time": "2021-12-17T17:37:31.092Z"
   },
   {
    "duration": 20,
    "start_time": "2021-12-17T17:37:31.196Z"
   },
   {
    "duration": 56,
    "start_time": "2021-12-17T17:37:31.219Z"
   },
   {
    "duration": 13,
    "start_time": "2021-12-17T17:37:31.286Z"
   },
   {
    "duration": 11,
    "start_time": "2021-12-17T17:37:31.302Z"
   },
   {
    "duration": 11,
    "start_time": "2021-12-17T17:37:31.315Z"
   },
   {
    "duration": 43,
    "start_time": "2021-12-17T17:37:31.330Z"
   },
   {
    "duration": 52,
    "start_time": "2021-12-17T17:37:31.376Z"
   },
   {
    "duration": 7,
    "start_time": "2021-12-17T17:37:31.430Z"
   },
   {
    "duration": 42,
    "start_time": "2021-12-17T17:37:31.440Z"
   },
   {
    "duration": 24,
    "start_time": "2021-12-17T17:37:31.485Z"
   },
   {
    "duration": 32,
    "start_time": "2021-12-17T17:37:31.512Z"
   },
   {
    "duration": 37,
    "start_time": "2021-12-17T17:37:31.547Z"
   },
   {
    "duration": 36,
    "start_time": "2021-12-17T17:37:31.586Z"
   },
   {
    "duration": 41,
    "start_time": "2021-12-17T17:37:31.625Z"
   },
   {
    "duration": 41,
    "start_time": "2021-12-17T17:37:31.669Z"
   },
   {
    "duration": 14,
    "start_time": "2021-12-17T17:37:31.713Z"
   },
   {
    "duration": 22,
    "start_time": "2021-12-17T17:37:31.730Z"
   },
   {
    "duration": 23,
    "start_time": "2021-12-17T17:37:31.755Z"
   },
   {
    "duration": 24,
    "start_time": "2021-12-17T17:37:31.780Z"
   },
   {
    "duration": 11,
    "start_time": "2021-12-17T17:37:31.806Z"
   },
   {
    "duration": 28,
    "start_time": "2021-12-17T17:37:31.822Z"
   },
   {
    "duration": 16,
    "start_time": "2021-12-17T17:37:31.854Z"
   },
   {
    "duration": 19,
    "start_time": "2021-12-17T17:37:31.873Z"
   },
   {
    "duration": 25,
    "start_time": "2021-12-17T17:37:31.895Z"
   },
   {
    "duration": 9,
    "start_time": "2021-12-17T17:37:31.923Z"
   },
   {
    "duration": 38,
    "start_time": "2021-12-17T17:37:31.935Z"
   },
   {
    "duration": 15,
    "start_time": "2021-12-17T17:37:31.975Z"
   },
   {
    "duration": 46,
    "start_time": "2021-12-17T17:37:31.992Z"
   },
   {
    "duration": 33,
    "start_time": "2021-12-17T17:37:32.041Z"
   },
   {
    "duration": 25,
    "start_time": "2021-12-17T17:37:32.076Z"
   },
   {
    "duration": 21,
    "start_time": "2021-12-17T17:37:32.103Z"
   },
   {
    "duration": 36,
    "start_time": "2021-12-17T17:37:32.127Z"
   },
   {
    "duration": 5,
    "start_time": "2021-12-17T17:37:32.165Z"
   },
   {
    "duration": 6262,
    "start_time": "2021-12-17T17:37:32.173Z"
   },
   {
    "duration": 11,
    "start_time": "2021-12-17T17:37:38.437Z"
   },
   {
    "duration": 5,
    "start_time": "2021-12-17T17:37:38.463Z"
   },
   {
    "duration": 20,
    "start_time": "2021-12-17T17:37:38.470Z"
   },
   {
    "duration": 9,
    "start_time": "2021-12-17T17:37:38.492Z"
   },
   {
    "duration": 10,
    "start_time": "2021-12-17T17:37:38.503Z"
   },
   {
    "duration": 18,
    "start_time": "2021-12-17T17:37:38.515Z"
   },
   {
    "duration": 35,
    "start_time": "2021-12-17T17:37:38.535Z"
   },
   {
    "duration": 46,
    "start_time": "2021-12-17T17:37:38.573Z"
   },
   {
    "duration": 259,
    "start_time": "2021-12-17T17:37:38.622Z"
   },
   {
    "duration": 35,
    "start_time": "2021-12-17T17:37:38.883Z"
   },
   {
    "duration": 271,
    "start_time": "2021-12-17T17:37:38.921Z"
   },
   {
    "duration": 45,
    "start_time": "2021-12-17T17:37:39.196Z"
   },
   {
    "duration": 408,
    "start_time": "2021-12-17T17:37:39.243Z"
   },
   {
    "duration": 446,
    "start_time": "2021-12-17T17:52:00.788Z"
   },
   {
    "duration": 35,
    "start_time": "2021-12-17T17:52:14.792Z"
   },
   {
    "duration": 217,
    "start_time": "2021-12-17T17:52:16.811Z"
   },
   {
    "duration": 84,
    "start_time": "2021-12-17T18:03:27.368Z"
   },
   {
    "duration": 33,
    "start_time": "2021-12-17T18:15:53.209Z"
   },
   {
    "duration": 80,
    "start_time": "2021-12-17T18:15:53.245Z"
   },
   {
    "duration": 36,
    "start_time": "2021-12-17T18:15:53.328Z"
   },
   {
    "duration": 19,
    "start_time": "2021-12-17T18:15:53.368Z"
   },
   {
    "duration": 15,
    "start_time": "2021-12-17T18:15:53.390Z"
   },
   {
    "duration": 55,
    "start_time": "2021-12-17T18:15:53.408Z"
   },
   {
    "duration": 5,
    "start_time": "2021-12-17T18:15:53.466Z"
   },
   {
    "duration": 27,
    "start_time": "2021-12-17T18:15:53.476Z"
   },
   {
    "duration": 92,
    "start_time": "2021-12-17T18:15:53.507Z"
   },
   {
    "duration": 9,
    "start_time": "2021-12-17T18:15:53.602Z"
   },
   {
    "duration": 20,
    "start_time": "2021-12-17T18:15:53.614Z"
   },
   {
    "duration": 7,
    "start_time": "2021-12-17T18:15:53.662Z"
   },
   {
    "duration": 10,
    "start_time": "2021-12-17T18:15:53.671Z"
   },
   {
    "duration": 21,
    "start_time": "2021-12-17T18:15:53.683Z"
   },
   {
    "duration": 64,
    "start_time": "2021-12-17T18:15:53.706Z"
   },
   {
    "duration": 16,
    "start_time": "2021-12-17T18:15:53.772Z"
   },
   {
    "duration": 21,
    "start_time": "2021-12-17T18:15:53.790Z"
   },
   {
    "duration": 50,
    "start_time": "2021-12-17T18:15:53.814Z"
   },
   {
    "duration": 8,
    "start_time": "2021-12-17T18:15:53.867Z"
   },
   {
    "duration": 8,
    "start_time": "2021-12-17T18:15:53.878Z"
   },
   {
    "duration": 10,
    "start_time": "2021-12-17T18:15:53.889Z"
   },
   {
    "duration": 8,
    "start_time": "2021-12-17T18:15:53.901Z"
   },
   {
    "duration": 65,
    "start_time": "2021-12-17T18:15:53.915Z"
   },
   {
    "duration": 8,
    "start_time": "2021-12-17T18:15:53.984Z"
   },
   {
    "duration": 5,
    "start_time": "2021-12-17T18:15:53.995Z"
   },
   {
    "duration": 7,
    "start_time": "2021-12-17T18:15:54.003Z"
   },
   {
    "duration": 50,
    "start_time": "2021-12-17T18:15:54.012Z"
   },
   {
    "duration": 12,
    "start_time": "2021-12-17T18:15:54.065Z"
   },
   {
    "duration": 6,
    "start_time": "2021-12-17T18:15:54.079Z"
   },
   {
    "duration": 8,
    "start_time": "2021-12-17T18:15:54.087Z"
   },
   {
    "duration": 22,
    "start_time": "2021-12-17T18:15:54.097Z"
   },
   {
    "duration": 67,
    "start_time": "2021-12-17T18:15:54.122Z"
   },
   {
    "duration": 23,
    "start_time": "2021-12-17T18:15:54.197Z"
   },
   {
    "duration": 11,
    "start_time": "2021-12-17T18:15:54.223Z"
   },
   {
    "duration": 5,
    "start_time": "2021-12-17T18:15:54.264Z"
   },
   {
    "duration": 6433,
    "start_time": "2021-12-17T18:15:54.272Z"
   },
   {
    "duration": 11,
    "start_time": "2021-12-17T18:16:00.708Z"
   },
   {
    "duration": 6,
    "start_time": "2021-12-17T18:16:00.721Z"
   },
   {
    "duration": 55,
    "start_time": "2021-12-17T18:16:00.729Z"
   },
   {
    "duration": 10,
    "start_time": "2021-12-17T18:16:00.787Z"
   },
   {
    "duration": 7,
    "start_time": "2021-12-17T18:16:00.799Z"
   },
   {
    "duration": 14,
    "start_time": "2021-12-17T18:16:00.809Z"
   },
   {
    "duration": 17,
    "start_time": "2021-12-17T18:16:00.826Z"
   },
   {
    "duration": 57,
    "start_time": "2021-12-17T18:16:00.845Z"
   },
   {
    "duration": 273,
    "start_time": "2021-12-17T18:16:00.905Z"
   },
   {
    "duration": 36,
    "start_time": "2021-12-17T18:16:01.181Z"
   },
   {
    "duration": 385,
    "start_time": "2021-12-17T18:16:01.220Z"
   },
   {
    "duration": 33,
    "start_time": "2021-12-17T18:16:01.608Z"
   },
   {
    "duration": 290,
    "start_time": "2021-12-17T18:16:01.643Z"
   },
   {
    "duration": 47,
    "start_time": "2021-12-17T18:16:01.936Z"
   },
   {
    "duration": 229,
    "start_time": "2021-12-17T18:16:01.986Z"
   },
   {
    "duration": 1111,
    "start_time": "2021-12-18T13:03:18.159Z"
   },
   {
    "duration": 58,
    "start_time": "2021-12-18T13:03:19.272Z"
   },
   {
    "duration": 9,
    "start_time": "2021-12-18T13:03:19.332Z"
   },
   {
    "duration": 12,
    "start_time": "2021-12-18T13:03:19.343Z"
   },
   {
    "duration": 9,
    "start_time": "2021-12-18T13:03:19.357Z"
   },
   {
    "duration": 24,
    "start_time": "2021-12-18T13:03:19.367Z"
   },
   {
    "duration": 3,
    "start_time": "2021-12-18T13:03:19.393Z"
   },
   {
    "duration": 10,
    "start_time": "2021-12-18T13:03:19.398Z"
   },
   {
    "duration": 26,
    "start_time": "2021-12-18T13:03:19.410Z"
   },
   {
    "duration": 5,
    "start_time": "2021-12-18T13:03:19.438Z"
   },
   {
    "duration": 15,
    "start_time": "2021-12-18T13:03:19.444Z"
   },
   {
    "duration": 28,
    "start_time": "2021-12-18T13:03:19.461Z"
   },
   {
    "duration": 8,
    "start_time": "2021-12-18T13:03:19.491Z"
   },
   {
    "duration": 12,
    "start_time": "2021-12-18T13:03:19.501Z"
   },
   {
    "duration": 12,
    "start_time": "2021-12-18T13:03:19.515Z"
   },
   {
    "duration": 13,
    "start_time": "2021-12-18T13:03:19.529Z"
   },
   {
    "duration": 45,
    "start_time": "2021-12-18T13:03:19.543Z"
   },
   {
    "duration": 5,
    "start_time": "2021-12-18T13:03:19.589Z"
   },
   {
    "duration": 9,
    "start_time": "2021-12-18T13:03:19.595Z"
   },
   {
    "duration": 5,
    "start_time": "2021-12-18T13:03:19.605Z"
   },
   {
    "duration": 5,
    "start_time": "2021-12-18T13:03:19.612Z"
   },
   {
    "duration": 6,
    "start_time": "2021-12-18T13:03:19.619Z"
   },
   {
    "duration": 12,
    "start_time": "2021-12-18T13:03:19.629Z"
   },
   {
    "duration": 3,
    "start_time": "2021-12-18T13:03:19.644Z"
   },
   {
    "duration": 42,
    "start_time": "2021-12-18T13:03:19.649Z"
   },
   {
    "duration": 11,
    "start_time": "2021-12-18T13:03:19.692Z"
   },
   {
    "duration": 11,
    "start_time": "2021-12-18T13:03:19.705Z"
   },
   {
    "duration": 10,
    "start_time": "2021-12-18T13:03:19.718Z"
   },
   {
    "duration": 7,
    "start_time": "2021-12-18T13:03:19.730Z"
   },
   {
    "duration": 11,
    "start_time": "2021-12-18T13:03:19.739Z"
   },
   {
    "duration": 17,
    "start_time": "2021-12-18T13:03:19.752Z"
   },
   {
    "duration": 24,
    "start_time": "2021-12-18T13:03:19.770Z"
   },
   {
    "duration": 13,
    "start_time": "2021-12-18T13:03:19.796Z"
   },
   {
    "duration": 6,
    "start_time": "2021-12-18T13:03:19.810Z"
   },
   {
    "duration": 5,
    "start_time": "2021-12-18T13:03:19.817Z"
   },
   {
    "duration": 3898,
    "start_time": "2021-12-18T13:03:19.823Z"
   },
   {
    "duration": 7,
    "start_time": "2021-12-18T13:03:23.723Z"
   },
   {
    "duration": 4,
    "start_time": "2021-12-18T13:03:23.732Z"
   },
   {
    "duration": 11,
    "start_time": "2021-12-18T13:03:23.737Z"
   },
   {
    "duration": 7,
    "start_time": "2021-12-18T13:03:23.749Z"
   },
   {
    "duration": 5,
    "start_time": "2021-12-18T13:03:23.757Z"
   },
   {
    "duration": 25,
    "start_time": "2021-12-18T13:03:23.763Z"
   },
   {
    "duration": 6,
    "start_time": "2021-12-18T13:03:23.789Z"
   },
   {
    "duration": 34,
    "start_time": "2021-12-18T13:03:23.796Z"
   },
   {
    "duration": 143,
    "start_time": "2021-12-18T13:03:23.832Z"
   },
   {
    "duration": 26,
    "start_time": "2021-12-18T13:03:23.977Z"
   },
   {
    "duration": 138,
    "start_time": "2021-12-18T13:03:24.004Z"
   },
   {
    "duration": 20,
    "start_time": "2021-12-18T13:03:24.143Z"
   },
   {
    "duration": 155,
    "start_time": "2021-12-18T13:03:24.164Z"
   },
   {
    "duration": 19,
    "start_time": "2021-12-18T13:03:24.320Z"
   },
   {
    "duration": 137,
    "start_time": "2021-12-18T13:03:24.340Z"
   },
   {
    "duration": 7,
    "start_time": "2021-12-18T13:11:33.065Z"
   },
   {
    "duration": 5,
    "start_time": "2021-12-18T13:12:31.104Z"
   },
   {
    "duration": 5,
    "start_time": "2021-12-18T13:12:41.964Z"
   },
   {
    "duration": 8,
    "start_time": "2021-12-18T13:13:12.616Z"
   },
   {
    "duration": 6,
    "start_time": "2021-12-18T13:13:21.485Z"
   },
   {
    "duration": 5,
    "start_time": "2021-12-18T13:13:23.944Z"
   },
   {
    "duration": 386,
    "start_time": "2021-12-18T13:13:31.146Z"
   },
   {
    "duration": 244,
    "start_time": "2021-12-18T13:13:33.178Z"
   },
   {
    "duration": 335,
    "start_time": "2021-12-18T13:13:40.928Z"
   },
   {
    "duration": 1504,
    "start_time": "2021-12-18T13:46:57.344Z"
   },
   {
    "duration": 83,
    "start_time": "2021-12-18T13:46:58.851Z"
   },
   {
    "duration": 31,
    "start_time": "2021-12-18T13:46:58.938Z"
   },
   {
    "duration": 17,
    "start_time": "2021-12-18T13:46:58.973Z"
   },
   {
    "duration": 14,
    "start_time": "2021-12-18T13:46:58.993Z"
   },
   {
    "duration": 56,
    "start_time": "2021-12-18T13:46:59.010Z"
   },
   {
    "duration": 4,
    "start_time": "2021-12-18T13:46:59.068Z"
   },
   {
    "duration": 13,
    "start_time": "2021-12-18T13:46:59.076Z"
   },
   {
    "duration": 42,
    "start_time": "2021-12-18T13:46:59.091Z"
   },
   {
    "duration": 9,
    "start_time": "2021-12-18T13:46:59.162Z"
   },
   {
    "duration": 21,
    "start_time": "2021-12-18T13:46:59.173Z"
   },
   {
    "duration": 8,
    "start_time": "2021-12-18T13:46:59.196Z"
   },
   {
    "duration": 58,
    "start_time": "2021-12-18T13:46:59.207Z"
   },
   {
    "duration": 30,
    "start_time": "2021-12-18T13:46:59.268Z"
   },
   {
    "duration": 29,
    "start_time": "2021-12-18T13:46:59.301Z"
   },
   {
    "duration": 14,
    "start_time": "2021-12-18T13:47:02.695Z"
   },
   {
    "duration": 7,
    "start_time": "2021-12-18T13:47:28.919Z"
   },
   {
    "duration": 6,
    "start_time": "2021-12-18T13:48:13.404Z"
   },
   {
    "duration": 132,
    "start_time": "2021-12-18T13:48:13.413Z"
   },
   {
    "duration": 42,
    "start_time": "2021-12-18T13:48:13.565Z"
   },
   {
    "duration": 25,
    "start_time": "2021-12-18T13:48:13.611Z"
   },
   {
    "duration": 35,
    "start_time": "2021-12-18T13:48:13.640Z"
   },
   {
    "duration": 21,
    "start_time": "2021-12-18T13:48:13.679Z"
   },
   {
    "duration": 17,
    "start_time": "2021-12-18T13:48:13.704Z"
   },
   {
    "duration": 29,
    "start_time": "2021-12-18T13:48:13.725Z"
   },
   {
    "duration": 51,
    "start_time": "2021-12-18T13:48:13.757Z"
   },
   {
    "duration": 7,
    "start_time": "2021-12-18T13:48:13.811Z"
   },
   {
    "duration": 37,
    "start_time": "2021-12-18T13:48:13.821Z"
   },
   {
    "duration": 14,
    "start_time": "2021-12-18T13:48:13.861Z"
   },
   {
    "duration": 23,
    "start_time": "2021-12-18T13:48:13.877Z"
   },
   {
    "duration": 44,
    "start_time": "2021-12-18T13:48:13.902Z"
   },
   {
    "duration": 40,
    "start_time": "2021-12-18T13:48:13.949Z"
   },
   {
    "duration": 16,
    "start_time": "2021-12-18T13:48:13.992Z"
   },
   {
    "duration": 29,
    "start_time": "2021-12-18T13:48:14.011Z"
   },
   {
    "duration": 6,
    "start_time": "2021-12-18T13:48:14.042Z"
   },
   {
    "duration": 7,
    "start_time": "2021-12-18T13:48:14.063Z"
   },
   {
    "duration": 6,
    "start_time": "2021-12-18T13:48:14.073Z"
   },
   {
    "duration": 8,
    "start_time": "2021-12-18T13:48:14.081Z"
   },
   {
    "duration": 8,
    "start_time": "2021-12-18T13:48:14.092Z"
   },
   {
    "duration": 66,
    "start_time": "2021-12-18T13:48:14.103Z"
   },
   {
    "duration": 10,
    "start_time": "2021-12-18T13:48:14.172Z"
   },
   {
    "duration": 12,
    "start_time": "2021-12-18T13:48:14.185Z"
   },
   {
    "duration": 8,
    "start_time": "2021-12-18T13:48:14.200Z"
   },
   {
    "duration": 7,
    "start_time": "2021-12-18T13:48:19.308Z"
   },
   {
    "duration": 4,
    "start_time": "2021-12-18T13:59:55.361Z"
   },
   {
    "duration": 94,
    "start_time": "2021-12-18T13:59:55.368Z"
   },
   {
    "duration": 21,
    "start_time": "2021-12-18T13:59:55.466Z"
   },
   {
    "duration": 18,
    "start_time": "2021-12-18T13:59:55.490Z"
   },
   {
    "duration": 53,
    "start_time": "2021-12-18T13:59:55.511Z"
   },
   {
    "duration": 10,
    "start_time": "2021-12-18T13:59:55.567Z"
   },
   {
    "duration": 4,
    "start_time": "2021-12-18T13:59:55.580Z"
   },
   {
    "duration": 15,
    "start_time": "2021-12-18T13:59:55.587Z"
   },
   {
    "duration": 87,
    "start_time": "2021-12-18T13:59:55.604Z"
   },
   {
    "duration": 8,
    "start_time": "2021-12-18T13:59:55.694Z"
   },
   {
    "duration": 24,
    "start_time": "2021-12-18T13:59:55.706Z"
   },
   {
    "duration": 6,
    "start_time": "2021-12-18T13:59:55.764Z"
   },
   {
    "duration": 9,
    "start_time": "2021-12-18T13:59:55.773Z"
   },
   {
    "duration": 21,
    "start_time": "2021-12-18T13:59:55.784Z"
   },
   {
    "duration": 73,
    "start_time": "2021-12-18T13:59:55.808Z"
   },
   {
    "duration": 18,
    "start_time": "2021-12-18T13:59:55.884Z"
   },
   {
    "duration": 23,
    "start_time": "2021-12-18T13:59:55.905Z"
   },
   {
    "duration": 35,
    "start_time": "2021-12-18T13:59:55.931Z"
   },
   {
    "duration": 7,
    "start_time": "2021-12-18T13:59:55.972Z"
   },
   {
    "duration": 5,
    "start_time": "2021-12-18T13:59:55.982Z"
   },
   {
    "duration": 9,
    "start_time": "2021-12-18T13:59:55.990Z"
   },
   {
    "duration": 8,
    "start_time": "2021-12-18T13:59:56.002Z"
   },
   {
    "duration": 18,
    "start_time": "2021-12-18T13:59:56.063Z"
   },
   {
    "duration": 7,
    "start_time": "2021-12-18T13:59:56.084Z"
   },
   {
    "duration": 5,
    "start_time": "2021-12-18T13:59:56.094Z"
   },
   {
    "duration": 10,
    "start_time": "2021-12-18T13:59:56.102Z"
   },
   {
    "duration": 7,
    "start_time": "2021-12-18T13:59:56.162Z"
   },
   {
    "duration": 18,
    "start_time": "2021-12-18T13:59:56.172Z"
   },
   {
    "duration": 11,
    "start_time": "2021-12-18T13:59:56.193Z"
   },
   {
    "duration": 14,
    "start_time": "2021-12-18T13:59:56.206Z"
   },
   {
    "duration": 55,
    "start_time": "2021-12-18T13:59:56.222Z"
   },
   {
    "duration": 28,
    "start_time": "2021-12-18T13:59:56.280Z"
   },
   {
    "duration": 24,
    "start_time": "2021-12-18T13:59:56.311Z"
   },
   {
    "duration": 12,
    "start_time": "2021-12-18T13:59:56.363Z"
   },
   {
    "duration": 5,
    "start_time": "2021-12-18T13:59:56.378Z"
   },
   {
    "duration": 6266,
    "start_time": "2021-12-18T13:59:56.386Z"
   },
   {
    "duration": 12,
    "start_time": "2021-12-18T14:00:02.663Z"
   },
   {
    "duration": 10,
    "start_time": "2021-12-18T14:00:02.677Z"
   },
   {
    "duration": 13,
    "start_time": "2021-12-18T14:00:02.690Z"
   },
   {
    "duration": 9,
    "start_time": "2021-12-18T14:00:02.706Z"
   },
   {
    "duration": 8,
    "start_time": "2021-12-18T14:00:02.718Z"
   },
   {
    "duration": 12,
    "start_time": "2021-12-18T14:00:02.762Z"
   },
   {
    "duration": 14,
    "start_time": "2021-12-18T14:00:02.776Z"
   },
   {
    "duration": 51,
    "start_time": "2021-12-18T14:00:02.792Z"
   },
   {
    "duration": 256,
    "start_time": "2021-12-18T14:00:02.864Z"
   },
   {
    "duration": 43,
    "start_time": "2021-12-18T14:00:03.123Z"
   },
   {
    "duration": 259,
    "start_time": "2021-12-18T14:00:03.169Z"
   },
   {
    "duration": 45,
    "start_time": "2021-12-18T14:00:03.430Z"
   },
   {
    "duration": 270,
    "start_time": "2021-12-18T14:00:03.477Z"
   },
   {
    "duration": 40,
    "start_time": "2021-12-18T14:00:03.749Z"
   },
   {
    "duration": 237,
    "start_time": "2021-12-18T14:00:03.791Z"
   },
   {
    "duration": 1437,
    "start_time": "2021-12-19T09:08:20.769Z"
   },
   {
    "duration": 80,
    "start_time": "2021-12-19T09:08:22.209Z"
   },
   {
    "duration": 25,
    "start_time": "2021-12-19T09:08:22.292Z"
   },
   {
    "duration": 26,
    "start_time": "2021-12-19T09:08:22.320Z"
   },
   {
    "duration": 27,
    "start_time": "2021-12-19T09:08:22.349Z"
   },
   {
    "duration": 10,
    "start_time": "2021-12-19T09:08:22.379Z"
   },
   {
    "duration": 8,
    "start_time": "2021-12-19T09:08:22.392Z"
   },
   {
    "duration": 16,
    "start_time": "2021-12-19T09:08:22.416Z"
   },
   {
    "duration": 42,
    "start_time": "2021-12-19T09:08:22.435Z"
   },
   {
    "duration": 39,
    "start_time": "2021-12-19T09:08:22.480Z"
   },
   {
    "duration": 21,
    "start_time": "2021-12-19T09:08:22.521Z"
   },
   {
    "duration": 10,
    "start_time": "2021-12-19T09:08:22.544Z"
   },
   {
    "duration": 11,
    "start_time": "2021-12-19T09:08:22.557Z"
   },
   {
    "duration": 64,
    "start_time": "2021-12-19T09:08:22.571Z"
   },
   {
    "duration": 22,
    "start_time": "2021-12-19T09:08:22.638Z"
   },
   {
    "duration": 14,
    "start_time": "2021-12-19T09:08:22.663Z"
   },
   {
    "duration": 57,
    "start_time": "2021-12-19T09:08:22.680Z"
   },
   {
    "duration": 8,
    "start_time": "2021-12-19T09:08:22.740Z"
   },
   {
    "duration": 9,
    "start_time": "2021-12-19T09:08:22.751Z"
   },
   {
    "duration": 7,
    "start_time": "2021-12-19T09:08:22.763Z"
   },
   {
    "duration": 7,
    "start_time": "2021-12-19T09:08:22.817Z"
   },
   {
    "duration": 31,
    "start_time": "2021-12-19T09:08:22.826Z"
   },
   {
    "duration": 18,
    "start_time": "2021-12-19T09:08:22.863Z"
   },
   {
    "duration": 24,
    "start_time": "2021-12-19T09:08:22.884Z"
   },
   {
    "duration": 5,
    "start_time": "2021-12-19T09:08:22.918Z"
   },
   {
    "duration": 18,
    "start_time": "2021-12-19T09:08:22.926Z"
   },
   {
    "duration": 9,
    "start_time": "2021-12-19T09:08:22.947Z"
   },
   {
    "duration": 19,
    "start_time": "2021-12-19T09:08:22.959Z"
   },
   {
    "duration": 14,
    "start_time": "2021-12-19T09:08:22.981Z"
   },
   {
    "duration": 19,
    "start_time": "2021-12-19T09:08:22.997Z"
   },
   {
    "duration": 22,
    "start_time": "2021-12-19T09:08:23.019Z"
   },
   {
    "duration": 25,
    "start_time": "2021-12-19T09:08:23.044Z"
   },
   {
    "duration": 51,
    "start_time": "2021-12-19T09:08:23.071Z"
   },
   {
    "duration": 12,
    "start_time": "2021-12-19T09:08:23.124Z"
   },
   {
    "duration": 5,
    "start_time": "2021-12-19T09:08:23.138Z"
   },
   {
    "duration": 5718,
    "start_time": "2021-12-19T09:08:23.145Z"
   },
   {
    "duration": 11,
    "start_time": "2021-12-19T09:08:28.865Z"
   },
   {
    "duration": 6,
    "start_time": "2021-12-19T09:08:28.879Z"
   },
   {
    "duration": 40,
    "start_time": "2021-12-19T09:08:28.888Z"
   },
   {
    "duration": 13,
    "start_time": "2021-12-19T09:08:28.930Z"
   },
   {
    "duration": 5,
    "start_time": "2021-12-19T09:08:28.946Z"
   },
   {
    "duration": 15,
    "start_time": "2021-12-19T09:08:28.953Z"
   },
   {
    "duration": 48,
    "start_time": "2021-12-19T09:08:28.970Z"
   },
   {
    "duration": 56,
    "start_time": "2021-12-19T09:08:29.021Z"
   },
   {
    "duration": 275,
    "start_time": "2021-12-19T09:08:29.079Z"
   },
   {
    "duration": 38,
    "start_time": "2021-12-19T09:08:29.356Z"
   },
   {
    "duration": 278,
    "start_time": "2021-12-19T09:08:29.396Z"
   },
   {
    "duration": 46,
    "start_time": "2021-12-19T09:08:29.676Z"
   },
   {
    "duration": 282,
    "start_time": "2021-12-19T09:08:29.725Z"
   },
   {
    "duration": 37,
    "start_time": "2021-12-19T09:08:30.009Z"
   },
   {
    "duration": 253,
    "start_time": "2021-12-19T09:08:30.048Z"
   }
  ],
  "kernelspec": {
   "display_name": "Python 3 (ipykernel)",
   "language": "python",
   "name": "python3"
  },
  "language_info": {
   "codemirror_mode": {
    "name": "ipython",
    "version": 3
   },
   "file_extension": ".py",
   "mimetype": "text/x-python",
   "name": "python",
   "nbconvert_exporter": "python",
   "pygments_lexer": "ipython3",
   "version": "3.7.8"
  },
  "toc": {
   "base_numbering": 1,
   "nav_menu": {},
   "number_sections": true,
   "sideBar": true,
   "skip_h1_title": true,
   "title_cell": "Содержание",
   "title_sidebar": "Содержание",
   "toc_cell": true,
   "toc_position": {
    "height": "calc(100% - 180px)",
    "left": "10px",
    "top": "150px",
    "width": "384px"
   },
   "toc_section_display": true,
   "toc_window_display": true
  }
 },
 "nbformat": 4,
 "nbformat_minor": 2
}
